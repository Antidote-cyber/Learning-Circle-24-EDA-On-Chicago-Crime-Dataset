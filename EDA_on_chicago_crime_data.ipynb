{
  "cells": [
    {
      "cell_type": "markdown",
      "id": "547ae1a6",
      "metadata": {
        "id": "547ae1a6"
      },
      "source": [
        "_LEARNING-CIRCLE-24 PROJECT_"
      ]
    },
    {
      "cell_type": "markdown",
      "id": "0dad4ee9",
      "metadata": {
        "id": "0dad4ee9"
      },
      "source": [
        "<h2> Learning-Circle-24 </h2> <p>  Contributors </p>\n",
        "\n"
      ]
    },
    {
      "cell_type": "markdown",
      "id": "ebc10ba9",
      "metadata": {
        "id": "ebc10ba9"
      },
      "source": [
        "# **Crime in Chicago**\n",
        "This is a dataset\n",
        "The data dictionary can be found in [Chicago Crime Portal](https://data.cityofchicago.org/Public-Safety/Crimes-2001-to-Present/ijzp-q8t2/about_data)\n",
        "\n",
        "In this notebook, we are going to explore more about crime in Chicago and try to answer few questions:\n",
        "\n",
        "How has crime in Chicago changed across years? What year was really the bloodiest year in two decades?\n",
        "Are some types of crimes more likely to happen in specific locations or specific time of the day or specific day of the week than other types of crimes?"
      ]
    },
    {
      "cell_type": "markdown",
      "id": "ad32ee5f",
      "metadata": {
        "id": "ad32ee5f"
      },
      "source": [
        "Analyzing the Chicago crime dataset involves examining various aspects of the data to understand patterns, trends, and characteristics of criminal activities in Chicago. We perform analysis using Python, pandas and visualization libraries using the following steps:\n",
        "\n",
        "1. Load the Dataset: Load the Chicago crime dataset into a DataFrame.\n",
        "2. Explore the Dataset: Examine the structure, columns, and basic statistics of the dataset.\n",
        "3. Data Cleaning: We dropped redundant columns and handle missing values.\n",
        "4. Feature Engineering: Create new column for Months, Day, Season\n",
        "5. EDA: Exploratory Data Analysis\n",
        "    - How has crime in Chicago changed across years? Was 2023 really the bloodiest year in two decades?\n",
        "    - Are some types of crimes more likely to happen in specific locations or specific time of the day or specific day of the         week than other types of crimes?\n",
        "    - In which month did the lowest motor vehicle thefts occur?\n",
        "    - How prominant are certain types of various crimes?\n",
        "    - How do rates of crime change of time? For instance, are there any seasonal effects or changes depending on the time of         day?\n",
        "    - Where do these crimes occur? Are some areas more safe than others?\n",
        "    -\n",
        "6. Frequency distribution of Crimes: show how the frequency of crime is distributed within Months, Days, Seasons.\n",
        "7. Visualize Data Distribution: Visualize the distribution of variables using histograms, box plots, or density plots.\n",
        "8. Investigate Relationships: Look for relationships between variables using scatter plots, correlation matrices, or pair plots\n",
        "9. Investigate Crime Types: Analyze the distribution of different types of crimes.\n",
        "10. Examine Crime Locations: Investigate the distribution of crimes across different locations.\n",
        "11. Identify Hotspots: Identify areas with high crime rates.\n",
        "12. Detect Seasonal Patterns: Look for seasonal patterns or variations in crime rates.\n",
        "13. Compare Crime Rates: Compare crime rates across different categories such as day of the week, time of day, and month.\n",
        "14. Summarize and Visualize Insights: Summarize and Visualize the key insights and findings from the analysis using plots and charts."
      ]
    },
    {
      "cell_type": "code",
      "execution_count": null,
      "id": "9a24d3c5",
      "metadata": {
        "ExecuteTime": {
          "end_time": "2024-03-22T20:17:47.650932Z",
          "start_time": "2024-03-22T20:17:13.936986Z"
        },
        "id": "9a24d3c5"
      },
      "outputs": [],
      "source": [
        "# importing required libraries\n",
        "import pandas as pd\n",
        "import seaborn as sns\n",
        "import plotly.express as px\n",
        "import matplotlib.pyplot as plt\n",
        "%matplotlib inline"
      ]
    },
    {
      "cell_type": "code",
      "execution_count": null,
      "id": "e33a0ba2",
      "metadata": {
        "ExecuteTime": {
          "end_time": "2024-03-22T20:17:50.340145Z",
          "start_time": "2024-03-22T20:17:50.331836Z"
        },
        "id": "e33a0ba2"
      },
      "outputs": [],
      "source": [
        "# Set display option\n",
        "pd.set_option('display.max.columns', None)"
      ]
    },
    {
      "cell_type": "markdown",
      "id": "282ac4ea",
      "metadata": {
        "ExecuteTime": {
          "end_time": "2024-03-02T06:10:29.749123Z",
          "start_time": "2024-03-02T06:10:29.698866Z"
        },
        "id": "282ac4ea"
      },
      "source": [
        "# 1. Loading the dataset"
      ]
    },
    {
      "cell_type": "code",
      "execution_count": null,
      "id": "baad012f",
      "metadata": {
        "ExecuteTime": {
          "end_time": "2024-03-22T20:18:14.246592Z",
          "start_time": "2024-03-22T20:17:51.509292Z"
        },
        "id": "baad012f"
      },
      "outputs": [],
      "source": [
        "# Load the dataset\n",
        "chicago_crime_df= pd.read_csv('../Data-Science-Projects/dataset/Crimes_-_2001_to_Present_20240323.csv')"
      ]
    },
    {
      "cell_type": "markdown",
      "id": "46015508",
      "metadata": {
        "id": "46015508"
      },
      "source": [
        "# 2. Explore the dataset"
      ]
    },
    {
      "cell_type": "code",
      "execution_count": null,
      "id": "40a1c122",
      "metadata": {
        "ExecuteTime": {
          "end_time": "2024-03-22T20:18:15.874446Z",
          "start_time": "2024-03-22T20:18:15.840884Z"
        },
        "id": "40a1c122",
        "outputId": "3f306b4b-2eb7-45fc-8da4-a6f2bf15703b"
      },
      "outputs": [
        {
          "data": {
            "text/plain": [
              "(2278726, 23)"
            ]
          },
          "execution_count": 4,
          "metadata": {},
          "output_type": "execute_result"
        }
      ],
      "source": [
        "#checking the dimension of the dataset\n",
        "chicago_crime_df.shape"
      ]
    },
    {
      "cell_type": "code",
      "execution_count": null,
      "id": "821a0eb5",
      "metadata": {
        "ExecuteTime": {
          "end_time": "2024-03-22T20:18:16.455812Z",
          "start_time": "2024-03-22T20:18:15.904040Z"
        },
        "id": "821a0eb5",
        "outputId": "49350b6c-98ab-4678-cb7e-efb62a0795b8"
      },
      "outputs": [
        {
          "data": {
            "text/plain": [
              "Index(['Unnamed: 0', 'ID', 'Case Number', 'Date', 'Block', 'IUCR',\n",
              "       'Primary Type', 'Description', 'Location Description', 'Arrest',\n",
              "       'Domestic', 'Beat', 'District', 'Ward', 'Community Area', 'FBI Code',\n",
              "       'X Coordinate', 'Y Coordinate', 'Year', 'Updated On', 'Latitude',\n",
              "       'Longitude', 'Location'],\n",
              "      dtype='object')"
            ]
          },
          "execution_count": 5,
          "metadata": {},
          "output_type": "execute_result"
        }
      ],
      "source": [
        "# Display the first five rows of the dataset\n",
        "chicago_crime_df.columns"
      ]
    },
    {
      "cell_type": "code",
      "execution_count": null,
      "id": "6492c4d3",
      "metadata": {
        "ExecuteTime": {
          "end_time": "2024-03-22T20:18:17.681761Z",
          "start_time": "2024-03-22T20:18:16.522408Z"
        },
        "id": "6492c4d3",
        "outputId": "14e87a5c-d45e-4f6e-e265-d4ae211e8607"
      },
      "outputs": [
        {
          "data": {
            "text/html": [
              "<div>\n",
              "<style scoped>\n",
              "    .dataframe tbody tr th:only-of-type {\n",
              "        vertical-align: middle;\n",
              "    }\n",
              "\n",
              "    .dataframe tbody tr th {\n",
              "        vertical-align: top;\n",
              "    }\n",
              "\n",
              "    .dataframe thead th {\n",
              "        text-align: right;\n",
              "    }\n",
              "</style>\n",
              "<table border=\"1\" class=\"dataframe\">\n",
              "  <thead>\n",
              "    <tr style=\"text-align: right;\">\n",
              "      <th></th>\n",
              "      <th>Unnamed: 0</th>\n",
              "      <th>ID</th>\n",
              "      <th>Case Number</th>\n",
              "      <th>Date</th>\n",
              "      <th>Block</th>\n",
              "      <th>IUCR</th>\n",
              "      <th>Primary Type</th>\n",
              "      <th>Description</th>\n",
              "      <th>Location Description</th>\n",
              "      <th>Arrest</th>\n",
              "      <th>Domestic</th>\n",
              "      <th>Beat</th>\n",
              "      <th>District</th>\n",
              "      <th>Ward</th>\n",
              "      <th>Community Area</th>\n",
              "      <th>FBI Code</th>\n",
              "      <th>X Coordinate</th>\n",
              "      <th>Y Coordinate</th>\n",
              "      <th>Year</th>\n",
              "      <th>Updated On</th>\n",
              "      <th>Latitude</th>\n",
              "      <th>Longitude</th>\n",
              "      <th>Location</th>\n",
              "    </tr>\n",
              "  </thead>\n",
              "  <tbody>\n",
              "    <tr>\n",
              "      <th>0</th>\n",
              "      <td>0</td>\n",
              "      <td>6407111</td>\n",
              "      <td>HP485721</td>\n",
              "      <td>07/26/2008 02:30:00 PM</td>\n",
              "      <td>085XX S MUSKEGON AVE</td>\n",
              "      <td>1320</td>\n",
              "      <td>CRIMINAL DAMAGE</td>\n",
              "      <td>TO VEHICLE</td>\n",
              "      <td>STREET</td>\n",
              "      <td>False</td>\n",
              "      <td>False</td>\n",
              "      <td>423</td>\n",
              "      <td>4.0</td>\n",
              "      <td>10.0</td>\n",
              "      <td>46.0</td>\n",
              "      <td>14</td>\n",
              "      <td>1196638.0</td>\n",
              "      <td>1848800.0</td>\n",
              "      <td>2008</td>\n",
              "      <td>02/28/2018 03:56:25 PM</td>\n",
              "      <td>41.739980</td>\n",
              "      <td>-87.555120</td>\n",
              "      <td>(41.739979622, -87.555120042)</td>\n",
              "    </tr>\n",
              "    <tr>\n",
              "      <th>1</th>\n",
              "      <td>1</td>\n",
              "      <td>11398199</td>\n",
              "      <td>JB372830</td>\n",
              "      <td>07/31/2018 10:57:00 AM</td>\n",
              "      <td>092XX S ELLIS AVE</td>\n",
              "      <td>143C</td>\n",
              "      <td>WEAPONS VIOLATION</td>\n",
              "      <td>UNLAWFUL POSS AMMUNITION</td>\n",
              "      <td>POOL ROOM</td>\n",
              "      <td>True</td>\n",
              "      <td>False</td>\n",
              "      <td>413</td>\n",
              "      <td>4.0</td>\n",
              "      <td>8.0</td>\n",
              "      <td>47.0</td>\n",
              "      <td>15</td>\n",
              "      <td>1184499.0</td>\n",
              "      <td>1843935.0</td>\n",
              "      <td>2018</td>\n",
              "      <td>08/07/2018 04:02:59 PM</td>\n",
              "      <td>41.726922</td>\n",
              "      <td>-87.599747</td>\n",
              "      <td>(41.726922145, -87.599746995)</td>\n",
              "    </tr>\n",
              "    <tr>\n",
              "      <th>2</th>\n",
              "      <td>2</td>\n",
              "      <td>5488785</td>\n",
              "      <td>HN308568</td>\n",
              "      <td>04/27/2007 10:30:00 AM</td>\n",
              "      <td>062XX N TRIPP AVE</td>\n",
              "      <td>0610</td>\n",
              "      <td>BURGLARY</td>\n",
              "      <td>FORCIBLE ENTRY</td>\n",
              "      <td>RESIDENCE</td>\n",
              "      <td>True</td>\n",
              "      <td>False</td>\n",
              "      <td>1711</td>\n",
              "      <td>17.0</td>\n",
              "      <td>39.0</td>\n",
              "      <td>12.0</td>\n",
              "      <td>05</td>\n",
              "      <td>1146911.0</td>\n",
              "      <td>1941022.0</td>\n",
              "      <td>2007</td>\n",
              "      <td>02/28/2018 03:56:25 PM</td>\n",
              "      <td>41.994138</td>\n",
              "      <td>-87.734959</td>\n",
              "      <td>(41.994137622, -87.734959049)</td>\n",
              "    </tr>\n",
              "    <tr>\n",
              "      <th>3</th>\n",
              "      <td>3</td>\n",
              "      <td>11389116</td>\n",
              "      <td>JB361368</td>\n",
              "      <td>07/23/2018 08:55:00 AM</td>\n",
              "      <td>0000X N KEELER AVE</td>\n",
              "      <td>0560</td>\n",
              "      <td>ASSAULT</td>\n",
              "      <td>SIMPLE</td>\n",
              "      <td>NURSING HOME/RETIREMENT HOME</td>\n",
              "      <td>False</td>\n",
              "      <td>False</td>\n",
              "      <td>1115</td>\n",
              "      <td>11.0</td>\n",
              "      <td>28.0</td>\n",
              "      <td>26.0</td>\n",
              "      <td>08A</td>\n",
              "      <td>1148388.0</td>\n",
              "      <td>1899882.0</td>\n",
              "      <td>2018</td>\n",
              "      <td>07/30/2018 03:52:24 PM</td>\n",
              "      <td>41.881217</td>\n",
              "      <td>-87.730590</td>\n",
              "      <td>(41.881217483, -87.730589961)</td>\n",
              "    </tr>\n",
              "    <tr>\n",
              "      <th>4</th>\n",
              "      <td>4</td>\n",
              "      <td>12420431</td>\n",
              "      <td>JE297624</td>\n",
              "      <td>07/11/2021 06:40:00 AM</td>\n",
              "      <td>016XX W HARRISON ST</td>\n",
              "      <td>051A</td>\n",
              "      <td>ASSAULT</td>\n",
              "      <td>AGGRAVATED - HANDGUN</td>\n",
              "      <td>PARKING LOT / GARAGE (NON RESIDENTIAL)</td>\n",
              "      <td>False</td>\n",
              "      <td>False</td>\n",
              "      <td>1231</td>\n",
              "      <td>12.0</td>\n",
              "      <td>27.0</td>\n",
              "      <td>28.0</td>\n",
              "      <td>04A</td>\n",
              "      <td>1165430.0</td>\n",
              "      <td>1897441.0</td>\n",
              "      <td>2021</td>\n",
              "      <td>07/18/2021 04:56:02 PM</td>\n",
              "      <td>41.874174</td>\n",
              "      <td>-87.668082</td>\n",
              "      <td>(41.874173691, -87.668082118)</td>\n",
              "    </tr>\n",
              "  </tbody>\n",
              "</table>\n",
              "</div>"
            ],
            "text/plain": [
              "   Unnamed: 0        ID Case Number                    Date  \\\n",
              "0           0   6407111    HP485721  07/26/2008 02:30:00 PM   \n",
              "1           1  11398199    JB372830  07/31/2018 10:57:00 AM   \n",
              "2           2   5488785    HN308568  04/27/2007 10:30:00 AM   \n",
              "3           3  11389116    JB361368  07/23/2018 08:55:00 AM   \n",
              "4           4  12420431    JE297624  07/11/2021 06:40:00 AM   \n",
              "\n",
              "                  Block  IUCR       Primary Type               Description  \\\n",
              "0  085XX S MUSKEGON AVE  1320    CRIMINAL DAMAGE                TO VEHICLE   \n",
              "1     092XX S ELLIS AVE  143C  WEAPONS VIOLATION  UNLAWFUL POSS AMMUNITION   \n",
              "2     062XX N TRIPP AVE  0610           BURGLARY            FORCIBLE ENTRY   \n",
              "3    0000X N KEELER AVE  0560            ASSAULT                    SIMPLE   \n",
              "4   016XX W HARRISON ST  051A            ASSAULT      AGGRAVATED - HANDGUN   \n",
              "\n",
              "                     Location Description  Arrest  Domestic  Beat  District  \\\n",
              "0                                  STREET   False     False   423       4.0   \n",
              "1                               POOL ROOM    True     False   413       4.0   \n",
              "2                               RESIDENCE    True     False  1711      17.0   \n",
              "3            NURSING HOME/RETIREMENT HOME   False     False  1115      11.0   \n",
              "4  PARKING LOT / GARAGE (NON RESIDENTIAL)   False     False  1231      12.0   \n",
              "\n",
              "   Ward  Community Area FBI Code  X Coordinate  Y Coordinate  Year  \\\n",
              "0  10.0            46.0       14     1196638.0     1848800.0  2008   \n",
              "1   8.0            47.0       15     1184499.0     1843935.0  2018   \n",
              "2  39.0            12.0       05     1146911.0     1941022.0  2007   \n",
              "3  28.0            26.0      08A     1148388.0     1899882.0  2018   \n",
              "4  27.0            28.0      04A     1165430.0     1897441.0  2021   \n",
              "\n",
              "               Updated On   Latitude  Longitude                       Location  \n",
              "0  02/28/2018 03:56:25 PM  41.739980 -87.555120  (41.739979622, -87.555120042)  \n",
              "1  08/07/2018 04:02:59 PM  41.726922 -87.599747  (41.726922145, -87.599746995)  \n",
              "2  02/28/2018 03:56:25 PM  41.994138 -87.734959  (41.994137622, -87.734959049)  \n",
              "3  07/30/2018 03:52:24 PM  41.881217 -87.730590  (41.881217483, -87.730589961)  \n",
              "4  07/18/2021 04:56:02 PM  41.874174 -87.668082  (41.874173691, -87.668082118)  "
            ]
          },
          "execution_count": 6,
          "metadata": {},
          "output_type": "execute_result"
        }
      ],
      "source": [
        "# check the first five observations\n",
        "chicago_crime_df.head()"
      ]
    },
    {
      "cell_type": "code",
      "execution_count": null,
      "id": "2b737764",
      "metadata": {
        "ExecuteTime": {
          "end_time": "2024-03-22T20:18:19.321396Z",
          "start_time": "2024-03-22T20:18:17.760099Z"
        },
        "id": "2b737764",
        "outputId": "fb8b12ec-2cbf-475a-887f-9b12ad55aefd"
      },
      "outputs": [
        {
          "name": "stdout",
          "output_type": "stream",
          "text": [
            "<class 'pandas.core.frame.DataFrame'>\n",
            "RangeIndex: 2278726 entries, 0 to 2278725\n",
            "Data columns (total 23 columns):\n",
            " #   Column                Dtype  \n",
            "---  ------                -----  \n",
            " 0   Unnamed: 0            int64  \n",
            " 1   ID                    int64  \n",
            " 2   Case Number           object \n",
            " 3   Date                  object \n",
            " 4   Block                 object \n",
            " 5   IUCR                  object \n",
            " 6   Primary Type          object \n",
            " 7   Description           object \n",
            " 8   Location Description  object \n",
            " 9   Arrest                bool   \n",
            " 10  Domestic              bool   \n",
            " 11  Beat                  int64  \n",
            " 12  District              float64\n",
            " 13  Ward                  float64\n",
            " 14  Community Area        float64\n",
            " 15  FBI Code              object \n",
            " 16  X Coordinate          float64\n",
            " 17  Y Coordinate          float64\n",
            " 18  Year                  int64  \n",
            " 19  Updated On            object \n",
            " 20  Latitude              float64\n",
            " 21  Longitude             float64\n",
            " 22  Location              object \n",
            "dtypes: bool(2), float64(7), int64(4), object(10)\n",
            "memory usage: 369.4+ MB\n"
          ]
        }
      ],
      "source": [
        " # Display column information and data types\n",
        "chicago_crime_df.info()"
      ]
    },
    {
      "cell_type": "code",
      "execution_count": null,
      "id": "b7d56818",
      "metadata": {
        "ExecuteTime": {
          "end_time": "2024-03-22T20:18:21.440159Z",
          "start_time": "2024-03-22T20:18:19.392555Z"
        },
        "id": "b7d56818",
        "outputId": "a124fa0f-13da-4269-af17-38a0de3085fc"
      },
      "outputs": [
        {
          "data": {
            "text/plain": [
              "Unnamed: 0                   0\n",
              "ID                           0\n",
              "Case Number                  1\n",
              "Date                         0\n",
              "Block                        0\n",
              "IUCR                         0\n",
              "Primary Type                 0\n",
              "Description                  0\n",
              "Location Description      2877\n",
              "Arrest                       0\n",
              "Domestic                     0\n",
              "Beat                         0\n",
              "District                    12\n",
              "Ward                    184695\n",
              "Community Area          184267\n",
              "FBI Code                     0\n",
              "X Coordinate             23985\n",
              "Y Coordinate             23985\n",
              "Year                         0\n",
              "Updated On                   0\n",
              "Latitude                 23985\n",
              "Longitude                23985\n",
              "Location                 23985\n",
              "dtype: int64"
            ]
          },
          "execution_count": 8,
          "metadata": {},
          "output_type": "execute_result"
        }
      ],
      "source": [
        "# checking missing value count\n",
        "chicago_crime_df.isnull().sum()"
      ]
    },
    {
      "cell_type": "code",
      "execution_count": null,
      "id": "d63b64b0",
      "metadata": {
        "ExecuteTime": {
          "end_time": "2024-03-22T20:18:23.158049Z",
          "start_time": "2024-03-22T20:18:21.476548Z"
        },
        "id": "d63b64b0",
        "outputId": "9dfc879a-b743-47cb-c89d-5a54d28a94c6"
      },
      "outputs": [
        {
          "data": {
            "text/html": [
              "<div>\n",
              "<style scoped>\n",
              "    .dataframe tbody tr th:only-of-type {\n",
              "        vertical-align: middle;\n",
              "    }\n",
              "\n",
              "    .dataframe tbody tr th {\n",
              "        vertical-align: top;\n",
              "    }\n",
              "\n",
              "    .dataframe thead th {\n",
              "        text-align: right;\n",
              "    }\n",
              "</style>\n",
              "<table border=\"1\" class=\"dataframe\">\n",
              "  <thead>\n",
              "    <tr style=\"text-align: right;\">\n",
              "      <th></th>\n",
              "      <th>Unnamed: 0</th>\n",
              "      <th>ID</th>\n",
              "      <th>Beat</th>\n",
              "      <th>District</th>\n",
              "      <th>Ward</th>\n",
              "      <th>Community Area</th>\n",
              "      <th>X Coordinate</th>\n",
              "      <th>Y Coordinate</th>\n",
              "      <th>Year</th>\n",
              "      <th>Latitude</th>\n",
              "      <th>Longitude</th>\n",
              "    </tr>\n",
              "  </thead>\n",
              "  <tbody>\n",
              "    <tr>\n",
              "      <th>count</th>\n",
              "      <td>2.278726e+06</td>\n",
              "      <td>2.278726e+06</td>\n",
              "      <td>2.278726e+06</td>\n",
              "      <td>2.278714e+06</td>\n",
              "      <td>2.094031e+06</td>\n",
              "      <td>2.094459e+06</td>\n",
              "      <td>2.254741e+06</td>\n",
              "      <td>2.254741e+06</td>\n",
              "      <td>2.278726e+06</td>\n",
              "      <td>2.254741e+06</td>\n",
              "      <td>2.254741e+06</td>\n",
              "    </tr>\n",
              "    <tr>\n",
              "      <th>mean</th>\n",
              "      <td>1.139362e+06</td>\n",
              "      <td>6.882068e+06</td>\n",
              "      <td>1.186442e+03</td>\n",
              "      <td>1.129072e+01</td>\n",
              "      <td>2.272764e+01</td>\n",
              "      <td>3.752140e+01</td>\n",
              "      <td>1.164569e+06</td>\n",
              "      <td>1.885747e+06</td>\n",
              "      <td>2.009638e+03</td>\n",
              "      <td>4.184209e+01</td>\n",
              "      <td>-8.767161e+01</td>\n",
              "    </tr>\n",
              "    <tr>\n",
              "      <th>std</th>\n",
              "      <td>6.578117e+05</td>\n",
              "      <td>3.419168e+06</td>\n",
              "      <td>7.026836e+02</td>\n",
              "      <td>6.946692e+00</td>\n",
              "      <td>1.383464e+01</td>\n",
              "      <td>2.153282e+01</td>\n",
              "      <td>1.673955e+04</td>\n",
              "      <td>3.209855e+04</td>\n",
              "      <td>6.019724e+00</td>\n",
              "      <td>8.830434e-02</td>\n",
              "      <td>6.073538e-02</td>\n",
              "    </tr>\n",
              "    <tr>\n",
              "      <th>min</th>\n",
              "      <td>0.000000e+00</td>\n",
              "      <td>6.370000e+02</td>\n",
              "      <td>1.110000e+02</td>\n",
              "      <td>1.000000e+00</td>\n",
              "      <td>1.000000e+00</td>\n",
              "      <td>0.000000e+00</td>\n",
              "      <td>0.000000e+00</td>\n",
              "      <td>0.000000e+00</td>\n",
              "      <td>2.001000e+03</td>\n",
              "      <td>3.661945e+01</td>\n",
              "      <td>-9.168657e+01</td>\n",
              "    </tr>\n",
              "    <tr>\n",
              "      <th>25%</th>\n",
              "      <td>5.696812e+05</td>\n",
              "      <td>3.716076e+06</td>\n",
              "      <td>6.210000e+02</td>\n",
              "      <td>6.000000e+00</td>\n",
              "      <td>1.000000e+01</td>\n",
              "      <td>2.300000e+01</td>\n",
              "      <td>1.152948e+06</td>\n",
              "      <td>1.859053e+06</td>\n",
              "      <td>2.004000e+03</td>\n",
              "      <td>4.176866e+01</td>\n",
              "      <td>-8.771379e+01</td>\n",
              "    </tr>\n",
              "    <tr>\n",
              "      <th>50%</th>\n",
              "      <td>1.139362e+06</td>\n",
              "      <td>6.885990e+06</td>\n",
              "      <td>1.034000e+03</td>\n",
              "      <td>1.000000e+01</td>\n",
              "      <td>2.300000e+01</td>\n",
              "      <td>3.200000e+01</td>\n",
              "      <td>1.166060e+06</td>\n",
              "      <td>1.890673e+06</td>\n",
              "      <td>2.009000e+03</td>\n",
              "      <td>4.185578e+01</td>\n",
              "      <td>-8.766597e+01</td>\n",
              "    </tr>\n",
              "    <tr>\n",
              "      <th>75%</th>\n",
              "      <td>1.709044e+06</td>\n",
              "      <td>9.887568e+06</td>\n",
              "      <td>1.731000e+03</td>\n",
              "      <td>1.700000e+01</td>\n",
              "      <td>3.400000e+01</td>\n",
              "      <td>5.700000e+01</td>\n",
              "      <td>1.176365e+06</td>\n",
              "      <td>1.909219e+06</td>\n",
              "      <td>2.014000e+03</td>\n",
              "      <td>4.190668e+01</td>\n",
              "      <td>-8.762823e+01</td>\n",
              "    </tr>\n",
              "    <tr>\n",
              "      <th>max</th>\n",
              "      <td>2.278725e+06</td>\n",
              "      <td>1.278199e+07</td>\n",
              "      <td>2.535000e+03</td>\n",
              "      <td>3.100000e+01</td>\n",
              "      <td>5.000000e+01</td>\n",
              "      <td>7.700000e+01</td>\n",
              "      <td>1.205119e+06</td>\n",
              "      <td>1.951622e+06</td>\n",
              "      <td>2.022000e+03</td>\n",
              "      <td>4.202291e+01</td>\n",
              "      <td>-8.752453e+01</td>\n",
              "    </tr>\n",
              "  </tbody>\n",
              "</table>\n",
              "</div>"
            ],
            "text/plain": [
              "         Unnamed: 0            ID          Beat      District          Ward  \\\n",
              "count  2.278726e+06  2.278726e+06  2.278726e+06  2.278714e+06  2.094031e+06   \n",
              "mean   1.139362e+06  6.882068e+06  1.186442e+03  1.129072e+01  2.272764e+01   \n",
              "std    6.578117e+05  3.419168e+06  7.026836e+02  6.946692e+00  1.383464e+01   \n",
              "min    0.000000e+00  6.370000e+02  1.110000e+02  1.000000e+00  1.000000e+00   \n",
              "25%    5.696812e+05  3.716076e+06  6.210000e+02  6.000000e+00  1.000000e+01   \n",
              "50%    1.139362e+06  6.885990e+06  1.034000e+03  1.000000e+01  2.300000e+01   \n",
              "75%    1.709044e+06  9.887568e+06  1.731000e+03  1.700000e+01  3.400000e+01   \n",
              "max    2.278725e+06  1.278199e+07  2.535000e+03  3.100000e+01  5.000000e+01   \n",
              "\n",
              "       Community Area  X Coordinate  Y Coordinate          Year      Latitude  \\\n",
              "count    2.094459e+06  2.254741e+06  2.254741e+06  2.278726e+06  2.254741e+06   \n",
              "mean     3.752140e+01  1.164569e+06  1.885747e+06  2.009638e+03  4.184209e+01   \n",
              "std      2.153282e+01  1.673955e+04  3.209855e+04  6.019724e+00  8.830434e-02   \n",
              "min      0.000000e+00  0.000000e+00  0.000000e+00  2.001000e+03  3.661945e+01   \n",
              "25%      2.300000e+01  1.152948e+06  1.859053e+06  2.004000e+03  4.176866e+01   \n",
              "50%      3.200000e+01  1.166060e+06  1.890673e+06  2.009000e+03  4.185578e+01   \n",
              "75%      5.700000e+01  1.176365e+06  1.909219e+06  2.014000e+03  4.190668e+01   \n",
              "max      7.700000e+01  1.205119e+06  1.951622e+06  2.022000e+03  4.202291e+01   \n",
              "\n",
              "          Longitude  \n",
              "count  2.254741e+06  \n",
              "mean  -8.767161e+01  \n",
              "std    6.073538e-02  \n",
              "min   -9.168657e+01  \n",
              "25%   -8.771379e+01  \n",
              "50%   -8.766597e+01  \n",
              "75%   -8.762823e+01  \n",
              "max   -8.752453e+01  "
            ]
          },
          "execution_count": 9,
          "metadata": {},
          "output_type": "execute_result"
        }
      ],
      "source": [
        "chicago_crime_df.describe()"
      ]
    },
    {
      "cell_type": "markdown",
      "id": "2bb19f83",
      "metadata": {
        "id": "2bb19f83"
      },
      "source": [
        "# 3. Data Preprocessing"
      ]
    },
    {
      "cell_type": "markdown",
      "id": "18cc107e",
      "metadata": {
        "id": "18cc107e"
      },
      "source": [
        "## Data Cleaning"
      ]
    },
    {
      "cell_type": "markdown",
      "id": "5793f507",
      "metadata": {
        "id": "5793f507"
      },
      "source": [
        "Here are some steps that we would carry out in this phase\n",
        "\n",
        "1. Convert data types to the appropriate formats\n",
        "2. Remove redundant or unnecessary columns\n",
        "3. Handle missing values\n",
        "\n",
        "__Reasons for dropping the below columns__\n",
        "- 'Unnamed: 0': Its just an index for individual row\n",
        "- 'ID': Serial identifier for the record which is redundant due to the presence of a case number for each case.\n",
        "- 'Location': This is where the incident occurred in a format that allows for creation of maps and other geographic operation. It's the combination of both latitude and longitude feature of this dataset thus, not required.\n",
        "- 'Updated On': Holds the date and time the record was last updated.Which is not required for our analysis.\n",
        "- 'X Coordinate': The x coordinate is a shifted location from the actual location for partial redaction but falls on the same block. Since we have a longitude/latitude and the block where the crime happened, we can neglect this feature.\n",
        "- 'Y Coordinate': The y coordinate is a shifted location from the actual location for partial redaction but falls on the same block. Since we have a longitude/latitude and the block where the crime happened, we can neglect this feature.\n",
        "- 'Community Area': This indicates the community area where the incident occurred. Which is not neccessary for our analysis.\n",
        "- 'IUCR': This is the Illinois Unifrom Crime Reporting code. This is directly linked to the Primary Type and Description, it provides information about the primary type and description of crime. Since primary type and description features already exist, it becomes a redundant column\n",
        "- Description: It's simply a subcategory of the primary type(which describes the type of crime committed). this can be omitted\n",
        "- Block: Since we have the latitude and longitude, this column is redundant.\n",
        "- Community Area: This is not needed in our analysis and the presence of a police Beat makes this redundant.\n",
        "- FBI Code: Removed because it is not necessary for our analysis as we are unable to de-code these codes."
      ]
    },
    {
      "cell_type": "markdown",
      "id": "bfeb84fa",
      "metadata": {
        "id": "bfeb84fa"
      },
      "source": [
        "__1. convert inappropriate data types to the correct one__"
      ]
    },
    {
      "cell_type": "code",
      "execution_count": null,
      "id": "b10541b6",
      "metadata": {
        "ExecuteTime": {
          "end_time": "2024-03-22T20:18:23.196946Z",
          "start_time": "2024-03-22T20:18:23.185911Z"
        },
        "id": "b10541b6"
      },
      "outputs": [],
      "source": [
        "# first we convert the date column to datetime data type.\n",
        "\n",
        "# chicago_crime_df['Date'] = pd.to_datetime(chicago_crime_df['Date'],format = \"%m/%d/%Y %I:%M:%S %p\")"
      ]
    },
    {
      "cell_type": "code",
      "execution_count": null,
      "id": "bfded967",
      "metadata": {
        "ExecuteTime": {
          "end_time": "2024-03-22T20:18:25.802154Z",
          "start_time": "2024-03-22T20:18:23.236782Z"
        },
        "id": "bfded967"
      },
      "outputs": [],
      "source": [
        "# convert the district column to a string; from the keynote, Chicago police has only 22 district and the data type is plain text\n",
        "\n",
        "chicago_crime_df['District'] = pd.Series(chicago_crime_df['District'], dtype='string')"
      ]
    },
    {
      "cell_type": "markdown",
      "id": "3d674611",
      "metadata": {
        "id": "3d674611"
      },
      "source": [
        "__2. Use a funtion to Drop redundant columns and/or columns that are not necessary for our analysis (a redundant column is one that gives infomation that another column already explains: eg ID and Case number)__"
      ]
    },
    {
      "cell_type": "code",
      "execution_count": null,
      "id": "cf7fd108",
      "metadata": {
        "ExecuteTime": {
          "end_time": "2024-03-22T20:18:25.910002Z",
          "start_time": "2024-03-22T20:18:25.886895Z"
        },
        "id": "cf7fd108",
        "outputId": "ebff6236-2c84-4aee-daa8-75008486f8ef"
      },
      "outputs": [
        {
          "data": {
            "text/plain": [
              "Index(['Unnamed: 0', 'ID', 'Case Number', 'Date', 'Block', 'IUCR',\n",
              "       'Primary Type', 'Description', 'Location Description', 'Arrest',\n",
              "       'Domestic', 'Beat', 'District', 'Ward', 'Community Area', 'FBI Code',\n",
              "       'X Coordinate', 'Y Coordinate', 'Year', 'Updated On', 'Latitude',\n",
              "       'Longitude', 'Location'],\n",
              "      dtype='object')"
            ]
          },
          "execution_count": 12,
          "metadata": {},
          "output_type": "execute_result"
        }
      ],
      "source": [
        "chicago_crime_df.columns"
      ]
    },
    {
      "cell_type": "code",
      "execution_count": null,
      "id": "7855cff3",
      "metadata": {
        "id": "7855cff3"
      },
      "outputs": [],
      "source": []
    },
    {
      "cell_type": "code",
      "execution_count": null,
      "id": "1fef58c2",
      "metadata": {
        "ExecuteTime": {
          "end_time": "2024-03-22T20:18:26.431716Z",
          "start_time": "2024-03-22T20:18:25.943258Z"
        },
        "id": "1fef58c2"
      },
      "outputs": [],
      "source": [
        "# Dropping redundant columns\n",
        "def drop_redundant_columns(df):\n",
        "    redundant_columns = ['Unnamed: 0','ID', 'Location','Updated On', 'FBI Code', 'Block', 'Description', 'X Coordinate','Y Coordinate','Community Area','IUCR']\n",
        "    df.drop(redundant_columns, axis=1, inplace= True)\n",
        "\n",
        "drop_redundant_columns(chicago_crime_df)"
      ]
    },
    {
      "cell_type": "code",
      "execution_count": null,
      "id": "d55a5457",
      "metadata": {
        "ExecuteTime": {
          "end_time": "2024-03-22T20:18:26.564132Z",
          "start_time": "2024-03-22T20:18:26.477466Z"
        },
        "id": "d55a5457",
        "outputId": "9c2667e8-5bde-4b21-ea57-6bb03a80dafc"
      },
      "outputs": [
        {
          "data": {
            "text/html": [
              "<div>\n",
              "<style scoped>\n",
              "    .dataframe tbody tr th:only-of-type {\n",
              "        vertical-align: middle;\n",
              "    }\n",
              "\n",
              "    .dataframe tbody tr th {\n",
              "        vertical-align: top;\n",
              "    }\n",
              "\n",
              "    .dataframe thead th {\n",
              "        text-align: right;\n",
              "    }\n",
              "</style>\n",
              "<table border=\"1\" class=\"dataframe\">\n",
              "  <thead>\n",
              "    <tr style=\"text-align: right;\">\n",
              "      <th></th>\n",
              "      <th>Case Number</th>\n",
              "      <th>Date</th>\n",
              "      <th>Primary Type</th>\n",
              "      <th>Location Description</th>\n",
              "      <th>Arrest</th>\n",
              "      <th>Domestic</th>\n",
              "      <th>Beat</th>\n",
              "      <th>District</th>\n",
              "      <th>Ward</th>\n",
              "      <th>Year</th>\n",
              "      <th>Latitude</th>\n",
              "      <th>Longitude</th>\n",
              "    </tr>\n",
              "  </thead>\n",
              "  <tbody>\n",
              "    <tr>\n",
              "      <th>0</th>\n",
              "      <td>HP485721</td>\n",
              "      <td>07/26/2008 02:30:00 PM</td>\n",
              "      <td>CRIMINAL DAMAGE</td>\n",
              "      <td>STREET</td>\n",
              "      <td>False</td>\n",
              "      <td>False</td>\n",
              "      <td>423</td>\n",
              "      <td>4.0</td>\n",
              "      <td>10.0</td>\n",
              "      <td>2008</td>\n",
              "      <td>41.739980</td>\n",
              "      <td>-87.555120</td>\n",
              "    </tr>\n",
              "    <tr>\n",
              "      <th>1</th>\n",
              "      <td>JB372830</td>\n",
              "      <td>07/31/2018 10:57:00 AM</td>\n",
              "      <td>WEAPONS VIOLATION</td>\n",
              "      <td>POOL ROOM</td>\n",
              "      <td>True</td>\n",
              "      <td>False</td>\n",
              "      <td>413</td>\n",
              "      <td>4.0</td>\n",
              "      <td>8.0</td>\n",
              "      <td>2018</td>\n",
              "      <td>41.726922</td>\n",
              "      <td>-87.599747</td>\n",
              "    </tr>\n",
              "    <tr>\n",
              "      <th>2</th>\n",
              "      <td>HN308568</td>\n",
              "      <td>04/27/2007 10:30:00 AM</td>\n",
              "      <td>BURGLARY</td>\n",
              "      <td>RESIDENCE</td>\n",
              "      <td>True</td>\n",
              "      <td>False</td>\n",
              "      <td>1711</td>\n",
              "      <td>17.0</td>\n",
              "      <td>39.0</td>\n",
              "      <td>2007</td>\n",
              "      <td>41.994138</td>\n",
              "      <td>-87.734959</td>\n",
              "    </tr>\n",
              "    <tr>\n",
              "      <th>3</th>\n",
              "      <td>JB361368</td>\n",
              "      <td>07/23/2018 08:55:00 AM</td>\n",
              "      <td>ASSAULT</td>\n",
              "      <td>NURSING HOME/RETIREMENT HOME</td>\n",
              "      <td>False</td>\n",
              "      <td>False</td>\n",
              "      <td>1115</td>\n",
              "      <td>11.0</td>\n",
              "      <td>28.0</td>\n",
              "      <td>2018</td>\n",
              "      <td>41.881217</td>\n",
              "      <td>-87.730590</td>\n",
              "    </tr>\n",
              "    <tr>\n",
              "      <th>4</th>\n",
              "      <td>JE297624</td>\n",
              "      <td>07/11/2021 06:40:00 AM</td>\n",
              "      <td>ASSAULT</td>\n",
              "      <td>PARKING LOT / GARAGE (NON RESIDENTIAL)</td>\n",
              "      <td>False</td>\n",
              "      <td>False</td>\n",
              "      <td>1231</td>\n",
              "      <td>12.0</td>\n",
              "      <td>27.0</td>\n",
              "      <td>2021</td>\n",
              "      <td>41.874174</td>\n",
              "      <td>-87.668082</td>\n",
              "    </tr>\n",
              "  </tbody>\n",
              "</table>\n",
              "</div>"
            ],
            "text/plain": [
              "  Case Number                    Date       Primary Type  \\\n",
              "0    HP485721  07/26/2008 02:30:00 PM    CRIMINAL DAMAGE   \n",
              "1    JB372830  07/31/2018 10:57:00 AM  WEAPONS VIOLATION   \n",
              "2    HN308568  04/27/2007 10:30:00 AM           BURGLARY   \n",
              "3    JB361368  07/23/2018 08:55:00 AM            ASSAULT   \n",
              "4    JE297624  07/11/2021 06:40:00 AM            ASSAULT   \n",
              "\n",
              "                     Location Description  Arrest  Domestic  Beat District  \\\n",
              "0                                  STREET   False     False   423      4.0   \n",
              "1                               POOL ROOM    True     False   413      4.0   \n",
              "2                               RESIDENCE    True     False  1711     17.0   \n",
              "3            NURSING HOME/RETIREMENT HOME   False     False  1115     11.0   \n",
              "4  PARKING LOT / GARAGE (NON RESIDENTIAL)   False     False  1231     12.0   \n",
              "\n",
              "   Ward  Year   Latitude  Longitude  \n",
              "0  10.0  2008  41.739980 -87.555120  \n",
              "1   8.0  2018  41.726922 -87.599747  \n",
              "2  39.0  2007  41.994138 -87.734959  \n",
              "3  28.0  2018  41.881217 -87.730590  \n",
              "4  27.0  2021  41.874174 -87.668082  "
            ]
          },
          "execution_count": 14,
          "metadata": {},
          "output_type": "execute_result"
        }
      ],
      "source": [
        "chicago_crime_df.head()"
      ]
    },
    {
      "cell_type": "code",
      "execution_count": null,
      "id": "835b87a8",
      "metadata": {
        "ExecuteTime": {
          "end_time": "2024-03-22T20:18:26.620032Z",
          "start_time": "2024-03-22T20:18:26.595886Z"
        },
        "id": "835b87a8",
        "outputId": "89816353-f484-4036-ef79-2ec8a218a0b8"
      },
      "outputs": [
        {
          "name": "stdout",
          "output_type": "stream",
          "text": [
            "<class 'pandas.core.frame.DataFrame'>\n",
            "RangeIndex: 2278726 entries, 0 to 2278725\n",
            "Data columns (total 12 columns):\n",
            " #   Column                Dtype  \n",
            "---  ------                -----  \n",
            " 0   Case Number           object \n",
            " 1   Date                  object \n",
            " 2   Primary Type          object \n",
            " 3   Location Description  object \n",
            " 4   Arrest                bool   \n",
            " 5   Domestic              bool   \n",
            " 6   Beat                  int64  \n",
            " 7   District              string \n",
            " 8   Ward                  float64\n",
            " 9   Year                  int64  \n",
            " 10  Latitude              float64\n",
            " 11  Longitude             float64\n",
            "dtypes: bool(2), float64(3), int64(2), object(4), string(1)\n",
            "memory usage: 178.2+ MB\n"
          ]
        }
      ],
      "source": [
        "chicago_crime_df.info()"
      ]
    },
    {
      "cell_type": "code",
      "execution_count": null,
      "id": "150b2940",
      "metadata": {
        "ExecuteTime": {
          "end_time": "2024-03-22T20:18:35.666444Z",
          "start_time": "2024-03-22T20:18:26.646730Z"
        },
        "id": "150b2940",
        "outputId": "c0dde322-b323-411e-92c5-e0b2878da904"
      },
      "outputs": [
        {
          "data": {
            "text/html": [
              "<div>\n",
              "<style scoped>\n",
              "    .dataframe tbody tr th:only-of-type {\n",
              "        vertical-align: middle;\n",
              "    }\n",
              "\n",
              "    .dataframe tbody tr th {\n",
              "        vertical-align: top;\n",
              "    }\n",
              "\n",
              "    .dataframe thead th {\n",
              "        text-align: right;\n",
              "    }\n",
              "</style>\n",
              "<table border=\"1\" class=\"dataframe\">\n",
              "  <thead>\n",
              "    <tr style=\"text-align: right;\">\n",
              "      <th></th>\n",
              "      <th>Case Number</th>\n",
              "      <th>Date</th>\n",
              "      <th>Primary Type</th>\n",
              "      <th>Location Description</th>\n",
              "      <th>Arrest</th>\n",
              "      <th>Domestic</th>\n",
              "      <th>Beat</th>\n",
              "      <th>District</th>\n",
              "      <th>Ward</th>\n",
              "      <th>Year</th>\n",
              "      <th>Latitude</th>\n",
              "      <th>Longitude</th>\n",
              "    </tr>\n",
              "  </thead>\n",
              "  <tbody>\n",
              "    <tr>\n",
              "      <th>count</th>\n",
              "      <td>2278725</td>\n",
              "      <td>2278726</td>\n",
              "      <td>2278726</td>\n",
              "      <td>2275849</td>\n",
              "      <td>2278726</td>\n",
              "      <td>2278726</td>\n",
              "      <td>2.278726e+06</td>\n",
              "      <td>2278714</td>\n",
              "      <td>2.094031e+06</td>\n",
              "      <td>2.278726e+06</td>\n",
              "      <td>2.254741e+06</td>\n",
              "      <td>2.254741e+06</td>\n",
              "    </tr>\n",
              "    <tr>\n",
              "      <th>unique</th>\n",
              "      <td>2278678</td>\n",
              "      <td>1343546</td>\n",
              "      <td>35</td>\n",
              "      <td>198</td>\n",
              "      <td>2</td>\n",
              "      <td>2</td>\n",
              "      <td>NaN</td>\n",
              "      <td>23</td>\n",
              "      <td>NaN</td>\n",
              "      <td>NaN</td>\n",
              "      <td>NaN</td>\n",
              "      <td>NaN</td>\n",
              "    </tr>\n",
              "    <tr>\n",
              "      <th>top</th>\n",
              "      <td>HK172551</td>\n",
              "      <td>01/01/2008 12:01:00 AM</td>\n",
              "      <td>THEFT</td>\n",
              "      <td>STREET</td>\n",
              "      <td>False</td>\n",
              "      <td>False</td>\n",
              "      <td>NaN</td>\n",
              "      <td>8.0</td>\n",
              "      <td>NaN</td>\n",
              "      <td>NaN</td>\n",
              "      <td>NaN</td>\n",
              "      <td>NaN</td>\n",
              "    </tr>\n",
              "    <tr>\n",
              "      <th>freq</th>\n",
              "      <td>3</td>\n",
              "      <td>81</td>\n",
              "      <td>479375</td>\n",
              "      <td>590957</td>\n",
              "      <td>1675252</td>\n",
              "      <td>1965311</td>\n",
              "      <td>NaN</td>\n",
              "      <td>153684</td>\n",
              "      <td>NaN</td>\n",
              "      <td>NaN</td>\n",
              "      <td>NaN</td>\n",
              "      <td>NaN</td>\n",
              "    </tr>\n",
              "    <tr>\n",
              "      <th>mean</th>\n",
              "      <td>NaN</td>\n",
              "      <td>NaN</td>\n",
              "      <td>NaN</td>\n",
              "      <td>NaN</td>\n",
              "      <td>NaN</td>\n",
              "      <td>NaN</td>\n",
              "      <td>1.186442e+03</td>\n",
              "      <td>NaN</td>\n",
              "      <td>2.272764e+01</td>\n",
              "      <td>2.009638e+03</td>\n",
              "      <td>4.184209e+01</td>\n",
              "      <td>-8.767161e+01</td>\n",
              "    </tr>\n",
              "    <tr>\n",
              "      <th>std</th>\n",
              "      <td>NaN</td>\n",
              "      <td>NaN</td>\n",
              "      <td>NaN</td>\n",
              "      <td>NaN</td>\n",
              "      <td>NaN</td>\n",
              "      <td>NaN</td>\n",
              "      <td>7.026836e+02</td>\n",
              "      <td>NaN</td>\n",
              "      <td>1.383464e+01</td>\n",
              "      <td>6.019724e+00</td>\n",
              "      <td>8.830434e-02</td>\n",
              "      <td>6.073538e-02</td>\n",
              "    </tr>\n",
              "    <tr>\n",
              "      <th>min</th>\n",
              "      <td>NaN</td>\n",
              "      <td>NaN</td>\n",
              "      <td>NaN</td>\n",
              "      <td>NaN</td>\n",
              "      <td>NaN</td>\n",
              "      <td>NaN</td>\n",
              "      <td>1.110000e+02</td>\n",
              "      <td>NaN</td>\n",
              "      <td>1.000000e+00</td>\n",
              "      <td>2.001000e+03</td>\n",
              "      <td>3.661945e+01</td>\n",
              "      <td>-9.168657e+01</td>\n",
              "    </tr>\n",
              "    <tr>\n",
              "      <th>25%</th>\n",
              "      <td>NaN</td>\n",
              "      <td>NaN</td>\n",
              "      <td>NaN</td>\n",
              "      <td>NaN</td>\n",
              "      <td>NaN</td>\n",
              "      <td>NaN</td>\n",
              "      <td>6.210000e+02</td>\n",
              "      <td>NaN</td>\n",
              "      <td>1.000000e+01</td>\n",
              "      <td>2.004000e+03</td>\n",
              "      <td>4.176866e+01</td>\n",
              "      <td>-8.771379e+01</td>\n",
              "    </tr>\n",
              "    <tr>\n",
              "      <th>50%</th>\n",
              "      <td>NaN</td>\n",
              "      <td>NaN</td>\n",
              "      <td>NaN</td>\n",
              "      <td>NaN</td>\n",
              "      <td>NaN</td>\n",
              "      <td>NaN</td>\n",
              "      <td>1.034000e+03</td>\n",
              "      <td>NaN</td>\n",
              "      <td>2.300000e+01</td>\n",
              "      <td>2.009000e+03</td>\n",
              "      <td>4.185578e+01</td>\n",
              "      <td>-8.766597e+01</td>\n",
              "    </tr>\n",
              "    <tr>\n",
              "      <th>75%</th>\n",
              "      <td>NaN</td>\n",
              "      <td>NaN</td>\n",
              "      <td>NaN</td>\n",
              "      <td>NaN</td>\n",
              "      <td>NaN</td>\n",
              "      <td>NaN</td>\n",
              "      <td>1.731000e+03</td>\n",
              "      <td>NaN</td>\n",
              "      <td>3.400000e+01</td>\n",
              "      <td>2.014000e+03</td>\n",
              "      <td>4.190668e+01</td>\n",
              "      <td>-8.762823e+01</td>\n",
              "    </tr>\n",
              "    <tr>\n",
              "      <th>max</th>\n",
              "      <td>NaN</td>\n",
              "      <td>NaN</td>\n",
              "      <td>NaN</td>\n",
              "      <td>NaN</td>\n",
              "      <td>NaN</td>\n",
              "      <td>NaN</td>\n",
              "      <td>2.535000e+03</td>\n",
              "      <td>NaN</td>\n",
              "      <td>5.000000e+01</td>\n",
              "      <td>2.022000e+03</td>\n",
              "      <td>4.202291e+01</td>\n",
              "      <td>-8.752453e+01</td>\n",
              "    </tr>\n",
              "  </tbody>\n",
              "</table>\n",
              "</div>"
            ],
            "text/plain": [
              "       Case Number                    Date Primary Type Location Description  \\\n",
              "count      2278725                 2278726      2278726              2275849   \n",
              "unique     2278678                 1343546           35                  198   \n",
              "top       HK172551  01/01/2008 12:01:00 AM        THEFT               STREET   \n",
              "freq             3                      81       479375               590957   \n",
              "mean           NaN                     NaN          NaN                  NaN   \n",
              "std            NaN                     NaN          NaN                  NaN   \n",
              "min            NaN                     NaN          NaN                  NaN   \n",
              "25%            NaN                     NaN          NaN                  NaN   \n",
              "50%            NaN                     NaN          NaN                  NaN   \n",
              "75%            NaN                     NaN          NaN                  NaN   \n",
              "max            NaN                     NaN          NaN                  NaN   \n",
              "\n",
              "         Arrest Domestic          Beat District          Ward          Year  \\\n",
              "count   2278726  2278726  2.278726e+06  2278714  2.094031e+06  2.278726e+06   \n",
              "unique        2        2           NaN       23           NaN           NaN   \n",
              "top       False    False           NaN      8.0           NaN           NaN   \n",
              "freq    1675252  1965311           NaN   153684           NaN           NaN   \n",
              "mean        NaN      NaN  1.186442e+03      NaN  2.272764e+01  2.009638e+03   \n",
              "std         NaN      NaN  7.026836e+02      NaN  1.383464e+01  6.019724e+00   \n",
              "min         NaN      NaN  1.110000e+02      NaN  1.000000e+00  2.001000e+03   \n",
              "25%         NaN      NaN  6.210000e+02      NaN  1.000000e+01  2.004000e+03   \n",
              "50%         NaN      NaN  1.034000e+03      NaN  2.300000e+01  2.009000e+03   \n",
              "75%         NaN      NaN  1.731000e+03      NaN  3.400000e+01  2.014000e+03   \n",
              "max         NaN      NaN  2.535000e+03      NaN  5.000000e+01  2.022000e+03   \n",
              "\n",
              "            Latitude     Longitude  \n",
              "count   2.254741e+06  2.254741e+06  \n",
              "unique           NaN           NaN  \n",
              "top              NaN           NaN  \n",
              "freq             NaN           NaN  \n",
              "mean    4.184209e+01 -8.767161e+01  \n",
              "std     8.830434e-02  6.073538e-02  \n",
              "min     3.661945e+01 -9.168657e+01  \n",
              "25%     4.176866e+01 -8.771379e+01  \n",
              "50%     4.185578e+01 -8.766597e+01  \n",
              "75%     4.190668e+01 -8.762823e+01  \n",
              "max     4.202291e+01 -8.752453e+01  "
            ]
          },
          "execution_count": 16,
          "metadata": {},
          "output_type": "execute_result"
        }
      ],
      "source": [
        "# A summary statistics of each column\n",
        "chicago_crime_df.describe(include='all')"
      ]
    },
    {
      "cell_type": "code",
      "execution_count": null,
      "id": "6f9daf5e",
      "metadata": {
        "ExecuteTime": {
          "end_time": "2024-03-22T20:18:35.719320Z",
          "start_time": "2024-03-22T20:18:35.699712Z"
        },
        "id": "6f9daf5e",
        "outputId": "cca8117f-0440-4a3a-de1b-2531f396c107"
      },
      "outputs": [
        {
          "name": "stdout",
          "output_type": "stream",
          "text": [
            "<class 'pandas.core.frame.DataFrame'>\n",
            "RangeIndex: 2278726 entries, 0 to 2278725\n",
            "Data columns (total 12 columns):\n",
            " #   Column                Dtype  \n",
            "---  ------                -----  \n",
            " 0   Case Number           object \n",
            " 1   Date                  object \n",
            " 2   Primary Type          object \n",
            " 3   Location Description  object \n",
            " 4   Arrest                bool   \n",
            " 5   Domestic              bool   \n",
            " 6   Beat                  int64  \n",
            " 7   District              string \n",
            " 8   Ward                  float64\n",
            " 9   Year                  int64  \n",
            " 10  Latitude              float64\n",
            " 11  Longitude             float64\n",
            "dtypes: bool(2), float64(3), int64(2), object(4), string(1)\n",
            "memory usage: 178.2+ MB\n"
          ]
        }
      ],
      "source": [
        "chicago_crime_df.info()"
      ]
    },
    {
      "cell_type": "markdown",
      "id": "05ebe46f",
      "metadata": {
        "id": "05ebe46f"
      },
      "source": [
        "__3. Handling missing values__"
      ]
    },
    {
      "cell_type": "code",
      "execution_count": null,
      "id": "00593837",
      "metadata": {
        "ExecuteTime": {
          "end_time": "2024-03-22T20:18:36.573545Z",
          "start_time": "2024-03-22T20:18:35.747523Z"
        },
        "id": "00593837",
        "outputId": "4f170aac-f62b-43ea-c709-ddd41ed7b386"
      },
      "outputs": [
        {
          "data": {
            "text/plain": [
              "Case Number                  1\n",
              "Date                         0\n",
              "Primary Type                 0\n",
              "Location Description      2877\n",
              "Arrest                       0\n",
              "Domestic                     0\n",
              "Beat                         0\n",
              "District                    12\n",
              "Ward                    184695\n",
              "Year                         0\n",
              "Latitude                 23985\n",
              "Longitude                23985\n",
              "dtype: int64"
            ]
          },
          "execution_count": 18,
          "metadata": {},
          "output_type": "execute_result"
        }
      ],
      "source": [
        "# checking missing value count\n",
        "chicago_crime_df.isnull().sum()"
      ]
    },
    {
      "cell_type": "code",
      "execution_count": null,
      "id": "a291bd23",
      "metadata": {
        "ExecuteTime": {
          "end_time": "2024-03-22T20:18:36.620940Z",
          "start_time": "2024-03-22T20:18:36.601557Z"
        },
        "id": "a291bd23"
      },
      "outputs": [],
      "source": [
        "# # Missing Values\n",
        "\n",
        "# Function to calculate missing values by column\n",
        "def missing_values_table(df):\n",
        "        # Total missing values\n",
        "        mis_val = df.isnull().sum()\n",
        "\n",
        "        # Percentage of missing values\n",
        "        mis_val_percent = 100 * df.isnull().sum() / len(df)\n",
        "\n",
        "        # Make a table with the results\n",
        "        mis_val_table = pd.concat([mis_val, mis_val_percent], axis=1)\n",
        "\n",
        "        # Rename the columns\n",
        "        mis_val_table_ren_columns = mis_val_table.rename(\n",
        "        columns = {0 : 'Missing Values', 1 : '% of Total Values'})\n",
        "\n",
        "        # Sort the table by percentage of missing descending\n",
        "        mis_val_table_ren_columns = mis_val_table_ren_columns[\n",
        "            mis_val_table_ren_columns.iloc[:,1] != 0].sort_values(\n",
        "        '% of Total Values', ascending=False).round(1)\n",
        "\n",
        "        # Print some summary information\n",
        "        print (\"Your selected dataframe has \" + str(df.shape[1]) + \" columns.\\n\"\n",
        "            \"There are \" + str(mis_val_table_ren_columns.shape[0]) +\n",
        "              \" columns that have missing values.\")\n",
        "\n",
        "        # Return the dataframe with missing information\n",
        "        return mis_val_table_ren_columns"
      ]
    },
    {
      "cell_type": "code",
      "execution_count": null,
      "id": "b5f9dc16",
      "metadata": {
        "ExecuteTime": {
          "end_time": "2024-03-22T20:18:38.361242Z",
          "start_time": "2024-03-22T20:18:36.673503Z"
        },
        "id": "b5f9dc16",
        "outputId": "5cc9b35e-a321-45f7-b534-4ab00179cd1a"
      },
      "outputs": [
        {
          "name": "stdout",
          "output_type": "stream",
          "text": [
            "Your selected dataframe has 12 columns.\n",
            "There are 6 columns that have missing values.\n"
          ]
        },
        {
          "data": {
            "text/html": [
              "<div>\n",
              "<style scoped>\n",
              "    .dataframe tbody tr th:only-of-type {\n",
              "        vertical-align: middle;\n",
              "    }\n",
              "\n",
              "    .dataframe tbody tr th {\n",
              "        vertical-align: top;\n",
              "    }\n",
              "\n",
              "    .dataframe thead th {\n",
              "        text-align: right;\n",
              "    }\n",
              "</style>\n",
              "<table border=\"1\" class=\"dataframe\">\n",
              "  <thead>\n",
              "    <tr style=\"text-align: right;\">\n",
              "      <th></th>\n",
              "      <th>Missing Values</th>\n",
              "      <th>% of Total Values</th>\n",
              "    </tr>\n",
              "  </thead>\n",
              "  <tbody>\n",
              "    <tr>\n",
              "      <th>Ward</th>\n",
              "      <td>184695</td>\n",
              "      <td>8.1</td>\n",
              "    </tr>\n",
              "    <tr>\n",
              "      <th>Latitude</th>\n",
              "      <td>23985</td>\n",
              "      <td>1.1</td>\n",
              "    </tr>\n",
              "    <tr>\n",
              "      <th>Longitude</th>\n",
              "      <td>23985</td>\n",
              "      <td>1.1</td>\n",
              "    </tr>\n",
              "    <tr>\n",
              "      <th>Location Description</th>\n",
              "      <td>2877</td>\n",
              "      <td>0.1</td>\n",
              "    </tr>\n",
              "    <tr>\n",
              "      <th>District</th>\n",
              "      <td>12</td>\n",
              "      <td>0.0</td>\n",
              "    </tr>\n",
              "    <tr>\n",
              "      <th>Case Number</th>\n",
              "      <td>1</td>\n",
              "      <td>0.0</td>\n",
              "    </tr>\n",
              "  </tbody>\n",
              "</table>\n",
              "</div>"
            ],
            "text/plain": [
              "                      Missing Values  % of Total Values\n",
              "Ward                          184695                8.1\n",
              "Latitude                       23985                1.1\n",
              "Longitude                      23985                1.1\n",
              "Location Description            2877                0.1\n",
              "District                          12                0.0\n",
              "Case Number                        1                0.0"
            ]
          },
          "execution_count": 20,
          "metadata": {},
          "output_type": "execute_result"
        }
      ],
      "source": [
        "missing_values_table(chicago_crime_df)"
      ]
    },
    {
      "cell_type": "markdown",
      "id": "11015191",
      "metadata": {
        "id": "11015191"
      },
      "source": [
        "- __Handling Missing Case Number__\n",
        "\n",
        "We have one (1) missing Case Number in the entire dataset. We have decided to drop the row where Case Number is missing"
      ]
    },
    {
      "cell_type": "code",
      "execution_count": null,
      "id": "da982279",
      "metadata": {
        "ExecuteTime": {
          "end_time": "2024-03-22T20:18:56.125456Z",
          "start_time": "2024-03-22T20:18:55.489845Z"
        },
        "id": "da982279"
      },
      "outputs": [],
      "source": [
        "# dropping the missing Case Number column null value\n",
        "chicago_crime_df.dropna(subset=['Case Number'],inplace=True) # i chose to drop this because the percentage NA is insignificant"
      ]
    },
    {
      "cell_type": "code",
      "execution_count": null,
      "id": "6c06c4b3",
      "metadata": {
        "ExecuteTime": {
          "end_time": "2024-03-22T20:18:57.128877Z",
          "start_time": "2024-03-22T20:18:56.161519Z"
        },
        "id": "6c06c4b3",
        "outputId": "03893aa1-956c-44e5-fb09-3466fe67a7ee"
      },
      "outputs": [
        {
          "data": {
            "text/plain": [
              "Case Number                  0\n",
              "Date                         0\n",
              "Primary Type                 0\n",
              "Location Description      2877\n",
              "Arrest                       0\n",
              "Domestic                     0\n",
              "Beat                         0\n",
              "District                    12\n",
              "Ward                    184695\n",
              "Year                         0\n",
              "Latitude                 23984\n",
              "Longitude                23984\n",
              "dtype: int64"
            ]
          },
          "execution_count": 22,
          "metadata": {},
          "output_type": "execute_result"
        }
      ],
      "source": [
        "chicago_crime_df.isna().sum()"
      ]
    },
    {
      "cell_type": "markdown",
      "id": "302c88b3",
      "metadata": {
        "id": "302c88b3"
      },
      "source": [
        "- __Handling Missing values for the District Column__\n",
        "\n",
        "We have just 12 missing value for the district column which is 0.0% of the entire dataset. We have decided to drop the row where location discription is missing."
      ]
    },
    {
      "cell_type": "code",
      "execution_count": null,
      "id": "7817faaf",
      "metadata": {
        "ExecuteTime": {
          "end_time": "2024-03-22T20:18:58.079385Z",
          "start_time": "2024-03-22T20:18:57.385454Z"
        },
        "id": "7817faaf"
      },
      "outputs": [],
      "source": [
        "# dropping the missing district column null value\n",
        "chicago_crime_df.dropna(subset=['District'],inplace=True) # i chose to drop this because the percentage NA is insignificant"
      ]
    },
    {
      "cell_type": "code",
      "execution_count": null,
      "id": "645500d3",
      "metadata": {
        "ExecuteTime": {
          "end_time": "2024-03-22T20:18:58.343278Z",
          "start_time": "2024-03-22T20:18:58.121901Z"
        },
        "scrolled": true,
        "id": "645500d3",
        "outputId": "07dd30e3-196e-4876-ac1e-de6896463829"
      },
      "outputs": [
        {
          "data": {
            "text/plain": [
              "<StringArray>\n",
              "[ '4.0', '17.0', '11.0', '12.0',  '2.0', '15.0', '25.0', '14.0',  '8.0',\n",
              "  '6.0', '19.0',  '1.0',  '7.0', '20.0', '18.0',  '3.0',  '9.0', '22.0',\n",
              "  '5.0', '16.0', '10.0', '24.0', '31.0']\n",
              "Length: 23, dtype: string"
            ]
          },
          "execution_count": 24,
          "metadata": {},
          "output_type": "execute_result"
        }
      ],
      "source": [
        "chicago_crime_df.District.unique()"
      ]
    },
    {
      "cell_type": "code",
      "execution_count": null,
      "id": "5d73551f",
      "metadata": {
        "ExecuteTime": {
          "end_time": "2024-03-22T20:18:59.256545Z",
          "start_time": "2024-03-22T20:18:58.433014Z"
        },
        "id": "5d73551f",
        "outputId": "05d7a49d-0680-48e2-93ff-710787828e0e"
      },
      "outputs": [
        {
          "data": {
            "text/plain": [
              "Case Number                  0\n",
              "Date                         0\n",
              "Primary Type                 0\n",
              "Location Description      2877\n",
              "Arrest                       0\n",
              "Domestic                     0\n",
              "Beat                         0\n",
              "District                     0\n",
              "Ward                    184695\n",
              "Year                         0\n",
              "Latitude                 23984\n",
              "Longitude                23984\n",
              "dtype: int64"
            ]
          },
          "execution_count": 25,
          "metadata": {},
          "output_type": "execute_result"
        }
      ],
      "source": [
        "chicago_crime_df.isna().sum()"
      ]
    },
    {
      "cell_type": "markdown",
      "id": "b4067f5b",
      "metadata": {
        "id": "b4067f5b"
      },
      "source": [
        "- __Handling Missing values for the ward Column (Using data imputation)__"
      ]
    },
    {
      "cell_type": "code",
      "execution_count": null,
      "id": "5c66517c",
      "metadata": {
        "ExecuteTime": {
          "end_time": "2024-03-22T20:19:00.829175Z",
          "start_time": "2024-03-22T20:18:59.395751Z"
        },
        "id": "5c66517c",
        "outputId": "0a40aa1d-45a9-4e5e-e7ce-d7a5a55b5a3e"
      },
      "outputs": [
        {
          "name": "stdout",
          "output_type": "stream",
          "text": [
            "Your selected dataframe has 12 columns.\n",
            "There are 4 columns that have missing values.\n"
          ]
        },
        {
          "data": {
            "text/html": [
              "<div>\n",
              "<style scoped>\n",
              "    .dataframe tbody tr th:only-of-type {\n",
              "        vertical-align: middle;\n",
              "    }\n",
              "\n",
              "    .dataframe tbody tr th {\n",
              "        vertical-align: top;\n",
              "    }\n",
              "\n",
              "    .dataframe thead th {\n",
              "        text-align: right;\n",
              "    }\n",
              "</style>\n",
              "<table border=\"1\" class=\"dataframe\">\n",
              "  <thead>\n",
              "    <tr style=\"text-align: right;\">\n",
              "      <th></th>\n",
              "      <th>Missing Values</th>\n",
              "      <th>% of Total Values</th>\n",
              "    </tr>\n",
              "  </thead>\n",
              "  <tbody>\n",
              "    <tr>\n",
              "      <th>Ward</th>\n",
              "      <td>184695</td>\n",
              "      <td>8.1</td>\n",
              "    </tr>\n",
              "    <tr>\n",
              "      <th>Latitude</th>\n",
              "      <td>23984</td>\n",
              "      <td>1.1</td>\n",
              "    </tr>\n",
              "    <tr>\n",
              "      <th>Longitude</th>\n",
              "      <td>23984</td>\n",
              "      <td>1.1</td>\n",
              "    </tr>\n",
              "    <tr>\n",
              "      <th>Location Description</th>\n",
              "      <td>2877</td>\n",
              "      <td>0.1</td>\n",
              "    </tr>\n",
              "  </tbody>\n",
              "</table>\n",
              "</div>"
            ],
            "text/plain": [
              "                      Missing Values  % of Total Values\n",
              "Ward                          184695                8.1\n",
              "Latitude                       23984                1.1\n",
              "Longitude                      23984                1.1\n",
              "Location Description            2877                0.1"
            ]
          },
          "execution_count": 26,
          "metadata": {},
          "output_type": "execute_result"
        }
      ],
      "source": [
        "missing_values_table(chicago_crime_df)"
      ]
    },
    {
      "cell_type": "code",
      "execution_count": null,
      "id": "f6fef0f0",
      "metadata": {
        "ExecuteTime": {
          "end_time": "2024-03-22T20:19:01.060816Z",
          "start_time": "2024-03-22T20:19:00.857192Z"
        },
        "id": "f6fef0f0",
        "outputId": "d3bc1587-139b-4276-cdb5-fb9b964870f5"
      },
      "outputs": [
        {
          "data": {
            "text/plain": [
              "array([10.,  8., 39., 28., 27., nan, 29., 37., 26., 35., 14.,  1., 17.,\n",
              "        3., 44., 36.,  4.,  2.,  6.,  7., 40., 42., 20., 13., 11., 34.,\n",
              "       47., 33.,  9., 21., 45., 25., 24., 15., 16., 19., 43., 30., 23.,\n",
              "       32., 31., 22., 50., 49.,  5., 46., 12., 41., 38., 18., 48.])"
            ]
          },
          "execution_count": 27,
          "metadata": {},
          "output_type": "execute_result"
        }
      ],
      "source": [
        "# checking the unique values of the ward column\n",
        "chicago_crime_df.Ward.unique()"
      ]
    },
    {
      "cell_type": "code",
      "execution_count": null,
      "id": "a3533e7c",
      "metadata": {
        "ExecuteTime": {
          "end_time": "2024-03-22T20:19:01.138858Z",
          "start_time": "2024-03-22T20:19:01.110469Z"
        },
        "scrolled": true,
        "id": "a3533e7c",
        "outputId": "4ea9ee53-d224-4ac9-fb31-d92ddd3d315b"
      },
      "outputs": [
        {
          "data": {
            "text/plain": [
              "0          10.0\n",
              "1           8.0\n",
              "2          39.0\n",
              "3          28.0\n",
              "4          27.0\n",
              "           ... \n",
              "2278721    42.0\n",
              "2278722     NaN\n",
              "2278723     4.0\n",
              "2278724    42.0\n",
              "2278725     1.0\n",
              "Name: Ward, Length: 2278713, dtype: float64"
            ]
          },
          "execution_count": 28,
          "metadata": {},
          "output_type": "execute_result"
        }
      ],
      "source": [
        "chicago_crime_df.Ward"
      ]
    },
    {
      "cell_type": "code",
      "execution_count": null,
      "id": "d44220f9",
      "metadata": {
        "ExecuteTime": {
          "end_time": "2024-03-22T20:19:01.333295Z",
          "start_time": "2024-03-22T20:19:01.174066Z"
        },
        "id": "d44220f9"
      },
      "outputs": [],
      "source": [
        "# Using ffill(forward fill) to fill missing value in the ward column\n",
        "chicago_crime_df.Ward = chicago_crime_df.Ward.ffill() # Last observed value is carried forward"
      ]
    },
    {
      "cell_type": "code",
      "execution_count": null,
      "id": "250ffe9f",
      "metadata": {
        "ExecuteTime": {
          "end_time": "2024-03-22T20:19:02.227283Z",
          "start_time": "2024-03-22T20:19:01.461205Z"
        },
        "id": "250ffe9f",
        "outputId": "a86a8234-1d79-4281-c459-274c52453943"
      },
      "outputs": [
        {
          "data": {
            "text/plain": [
              "Case Number                 0\n",
              "Date                        0\n",
              "Primary Type                0\n",
              "Location Description     2877\n",
              "Arrest                      0\n",
              "Domestic                    0\n",
              "Beat                        0\n",
              "District                    0\n",
              "Ward                        0\n",
              "Year                        0\n",
              "Latitude                23984\n",
              "Longitude               23984\n",
              "dtype: int64"
            ]
          },
          "execution_count": 30,
          "metadata": {},
          "output_type": "execute_result"
        }
      ],
      "source": [
        "chicago_crime_df.isna().sum()"
      ]
    },
    {
      "cell_type": "markdown",
      "id": "1e1084da",
      "metadata": {
        "id": "1e1084da"
      },
      "source": [
        "- __Handling Missing values for the latitude and Longitude Column__ (Using Assosciation) <br>\n",
        "    - The assumption here is that the latitude and longitude readings are points that show exact location, are closer to eachother within a district. if they are, we can group our data by districts and fill up missing Latitide and longitude values by the median or mode."
      ]
    },
    {
      "cell_type": "code",
      "execution_count": null,
      "id": "5e9541f2",
      "metadata": {
        "ExecuteTime": {
          "end_time": "2024-03-22T20:19:04.693309Z",
          "start_time": "2024-03-22T20:19:02.552113Z"
        },
        "id": "5e9541f2",
        "outputId": "36fafba6-8ea6-46e0-b50f-f8e38d97797d"
      },
      "outputs": [
        {
          "data": {
            "text/plain": [
              "District  Longitude   Latitude \n",
              "1.0       -87.776059  41.933944    1\n",
              "          -87.645624  41.881909    4\n",
              "          -87.645320  41.885582    2\n",
              "          -87.645301  41.878079    1\n",
              "          -87.645121  41.885586    1\n",
              "                                  ..\n",
              "9.0       -87.629908  41.841907    2\n",
              "          -87.629885  41.851065    1\n",
              "          -87.629854  41.831072    1\n",
              "          -87.614200  41.831200    1\n",
              "          -87.613504  41.823880    1\n",
              "Length: 548193, dtype: int64"
            ]
          },
          "execution_count": 31,
          "metadata": {},
          "output_type": "execute_result"
        }
      ],
      "source": [
        "chicago_crime_df.groupby(['District', 'Longitude', 'Latitude']).size()"
      ]
    },
    {
      "cell_type": "markdown",
      "id": "11138dc3",
      "metadata": {
        "id": "11138dc3"
      },
      "source": [
        "There appears to be closeness in longitude and Latitude points when data is grouped based on districts, we can group based on district and fill up by taking the median."
      ]
    },
    {
      "cell_type": "code",
      "execution_count": null,
      "id": "af6a82c7",
      "metadata": {
        "ExecuteTime": {
          "end_time": "2024-03-22T20:19:07.537450Z",
          "start_time": "2024-03-22T20:19:04.722259Z"
        },
        "id": "af6a82c7"
      },
      "outputs": [],
      "source": [
        "chicago_crime_df['Latitude'] = chicago_crime_df.groupby('District')['Latitude'].transform(lambda x: x.fillna(x.median()))\n",
        "chicago_crime_df['Longitude'] = chicago_crime_df.groupby('District')['Longitude'].transform(lambda x: x.fillna(x.median()))"
      ]
    },
    {
      "cell_type": "code",
      "execution_count": null,
      "id": "90f0c0e7",
      "metadata": {
        "ExecuteTime": {
          "end_time": "2024-03-22T20:19:08.254793Z",
          "start_time": "2024-03-22T20:19:07.579098Z"
        },
        "id": "90f0c0e7",
        "outputId": "861a33e5-9dcb-4daa-ec5d-7dacb56a77c3"
      },
      "outputs": [
        {
          "data": {
            "text/plain": [
              "Case Number                0\n",
              "Date                       0\n",
              "Primary Type               0\n",
              "Location Description    2877\n",
              "Arrest                     0\n",
              "Domestic                   0\n",
              "Beat                       0\n",
              "District                   0\n",
              "Ward                       0\n",
              "Year                       0\n",
              "Latitude                   0\n",
              "Longitude                  0\n",
              "dtype: int64"
            ]
          },
          "execution_count": 33,
          "metadata": {},
          "output_type": "execute_result"
        }
      ],
      "source": [
        "chicago_crime_df.isna().sum()"
      ]
    },
    {
      "cell_type": "markdown",
      "id": "2e594257",
      "metadata": {
        "id": "2e594257"
      },
      "source": [
        "- __Handling Missing values for the Location Description__"
      ]
    },
    {
      "cell_type": "markdown",
      "id": "b1f25282",
      "metadata": {
        "ExecuteTime": {
          "end_time": "2024-03-10T09:48:29.963487Z",
          "start_time": "2024-03-10T09:48:28.719078Z"
        },
        "id": "b1f25282"
      },
      "source": [
        "We have just 2877 missing value for the location description which is 0.1% of the entire dataset. We can decide to drop the row where location decription is missing or fill this row with the most crime location."
      ]
    },
    {
      "cell_type": "code",
      "execution_count": null,
      "id": "b9b2faed",
      "metadata": {
        "ExecuteTime": {
          "end_time": "2024-03-22T20:19:09.121167Z",
          "start_time": "2024-03-22T20:19:08.286751Z"
        },
        "scrolled": true,
        "id": "b9b2faed",
        "outputId": "9e8e1630-567e-4968-b73b-c50bd8dc232b"
      },
      "outputs": [
        {
          "data": {
            "text/plain": [
              "District  Location Description                                 \n",
              "1.0       ABANDONED BUILDING                                         18\n",
              "          AIRPORT BUILDING NON-TERMINAL - SECURE AREA                 1\n",
              "          AIRPORT TRANSPORTATION SYSTEM (ATS)                         2\n",
              "          AIRPORT/AIRCRAFT                                            4\n",
              "          ALLEY                                                     529\n",
              "                                                                   ... \n",
              "9.0       VEHICLE - OTHER RIDE SHARE SERVICE (LYFT, UBER, ETC.)       3\n",
              "          VEHICLE NON-COMMERCIAL                                   1676\n",
              "          VEHICLE-COMMERCIAL                                        100\n",
              "          WAREHOUSE                                                 374\n",
              "          YARD                                                        7\n",
              "Length: 2915, dtype: int64"
            ]
          },
          "execution_count": 34,
          "metadata": {},
          "output_type": "execute_result"
        }
      ],
      "source": [
        "chicago_crime_df.groupby(['District','Location Description']).size()"
      ]
    },
    {
      "cell_type": "code",
      "execution_count": null,
      "id": "24f97b68",
      "metadata": {
        "ExecuteTime": {
          "end_time": "2024-03-22T20:19:09.832829Z",
          "start_time": "2024-03-22T20:19:09.148839Z"
        },
        "id": "24f97b68"
      },
      "outputs": [],
      "source": [
        "# dropping the missing location description index row\n",
        "chicago_crime_df.dropna(subset=['Location Description'],inplace=True)"
      ]
    },
    {
      "cell_type": "code",
      "execution_count": null,
      "id": "55fd2665",
      "metadata": {
        "ExecuteTime": {
          "end_time": "2024-03-22T20:19:10.616719Z",
          "start_time": "2024-03-22T20:19:09.859138Z"
        },
        "scrolled": true,
        "id": "55fd2665",
        "outputId": "3a823ee2-8eda-4e30-9f83-190186746b6b"
      },
      "outputs": [
        {
          "data": {
            "text/plain": [
              "Case Number             0\n",
              "Date                    0\n",
              "Primary Type            0\n",
              "Location Description    0\n",
              "Arrest                  0\n",
              "Domestic                0\n",
              "Beat                    0\n",
              "District                0\n",
              "Ward                    0\n",
              "Year                    0\n",
              "Latitude                0\n",
              "Longitude               0\n",
              "dtype: int64"
            ]
          },
          "execution_count": 36,
          "metadata": {},
          "output_type": "execute_result"
        }
      ],
      "source": [
        "chicago_crime_df.isna().sum()"
      ]
    },
    {
      "cell_type": "markdown",
      "id": "cb3d6c5b",
      "metadata": {
        "id": "cb3d6c5b"
      },
      "source": [
        "# 4. EDA: Data Exploration"
      ]
    },
    {
      "cell_type": "code",
      "execution_count": null,
      "id": "8164ca5d",
      "metadata": {
        "id": "8164ca5d"
      },
      "outputs": [],
      "source": []
    },
    {
      "cell_type": "code",
      "execution_count": null,
      "id": "dfc02e1c",
      "metadata": {
        "ExecuteTime": {
          "end_time": "2024-03-22T20:19:11.025614Z",
          "start_time": "2024-03-22T20:19:10.642243Z"
        },
        "id": "dfc02e1c"
      },
      "outputs": [],
      "source": [
        "# create a copy of the dataframe to avoid conflict\n",
        "c_crime_df = chicago_crime_df.copy()"
      ]
    },
    {
      "cell_type": "markdown",
      "id": "a00848fb",
      "metadata": {
        "ExecuteTime": {
          "end_time": "2024-03-21T17:26:55.994165Z",
          "start_time": "2024-03-21T17:26:55.676084Z"
        },
        "id": "a00848fb"
      },
      "source": [
        "1. Total Number of cases"
      ]
    },
    {
      "cell_type": "code",
      "execution_count": null,
      "id": "fd0c282b",
      "metadata": {
        "ExecuteTime": {
          "end_time": "2024-03-22T20:19:12.196137Z",
          "start_time": "2024-03-22T20:19:11.068664Z"
        },
        "id": "fd0c282b",
        "outputId": "9a4c5cb0-b75d-4d3a-d186-f4c5ca088f16"
      },
      "outputs": [
        {
          "name": "stdout",
          "output_type": "stream",
          "text": [
            "Out of 2275836: 2275789 are unique case numbers\n"
          ]
        }
      ],
      "source": [
        "# Number of Unique Case Number.\n",
        "\n",
        "print(f\"Out of {len(c_crime_df)}: {len(c_crime_df['Case Number'].unique())} are unique case numbers\")"
      ]
    },
    {
      "cell_type": "markdown",
      "id": "90f03909",
      "metadata": {
        "id": "90f03909"
      },
      "source": [
        "Observation: Most case numbers are unique case numbers."
      ]
    },
    {
      "cell_type": "markdown",
      "id": "c61bc9c8",
      "metadata": {
        "id": "c61bc9c8"
      },
      "source": [
        "Number of Non-Unique cases"
      ]
    },
    {
      "cell_type": "code",
      "execution_count": null,
      "id": "1795f5f4",
      "metadata": {
        "ExecuteTime": {
          "end_time": "2024-03-22T20:19:14.629126Z",
          "start_time": "2024-03-22T20:19:12.372926Z"
        },
        "id": "1795f5f4",
        "outputId": "29e8bb04-112d-497b-91f1-23a20c6f34f4"
      },
      "outputs": [
        {
          "name": "stdout",
          "output_type": "stream",
          "text": [
            "Length of non_unique: 92 out of 2275836\n"
          ]
        }
      ],
      "source": [
        "# Out of all cases , how many are non_unique cases ?\n",
        "\n",
        "non_unique_case_number = c_crime_df[c_crime_df.duplicated('Case Number') | c_crime_df.duplicated('Case Number', keep=False)]['Case Number'].tolist()\n",
        "\n",
        "print(f\"Length of non_unique: {len(non_unique_case_number)} out of {len(c_crime_df)}\")"
      ]
    },
    {
      "cell_type": "code",
      "execution_count": null,
      "id": "4a4214b0",
      "metadata": {
        "ExecuteTime": {
          "end_time": "2024-03-22T20:20:10.194368Z",
          "start_time": "2024-03-22T20:20:08.953864Z"
        },
        "id": "4a4214b0",
        "outputId": "4aed4d44-bae7-43c9-9b4e-f010d647f31d"
      },
      "outputs": [
        {
          "data": {
            "text/html": [
              "<div>\n",
              "<style scoped>\n",
              "    .dataframe tbody tr th:only-of-type {\n",
              "        vertical-align: middle;\n",
              "    }\n",
              "\n",
              "    .dataframe tbody tr th {\n",
              "        vertical-align: top;\n",
              "    }\n",
              "\n",
              "    .dataframe thead th {\n",
              "        text-align: right;\n",
              "    }\n",
              "</style>\n",
              "<table border=\"1\" class=\"dataframe\">\n",
              "  <thead>\n",
              "    <tr style=\"text-align: right;\">\n",
              "      <th></th>\n",
              "      <th>Case Number</th>\n",
              "      <th>Date</th>\n",
              "      <th>Primary Type</th>\n",
              "      <th>Location Description</th>\n",
              "      <th>Arrest</th>\n",
              "      <th>Domestic</th>\n",
              "      <th>Beat</th>\n",
              "      <th>District</th>\n",
              "      <th>Ward</th>\n",
              "      <th>Year</th>\n",
              "      <th>Latitude</th>\n",
              "      <th>Longitude</th>\n",
              "    </tr>\n",
              "  </thead>\n",
              "  <tbody>\n",
              "    <tr>\n",
              "      <th>25445</th>\n",
              "      <td>HM763064</td>\n",
              "      <td>12/08/2006 03:14:00 PM</td>\n",
              "      <td>HOMICIDE</td>\n",
              "      <td>OFFICE</td>\n",
              "      <td>True</td>\n",
              "      <td>False</td>\n",
              "      <td>111</td>\n",
              "      <td>1.0</td>\n",
              "      <td>42.0</td>\n",
              "      <td>2006</td>\n",
              "      <td>41.881884</td>\n",
              "      <td>-87.640060</td>\n",
              "    </tr>\n",
              "    <tr>\n",
              "      <th>58104</th>\n",
              "      <td>JB483810</td>\n",
              "      <td>10/21/2018 02:39:00 AM</td>\n",
              "      <td>HOMICIDE</td>\n",
              "      <td>AUTO</td>\n",
              "      <td>False</td>\n",
              "      <td>False</td>\n",
              "      <td>1523</td>\n",
              "      <td>15.0</td>\n",
              "      <td>28.0</td>\n",
              "      <td>2018</td>\n",
              "      <td>41.883604</td>\n",
              "      <td>-87.757629</td>\n",
              "    </tr>\n",
              "    <tr>\n",
              "      <th>74485</th>\n",
              "      <td>HK172551</td>\n",
              "      <td>02/08/2004 11:44:00 PM</td>\n",
              "      <td>HOMICIDE</td>\n",
              "      <td>CHURCH</td>\n",
              "      <td>False</td>\n",
              "      <td>False</td>\n",
              "      <td>1123</td>\n",
              "      <td>11.0</td>\n",
              "      <td>28.0</td>\n",
              "      <td>2004</td>\n",
              "      <td>41.880909</td>\n",
              "      <td>-87.711843</td>\n",
              "    </tr>\n",
              "    <tr>\n",
              "      <th>80580</th>\n",
              "      <td>HV620483</td>\n",
              "      <td>12/31/2012 04:49:00 PM</td>\n",
              "      <td>HOMICIDE</td>\n",
              "      <td>APARTMENT</td>\n",
              "      <td>True</td>\n",
              "      <td>True</td>\n",
              "      <td>1012</td>\n",
              "      <td>10.0</td>\n",
              "      <td>24.0</td>\n",
              "      <td>2012</td>\n",
              "      <td>41.852505</td>\n",
              "      <td>-87.730687</td>\n",
              "    </tr>\n",
              "    <tr>\n",
              "      <th>126290</th>\n",
              "      <td>HR146859</td>\n",
              "      <td>01/31/2009 01:10:00 AM</td>\n",
              "      <td>HOMICIDE</td>\n",
              "      <td>APARTMENT</td>\n",
              "      <td>True</td>\n",
              "      <td>False</td>\n",
              "      <td>1712</td>\n",
              "      <td>17.0</td>\n",
              "      <td>39.0</td>\n",
              "      <td>2009</td>\n",
              "      <td>41.971903</td>\n",
              "      <td>-87.726290</td>\n",
              "    </tr>\n",
              "  </tbody>\n",
              "</table>\n",
              "</div>"
            ],
            "text/plain": [
              "       Case Number                    Date Primary Type Location Description  \\\n",
              "25445     HM763064  12/08/2006 03:14:00 PM     HOMICIDE               OFFICE   \n",
              "58104     JB483810  10/21/2018 02:39:00 AM     HOMICIDE                 AUTO   \n",
              "74485     HK172551  02/08/2004 11:44:00 PM     HOMICIDE               CHURCH   \n",
              "80580     HV620483  12/31/2012 04:49:00 PM     HOMICIDE            APARTMENT   \n",
              "126290    HR146859  01/31/2009 01:10:00 AM     HOMICIDE            APARTMENT   \n",
              "\n",
              "        Arrest  Domestic  Beat District  Ward  Year   Latitude  Longitude  \n",
              "25445     True     False   111      1.0  42.0  2006  41.881884 -87.640060  \n",
              "58104    False     False  1523     15.0  28.0  2018  41.883604 -87.757629  \n",
              "74485    False     False  1123     11.0  28.0  2004  41.880909 -87.711843  \n",
              "80580     True      True  1012     10.0  24.0  2012  41.852505 -87.730687  \n",
              "126290    True     False  1712     17.0  39.0  2009  41.971903 -87.726290  "
            ]
          },
          "execution_count": 41,
          "metadata": {},
          "output_type": "execute_result"
        }
      ],
      "source": [
        "non_unique_case_number_df = c_crime_df[c_crime_df.duplicated('Case Number', keep=False)]\n",
        "non_unique_case_number_df.head() # Saving non_unique case number dataframe for future use."
      ]
    },
    {
      "cell_type": "markdown",
      "id": "1b54426f",
      "metadata": {
        "id": "1b54426f"
      },
      "source": [
        "Observation: There are 2275789 unique values of case number out of 2275836 , it means there are 2275789 cases registered with a single crime the rest 92 are the case numbers which have commited multiple crimes."
      ]
    },
    {
      "cell_type": "markdown",
      "id": "9c4a605d",
      "metadata": {
        "id": "9c4a605d"
      },
      "source": [
        "2. Top 10 - Number of cases each day"
      ]
    },
    {
      "cell_type": "code",
      "execution_count": null,
      "id": "6ce8dcc6",
      "metadata": {
        "ExecuteTime": {
          "end_time": "2024-03-22T20:20:15.651076Z",
          "start_time": "2024-03-22T20:20:12.816810Z"
        },
        "id": "6ce8dcc6"
      },
      "outputs": [],
      "source": [
        "# Function to convert Date from \"DD/MM/YYYY HH:MM:SS\" to \"DD/MM/YYYY\"\n",
        "\n",
        "def date_column(df) :\n",
        "    date_list = []\n",
        "    for i in df['Date'] :\n",
        "        date_spliter = i.split()[0]\n",
        "        date_list.append(date_spliter)\n",
        "    return date_list\n",
        "date_column(c_crime_df)\n",
        "\n",
        "\n",
        "c_crime_df['date'] = date_column(c_crime_df)"
      ]
    },
    {
      "cell_type": "code",
      "execution_count": null,
      "id": "f21f7bf1",
      "metadata": {
        "ExecuteTime": {
          "end_time": "2024-03-22T20:20:21.146254Z",
          "start_time": "2024-03-22T20:20:20.549459Z"
        },
        "id": "f21f7bf1",
        "outputId": "3bf90441-cef5-4803-8c20-9d91ce674387"
      },
      "outputs": [
        {
          "data": {
            "text/html": [
              "<div>\n",
              "<style scoped>\n",
              "    .dataframe tbody tr th:only-of-type {\n",
              "        vertical-align: middle;\n",
              "    }\n",
              "\n",
              "    .dataframe tbody tr th {\n",
              "        vertical-align: top;\n",
              "    }\n",
              "\n",
              "    .dataframe thead th {\n",
              "        text-align: right;\n",
              "    }\n",
              "</style>\n",
              "<table border=\"1\" class=\"dataframe\">\n",
              "  <thead>\n",
              "    <tr style=\"text-align: right;\">\n",
              "      <th></th>\n",
              "      <th>date</th>\n",
              "    </tr>\n",
              "    <tr>\n",
              "      <th>no_of_cases</th>\n",
              "      <th></th>\n",
              "    </tr>\n",
              "  </thead>\n",
              "  <tbody>\n",
              "    <tr>\n",
              "      <th>607</th>\n",
              "      <td>01/01/2003</td>\n",
              "    </tr>\n",
              "    <tr>\n",
              "      <th>604</th>\n",
              "      <td>01/01/2005</td>\n",
              "    </tr>\n",
              "    <tr>\n",
              "      <th>582</th>\n",
              "      <td>01/01/2007</td>\n",
              "    </tr>\n",
              "    <tr>\n",
              "      <th>580</th>\n",
              "      <td>01/01/2004</td>\n",
              "    </tr>\n",
              "    <tr>\n",
              "      <th>570</th>\n",
              "      <td>01/01/2001</td>\n",
              "    </tr>\n",
              "    <tr>\n",
              "      <th>564</th>\n",
              "      <td>01/01/2009</td>\n",
              "    </tr>\n",
              "    <tr>\n",
              "      <th>564</th>\n",
              "      <td>01/01/2002</td>\n",
              "    </tr>\n",
              "    <tr>\n",
              "      <th>564</th>\n",
              "      <td>10/01/2001</td>\n",
              "    </tr>\n",
              "    <tr>\n",
              "      <th>560</th>\n",
              "      <td>11/01/2001</td>\n",
              "    </tr>\n",
              "    <tr>\n",
              "      <th>559</th>\n",
              "      <td>06/01/2004</td>\n",
              "    </tr>\n",
              "  </tbody>\n",
              "</table>\n",
              "</div>"
            ],
            "text/plain": [
              "                   date\n",
              "no_of_cases            \n",
              "607          01/01/2003\n",
              "604          01/01/2005\n",
              "582          01/01/2007\n",
              "580          01/01/2004\n",
              "570          01/01/2001\n",
              "564          01/01/2009\n",
              "564          01/01/2002\n",
              "564          10/01/2001\n",
              "560          11/01/2001\n",
              "559          06/01/2004"
            ]
          },
          "execution_count": 43,
          "metadata": {},
          "output_type": "execute_result"
        }
      ],
      "source": [
        "# Top 10 - Number of cases each day?\n",
        "\n",
        "top_10_num_of_cases_each_day = c_crime_df.groupby(['date'])['Case Number'].count().reset_index(name = 'no_of_cases').set_index('no_of_cases').sort_index(ascending = False)[:10]\n",
        "top_10_num_of_cases_each_day"
      ]
    },
    {
      "cell_type": "code",
      "execution_count": null,
      "id": "16cdbf6a",
      "metadata": {
        "ExecuteTime": {
          "end_time": "2024-03-22T20:20:23.513527Z",
          "start_time": "2024-03-22T20:20:21.434427Z"
        },
        "id": "16cdbf6a",
        "outputId": "57508ffa-a169-4429-9568-4d2e70faf9a2"
      },
      "outputs": [
        {
          "data": {
            "image/png": "[encoded data removed]",
            "text/plain": [
              "<Figure size 640x480 with 1 Axes>"
            ]
          },
          "metadata": {},
          "output_type": "display_data"
        }
      ],
      "source": [
        "top_10_num_of_cases_each_day_df = pd.DataFrame(top_10_num_of_cases_each_day)\n",
        "index_df = top_10_num_of_cases_each_day_df.index\n",
        "\n",
        "sns.barplot(x = index_df , y = 'date' , data = top_10_num_of_cases_each_day_df)\n",
        "plt.title(\"Most cases per day - Bar plot\")\n",
        "plt.xlabel(\"Number of Cases\")\n",
        "plt.ylabel(\"Date\")\n",
        "plt.show()"
      ]
    },
    {
      "cell_type": "markdown",
      "id": "b8e559a9",
      "metadata": {
        "id": "b8e559a9"
      },
      "source": [
        "Observation: The average Number of cases per day could be more than 550"
      ]
    },
    {
      "cell_type": "markdown",
      "id": "da9b2502",
      "metadata": {
        "id": "da9b2502"
      },
      "source": [
        "3. __Number of crime by type__</br>\n",
        "We try to indentify the trend and highpoints or lowpoints."
      ]
    },
    {
      "cell_type": "code",
      "execution_count": null,
      "id": "530d94f9",
      "metadata": {
        "ExecuteTime": {
          "end_time": "2024-03-22T20:20:50.673971Z",
          "start_time": "2024-03-22T20:20:50.172851Z"
        },
        "id": "530d94f9",
        "outputId": "49ff6943-642a-4ed8-fcef-07da17e52cf8"
      },
      "outputs": [
        {
          "data": {
            "application/vnd.plotly.v1+json": {
              "config": {
                "plotlyServerURL": "https://plot.ly"
              },
              "data": [
                {
                  "alignmentgroup": "True",
                  "hovertemplate": "Type=%{x}<br>Freq=%{marker.color}<extra></extra>",
                  "legendgroup": "",
                  "marker": {
                    "color": [
                      479153,
                      418647,
                      259959,
                      222861,
                      147662,
                      141627,
                      125161,
                      105852,
                      96707,
                      85694,
                      63498,
                      30210,
                      20795,
                      16320,
                      15510
                    ],
                    "coloraxis": "coloraxis",
                    "pattern": {
                      "shape": ""
                    }
                  },
                  "name": "",
                  "offsetgroup": "",
                  "orientation": "v",
                  "showlegend": false,
                  "text": [
                    479153,
                    418647,
                    259959,
                    222861,
                    147662,
                    141627,
                    125161,
                    105852,
                    96707,
                    85694,
                    63498,
                    30210,
                    20795,
                    16320,
                    15510
                  ],
                  "textposition": "outside",
                  "texttemplate": "%{text:.2s}",
                  "type": "bar",
                  "x": [
                    "THEFT",
                    "BATTERY",
                    "CRIMINAL DAMAGE",
                    "NARCOTICS",
                    "ASSAULT",
                    "OTHER OFFENSE",
                    "BURGLARY",
                    "MOTOR VEHICLE THEFT",
                    "DECEPTIVE PRACTICE",
                    "ROBBERY",
                    "CRIMINAL TRESPASS",
                    "WEAPONS VIOLATION",
                    "PROSTITUTION",
                    "OFFENSE INVOLVING CHILDREN",
                    "PUBLIC PEACE VIOLATION"
                  ],
                  "xaxis": "x",
                  "y": [
                    479153,
                    418647,
                    259959,
                    222861,
                    147662,
                    141627,
                    125161,
                    105852,
                    96707,
                    85694,
                    63498,
                    30210,
                    20795,
                    16320,
                    15510
                  ],
                  "yaxis": "y"
                }
              ],
              "layout": {
                "barmode": "relative",
                "coloraxis": {
                  "colorbar": {
                    "title": {
                      "text": "Freq"
                    }
                  },
                  "colorscale": [
                    [
                      0,
                      "rgb(196, 230, 195)"
                    ],
                    [
                      0.16666666666666666,
                      "rgb(150, 210, 164)"
                    ],
                    [
                      0.3333333333333333,
                      "rgb(109, 188, 144)"
                    ],
                    [
                      0.5,
                      "rgb(77, 162, 132)"
                    ],
                    [
                      0.6666666666666666,
                      "rgb(54, 135, 122)"
                    ],
                    [
                      0.8333333333333334,
                      "rgb(38, 107, 110)"
                    ],
                    [
                      1,
                      "rgb(29, 79, 96)"
                    ]
                  ]
                },
                "legend": {
                  "tracegroupgap": 0
                },
                "margin": {
                  "t": 60
                },
                "template": {
                  "data": {
                    "bar": [
                      {
                        "error_x": {
                          "color": "#2a3f5f"
                        },
                        "error_y": {
                          "color": "#2a3f5f"
                        },
                        "marker": {
                          "line": {
                            "color": "#E5ECF6",
                            "width": 0.5
                          },
                          "pattern": {
                            "fillmode": "overlay",
                            "size": 10,
                            "solidity": 0.2
                          }
                        },
                        "type": "bar"
                      }
                    ],
                    "barpolar": [
                      {
                        "marker": {
                          "line": {
                            "color": "#E5ECF6",
                            "width": 0.5
                          },
                          "pattern": {
                            "fillmode": "overlay",
                            "size": 10,
                            "solidity": 0.2
                          }
                        },
                        "type": "barpolar"
                      }
                    ],
                    "carpet": [
                      {
                        "aaxis": {
                          "endlinecolor": "#2a3f5f",
                          "gridcolor": "white",
                          "linecolor": "white",
                          "minorgridcolor": "white",
                          "startlinecolor": "#2a3f5f"
                        },
                        "baxis": {
                          "endlinecolor": "#2a3f5f",
                          "gridcolor": "white",
                          "linecolor": "white",
                          "minorgridcolor": "white",
                          "startlinecolor": "#2a3f5f"
                        },
                        "type": "carpet"
                      }
                    ],
                    "choropleth": [
                      {
                        "colorbar": {
                          "outlinewidth": 0,
                          "ticks": ""
                        },
                        "type": "choropleth"
                      }
                    ],
                    "contour": [
                      {
                        "colorbar": {
                          "outlinewidth": 0,
                          "ticks": ""
                        },
                        "colorscale": [
                          [
                            0,
                            "#0d0887"
                          ],
                          [
                            0.1111111111111111,
                            "#46039f"
                          ],
                          [
                            0.2222222222222222,
                            "#7201a8"
                          ],
                          [
                            0.3333333333333333,
                            "#9c179e"
                          ],
                          [
                            0.4444444444444444,
                            "#bd3786"
                          ],
                          [
                            0.5555555555555556,
                            "#d8576b"
                          ],
                          [
                            0.6666666666666666,
                            "#ed7953"
                          ],
                          [
                            0.7777777777777778,
                            "#fb9f3a"
                          ],
                          [
                            0.8888888888888888,
                            "#fdca26"
                          ],
                          [
                            1,
                            "#f0f921"
                          ]
                        ],
                        "type": "contour"
                      }
                    ],
                    "contourcarpet": [
                      {
                        "colorbar": {
                          "outlinewidth": 0,
                          "ticks": ""
                        },
                        "type": "contourcarpet"
                      }
                    ],
                    "heatmap": [
                      {
                        "colorbar": {
                          "outlinewidth": 0,
                          "ticks": ""
                        },
                        "colorscale": [
                          [
                            0,
                            "#0d0887"
                          ],
                          [
                            0.1111111111111111,
                            "#46039f"
                          ],
                          [
                            0.2222222222222222,
                            "#7201a8"
                          ],
                          [
                            0.3333333333333333,
                            "#9c179e"
                          ],
                          [
                            0.4444444444444444,
                            "#bd3786"
                          ],
                          [
                            0.5555555555555556,
                            "#d8576b"
                          ],
                          [
                            0.6666666666666666,
                            "#ed7953"
                          ],
                          [
                            0.7777777777777778,
                            "#fb9f3a"
                          ],
                          [
                            0.8888888888888888,
                            "#fdca26"
                          ],
                          [
                            1,
                            "#f0f921"
                          ]
                        ],
                        "type": "heatmap"
                      }
                    ],
                    "heatmapgl": [
                      {
                        "colorbar": {
                          "outlinewidth": 0,
                          "ticks": ""
                        },
                        "colorscale": [
                          [
                            0,
                            "#0d0887"
                          ],
                          [
                            0.1111111111111111,
                            "#46039f"
                          ],
                          [
                            0.2222222222222222,
                            "#7201a8"
                          ],
                          [
                            0.3333333333333333,
                            "#9c179e"
                          ],
                          [
                            0.4444444444444444,
                            "#bd3786"
                          ],
                          [
                            0.5555555555555556,
                            "#d8576b"
                          ],
                          [
                            0.6666666666666666,
                            "#ed7953"
                          ],
                          [
                            0.7777777777777778,
                            "#fb9f3a"
                          ],
                          [
                            0.8888888888888888,
                            "#fdca26"
                          ],
                          [
                            1,
                            "#f0f921"
                          ]
                        ],
                        "type": "heatmapgl"
                      }
                    ],
                    "histogram": [
                      {
                        "marker": {
                          "pattern": {
                            "fillmode": "overlay",
                            "size": 10,
                            "solidity": 0.2
                          }
                        },
                        "type": "histogram"
                      }
                    ],
                    "histogram2d": [
                      {
                        "colorbar": {
                          "outlinewidth": 0,
                          "ticks": ""
                        },
                        "colorscale": [
                          [
                            0,
                            "#0d0887"
                          ],
                          [
                            0.1111111111111111,
                            "#46039f"
                          ],
                          [
                            0.2222222222222222,
                            "#7201a8"
                          ],
                          [
                            0.3333333333333333,
                            "#9c179e"
                          ],
                          [
                            0.4444444444444444,
                            "#bd3786"
                          ],
                          [
                            0.5555555555555556,
                            "#d8576b"
                          ],
                          [
                            0.6666666666666666,
                            "#ed7953"
                          ],
                          [
                            0.7777777777777778,
                            "#fb9f3a"
                          ],
                          [
                            0.8888888888888888,
                            "#fdca26"
                          ],
                          [
                            1,
                            "#f0f921"
                          ]
                        ],
                        "type": "histogram2d"
                      }
                    ],
                    "histogram2dcontour": [
                      {
                        "colorbar": {
                          "outlinewidth": 0,
                          "ticks": ""
                        },
                        "colorscale": [
                          [
                            0,
                            "#0d0887"
                          ],
                          [
                            0.1111111111111111,
                            "#46039f"
                          ],
                          [
                            0.2222222222222222,
                            "#7201a8"
                          ],
                          [
                            0.3333333333333333,
                            "#9c179e"
                          ],
                          [
                            0.4444444444444444,
                            "#bd3786"
                          ],
                          [
                            0.5555555555555556,
                            "#d8576b"
                          ],
                          [
                            0.6666666666666666,
                            "#ed7953"
                          ],
                          [
                            0.7777777777777778,
                            "#fb9f3a"
                          ],
                          [
                            0.8888888888888888,
                            "#fdca26"
                          ],
                          [
                            1,
                            "#f0f921"
                          ]
                        ],
                        "type": "histogram2dcontour"
                      }
                    ],
                    "mesh3d": [
                      {
                        "colorbar": {
                          "outlinewidth": 0,
                          "ticks": ""
                        },
                        "type": "mesh3d"
                      }
                    ],
                    "parcoords": [
                      {
                        "line": {
                          "colorbar": {
                            "outlinewidth": 0,
                            "ticks": ""
                          }
                        },
                        "type": "parcoords"
                      }
                    ],
                    "pie": [
                      {
                        "automargin": true,
                        "type": "pie"
                      }
                    ],
                    "scatter": [
                      {
                        "fillpattern": {
                          "fillmode": "overlay",
                          "size": 10,
                          "solidity": 0.2
                        },
                        "type": "scatter"
                      }
                    ],
                    "scatter3d": [
                      {
                        "line": {
                          "colorbar": {
                            "outlinewidth": 0,
                            "ticks": ""
                          }
                        },
                        "marker": {
                          "colorbar": {
                            "outlinewidth": 0,
                            "ticks": ""
                          }
                        },
                        "type": "scatter3d"
                      }
                    ],
                    "scattercarpet": [
                      {
                        "marker": {
                          "colorbar": {
                            "outlinewidth": 0,
                            "ticks": ""
                          }
                        },
                        "type": "scattercarpet"
                      }
                    ],
                    "scattergeo": [
                      {
                        "marker": {
                          "colorbar": {
                            "outlinewidth": 0,
                            "ticks": ""
                          }
                        },
                        "type": "scattergeo"
                      }
                    ],
                    "scattergl": [
                      {
                        "marker": {
                          "colorbar": {
                            "outlinewidth": 0,
                            "ticks": ""
                          }
                        },
                        "type": "scattergl"
                      }
                    ],
                    "scattermapbox": [
                      {
                        "marker": {
                          "colorbar": {
                            "outlinewidth": 0,
                            "ticks": ""
                          }
                        },
                        "type": "scattermapbox"
                      }
                    ],
                    "scatterpolar": [
                      {
                        "marker": {
                          "colorbar": {
                            "outlinewidth": 0,
                            "ticks": ""
                          }
                        },
                        "type": "scatterpolar"
                      }
                    ],
                    "scatterpolargl": [
                      {
                        "marker": {
                          "colorbar": {
                            "outlinewidth": 0,
                            "ticks": ""
                          }
                        },
                        "type": "scatterpolargl"
                      }
                    ],
                    "scatterternary": [
                      {
                        "marker": {
                          "colorbar": {
                            "outlinewidth": 0,
                            "ticks": ""
                          }
                        },
                        "type": "scatterternary"
                      }
                    ],
                    "surface": [
                      {
                        "colorbar": {
                          "outlinewidth": 0,
                          "ticks": ""
                        },
                        "colorscale": [
                          [
                            0,
                            "#0d0887"
                          ],
                          [
                            0.1111111111111111,
                            "#46039f"
                          ],
                          [
                            0.2222222222222222,
                            "#7201a8"
                          ],
                          [
                            0.3333333333333333,
                            "#9c179e"
                          ],
                          [
                            0.4444444444444444,
                            "#bd3786"
                          ],
                          [
                            0.5555555555555556,
                            "#d8576b"
                          ],
                          [
                            0.6666666666666666,
                            "#ed7953"
                          ],
                          [
                            0.7777777777777778,
                            "#fb9f3a"
                          ],
                          [
                            0.8888888888888888,
                            "#fdca26"
                          ],
                          [
                            1,
                            "#f0f921"
                          ]
                        ],
                        "type": "surface"
                      }
                    ],
                    "table": [
                      {
                        "cells": {
                          "fill": {
                            "color": "#EBF0F8"
                          },
                          "line": {
                            "color": "white"
                          }
                        },
                        "header": {
                          "fill": {
                            "color": "#C8D4E3"
                          },
                          "line": {
                            "color": "white"
                          }
                        },
                        "type": "table"
                      }
                    ]
                  },
                  "layout": {
                    "annotationdefaults": {
                      "arrowcolor": "#2a3f5f",
                      "arrowhead": 0,
                      "arrowwidth": 1
                    },
                    "autotypenumbers": "strict",
                    "coloraxis": {
                      "colorbar": {
                        "outlinewidth": 0,
                        "ticks": ""
                      }
                    },
                    "colorscale": {
                      "diverging": [
                        [
                          0,
                          "#8e0152"
                        ],
                        [
                          0.1,
                          "#c51b7d"
                        ],
                        [
                          0.2,
                          "#de77ae"
                        ],
                        [
                          0.3,
                          "#f1b6da"
                        ],
                        [
                          0.4,
                          "#fde0ef"
                        ],
                        [
                          0.5,
                          "#f7f7f7"
                        ],
                        [
                          0.6,
                          "#e6f5d0"
                        ],
                        [
                          0.7,
                          "#b8e186"
                        ],
                        [
                          0.8,
                          "#7fbc41"
                        ],
                        [
                          0.9,
                          "#4d9221"
                        ],
                        [
                          1,
                          "#276419"
                        ]
                      ],
                      "sequential": [
                        [
                          0,
                          "#0d0887"
                        ],
                        [
                          0.1111111111111111,
                          "#46039f"
                        ],
                        [
                          0.2222222222222222,
                          "#7201a8"
                        ],
                        [
                          0.3333333333333333,
                          "#9c179e"
                        ],
                        [
                          0.4444444444444444,
                          "#bd3786"
                        ],
                        [
                          0.5555555555555556,
                          "#d8576b"
                        ],
                        [
                          0.6666666666666666,
                          "#ed7953"
                        ],
                        [
                          0.7777777777777778,
                          "#fb9f3a"
                        ],
                        [
                          0.8888888888888888,
                          "#fdca26"
                        ],
                        [
                          1,
                          "#f0f921"
                        ]
                      ],
                      "sequentialminus": [
                        [
                          0,
                          "#0d0887"
                        ],
                        [
                          0.1111111111111111,
                          "#46039f"
                        ],
                        [
                          0.2222222222222222,
                          "#7201a8"
                        ],
                        [
                          0.3333333333333333,
                          "#9c179e"
                        ],
                        [
                          0.4444444444444444,
                          "#bd3786"
                        ],
                        [
                          0.5555555555555556,
                          "#d8576b"
                        ],
                        [
                          0.6666666666666666,
                          "#ed7953"
                        ],
                        [
                          0.7777777777777778,
                          "#fb9f3a"
                        ],
                        [
                          0.8888888888888888,
                          "#fdca26"
                        ],
                        [
                          1,
                          "#f0f921"
                        ]
                      ]
                    },
                    "colorway": [
                      "#636efa",
                      "#EF553B",
                      "#00cc96",
                      "#ab63fa",
                      "#FFA15A",
                      "#19d3f3",
                      "#FF6692",
                      "#B6E880",
                      "#FF97FF",
                      "#FECB52"
                    ],
                    "font": {
                      "color": "#2a3f5f"
                    },
                    "geo": {
                      "bgcolor": "white",
                      "lakecolor": "white",
                      "landcolor": "#E5ECF6",
                      "showlakes": true,
                      "showland": true,
                      "subunitcolor": "white"
                    },
                    "hoverlabel": {
                      "align": "left"
                    },
                    "hovermode": "closest",
                    "mapbox": {
                      "style": "light"
                    },
                    "paper_bgcolor": "white",
                    "plot_bgcolor": "#E5ECF6",
                    "polar": {
                      "angularaxis": {
                        "gridcolor": "white",
                        "linecolor": "white",
                        "ticks": ""
                      },
                      "bgcolor": "#E5ECF6",
                      "radialaxis": {
                        "gridcolor": "white",
                        "linecolor": "white",
                        "ticks": ""
                      }
                    },
                    "scene": {
                      "xaxis": {
                        "backgroundcolor": "#E5ECF6",
                        "gridcolor": "white",
                        "gridwidth": 2,
                        "linecolor": "white",
                        "showbackground": true,
                        "ticks": "",
                        "zerolinecolor": "white"
                      },
                      "yaxis": {
                        "backgroundcolor": "#E5ECF6",
                        "gridcolor": "white",
                        "gridwidth": 2,
                        "linecolor": "white",
                        "showbackground": true,
                        "ticks": "",
                        "zerolinecolor": "white"
                      },
                      "zaxis": {
                        "backgroundcolor": "#E5ECF6",
                        "gridcolor": "white",
                        "gridwidth": 2,
                        "linecolor": "white",
                        "showbackground": true,
                        "ticks": "",
                        "zerolinecolor": "white"
                      }
                    },
                    "shapedefaults": {
                      "line": {
                        "color": "#2a3f5f"
                      }
                    },
                    "ternary": {
                      "aaxis": {
                        "gridcolor": "white",
                        "linecolor": "white",
                        "ticks": ""
                      },
                      "baxis": {
                        "gridcolor": "white",
                        "linecolor": "white",
                        "ticks": ""
                      },
                      "bgcolor": "#E5ECF6",
                      "caxis": {
                        "gridcolor": "white",
                        "linecolor": "white",
                        "ticks": ""
                      }
                    },
                    "title": {
                      "x": 0.05
                    },
                    "xaxis": {
                      "automargin": true,
                      "gridcolor": "white",
                      "linecolor": "white",
                      "ticks": "",
                      "title": {
                        "standoff": 15
                      },
                      "zerolinecolor": "white",
                      "zerolinewidth": 2
                    },
                    "yaxis": {
                      "automargin": true,
                      "gridcolor": "white",
                      "linecolor": "white",
                      "ticks": "",
                      "title": {
                        "standoff": 15
                      },
                      "zerolinecolor": "white",
                      "zerolinewidth": 2
                    }
                  }
                },
                "title": {
                  "text": "Type of Crimes"
                },
                "uniformtext": {
                  "minsize": 8,
                  "mode": "hide"
                },
                "xaxis": {
                  "anchor": "y",
                  "domain": [
                    0,
                    1
                  ],
                  "title": {
                    "text": "Type"
                  }
                },
                "yaxis": {
                  "anchor": "x",
                  "domain": [
                    0,
                    1
                  ],
                  "title": {
                    "text": "Freq"
                  }
                }
              }
            },
            "text/html": [
              "<div>                            <div id=\"9b3dff43-ed35-4a98-9b46-77cc9d952fee\" class=\"plotly-graph-div\" style=\"height:525px; width:100%;\"></div>            <script type=\"text/javascript\">                require([\"plotly\"], function(Plotly) {                    window.PLOTLYENV=window.PLOTLYENV || {};                                    if (document.getElementById(\"9b3dff43-ed35-4a98-9b46-77cc9d952fee\")) {                    Plotly.newPlot(                        \"9b3dff43-ed35-4a98-9b46-77cc9d952fee\",                        [{\"alignmentgroup\":\"True\",\"hovertemplate\":\"Type=%{x}<br>Freq=%{marker.color}<extra></extra>\",\"legendgroup\":\"\",\"marker\":{\"color\":[479153,418647,259959,222861,147662,141627,125161,105852,96707,85694,63498,30210,20795,16320,15510],\"coloraxis\":\"coloraxis\",\"pattern\":{\"shape\":\"\"}},\"name\":\"\",\"offsetgroup\":\"\",\"orientation\":\"v\",\"showlegend\":false,\"text\":[479153.0,418647.0,259959.0,222861.0,147662.0,141627.0,125161.0,105852.0,96707.0,85694.0,63498.0,30210.0,20795.0,16320.0,15510.0],\"textposition\":\"outside\",\"x\":[\"THEFT\",\"BATTERY\",\"CRIMINAL DAMAGE\",\"NARCOTICS\",\"ASSAULT\",\"OTHER OFFENSE\",\"BURGLARY\",\"MOTOR VEHICLE THEFT\",\"DECEPTIVE PRACTICE\",\"ROBBERY\",\"CRIMINAL TRESPASS\",\"WEAPONS VIOLATION\",\"PROSTITUTION\",\"OFFENSE INVOLVING CHILDREN\",\"PUBLIC PEACE VIOLATION\"],\"xaxis\":\"x\",\"y\":[479153,418647,259959,222861,147662,141627,125161,105852,96707,85694,63498,30210,20795,16320,15510],\"yaxis\":\"y\",\"type\":\"bar\",\"texttemplate\":\"%{text:.2s}\"}],                        {\"template\":{\"data\":{\"histogram2dcontour\":[{\"type\":\"histogram2dcontour\",\"colorbar\":{\"outlinewidth\":0,\"ticks\":\"\"},\"colorscale\":[[0.0,\"#0d0887\"],[0.1111111111111111,\"#46039f\"],[0.2222222222222222,\"#7201a8\"],[0.3333333333333333,\"#9c179e\"],[0.4444444444444444,\"#bd3786\"],[0.5555555555555556,\"#d8576b\"],[0.6666666666666666,\"#ed7953\"],[0.7777777777777778,\"#fb9f3a\"],[0.8888888888888888,\"#fdca26\"],[1.0,\"#f0f921\"]]}],\"choropleth\":[{\"type\":\"choropleth\",\"colorbar\":{\"outlinewidth\":0,\"ticks\":\"\"}}],\"histogram2d\":[{\"type\":\"histogram2d\",\"colorbar\":{\"outlinewidth\":0,\"ticks\":\"\"},\"colorscale\":[[0.0,\"#0d0887\"],[0.1111111111111111,\"#46039f\"],[0.2222222222222222,\"#7201a8\"],[0.3333333333333333,\"#9c179e\"],[0.4444444444444444,\"#bd3786\"],[0.5555555555555556,\"#d8576b\"],[0.6666666666666666,\"#ed7953\"],[0.7777777777777778,\"#fb9f3a\"],[0.8888888888888888,\"#fdca26\"],[1.0,\"#f0f921\"]]}],\"heatmap\":[{\"type\":\"heatmap\",\"colorbar\":{\"outlinewidth\":0,\"ticks\":\"\"},\"colorscale\":[[0.0,\"#0d0887\"],[0.1111111111111111,\"#46039f\"],[0.2222222222222222,\"#7201a8\"],[0.3333333333333333,\"#9c179e\"],[0.4444444444444444,\"#bd3786\"],[0.5555555555555556,\"#d8576b\"],[0.6666666666666666,\"#ed7953\"],[0.7777777777777778,\"#fb9f3a\"],[0.8888888888888888,\"#fdca26\"],[1.0,\"#f0f921\"]]}],\"heatmapgl\":[{\"type\":\"heatmapgl\",\"colorbar\":{\"outlinewidth\":0,\"ticks\":\"\"},\"colorscale\":[[0.0,\"#0d0887\"],[0.1111111111111111,\"#46039f\"],[0.2222222222222222,\"#7201a8\"],[0.3333333333333333,\"#9c179e\"],[0.4444444444444444,\"#bd3786\"],[0.5555555555555556,\"#d8576b\"],[0.6666666666666666,\"#ed7953\"],[0.7777777777777778,\"#fb9f3a\"],[0.8888888888888888,\"#fdca26\"],[1.0,\"#f0f921\"]]}],\"contourcarpet\":[{\"type\":\"contourcarpet\",\"colorbar\":{\"outlinewidth\":0,\"ticks\":\"\"}}],\"contour\":[{\"type\":\"contour\",\"colorbar\":{\"outlinewidth\":0,\"ticks\":\"\"},\"colorscale\":[[0.0,\"#0d0887\"],[0.1111111111111111,\"#46039f\"],[0.2222222222222222,\"#7201a8\"],[0.3333333333333333,\"#9c179e\"],[0.4444444444444444,\"#bd3786\"],[0.5555555555555556,\"#d8576b\"],[0.6666666666666666,\"#ed7953\"],[0.7777777777777778,\"#fb9f3a\"],[0.8888888888888888,\"#fdca26\"],[1.0,\"#f0f921\"]]}],\"surface\":[{\"type\":\"surface\",\"colorbar\":{\"outlinewidth\":0,\"ticks\":\"\"},\"colorscale\":[[0.0,\"#0d0887\"],[0.1111111111111111,\"#46039f\"],[0.2222222222222222,\"#7201a8\"],[0.3333333333333333,\"#9c179e\"],[0.4444444444444444,\"#bd3786\"],[0.5555555555555556,\"#d8576b\"],[0.6666666666666666,\"#ed7953\"],[0.7777777777777778,\"#fb9f3a\"],[0.8888888888888888,\"#fdca26\"],[1.0,\"#f0f921\"]]}],\"mesh3d\":[{\"type\":\"mesh3d\",\"colorbar\":{\"outlinewidth\":0,\"ticks\":\"\"}}],\"scatter\":[{\"fillpattern\":{\"fillmode\":\"overlay\",\"size\":10,\"solidity\":0.2},\"type\":\"scatter\"}],\"parcoords\":[{\"type\":\"parcoords\",\"line\":{\"colorbar\":{\"outlinewidth\":0,\"ticks\":\"\"}}}],\"scatterpolargl\":[{\"type\":\"scatterpolargl\",\"marker\":{\"colorbar\":{\"outlinewidth\":0,\"ticks\":\"\"}}}],\"bar\":[{\"error_x\":{\"color\":\"#2a3f5f\"},\"error_y\":{\"color\":\"#2a3f5f\"},\"marker\":{\"line\":{\"color\":\"#E5ECF6\",\"width\":0.5},\"pattern\":{\"fillmode\":\"overlay\",\"size\":10,\"solidity\":0.2}},\"type\":\"bar\"}],\"scattergeo\":[{\"type\":\"scattergeo\",\"marker\":{\"colorbar\":{\"outlinewidth\":0,\"ticks\":\"\"}}}],\"scatterpolar\":[{\"type\":\"scatterpolar\",\"marker\":{\"colorbar\":{\"outlinewidth\":0,\"ticks\":\"\"}}}],\"histogram\":[{\"marker\":{\"pattern\":{\"fillmode\":\"overlay\",\"size\":10,\"solidity\":0.2}},\"type\":\"histogram\"}],\"scattergl\":[{\"type\":\"scattergl\",\"marker\":{\"colorbar\":{\"outlinewidth\":0,\"ticks\":\"\"}}}],\"scatter3d\":[{\"type\":\"scatter3d\",\"line\":{\"colorbar\":{\"outlinewidth\":0,\"ticks\":\"\"}},\"marker\":{\"colorbar\":{\"outlinewidth\":0,\"ticks\":\"\"}}}],\"scattermapbox\":[{\"type\":\"scattermapbox\",\"marker\":{\"colorbar\":{\"outlinewidth\":0,\"ticks\":\"\"}}}],\"scatterternary\":[{\"type\":\"scatterternary\",\"marker\":{\"colorbar\":{\"outlinewidth\":0,\"ticks\":\"\"}}}],\"scattercarpet\":[{\"type\":\"scattercarpet\",\"marker\":{\"colorbar\":{\"outlinewidth\":0,\"ticks\":\"\"}}}],\"carpet\":[{\"aaxis\":{\"endlinecolor\":\"#2a3f5f\",\"gridcolor\":\"white\",\"linecolor\":\"white\",\"minorgridcolor\":\"white\",\"startlinecolor\":\"#2a3f5f\"},\"baxis\":{\"endlinecolor\":\"#2a3f5f\",\"gridcolor\":\"white\",\"linecolor\":\"white\",\"minorgridcolor\":\"white\",\"startlinecolor\":\"#2a3f5f\"},\"type\":\"carpet\"}],\"table\":[{\"cells\":{\"fill\":{\"color\":\"#EBF0F8\"},\"line\":{\"color\":\"white\"}},\"header\":{\"fill\":{\"color\":\"#C8D4E3\"},\"line\":{\"color\":\"white\"}},\"type\":\"table\"}],\"barpolar\":[{\"marker\":{\"line\":{\"color\":\"#E5ECF6\",\"width\":0.5},\"pattern\":{\"fillmode\":\"overlay\",\"size\":10,\"solidity\":0.2}},\"type\":\"barpolar\"}],\"pie\":[{\"automargin\":true,\"type\":\"pie\"}]},\"layout\":{\"autotypenumbers\":\"strict\",\"colorway\":[\"#636efa\",\"#EF553B\",\"#00cc96\",\"#ab63fa\",\"#FFA15A\",\"#19d3f3\",\"#FF6692\",\"#B6E880\",\"#FF97FF\",\"#FECB52\"],\"font\":{\"color\":\"#2a3f5f\"},\"hovermode\":\"closest\",\"hoverlabel\":{\"align\":\"left\"},\"paper_bgcolor\":\"white\",\"plot_bgcolor\":\"#E5ECF6\",\"polar\":{\"bgcolor\":\"#E5ECF6\",\"angularaxis\":{\"gridcolor\":\"white\",\"linecolor\":\"white\",\"ticks\":\"\"},\"radialaxis\":{\"gridcolor\":\"white\",\"linecolor\":\"white\",\"ticks\":\"\"}},\"ternary\":{\"bgcolor\":\"#E5ECF6\",\"aaxis\":{\"gridcolor\":\"white\",\"linecolor\":\"white\",\"ticks\":\"\"},\"baxis\":{\"gridcolor\":\"white\",\"linecolor\":\"white\",\"ticks\":\"\"},\"caxis\":{\"gridcolor\":\"white\",\"linecolor\":\"white\",\"ticks\":\"\"}},\"coloraxis\":{\"colorbar\":{\"outlinewidth\":0,\"ticks\":\"\"}},\"colorscale\":{\"sequential\":[[0.0,\"#0d0887\"],[0.1111111111111111,\"#46039f\"],[0.2222222222222222,\"#7201a8\"],[0.3333333333333333,\"#9c179e\"],[0.4444444444444444,\"#bd3786\"],[0.5555555555555556,\"#d8576b\"],[0.6666666666666666,\"#ed7953\"],[0.7777777777777778,\"#fb9f3a\"],[0.8888888888888888,\"#fdca26\"],[1.0,\"#f0f921\"]],\"sequentialminus\":[[0.0,\"#0d0887\"],[0.1111111111111111,\"#46039f\"],[0.2222222222222222,\"#7201a8\"],[0.3333333333333333,\"#9c179e\"],[0.4444444444444444,\"#bd3786\"],[0.5555555555555556,\"#d8576b\"],[0.6666666666666666,\"#ed7953\"],[0.7777777777777778,\"#fb9f3a\"],[0.8888888888888888,\"#fdca26\"],[1.0,\"#f0f921\"]],\"diverging\":[[0,\"#8e0152\"],[0.1,\"#c51b7d\"],[0.2,\"#de77ae\"],[0.3,\"#f1b6da\"],[0.4,\"#fde0ef\"],[0.5,\"#f7f7f7\"],[0.6,\"#e6f5d0\"],[0.7,\"#b8e186\"],[0.8,\"#7fbc41\"],[0.9,\"#4d9221\"],[1,\"#276419\"]]},\"xaxis\":{\"gridcolor\":\"white\",\"linecolor\":\"white\",\"ticks\":\"\",\"title\":{\"standoff\":15},\"zerolinecolor\":\"white\",\"automargin\":true,\"zerolinewidth\":2},\"yaxis\":{\"gridcolor\":\"white\",\"linecolor\":\"white\",\"ticks\":\"\",\"title\":{\"standoff\":15},\"zerolinecolor\":\"white\",\"automargin\":true,\"zerolinewidth\":2},\"scene\":{\"xaxis\":{\"backgroundcolor\":\"#E5ECF6\",\"gridcolor\":\"white\",\"linecolor\":\"white\",\"showbackground\":true,\"ticks\":\"\",\"zerolinecolor\":\"white\",\"gridwidth\":2},\"yaxis\":{\"backgroundcolor\":\"#E5ECF6\",\"gridcolor\":\"white\",\"linecolor\":\"white\",\"showbackground\":true,\"ticks\":\"\",\"zerolinecolor\":\"white\",\"gridwidth\":2},\"zaxis\":{\"backgroundcolor\":\"#E5ECF6\",\"gridcolor\":\"white\",\"linecolor\":\"white\",\"showbackground\":true,\"ticks\":\"\",\"zerolinecolor\":\"white\",\"gridwidth\":2}},\"shapedefaults\":{\"line\":{\"color\":\"#2a3f5f\"}},\"annotationdefaults\":{\"arrowcolor\":\"#2a3f5f\",\"arrowhead\":0,\"arrowwidth\":1},\"geo\":{\"bgcolor\":\"white\",\"landcolor\":\"#E5ECF6\",\"subunitcolor\":\"white\",\"showland\":true,\"showlakes\":true,\"lakecolor\":\"white\"},\"title\":{\"x\":0.05},\"mapbox\":{\"style\":\"light\"}}},\"xaxis\":{\"anchor\":\"y\",\"domain\":[0.0,1.0],\"title\":{\"text\":\"Type\"}},\"yaxis\":{\"anchor\":\"x\",\"domain\":[0.0,1.0],\"title\":{\"text\":\"Freq\"}},\"coloraxis\":{\"colorbar\":{\"title\":{\"text\":\"Freq\"}},\"colorscale\":[[0.0,\"rgb(196, 230, 195)\"],[0.16666666666666666,\"rgb(150, 210, 164)\"],[0.3333333333333333,\"rgb(109, 188, 144)\"],[0.5,\"rgb(77, 162, 132)\"],[0.6666666666666666,\"rgb(54, 135, 122)\"],[0.8333333333333334,\"rgb(38, 107, 110)\"],[1.0,\"rgb(29, 79, 96)\"]]},\"legend\":{\"tracegroupgap\":0},\"margin\":{\"t\":60},\"barmode\":\"relative\",\"uniformtext\":{\"minsize\":8,\"mode\":\"hide\"},\"title\":{\"text\":\"Type of Crimes\"}},                        {\"responsive\": true}                    ).then(function(){\n",
              "                            \n",
              "var gd = document.getElementById('9b3dff43-ed35-4a98-9b46-77cc9d952fee');\n",
              "var x = new MutationObserver(function (mutations, observer) {{\n",
              "        var display = window.getComputedStyle(gd).display;\n",
              "        if (!display || display === 'none') {{\n",
              "            console.log([gd, 'removed!']);\n",
              "            Plotly.purge(gd);\n",
              "            observer.disconnect();\n",
              "        }}\n",
              "}});\n",
              "\n",
              "// Listen for the removal of the full notebook cells\n",
              "var notebookContainer = gd.closest('#notebook-container');\n",
              "if (notebookContainer) {{\n",
              "    x.observe(notebookContainer, {childList: true});\n",
              "}}\n",
              "\n",
              "// Listen for the clearing of the current output cell\n",
              "var outputEl = gd.closest('.output');\n",
              "if (outputEl) {{\n",
              "    x.observe(outputEl, {childList: true});\n",
              "}}\n",
              "\n",
              "                        })                };                });            </script>        </div>"
            ]
          },
          "metadata": {},
          "output_type": "display_data"
        }
      ],
      "source": [
        "# Function to plot the serie value_counts\n",
        "def plot_counts(serie, title):\n",
        "    df = pd.DataFrame(serie.value_counts()[:15])\n",
        "    df.columns = [\"Freq\"]\n",
        "    df[\"Type\"] = df.index\n",
        "    fig = px.bar(df, y=\"Freq\", x=\"Type\", text=\"Freq\", color=\"Freq\", color_continuous_scale=px.colors.sequential.Blugrn)\n",
        "    fig.update_traces(texttemplate=\"%{text:.2s}\", textposition=\"outside\")\n",
        "    fig.update_layout(uniformtext_minsize=8, uniformtext_mode=\"hide\")\n",
        "    fig.update_layout(title_text=title)\n",
        "    fig.show()\n",
        "\n",
        "\n",
        "plot_counts(c_crime_df[\"Primary Type\"], \"Type of Crimes\")"
      ]
    },
    {
      "cell_type": "markdown",
      "id": "2ee8b340",
      "metadata": {
        "id": "2ee8b340"
      },
      "source": [
        "Observation: THEFT, BATTERY, CRIMINAL DAMAGE and NARCOTICS represents more the 65% of the crimes."
      ]
    },
    {
      "cell_type": "markdown",
      "id": "3fc29c42",
      "metadata": {
        "id": "3fc29c42"
      },
      "source": [
        "4. __Where does crimes happens the most?__"
      ]
    },
    {
      "cell_type": "code",
      "execution_count": null,
      "id": "f1a40772",
      "metadata": {
        "ExecuteTime": {
          "end_time": "2024-03-22T20:19:54.017314Z",
          "start_time": "2024-03-22T20:19:54.017314Z"
        },
        "id": "f1a40772"
      },
      "outputs": [],
      "source": [
        "plot_counts(c_crime_df[\"Location Description\"], \"Location of Crimes\")"
      ]
    },
    {
      "cell_type": "markdown",
      "id": "a0fd327c",
      "metadata": {
        "id": "a0fd327c"
      },
      "source": [
        "Crime happens mostly on the street"
      ]
    },
    {
      "cell_type": "markdown",
      "id": "f2d7899a",
      "metadata": {
        "id": "f2d7899a"
      },
      "source": [
        "5. __Number of crimes per Year x Months__ </br>\n",
        "Let's see the number of crimes per Year and Months..."
      ]
    },
    {
      "cell_type": "code",
      "execution_count": null,
      "id": "d370fd23",
      "metadata": {
        "ExecuteTime": {
          "end_time": "2024-03-22T20:19:54.032943Z",
          "start_time": "2024-03-22T20:19:54.032943Z"
        },
        "id": "d370fd23"
      },
      "outputs": [],
      "source": [
        "# first we convert the date column to datetime data type.\n",
        "\n",
        "c_crime_df['Date'] = pd.to_datetime(chicago_crime_df['Date'],format = \"%m/%d/%Y %I:%M:%S %p\")\n",
        "c_crime_df.set_index(\"Date\", inplace=True)"
      ]
    },
    {
      "cell_type": "code",
      "execution_count": null,
      "id": "ba8d289b",
      "metadata": {
        "ExecuteTime": {
          "end_time": "2024-03-22T20:19:54.048568Z",
          "start_time": "2024-03-22T20:19:54.048568Z"
        },
        "id": "ba8d289b"
      },
      "outputs": [],
      "source": [
        "cases = pd.DataFrame(c_crime_df.resample(\"ME\").size(), columns=[\"Number of cases\"])\n",
        "cases[\"Month\"] = cases.index.month.astype(str)\n",
        "cases[\"Year\"] = cases.index.year.astype(str)\n",
        "cases[\"Year-Month\"] = cases[\"Year\"].str.cat(cases[\"Month\"].str.zfill(2), sep=\"-\")\n",
        "cases.head()"
      ]
    },
    {
      "cell_type": "markdown",
      "id": "f43979b6",
      "metadata": {
        "id": "f43979b6"
      },
      "source": [
        "BY HEATMAP"
      ]
    },
    {
      "cell_type": "code",
      "execution_count": null,
      "id": "f362a758",
      "metadata": {
        "ExecuteTime": {
          "end_time": "2024-03-22T20:19:54.048568Z",
          "start_time": "2024-03-22T20:19:54.048568Z"
        },
        "id": "f362a758"
      },
      "outputs": [],
      "source": [
        "case_table = cases[[\"Month\", \"Year\", \"Number of cases\"]]\n",
        "case_table  = case_table.pivot(index='Month', columns='Year', values='Number of cases').fillna(0).astype(int)\n",
        "case_table.index = case_table.index.astype(int)\n",
        "case_table = case_table.sort_index()\n",
        "case_table.index = ['Jan', 'Fev', 'Mar', 'Apr', 'May', 'Jun', 'Jul', 'Aug', 'Sep', 'Oct', 'Nov', 'Dec']\n",
        "plt.figure(figsize=(20, 10))\n",
        "_ = sns.heatmap(\n",
        "    case_table,\n",
        "    annot=True,\n",
        "    fmt=\"d\",\n",
        "    linewidths=0.5,\n",
        "    cmap=\"Blues\",\n",
        ").set_title('Number of crimes in chicago per Year x Months')"
      ]
    },
    {
      "cell_type": "markdown",
      "id": "71a11cf8",
      "metadata": {
        "id": "71a11cf8"
      },
      "source": [
        "The years between 2001 and 2012 were a tough time, the year 2008 was the worst with a mean of 71004 crimes per month, and the best year was the 2015 with a mean of 21916 crimes per month."
      ]
    },
    {
      "cell_type": "markdown",
      "id": "04d00bca",
      "metadata": {
        "id": "04d00bca"
      },
      "source": [
        "BY BAR"
      ]
    },
    {
      "cell_type": "code",
      "execution_count": null,
      "id": "70fe52f1",
      "metadata": {
        "ExecuteTime": {
          "end_time": "2024-03-22T20:19:54.064191Z",
          "start_time": "2024-03-22T20:19:54.064191Z"
        },
        "id": "70fe52f1"
      },
      "outputs": [],
      "source": [
        "fig = px.bar(\n",
        "    cases,\n",
        "    x=\"Year-Month\",\n",
        "    y=\"Number of cases\",\n",
        "    hover_data=[\"Year\", \"Month\", \"Number of cases\"],\n",
        "    color=\"Number of cases\",\n",
        "    height=600,\n",
        "    width=1400,\n",
        "    color_continuous_scale=px.colors.sequential.Blugrn\n",
        "\n",
        ")\n",
        "fig.update_layout(title_text='Crime counts per year-month in bars')\n",
        "fig.show()"
      ]
    },
    {
      "cell_type": "markdown",
      "id": "0b220954",
      "metadata": {
        "id": "0b220954"
      },
      "source": [
        "Similar graph but using bars to visualize though noisy but can be used. Again the 'tough time' during 2001 until 2012."
      ]
    },
    {
      "cell_type": "code",
      "execution_count": null,
      "id": "0b3cc17d",
      "metadata": {
        "id": "0b3cc17d"
      },
      "outputs": [],
      "source": []
    },
    {
      "cell_type": "markdown",
      "id": "289125bb",
      "metadata": {
        "id": "289125bb"
      },
      "source": [
        "Are there specific location that crimes used to happen?\n",
        "\n",
        "Using Map plot"
      ]
    },
    {
      "cell_type": "code",
      "execution_count": null,
      "id": "b2e7ba33",
      "metadata": {
        "ExecuteTime": {
          "end_time": "2024-03-22T20:19:54.079815Z",
          "start_time": "2024-03-22T20:19:54.079815Z"
        },
        "id": "b2e7ba33"
      },
      "outputs": [],
      "source": [
        "c_crime_df.info()"
      ]
    },
    {
      "cell_type": "code",
      "execution_count": null,
      "id": "53e0bfbd",
      "metadata": {
        "ExecuteTime": {
          "end_time": "2024-03-22T20:19:54.079815Z",
          "start_time": "2024-03-22T20:19:54.079815Z"
        },
        "id": "53e0bfbd"
      },
      "outputs": [],
      "source": [
        "map_marks = chicago_crime_df[['Latitude', 'Longitude']]\n",
        "map_marks['Year'] =  pd.to_datetime(chicago_crime_df.Date, format=\"%m/%d/%Y %I:%M:%S %p\").dt.year\n",
        "map_marks.head()"
      ]
    },
    {
      "cell_type": "code",
      "execution_count": null,
      "id": "918baab8",
      "metadata": {
        "ExecuteTime": {
          "end_time": "2024-03-22T20:19:54.095441Z",
          "start_time": "2024-03-22T20:19:54.095441Z"
        },
        "id": "918baab8"
      },
      "outputs": [],
      "source": [
        "fig = px.scatter_mapbox(map_marks[map_marks.Year == 2016].sample(5000), lat=\"Latitude\", lon=\"Longitude\",\n",
        "                        color_discrete_sequence=[\"fuchsia\"], zoom=9, height=650)\n",
        "fig.update_layout(mapbox_style=\"open-street-map\")\n",
        "fig.update_layout(margin={\"r\":0,\"t\":0,\"l\":0,\"b\":0})\n",
        "fig.show()"
      ]
    },
    {
      "cell_type": "markdown",
      "id": "c5648b20",
      "metadata": {
        "id": "c5648b20"
      },
      "source": [
        "Look like there is crime everywhere in Chicago, in the centre, you can see more points but also is a crowded place."
      ]
    },
    {
      "cell_type": "markdown",
      "id": "7063e9ec",
      "metadata": {
        "id": "7063e9ec"
      },
      "source": [
        "What is the arrested rate per crime?"
      ]
    },
    {
      "cell_type": "code",
      "execution_count": null,
      "id": "e70009a8",
      "metadata": {
        "ExecuteTime": {
          "end_time": "2024-03-22T20:19:54.111063Z",
          "start_time": "2024-03-22T20:19:54.111063Z"
        },
        "id": "e70009a8"
      },
      "outputs": [],
      "source": [
        "cases = c_crime_df.groupby('Primary Type')['Arrest'].mean().reset_index()\n",
        "cases['Arrest (%)'] = cases['Arrest'].round(4)*100\n",
        "cases.sort_values('Arrest', inplace=True)\n",
        "fig = px.bar(\n",
        "    cases,\n",
        "    orientation='h',\n",
        "    x=\"Arrest (%)\",\n",
        "    y=\"Primary Type\",\n",
        "    color=\"Arrest (%)\",\n",
        "    text=\"Arrest (%)\",\n",
        "    height=800,\n",
        "    #width=800,\n",
        "        color_continuous_scale=px.colors.sequential.Blugrn\n",
        "\n",
        ")\n",
        "fig.update_traces(texttemplate=\"%{text:.4s}\", textposition=\"outside\")\n",
        "fig.update_layout(title_text=\"Arrested Rate in % per Type Crime in Chicago.\")\n",
        "\n",
        "fig.show()"
      ]
    },
    {
      "cell_type": "markdown",
      "id": "ea7e54a6",
      "metadata": {
        "id": "ea7e54a6"
      },
      "source": [
        "The “VIOLATION” crimes look strongly correlated to the arrested rate once the 'cop' must be present in the location to declare the violation."
      ]
    },
    {
      "cell_type": "code",
      "execution_count": null,
      "id": "c22adeca",
      "metadata": {
        "id": "c22adeca"
      },
      "outputs": [],
      "source": []
    },
    {
      "cell_type": "code",
      "execution_count": null,
      "id": "7e5ecd2e",
      "metadata": {
        "id": "7e5ecd2e"
      },
      "outputs": [],
      "source": []
    },
    {
      "cell_type": "code",
      "execution_count": null,
      "id": "e036695b",
      "metadata": {
        "id": "e036695b"
      },
      "outputs": [],
      "source": []
    },
    {
      "cell_type": "code",
      "execution_count": null,
      "id": "9a9ef514",
      "metadata": {
        "ExecuteTime": {
          "end_time": "2024-03-22T20:19:54.111063Z",
          "start_time": "2024-03-22T20:19:54.111063Z"
        },
        "id": "9a9ef514"
      },
      "outputs": [],
      "source": [
        "chicago_crime_df.info()"
      ]
    },
    {
      "cell_type": "code",
      "execution_count": null,
      "id": "fc0ca485",
      "metadata": {
        "ExecuteTime": {
          "end_time": "2024-03-22T20:19:54.126687Z",
          "start_time": "2024-03-22T20:19:54.126687Z"
        },
        "id": "fc0ca485"
      },
      "outputs": [],
      "source": [
        "# Try to find the correlation of the columns\n",
        "\n",
        "# Select only numeric columns\n",
        "numeric_columns = chicago_crime_df.select_dtypes(include=['number'])\n",
        "\n",
        "# Calculate correlation\n",
        "numeric_columns.corr()"
      ]
    },
    {
      "cell_type": "code",
      "execution_count": null,
      "id": "e90f8efc",
      "metadata": {
        "ExecuteTime": {
          "end_time": "2024-03-22T20:19:54.126687Z",
          "start_time": "2024-03-22T20:19:54.126687Z"
        },
        "id": "e90f8efc"
      },
      "outputs": [],
      "source": [
        "#plot a heatmap showing correlation\n",
        "heatmap = sns.heatmap(numeric_columns.corr(), vmin=-1, annot=True)\n",
        "heatmap.set_title('Chicago Crime Correlation', fontdict={'fontsize':14}, pad=10)"
      ]
    },
    {
      "cell_type": "markdown",
      "id": "1eba84dd",
      "metadata": {
        "id": "1eba84dd"
      },
      "source": [
        "**_Observation_**\n",
        "1. The Beat and Ward are positively correlated."
      ]
    },
    {
      "cell_type": "code",
      "execution_count": null,
      "id": "46d38420",
      "metadata": {
        "ExecuteTime": {
          "end_time": "2024-03-22T20:19:54.142312Z",
          "start_time": "2024-03-22T20:19:54.142312Z"
        },
        "id": "46d38420"
      },
      "outputs": [],
      "source": [
        "chicago_crime_df.groupby(['Primary Type', 'Arrest','Domestic']).size().sort_values(ascending=False).reset_index().rename(columns={0:'Crime Count'})"
      ]
    },
    {
      "cell_type": "code",
      "execution_count": null,
      "id": "0e555df3",
      "metadata": {
        "ExecuteTime": {
          "end_time": "2024-03-22T20:19:54.157935Z",
          "start_time": "2024-03-22T20:19:54.157935Z"
        },
        "id": "0e555df3"
      },
      "outputs": [],
      "source": [
        "plt.figure(figsize=(12, 6))\n",
        "sns.countplot(x='Primary Type', hue='Arrest', data=chicago_crime_df[:8])"
      ]
    },
    {
      "cell_type": "code",
      "source": [],
      "metadata": {
        "id": "ELgK9mo1W_O1"
      },
      "id": "ELgK9mo1W_O1",
      "execution_count": null,
      "outputs": []
    },
    {
      "cell_type": "markdown",
      "source": [
        "When during the day does crime occur"
      ],
      "metadata": {
        "id": "ZUH7pJn9XAnI"
      },
      "id": "ZUH7pJn9XAnI"
    },
    {
      "cell_type": "code",
      "source": [
        "# Extract hour component to determine time of day\n",
        "c_crime_df['Hour'] = c_crime_df['Date'].dt.hour\n",
        "\n",
        "# Define time intervals\n",
        "bins = [0, 6, 12, 18, 24]\n",
        "labels = ['Night', 'Morning', 'Afternoon', 'Evening']\n",
        "\n",
        "# Categorize crimes based on time of day\n",
        "c_crime_df['Time_of_Day'] = pd.cut(c_crime_df['Hour'], bins=bins, labels=labels, right=False)\n",
        "\n",
        "# Group by time of day and count the number of crimes\n",
        "crime_by_time_of_day = c_crime_df['Time_of_Day'].value_counts()\n",
        "\n",
        "# Printing the distribution of crimes based on time of day\n",
        "print(crime_by_time_of_day)"
      ],
      "metadata": {
        "id": "Ds-uQyenYcML"
      },
      "id": "Ds-uQyenYcML",
      "execution_count": null,
      "outputs": []
    },
    {
      "cell_type": "markdown",
      "id": "c4503495",
      "metadata": {
        "id": "c4503495"
      },
      "source": [
        "# 5. Feature Engineering\n",
        "\n",
        "Create new columns for Months, Day, and Season"
      ]
    },
    {
      "cell_type": "markdown",
      "id": "4841fc8b",
      "metadata": {
        "id": "4841fc8b"
      },
      "source": [
        "__Creating month column__"
      ]
    },
    {
      "cell_type": "code",
      "execution_count": null,
      "id": "c1a5e50e",
      "metadata": {
        "ExecuteTime": {
          "end_time": "2024-03-19T15:06:15.628376Z",
          "start_time": "2024-03-19T15:06:15.615890Z"
        },
        "id": "c1a5e50e"
      },
      "outputs": [],
      "source": [
        "# Create new columns for Months\n",
        "def extract_and_map_month(date):\n",
        "    # Ensure Date column have been converted to datetime format\n",
        "    month_names = chicago_crime_df['Date'].dt.month_name()\n",
        "# dt is an attribute of the date column object\n",
        "# month_name() is a method\n",
        "    return month_names"
      ]
    },
    {
      "cell_type": "code",
      "execution_count": null,
      "id": "76b03e42",
      "metadata": {
        "ExecuteTime": {
          "end_time": "2024-03-19T15:06:17.210750Z",
          "start_time": "2024-03-19T15:06:15.628376Z"
        },
        "id": "76b03e42"
      },
      "outputs": [],
      "source": [
        "chicago_crime_df['Month'] = extract_and_map_month(chicago_crime_df['Date'])\n",
        "\n",
        "# Group by month and count number of crimes\n",
        "monthly_crime_counts = chicago_crime_df.groupby('Month').size()"
      ]
    },
    {
      "cell_type": "code",
      "execution_count": null,
      "id": "80648fa5",
      "metadata": {
        "ExecuteTime": {
          "end_time": "2024-03-19T15:06:18.985763Z",
          "start_time": "2024-03-19T15:06:17.210750Z"
        },
        "id": "80648fa5"
      },
      "outputs": [],
      "source": [
        "# Monthly plot for crimes\n",
        "plt.figure(figsize=(10, 6))\n",
        "monthly_crime_counts.plot(kind='bar', color='green')\n",
        "plt.title('Monthly Crime Counts in Chicago')\n",
        "plt.xlabel('Month')\n",
        "plt.ylabel('Number of Crimes')\n",
        "plt.xticks(rotation=0)\n",
        "plt.show()"
      ]
    },
    {
      "cell_type": "markdown",
      "id": "f0d7b57d",
      "metadata": {
        "id": "f0d7b57d"
      },
      "source": [
        "__Creating Day Column__"
      ]
    },
    {
      "cell_type": "code",
      "execution_count": null,
      "id": "0d43b62f",
      "metadata": {
        "ExecuteTime": {
          "end_time": "2024-03-19T15:06:18.994091Z",
          "start_time": "2024-03-19T15:06:18.985763Z"
        },
        "id": "0d43b62f"
      },
      "outputs": [],
      "source": [
        "# Create new columns for Day\n",
        "def extract_and_map_month(date):\n",
        "    # ensure the input is in datetime format\n",
        "    day_names = chicago_crime_df['Date'].dt.day_name()\n",
        "# dt is an attribute of the date column object\n",
        "# month_name() is a method\n",
        "    return day_names"
      ]
    },
    {
      "cell_type": "code",
      "execution_count": null,
      "id": "011a5731",
      "metadata": {
        "ExecuteTime": {
          "end_time": "2024-03-19T15:06:21.119626Z",
          "start_time": "2024-03-19T15:06:18.994091Z"
        },
        "id": "011a5731"
      },
      "outputs": [],
      "source": [
        "chicago_crime_df['Day'] = extract_and_map_month(chicago_crime_df['Date'])\n",
        "\n",
        "# Group by day and count number of crimes\n",
        "daily_crime_counts = chicago_crime_df.groupby('Day').size()\n"
      ]
    },
    {
      "cell_type": "code",
      "execution_count": null,
      "id": "e876be4b",
      "metadata": {
        "ExecuteTime": {
          "end_time": "2024-03-19T15:06:22.080753Z",
          "start_time": "2024-03-19T15:06:21.119626Z"
        },
        "id": "e876be4b"
      },
      "outputs": [],
      "source": [
        "# daily plot for crimes\n",
        "plt.figure(figsize=(12, 6))\n",
        "daily_crime_counts.plot(kind='line', color='green', marker='o', markersize=10)\n",
        "plt.title('Daily Crime Counts in Chicago')\n",
        "plt.xlabel('Day of the Month')\n",
        "plt.ylabel('Number of Crimes')\n",
        "plt.grid(True)\n",
        "plt.show()"
      ]
    },
    {
      "cell_type": "markdown",
      "id": "ee31e1e2",
      "metadata": {
        "id": "ee31e1e2"
      },
      "source": [
        "__Creating Seasons column__"
      ]
    },
    {
      "cell_type": "code",
      "execution_count": null,
      "id": "03f3d125",
      "metadata": {
        "ExecuteTime": {
          "end_time": "2024-03-19T15:06:22.100735Z",
          "start_time": "2024-03-19T15:06:22.080753Z"
        },
        "id": "03f3d125"
      },
      "outputs": [],
      "source": [
        "# Function to define various month and their corresponding season\n",
        "def get_season(month):\n",
        "    if month in ['December','January','February']:\n",
        "        return 'Winter'\n",
        "    elif month in ['March','April','May']:\n",
        "        return 'Spring'\n",
        "    elif month in ['June','July','August']:\n",
        "        return 'Summer'\n",
        "    else:\n",
        "        return 'Fall'"
      ]
    },
    {
      "cell_type": "code",
      "execution_count": null,
      "id": "ece128c8",
      "metadata": {
        "ExecuteTime": {
          "end_time": "2024-03-19T15:06:23.682161Z",
          "start_time": "2024-03-19T15:06:22.100735Z"
        },
        "id": "ece128c8"
      },
      "outputs": [],
      "source": [
        "chicago_crime_df['Season'] = chicago_crime_df['Month'].apply(get_season)\n",
        "\n",
        "# Group by season and count number of crimes\n",
        "seasonal_crime_counts = chicago_crime_df.groupby('Season').size()\n"
      ]
    },
    {
      "cell_type": "code",
      "execution_count": null,
      "id": "bf814b17",
      "metadata": {
        "ExecuteTime": {
          "end_time": "2024-03-19T15:06:23.993678Z",
          "start_time": "2024-03-19T15:06:23.682161Z"
        },
        "id": "bf814b17"
      },
      "outputs": [],
      "source": [
        "# seasonal plot for crimes\n",
        "plt.figure(figsize=(10, 6))\n",
        "seasonal_crime_counts.plot(kind='bar', color='green')\n",
        "plt.title('Seasonal Crime Counts in Chicago')\n",
        "plt.xlabel('Season')\n",
        "plt.ylabel('Number of Crimes')\n",
        "plt.xticks(rotation=0)\n",
        "plt.show()"
      ]
    },
    {
      "cell_type": "markdown",
      "id": "3d39b673",
      "metadata": {
        "id": "3d39b673"
      },
      "source": [
        "# 6. Frequency Distribution of Crimes"
      ]
    },
    {
      "cell_type": "markdown",
      "id": "9ec03aab",
      "metadata": {
        "id": "9ec03aab"
      },
      "source": [
        " __Monthly Crime Frequency__"
      ]
    },
    {
      "cell_type": "code",
      "execution_count": null,
      "id": "fedf1696",
      "metadata": {
        "ExecuteTime": {
          "end_time": "2024-03-19T15:06:26.925446Z",
          "start_time": "2024-03-19T15:06:23.993678Z"
        },
        "id": "fedf1696"
      },
      "outputs": [],
      "source": [
        "# created another df where the Date would be the Index\n",
        "crimes_df = chicago_crime_df.set_index(['Date'])"
      ]
    },
    {
      "cell_type": "code",
      "execution_count": null,
      "id": "1f6b753e",
      "metadata": {
        "ExecuteTime": {
          "end_time": "2024-03-19T15:06:31.978679Z",
          "start_time": "2024-03-19T15:06:26.925446Z"
        },
        "id": "1f6b753e"
      },
      "outputs": [],
      "source": [
        "# show a trend analysis of arrest over years, months and days\n",
        "plt.subplot()\n",
        "#plt.figure(figsize=(8, 6))\n",
        "\n",
        "# this gives us data where arrest was made\n",
        "arrests = crimes_df[crimes_df['Arrest'] == True]['Arrest']\n",
        "\n",
        "#yearly arrest\n",
        "arrests.resample('YE').count().plot() #the 'A' is an offset Data that indicates annual, view documentation for further understanding\n",
        "plt.title('Yearly arrests')\n",
        "plt.show()\n",
        "\n",
        "# quarter start arrest\n",
        "arrests.resample('QS').count().plot()\n",
        "plt.title('Quarterly Arrests')\n",
        "plt.show()\n",
        "\n",
        "# monthly arrest\n",
        "arrests.resample('ME').count().plot()\n",
        "plt.title('Monthly Arrests')\n",
        "plt.show()\n",
        "\n"
      ]
    },
    {
      "cell_type": "markdown",
      "id": "41e09c06",
      "metadata": {
        "id": "41e09c06"
      },
      "source": [
        "__Observation__\n",
        "1. There is a downward trend of arrest over the years from 2008 upwards this is evident even in the quarterly arrests.\n",
        "2. 2020 recorded the least monthly arrest."
      ]
    },
    {
      "cell_type": "code",
      "execution_count": null,
      "id": "7ddd32e0",
      "metadata": {
        "ExecuteTime": {
          "end_time": "2024-03-19T15:06:32.280890Z",
          "start_time": "2024-03-19T15:06:31.978679Z"
        },
        "id": "7ddd32e0"
      },
      "outputs": [],
      "source": [
        "crime_count_by_month = chicago_crime_df.groupby('Month')['Arrest'].count()\n",
        "print(crime_count_by_month)"
      ]
    },
    {
      "cell_type": "markdown",
      "id": "6fb1709b",
      "metadata": {
        "id": "6fb1709b"
      },
      "source": [
        "__Seasonal Crime Frequency__"
      ]
    },
    {
      "cell_type": "code",
      "execution_count": null,
      "id": "58826823",
      "metadata": {
        "ExecuteTime": {
          "end_time": "2024-03-19T15:06:32.699816Z",
          "start_time": "2024-03-19T15:06:32.280890Z"
        },
        "scrolled": true,
        "id": "58826823"
      },
      "outputs": [],
      "source": [
        "crime_count_by_season = chicago_crime_df.groupby('Season')['Season'].count()\n",
        "crime_count_by_season"
      ]
    },
    {
      "cell_type": "code",
      "execution_count": null,
      "id": "84fe9088",
      "metadata": {
        "ExecuteTime": {
          "end_time": "2024-03-19T15:06:34.589447Z",
          "start_time": "2024-03-19T15:06:32.699816Z"
        },
        "id": "84fe9088"
      },
      "outputs": [],
      "source": [
        "# Group by season and count number of arrests\n",
        "seasonal_arrests = chicago_crime_df[chicago_crime_df['Arrest'] == True]['Season'].value_counts()\n",
        "\n",
        "# Plot pie chart for seasonal arrests\n",
        "plt.figure(figsize=(8, 6))\n",
        "seasonal_arrests.plot(kind='pie', autopct='%1.1f%%', colors=['skyblue', 'lightgreen', 'lightcoral', 'orange'])\n",
        "plt.title('Seasonal Arrests in Chicago')\n",
        "plt.ylabel('')\n",
        "plt.show()"
      ]
    },
    {
      "cell_type": "markdown",
      "id": "5d58ff96",
      "metadata": {
        "id": "5d58ff96"
      },
      "source": [
        " __Daily Crime Frequency__"
      ]
    },
    {
      "cell_type": "code",
      "execution_count": null,
      "id": "2ea9839a",
      "metadata": {
        "ExecuteTime": {
          "end_time": "2024-03-19T15:06:34.942489Z",
          "start_time": "2024-03-19T15:06:34.589447Z"
        },
        "id": "2ea9839a"
      },
      "outputs": [],
      "source": [
        "crime_count_per_day = chicago_crime_df.groupby('Day')['Day'].count()\n",
        "print(crime_count_per_day)"
      ]
    },
    {
      "cell_type": "code",
      "execution_count": null,
      "id": "900a391c",
      "metadata": {
        "ExecuteTime": {
          "end_time": "2024-03-19T15:06:54.240997Z",
          "start_time": "2024-03-19T15:06:34.942489Z"
        },
        "scrolled": true,
        "id": "900a391c"
      },
      "outputs": [],
      "source": [
        "# This will suppress any warnings related to the change in figure layout.\n",
        "import warnings\n",
        "warnings.filterwarnings(\"ignore\", message=\"The figure layout has changed to tight\")\n",
        "\n",
        "# Frequency of arrests for each day\n",
        "sns.catplot(\n",
        "    data=chicago_crime_df, y=\"Day\", hue=\"Arrest\", kind=\"count\",\n",
        "    palette=\"pastel\", legend=True, edgecolor=\".6\",\n",
        ")"
      ]
    },
    {
      "cell_type": "code",
      "execution_count": null,
      "id": "daaa76b4",
      "metadata": {
        "ExecuteTime": {
          "end_time": "2024-03-19T15:06:54.600405Z",
          "start_time": "2024-03-19T15:06:54.256626Z"
        },
        "id": "daaa76b4"
      },
      "outputs": [],
      "source": [
        "#Location with the most crime\n",
        "\n",
        "chicago_crime_df.groupby('Location Description')['Primary Type'].size().sort_values(ascending=False).head(20)"
      ]
    },
    {
      "cell_type": "markdown",
      "id": "3bd61a94",
      "metadata": {
        "id": "3bd61a94"
      },
      "source": [
        "# 7. Visualize Data Distribution"
      ]
    },
    {
      "cell_type": "code",
      "execution_count": null,
      "id": "32104a09",
      "metadata": {
        "ExecuteTime": {
          "end_time": "2024-03-19T15:06:57.158163Z",
          "start_time": "2024-03-19T15:06:54.600405Z"
        },
        "id": "32104a09"
      },
      "outputs": [],
      "source": [
        "# Visualize the distribution of crime types\n",
        "plt.figure(figsize=(12, 6))\n",
        "sns.countplot(data=chicago_crime_df, x='Primary Type')\n",
        "plt.xticks(rotation=90)\n",
        "plt.title('Distribution of Crime Types')"
      ]
    },
    {
      "cell_type": "code",
      "execution_count": null,
      "id": "fab27bdf",
      "metadata": {
        "id": "fab27bdf"
      },
      "outputs": [],
      "source": []
    },
    {
      "cell_type": "markdown",
      "id": "37f590ac",
      "metadata": {
        "id": "37f590ac"
      },
      "source": [
        "# 8. Investigate Relationships"
      ]
    },
    {
      "cell_type": "code",
      "execution_count": null,
      "id": "34115f72",
      "metadata": {
        "ExecuteTime": {
          "end_time": "2024-03-19T15:06:57.633000Z",
          "start_time": "2024-03-19T15:06:57.158163Z"
        },
        "id": "34115f72"
      },
      "outputs": [],
      "source": [
        "numeric_columns.corr()"
      ]
    },
    {
      "cell_type": "code",
      "execution_count": null,
      "id": "3bc57fa8",
      "metadata": {
        "ExecuteTime": {
          "end_time": "2024-03-19T15:06:58.895493Z",
          "start_time": "2024-03-19T15:06:57.633000Z"
        },
        "id": "3bc57fa8"
      },
      "outputs": [],
      "source": [
        "heatmap = sns.heatmap(numeric_columns.corr(), vmin=-1, annot=True)\n",
        "heatmap.set_title('Chicago Crime Correlation', fontdict={'fontsize':14}, pad=10)\n",
        "\n",
        "# i can infer the relationship between the districts and the ward"
      ]
    },
    {
      "cell_type": "code",
      "execution_count": null,
      "id": "a2d4bc29",
      "metadata": {
        "ExecuteTime": {
          "end_time": "2024-03-19T15:06:59.166077Z",
          "start_time": "2024-03-19T15:06:58.895493Z"
        },
        "id": "a2d4bc29"
      },
      "outputs": [],
      "source": [
        "crimes_df.head()"
      ]
    },
    {
      "cell_type": "code",
      "execution_count": null,
      "id": "47a501d0",
      "metadata": {
        "ExecuteTime": {
          "end_time": "2024-03-19T15:07:03.049523Z",
          "start_time": "2024-03-19T15:06:59.166077Z"
        },
        "id": "47a501d0"
      },
      "outputs": [],
      "source": [
        "# Investigate Relationships\n",
        "# Explore the relationship between Location description and crime type\n",
        "\n",
        "# Create a cross-tabulation of crime location and crime type\n",
        "crime_location_type = pd.crosstab(chicago_crime_df['Location Description'], chicago_crime_df['Primary Type'])\n",
        "\n",
        "# Plot heatmap\n",
        "plt.figure(figsize=(18, 12))\n",
        "sns.heatmap(crime_location_type, cmap='YlGnBu', linewidths=.1)\n",
        "plt.title('Frequency of Crime Types at Different Locations')\n",
        "plt.xlabel('Crime Type')\n",
        "plt.ylabel('Location Description')\n",
        "plt.xticks(rotation=90)\n",
        "plt.yticks(rotation=0)\n",
        "plt.show()"
      ]
    },
    {
      "cell_type": "code",
      "execution_count": null,
      "id": "6d18ccd2",
      "metadata": {
        "id": "6d18ccd2"
      },
      "outputs": [],
      "source": []
    },
    {
      "cell_type": "markdown",
      "id": "21967a8e",
      "metadata": {
        "id": "21967a8e"
      },
      "source": [
        "# 8. Examine Crime Locations"
      ]
    },
    {
      "cell_type": "code",
      "execution_count": null,
      "id": "3567de5d",
      "metadata": {
        "ExecuteTime": {
          "end_time": "2024-03-19T15:07:56.902075Z",
          "start_time": "2024-03-19T15:07:56.544683Z"
        },
        "id": "3567de5d"
      },
      "outputs": [],
      "source": [
        "# Location description where crime happens the most\n",
        "most_common_crime_location = chicago_crime_df['Location Description'].value_counts().idxmax()"
      ]
    },
    {
      "cell_type": "code",
      "execution_count": null,
      "id": "f0aabc3c",
      "metadata": {
        "ExecuteTime": {
          "end_time": "2024-03-19T15:07:58.384848Z",
          "start_time": "2024-03-19T15:07:58.361629Z"
        },
        "id": "f0aabc3c"
      },
      "outputs": [],
      "source": [
        "most_common_crime_location"
      ]
    },
    {
      "cell_type": "markdown",
      "id": "5a5c3518",
      "metadata": {
        "id": "5a5c3518"
      },
      "source": [
        "# 9. Identify Hotspots"
      ]
    },
    {
      "cell_type": "code",
      "execution_count": null,
      "id": "e64b8d72",
      "metadata": {
        "ExecuteTime": {
          "end_time": "2024-03-19T15:08:04.627967Z",
          "start_time": "2024-03-19T15:08:03.251664Z"
        },
        "id": "e64b8d72"
      },
      "outputs": [],
      "source": [
        "# using district to determine areas with higest crime rate(True/False)\n",
        "\n",
        "# Calculate total number of arrests for each district\n",
        "district_arrests = chicago_crime_df.groupby('District')['Arrest'].sum()\n",
        "# print(district_arrests)\n",
        "\n",
        "# Determine the districts with the highest arrest rates\n",
        "highest_arrest_rate_districts = district_arrests.nlargest(5)  # Get the top 5 districts with highest arrest rates\n",
        "\n",
        "# print(highest_arrest_rate_districts)\n",
        "\n",
        "# Create a boolean column indicating whether each district has one of the highest arrest rates\n",
        "chicago_crime_df['Highest_Arrest_Rate'] = chicago_crime_df['District'].isin(highest_arrest_rate_districts.index)\n",
        "\n",
        "# Print the result (True/False) for each district\n",
        "print(chicago_crime_df[['District', 'Highest_Arrest_Rate']].drop_duplicates())\n",
        "\n",
        "\n",
        "# using district to determine areas with higest crime rate(True)\n"
      ]
    },
    {
      "cell_type": "markdown",
      "id": "4dde1d59",
      "metadata": {
        "id": "4dde1d59"
      },
      "source": [
        "# 11. Compare Crime Rates"
      ]
    },
    {
      "cell_type": "code",
      "execution_count": null,
      "id": "c3a8d034",
      "metadata": {
        "ExecuteTime": {
          "end_time": "2024-03-19T15:08:57.418796Z",
          "start_time": "2024-03-19T15:08:56.397931Z"
        },
        "id": "c3a8d034"
      },
      "outputs": [],
      "source": [
        "# mapping crimes based on locations\n",
        "\n",
        "# Filter out rows with missing latitude or longitude values\n",
        "chicago_crime_df = chicago_crime_df.dropna(subset=['Latitude', 'Longitude'])\n",
        "\n",
        "# Create a map centered around the mean latitude and longitude\n",
        "crime_map = folium.Map(location=[chicago_crime_df['Latitude'].mean(), chicago_crime_df['Longitude'].mean()], zoom_start=11)\n",
        "\n",
        "# Add markers for each crime location\n",
        "for index, row in chicago_crime_df.iterrows():\n",
        "    folium.Marker(location=[row['Latitude'], row['Longitude']], popup=row['Primary Type']).add_to(crime_map)\n",
        "\n",
        "# Save the map to an HTML file\n",
        "crime_map.save('crime_map.html')"
      ]
    },
    {
      "cell_type": "markdown",
      "id": "7dc09827",
      "metadata": {
        "id": "7dc09827"
      },
      "source": [
        "# 12. Summarize and Visualize Insights"
      ]
    },
    {
      "cell_type": "code",
      "execution_count": null,
      "id": "06a9bffe",
      "metadata": {
        "id": "06a9bffe"
      },
      "outputs": [],
      "source": []
    }
  ],
  "metadata": {
    "kernelspec": {
      "display_name": "Python 3 (ipykernel)",
      "language": "python",
      "name": "python3"
    },
    "language_info": {
      "codemirror_mode": {
        "name": "ipython",
        "version": 3
      },
      "file_extension": ".py",
      "mimetype": "text/x-python",
      "name": "python",
      "nbconvert_exporter": "python",
      "pygments_lexer": "ipython3",
      "version": "3.11.5"
    },
    "toc": {
      "base_numbering": 1,
      "nav_menu": {},
      "number_sections": true,
      "sideBar": true,
      "skip_h1_title": false,
      "title_cell": "Table of Contents",
      "title_sidebar": "Contents",
      "toc_cell": false,
      "toc_position": {},
      "toc_section_display": true,
      "toc_window_display": false
    },
    "varInspector": {
      "cols": {
        "lenName": 16,
        "lenType": 16,
        "lenVar": 40
      },
      "kernels_config": {
        "python": {
          "delete_cmd_postfix": "",
          "delete_cmd_prefix": "del ",
          "library": "var_list.py",
          "varRefreshCmd": "print(var_dic_list())"
        },
        "r": {
          "delete_cmd_postfix": ") ",
          "delete_cmd_prefix": "rm(",
          "library": "var_list.r",
          "varRefreshCmd": "cat(var_dic_list()) "
        }
      },
      "types_to_exclude": [
        "module",
        "function",
        "builtin_function_or_method",
        "instance",
        "_Feature"
      ],
      "window_display": false
    },
    "colab": {
      "provenance": []
    }
  },
  "nbformat": 4,
  "nbformat_minor": 5
}
