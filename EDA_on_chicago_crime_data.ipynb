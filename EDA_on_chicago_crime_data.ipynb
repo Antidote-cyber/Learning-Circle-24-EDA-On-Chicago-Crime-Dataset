{
 "cells": [
  {
   "cell_type": "markdown",
   "id": "547ae1a6",
   "metadata": {
    "id": "547ae1a6"
   },
   "source": [
    "_LEARNING-CIRCLE-24 PROJECT_"
   ]
  },
  {
   "cell_type": "markdown",
   "id": "0dad4ee9",
   "metadata": {
    "id": "0dad4ee9"
   },
   "source": [
    "<h2> Learning-Circle-24 </h2> <p>  Contributors </p>\n",
    "\n"
   ]
  },
  {
   "cell_type": "markdown",
   "id": "ebc10ba9",
   "metadata": {
    "id": "ebc10ba9"
   },
   "source": [
    "# **Crime in Chicago**\n",
    "This is a dataset\n",
    "The data dictionary can be found in [Chicago Crime Portal](https://data.cityofchicago.org/Public-Safety/Crimes-2001-to-Present/ijzp-q8t2/about_data)\n",
    "\n",
    "In this notebook, we are going to explore more about crime in Chicago and try to answer few questions."
   ]
  },
  {
   "cell_type": "markdown",
   "id": "ad32ee5f",
   "metadata": {
    "id": "ad32ee5f"
   },
   "source": [
    "Analyzing the Chicago crime dataset involves examining various aspects of the data to understand patterns, trends, and characteristics of criminal activities in Chicago. We perform analysis using Python, pandas and visualization libraries using the following steps:\n",
    "\n",
    "1. Load the Dataset: Load the Chicago crime dataset into a DataFrame.\n",
    "2. Explore the Dataset: Examine the structure, columns, and basic statistics of the dataset.\n",
    "3. Data Preprocessing: We cleaned the data by dropping redundant columns,handling missing values and converting columns to their appropriate format.\n",
    "4. Feature Engineering: Create new column for Months, Day, Season\n",
    "5. EDA: Exploratory Data Analysis\n",
    "    - What is the total number of crime cases filed from 2001 till date?\n",
    "    - How many unique crimes are available and what is the count for each crime from 2001-2022?\n",
    "    - what is the number of crime per year?\n",
    "    - What is the number of crime per month?\n",
    "    - Top 10 number of cases discovered each day?\n",
    "    - What is the trend of crime by type?\n",
    "    - Where does crimes happen the most?\n",
    "    - What is the number of crime discovered by month and year?\n",
    "    - Are there specific location that crimes used to happen?\n",
    "    - What is the arrested rate per crime?\n",
    "    - Top 10 Block with the most crime?\n",
    "    - Top 10 ward with most amount of crimes?\n",
    "    - Top 10 community area with the most amount of crimes?\n",
    "    - Top 10 communities with the most crime in 2023?\n",
    "    - Top 10 Location where theft normally occurs?\n",
    "    - Top-15 crime where arrest occured?\n",
    "    - How has crime in Chicago changed across years? Was 2023 really the bloodiest year in two decades?\n",
    "    - Are some types of crimes more likely to happen in specific locations or specific time of the day or specific day of the week than other types of        crimes?\n",
    "    - In which month did the lowest motor vehicle thefts occur?\n",
    "    - How prominant are certain types of various crimes?\n",
    "    - How do rates of crime change of time? For instance, are there any seasonal effects or changes depending on the time ofday?\n",
    "    - Where do these crimes occur? Are some areas more safe than others?\n",
    "6. Summarize and Visualize Insights: Summarize and Visualize the key insights and findings from the analysis using plots and charts."
   ]
  },
  {
   "cell_type": "code",
   "execution_count": 5,
   "id": "9a24d3c5",
   "metadata": {
    "ExecuteTime": {
     "end_time": "2024-03-26T13:52:20.837304Z",
     "start_time": "2024-03-26T13:51:39.884190Z"
    },
    "id": "9a24d3c5"
   },
   "outputs": [],
   "source": [
    "# importing required libraries\n",
    "import pandas as pd\n",
    "import numpy as np\n",
    "import seaborn as sns\n",
    "import plotly.express as px\n",
    "import matplotlib.pyplot as plt\n",
    "%matplotlib inline\n",
    "from datetime import datetime"
   ]
  },
  {
   "cell_type": "code",
   "execution_count": 6,
   "id": "e33a0ba2",
   "metadata": {
    "ExecuteTime": {
     "end_time": "2024-03-26T13:52:20.888963Z",
     "start_time": "2024-03-26T13:52:20.869787Z"
    },
    "id": "e33a0ba2"
   },
   "outputs": [],
   "source": [
    "# Set display option\n",
    "pd.set_option('display.max.columns', None)"
   ]
  },
  {
   "cell_type": "markdown",
   "id": "282ac4ea",
   "metadata": {
    "ExecuteTime": {
     "end_time": "2024-03-02T06:10:29.749123Z",
     "start_time": "2024-03-02T06:10:29.698866Z"
    },
    "id": "282ac4ea"
   },
   "source": [
    "# 1. Loading the dataset"
   ]
  },
  {
   "cell_type": "markdown",
   "id": "059f7a36",
   "metadata": {
    "id": "059f7a36"
   },
   "source": [
    "This dataset was extracted in 2023 and contains crime cases from 2001 to 2023, but we want the data for only cases from 2001 to 2022 due to incomplete cases for 2023 in order to avoid a bias analysis."
   ]
  },
  {
   "cell_type": "code",
   "execution_count": 7,
   "id": "14c63e95",
   "metadata": {
    "ExecuteTime": {
     "end_time": "2024-03-26T13:52:50.634373Z",
     "start_time": "2024-03-26T13:52:27.055586Z"
    },
    "colab": {
     "base_uri": "https://localhost:8080/",
     "height": 487
    },
    "id": "14c63e95",
    "outputId": "0ce724ef-259f-46d5-975d-b02f2730be6a"
   },
   "outputs": [
    {
     "data": {
      "text/html": [
       "<div>\n",
       "<style scoped>\n",
       "    .dataframe tbody tr th:only-of-type {\n",
       "        vertical-align: middle;\n",
       "    }\n",
       "\n",
       "    .dataframe tbody tr th {\n",
       "        vertical-align: top;\n",
       "    }\n",
       "\n",
       "    .dataframe thead th {\n",
       "        text-align: right;\n",
       "    }\n",
       "</style>\n",
       "<table border=\"1\" class=\"dataframe\">\n",
       "  <thead>\n",
       "    <tr style=\"text-align: right;\">\n",
       "      <th></th>\n",
       "      <th>Unnamed: 0</th>\n",
       "      <th>ID</th>\n",
       "      <th>Case Number</th>\n",
       "      <th>Date</th>\n",
       "      <th>Block</th>\n",
       "      <th>IUCR</th>\n",
       "      <th>Primary Type</th>\n",
       "      <th>Description</th>\n",
       "      <th>Location Description</th>\n",
       "      <th>Arrest</th>\n",
       "      <th>Domestic</th>\n",
       "      <th>Beat</th>\n",
       "      <th>District</th>\n",
       "      <th>Ward</th>\n",
       "      <th>Community Area</th>\n",
       "      <th>FBI Code</th>\n",
       "      <th>X Coordinate</th>\n",
       "      <th>Y Coordinate</th>\n",
       "      <th>Year</th>\n",
       "      <th>Updated On</th>\n",
       "      <th>Latitude</th>\n",
       "      <th>Longitude</th>\n",
       "      <th>Location</th>\n",
       "    </tr>\n",
       "  </thead>\n",
       "  <tbody>\n",
       "    <tr>\n",
       "      <th>0</th>\n",
       "      <td>0</td>\n",
       "      <td>6407111</td>\n",
       "      <td>HP485721</td>\n",
       "      <td>07/26/2008 02:30:00 PM</td>\n",
       "      <td>085XX S MUSKEGON AVE</td>\n",
       "      <td>1320</td>\n",
       "      <td>CRIMINAL DAMAGE</td>\n",
       "      <td>TO VEHICLE</td>\n",
       "      <td>STREET</td>\n",
       "      <td>False</td>\n",
       "      <td>False</td>\n",
       "      <td>423</td>\n",
       "      <td>4.0</td>\n",
       "      <td>10.0</td>\n",
       "      <td>46.0</td>\n",
       "      <td>14</td>\n",
       "      <td>1196638.0</td>\n",
       "      <td>1848800.0</td>\n",
       "      <td>2008</td>\n",
       "      <td>02/28/2018 03:56:25 PM</td>\n",
       "      <td>41.739980</td>\n",
       "      <td>-87.555120</td>\n",
       "      <td>(41.739979622, -87.555120042)</td>\n",
       "    </tr>\n",
       "    <tr>\n",
       "      <th>1</th>\n",
       "      <td>1</td>\n",
       "      <td>11398199</td>\n",
       "      <td>JB372830</td>\n",
       "      <td>07/31/2018 10:57:00 AM</td>\n",
       "      <td>092XX S ELLIS AVE</td>\n",
       "      <td>143C</td>\n",
       "      <td>WEAPONS VIOLATION</td>\n",
       "      <td>UNLAWFUL POSS AMMUNITION</td>\n",
       "      <td>POOL ROOM</td>\n",
       "      <td>True</td>\n",
       "      <td>False</td>\n",
       "      <td>413</td>\n",
       "      <td>4.0</td>\n",
       "      <td>8.0</td>\n",
       "      <td>47.0</td>\n",
       "      <td>15</td>\n",
       "      <td>1184499.0</td>\n",
       "      <td>1843935.0</td>\n",
       "      <td>2018</td>\n",
       "      <td>08/07/2018 04:02:59 PM</td>\n",
       "      <td>41.726922</td>\n",
       "      <td>-87.599747</td>\n",
       "      <td>(41.726922145, -87.599746995)</td>\n",
       "    </tr>\n",
       "    <tr>\n",
       "      <th>2</th>\n",
       "      <td>2</td>\n",
       "      <td>5488785</td>\n",
       "      <td>HN308568</td>\n",
       "      <td>04/27/2007 10:30:00 AM</td>\n",
       "      <td>062XX N TRIPP AVE</td>\n",
       "      <td>0610</td>\n",
       "      <td>BURGLARY</td>\n",
       "      <td>FORCIBLE ENTRY</td>\n",
       "      <td>RESIDENCE</td>\n",
       "      <td>True</td>\n",
       "      <td>False</td>\n",
       "      <td>1711</td>\n",
       "      <td>17.0</td>\n",
       "      <td>39.0</td>\n",
       "      <td>12.0</td>\n",
       "      <td>05</td>\n",
       "      <td>1146911.0</td>\n",
       "      <td>1941022.0</td>\n",
       "      <td>2007</td>\n",
       "      <td>02/28/2018 03:56:25 PM</td>\n",
       "      <td>41.994138</td>\n",
       "      <td>-87.734959</td>\n",
       "      <td>(41.994137622, -87.734959049)</td>\n",
       "    </tr>\n",
       "    <tr>\n",
       "      <th>3</th>\n",
       "      <td>3</td>\n",
       "      <td>11389116</td>\n",
       "      <td>JB361368</td>\n",
       "      <td>07/23/2018 08:55:00 AM</td>\n",
       "      <td>0000X N KEELER AVE</td>\n",
       "      <td>0560</td>\n",
       "      <td>ASSAULT</td>\n",
       "      <td>SIMPLE</td>\n",
       "      <td>NURSING HOME/RETIREMENT HOME</td>\n",
       "      <td>False</td>\n",
       "      <td>False</td>\n",
       "      <td>1115</td>\n",
       "      <td>11.0</td>\n",
       "      <td>28.0</td>\n",
       "      <td>26.0</td>\n",
       "      <td>08A</td>\n",
       "      <td>1148388.0</td>\n",
       "      <td>1899882.0</td>\n",
       "      <td>2018</td>\n",
       "      <td>07/30/2018 03:52:24 PM</td>\n",
       "      <td>41.881217</td>\n",
       "      <td>-87.730590</td>\n",
       "      <td>(41.881217483, -87.730589961)</td>\n",
       "    </tr>\n",
       "    <tr>\n",
       "      <th>4</th>\n",
       "      <td>4</td>\n",
       "      <td>12420431</td>\n",
       "      <td>JE297624</td>\n",
       "      <td>07/11/2021 06:40:00 AM</td>\n",
       "      <td>016XX W HARRISON ST</td>\n",
       "      <td>051A</td>\n",
       "      <td>ASSAULT</td>\n",
       "      <td>AGGRAVATED - HANDGUN</td>\n",
       "      <td>PARKING LOT / GARAGE (NON RESIDENTIAL)</td>\n",
       "      <td>False</td>\n",
       "      <td>False</td>\n",
       "      <td>1231</td>\n",
       "      <td>12.0</td>\n",
       "      <td>27.0</td>\n",
       "      <td>28.0</td>\n",
       "      <td>04A</td>\n",
       "      <td>1165430.0</td>\n",
       "      <td>1897441.0</td>\n",
       "      <td>2021</td>\n",
       "      <td>07/18/2021 04:56:02 PM</td>\n",
       "      <td>41.874174</td>\n",
       "      <td>-87.668082</td>\n",
       "      <td>(41.874173691, -87.668082118)</td>\n",
       "    </tr>\n",
       "  </tbody>\n",
       "</table>\n",
       "</div>"
      ],
      "text/plain": [
       "   Unnamed: 0        ID Case Number                    Date  \\\n",
       "0           0   6407111    HP485721  07/26/2008 02:30:00 PM   \n",
       "1           1  11398199    JB372830  07/31/2018 10:57:00 AM   \n",
       "2           2   5488785    HN308568  04/27/2007 10:30:00 AM   \n",
       "3           3  11389116    JB361368  07/23/2018 08:55:00 AM   \n",
       "4           4  12420431    JE297624  07/11/2021 06:40:00 AM   \n",
       "\n",
       "                  Block  IUCR       Primary Type               Description  \\\n",
       "0  085XX S MUSKEGON AVE  1320    CRIMINAL DAMAGE                TO VEHICLE   \n",
       "1     092XX S ELLIS AVE  143C  WEAPONS VIOLATION  UNLAWFUL POSS AMMUNITION   \n",
       "2     062XX N TRIPP AVE  0610           BURGLARY            FORCIBLE ENTRY   \n",
       "3    0000X N KEELER AVE  0560            ASSAULT                    SIMPLE   \n",
       "4   016XX W HARRISON ST  051A            ASSAULT      AGGRAVATED - HANDGUN   \n",
       "\n",
       "                     Location Description  Arrest  Domestic  Beat  District  \\\n",
       "0                                  STREET   False     False   423       4.0   \n",
       "1                               POOL ROOM    True     False   413       4.0   \n",
       "2                               RESIDENCE    True     False  1711      17.0   \n",
       "3            NURSING HOME/RETIREMENT HOME   False     False  1115      11.0   \n",
       "4  PARKING LOT / GARAGE (NON RESIDENTIAL)   False     False  1231      12.0   \n",
       "\n",
       "   Ward  Community Area FBI Code  X Coordinate  Y Coordinate  Year  \\\n",
       "0  10.0            46.0       14     1196638.0     1848800.0  2008   \n",
       "1   8.0            47.0       15     1184499.0     1843935.0  2018   \n",
       "2  39.0            12.0       05     1146911.0     1941022.0  2007   \n",
       "3  28.0            26.0      08A     1148388.0     1899882.0  2018   \n",
       "4  27.0            28.0      04A     1165430.0     1897441.0  2021   \n",
       "\n",
       "               Updated On   Latitude  Longitude                       Location  \n",
       "0  02/28/2018 03:56:25 PM  41.739980 -87.555120  (41.739979622, -87.555120042)  \n",
       "1  08/07/2018 04:02:59 PM  41.726922 -87.599747  (41.726922145, -87.599746995)  \n",
       "2  02/28/2018 03:56:25 PM  41.994138 -87.734959  (41.994137622, -87.734959049)  \n",
       "3  07/30/2018 03:52:24 PM  41.881217 -87.730590  (41.881217483, -87.730589961)  \n",
       "4  07/18/2021 04:56:02 PM  41.874174 -87.668082  (41.874173691, -87.668082118)  "
      ]
     },
     "execution_count": 7,
     "metadata": {},
     "output_type": "execute_result"
    }
   ],
   "source": [
    "full_dataset = pd.read_csv('crime_data_chicago.csv')\n",
    "# Drop rows that have 2024 as the year.\n",
    "chicago_crime_df = pd.DataFrame(full_dataset[full_dataset['Year'] != 2023])\n",
    "chicago_crime_df.head()"
   ]
  },
  {
   "cell_type": "markdown",
   "id": "46015508",
   "metadata": {
    "id": "46015508"
   },
   "source": [
    "# 2. Explore the dataset"
   ]
  },
  {
   "cell_type": "code",
   "execution_count": 8,
   "id": "40a1c122",
   "metadata": {
    "ExecuteTime": {
     "end_time": "2024-03-26T13:53:32.743740Z",
     "start_time": "2024-03-26T13:53:32.727448Z"
    },
    "colab": {
     "base_uri": "https://localhost:8080/"
    },
    "id": "40a1c122",
    "outputId": "6330ba41-ab53-42fa-b78d-66d52a3efb10"
   },
   "outputs": [
    {
     "data": {
      "text/plain": [
       "(2278726, 23)"
      ]
     },
     "execution_count": 8,
     "metadata": {},
     "output_type": "execute_result"
    }
   ],
   "source": [
    "#checking the dimension of the dataset\n",
    "chicago_crime_df.shape"
   ]
  },
  {
   "cell_type": "code",
   "execution_count": 9,
   "id": "821a0eb5",
   "metadata": {
    "ExecuteTime": {
     "end_time": "2024-03-26T13:53:33.670472Z",
     "start_time": "2024-03-26T13:53:33.657723Z"
    },
    "colab": {
     "base_uri": "https://localhost:8080/"
    },
    "id": "821a0eb5",
    "outputId": "3c283e4b-ddd2-46dd-e098-f1f0016d3d24"
   },
   "outputs": [
    {
     "data": {
      "text/plain": [
       "Index(['Unnamed: 0', 'ID', 'Case Number', 'Date', 'Block', 'IUCR',\n",
       "       'Primary Type', 'Description', 'Location Description', 'Arrest',\n",
       "       'Domestic', 'Beat', 'District', 'Ward', 'Community Area', 'FBI Code',\n",
       "       'X Coordinate', 'Y Coordinate', 'Year', 'Updated On', 'Latitude',\n",
       "       'Longitude', 'Location'],\n",
       "      dtype='object')"
      ]
     },
     "execution_count": 9,
     "metadata": {},
     "output_type": "execute_result"
    }
   ],
   "source": [
    "# Display the first five rows of the dataset\n",
    "chicago_crime_df.columns"
   ]
  },
  {
   "cell_type": "code",
   "execution_count": 10,
   "id": "6492c4d3",
   "metadata": {
    "ExecuteTime": {
     "end_time": "2024-03-26T13:53:33.990372Z",
     "start_time": "2024-03-26T13:53:33.932312Z"
    },
    "colab": {
     "base_uri": "https://localhost:8080/",
     "height": 487
    },
    "id": "6492c4d3",
    "outputId": "1841d07d-bc30-44cb-f0cc-9ec84b6473a1"
   },
   "outputs": [
    {
     "data": {
      "text/html": [
       "<div>\n",
       "<style scoped>\n",
       "    .dataframe tbody tr th:only-of-type {\n",
       "        vertical-align: middle;\n",
       "    }\n",
       "\n",
       "    .dataframe tbody tr th {\n",
       "        vertical-align: top;\n",
       "    }\n",
       "\n",
       "    .dataframe thead th {\n",
       "        text-align: right;\n",
       "    }\n",
       "</style>\n",
       "<table border=\"1\" class=\"dataframe\">\n",
       "  <thead>\n",
       "    <tr style=\"text-align: right;\">\n",
       "      <th></th>\n",
       "      <th>Unnamed: 0</th>\n",
       "      <th>ID</th>\n",
       "      <th>Case Number</th>\n",
       "      <th>Date</th>\n",
       "      <th>Block</th>\n",
       "      <th>IUCR</th>\n",
       "      <th>Primary Type</th>\n",
       "      <th>Description</th>\n",
       "      <th>Location Description</th>\n",
       "      <th>Arrest</th>\n",
       "      <th>Domestic</th>\n",
       "      <th>Beat</th>\n",
       "      <th>District</th>\n",
       "      <th>Ward</th>\n",
       "      <th>Community Area</th>\n",
       "      <th>FBI Code</th>\n",
       "      <th>X Coordinate</th>\n",
       "      <th>Y Coordinate</th>\n",
       "      <th>Year</th>\n",
       "      <th>Updated On</th>\n",
       "      <th>Latitude</th>\n",
       "      <th>Longitude</th>\n",
       "      <th>Location</th>\n",
       "    </tr>\n",
       "  </thead>\n",
       "  <tbody>\n",
       "    <tr>\n",
       "      <th>0</th>\n",
       "      <td>0</td>\n",
       "      <td>6407111</td>\n",
       "      <td>HP485721</td>\n",
       "      <td>07/26/2008 02:30:00 PM</td>\n",
       "      <td>085XX S MUSKEGON AVE</td>\n",
       "      <td>1320</td>\n",
       "      <td>CRIMINAL DAMAGE</td>\n",
       "      <td>TO VEHICLE</td>\n",
       "      <td>STREET</td>\n",
       "      <td>False</td>\n",
       "      <td>False</td>\n",
       "      <td>423</td>\n",
       "      <td>4.0</td>\n",
       "      <td>10.0</td>\n",
       "      <td>46.0</td>\n",
       "      <td>14</td>\n",
       "      <td>1196638.0</td>\n",
       "      <td>1848800.0</td>\n",
       "      <td>2008</td>\n",
       "      <td>02/28/2018 03:56:25 PM</td>\n",
       "      <td>41.739980</td>\n",
       "      <td>-87.555120</td>\n",
       "      <td>(41.739979622, -87.555120042)</td>\n",
       "    </tr>\n",
       "    <tr>\n",
       "      <th>1</th>\n",
       "      <td>1</td>\n",
       "      <td>11398199</td>\n",
       "      <td>JB372830</td>\n",
       "      <td>07/31/2018 10:57:00 AM</td>\n",
       "      <td>092XX S ELLIS AVE</td>\n",
       "      <td>143C</td>\n",
       "      <td>WEAPONS VIOLATION</td>\n",
       "      <td>UNLAWFUL POSS AMMUNITION</td>\n",
       "      <td>POOL ROOM</td>\n",
       "      <td>True</td>\n",
       "      <td>False</td>\n",
       "      <td>413</td>\n",
       "      <td>4.0</td>\n",
       "      <td>8.0</td>\n",
       "      <td>47.0</td>\n",
       "      <td>15</td>\n",
       "      <td>1184499.0</td>\n",
       "      <td>1843935.0</td>\n",
       "      <td>2018</td>\n",
       "      <td>08/07/2018 04:02:59 PM</td>\n",
       "      <td>41.726922</td>\n",
       "      <td>-87.599747</td>\n",
       "      <td>(41.726922145, -87.599746995)</td>\n",
       "    </tr>\n",
       "    <tr>\n",
       "      <th>2</th>\n",
       "      <td>2</td>\n",
       "      <td>5488785</td>\n",
       "      <td>HN308568</td>\n",
       "      <td>04/27/2007 10:30:00 AM</td>\n",
       "      <td>062XX N TRIPP AVE</td>\n",
       "      <td>0610</td>\n",
       "      <td>BURGLARY</td>\n",
       "      <td>FORCIBLE ENTRY</td>\n",
       "      <td>RESIDENCE</td>\n",
       "      <td>True</td>\n",
       "      <td>False</td>\n",
       "      <td>1711</td>\n",
       "      <td>17.0</td>\n",
       "      <td>39.0</td>\n",
       "      <td>12.0</td>\n",
       "      <td>05</td>\n",
       "      <td>1146911.0</td>\n",
       "      <td>1941022.0</td>\n",
       "      <td>2007</td>\n",
       "      <td>02/28/2018 03:56:25 PM</td>\n",
       "      <td>41.994138</td>\n",
       "      <td>-87.734959</td>\n",
       "      <td>(41.994137622, -87.734959049)</td>\n",
       "    </tr>\n",
       "    <tr>\n",
       "      <th>3</th>\n",
       "      <td>3</td>\n",
       "      <td>11389116</td>\n",
       "      <td>JB361368</td>\n",
       "      <td>07/23/2018 08:55:00 AM</td>\n",
       "      <td>0000X N KEELER AVE</td>\n",
       "      <td>0560</td>\n",
       "      <td>ASSAULT</td>\n",
       "      <td>SIMPLE</td>\n",
       "      <td>NURSING HOME/RETIREMENT HOME</td>\n",
       "      <td>False</td>\n",
       "      <td>False</td>\n",
       "      <td>1115</td>\n",
       "      <td>11.0</td>\n",
       "      <td>28.0</td>\n",
       "      <td>26.0</td>\n",
       "      <td>08A</td>\n",
       "      <td>1148388.0</td>\n",
       "      <td>1899882.0</td>\n",
       "      <td>2018</td>\n",
       "      <td>07/30/2018 03:52:24 PM</td>\n",
       "      <td>41.881217</td>\n",
       "      <td>-87.730590</td>\n",
       "      <td>(41.881217483, -87.730589961)</td>\n",
       "    </tr>\n",
       "    <tr>\n",
       "      <th>4</th>\n",
       "      <td>4</td>\n",
       "      <td>12420431</td>\n",
       "      <td>JE297624</td>\n",
       "      <td>07/11/2021 06:40:00 AM</td>\n",
       "      <td>016XX W HARRISON ST</td>\n",
       "      <td>051A</td>\n",
       "      <td>ASSAULT</td>\n",
       "      <td>AGGRAVATED - HANDGUN</td>\n",
       "      <td>PARKING LOT / GARAGE (NON RESIDENTIAL)</td>\n",
       "      <td>False</td>\n",
       "      <td>False</td>\n",
       "      <td>1231</td>\n",
       "      <td>12.0</td>\n",
       "      <td>27.0</td>\n",
       "      <td>28.0</td>\n",
       "      <td>04A</td>\n",
       "      <td>1165430.0</td>\n",
       "      <td>1897441.0</td>\n",
       "      <td>2021</td>\n",
       "      <td>07/18/2021 04:56:02 PM</td>\n",
       "      <td>41.874174</td>\n",
       "      <td>-87.668082</td>\n",
       "      <td>(41.874173691, -87.668082118)</td>\n",
       "    </tr>\n",
       "  </tbody>\n",
       "</table>\n",
       "</div>"
      ],
      "text/plain": [
       "   Unnamed: 0        ID Case Number                    Date  \\\n",
       "0           0   6407111    HP485721  07/26/2008 02:30:00 PM   \n",
       "1           1  11398199    JB372830  07/31/2018 10:57:00 AM   \n",
       "2           2   5488785    HN308568  04/27/2007 10:30:00 AM   \n",
       "3           3  11389116    JB361368  07/23/2018 08:55:00 AM   \n",
       "4           4  12420431    JE297624  07/11/2021 06:40:00 AM   \n",
       "\n",
       "                  Block  IUCR       Primary Type               Description  \\\n",
       "0  085XX S MUSKEGON AVE  1320    CRIMINAL DAMAGE                TO VEHICLE   \n",
       "1     092XX S ELLIS AVE  143C  WEAPONS VIOLATION  UNLAWFUL POSS AMMUNITION   \n",
       "2     062XX N TRIPP AVE  0610           BURGLARY            FORCIBLE ENTRY   \n",
       "3    0000X N KEELER AVE  0560            ASSAULT                    SIMPLE   \n",
       "4   016XX W HARRISON ST  051A            ASSAULT      AGGRAVATED - HANDGUN   \n",
       "\n",
       "                     Location Description  Arrest  Domestic  Beat  District  \\\n",
       "0                                  STREET   False     False   423       4.0   \n",
       "1                               POOL ROOM    True     False   413       4.0   \n",
       "2                               RESIDENCE    True     False  1711      17.0   \n",
       "3            NURSING HOME/RETIREMENT HOME   False     False  1115      11.0   \n",
       "4  PARKING LOT / GARAGE (NON RESIDENTIAL)   False     False  1231      12.0   \n",
       "\n",
       "   Ward  Community Area FBI Code  X Coordinate  Y Coordinate  Year  \\\n",
       "0  10.0            46.0       14     1196638.0     1848800.0  2008   \n",
       "1   8.0            47.0       15     1184499.0     1843935.0  2018   \n",
       "2  39.0            12.0       05     1146911.0     1941022.0  2007   \n",
       "3  28.0            26.0      08A     1148388.0     1899882.0  2018   \n",
       "4  27.0            28.0      04A     1165430.0     1897441.0  2021   \n",
       "\n",
       "               Updated On   Latitude  Longitude                       Location  \n",
       "0  02/28/2018 03:56:25 PM  41.739980 -87.555120  (41.739979622, -87.555120042)  \n",
       "1  08/07/2018 04:02:59 PM  41.726922 -87.599747  (41.726922145, -87.599746995)  \n",
       "2  02/28/2018 03:56:25 PM  41.994138 -87.734959  (41.994137622, -87.734959049)  \n",
       "3  07/30/2018 03:52:24 PM  41.881217 -87.730590  (41.881217483, -87.730589961)  \n",
       "4  07/18/2021 04:56:02 PM  41.874174 -87.668082  (41.874173691, -87.668082118)  "
      ]
     },
     "execution_count": 10,
     "metadata": {},
     "output_type": "execute_result"
    }
   ],
   "source": [
    "# check the first five observations\n",
    "chicago_crime_df.head()"
   ]
  },
  {
   "cell_type": "code",
   "execution_count": 11,
   "id": "2b737764",
   "metadata": {
    "ExecuteTime": {
     "end_time": "2024-03-26T13:53:34.498636Z",
     "start_time": "2024-03-26T13:53:34.264967Z"
    },
    "colab": {
     "base_uri": "https://localhost:8080/"
    },
    "id": "2b737764",
    "outputId": "b526b6be-e9a6-4737-a1ea-98eefbe9a1a6"
   },
   "outputs": [
    {
     "name": "stdout",
     "output_type": "stream",
     "text": [
      "<class 'pandas.core.frame.DataFrame'>\n",
      "RangeIndex: 2278726 entries, 0 to 2278725\n",
      "Data columns (total 23 columns):\n",
      " #   Column                Dtype  \n",
      "---  ------                -----  \n",
      " 0   Unnamed: 0            int64  \n",
      " 1   ID                    int64  \n",
      " 2   Case Number           object \n",
      " 3   Date                  object \n",
      " 4   Block                 object \n",
      " 5   IUCR                  object \n",
      " 6   Primary Type          object \n",
      " 7   Description           object \n",
      " 8   Location Description  object \n",
      " 9   Arrest                bool   \n",
      " 10  Domestic              bool   \n",
      " 11  Beat                  int64  \n",
      " 12  District              float64\n",
      " 13  Ward                  float64\n",
      " 14  Community Area        float64\n",
      " 15  FBI Code              object \n",
      " 16  X Coordinate          float64\n",
      " 17  Y Coordinate          float64\n",
      " 18  Year                  int64  \n",
      " 19  Updated On            object \n",
      " 20  Latitude              float64\n",
      " 21  Longitude             float64\n",
      " 22  Location              object \n",
      "dtypes: bool(2), float64(7), int64(4), object(10)\n",
      "memory usage: 369.4+ MB\n"
     ]
    }
   ],
   "source": [
    " # Display column information and data types\n",
    "chicago_crime_df.info()"
   ]
  },
  {
   "cell_type": "code",
   "execution_count": 12,
   "id": "b7d56818",
   "metadata": {
    "ExecuteTime": {
     "end_time": "2024-03-26T13:53:36.426109Z",
     "start_time": "2024-03-26T13:53:34.618982Z"
    },
    "colab": {
     "base_uri": "https://localhost:8080/"
    },
    "id": "b7d56818",
    "outputId": "def6df9f-32ff-42b6-80db-4819030f4325"
   },
   "outputs": [
    {
     "data": {
      "text/plain": [
       "Unnamed: 0                   0\n",
       "ID                           0\n",
       "Case Number                  1\n",
       "Date                         0\n",
       "Block                        0\n",
       "IUCR                         0\n",
       "Primary Type                 0\n",
       "Description                  0\n",
       "Location Description      2877\n",
       "Arrest                       0\n",
       "Domestic                     0\n",
       "Beat                         0\n",
       "District                    12\n",
       "Ward                    184695\n",
       "Community Area          184267\n",
       "FBI Code                     0\n",
       "X Coordinate             23985\n",
       "Y Coordinate             23985\n",
       "Year                         0\n",
       "Updated On                   0\n",
       "Latitude                 23985\n",
       "Longitude                23985\n",
       "Location                 23985\n",
       "dtype: int64"
      ]
     },
     "execution_count": 12,
     "metadata": {},
     "output_type": "execute_result"
    }
   ],
   "source": [
    "# checking missing value count\n",
    "chicago_crime_df.isnull().sum()"
   ]
  },
  {
   "cell_type": "code",
   "execution_count": 13,
   "id": "d63b64b0",
   "metadata": {
    "ExecuteTime": {
     "end_time": "2024-03-26T13:53:37.916780Z",
     "start_time": "2024-03-26T13:53:36.452965Z"
    },
    "colab": {
     "base_uri": "https://localhost:8080/",
     "height": 300
    },
    "id": "d63b64b0",
    "outputId": "3d697187-b716-4c92-e64d-c1348b9de672"
   },
   "outputs": [
    {
     "data": {
      "text/html": [
       "<div>\n",
       "<style scoped>\n",
       "    .dataframe tbody tr th:only-of-type {\n",
       "        vertical-align: middle;\n",
       "    }\n",
       "\n",
       "    .dataframe tbody tr th {\n",
       "        vertical-align: top;\n",
       "    }\n",
       "\n",
       "    .dataframe thead th {\n",
       "        text-align: right;\n",
       "    }\n",
       "</style>\n",
       "<table border=\"1\" class=\"dataframe\">\n",
       "  <thead>\n",
       "    <tr style=\"text-align: right;\">\n",
       "      <th></th>\n",
       "      <th>Unnamed: 0</th>\n",
       "      <th>ID</th>\n",
       "      <th>Beat</th>\n",
       "      <th>District</th>\n",
       "      <th>Ward</th>\n",
       "      <th>Community Area</th>\n",
       "      <th>X Coordinate</th>\n",
       "      <th>Y Coordinate</th>\n",
       "      <th>Year</th>\n",
       "      <th>Latitude</th>\n",
       "      <th>Longitude</th>\n",
       "    </tr>\n",
       "  </thead>\n",
       "  <tbody>\n",
       "    <tr>\n",
       "      <th>count</th>\n",
       "      <td>2.278726e+06</td>\n",
       "      <td>2.278726e+06</td>\n",
       "      <td>2.278726e+06</td>\n",
       "      <td>2.278714e+06</td>\n",
       "      <td>2.094031e+06</td>\n",
       "      <td>2.094459e+06</td>\n",
       "      <td>2.254741e+06</td>\n",
       "      <td>2.254741e+06</td>\n",
       "      <td>2.278726e+06</td>\n",
       "      <td>2.254741e+06</td>\n",
       "      <td>2.254741e+06</td>\n",
       "    </tr>\n",
       "    <tr>\n",
       "      <th>mean</th>\n",
       "      <td>1.139362e+06</td>\n",
       "      <td>6.882068e+06</td>\n",
       "      <td>1.186442e+03</td>\n",
       "      <td>1.129072e+01</td>\n",
       "      <td>2.272764e+01</td>\n",
       "      <td>3.752140e+01</td>\n",
       "      <td>1.164569e+06</td>\n",
       "      <td>1.885747e+06</td>\n",
       "      <td>2.009638e+03</td>\n",
       "      <td>4.184209e+01</td>\n",
       "      <td>-8.767161e+01</td>\n",
       "    </tr>\n",
       "    <tr>\n",
       "      <th>std</th>\n",
       "      <td>6.578117e+05</td>\n",
       "      <td>3.419168e+06</td>\n",
       "      <td>7.026836e+02</td>\n",
       "      <td>6.946692e+00</td>\n",
       "      <td>1.383464e+01</td>\n",
       "      <td>2.153282e+01</td>\n",
       "      <td>1.673955e+04</td>\n",
       "      <td>3.209855e+04</td>\n",
       "      <td>6.019724e+00</td>\n",
       "      <td>8.830434e-02</td>\n",
       "      <td>6.073538e-02</td>\n",
       "    </tr>\n",
       "    <tr>\n",
       "      <th>min</th>\n",
       "      <td>0.000000e+00</td>\n",
       "      <td>6.370000e+02</td>\n",
       "      <td>1.110000e+02</td>\n",
       "      <td>1.000000e+00</td>\n",
       "      <td>1.000000e+00</td>\n",
       "      <td>0.000000e+00</td>\n",
       "      <td>0.000000e+00</td>\n",
       "      <td>0.000000e+00</td>\n",
       "      <td>2.001000e+03</td>\n",
       "      <td>3.661945e+01</td>\n",
       "      <td>-9.168657e+01</td>\n",
       "    </tr>\n",
       "    <tr>\n",
       "      <th>25%</th>\n",
       "      <td>5.696812e+05</td>\n",
       "      <td>3.716076e+06</td>\n",
       "      <td>6.210000e+02</td>\n",
       "      <td>6.000000e+00</td>\n",
       "      <td>1.000000e+01</td>\n",
       "      <td>2.300000e+01</td>\n",
       "      <td>1.152948e+06</td>\n",
       "      <td>1.859053e+06</td>\n",
       "      <td>2.004000e+03</td>\n",
       "      <td>4.176866e+01</td>\n",
       "      <td>-8.771379e+01</td>\n",
       "    </tr>\n",
       "    <tr>\n",
       "      <th>50%</th>\n",
       "      <td>1.139362e+06</td>\n",
       "      <td>6.885990e+06</td>\n",
       "      <td>1.034000e+03</td>\n",
       "      <td>1.000000e+01</td>\n",
       "      <td>2.300000e+01</td>\n",
       "      <td>3.200000e+01</td>\n",
       "      <td>1.166060e+06</td>\n",
       "      <td>1.890673e+06</td>\n",
       "      <td>2.009000e+03</td>\n",
       "      <td>4.185578e+01</td>\n",
       "      <td>-8.766597e+01</td>\n",
       "    </tr>\n",
       "    <tr>\n",
       "      <th>75%</th>\n",
       "      <td>1.709044e+06</td>\n",
       "      <td>9.887568e+06</td>\n",
       "      <td>1.731000e+03</td>\n",
       "      <td>1.700000e+01</td>\n",
       "      <td>3.400000e+01</td>\n",
       "      <td>5.700000e+01</td>\n",
       "      <td>1.176365e+06</td>\n",
       "      <td>1.909219e+06</td>\n",
       "      <td>2.014000e+03</td>\n",
       "      <td>4.190668e+01</td>\n",
       "      <td>-8.762823e+01</td>\n",
       "    </tr>\n",
       "    <tr>\n",
       "      <th>max</th>\n",
       "      <td>2.278725e+06</td>\n",
       "      <td>1.278199e+07</td>\n",
       "      <td>2.535000e+03</td>\n",
       "      <td>3.100000e+01</td>\n",
       "      <td>5.000000e+01</td>\n",
       "      <td>7.700000e+01</td>\n",
       "      <td>1.205119e+06</td>\n",
       "      <td>1.951622e+06</td>\n",
       "      <td>2.022000e+03</td>\n",
       "      <td>4.202291e+01</td>\n",
       "      <td>-8.752453e+01</td>\n",
       "    </tr>\n",
       "  </tbody>\n",
       "</table>\n",
       "</div>"
      ],
      "text/plain": [
       "         Unnamed: 0            ID          Beat      District          Ward  \\\n",
       "count  2.278726e+06  2.278726e+06  2.278726e+06  2.278714e+06  2.094031e+06   \n",
       "mean   1.139362e+06  6.882068e+06  1.186442e+03  1.129072e+01  2.272764e+01   \n",
       "std    6.578117e+05  3.419168e+06  7.026836e+02  6.946692e+00  1.383464e+01   \n",
       "min    0.000000e+00  6.370000e+02  1.110000e+02  1.000000e+00  1.000000e+00   \n",
       "25%    5.696812e+05  3.716076e+06  6.210000e+02  6.000000e+00  1.000000e+01   \n",
       "50%    1.139362e+06  6.885990e+06  1.034000e+03  1.000000e+01  2.300000e+01   \n",
       "75%    1.709044e+06  9.887568e+06  1.731000e+03  1.700000e+01  3.400000e+01   \n",
       "max    2.278725e+06  1.278199e+07  2.535000e+03  3.100000e+01  5.000000e+01   \n",
       "\n",
       "       Community Area  X Coordinate  Y Coordinate          Year      Latitude  \\\n",
       "count    2.094459e+06  2.254741e+06  2.254741e+06  2.278726e+06  2.254741e+06   \n",
       "mean     3.752140e+01  1.164569e+06  1.885747e+06  2.009638e+03  4.184209e+01   \n",
       "std      2.153282e+01  1.673955e+04  3.209855e+04  6.019724e+00  8.830434e-02   \n",
       "min      0.000000e+00  0.000000e+00  0.000000e+00  2.001000e+03  3.661945e+01   \n",
       "25%      2.300000e+01  1.152948e+06  1.859053e+06  2.004000e+03  4.176866e+01   \n",
       "50%      3.200000e+01  1.166060e+06  1.890673e+06  2.009000e+03  4.185578e+01   \n",
       "75%      5.700000e+01  1.176365e+06  1.909219e+06  2.014000e+03  4.190668e+01   \n",
       "max      7.700000e+01  1.205119e+06  1.951622e+06  2.022000e+03  4.202291e+01   \n",
       "\n",
       "          Longitude  \n",
       "count  2.254741e+06  \n",
       "mean  -8.767161e+01  \n",
       "std    6.073538e-02  \n",
       "min   -9.168657e+01  \n",
       "25%   -8.771379e+01  \n",
       "50%   -8.766597e+01  \n",
       "75%   -8.762823e+01  \n",
       "max   -8.752453e+01  "
      ]
     },
     "execution_count": 13,
     "metadata": {},
     "output_type": "execute_result"
    }
   ],
   "source": [
    "chicago_crime_df.describe()"
   ]
  },
  {
   "cell_type": "markdown",
   "id": "2bb19f83",
   "metadata": {
    "id": "2bb19f83"
   },
   "source": [
    "# 3. Data Preprocessing"
   ]
  },
  {
   "cell_type": "markdown",
   "id": "18cc107e",
   "metadata": {
    "id": "18cc107e"
   },
   "source": [
    "**Data Cleaning**"
   ]
  },
  {
   "cell_type": "markdown",
   "id": "5793f507",
   "metadata": {
    "id": "5793f507"
   },
   "source": [
    "Here are some steps that we would carry out in this phase\n",
    "\n",
    "1. Remove redundant or unnecessary columns\n",
    "2. Handle missing values\n",
    "3. Convert data types to the appropriate formats  \n",
    "\n",
    "__Reasons for dropping the below columns__\n",
    "- 'Unnamed: 0': Its just an index for individual row/ Observation\n",
    "- 'ID': Serial identifier for the record which is redundant due to the presence of a case number for each case.\n",
    "- 'Location': This is where the incident occurred in a format that allows for creation of maps and other geographic operation. It's the combination of both latitude and longitude feature of this dataset thus, not required.\n",
    "- 'Updated On': Holds the date and time the record was last updated.Which is not required for our analysis.\n",
    "- 'X Coordinate': The x coordinate is a shifted location from the actual location for partial redaction but falls on the same block. Since we have a longitude/latitude and the block where the crime happened, we can neglect this feature.\n",
    "- 'Y Coordinate': The y coordinate is a shifted location from the actual location for partial redaction but falls on the same block. Since we have a longitude/latitude and the block where the crime happened, we can neglect this feature.\n",
    "- 'Community Area': This indicates the community area where the incident occurred. Which is not neccessary for our analysis.\n",
    "- 'IUCR': This is the Illinois Unifrom Crime Reporting code. This is directly linked to the Primary Type and Description, it provides information about the primary type and description of crime. Since primary type and description features already exist, it becomes a redundant column\n",
    "- Description: It's simply a subcategory of the primary type(which describes the type of crime committed). this can be omitted\n",
    "- Block: Since we have the latitude and longitude, this column is redundant.\n",
    "- Community Area: This is not needed in our analysis and the presence of a police Beat makes this redundant.\n",
    "- FBI Code: Removed because it is not necessary for our analysis as we are unable to de-code these codes."
   ]
  },
  {
   "cell_type": "markdown",
   "id": "3d674611",
   "metadata": {
    "id": "3d674611"
   },
   "source": [
    "__1. Use a funtion to Drop redundant columns and/or columns that are not necessary for our analysis (a redundant column is one that gives infomation that another column already explains: eg ID and Case number)__"
   ]
  },
  {
   "cell_type": "code",
   "execution_count": 14,
   "id": "cf7fd108",
   "metadata": {
    "ExecuteTime": {
     "end_time": "2024-03-26T13:53:37.951702Z",
     "start_time": "2024-03-26T13:53:37.934365Z"
    },
    "colab": {
     "base_uri": "https://localhost:8080/"
    },
    "id": "cf7fd108",
    "outputId": "c84675fe-53fa-4921-ebe8-7fd2de86a4dc"
   },
   "outputs": [
    {
     "data": {
      "text/plain": [
       "Index(['Unnamed: 0', 'ID', 'Case Number', 'Date', 'Block', 'IUCR',\n",
       "       'Primary Type', 'Description', 'Location Description', 'Arrest',\n",
       "       'Domestic', 'Beat', 'District', 'Ward', 'Community Area', 'FBI Code',\n",
       "       'X Coordinate', 'Y Coordinate', 'Year', 'Updated On', 'Latitude',\n",
       "       'Longitude', 'Location'],\n",
       "      dtype='object')"
      ]
     },
     "execution_count": 14,
     "metadata": {},
     "output_type": "execute_result"
    }
   ],
   "source": [
    "chicago_crime_df.columns"
   ]
  },
  {
   "cell_type": "code",
   "execution_count": null,
   "id": "7855cff3",
   "metadata": {
    "id": "7855cff3"
   },
   "outputs": [],
   "source": []
  },
  {
   "cell_type": "code",
   "execution_count": 15,
   "id": "1fef58c2",
   "metadata": {
    "ExecuteTime": {
     "end_time": "2024-03-26T13:53:38.453406Z",
     "start_time": "2024-03-26T13:53:37.968504Z"
    },
    "id": "1fef58c2"
   },
   "outputs": [],
   "source": [
    "# Dropping redundant columns\n",
    "def drop_redundant_columns(df):\n",
    "    redundant_columns = ['Unnamed: 0','ID', 'Location','Updated On', 'FBI Code', 'Description', 'X Coordinate','Y Coordinate','IUCR']\n",
    "    df.drop(redundant_columns, axis=1, inplace= True)\n",
    "\n",
    "drop_redundant_columns(chicago_crime_df)"
   ]
  },
  {
   "cell_type": "code",
   "execution_count": 16,
   "id": "d55a5457",
   "metadata": {
    "ExecuteTime": {
     "end_time": "2024-03-26T13:53:38.540905Z",
     "start_time": "2024-03-26T13:53:38.484103Z"
    },
    "colab": {
     "base_uri": "https://localhost:8080/",
     "height": 310
    },
    "id": "d55a5457",
    "outputId": "21166654-7fab-4ed2-bfcf-994273d2f532"
   },
   "outputs": [
    {
     "data": {
      "text/html": [
       "<div>\n",
       "<style scoped>\n",
       "    .dataframe tbody tr th:only-of-type {\n",
       "        vertical-align: middle;\n",
       "    }\n",
       "\n",
       "    .dataframe tbody tr th {\n",
       "        vertical-align: top;\n",
       "    }\n",
       "\n",
       "    .dataframe thead th {\n",
       "        text-align: right;\n",
       "    }\n",
       "</style>\n",
       "<table border=\"1\" class=\"dataframe\">\n",
       "  <thead>\n",
       "    <tr style=\"text-align: right;\">\n",
       "      <th></th>\n",
       "      <th>Case Number</th>\n",
       "      <th>Date</th>\n",
       "      <th>Block</th>\n",
       "      <th>Primary Type</th>\n",
       "      <th>Location Description</th>\n",
       "      <th>Arrest</th>\n",
       "      <th>Domestic</th>\n",
       "      <th>Beat</th>\n",
       "      <th>District</th>\n",
       "      <th>Ward</th>\n",
       "      <th>Community Area</th>\n",
       "      <th>Year</th>\n",
       "      <th>Latitude</th>\n",
       "      <th>Longitude</th>\n",
       "    </tr>\n",
       "  </thead>\n",
       "  <tbody>\n",
       "    <tr>\n",
       "      <th>0</th>\n",
       "      <td>HP485721</td>\n",
       "      <td>07/26/2008 02:30:00 PM</td>\n",
       "      <td>085XX S MUSKEGON AVE</td>\n",
       "      <td>CRIMINAL DAMAGE</td>\n",
       "      <td>STREET</td>\n",
       "      <td>False</td>\n",
       "      <td>False</td>\n",
       "      <td>423</td>\n",
       "      <td>4.0</td>\n",
       "      <td>10.0</td>\n",
       "      <td>46.0</td>\n",
       "      <td>2008</td>\n",
       "      <td>41.739980</td>\n",
       "      <td>-87.555120</td>\n",
       "    </tr>\n",
       "    <tr>\n",
       "      <th>1</th>\n",
       "      <td>JB372830</td>\n",
       "      <td>07/31/2018 10:57:00 AM</td>\n",
       "      <td>092XX S ELLIS AVE</td>\n",
       "      <td>WEAPONS VIOLATION</td>\n",
       "      <td>POOL ROOM</td>\n",
       "      <td>True</td>\n",
       "      <td>False</td>\n",
       "      <td>413</td>\n",
       "      <td>4.0</td>\n",
       "      <td>8.0</td>\n",
       "      <td>47.0</td>\n",
       "      <td>2018</td>\n",
       "      <td>41.726922</td>\n",
       "      <td>-87.599747</td>\n",
       "    </tr>\n",
       "    <tr>\n",
       "      <th>2</th>\n",
       "      <td>HN308568</td>\n",
       "      <td>04/27/2007 10:30:00 AM</td>\n",
       "      <td>062XX N TRIPP AVE</td>\n",
       "      <td>BURGLARY</td>\n",
       "      <td>RESIDENCE</td>\n",
       "      <td>True</td>\n",
       "      <td>False</td>\n",
       "      <td>1711</td>\n",
       "      <td>17.0</td>\n",
       "      <td>39.0</td>\n",
       "      <td>12.0</td>\n",
       "      <td>2007</td>\n",
       "      <td>41.994138</td>\n",
       "      <td>-87.734959</td>\n",
       "    </tr>\n",
       "    <tr>\n",
       "      <th>3</th>\n",
       "      <td>JB361368</td>\n",
       "      <td>07/23/2018 08:55:00 AM</td>\n",
       "      <td>0000X N KEELER AVE</td>\n",
       "      <td>ASSAULT</td>\n",
       "      <td>NURSING HOME/RETIREMENT HOME</td>\n",
       "      <td>False</td>\n",
       "      <td>False</td>\n",
       "      <td>1115</td>\n",
       "      <td>11.0</td>\n",
       "      <td>28.0</td>\n",
       "      <td>26.0</td>\n",
       "      <td>2018</td>\n",
       "      <td>41.881217</td>\n",
       "      <td>-87.730590</td>\n",
       "    </tr>\n",
       "    <tr>\n",
       "      <th>4</th>\n",
       "      <td>JE297624</td>\n",
       "      <td>07/11/2021 06:40:00 AM</td>\n",
       "      <td>016XX W HARRISON ST</td>\n",
       "      <td>ASSAULT</td>\n",
       "      <td>PARKING LOT / GARAGE (NON RESIDENTIAL)</td>\n",
       "      <td>False</td>\n",
       "      <td>False</td>\n",
       "      <td>1231</td>\n",
       "      <td>12.0</td>\n",
       "      <td>27.0</td>\n",
       "      <td>28.0</td>\n",
       "      <td>2021</td>\n",
       "      <td>41.874174</td>\n",
       "      <td>-87.668082</td>\n",
       "    </tr>\n",
       "  </tbody>\n",
       "</table>\n",
       "</div>"
      ],
      "text/plain": [
       "  Case Number                    Date                 Block  \\\n",
       "0    HP485721  07/26/2008 02:30:00 PM  085XX S MUSKEGON AVE   \n",
       "1    JB372830  07/31/2018 10:57:00 AM     092XX S ELLIS AVE   \n",
       "2    HN308568  04/27/2007 10:30:00 AM     062XX N TRIPP AVE   \n",
       "3    JB361368  07/23/2018 08:55:00 AM    0000X N KEELER AVE   \n",
       "4    JE297624  07/11/2021 06:40:00 AM   016XX W HARRISON ST   \n",
       "\n",
       "        Primary Type                    Location Description  Arrest  \\\n",
       "0    CRIMINAL DAMAGE                                  STREET   False   \n",
       "1  WEAPONS VIOLATION                               POOL ROOM    True   \n",
       "2           BURGLARY                               RESIDENCE    True   \n",
       "3            ASSAULT            NURSING HOME/RETIREMENT HOME   False   \n",
       "4            ASSAULT  PARKING LOT / GARAGE (NON RESIDENTIAL)   False   \n",
       "\n",
       "   Domestic  Beat  District  Ward  Community Area  Year   Latitude  Longitude  \n",
       "0     False   423       4.0  10.0            46.0  2008  41.739980 -87.555120  \n",
       "1     False   413       4.0   8.0            47.0  2018  41.726922 -87.599747  \n",
       "2     False  1711      17.0  39.0            12.0  2007  41.994138 -87.734959  \n",
       "3     False  1115      11.0  28.0            26.0  2018  41.881217 -87.730590  \n",
       "4     False  1231      12.0  27.0            28.0  2021  41.874174 -87.668082  "
      ]
     },
     "execution_count": 16,
     "metadata": {},
     "output_type": "execute_result"
    }
   ],
   "source": [
    "chicago_crime_df.head()"
   ]
  },
  {
   "cell_type": "code",
   "execution_count": 17,
   "id": "835b87a8",
   "metadata": {
    "ExecuteTime": {
     "end_time": "2024-03-26T13:53:38.669916Z",
     "start_time": "2024-03-26T13:53:38.564382Z"
    },
    "colab": {
     "base_uri": "https://localhost:8080/"
    },
    "id": "835b87a8",
    "outputId": "49062f2e-6b43-4cd7-fbb2-bdc79fde253d"
   },
   "outputs": [
    {
     "name": "stdout",
     "output_type": "stream",
     "text": [
      "<class 'pandas.core.frame.DataFrame'>\n",
      "RangeIndex: 2278726 entries, 0 to 2278725\n",
      "Data columns (total 14 columns):\n",
      " #   Column                Dtype  \n",
      "---  ------                -----  \n",
      " 0   Case Number           object \n",
      " 1   Date                  object \n",
      " 2   Block                 object \n",
      " 3   Primary Type          object \n",
      " 4   Location Description  object \n",
      " 5   Arrest                bool   \n",
      " 6   Domestic              bool   \n",
      " 7   Beat                  int64  \n",
      " 8   District              float64\n",
      " 9   Ward                  float64\n",
      " 10  Community Area        float64\n",
      " 11  Year                  int64  \n",
      " 12  Latitude              float64\n",
      " 13  Longitude             float64\n",
      "dtypes: bool(2), float64(5), int64(2), object(5)\n",
      "memory usage: 213.0+ MB\n"
     ]
    }
   ],
   "source": [
    "chicago_crime_df.info()"
   ]
  },
  {
   "cell_type": "code",
   "execution_count": 18,
   "id": "150b2940",
   "metadata": {
    "ExecuteTime": {
     "end_time": "2024-03-26T13:53:45.626361Z",
     "start_time": "2024-03-26T13:53:38.691769Z"
    },
    "colab": {
     "base_uri": "https://localhost:8080/",
     "height": 484
    },
    "id": "150b2940",
    "outputId": "f99d931e-d5a4-4210-8f19-90f597cf2e48"
   },
   "outputs": [
    {
     "data": {
      "text/html": [
       "<div>\n",
       "<style scoped>\n",
       "    .dataframe tbody tr th:only-of-type {\n",
       "        vertical-align: middle;\n",
       "    }\n",
       "\n",
       "    .dataframe tbody tr th {\n",
       "        vertical-align: top;\n",
       "    }\n",
       "\n",
       "    .dataframe thead th {\n",
       "        text-align: right;\n",
       "    }\n",
       "</style>\n",
       "<table border=\"1\" class=\"dataframe\">\n",
       "  <thead>\n",
       "    <tr style=\"text-align: right;\">\n",
       "      <th></th>\n",
       "      <th>Case Number</th>\n",
       "      <th>Date</th>\n",
       "      <th>Block</th>\n",
       "      <th>Primary Type</th>\n",
       "      <th>Location Description</th>\n",
       "      <th>Arrest</th>\n",
       "      <th>Domestic</th>\n",
       "      <th>Beat</th>\n",
       "      <th>District</th>\n",
       "      <th>Ward</th>\n",
       "      <th>Community Area</th>\n",
       "      <th>Year</th>\n",
       "      <th>Latitude</th>\n",
       "      <th>Longitude</th>\n",
       "    </tr>\n",
       "  </thead>\n",
       "  <tbody>\n",
       "    <tr>\n",
       "      <th>count</th>\n",
       "      <td>2278725</td>\n",
       "      <td>2278726</td>\n",
       "      <td>2278726</td>\n",
       "      <td>2278726</td>\n",
       "      <td>2275849</td>\n",
       "      <td>2278726</td>\n",
       "      <td>2278726</td>\n",
       "      <td>2.278726e+06</td>\n",
       "      <td>2.278714e+06</td>\n",
       "      <td>2.094031e+06</td>\n",
       "      <td>2.094459e+06</td>\n",
       "      <td>2.278726e+06</td>\n",
       "      <td>2.254741e+06</td>\n",
       "      <td>2.254741e+06</td>\n",
       "    </tr>\n",
       "    <tr>\n",
       "      <th>unique</th>\n",
       "      <td>2278678</td>\n",
       "      <td>1343546</td>\n",
       "      <td>54347</td>\n",
       "      <td>35</td>\n",
       "      <td>198</td>\n",
       "      <td>2</td>\n",
       "      <td>2</td>\n",
       "      <td>NaN</td>\n",
       "      <td>NaN</td>\n",
       "      <td>NaN</td>\n",
       "      <td>NaN</td>\n",
       "      <td>NaN</td>\n",
       "      <td>NaN</td>\n",
       "      <td>NaN</td>\n",
       "    </tr>\n",
       "    <tr>\n",
       "      <th>top</th>\n",
       "      <td>HK172551</td>\n",
       "      <td>01/01/2008 12:01:00 AM</td>\n",
       "      <td>100XX W OHARE ST</td>\n",
       "      <td>THEFT</td>\n",
       "      <td>STREET</td>\n",
       "      <td>False</td>\n",
       "      <td>False</td>\n",
       "      <td>NaN</td>\n",
       "      <td>NaN</td>\n",
       "      <td>NaN</td>\n",
       "      <td>NaN</td>\n",
       "      <td>NaN</td>\n",
       "      <td>NaN</td>\n",
       "      <td>NaN</td>\n",
       "    </tr>\n",
       "    <tr>\n",
       "      <th>freq</th>\n",
       "      <td>3</td>\n",
       "      <td>81</td>\n",
       "      <td>4878</td>\n",
       "      <td>479375</td>\n",
       "      <td>590957</td>\n",
       "      <td>1675252</td>\n",
       "      <td>1965311</td>\n",
       "      <td>NaN</td>\n",
       "      <td>NaN</td>\n",
       "      <td>NaN</td>\n",
       "      <td>NaN</td>\n",
       "      <td>NaN</td>\n",
       "      <td>NaN</td>\n",
       "      <td>NaN</td>\n",
       "    </tr>\n",
       "    <tr>\n",
       "      <th>mean</th>\n",
       "      <td>NaN</td>\n",
       "      <td>NaN</td>\n",
       "      <td>NaN</td>\n",
       "      <td>NaN</td>\n",
       "      <td>NaN</td>\n",
       "      <td>NaN</td>\n",
       "      <td>NaN</td>\n",
       "      <td>1.186442e+03</td>\n",
       "      <td>1.129072e+01</td>\n",
       "      <td>2.272764e+01</td>\n",
       "      <td>3.752140e+01</td>\n",
       "      <td>2.009638e+03</td>\n",
       "      <td>4.184209e+01</td>\n",
       "      <td>-8.767161e+01</td>\n",
       "    </tr>\n",
       "    <tr>\n",
       "      <th>std</th>\n",
       "      <td>NaN</td>\n",
       "      <td>NaN</td>\n",
       "      <td>NaN</td>\n",
       "      <td>NaN</td>\n",
       "      <td>NaN</td>\n",
       "      <td>NaN</td>\n",
       "      <td>NaN</td>\n",
       "      <td>7.026836e+02</td>\n",
       "      <td>6.946692e+00</td>\n",
       "      <td>1.383464e+01</td>\n",
       "      <td>2.153282e+01</td>\n",
       "      <td>6.019724e+00</td>\n",
       "      <td>8.830434e-02</td>\n",
       "      <td>6.073538e-02</td>\n",
       "    </tr>\n",
       "    <tr>\n",
       "      <th>min</th>\n",
       "      <td>NaN</td>\n",
       "      <td>NaN</td>\n",
       "      <td>NaN</td>\n",
       "      <td>NaN</td>\n",
       "      <td>NaN</td>\n",
       "      <td>NaN</td>\n",
       "      <td>NaN</td>\n",
       "      <td>1.110000e+02</td>\n",
       "      <td>1.000000e+00</td>\n",
       "      <td>1.000000e+00</td>\n",
       "      <td>0.000000e+00</td>\n",
       "      <td>2.001000e+03</td>\n",
       "      <td>3.661945e+01</td>\n",
       "      <td>-9.168657e+01</td>\n",
       "    </tr>\n",
       "    <tr>\n",
       "      <th>25%</th>\n",
       "      <td>NaN</td>\n",
       "      <td>NaN</td>\n",
       "      <td>NaN</td>\n",
       "      <td>NaN</td>\n",
       "      <td>NaN</td>\n",
       "      <td>NaN</td>\n",
       "      <td>NaN</td>\n",
       "      <td>6.210000e+02</td>\n",
       "      <td>6.000000e+00</td>\n",
       "      <td>1.000000e+01</td>\n",
       "      <td>2.300000e+01</td>\n",
       "      <td>2.004000e+03</td>\n",
       "      <td>4.176866e+01</td>\n",
       "      <td>-8.771379e+01</td>\n",
       "    </tr>\n",
       "    <tr>\n",
       "      <th>50%</th>\n",
       "      <td>NaN</td>\n",
       "      <td>NaN</td>\n",
       "      <td>NaN</td>\n",
       "      <td>NaN</td>\n",
       "      <td>NaN</td>\n",
       "      <td>NaN</td>\n",
       "      <td>NaN</td>\n",
       "      <td>1.034000e+03</td>\n",
       "      <td>1.000000e+01</td>\n",
       "      <td>2.300000e+01</td>\n",
       "      <td>3.200000e+01</td>\n",
       "      <td>2.009000e+03</td>\n",
       "      <td>4.185578e+01</td>\n",
       "      <td>-8.766597e+01</td>\n",
       "    </tr>\n",
       "    <tr>\n",
       "      <th>75%</th>\n",
       "      <td>NaN</td>\n",
       "      <td>NaN</td>\n",
       "      <td>NaN</td>\n",
       "      <td>NaN</td>\n",
       "      <td>NaN</td>\n",
       "      <td>NaN</td>\n",
       "      <td>NaN</td>\n",
       "      <td>1.731000e+03</td>\n",
       "      <td>1.700000e+01</td>\n",
       "      <td>3.400000e+01</td>\n",
       "      <td>5.700000e+01</td>\n",
       "      <td>2.014000e+03</td>\n",
       "      <td>4.190668e+01</td>\n",
       "      <td>-8.762823e+01</td>\n",
       "    </tr>\n",
       "    <tr>\n",
       "      <th>max</th>\n",
       "      <td>NaN</td>\n",
       "      <td>NaN</td>\n",
       "      <td>NaN</td>\n",
       "      <td>NaN</td>\n",
       "      <td>NaN</td>\n",
       "      <td>NaN</td>\n",
       "      <td>NaN</td>\n",
       "      <td>2.535000e+03</td>\n",
       "      <td>3.100000e+01</td>\n",
       "      <td>5.000000e+01</td>\n",
       "      <td>7.700000e+01</td>\n",
       "      <td>2.022000e+03</td>\n",
       "      <td>4.202291e+01</td>\n",
       "      <td>-8.752453e+01</td>\n",
       "    </tr>\n",
       "  </tbody>\n",
       "</table>\n",
       "</div>"
      ],
      "text/plain": [
       "       Case Number                    Date             Block Primary Type  \\\n",
       "count      2278725                 2278726           2278726      2278726   \n",
       "unique     2278678                 1343546             54347           35   \n",
       "top       HK172551  01/01/2008 12:01:00 AM  100XX W OHARE ST        THEFT   \n",
       "freq             3                      81              4878       479375   \n",
       "mean           NaN                     NaN               NaN          NaN   \n",
       "std            NaN                     NaN               NaN          NaN   \n",
       "min            NaN                     NaN               NaN          NaN   \n",
       "25%            NaN                     NaN               NaN          NaN   \n",
       "50%            NaN                     NaN               NaN          NaN   \n",
       "75%            NaN                     NaN               NaN          NaN   \n",
       "max            NaN                     NaN               NaN          NaN   \n",
       "\n",
       "       Location Description   Arrest Domestic          Beat      District  \\\n",
       "count               2275849  2278726  2278726  2.278726e+06  2.278714e+06   \n",
       "unique                  198        2        2           NaN           NaN   \n",
       "top                  STREET    False    False           NaN           NaN   \n",
       "freq                 590957  1675252  1965311           NaN           NaN   \n",
       "mean                    NaN      NaN      NaN  1.186442e+03  1.129072e+01   \n",
       "std                     NaN      NaN      NaN  7.026836e+02  6.946692e+00   \n",
       "min                     NaN      NaN      NaN  1.110000e+02  1.000000e+00   \n",
       "25%                     NaN      NaN      NaN  6.210000e+02  6.000000e+00   \n",
       "50%                     NaN      NaN      NaN  1.034000e+03  1.000000e+01   \n",
       "75%                     NaN      NaN      NaN  1.731000e+03  1.700000e+01   \n",
       "max                     NaN      NaN      NaN  2.535000e+03  3.100000e+01   \n",
       "\n",
       "                Ward  Community Area          Year      Latitude     Longitude  \n",
       "count   2.094031e+06    2.094459e+06  2.278726e+06  2.254741e+06  2.254741e+06  \n",
       "unique           NaN             NaN           NaN           NaN           NaN  \n",
       "top              NaN             NaN           NaN           NaN           NaN  \n",
       "freq             NaN             NaN           NaN           NaN           NaN  \n",
       "mean    2.272764e+01    3.752140e+01  2.009638e+03  4.184209e+01 -8.767161e+01  \n",
       "std     1.383464e+01    2.153282e+01  6.019724e+00  8.830434e-02  6.073538e-02  \n",
       "min     1.000000e+00    0.000000e+00  2.001000e+03  3.661945e+01 -9.168657e+01  \n",
       "25%     1.000000e+01    2.300000e+01  2.004000e+03  4.176866e+01 -8.771379e+01  \n",
       "50%     2.300000e+01    3.200000e+01  2.009000e+03  4.185578e+01 -8.766597e+01  \n",
       "75%     3.400000e+01    5.700000e+01  2.014000e+03  4.190668e+01 -8.762823e+01  \n",
       "max     5.000000e+01    7.700000e+01  2.022000e+03  4.202291e+01 -8.752453e+01  "
      ]
     },
     "execution_count": 18,
     "metadata": {},
     "output_type": "execute_result"
    }
   ],
   "source": [
    "# A summary statistics of each column\n",
    "chicago_crime_df.describe(include='all')"
   ]
  },
  {
   "cell_type": "code",
   "execution_count": 19,
   "id": "6f9daf5e",
   "metadata": {
    "ExecuteTime": {
     "end_time": "2024-03-26T13:53:45.680014Z",
     "start_time": "2024-03-26T13:53:45.652122Z"
    },
    "colab": {
     "base_uri": "https://localhost:8080/"
    },
    "id": "6f9daf5e",
    "outputId": "09bc666c-b93e-41d1-b368-4c77863b47f1"
   },
   "outputs": [
    {
     "name": "stdout",
     "output_type": "stream",
     "text": [
      "<class 'pandas.core.frame.DataFrame'>\n",
      "RangeIndex: 2278726 entries, 0 to 2278725\n",
      "Data columns (total 14 columns):\n",
      " #   Column                Dtype  \n",
      "---  ------                -----  \n",
      " 0   Case Number           object \n",
      " 1   Date                  object \n",
      " 2   Block                 object \n",
      " 3   Primary Type          object \n",
      " 4   Location Description  object \n",
      " 5   Arrest                bool   \n",
      " 6   Domestic              bool   \n",
      " 7   Beat                  int64  \n",
      " 8   District              float64\n",
      " 9   Ward                  float64\n",
      " 10  Community Area        float64\n",
      " 11  Year                  int64  \n",
      " 12  Latitude              float64\n",
      " 13  Longitude             float64\n",
      "dtypes: bool(2), float64(5), int64(2), object(5)\n",
      "memory usage: 213.0+ MB\n"
     ]
    }
   ],
   "source": [
    "chicago_crime_df.info()"
   ]
  },
  {
   "cell_type": "markdown",
   "id": "05ebe46f",
   "metadata": {
    "id": "05ebe46f"
   },
   "source": [
    "__3. Handling missing values__"
   ]
  },
  {
   "cell_type": "code",
   "execution_count": 20,
   "id": "00593837",
   "metadata": {
    "ExecuteTime": {
     "end_time": "2024-03-26T13:53:46.422172Z",
     "start_time": "2024-03-26T13:53:45.702007Z"
    },
    "colab": {
     "base_uri": "https://localhost:8080/"
    },
    "id": "00593837",
    "outputId": "7b657445-cfc4-4a32-cd7c-3de5ce6f3efb"
   },
   "outputs": [
    {
     "data": {
      "text/plain": [
       "Case Number                  1\n",
       "Date                         0\n",
       "Block                        0\n",
       "Primary Type                 0\n",
       "Location Description      2877\n",
       "Arrest                       0\n",
       "Domestic                     0\n",
       "Beat                         0\n",
       "District                    12\n",
       "Ward                    184695\n",
       "Community Area          184267\n",
       "Year                         0\n",
       "Latitude                 23985\n",
       "Longitude                23985\n",
       "dtype: int64"
      ]
     },
     "execution_count": 20,
     "metadata": {},
     "output_type": "execute_result"
    }
   ],
   "source": [
    "# checking missing value count\n",
    "chicago_crime_df.isnull().sum()"
   ]
  },
  {
   "cell_type": "code",
   "execution_count": 21,
   "id": "a291bd23",
   "metadata": {
    "ExecuteTime": {
     "end_time": "2024-03-26T13:53:46.457147Z",
     "start_time": "2024-03-26T13:53:46.439619Z"
    },
    "id": "a291bd23"
   },
   "outputs": [],
   "source": [
    "# # Missing Values\n",
    "\n",
    "# Function to calculate missing values by column\n",
    "def missing_values_table(df):\n",
    "        # Total missing values\n",
    "        mis_val = df.isnull().sum()\n",
    "\n",
    "        # Percentage of missing values\n",
    "        mis_val_percent = 100 * df.isnull().sum() / len(df)\n",
    "\n",
    "        # Make a table with the results\n",
    "        mis_val_table = pd.concat([mis_val, mis_val_percent], axis=1)\n",
    "\n",
    "        # Rename the columns\n",
    "        mis_val_table_ren_columns = mis_val_table.rename(\n",
    "        columns = {0 : 'Missing Values', 1 : '% of Total Values'})\n",
    "\n",
    "        # Sort the table by percentage of missing descending\n",
    "        mis_val_table_ren_columns = mis_val_table_ren_columns[\n",
    "            mis_val_table_ren_columns.iloc[:,1] != 0].sort_values(\n",
    "        '% of Total Values', ascending=False).round(1)\n",
    "\n",
    "        # Print some summary information\n",
    "        print (\"Your selected dataframe has \" + str(df.shape[1]) + \" columns.\\n\"\n",
    "            \"There are \" + str(mis_val_table_ren_columns.shape[0]) +\n",
    "              \" columns that have missing values.\")\n",
    "\n",
    "        # Return the dataframe with missing information\n",
    "        return mis_val_table_ren_columns"
   ]
  },
  {
   "cell_type": "code",
   "execution_count": 22,
   "id": "b5f9dc16",
   "metadata": {
    "ExecuteTime": {
     "end_time": "2024-03-26T13:54:06.329176Z",
     "start_time": "2024-03-26T13:54:04.750456Z"
    },
    "colab": {
     "base_uri": "https://localhost:8080/",
     "height": 272
    },
    "id": "b5f9dc16",
    "outputId": "9c6e0693-1e77-4249-e7d0-3f07f66979e4"
   },
   "outputs": [
    {
     "name": "stdout",
     "output_type": "stream",
     "text": [
      "Your selected dataframe has 14 columns.\n",
      "There are 7 columns that have missing values.\n"
     ]
    },
    {
     "data": {
      "text/html": [
       "<div>\n",
       "<style scoped>\n",
       "    .dataframe tbody tr th:only-of-type {\n",
       "        vertical-align: middle;\n",
       "    }\n",
       "\n",
       "    .dataframe tbody tr th {\n",
       "        vertical-align: top;\n",
       "    }\n",
       "\n",
       "    .dataframe thead th {\n",
       "        text-align: right;\n",
       "    }\n",
       "</style>\n",
       "<table border=\"1\" class=\"dataframe\">\n",
       "  <thead>\n",
       "    <tr style=\"text-align: right;\">\n",
       "      <th></th>\n",
       "      <th>Missing Values</th>\n",
       "      <th>% of Total Values</th>\n",
       "    </tr>\n",
       "  </thead>\n",
       "  <tbody>\n",
       "    <tr>\n",
       "      <th>Ward</th>\n",
       "      <td>184695</td>\n",
       "      <td>8.1</td>\n",
       "    </tr>\n",
       "    <tr>\n",
       "      <th>Community Area</th>\n",
       "      <td>184267</td>\n",
       "      <td>8.1</td>\n",
       "    </tr>\n",
       "    <tr>\n",
       "      <th>Latitude</th>\n",
       "      <td>23985</td>\n",
       "      <td>1.1</td>\n",
       "    </tr>\n",
       "    <tr>\n",
       "      <th>Longitude</th>\n",
       "      <td>23985</td>\n",
       "      <td>1.1</td>\n",
       "    </tr>\n",
       "    <tr>\n",
       "      <th>Location Description</th>\n",
       "      <td>2877</td>\n",
       "      <td>0.1</td>\n",
       "    </tr>\n",
       "    <tr>\n",
       "      <th>District</th>\n",
       "      <td>12</td>\n",
       "      <td>0.0</td>\n",
       "    </tr>\n",
       "    <tr>\n",
       "      <th>Case Number</th>\n",
       "      <td>1</td>\n",
       "      <td>0.0</td>\n",
       "    </tr>\n",
       "  </tbody>\n",
       "</table>\n",
       "</div>"
      ],
      "text/plain": [
       "                      Missing Values  % of Total Values\n",
       "Ward                          184695                8.1\n",
       "Community Area                184267                8.1\n",
       "Latitude                       23985                1.1\n",
       "Longitude                      23985                1.1\n",
       "Location Description            2877                0.1\n",
       "District                          12                0.0\n",
       "Case Number                        1                0.0"
      ]
     },
     "execution_count": 22,
     "metadata": {},
     "output_type": "execute_result"
    }
   ],
   "source": [
    "missing_values_table(chicago_crime_df)"
   ]
  },
  {
   "cell_type": "markdown",
   "id": "11015191",
   "metadata": {
    "id": "11015191"
   },
   "source": [
    "- __Handling Missing Case Number__\n",
    "\n",
    "We have one (1) missing Case Number in the entire dataset. We have decided to drop the row where Case Number is missing"
   ]
  },
  {
   "cell_type": "code",
   "execution_count": 23,
   "id": "da982279",
   "metadata": {
    "ExecuteTime": {
     "end_time": "2024-03-26T13:54:07.104893Z",
     "start_time": "2024-03-26T13:54:06.352754Z"
    },
    "id": "da982279"
   },
   "outputs": [],
   "source": [
    "# dropping the missing Case Number column null value\n",
    "chicago_crime_df.dropna(subset=['Case Number'],inplace=True) # i chose to drop this because the percentage NA is insignificant"
   ]
  },
  {
   "cell_type": "code",
   "execution_count": 24,
   "id": "6c06c4b3",
   "metadata": {
    "ExecuteTime": {
     "end_time": "2024-03-26T13:54:08.053366Z",
     "start_time": "2024-03-26T13:54:07.130164Z"
    },
    "colab": {
     "base_uri": "https://localhost:8080/"
    },
    "id": "6c06c4b3",
    "outputId": "def4cd24-b904-4b24-920d-3fbba0d364ae"
   },
   "outputs": [
    {
     "data": {
      "text/plain": [
       "Case Number                  0\n",
       "Date                         0\n",
       "Block                        0\n",
       "Primary Type                 0\n",
       "Location Description      2877\n",
       "Arrest                       0\n",
       "Domestic                     0\n",
       "Beat                         0\n",
       "District                    12\n",
       "Ward                    184695\n",
       "Community Area          184267\n",
       "Year                         0\n",
       "Latitude                 23984\n",
       "Longitude                23984\n",
       "dtype: int64"
      ]
     },
     "execution_count": 24,
     "metadata": {},
     "output_type": "execute_result"
    }
   ],
   "source": [
    "chicago_crime_df.isna().sum()"
   ]
  },
  {
   "cell_type": "markdown",
   "id": "302c88b3",
   "metadata": {
    "id": "302c88b3"
   },
   "source": [
    "- __Handling Missing values for the District Column__\n",
    "\n",
    "We have just 12 missing value for the district column which is 0.0% of the entire dataset. We have decided to drop the row where location discription is missing."
   ]
  },
  {
   "cell_type": "code",
   "execution_count": 25,
   "id": "7817faaf",
   "metadata": {
    "ExecuteTime": {
     "end_time": "2024-03-26T13:54:08.842890Z",
     "start_time": "2024-03-26T13:54:08.084192Z"
    },
    "id": "7817faaf"
   },
   "outputs": [],
   "source": [
    "# dropping the missing district column null value\n",
    "chicago_crime_df.dropna(subset=['District'],inplace=True) # i chose to drop this because the percentage NA is insignificant"
   ]
  },
  {
   "cell_type": "code",
   "execution_count": 26,
   "id": "645500d3",
   "metadata": {
    "ExecuteTime": {
     "end_time": "2024-03-26T13:54:08.976525Z",
     "start_time": "2024-03-26T13:54:08.870903Z"
    },
    "colab": {
     "base_uri": "https://localhost:8080/"
    },
    "id": "645500d3",
    "outputId": "43882059-9e5f-431e-d94c-4e930855183d",
    "scrolled": true
   },
   "outputs": [
    {
     "data": {
      "text/plain": [
       "array([ 4., 17., 11., 12.,  2., 15., 25., 14.,  8.,  6., 19.,  1.,  7.,\n",
       "       20., 18.,  3.,  9., 22.,  5., 16., 10., 24., 31.])"
      ]
     },
     "execution_count": 26,
     "metadata": {},
     "output_type": "execute_result"
    }
   ],
   "source": [
    "chicago_crime_df.District.unique()"
   ]
  },
  {
   "cell_type": "code",
   "execution_count": 27,
   "id": "5d73551f",
   "metadata": {
    "ExecuteTime": {
     "end_time": "2024-03-26T13:54:10.005750Z",
     "start_time": "2024-03-26T13:54:08.997110Z"
    },
    "colab": {
     "base_uri": "https://localhost:8080/"
    },
    "id": "5d73551f",
    "outputId": "e493a29f-6305-45e0-cf26-85c725a905ca"
   },
   "outputs": [
    {
     "data": {
      "text/plain": [
       "Case Number                  0\n",
       "Date                         0\n",
       "Block                        0\n",
       "Primary Type                 0\n",
       "Location Description      2877\n",
       "Arrest                       0\n",
       "Domestic                     0\n",
       "Beat                         0\n",
       "District                     0\n",
       "Ward                    184695\n",
       "Community Area          184267\n",
       "Year                         0\n",
       "Latitude                 23984\n",
       "Longitude                23984\n",
       "dtype: int64"
      ]
     },
     "execution_count": 27,
     "metadata": {},
     "output_type": "execute_result"
    }
   ],
   "source": [
    "chicago_crime_df.isna().sum()"
   ]
  },
  {
   "cell_type": "markdown",
   "id": "b4067f5b",
   "metadata": {
    "id": "b4067f5b"
   },
   "source": [
    "- __Handling Missing values for the ward Column (Using data imputation)__"
   ]
  },
  {
   "cell_type": "code",
   "execution_count": 28,
   "id": "5c66517c",
   "metadata": {
    "ExecuteTime": {
     "end_time": "2024-03-26T13:54:11.693832Z",
     "start_time": "2024-03-26T13:54:10.027234Z"
    },
    "colab": {
     "base_uri": "https://localhost:8080/",
     "height": 241
    },
    "id": "5c66517c",
    "outputId": "db99b4c4-4fbd-4da3-c505-145bacc3f354"
   },
   "outputs": [
    {
     "name": "stdout",
     "output_type": "stream",
     "text": [
      "Your selected dataframe has 14 columns.\n",
      "There are 5 columns that have missing values.\n"
     ]
    },
    {
     "data": {
      "text/html": [
       "<div>\n",
       "<style scoped>\n",
       "    .dataframe tbody tr th:only-of-type {\n",
       "        vertical-align: middle;\n",
       "    }\n",
       "\n",
       "    .dataframe tbody tr th {\n",
       "        vertical-align: top;\n",
       "    }\n",
       "\n",
       "    .dataframe thead th {\n",
       "        text-align: right;\n",
       "    }\n",
       "</style>\n",
       "<table border=\"1\" class=\"dataframe\">\n",
       "  <thead>\n",
       "    <tr style=\"text-align: right;\">\n",
       "      <th></th>\n",
       "      <th>Missing Values</th>\n",
       "      <th>% of Total Values</th>\n",
       "    </tr>\n",
       "  </thead>\n",
       "  <tbody>\n",
       "    <tr>\n",
       "      <th>Ward</th>\n",
       "      <td>184695</td>\n",
       "      <td>8.1</td>\n",
       "    </tr>\n",
       "    <tr>\n",
       "      <th>Community Area</th>\n",
       "      <td>184267</td>\n",
       "      <td>8.1</td>\n",
       "    </tr>\n",
       "    <tr>\n",
       "      <th>Latitude</th>\n",
       "      <td>23984</td>\n",
       "      <td>1.1</td>\n",
       "    </tr>\n",
       "    <tr>\n",
       "      <th>Longitude</th>\n",
       "      <td>23984</td>\n",
       "      <td>1.1</td>\n",
       "    </tr>\n",
       "    <tr>\n",
       "      <th>Location Description</th>\n",
       "      <td>2877</td>\n",
       "      <td>0.1</td>\n",
       "    </tr>\n",
       "  </tbody>\n",
       "</table>\n",
       "</div>"
      ],
      "text/plain": [
       "                      Missing Values  % of Total Values\n",
       "Ward                          184695                8.1\n",
       "Community Area                184267                8.1\n",
       "Latitude                       23984                1.1\n",
       "Longitude                      23984                1.1\n",
       "Location Description            2877                0.1"
      ]
     },
     "execution_count": 28,
     "metadata": {},
     "output_type": "execute_result"
    }
   ],
   "source": [
    "missing_values_table(chicago_crime_df)"
   ]
  },
  {
   "cell_type": "code",
   "execution_count": 29,
   "id": "f6fef0f0",
   "metadata": {
    "ExecuteTime": {
     "end_time": "2024-03-26T13:54:11.829011Z",
     "start_time": "2024-03-26T13:54:11.726125Z"
    },
    "colab": {
     "base_uri": "https://localhost:8080/"
    },
    "id": "f6fef0f0",
    "outputId": "4168789a-581e-40ab-aecf-cc33e83b7354"
   },
   "outputs": [
    {
     "data": {
      "text/plain": [
       "array([10.,  8., 39., 28., 27., nan, 29., 37., 26., 35., 14.,  1., 17.,\n",
       "        3., 44., 36.,  4.,  2.,  6.,  7., 40., 42., 20., 13., 11., 34.,\n",
       "       47., 33.,  9., 21., 45., 25., 24., 15., 16., 19., 43., 30., 23.,\n",
       "       32., 31., 22., 50., 49.,  5., 46., 12., 41., 38., 18., 48.])"
      ]
     },
     "execution_count": 29,
     "metadata": {},
     "output_type": "execute_result"
    }
   ],
   "source": [
    "# checking the unique values of the ward column\n",
    "chicago_crime_df.Ward.unique()"
   ]
  },
  {
   "cell_type": "code",
   "execution_count": 30,
   "id": "a3533e7c",
   "metadata": {
    "ExecuteTime": {
     "end_time": "2024-03-26T13:54:11.886473Z",
     "start_time": "2024-03-26T13:54:11.843384Z"
    },
    "colab": {
     "base_uri": "https://localhost:8080/"
    },
    "id": "a3533e7c",
    "outputId": "4817b5f3-8d56-4a48-a16d-eaa10d96f2d2",
    "scrolled": true
   },
   "outputs": [
    {
     "data": {
      "text/plain": [
       "0          10.0\n",
       "1           8.0\n",
       "2          39.0\n",
       "3          28.0\n",
       "4          27.0\n",
       "           ... \n",
       "2278721    42.0\n",
       "2278722     NaN\n",
       "2278723     4.0\n",
       "2278724    42.0\n",
       "2278725     1.0\n",
       "Name: Ward, Length: 2278713, dtype: float64"
      ]
     },
     "execution_count": 30,
     "metadata": {},
     "output_type": "execute_result"
    }
   ],
   "source": [
    "chicago_crime_df.Ward"
   ]
  },
  {
   "cell_type": "code",
   "execution_count": 31,
   "id": "d44220f9",
   "metadata": {
    "ExecuteTime": {
     "end_time": "2024-03-26T13:54:12.123150Z",
     "start_time": "2024-03-26T13:54:11.902610Z"
    },
    "id": "d44220f9"
   },
   "outputs": [],
   "source": [
    "# Using ffill(forward fill) to fill missing value in the ward column\n",
    "chicago_crime_df.Ward = chicago_crime_df.Ward.ffill() # Last observed value is carried forward"
   ]
  },
  {
   "cell_type": "code",
   "execution_count": 32,
   "id": "250ffe9f",
   "metadata": {
    "ExecuteTime": {
     "end_time": "2024-03-26T13:54:12.948060Z",
     "start_time": "2024-03-26T13:54:12.159687Z"
    },
    "colab": {
     "base_uri": "https://localhost:8080/"
    },
    "id": "250ffe9f",
    "outputId": "2a7d9155-9220-4570-caeb-880286636332"
   },
   "outputs": [
    {
     "data": {
      "text/plain": [
       "Case Number                  0\n",
       "Date                         0\n",
       "Block                        0\n",
       "Primary Type                 0\n",
       "Location Description      2877\n",
       "Arrest                       0\n",
       "Domestic                     0\n",
       "Beat                         0\n",
       "District                     0\n",
       "Ward                         0\n",
       "Community Area          184267\n",
       "Year                         0\n",
       "Latitude                 23984\n",
       "Longitude                23984\n",
       "dtype: int64"
      ]
     },
     "execution_count": 32,
     "metadata": {},
     "output_type": "execute_result"
    }
   ],
   "source": [
    "chicago_crime_df.isna().sum()"
   ]
  },
  {
   "cell_type": "markdown",
   "id": "1664aae1-a5e5-4c7f-a7db-c4a02e7a6ce7",
   "metadata": {
    "id": "1664aae1-a5e5-4c7f-a7db-c4a02e7a6ce7"
   },
   "source": [
    "- __Handling Missing values for the Community Area Column (Using data imputation)__"
   ]
  },
  {
   "cell_type": "code",
   "execution_count": 33,
   "id": "009c30e1-b947-4103-81c1-033c9b999710",
   "metadata": {
    "ExecuteTime": {
     "end_time": "2024-03-26T13:54:14.148659Z",
     "start_time": "2024-03-26T13:54:12.965896Z"
    },
    "colab": {
     "base_uri": "https://localhost:8080/",
     "height": 210
    },
    "id": "009c30e1-b947-4103-81c1-033c9b999710",
    "outputId": "ddfad715-bc20-4bf8-f050-664f383a5715"
   },
   "outputs": [
    {
     "name": "stdout",
     "output_type": "stream",
     "text": [
      "Your selected dataframe has 14 columns.\n",
      "There are 4 columns that have missing values.\n"
     ]
    },
    {
     "data": {
      "text/html": [
       "<div>\n",
       "<style scoped>\n",
       "    .dataframe tbody tr th:only-of-type {\n",
       "        vertical-align: middle;\n",
       "    }\n",
       "\n",
       "    .dataframe tbody tr th {\n",
       "        vertical-align: top;\n",
       "    }\n",
       "\n",
       "    .dataframe thead th {\n",
       "        text-align: right;\n",
       "    }\n",
       "</style>\n",
       "<table border=\"1\" class=\"dataframe\">\n",
       "  <thead>\n",
       "    <tr style=\"text-align: right;\">\n",
       "      <th></th>\n",
       "      <th>Missing Values</th>\n",
       "      <th>% of Total Values</th>\n",
       "    </tr>\n",
       "  </thead>\n",
       "  <tbody>\n",
       "    <tr>\n",
       "      <th>Community Area</th>\n",
       "      <td>184267</td>\n",
       "      <td>8.1</td>\n",
       "    </tr>\n",
       "    <tr>\n",
       "      <th>Latitude</th>\n",
       "      <td>23984</td>\n",
       "      <td>1.1</td>\n",
       "    </tr>\n",
       "    <tr>\n",
       "      <th>Longitude</th>\n",
       "      <td>23984</td>\n",
       "      <td>1.1</td>\n",
       "    </tr>\n",
       "    <tr>\n",
       "      <th>Location Description</th>\n",
       "      <td>2877</td>\n",
       "      <td>0.1</td>\n",
       "    </tr>\n",
       "  </tbody>\n",
       "</table>\n",
       "</div>"
      ],
      "text/plain": [
       "                      Missing Values  % of Total Values\n",
       "Community Area                184267                8.1\n",
       "Latitude                       23984                1.1\n",
       "Longitude                      23984                1.1\n",
       "Location Description            2877                0.1"
      ]
     },
     "execution_count": 33,
     "metadata": {},
     "output_type": "execute_result"
    }
   ],
   "source": [
    "missing_values_table(chicago_crime_df)"
   ]
  },
  {
   "cell_type": "code",
   "execution_count": 34,
   "id": "a778fdee-d71a-45a3-b8f6-0069493fc11e",
   "metadata": {
    "ExecuteTime": {
     "end_time": "2024-03-26T13:54:14.254921Z",
     "start_time": "2024-03-26T13:54:14.164910Z"
    },
    "colab": {
     "base_uri": "https://localhost:8080/"
    },
    "id": "a778fdee-d71a-45a3-b8f6-0069493fc11e",
    "outputId": "b8b5df07-45e1-4a18-922a-56497e5ebd52"
   },
   "outputs": [
    {
     "data": {
      "text/plain": [
       "array([46., 47., 12., 26., 28., nan, 25., 23., 22., 27., 63., 24., 71.,\n",
       "       38.,  6., 19., 55., 36., 32., 69., 43.,  4.,  8., 42., 65., 60.,\n",
       "       14., 49., 35., 40., 21., 73., 52., 15., 18., 16., 61., 66., 44.,\n",
       "       45., 67., 74.,  2., 29., 51., 57., 17.,  7., 62., 30., 31., 13.,\n",
       "       75.,  5.,  1., 39., 53.,  3., 68., 11., 37., 41., 48., 33., 59.,\n",
       "       58., 76., 54., 10., 20., 34., 77., 64., 56., 70.,  9., 72., 50.,\n",
       "        0.])"
      ]
     },
     "execution_count": 34,
     "metadata": {},
     "output_type": "execute_result"
    }
   ],
   "source": [
    "# checking the unique values of the ward column\n",
    "chicago_crime_df['Community Area'].unique()"
   ]
  },
  {
   "cell_type": "code",
   "execution_count": 35,
   "id": "54a1d8cc-f490-4a90-a02e-ce7afc4a2f63",
   "metadata": {
    "ExecuteTime": {
     "end_time": "2024-03-26T13:54:14.366291Z",
     "start_time": "2024-03-26T13:54:14.276200Z"
    },
    "id": "54a1d8cc-f490-4a90-a02e-ce7afc4a2f63"
   },
   "outputs": [],
   "source": [
    "# Using ffill(forward fill) to fill missing value in the Community Area column\n",
    "chicago_crime_df['Community Area'] = chicago_crime_df['Community Area'].ffill() # Last observed value is carried forward"
   ]
  },
  {
   "cell_type": "code",
   "execution_count": 36,
   "id": "bf85352a-3bcb-4a38-a30f-5561f4049513",
   "metadata": {
    "ExecuteTime": {
     "end_time": "2024-03-26T13:54:15.062831Z",
     "start_time": "2024-03-26T13:54:14.366291Z"
    },
    "colab": {
     "base_uri": "https://localhost:8080/"
    },
    "id": "bf85352a-3bcb-4a38-a30f-5561f4049513",
    "outputId": "812e0774-1543-4c6d-9d77-9f10fc8d67da"
   },
   "outputs": [
    {
     "data": {
      "text/plain": [
       "Case Number                 0\n",
       "Date                        0\n",
       "Block                       0\n",
       "Primary Type                0\n",
       "Location Description     2877\n",
       "Arrest                      0\n",
       "Domestic                    0\n",
       "Beat                        0\n",
       "District                    0\n",
       "Ward                        0\n",
       "Community Area              0\n",
       "Year                        0\n",
       "Latitude                23984\n",
       "Longitude               23984\n",
       "dtype: int64"
      ]
     },
     "execution_count": 36,
     "metadata": {},
     "output_type": "execute_result"
    }
   ],
   "source": [
    "chicago_crime_df.isna().sum()"
   ]
  },
  {
   "cell_type": "markdown",
   "id": "1e1084da",
   "metadata": {
    "id": "1e1084da"
   },
   "source": [
    "- __Handling Missing values for the latitude and Longitude Column__ (Using Assosciation) <br>\n",
    "    - The assumption here is that the latitude and longitude readings are points that show exact location, are closer to eachother within a district. if they are, we can group our data by districts and fill up missing Latitide and longitude values by the median or mode."
   ]
  },
  {
   "cell_type": "code",
   "execution_count": 37,
   "id": "5e9541f2",
   "metadata": {
    "ExecuteTime": {
     "end_time": "2024-03-26T13:54:16.661004Z",
     "start_time": "2024-03-26T13:54:15.096352Z"
    },
    "colab": {
     "base_uri": "https://localhost:8080/"
    },
    "id": "5e9541f2",
    "outputId": "fb984cd6-6982-47ed-e62f-42a442b95add"
   },
   "outputs": [
    {
     "data": {
      "text/plain": [
       "District  Longitude   Latitude \n",
       "1.0       -87.776059  41.933944    1\n",
       "          -87.645624  41.881909    4\n",
       "          -87.645320  41.885582    2\n",
       "          -87.645301  41.878079    1\n",
       "          -87.645121  41.885586    1\n",
       "                                  ..\n",
       "31.0      -87.673838  41.776755    1\n",
       "          -87.631942  41.930460    1\n",
       "          -87.617227  41.646187    1\n",
       "          -87.610757  41.884107    1\n",
       "          -87.562704  41.737240    1\n",
       "Length: 548193, dtype: int64"
      ]
     },
     "execution_count": 37,
     "metadata": {},
     "output_type": "execute_result"
    }
   ],
   "source": [
    "chicago_crime_df.groupby(['District', 'Longitude', 'Latitude']).size()"
   ]
  },
  {
   "cell_type": "markdown",
   "id": "11138dc3",
   "metadata": {
    "id": "11138dc3"
   },
   "source": [
    "There appears to be closeness in longitude and Latitude points when data is grouped based on districts, we can group based on district and fill up by taking the median."
   ]
  },
  {
   "cell_type": "code",
   "execution_count": 38,
   "id": "af6a82c7",
   "metadata": {
    "ExecuteTime": {
     "end_time": "2024-03-26T13:54:17.983609Z",
     "start_time": "2024-03-26T13:54:16.686220Z"
    },
    "id": "af6a82c7"
   },
   "outputs": [],
   "source": [
    "chicago_crime_df['Latitude'] = chicago_crime_df.groupby('District')['Latitude'].transform(lambda x: x.fillna(x.median()))\n",
    "chicago_crime_df['Longitude'] = chicago_crime_df.groupby('District')['Longitude'].transform(lambda x: x.fillna(x.median()))"
   ]
  },
  {
   "cell_type": "code",
   "execution_count": 39,
   "id": "90f0c0e7",
   "metadata": {
    "ExecuteTime": {
     "end_time": "2024-03-26T13:54:18.576099Z",
     "start_time": "2024-03-26T13:54:18.008530Z"
    },
    "colab": {
     "base_uri": "https://localhost:8080/"
    },
    "id": "90f0c0e7",
    "outputId": "4f1756f3-0b13-4dc5-b4ab-0a5c7957eb1a"
   },
   "outputs": [
    {
     "data": {
      "text/plain": [
       "Case Number                0\n",
       "Date                       0\n",
       "Block                      0\n",
       "Primary Type               0\n",
       "Location Description    2877\n",
       "Arrest                     0\n",
       "Domestic                   0\n",
       "Beat                       0\n",
       "District                   0\n",
       "Ward                       0\n",
       "Community Area             0\n",
       "Year                       0\n",
       "Latitude                   0\n",
       "Longitude                  0\n",
       "dtype: int64"
      ]
     },
     "execution_count": 39,
     "metadata": {},
     "output_type": "execute_result"
    }
   ],
   "source": [
    "chicago_crime_df.isna().sum()"
   ]
  },
  {
   "cell_type": "markdown",
   "id": "2e594257",
   "metadata": {
    "id": "2e594257"
   },
   "source": [
    "- __Handling Missing values for the Location Description__"
   ]
  },
  {
   "cell_type": "markdown",
   "id": "b1f25282",
   "metadata": {
    "ExecuteTime": {
     "end_time": "2024-03-10T09:48:29.963487Z",
     "start_time": "2024-03-10T09:48:28.719078Z"
    },
    "id": "b1f25282"
   },
   "source": [
    "We have just 2877 missing value for the location description which is 0.1% of the entire dataset. We can decide to drop the row where location decription is missing or fill this row with the most crime location."
   ]
  },
  {
   "cell_type": "code",
   "execution_count": 40,
   "id": "b9b2faed",
   "metadata": {
    "ExecuteTime": {
     "end_time": "2024-03-26T13:54:19.289658Z",
     "start_time": "2024-03-26T13:54:18.592339Z"
    },
    "colab": {
     "base_uri": "https://localhost:8080/"
    },
    "id": "b9b2faed",
    "outputId": "120a28df-e813-4d54-d23a-f1359c34c661",
    "scrolled": true
   },
   "outputs": [
    {
     "data": {
      "text/plain": [
       "District  Location Description                       \n",
       "1.0       ABANDONED BUILDING                              18\n",
       "          AIRPORT BUILDING NON-TERMINAL - SECURE AREA      1\n",
       "          AIRPORT TRANSPORTATION SYSTEM (ATS)              2\n",
       "          AIRPORT/AIRCRAFT                                 4\n",
       "          ALLEY                                          529\n",
       "                                                        ... \n",
       "31.0      RESIDENTIAL YARD (FRONT/BACK)                    1\n",
       "          SIDEWALK                                         2\n",
       "          SMALL RETAIL STORE                               2\n",
       "          STREET                                          12\n",
       "          VEHICLE NON-COMMERCIAL                           2\n",
       "Length: 2915, dtype: int64"
      ]
     },
     "execution_count": 40,
     "metadata": {},
     "output_type": "execute_result"
    }
   ],
   "source": [
    "chicago_crime_df.groupby(['District','Location Description']).size()"
   ]
  },
  {
   "cell_type": "code",
   "execution_count": 41,
   "id": "24f97b68",
   "metadata": {
    "ExecuteTime": {
     "end_time": "2024-03-26T13:54:20.114379Z",
     "start_time": "2024-03-26T13:54:19.311837Z"
    },
    "id": "24f97b68"
   },
   "outputs": [],
   "source": [
    "# dropping the missing location description index row\n",
    "chicago_crime_df.dropna(subset=['Location Description'],inplace=True)"
   ]
  },
  {
   "cell_type": "code",
   "execution_count": 42,
   "id": "55fd2665",
   "metadata": {
    "ExecuteTime": {
     "end_time": "2024-03-26T13:54:20.802371Z",
     "start_time": "2024-03-26T13:54:20.149139Z"
    },
    "colab": {
     "base_uri": "https://localhost:8080/"
    },
    "id": "55fd2665",
    "outputId": "eb19ac58-419b-47f1-ad6e-ef2a5654bc53",
    "scrolled": true
   },
   "outputs": [
    {
     "data": {
      "text/plain": [
       "Case Number             0\n",
       "Date                    0\n",
       "Block                   0\n",
       "Primary Type            0\n",
       "Location Description    0\n",
       "Arrest                  0\n",
       "Domestic                0\n",
       "Beat                    0\n",
       "District                0\n",
       "Ward                    0\n",
       "Community Area          0\n",
       "Year                    0\n",
       "Latitude                0\n",
       "Longitude               0\n",
       "dtype: int64"
      ]
     },
     "execution_count": 42,
     "metadata": {},
     "output_type": "execute_result"
    }
   ],
   "source": [
    "chicago_crime_df.isna().sum()"
   ]
  },
  {
   "cell_type": "markdown",
   "id": "546e63ae-2ff8-4650-a301-b10d362b0682",
   "metadata": {
    "id": "546e63ae-2ff8-4650-a301-b10d362b0682"
   },
   "source": [
    "__3. convert inappropriate data types to the correct one__"
   ]
  },
  {
   "cell_type": "markdown",
   "id": "3XjVNIcKTw2T",
   "metadata": {
    "id": "3XjVNIcKTw2T"
   },
   "source": [
    "We should convert the columns to appropriate datatypes for\n",
    "1. Alignment with original dataset types.\n",
    "2. For performance gains (clearly, using a numpy.float64 when a numpy.int64 is required will lower our memory footprint)."
   ]
  },
  {
   "cell_type": "code",
   "execution_count": 43,
   "id": "6af7ee22-b88b-490c-acec-452e581bb456",
   "metadata": {
    "ExecuteTime": {
     "end_time": "2024-03-26T13:54:21.134548Z",
     "start_time": "2024-03-26T13:54:20.823762Z"
    },
    "id": "6af7ee22-b88b-490c-acec-452e581bb456"
   },
   "outputs": [],
   "source": [
    "# create a copy of the dataframe to avoid conflict\n",
    "c_crime_df = chicago_crime_df.copy()"
   ]
  },
  {
   "cell_type": "code",
   "execution_count": 44,
   "id": "j8-iNeoxUHPC",
   "metadata": {
    "ExecuteTime": {
     "end_time": "2024-03-26T13:54:39.483057Z",
     "start_time": "2024-03-26T13:54:21.155796Z"
    },
    "id": "j8-iNeoxUHPC"
   },
   "outputs": [],
   "source": [
    "# Including the date format dramatically increases performance.\n",
    "c_crime_df[\"Date\"] = pd.to_datetime(c_crime_df[\"Date\"], format = \"%m/%d/%Y %I:%M:%S %p\", utc = True)\n",
    "c_crime_df[\"Beat\"] = c_crime_df[\"Beat\"].astype(np.int64)\n",
    "c_crime_df[\"District\"] = c_crime_df[\"District\"].astype(np.int64)\n",
    "c_crime_df[\"Ward\"] = c_crime_df[\"Ward\"].astype(np.int64)\n",
    "c_crime_df[\"Community Area\"] = c_crime_df[\"Community Area\"].astype(np.int64)\n",
    "c_crime_df['Block'] = c_crime_df['Block'].astype(str)"
   ]
  },
  {
   "cell_type": "markdown",
   "id": "cc8f291b-bc85-4dc2-9a9e-d1c288b61399",
   "metadata": {
    "id": "cc8f291b-bc85-4dc2-9a9e-d1c288b61399"
   },
   "source": [
    "# 4. Feature Engineering\n",
    "\n",
    "Create new columns for Time, Date, Block_new, Street, Months, Day, and Season"
   ]
  },
  {
   "cell_type": "code",
   "execution_count": null,
   "id": "LjPD8DjbXmNm",
   "metadata": {
    "id": "LjPD8DjbXmNm"
   },
   "outputs": [],
   "source": []
  },
  {
   "cell_type": "code",
   "execution_count": 45,
   "id": "d4a06fef-5169-4c92-bff4-fdddacb0f309",
   "metadata": {
    "ExecuteTime": {
     "end_time": "2024-03-26T13:54:39.524270Z",
     "start_time": "2024-03-26T13:54:39.507629Z"
    },
    "id": "d4a06fef-5169-4c92-bff4-fdddacb0f309"
   },
   "outputs": [],
   "source": [
    "# Create new columns for Months\n",
    "def extract_and_map_month(date):\n",
    "    # ensure the input is in datetime format\n",
    "    # 07/26/2008 02:30:00 PM\n",
    "    date_column = pd.to_datetime(date, format='%m/%d/%Y %I:%M:%S %p')\n",
    "\n",
    "    month_names = date_column.dt.month_name()\n",
    "# dt is an attribute of the date column object\n",
    "# month_name() is a method\n",
    "    return month_names"
   ]
  },
  {
   "cell_type": "code",
   "execution_count": 46,
   "id": "c03c34fe-a207-4d57-8ac6-1879e17c3a88",
   "metadata": {
    "ExecuteTime": {
     "end_time": "2024-03-26T13:54:41.331135Z",
     "start_time": "2024-03-26T13:54:39.547702Z"
    },
    "id": "c03c34fe-a207-4d57-8ac6-1879e17c3a88"
   },
   "outputs": [],
   "source": [
    "\n",
    "c_crime_df['Month'] = extract_and_map_month(c_crime_df['Date'])\n",
    "\n",
    "# Group by month and count number of crimes\n",
    "monthly_crime_counts = c_crime_df.groupby('Month').size()"
   ]
  },
  {
   "cell_type": "code",
   "execution_count": 47,
   "id": "df886e1b-44b0-43c7-9196-499977fa79f1",
   "metadata": {
    "ExecuteTime": {
     "end_time": "2024-03-26T13:54:41.372421Z",
     "start_time": "2024-03-26T13:54:41.347352Z"
    },
    "id": "df886e1b-44b0-43c7-9196-499977fa79f1"
   },
   "outputs": [],
   "source": [
    "# Create new columns for Day\n",
    "def extract_and_map_month(date):\n",
    "    # ensure the input is in datetime format\n",
    "    # 07/26/2008 02:30:00 PM\n",
    "    date_column = pd.to_datetime(date, format='%m/%d/%Y %I:%M:%S %p')\n",
    "\n",
    "    day_names = date_column.dt.day_name()\n",
    "# dt is an attribute of the date column object\n",
    "# month_name() is a method\n",
    "    return day_names"
   ]
  },
  {
   "cell_type": "code",
   "execution_count": 48,
   "id": "39b009a6-f3db-48aa-9157-a0d4607cf4e1",
   "metadata": {
    "ExecuteTime": {
     "end_time": "2024-03-26T13:54:43.035773Z",
     "start_time": "2024-03-26T13:54:41.391055Z"
    },
    "id": "39b009a6-f3db-48aa-9157-a0d4607cf4e1"
   },
   "outputs": [],
   "source": [
    "c_crime_df['Day'] = extract_and_map_month(c_crime_df['Date'])\n",
    "\n",
    "# Group by day and count number of crimes\n",
    "daily_crime_counts = c_crime_df.groupby('Day').size()"
   ]
  },
  {
   "cell_type": "code",
   "execution_count": 49,
   "id": "3d084f26-071a-47d1-9987-d093058ae120",
   "metadata": {
    "ExecuteTime": {
     "end_time": "2024-03-26T13:54:43.079392Z",
     "start_time": "2024-03-26T13:54:43.063255Z"
    },
    "id": "3d084f26-071a-47d1-9987-d093058ae120"
   },
   "outputs": [],
   "source": [
    "# Function to define various month and their corresponding season\n",
    "def get_season(month):\n",
    "    if month in ['December','January','February']:\n",
    "        return 'Winter'\n",
    "    elif month in ['March','April','May']:\n",
    "        return 'Spring'\n",
    "    elif month in ['June','July','August']:\n",
    "        return 'Summer'\n",
    "    else:\n",
    "        return 'Fall'"
   ]
  },
  {
   "cell_type": "code",
   "execution_count": 50,
   "id": "4505a71b-dbc9-4e1f-8e7a-6e9cae261a02",
   "metadata": {
    "ExecuteTime": {
     "end_time": "2024-03-26T13:54:44.583073Z",
     "start_time": "2024-03-26T13:54:43.099059Z"
    },
    "id": "4505a71b-dbc9-4e1f-8e7a-6e9cae261a02"
   },
   "outputs": [],
   "source": [
    "c_crime_df['Season'] = c_crime_df['Month'].apply(get_season)\n",
    "\n",
    "# Group by season and count number of crimes\n",
    "seasonal_crime_counts = c_crime_df.groupby('Season').size()\n"
   ]
  },
  {
   "cell_type": "code",
   "execution_count": 51,
   "id": "8f24015a-c27b-46ae-9d6f-95da7a4be386",
   "metadata": {
    "ExecuteTime": {
     "end_time": "2024-03-26T13:54:44.661337Z",
     "start_time": "2024-03-26T13:54:44.611659Z"
    },
    "colab": {
     "base_uri": "https://localhost:8080/",
     "height": 400
    },
    "id": "8f24015a-c27b-46ae-9d6f-95da7a4be386",
    "outputId": "0d07abb9-10e3-48be-9b38-a4c8dfe0668d"
   },
   "outputs": [
    {
     "data": {
      "text/html": [
       "<div>\n",
       "<style scoped>\n",
       "    .dataframe tbody tr th:only-of-type {\n",
       "        vertical-align: middle;\n",
       "    }\n",
       "\n",
       "    .dataframe tbody tr th {\n",
       "        vertical-align: top;\n",
       "    }\n",
       "\n",
       "    .dataframe thead th {\n",
       "        text-align: right;\n",
       "    }\n",
       "</style>\n",
       "<table border=\"1\" class=\"dataframe\">\n",
       "  <thead>\n",
       "    <tr style=\"text-align: right;\">\n",
       "      <th></th>\n",
       "      <th>Case Number</th>\n",
       "      <th>Date</th>\n",
       "      <th>Block</th>\n",
       "      <th>Primary Type</th>\n",
       "      <th>Location Description</th>\n",
       "      <th>Arrest</th>\n",
       "      <th>Domestic</th>\n",
       "      <th>Beat</th>\n",
       "      <th>District</th>\n",
       "      <th>Ward</th>\n",
       "      <th>Community Area</th>\n",
       "      <th>Year</th>\n",
       "      <th>Latitude</th>\n",
       "      <th>Longitude</th>\n",
       "      <th>Month</th>\n",
       "      <th>Day</th>\n",
       "      <th>Season</th>\n",
       "    </tr>\n",
       "  </thead>\n",
       "  <tbody>\n",
       "    <tr>\n",
       "      <th>0</th>\n",
       "      <td>HP485721</td>\n",
       "      <td>2008-07-26 14:30:00+00:00</td>\n",
       "      <td>085XX S MUSKEGON AVE</td>\n",
       "      <td>CRIMINAL DAMAGE</td>\n",
       "      <td>STREET</td>\n",
       "      <td>False</td>\n",
       "      <td>False</td>\n",
       "      <td>423</td>\n",
       "      <td>4</td>\n",
       "      <td>10</td>\n",
       "      <td>46</td>\n",
       "      <td>2008</td>\n",
       "      <td>41.739980</td>\n",
       "      <td>-87.555120</td>\n",
       "      <td>July</td>\n",
       "      <td>Saturday</td>\n",
       "      <td>Summer</td>\n",
       "    </tr>\n",
       "    <tr>\n",
       "      <th>1</th>\n",
       "      <td>JB372830</td>\n",
       "      <td>2018-07-31 10:57:00+00:00</td>\n",
       "      <td>092XX S ELLIS AVE</td>\n",
       "      <td>WEAPONS VIOLATION</td>\n",
       "      <td>POOL ROOM</td>\n",
       "      <td>True</td>\n",
       "      <td>False</td>\n",
       "      <td>413</td>\n",
       "      <td>4</td>\n",
       "      <td>8</td>\n",
       "      <td>47</td>\n",
       "      <td>2018</td>\n",
       "      <td>41.726922</td>\n",
       "      <td>-87.599747</td>\n",
       "      <td>July</td>\n",
       "      <td>Tuesday</td>\n",
       "      <td>Summer</td>\n",
       "    </tr>\n",
       "    <tr>\n",
       "      <th>2</th>\n",
       "      <td>HN308568</td>\n",
       "      <td>2007-04-27 10:30:00+00:00</td>\n",
       "      <td>062XX N TRIPP AVE</td>\n",
       "      <td>BURGLARY</td>\n",
       "      <td>RESIDENCE</td>\n",
       "      <td>True</td>\n",
       "      <td>False</td>\n",
       "      <td>1711</td>\n",
       "      <td>17</td>\n",
       "      <td>39</td>\n",
       "      <td>12</td>\n",
       "      <td>2007</td>\n",
       "      <td>41.994138</td>\n",
       "      <td>-87.734959</td>\n",
       "      <td>April</td>\n",
       "      <td>Friday</td>\n",
       "      <td>Spring</td>\n",
       "    </tr>\n",
       "    <tr>\n",
       "      <th>3</th>\n",
       "      <td>JB361368</td>\n",
       "      <td>2018-07-23 08:55:00+00:00</td>\n",
       "      <td>0000X N KEELER AVE</td>\n",
       "      <td>ASSAULT</td>\n",
       "      <td>NURSING HOME/RETIREMENT HOME</td>\n",
       "      <td>False</td>\n",
       "      <td>False</td>\n",
       "      <td>1115</td>\n",
       "      <td>11</td>\n",
       "      <td>28</td>\n",
       "      <td>26</td>\n",
       "      <td>2018</td>\n",
       "      <td>41.881217</td>\n",
       "      <td>-87.730590</td>\n",
       "      <td>July</td>\n",
       "      <td>Monday</td>\n",
       "      <td>Summer</td>\n",
       "    </tr>\n",
       "    <tr>\n",
       "      <th>4</th>\n",
       "      <td>JE297624</td>\n",
       "      <td>2021-07-11 06:40:00+00:00</td>\n",
       "      <td>016XX W HARRISON ST</td>\n",
       "      <td>ASSAULT</td>\n",
       "      <td>PARKING LOT / GARAGE (NON RESIDENTIAL)</td>\n",
       "      <td>False</td>\n",
       "      <td>False</td>\n",
       "      <td>1231</td>\n",
       "      <td>12</td>\n",
       "      <td>27</td>\n",
       "      <td>28</td>\n",
       "      <td>2021</td>\n",
       "      <td>41.874174</td>\n",
       "      <td>-87.668082</td>\n",
       "      <td>July</td>\n",
       "      <td>Sunday</td>\n",
       "      <td>Summer</td>\n",
       "    </tr>\n",
       "  </tbody>\n",
       "</table>\n",
       "</div>"
      ],
      "text/plain": [
       "  Case Number                      Date                 Block  \\\n",
       "0    HP485721 2008-07-26 14:30:00+00:00  085XX S MUSKEGON AVE   \n",
       "1    JB372830 2018-07-31 10:57:00+00:00     092XX S ELLIS AVE   \n",
       "2    HN308568 2007-04-27 10:30:00+00:00     062XX N TRIPP AVE   \n",
       "3    JB361368 2018-07-23 08:55:00+00:00    0000X N KEELER AVE   \n",
       "4    JE297624 2021-07-11 06:40:00+00:00   016XX W HARRISON ST   \n",
       "\n",
       "        Primary Type                    Location Description  Arrest  \\\n",
       "0    CRIMINAL DAMAGE                                  STREET   False   \n",
       "1  WEAPONS VIOLATION                               POOL ROOM    True   \n",
       "2           BURGLARY                               RESIDENCE    True   \n",
       "3            ASSAULT            NURSING HOME/RETIREMENT HOME   False   \n",
       "4            ASSAULT  PARKING LOT / GARAGE (NON RESIDENTIAL)   False   \n",
       "\n",
       "   Domestic  Beat  District  Ward  Community Area  Year   Latitude  Longitude  \\\n",
       "0     False   423         4    10              46  2008  41.739980 -87.555120   \n",
       "1     False   413         4     8              47  2018  41.726922 -87.599747   \n",
       "2     False  1711        17    39              12  2007  41.994138 -87.734959   \n",
       "3     False  1115        11    28              26  2018  41.881217 -87.730590   \n",
       "4     False  1231        12    27              28  2021  41.874174 -87.668082   \n",
       "\n",
       "   Month       Day  Season  \n",
       "0   July  Saturday  Summer  \n",
       "1   July   Tuesday  Summer  \n",
       "2  April    Friday  Spring  \n",
       "3   July    Monday  Summer  \n",
       "4   July    Sunday  Summer  "
      ]
     },
     "execution_count": 51,
     "metadata": {},
     "output_type": "execute_result"
    }
   ],
   "source": [
    "c_crime_df.head()"
   ]
  },
  {
   "cell_type": "markdown",
   "id": "cb3d6c5b",
   "metadata": {
    "id": "cb3d6c5b"
   },
   "source": [
    "# 4. EDA: Data Exploration"
   ]
  },
  {
   "cell_type": "markdown",
   "id": "19d9c35f",
   "metadata": {},
   "source": [
    "## Non - Graphical"
   ]
  },
  {
   "cell_type": "markdown",
   "id": "a00848fb",
   "metadata": {
    "ExecuteTime": {
     "end_time": "2024-03-21T17:26:55.994165Z",
     "start_time": "2024-03-21T17:26:55.676084Z"
    },
    "id": "a00848fb"
   },
   "source": [
    "1. **Total Number of Crime cases Filed**"
   ]
  },
  {
   "cell_type": "code",
   "execution_count": 52,
   "id": "fd0c282b",
   "metadata": {
    "ExecuteTime": {
     "end_time": "2024-03-26T13:54:45.866900Z",
     "start_time": "2024-03-26T13:54:44.687732Z"
    },
    "colab": {
     "base_uri": "https://localhost:8080/"
    },
    "id": "fd0c282b",
    "outputId": "d9c22b55-99ec-4bf3-8579-5d2ac8632703"
   },
   "outputs": [
    {
     "name": "stdout",
     "output_type": "stream",
     "text": [
      "Out of 2275836: 2275789 are unique case numbers\n"
     ]
    }
   ],
   "source": [
    "# Number of Unique Case Number.\n",
    "\n",
    "print(f\"Out of {len(c_crime_df)}: {len(c_crime_df['Case Number'].unique())} are unique case numbers\")"
   ]
  },
  {
   "cell_type": "markdown",
   "id": "90f03909",
   "metadata": {
    "id": "90f03909"
   },
   "source": [
    "**Observation**: Most case numbers are unique case numbers."
   ]
  },
  {
   "cell_type": "markdown",
   "id": "c61bc9c8",
   "metadata": {
    "id": "c61bc9c8"
   },
   "source": [
    "Number of Non-Unique cases"
   ]
  },
  {
   "cell_type": "code",
   "execution_count": 53,
   "id": "1795f5f4",
   "metadata": {
    "ExecuteTime": {
     "end_time": "2024-03-26T13:54:48.194474Z",
     "start_time": "2024-03-26T13:54:45.885006Z"
    },
    "colab": {
     "base_uri": "https://localhost:8080/"
    },
    "id": "1795f5f4",
    "outputId": "40cffe9e-8de9-4b97-b6f5-41e67f832ffd"
   },
   "outputs": [
    {
     "name": "stdout",
     "output_type": "stream",
     "text": [
      "Length of non_unique: 92 out of 2275836\n"
     ]
    }
   ],
   "source": [
    "# Out of all cases , how many are non_unique cases ?\n",
    "\n",
    "non_unique_case_number = c_crime_df[c_crime_df.duplicated('Case Number') | c_crime_df.duplicated('Case Number', keep=False)]['Case Number'].tolist()\n",
    "\n",
    "print(f\"Length of non_unique: {len(non_unique_case_number)} out of {len(c_crime_df)}\")"
   ]
  },
  {
   "cell_type": "code",
   "execution_count": 54,
   "id": "4a4214b0",
   "metadata": {
    "ExecuteTime": {
     "end_time": "2024-03-26T13:54:57.726724Z",
     "start_time": "2024-03-26T13:54:56.551117Z"
    },
    "colab": {
     "base_uri": "https://localhost:8080/",
     "height": 382
    },
    "id": "4a4214b0",
    "outputId": "d75c0be1-e795-4ec0-da64-5554ee2f1b5c"
   },
   "outputs": [
    {
     "data": {
      "text/html": [
       "<div>\n",
       "<style scoped>\n",
       "    .dataframe tbody tr th:only-of-type {\n",
       "        vertical-align: middle;\n",
       "    }\n",
       "\n",
       "    .dataframe tbody tr th {\n",
       "        vertical-align: top;\n",
       "    }\n",
       "\n",
       "    .dataframe thead th {\n",
       "        text-align: right;\n",
       "    }\n",
       "</style>\n",
       "<table border=\"1\" class=\"dataframe\">\n",
       "  <thead>\n",
       "    <tr style=\"text-align: right;\">\n",
       "      <th></th>\n",
       "      <th>Case Number</th>\n",
       "      <th>Date</th>\n",
       "      <th>Block</th>\n",
       "      <th>Primary Type</th>\n",
       "      <th>Location Description</th>\n",
       "      <th>Arrest</th>\n",
       "      <th>Domestic</th>\n",
       "      <th>Beat</th>\n",
       "      <th>District</th>\n",
       "      <th>Ward</th>\n",
       "      <th>Community Area</th>\n",
       "      <th>Year</th>\n",
       "      <th>Latitude</th>\n",
       "      <th>Longitude</th>\n",
       "      <th>Month</th>\n",
       "      <th>Day</th>\n",
       "      <th>Season</th>\n",
       "    </tr>\n",
       "  </thead>\n",
       "  <tbody>\n",
       "    <tr>\n",
       "      <th>25445</th>\n",
       "      <td>HM763064</td>\n",
       "      <td>2006-12-08 15:14:00+00:00</td>\n",
       "      <td>005XX W MADISON ST</td>\n",
       "      <td>HOMICIDE</td>\n",
       "      <td>OFFICE</td>\n",
       "      <td>True</td>\n",
       "      <td>False</td>\n",
       "      <td>111</td>\n",
       "      <td>1</td>\n",
       "      <td>42</td>\n",
       "      <td>28</td>\n",
       "      <td>2006</td>\n",
       "      <td>41.881884</td>\n",
       "      <td>-87.640060</td>\n",
       "      <td>December</td>\n",
       "      <td>Friday</td>\n",
       "      <td>Winter</td>\n",
       "    </tr>\n",
       "    <tr>\n",
       "      <th>58104</th>\n",
       "      <td>JB483810</td>\n",
       "      <td>2018-10-21 02:39:00+00:00</td>\n",
       "      <td>001XX N LOCKWOOD AVE</td>\n",
       "      <td>HOMICIDE</td>\n",
       "      <td>AUTO</td>\n",
       "      <td>False</td>\n",
       "      <td>False</td>\n",
       "      <td>1523</td>\n",
       "      <td>15</td>\n",
       "      <td>28</td>\n",
       "      <td>25</td>\n",
       "      <td>2018</td>\n",
       "      <td>41.883604</td>\n",
       "      <td>-87.757629</td>\n",
       "      <td>October</td>\n",
       "      <td>Sunday</td>\n",
       "      <td>Fall</td>\n",
       "    </tr>\n",
       "    <tr>\n",
       "      <th>74485</th>\n",
       "      <td>HK172551</td>\n",
       "      <td>2004-02-08 23:44:00+00:00</td>\n",
       "      <td>034XX W MADISON ST</td>\n",
       "      <td>HOMICIDE</td>\n",
       "      <td>CHURCH</td>\n",
       "      <td>False</td>\n",
       "      <td>False</td>\n",
       "      <td>1123</td>\n",
       "      <td>11</td>\n",
       "      <td>28</td>\n",
       "      <td>27</td>\n",
       "      <td>2004</td>\n",
       "      <td>41.880909</td>\n",
       "      <td>-87.711843</td>\n",
       "      <td>February</td>\n",
       "      <td>Sunday</td>\n",
       "      <td>Winter</td>\n",
       "    </tr>\n",
       "    <tr>\n",
       "      <th>80580</th>\n",
       "      <td>HV620483</td>\n",
       "      <td>2012-12-31 16:49:00+00:00</td>\n",
       "      <td>042XX W 21ST PL</td>\n",
       "      <td>HOMICIDE</td>\n",
       "      <td>APARTMENT</td>\n",
       "      <td>True</td>\n",
       "      <td>True</td>\n",
       "      <td>1012</td>\n",
       "      <td>10</td>\n",
       "      <td>24</td>\n",
       "      <td>29</td>\n",
       "      <td>2012</td>\n",
       "      <td>41.852505</td>\n",
       "      <td>-87.730687</td>\n",
       "      <td>December</td>\n",
       "      <td>Monday</td>\n",
       "      <td>Winter</td>\n",
       "    </tr>\n",
       "    <tr>\n",
       "      <th>126290</th>\n",
       "      <td>HR146859</td>\n",
       "      <td>2009-01-31 01:10:00+00:00</td>\n",
       "      <td>039XX W ARGYLE ST</td>\n",
       "      <td>HOMICIDE</td>\n",
       "      <td>APARTMENT</td>\n",
       "      <td>True</td>\n",
       "      <td>False</td>\n",
       "      <td>1712</td>\n",
       "      <td>17</td>\n",
       "      <td>39</td>\n",
       "      <td>14</td>\n",
       "      <td>2009</td>\n",
       "      <td>41.971903</td>\n",
       "      <td>-87.726290</td>\n",
       "      <td>January</td>\n",
       "      <td>Saturday</td>\n",
       "      <td>Winter</td>\n",
       "    </tr>\n",
       "  </tbody>\n",
       "</table>\n",
       "</div>"
      ],
      "text/plain": [
       "       Case Number                      Date                 Block  \\\n",
       "25445     HM763064 2006-12-08 15:14:00+00:00    005XX W MADISON ST   \n",
       "58104     JB483810 2018-10-21 02:39:00+00:00  001XX N LOCKWOOD AVE   \n",
       "74485     HK172551 2004-02-08 23:44:00+00:00    034XX W MADISON ST   \n",
       "80580     HV620483 2012-12-31 16:49:00+00:00       042XX W 21ST PL   \n",
       "126290    HR146859 2009-01-31 01:10:00+00:00     039XX W ARGYLE ST   \n",
       "\n",
       "       Primary Type Location Description  Arrest  Domestic  Beat  District  \\\n",
       "25445      HOMICIDE               OFFICE    True     False   111         1   \n",
       "58104      HOMICIDE                 AUTO   False     False  1523        15   \n",
       "74485      HOMICIDE               CHURCH   False     False  1123        11   \n",
       "80580      HOMICIDE            APARTMENT    True      True  1012        10   \n",
       "126290     HOMICIDE            APARTMENT    True     False  1712        17   \n",
       "\n",
       "        Ward  Community Area  Year   Latitude  Longitude     Month       Day  \\\n",
       "25445     42              28  2006  41.881884 -87.640060  December    Friday   \n",
       "58104     28              25  2018  41.883604 -87.757629   October    Sunday   \n",
       "74485     28              27  2004  41.880909 -87.711843  February    Sunday   \n",
       "80580     24              29  2012  41.852505 -87.730687  December    Monday   \n",
       "126290    39              14  2009  41.971903 -87.726290   January  Saturday   \n",
       "\n",
       "        Season  \n",
       "25445   Winter  \n",
       "58104     Fall  \n",
       "74485   Winter  \n",
       "80580   Winter  \n",
       "126290  Winter  "
      ]
     },
     "execution_count": 54,
     "metadata": {},
     "output_type": "execute_result"
    }
   ],
   "source": [
    "non_unique_case_number_df = c_crime_df[c_crime_df.duplicated('Case Number', keep=False)]\n",
    "non_unique_case_number_df.head() # Saving non_unique case number dataframe for future use."
   ]
  },
  {
   "cell_type": "markdown",
   "id": "1b54426f",
   "metadata": {
    "id": "1b54426f"
   },
   "source": [
    "**Observation**: There are 2275789 unique values of case number out of 2275836 , it means there are 2275789 cases registered with a single crime the rest 92 are the case numbers which have commited multiple crimes."
   ]
  },
  {
   "cell_type": "markdown",
   "id": "rLzz5qKabPxQ",
   "metadata": {
    "id": "rLzz5qKabPxQ"
   },
   "source": [
    "2. **Out of total case registered how many are arrested and how many are not?**"
   ]
  },
  {
   "cell_type": "code",
   "execution_count": 55,
   "id": "jO56OUpDbQp0",
   "metadata": {
    "ExecuteTime": {
     "end_time": "2024-03-26T13:54:59.433042Z",
     "start_time": "2024-03-26T13:54:58.884246Z"
    },
    "colab": {
     "base_uri": "https://localhost:8080/"
    },
    "id": "jO56OUpDbQp0",
    "outputId": "1e957fa9-7367-49e6-dc0f-b998e74c7cab"
   },
   "outputs": [
    {
     "name": "stdout",
     "output_type": "stream",
     "text": [
      "Out of 2275836,\n",
      "603465 are Arrested and \n",
      "1672371 are not Arrested.\n"
     ]
    }
   ],
   "source": [
    "# Out of total case registered how many are arrested and how many are not?\n",
    "\n",
    "\n",
    "arrested = c_crime_df['Arrest'].where(c_crime_df['Arrest'] == True).count()\n",
    "not_arrested = c_crime_df['Arrest'].where(c_crime_df['Arrest'] != True).count()\n",
    "\n",
    "print(f\"Out of {len(c_crime_df)},\\n{arrested} are Arrested and \\n{not_arrested} are not Arrested.\")"
   ]
  },
  {
   "cell_type": "markdown",
   "id": "fsRd_rWddqzt",
   "metadata": {
    "id": "fsRd_rWddqzt"
   },
   "source": [
    "**Observation**: Out of total crime cases received, 27% of the Criminals are arrested, 73% were not."
   ]
  },
  {
   "cell_type": "markdown",
   "id": "CHmOUy3vPWca",
   "metadata": {
    "id": "CHmOUy3vPWca"
   },
   "source": [
    "3. **How many unique crimes are available and what is the count for each crime from 2001-2022?**"
   ]
  },
  {
   "cell_type": "code",
   "execution_count": 56,
   "id": "524DMgVYPXW2",
   "metadata": {
    "ExecuteTime": {
     "end_time": "2024-03-26T13:55:00.474873Z",
     "start_time": "2024-03-26T13:54:59.926760Z"
    },
    "colab": {
     "base_uri": "https://localhost:8080/",
     "height": 206
    },
    "id": "524DMgVYPXW2",
    "outputId": "4ca41fa5-2153-4af1-8b43-0696bad44857"
   },
   "outputs": [
    {
     "name": "stdout",
     "output_type": "stream",
     "text": [
      "The Number of unique crimes are 35 and the count for each crime are:\n"
     ]
    },
    {
     "data": {
      "text/html": [
       "<div>\n",
       "<style scoped>\n",
       "    .dataframe tbody tr th:only-of-type {\n",
       "        vertical-align: middle;\n",
       "    }\n",
       "\n",
       "    .dataframe tbody tr th {\n",
       "        vertical-align: top;\n",
       "    }\n",
       "\n",
       "    .dataframe thead th {\n",
       "        text-align: right;\n",
       "    }\n",
       "</style>\n",
       "<table border=\"1\" class=\"dataframe\">\n",
       "  <thead>\n",
       "    <tr style=\"text-align: right;\">\n",
       "      <th></th>\n",
       "      <th>Primary Type</th>\n",
       "      <th>Count</th>\n",
       "    </tr>\n",
       "  </thead>\n",
       "  <tbody>\n",
       "    <tr>\n",
       "      <th>0</th>\n",
       "      <td>THEFT</td>\n",
       "      <td>479153</td>\n",
       "    </tr>\n",
       "    <tr>\n",
       "      <th>1</th>\n",
       "      <td>BATTERY</td>\n",
       "      <td>418647</td>\n",
       "    </tr>\n",
       "    <tr>\n",
       "      <th>2</th>\n",
       "      <td>CRIMINAL DAMAGE</td>\n",
       "      <td>259959</td>\n",
       "    </tr>\n",
       "    <tr>\n",
       "      <th>3</th>\n",
       "      <td>NARCOTICS</td>\n",
       "      <td>222861</td>\n",
       "    </tr>\n",
       "    <tr>\n",
       "      <th>4</th>\n",
       "      <td>ASSAULT</td>\n",
       "      <td>147662</td>\n",
       "    </tr>\n",
       "  </tbody>\n",
       "</table>\n",
       "</div>"
      ],
      "text/plain": [
       "      Primary Type   Count\n",
       "0            THEFT  479153\n",
       "1          BATTERY  418647\n",
       "2  CRIMINAL DAMAGE  259959\n",
       "3        NARCOTICS  222861\n",
       "4          ASSAULT  147662"
      ]
     },
     "execution_count": 56,
     "metadata": {},
     "output_type": "execute_result"
    }
   ],
   "source": [
    "# Group by Crime type and calculate count\n",
    "crime_count = c_crime_df['Primary Type'].unique()\n",
    "print(f'The Number of unique crimes are {len(crime_count)} and the count for each crime are:')\n",
    "count_for_each_crime = pd.DataFrame(c_crime_df.groupby('Primary Type').size().sort_values(ascending=False).rename('Count').reset_index())\n",
    "count_for_each_crime.head()"
   ]
  },
  {
   "cell_type": "markdown",
   "id": "gZh7UMVXfVvw",
   "metadata": {
    "id": "gZh7UMVXfVvw"
   },
   "source": [
    "4. **Number of crimes per Year**"
   ]
  },
  {
   "cell_type": "code",
   "execution_count": 57,
   "id": "1deaa834",
   "metadata": {
    "ExecuteTime": {
     "end_time": "2024-03-26T13:55:01.575352Z",
     "start_time": "2024-03-26T13:55:01.520600Z"
    },
    "scrolled": true
   },
   "outputs": [
    {
     "name": "stdout",
     "output_type": "stream",
     "text": [
      "The amount of crimes per year are as follow: \n"
     ]
    },
    {
     "data": {
      "text/html": [
       "<div>\n",
       "<style scoped>\n",
       "    .dataframe tbody tr th:only-of-type {\n",
       "        vertical-align: middle;\n",
       "    }\n",
       "\n",
       "    .dataframe tbody tr th {\n",
       "        vertical-align: top;\n",
       "    }\n",
       "\n",
       "    .dataframe thead th {\n",
       "        text-align: right;\n",
       "    }\n",
       "</style>\n",
       "<table border=\"1\" class=\"dataframe\">\n",
       "  <thead>\n",
       "    <tr style=\"text-align: right;\">\n",
       "      <th></th>\n",
       "      <th>Year</th>\n",
       "      <th>Count</th>\n",
       "    </tr>\n",
       "  </thead>\n",
       "  <tbody>\n",
       "    <tr>\n",
       "      <th>0</th>\n",
       "      <td>2001</td>\n",
       "      <td>146292</td>\n",
       "    </tr>\n",
       "    <tr>\n",
       "      <th>1</th>\n",
       "      <td>2002</td>\n",
       "      <td>145441</td>\n",
       "    </tr>\n",
       "    <tr>\n",
       "      <th>2</th>\n",
       "      <td>2003</td>\n",
       "      <td>142708</td>\n",
       "    </tr>\n",
       "    <tr>\n",
       "      <th>3</th>\n",
       "      <td>2004</td>\n",
       "      <td>140802</td>\n",
       "    </tr>\n",
       "    <tr>\n",
       "      <th>4</th>\n",
       "      <td>2005</td>\n",
       "      <td>135737</td>\n",
       "    </tr>\n",
       "    <tr>\n",
       "      <th>5</th>\n",
       "      <td>2006</td>\n",
       "      <td>134769</td>\n",
       "    </tr>\n",
       "    <tr>\n",
       "      <th>6</th>\n",
       "      <td>2007</td>\n",
       "      <td>130754</td>\n",
       "    </tr>\n",
       "    <tr>\n",
       "      <th>7</th>\n",
       "      <td>2008</td>\n",
       "      <td>127883</td>\n",
       "    </tr>\n",
       "    <tr>\n",
       "      <th>8</th>\n",
       "      <td>2009</td>\n",
       "      <td>118376</td>\n",
       "    </tr>\n",
       "    <tr>\n",
       "      <th>9</th>\n",
       "      <td>2010</td>\n",
       "      <td>111077</td>\n",
       "    </tr>\n",
       "    <tr>\n",
       "      <th>10</th>\n",
       "      <td>2011</td>\n",
       "      <td>105639</td>\n",
       "    </tr>\n",
       "    <tr>\n",
       "      <th>11</th>\n",
       "      <td>2012</td>\n",
       "      <td>100724</td>\n",
       "    </tr>\n",
       "    <tr>\n",
       "      <th>12</th>\n",
       "      <td>2013</td>\n",
       "      <td>91802</td>\n",
       "    </tr>\n",
       "    <tr>\n",
       "      <th>13</th>\n",
       "      <td>2014</td>\n",
       "      <td>82597</td>\n",
       "    </tr>\n",
       "    <tr>\n",
       "      <th>14</th>\n",
       "      <td>2015</td>\n",
       "      <td>79183</td>\n",
       "    </tr>\n",
       "    <tr>\n",
       "      <th>15</th>\n",
       "      <td>2016</td>\n",
       "      <td>80872</td>\n",
       "    </tr>\n",
       "    <tr>\n",
       "      <th>16</th>\n",
       "      <td>2017</td>\n",
       "      <td>80312</td>\n",
       "    </tr>\n",
       "    <tr>\n",
       "      <th>17</th>\n",
       "      <td>2018</td>\n",
       "      <td>80702</td>\n",
       "    </tr>\n",
       "    <tr>\n",
       "      <th>18</th>\n",
       "      <td>2019</td>\n",
       "      <td>77719</td>\n",
       "    </tr>\n",
       "    <tr>\n",
       "      <th>19</th>\n",
       "      <td>2020</td>\n",
       "      <td>63193</td>\n",
       "    </tr>\n",
       "    <tr>\n",
       "      <th>20</th>\n",
       "      <td>2021</td>\n",
       "      <td>62284</td>\n",
       "    </tr>\n",
       "    <tr>\n",
       "      <th>21</th>\n",
       "      <td>2022</td>\n",
       "      <td>36970</td>\n",
       "    </tr>\n",
       "  </tbody>\n",
       "</table>\n",
       "</div>"
      ],
      "text/plain": [
       "    Year   Count\n",
       "0   2001  146292\n",
       "1   2002  145441\n",
       "2   2003  142708\n",
       "3   2004  140802\n",
       "4   2005  135737\n",
       "5   2006  134769\n",
       "6   2007  130754\n",
       "7   2008  127883\n",
       "8   2009  118376\n",
       "9   2010  111077\n",
       "10  2011  105639\n",
       "11  2012  100724\n",
       "12  2013   91802\n",
       "13  2014   82597\n",
       "14  2015   79183\n",
       "15  2016   80872\n",
       "16  2017   80312\n",
       "17  2018   80702\n",
       "18  2019   77719\n",
       "19  2020   63193\n",
       "20  2021   62284\n",
       "21  2022   36970"
      ]
     },
     "execution_count": 57,
     "metadata": {},
     "output_type": "execute_result"
    }
   ],
   "source": [
    "# Count the number of crimes per year\n",
    "crime_counts_per_year = c_crime_df['Year'].value_counts().sort_index().rename('Count').reset_index()\n",
    "print(f'The amount of crimes per year are as follow: ')\n",
    "crime_counts_per_year"
   ]
  },
  {
   "cell_type": "markdown",
   "id": "cb7ae611",
   "metadata": {},
   "source": [
    "5. **Number of crimes by month**\n",
    "\n",
    "how many records we have for each month ?"
   ]
  },
  {
   "cell_type": "code",
   "execution_count": 58,
   "id": "e93c9abd",
   "metadata": {
    "ExecuteTime": {
     "end_time": "2024-03-26T13:55:03.152198Z",
     "start_time": "2024-03-26T13:55:02.755734Z"
    }
   },
   "outputs": [
    {
     "name": "stdout",
     "output_type": "stream",
     "text": [
      "The amount of crimes per month are as follow: \n"
     ]
    },
    {
     "data": {
      "text/html": [
       "<div>\n",
       "<style scoped>\n",
       "    .dataframe tbody tr th:only-of-type {\n",
       "        vertical-align: middle;\n",
       "    }\n",
       "\n",
       "    .dataframe tbody tr th {\n",
       "        vertical-align: top;\n",
       "    }\n",
       "\n",
       "    .dataframe thead th {\n",
       "        text-align: right;\n",
       "    }\n",
       "</style>\n",
       "<table border=\"1\" class=\"dataframe\">\n",
       "  <thead>\n",
       "    <tr style=\"text-align: right;\">\n",
       "      <th></th>\n",
       "      <th>Month</th>\n",
       "      <th>Count</th>\n",
       "    </tr>\n",
       "  </thead>\n",
       "  <tbody>\n",
       "    <tr>\n",
       "      <th>0</th>\n",
       "      <td>April</td>\n",
       "      <td>187239</td>\n",
       "    </tr>\n",
       "    <tr>\n",
       "      <th>1</th>\n",
       "      <td>August</td>\n",
       "      <td>206089</td>\n",
       "    </tr>\n",
       "    <tr>\n",
       "      <th>2</th>\n",
       "      <td>December</td>\n",
       "      <td>167906</td>\n",
       "    </tr>\n",
       "    <tr>\n",
       "      <th>3</th>\n",
       "      <td>February</td>\n",
       "      <td>158349</td>\n",
       "    </tr>\n",
       "    <tr>\n",
       "      <th>4</th>\n",
       "      <td>January</td>\n",
       "      <td>179894</td>\n",
       "    </tr>\n",
       "    <tr>\n",
       "      <th>5</th>\n",
       "      <td>July</td>\n",
       "      <td>213452</td>\n",
       "    </tr>\n",
       "    <tr>\n",
       "      <th>6</th>\n",
       "      <td>June</td>\n",
       "      <td>204809</td>\n",
       "    </tr>\n",
       "    <tr>\n",
       "      <th>7</th>\n",
       "      <td>March</td>\n",
       "      <td>188532</td>\n",
       "    </tr>\n",
       "    <tr>\n",
       "      <th>8</th>\n",
       "      <td>May</td>\n",
       "      <td>204425</td>\n",
       "    </tr>\n",
       "    <tr>\n",
       "      <th>9</th>\n",
       "      <td>November</td>\n",
       "      <td>176376</td>\n",
       "    </tr>\n",
       "    <tr>\n",
       "      <th>10</th>\n",
       "      <td>October</td>\n",
       "      <td>195487</td>\n",
       "    </tr>\n",
       "    <tr>\n",
       "      <th>11</th>\n",
       "      <td>September</td>\n",
       "      <td>193278</td>\n",
       "    </tr>\n",
       "  </tbody>\n",
       "</table>\n",
       "</div>"
      ],
      "text/plain": [
       "        Month   Count\n",
       "0       April  187239\n",
       "1      August  206089\n",
       "2    December  167906\n",
       "3    February  158349\n",
       "4     January  179894\n",
       "5        July  213452\n",
       "6        June  204809\n",
       "7       March  188532\n",
       "8         May  204425\n",
       "9    November  176376\n",
       "10    October  195487\n",
       "11  September  193278"
      ]
     },
     "execution_count": 58,
     "metadata": {},
     "output_type": "execute_result"
    }
   ],
   "source": [
    "# Count the number of crimes per Month\n",
    "crime_counts_per_month = c_crime_df['Month'].value_counts().sort_index().rename('Count').reset_index()\n",
    "print(f'The amount of crimes per month are as follow: ')\n",
    "crime_counts_per_month"
   ]
  },
  {
   "cell_type": "markdown",
   "id": "bf696fe4",
   "metadata": {
    "ExecuteTime": {
     "end_time": "2024-03-26T13:27:37.344442Z",
     "start_time": "2024-03-26T13:27:37.326463Z"
    }
   },
   "source": [
    "6. **Number of crimes by seasons**\n",
    "\n",
    "how many records we have for each seasons ?"
   ]
  },
  {
   "cell_type": "code",
   "execution_count": 59,
   "id": "161a1bab",
   "metadata": {
    "ExecuteTime": {
     "end_time": "2024-03-26T13:55:04.278798Z",
     "start_time": "2024-03-26T13:55:04.056232Z"
    },
    "scrolled": true
   },
   "outputs": [
    {
     "name": "stdout",
     "output_type": "stream",
     "text": [
      "The Seasonal Crime rate are as follow: \n"
     ]
    },
    {
     "data": {
      "text/html": [
       "<div>\n",
       "<style scoped>\n",
       "    .dataframe tbody tr th:only-of-type {\n",
       "        vertical-align: middle;\n",
       "    }\n",
       "\n",
       "    .dataframe tbody tr th {\n",
       "        vertical-align: top;\n",
       "    }\n",
       "\n",
       "    .dataframe thead th {\n",
       "        text-align: right;\n",
       "    }\n",
       "</style>\n",
       "<table border=\"1\" class=\"dataframe\">\n",
       "  <thead>\n",
       "    <tr style=\"text-align: right;\">\n",
       "      <th></th>\n",
       "      <th>Season</th>\n",
       "      <th>Count</th>\n",
       "    </tr>\n",
       "  </thead>\n",
       "  <tbody>\n",
       "    <tr>\n",
       "      <th>0</th>\n",
       "      <td>Fall</td>\n",
       "      <td>565141</td>\n",
       "    </tr>\n",
       "    <tr>\n",
       "      <th>1</th>\n",
       "      <td>Spring</td>\n",
       "      <td>580196</td>\n",
       "    </tr>\n",
       "    <tr>\n",
       "      <th>2</th>\n",
       "      <td>Summer</td>\n",
       "      <td>624350</td>\n",
       "    </tr>\n",
       "    <tr>\n",
       "      <th>3</th>\n",
       "      <td>Winter</td>\n",
       "      <td>506149</td>\n",
       "    </tr>\n",
       "  </tbody>\n",
       "</table>\n",
       "</div>"
      ],
      "text/plain": [
       "   Season   Count\n",
       "0    Fall  565141\n",
       "1  Spring  580196\n",
       "2  Summer  624350\n",
       "3  Winter  506149"
      ]
     },
     "execution_count": 59,
     "metadata": {},
     "output_type": "execute_result"
    }
   ],
   "source": [
    "# Count the number of crimes per Seasons\n",
    "crime_counts_per_season = c_crime_df['Season'].value_counts().sort_index().rename('Count').reset_index()\n",
    "print(f'The Seasonal Crime rate are as follow: ')\n",
    "crime_counts_per_season"
   ]
  },
  {
   "cell_type": "markdown",
   "id": "82440cf8",
   "metadata": {},
   "source": [
    "7. **Number of crimes by day**\n",
    "\n",
    "how many records we have for each day ?"
   ]
  },
  {
   "cell_type": "code",
   "execution_count": 60,
   "id": "b8e1eb35",
   "metadata": {
    "ExecuteTime": {
     "end_time": "2024-03-26T14:02:44.462814Z",
     "start_time": "2024-03-26T14:02:44.046199Z"
    },
    "scrolled": true
   },
   "outputs": [
    {
     "name": "stdout",
     "output_type": "stream",
     "text": [
      "The daily Crime rate are as follow: \n"
     ]
    },
    {
     "data": {
      "text/html": [
       "<div>\n",
       "<style scoped>\n",
       "    .dataframe tbody tr th:only-of-type {\n",
       "        vertical-align: middle;\n",
       "    }\n",
       "\n",
       "    .dataframe tbody tr th {\n",
       "        vertical-align: top;\n",
       "    }\n",
       "\n",
       "    .dataframe thead th {\n",
       "        text-align: right;\n",
       "    }\n",
       "</style>\n",
       "<table border=\"1\" class=\"dataframe\">\n",
       "  <thead>\n",
       "    <tr style=\"text-align: right;\">\n",
       "      <th></th>\n",
       "      <th>Day</th>\n",
       "      <th>Count</th>\n",
       "    </tr>\n",
       "  </thead>\n",
       "  <tbody>\n",
       "    <tr>\n",
       "      <th>0</th>\n",
       "      <td>Friday</td>\n",
       "      <td>342109</td>\n",
       "    </tr>\n",
       "    <tr>\n",
       "      <th>1</th>\n",
       "      <td>Monday</td>\n",
       "      <td>321298</td>\n",
       "    </tr>\n",
       "    <tr>\n",
       "      <th>2</th>\n",
       "      <td>Saturday</td>\n",
       "      <td>326139</td>\n",
       "    </tr>\n",
       "    <tr>\n",
       "      <th>3</th>\n",
       "      <td>Sunday</td>\n",
       "      <td>309264</td>\n",
       "    </tr>\n",
       "    <tr>\n",
       "      <th>4</th>\n",
       "      <td>Thursday</td>\n",
       "      <td>323885</td>\n",
       "    </tr>\n",
       "    <tr>\n",
       "      <th>5</th>\n",
       "      <td>Tuesday</td>\n",
       "      <td>325467</td>\n",
       "    </tr>\n",
       "    <tr>\n",
       "      <th>6</th>\n",
       "      <td>Wednesday</td>\n",
       "      <td>327674</td>\n",
       "    </tr>\n",
       "  </tbody>\n",
       "</table>\n",
       "</div>"
      ],
      "text/plain": [
       "         Day   Count\n",
       "0     Friday  342109\n",
       "1     Monday  321298\n",
       "2   Saturday  326139\n",
       "3     Sunday  309264\n",
       "4   Thursday  323885\n",
       "5    Tuesday  325467\n",
       "6  Wednesday  327674"
      ]
     },
     "execution_count": 60,
     "metadata": {},
     "output_type": "execute_result"
    }
   ],
   "source": [
    "# Count the number of crimes per day\n",
    "crime_counts_per_day = c_crime_df['Day'].value_counts().sort_index().rename('Count').reset_index()\n",
    "print(f'The daily Crime rate are as follow: ')\n",
    "crime_counts_per_day"
   ]
  },
  {
   "cell_type": "code",
   "execution_count": 61,
   "id": "fe997a47",
   "metadata": {
    "ExecuteTime": {
     "end_time": "2024-03-26T14:25:36.990299Z",
     "start_time": "2024-03-26T14:25:36.550277Z"
    }
   },
   "outputs": [
    {
     "name": "stdout",
     "output_type": "stream",
     "text": [
      "The top 5 most common crime types are Primary Type\n",
      "THEFT              479153\n",
      "BATTERY            418647\n",
      "CRIMINAL DAMAGE    259959\n",
      "NARCOTICS          222861\n",
      "ASSAULT            147662\n",
      "Name: count, dtype: int64\n"
     ]
    }
   ],
   "source": [
    "# What are the top 5 most common crime types?\n",
    "common_crime = c_crime_df['Primary Type'].value_counts().head()\n",
    "print(f'The top 5 most common crime types are {common_crime}')"
   ]
  },
  {
   "cell_type": "code",
   "execution_count": 62,
   "id": "98cbb72a",
   "metadata": {
    "ExecuteTime": {
     "end_time": "2024-03-26T14:27:49.610583Z",
     "start_time": "2024-03-26T14:27:49.273555Z"
    }
   },
   "outputs": [
    {
     "name": "stdout",
     "output_type": "stream",
     "text": [
      "Most common location description for crimes: STREET\n"
     ]
    }
   ],
   "source": [
    "# what is the most common location description for crimes?\n",
    "print(\"Most common location description for crimes:\",c_crime_df['Location Description'].mode()[0])"
   ]
  },
  {
   "cell_type": "code",
   "execution_count": 63,
   "id": "372d3784",
   "metadata": {
    "ExecuteTime": {
     "end_time": "2024-03-26T14:37:11.689805Z",
     "start_time": "2024-03-26T14:37:11.456215Z"
    }
   },
   "outputs": [
    {
     "name": "stdout",
     "output_type": "stream",
     "text": [
      "Top 10 most crime in 2021: \n"
     ]
    },
    {
     "data": {
      "text/plain": [
       "Primary Type\n",
       "THEFT                  12313\n",
       "BATTERY                12017\n",
       "CRIMINAL DAMAGE         7571\n",
       "ASSAULT                 6134\n",
       "DECEPTIVE PRACTICE      4905\n",
       "OTHER OFFENSE           4120\n",
       "MOTOR VEHICLE THEFT     3163\n",
       "WEAPONS VIOLATION       2752\n",
       "ROBBERY                 2407\n",
       "BURGLARY                1978\n",
       "Name: count, dtype: int64"
      ]
     },
     "execution_count": 63,
     "metadata": {},
     "output_type": "execute_result"
    }
   ],
   "source": [
    "# what are the top 10 most common crimes in 2021?\n",
    "crime_2021 = c_crime_df[c_crime_df['Year'] == 2021]\n",
    "print(\"Top 10 most crime in 2021: \")\n",
    "crime_2021['Primary Type'].value_counts().head(10)"
   ]
  },
  {
   "cell_type": "code",
   "execution_count": 64,
   "id": "bf9e9dbb",
   "metadata": {
    "ExecuteTime": {
     "end_time": "2024-03-26T14:37:22.882908Z",
     "start_time": "2024-03-26T14:37:22.841456Z"
    }
   },
   "outputs": [
    {
     "name": "stdout",
     "output_type": "stream",
     "text": [
      "Number of crimes reported each month in 2021:\n"
     ]
    },
    {
     "data": {
      "text/plain": [
       "Month\n",
       "April        4609\n",
       "August       5590\n",
       "December     5197\n",
       "February     3851\n",
       "January      4848\n",
       "July         5630\n",
       "June         5585\n",
       "March        4839\n",
       "May          5478\n",
       "November     5127\n",
       "October      5809\n",
       "September    5721\n",
       "Name: count, dtype: int64"
      ]
     },
     "execution_count": 64,
     "metadata": {},
     "output_type": "execute_result"
    }
   ],
   "source": [
    "# How many crimes were reported each month in 2021 ?\n",
    "monthly_crime_2021 = crime_2021['Month'].value_counts().sort_index()\n",
    "print('Number of crimes reported each month in 2021:')\n",
    "monthly_crime_2021"
   ]
  },
  {
   "cell_type": "code",
   "execution_count": null,
   "id": "1a1517bd",
   "metadata": {},
   "outputs": [],
   "source": []
  },
  {
   "cell_type": "markdown",
   "id": "dfd0f0fa",
   "metadata": {},
   "source": [
    "8. **Top 10 - Number of cases each day**"
   ]
  },
  {
   "cell_type": "code",
   "execution_count": null,
   "id": "3cdd90db",
   "metadata": {
    "ExecuteTime": {
     "end_time": "2024-03-26T14:07:11.672625Z",
     "start_time": "2024-03-26T14:07:10.445980Z"
    }
   },
   "outputs": [],
   "source": [
    "# Top 10 - Number of cases each day?\n",
    "\n",
    "top_10_num_of_cases_each_day = c_crime_df.groupby(['Date'])['Case Number'].count().reset_index(name = 'no_of_cases').set_index('no_of_cases').sort_index(ascending = False)[:10]\n",
    "top_10_num_of_cases_each_day"
   ]
  },
  {
   "cell_type": "code",
   "execution_count": null,
   "id": "47e6c263",
   "metadata": {},
   "outputs": [],
   "source": []
  },
  {
   "cell_type": "code",
   "execution_count": null,
   "id": "86c21002",
   "metadata": {},
   "outputs": [],
   "source": []
  },
  {
   "cell_type": "markdown",
   "id": "1c4cbc7d",
   "metadata": {},
   "source": [
    "## Graphical"
   ]
  },
  {
   "cell_type": "code",
   "execution_count": null,
   "id": "AX6fNCZIlC7l",
   "metadata": {
    "ExecuteTime": {
     "end_time": "2024-03-26T13:55:09.154504Z",
     "start_time": "2024-03-26T13:55:06.388247Z"
    },
    "colab": {
     "base_uri": "https://localhost:8080/",
     "height": 816
    },
    "id": "AX6fNCZIlC7l",
    "outputId": "8d0b8ae9-7ab7-4451-8cb3-ba5da39cc8e2"
   },
   "outputs": [],
   "source": [
    "crime_counts_per_year = c_crime_df['Year'].value_counts().sort_index()\n",
    "# Plotting\n",
    "plt.figure(figsize=(20, 13))\n",
    "crime_counts_per_year.plot(kind='bar',fontsize = 15)\n",
    "plt.title('Trend of Crimes in Chicago from 2001 to 2022', fontsize = 30)\n",
    "plt.xlabel('Year',fontsize = 20)\n",
    "plt.ylabel('Number of Crimes',fontsize = 20)\n",
    "plt.xticks(rotation=45)\n",
    "plt.grid(axis='y', linestyle='--', alpha=0.7)\n",
    "plt.tight_layout()\n",
    "plt.show()"
   ]
  },
  {
   "cell_type": "markdown",
   "id": "7c271bd3",
   "metadata": {},
   "source": [
    "**Observations:**\n",
    "\n",
    "1. The crime rate is dropping overall.\n",
    "2. In 2001,number of crime incidents were close to 150k.\n",
    "3. In 2022 ,it's estimate to be 36k , so it's a major drop in crime.\n",
    "4. By 2023 we expect a major drop down to an estimate of 10k"
   ]
  },
  {
   "cell_type": "markdown",
   "id": "RoARopMslmyR",
   "metadata": {
    "id": "RoARopMslmyR"
   },
   "source": [
    "5. **Number of crimes by month**\n",
    "\n",
    "how many records we have for each month ?\n",
    "\n",
    "\n",
    "\n"
   ]
  },
  {
   "cell_type": "code",
   "execution_count": null,
   "id": "0bb4c50f",
   "metadata": {
    "ExecuteTime": {
     "end_time": "2024-03-26T14:00:20.021342Z",
     "start_time": "2024-03-26T14:00:19.145386Z"
    }
   },
   "outputs": [],
   "source": [
    "crime_counts_per_month = c_crime_df['Month'].value_counts().sort_index()\n",
    "# Plotting\n",
    "plt.figure(figsize=(20, 13))\n",
    "crime_counts_per_month.plot(kind='bar',fontsize = 20)\n",
    "plt.title('Monthly Trend of Crimes in Chicago', fontsize = 30)\n",
    "plt.xlabel('Months',fontsize = 20)\n",
    "plt.ylabel('Number of Crimes',fontsize = 20)\n",
    "plt.xticks(rotation=45)\n",
    "plt.grid(axis='y', linestyle='--', alpha=0.7)\n",
    "plt.tight_layout()\n",
    "plt.show()"
   ]
  },
  {
   "cell_type": "code",
   "execution_count": null,
   "id": "g6XolEacgtVZ",
   "metadata": {
    "ExecuteTime": {
     "end_time": "2024-03-26T14:00:52.803785Z",
     "start_time": "2024-03-26T14:00:52.787539Z"
    },
    "colab": {
     "base_uri": "https://localhost:8080/",
     "height": 607
    },
    "id": "g6XolEacgtVZ",
    "outputId": "21596ae6-d919-4a01-a0bb-53b1a4459d00"
   },
   "outputs": [],
   "source": [
    "\n",
    "# monthly_crime_count = c_crime_df.resample(\"M\"  , on = 'Date').size()\n",
    "\n",
    "# # Create a line plot.\n",
    "\n",
    "# plt.figure(figsize = (10,6))\n",
    "# plt.plot(monthly_crime_count.index , monthly_crime_count.values , marker = 'o')\n",
    "# plt.xlabel(\"Date\")\n",
    "# plt.ylabel(\"Number of crime incidents\")\n",
    "# plt.title(\"Monthly Crime Trends in Chicago\")\n",
    "# plt.xticks(rotation = 45)\n",
    "# plt.tight_layout()\n",
    "# plt.show()\n"
   ]
  },
  {
   "cell_type": "markdown",
   "id": "3w5uo4j9SrnL",
   "metadata": {
    "id": "3w5uo4j9SrnL"
   },
   "source": [
    "This chart clearly shows a \"periodic\" pattern in the crimes over many years, which shows why crimes are very predictable activity.\n",
    "\n",
    "**Observations:**\n",
    "- From the figure above, its observed that FEBRUARY recorded the least amount of crime cases and JULY is the month where crimes are comitted the most."
   ]
  },
  {
   "cell_type": "markdown",
   "id": "ccb172e3",
   "metadata": {},
   "source": [
    "6. **Number of crimes by Season**\n",
    "\n",
    "how many records we have for each season ?"
   ]
  },
  {
   "cell_type": "code",
   "execution_count": null,
   "id": "3a9dbfe7",
   "metadata": {
    "ExecuteTime": {
     "end_time": "2024-03-26T14:04:32.202363Z",
     "start_time": "2024-03-26T14:04:31.431701Z"
    }
   },
   "outputs": [],
   "source": [
    "crime_counts_per_season = c_crime_df['Season'].value_counts().sort_index()\n",
    "# Plotting\n",
    "plt.figure(figsize=(20, 13))\n",
    "crime_counts_per_season.plot(kind='bar',fontsize = 25)\n",
    "plt.title('Seasonal Trend of Crimes in Chicago', fontsize = 30)\n",
    "plt.xlabel('Season',fontsize = 20)\n",
    "plt.ylabel('Number of Crimes',fontsize = 20)\n",
    "plt.xticks(rotation=45)\n",
    "plt.grid(axis='y', linestyle='--', alpha=0.7)\n",
    "plt.tight_layout()\n",
    "plt.show()"
   ]
  },
  {
   "cell_type": "code",
   "execution_count": null,
   "id": "67ef8be9",
   "metadata": {
    "ExecuteTime": {
     "end_time": "2024-03-26T14:05:44.445028Z",
     "start_time": "2024-03-26T14:05:43.632387Z"
    }
   },
   "outputs": [],
   "source": [
    "crime_counts_per_day = c_crime_df['Day'].value_counts().sort_index()\n",
    "# Plotting\n",
    "plt.figure(figsize=(20, 13))\n",
    "crime_counts_per_day.plot(kind='bar',fontsize = 25)\n",
    "plt.title('Daily Trend of Crimes in Chicago', fontsize = 30)\n",
    "plt.xlabel('Day',fontsize = 20)\n",
    "plt.ylabel('Number of Crimes',fontsize = 20)\n",
    "plt.xticks(rotation=45)\n",
    "plt.grid(axis='y', linestyle='--', alpha=0.7)\n",
    "plt.tight_layout()\n",
    "plt.show()"
   ]
  },
  {
   "cell_type": "code",
   "execution_count": null,
   "id": "16cdbf6a",
   "metadata": {
    "ExecuteTime": {
     "end_time": "2024-03-26T14:07:55.059100Z",
     "start_time": "2024-03-26T14:07:54.480073Z"
    },
    "colab": {
     "base_uri": "https://localhost:8080/",
     "height": 472
    },
    "id": "16cdbf6a",
    "outputId": "28938fee-3814-4bd0-c0b9-abd0173a8fa1"
   },
   "outputs": [],
   "source": [
    "# Top 10 - Number of cases each day\n",
    "top_10_num_of_cases_each_day_df = pd.DataFrame(top_10_num_of_cases_each_day)\n",
    "index_df = top_10_num_of_cases_each_day_df.index\n",
    "\n",
    "sns.barplot(x = index_df , y = 'Date' , data = top_10_num_of_cases_each_day_df)\n",
    "plt.title(\"Top 10 - Number of cases each day - Bar plot\")\n",
    "plt.xlabel(\"Number of Cases\")\n",
    "plt.ylabel(\"Date\")\n",
    "plt.show()"
   ]
  },
  {
   "cell_type": "markdown",
   "id": "c1c9406b",
   "metadata": {
    "ExecuteTime": {
     "end_time": "2024-03-26T14:09:57.857585Z",
     "start_time": "2024-03-26T14:09:56.825613Z"
    }
   },
   "source": [
    "**Observation**: The average Number of cases per day could be less than 60\n"
   ]
  },
  {
   "cell_type": "markdown",
   "id": "da9b2502",
   "metadata": {
    "id": "da9b2502"
   },
   "source": [
    "7. __Number of crime by type__</br>\n",
    "We try to indentify the trend and highpoints or lowpoints."
   ]
  },
  {
   "cell_type": "code",
   "execution_count": null,
   "id": "530d94f9",
   "metadata": {
    "ExecuteTime": {
     "end_time": "2024-03-26T14:16:36.511399Z",
     "start_time": "2024-03-26T14:16:36.094798Z"
    },
    "colab": {
     "base_uri": "https://localhost:8080/",
     "height": 542
    },
    "id": "530d94f9",
    "outputId": "c2636f91-3767-4a01-e30c-cf24aaddce49"
   },
   "outputs": [],
   "source": [
    "# Function to plot the serie value_counts\n",
    "def plot_counts(serie, title):\n",
    "    df = pd.DataFrame(serie.value_counts()[:10])\n",
    "    df.columns = [\"Freq\"]\n",
    "    df[\"Type\"] = df.index\n",
    "    fig = px.bar(df, y=\"Freq\", x=\"Type\", text=\"Freq\", color=\"Freq\", color_continuous_scale=px.colors.sequential.Blugrn)\n",
    "    fig.update_traces(texttemplate=\"%{text:.2s}\", textposition=\"outside\")\n",
    "    fig.update_layout(uniformtext_minsize=8, uniformtext_mode=\"hide\")\n",
    "    fig.update_layout(title_text=title)\n",
    "    fig.show()\n",
    "\n",
    "\n",
    "plot_counts(c_crime_df[\"Primary Type\"], \"Type of Crimes\")"
   ]
  },
  {
   "cell_type": "markdown",
   "id": "2ee8b340",
   "metadata": {
    "id": "2ee8b340"
   },
   "source": [
    "Observation: THEFT, BATTERY, CRIMINAL DAMAGE and NARCOTICS represents more the 65% of the crimes."
   ]
  },
  {
   "cell_type": "markdown",
   "id": "3fc29c42",
   "metadata": {
    "id": "3fc29c42"
   },
   "source": [
    "8. __Where does crimes happens the most?__"
   ]
  },
  {
   "cell_type": "code",
   "execution_count": null,
   "id": "f1a40772",
   "metadata": {
    "ExecuteTime": {
     "end_time": "2024-03-26T14:16:48.058217Z",
     "start_time": "2024-03-26T14:16:47.633183Z"
    },
    "colab": {
     "base_uri": "https://localhost:8080/",
     "height": 542
    },
    "id": "f1a40772",
    "outputId": "8bc38118-ccbe-4150-dbc7-09d6441843ea"
   },
   "outputs": [],
   "source": [
    "plot_counts(c_crime_df[\"Location Description\"], \"Location of Crimes\")"
   ]
  },
  {
   "cell_type": "markdown",
   "id": "a0fd327c",
   "metadata": {
    "id": "a0fd327c"
   },
   "source": [
    "Crime happens mostly on the street"
   ]
  },
  {
   "cell_type": "markdown",
   "id": "f2d7899a",
   "metadata": {
    "id": "f2d7899a"
   },
   "source": [
    "9. __Number of crimes per Year x Months__ </br>\n",
    "Let's see the number of crimes per Year and Months..."
   ]
  },
  {
   "cell_type": "code",
   "execution_count": null,
   "id": "d370fd23",
   "metadata": {
    "ExecuteTime": {
     "start_time": "2024-03-24T18:55:52.207Z"
    },
    "id": "d370fd23"
   },
   "outputs": [],
   "source": [
    "# first we convert the date column to datetime data type.\n",
    "\n",
    "c_crime_df['Date'] = pd.to_datetime(chicago_crime_df['Date'],format = \"%m/%d/%Y %I:%M:%S %p\")\n",
    "c_crime_df.set_index(\"Date\", inplace=True)"
   ]
  },
  {
   "cell_type": "code",
   "execution_count": null,
   "id": "ba8d289b",
   "metadata": {
    "ExecuteTime": {
     "start_time": "2024-03-24T18:55:52.214Z"
    },
    "colab": {
     "base_uri": "https://localhost:8080/",
     "height": 238
    },
    "id": "ba8d289b",
    "outputId": "8ae3a1ff-a0eb-4923-80fc-22bac149b311"
   },
   "outputs": [],
   "source": [
    "cases = pd.DataFrame(c_crime_df.resample(\"M\").size(), columns=[\"Number of cases\"])\n",
    "cases[\"Month\"] = cases.index.month.astype(str)\n",
    "cases[\"Year\"] = cases.index.year.astype(str)\n",
    "cases[\"Year-Month\"] = cases[\"Year\"].str.cat(cases[\"Month\"].str.zfill(2), sep=\"-\")\n",
    "cases.head()"
   ]
  },
  {
   "cell_type": "markdown",
   "id": "f43979b6",
   "metadata": {
    "id": "f43979b6"
   },
   "source": [
    "BY HEATMAP"
   ]
  },
  {
   "cell_type": "code",
   "execution_count": null,
   "id": "f362a758",
   "metadata": {
    "ExecuteTime": {
     "start_time": "2024-03-24T18:55:52.222Z"
    },
    "colab": {
     "base_uri": "https://localhost:8080/",
     "height": 743
    },
    "id": "f362a758",
    "outputId": "a28f90cb-9b49-4462-ce27-a1e2628af04a"
   },
   "outputs": [],
   "source": [
    "case_table = cases[[\"Month\", \"Year\", \"Number of cases\"]]\n",
    "case_table  = case_table.pivot(index='Month', columns='Year', values='Number of cases').fillna(0).astype(int)\n",
    "case_table.index = case_table.index.astype(int)\n",
    "case_table = case_table.sort_index()\n",
    "case_table.index = ['Jan', 'Fev', 'Mar', 'Apr', 'May', 'Jun', 'Jul', 'Aug', 'Sep', 'Oct', 'Nov', 'Dec']\n",
    "plt.figure(figsize=(20, 10))\n",
    "_ = sns.heatmap(\n",
    "    case_table,\n",
    "    annot=True,\n",
    "    fmt=\"d\",\n",
    "    linewidths=0.5,\n",
    "    cmap=\"Blues\",\n",
    ").set_title('Number of crimes in chicago per Year x Months')"
   ]
  },
  {
   "cell_type": "markdown",
   "id": "71a11cf8",
   "metadata": {
    "id": "71a11cf8"
   },
   "source": [
    "The years between 2001 and 2012 were a tough time, the year 2008 was the worst with a mean of 71004 crimes per month, and the best year was the 2015 with a mean of 21916 crimes per month."
   ]
  },
  {
   "cell_type": "markdown",
   "id": "04d00bca",
   "metadata": {
    "id": "04d00bca"
   },
   "source": [
    "BY BAR"
   ]
  },
  {
   "cell_type": "code",
   "execution_count": null,
   "id": "70fe52f1",
   "metadata": {
    "ExecuteTime": {
     "start_time": "2024-03-24T18:55:52.238Z"
    },
    "colab": {
     "base_uri": "https://localhost:8080/",
     "height": 637
    },
    "id": "70fe52f1",
    "outputId": "1dc0d489-25c3-404a-b564-d0d6ca1d01e7"
   },
   "outputs": [],
   "source": [
    "fig = px.bar(\n",
    "    cases,\n",
    "    x=\"Year-Month\",\n",
    "    y=\"Number of cases\",\n",
    "    hover_data=[\"Year\", \"Month\", \"Number of cases\"],\n",
    "    color=\"Number of cases\",\n",
    "    height=600,\n",
    "    width=1400,\n",
    "    color_continuous_scale=px.colors.sequential.Blugrn\n",
    "\n",
    ")\n",
    "fig.update_layout(title_text='Crime counts per year-month in bars')\n",
    "fig.show()"
   ]
  },
  {
   "cell_type": "markdown",
   "id": "0b220954",
   "metadata": {
    "id": "0b220954"
   },
   "source": [
    "Similar graph but using bars to visualize though noisy but can be used. Again the 'tough time' during 2001 until 2012."
   ]
  },
  {
   "cell_type": "code",
   "execution_count": null,
   "id": "0b3cc17d",
   "metadata": {
    "id": "0b3cc17d"
   },
   "outputs": [],
   "source": []
  },
  {
   "cell_type": "markdown",
   "id": "289125bb",
   "metadata": {
    "id": "289125bb"
   },
   "source": [
    "10. **Are there specific location that crimes used to happen?**\n",
    "\n",
    "Using Map plot"
   ]
  },
  {
   "cell_type": "code",
   "execution_count": null,
   "id": "53e0bfbd",
   "metadata": {
    "ExecuteTime": {
     "start_time": "2024-03-24T18:55:52.252Z"
    },
    "colab": {
     "base_uri": "https://localhost:8080/",
     "height": 345
    },
    "id": "53e0bfbd",
    "outputId": "e272aa78-02b3-430a-9206-934be54b1ef0"
   },
   "outputs": [],
   "source": [
    "map_marks = chicago_crime_df[['Latitude', 'Longitude']]\n",
    "map_marks['Year'] =  pd.to_datetime(chicago_crime_df.Date, format=\"%m/%d/%Y %I:%M:%S %p\").dt.year\n",
    "map_marks.head()"
   ]
  },
  {
   "cell_type": "code",
   "execution_count": null,
   "id": "918baab8",
   "metadata": {
    "ExecuteTime": {
     "start_time": "2024-03-24T18:55:52.258Z"
    },
    "colab": {
     "base_uri": "https://localhost:8080/",
     "height": 667
    },
    "id": "918baab8",
    "outputId": "85c68362-f6f7-4339-c3cc-bcd3eeff1005"
   },
   "outputs": [],
   "source": [
    "fig = px.scatter_mapbox(map_marks[map_marks.Year == 2016].sample(5000), lat=\"Latitude\", lon=\"Longitude\",\n",
    "                        color_discrete_sequence=[\"fuchsia\"], zoom=9, height=650)\n",
    "fig.update_layout(mapbox_style=\"open-street-map\")\n",
    "fig.update_layout(margin={\"r\":0,\"t\":0,\"l\":0,\"b\":0})\n",
    "fig.show()"
   ]
  },
  {
   "cell_type": "markdown",
   "id": "c5648b20",
   "metadata": {
    "id": "c5648b20"
   },
   "source": [
    "Look like there is crime everywhere in Chicago, in the centre, you can see more points but also is a crowded place."
   ]
  },
  {
   "cell_type": "markdown",
   "id": "7063e9ec",
   "metadata": {
    "id": "7063e9ec"
   },
   "source": [
    "11. **What is the arrested rate per crime?**"
   ]
  },
  {
   "cell_type": "code",
   "execution_count": null,
   "id": "e70009a8",
   "metadata": {
    "ExecuteTime": {
     "start_time": "2024-03-24T18:55:52.269Z"
    },
    "colab": {
     "base_uri": "https://localhost:8080/",
     "height": 817
    },
    "id": "e70009a8",
    "outputId": "426aaa0f-7483-4939-e934-645efd1158b9"
   },
   "outputs": [],
   "source": [
    "cases = c_crime_df.groupby('Primary Type')['Arrest'].mean().reset_index()\n",
    "cases['Arrest (%)'] = cases['Arrest'].round(4)*100\n",
    "cases.sort_values('Arrest', inplace=True)\n",
    "fig = px.bar(\n",
    "    cases,\n",
    "    orientation='h',\n",
    "    x=\"Arrest (%)\",\n",
    "    y=\"Primary Type\",\n",
    "    color=\"Arrest (%)\",\n",
    "    text=\"Arrest (%)\",\n",
    "    height=800,\n",
    "    #width=800,\n",
    "        color_continuous_scale=px.colors.sequential.Blugrn\n",
    "\n",
    ")\n",
    "fig.update_traces(texttemplate=\"%{text:.4s}\", textposition=\"outside\")\n",
    "fig.update_layout(title_text=\"Arrested Rate in % per Type Crime in Chicago.\")\n",
    "\n",
    "fig.show()"
   ]
  },
  {
   "cell_type": "markdown",
   "id": "ea7e54a6",
   "metadata": {
    "id": "ea7e54a6"
   },
   "source": [
    "The “VIOLATION” crimes look strongly correlated to the arrested rate once the 'cop' must be present in the location to declare the violation."
   ]
  },
  {
   "cell_type": "markdown",
   "id": "jtX0AL4vjH8s",
   "metadata": {
    "id": "jtX0AL4vjH8s"
   },
   "source": [
    "12. **Top 10 Block with the most crime**"
   ]
  },
  {
   "cell_type": "code",
   "execution_count": null,
   "id": "oYGkAfZueHIp",
   "metadata": {
    "ExecuteTime": {
     "start_time": "2024-03-24T18:55:52.281Z"
    },
    "colab": {
     "base_uri": "https://localhost:8080/",
     "height": 816
    },
    "id": "oYGkAfZueHIp",
    "outputId": "2fd40872-c806-48aa-ef25-275c5a511c96"
   },
   "outputs": [],
   "source": [
    "# Group the data by 'Block' and count occurrences\n",
    "block_counts = chicago_crime_df['Block'].value_counts()\n",
    "\n",
    "# Select the top 10 blocks with the most crimes\n",
    "top_10_blocks = block_counts.head(10)\n",
    "\n",
    "# Plot the top 10 blocks\n",
    "top_10_blocks.plot(kind='bar', figsize = (20,13), fontsize = 15)\n",
    "plt.title('Top 10 Blocks with Most Crime in Chicago',fontsize=30)\n",
    "plt.xlabel('Block', fontsize=20)\n",
    "plt.ylabel('Number of Crimes',fontsize=20)\n",
    "plt.xticks(rotation=90, ha='right')\n",
    "plt.tight_layout()\n",
    "plt.show()"
   ]
  },
  {
   "cell_type": "markdown",
   "id": "D1oHhRtBgX5M",
   "metadata": {
    "id": "D1oHhRtBgX5M"
   },
   "source": [
    "13. **Top - 10 Ward with most amount of crimes**"
   ]
  },
  {
   "cell_type": "code",
   "execution_count": null,
   "id": "pUccbMqLfFMn",
   "metadata": {
    "ExecuteTime": {
     "start_time": "2024-03-24T18:55:52.289Z"
    },
    "colab": {
     "base_uri": "https://localhost:8080/",
     "height": 816
    },
    "id": "pUccbMqLfFMn",
    "outputId": "fc8b5143-b3b7-4631-ee9d-db13cb7ae714"
   },
   "outputs": [],
   "source": [
    "# Group by 'Ward' and count the occurrences of crimes in each ward\n",
    "ward_crime_counts = chicago_crime_df['Ward'].value_counts()\n",
    "\n",
    "# Select the top 10 wards\n",
    "top_10_wards = ward_crime_counts.head(10)\n",
    "\n",
    "# Plot the data\n",
    "top_10_wards.plot(kind='bar', figsize = (20,13), fontsize = 15)\n",
    "plt.title('Top 10 Wards with the Most Amount of Crimes', fontsize = 30)\n",
    "plt.xlabel('Ward', fontsize = 20)\n",
    "plt.ylabel('Number of Crimes', fontsize = 20)\n",
    "plt.xticks(rotation=45)\n",
    "plt.tight_layout()\n",
    "plt.show()"
   ]
  },
  {
   "cell_type": "markdown",
   "id": "JMGQcbOqg52-",
   "metadata": {
    "id": "JMGQcbOqg52-"
   },
   "source": [
    "14. **Top - 10 community area with the most amount of crimes**\n",
    "\n",
    "\n"
   ]
  },
  {
   "cell_type": "code",
   "execution_count": null,
   "id": "TB_2igumd1Jr",
   "metadata": {
    "ExecuteTime": {
     "start_time": "2024-03-24T18:55:52.294Z"
    },
    "colab": {
     "base_uri": "https://localhost:8080/",
     "height": 958
    },
    "id": "TB_2igumd1Jr",
    "outputId": "08f86414-5e06-4ecb-8124-c5b737bbab78"
   },
   "outputs": [],
   "source": [
    "# Group the data by community area and count the number of crimes\n",
    "community_crime_count = c_crime_df['Community Area'].value_counts().reset_index()\n",
    "community_crime_count.columns = ['Community Area', 'Crime Count']\n",
    "\n",
    "# Sort the data to find the top 10 community areas with the most crimes\n",
    "top_10_community_crime = community_crime_count.head(10)\n",
    "\n",
    "# Visualize the top 10 community areas with the most crimes\n",
    "plt.figure(figsize=(20, 13))\n",
    "sns.barplot(x='Community Area', y='Crime Count', data=top_10_community_crime, palette='viridis')\n",
    "plt.title('Top 10 Community Areas with the Most Crimes in Chicago', fontsize = 30)\n",
    "plt.xlabel('Community Area',fontsize = 20)\n",
    "plt.ylabel('Number of Crimes', fontsize = 20)\n",
    "plt.xticks(rotation=45)\n",
    "plt.tight_layout()\n",
    "plt.show()"
   ]
  },
  {
   "cell_type": "markdown",
   "id": "QWzNfbrnhz2H",
   "metadata": {
    "id": "QWzNfbrnhz2H"
   },
   "source": [
    "15. **Top - 10 communities with the most crime in 2023**"
   ]
  },
  {
   "cell_type": "code",
   "execution_count": null,
   "id": "pundF7BPdX30",
   "metadata": {
    "ExecuteTime": {
     "start_time": "2024-03-24T18:55:52.303Z"
    },
    "colab": {
     "base_uri": "https://localhost:8080/",
     "height": 816
    },
    "id": "pundF7BPdX30",
    "outputId": "9c21857f-c290-47cc-c717-6cc5f17b9637"
   },
   "outputs": [],
   "source": [
    "# Filter the dataset for the year 2023\n",
    "chicago_crime_2023 = c_crime_df[c_crime_df['Year'] == 2023]\n",
    "\n",
    "# Group by community and count the number of crimes\n",
    "crime_by_community = chicago_crime_2023['Community Area'].value_counts().sort_values(ascending=False)\n",
    "\n",
    "# Select the top 10 communities with the most crime\n",
    "top_10_communities = crime_by_community.head(10)\n",
    "\n",
    "# Plot the top 10 communities with the most crime\n",
    "plt.figure(figsize=(20, 13))\n",
    "top_10_communities.plot(kind='bar', fontsize = 15)\n",
    "plt.title('Top 10 Communities with the Most Crime in 2023', fontsize = 30)\n",
    "plt.xlabel('Community Area',fontsize = 20)\n",
    "plt.ylabel('Number of Crimes',fontsize = 20)\n",
    "plt.xticks(rotation=45)\n",
    "plt.tight_layout()\n",
    "plt.show()"
   ]
  },
  {
   "cell_type": "markdown",
   "id": "BUvAGS4gjjG7",
   "metadata": {
    "id": "BUvAGS4gjjG7"
   },
   "source": [
    "16. **Top - 10 Location  where theft normally occurs**"
   ]
  },
  {
   "cell_type": "code",
   "execution_count": null,
   "id": "0jsgMRGoiVRz",
   "metadata": {
    "ExecuteTime": {
     "start_time": "2024-03-24T18:55:52.308Z"
    },
    "colab": {
     "base_uri": "https://localhost:8080/",
     "height": 816
    },
    "id": "0jsgMRGoiVRz",
    "outputId": "cee7571c-a96e-4b7a-9b94-f1a61bafc915"
   },
   "outputs": [],
   "source": [
    "# Filter the dataset to include only theft-related incidents\n",
    "theft_df = chicago_crime_df[chicago_crime_df['Primary Type'] == 'THEFT']\n",
    "\n",
    "# Count the occurrences of theft incidents at each location\n",
    "theft_locations_count = theft_df['Location Description'].value_counts()\n",
    "\n",
    "# Get the top 10 locations\n",
    "top_10_theft_locations = theft_locations_count.head(10)\n",
    "\n",
    "# Plot the top 10 theft locations\n",
    "plt.figure(figsize=(20, 13))\n",
    "top_10_theft_locations.plot(kind='bar',fontsize = 15)\n",
    "plt.title('Top 10 Locations for Theft in Chicago',fontsize = 30)\n",
    "plt.xlabel('Location',fontsize = 20)\n",
    "plt.ylabel('Number of Incidents', fontsize = 20)\n",
    "plt.xticks(rotation=45, ha='right')\n",
    "plt.tight_layout()\n",
    "plt.show()"
   ]
  },
  {
   "cell_type": "markdown",
   "id": "w-ReUCiikM9R",
   "metadata": {
    "id": "w-ReUCiikM9R"
   },
   "source": [
    "17. **Top-15 crime where arrest occured**"
   ]
  },
  {
   "cell_type": "code",
   "execution_count": null,
   "id": "8tsSNfJpkOCg",
   "metadata": {
    "ExecuteTime": {
     "start_time": "2024-03-24T18:55:52.313Z"
    },
    "colab": {
     "base_uri": "https://localhost:8080/",
     "height": 606
    },
    "id": "8tsSNfJpkOCg",
    "outputId": "90c3ee0a-9fe7-45a3-c160-6c31c2f72f20"
   },
   "outputs": [],
   "source": [
    "ax = c_crime_df[c_crime_df['Arrest'] == True].value_counts(\"Primary Type\")[:15]\\\n",
    "    .plot(kind = 'barh',\n",
    "          figsize = (20,13),\n",
    "          fontsize = 30)\n",
    "ax.set_ylabel(\"Type of Crime\", fontsize=20)\n",
    "ax.set_xlabel(\"Count\", fontsize=20)\n",
    "ax.set_title(\"Top 15 crimes were arrests occured\", fontsize=30)\n",
    "plt.show()\n"
   ]
  },
  {
   "cell_type": "code",
   "execution_count": null,
   "id": "o5BFjQ_1fxOX",
   "metadata": {
    "id": "o5BFjQ_1fxOX"
   },
   "outputs": [],
   "source": []
  },
  {
   "cell_type": "code",
   "execution_count": null,
   "id": "zFC1UEMffxBF",
   "metadata": {
    "id": "zFC1UEMffxBF"
   },
   "outputs": [],
   "source": []
  }
 ],
 "metadata": {
  "colab": {
   "provenance": []
  },
  "kernelspec": {
   "display_name": "Python 3 (ipykernel)",
   "language": "python",
   "name": "python3"
  },
  "language_info": {
   "codemirror_mode": {
    "name": "ipython",
    "version": 3
   },
   "file_extension": ".py",
   "mimetype": "text/x-python",
   "name": "python",
   "nbconvert_exporter": "python",
   "pygments_lexer": "ipython3",
   "version": "3.11.7"
  },
  "toc": {
   "base_numbering": 1,
   "nav_menu": {},
   "number_sections": true,
   "sideBar": true,
   "skip_h1_title": false,
   "title_cell": "Table of Contents",
   "title_sidebar": "Contents",
   "toc_cell": false,
   "toc_position": {},
   "toc_section_display": true,
   "toc_window_display": false
  },
  "varInspector": {
   "cols": {
    "lenName": 16,
    "lenType": 16,
    "lenVar": 40
   },
   "kernels_config": {
    "python": {
     "delete_cmd_postfix": "",
     "delete_cmd_prefix": "del ",
     "library": "var_list.py",
     "varRefreshCmd": "print(var_dic_list())"
    },
    "r": {
     "delete_cmd_postfix": ") ",
     "delete_cmd_prefix": "rm(",
     "library": "var_list.r",
     "varRefreshCmd": "cat(var_dic_list()) "
    }
   },
   "types_to_exclude": [
    "module",
    "function",
    "builtin_function_or_method",
    "instance",
    "_Feature"
   ],
   "window_display": false
  }
 },
 "nbformat": 4,
 "nbformat_minor": 5
}
