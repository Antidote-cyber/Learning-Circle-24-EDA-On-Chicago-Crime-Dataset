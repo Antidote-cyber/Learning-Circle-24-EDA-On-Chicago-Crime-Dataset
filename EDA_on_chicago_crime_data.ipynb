{
 "cells": [
  {
   "cell_type": "markdown",
   "id": "547ae1a6",
   "metadata": {
    "id": "547ae1a6"
   },
   "source": [
    "_LEARNING-CIRCLE-24 PROJECT_"
   ]
  },
  {
   "cell_type": "markdown",
   "id": "0dad4ee9",
   "metadata": {
    "id": "0dad4ee9"
   },
   "source": [
    "<h2> Learning-Circle-24 </h2> <p>  Contributors </p>\n",
    "\n"
   ]
  },
  {
   "cell_type": "markdown",
   "id": "ebc10ba9",
   "metadata": {
    "id": "ebc10ba9"
   },
   "source": [
    "# **Crime in Chicago**\n",
    "This is a dataset\n",
    "The data dictionary can be found in [Chicago Crime Portal](https://data.cityofchicago.org/Public-Safety/Crimes-2001-to-Present/ijzp-q8t2/about_data)\n",
    "\n",
    "In this notebook, we are going to explore more about crime in Chicago and try to answer few questions."
   ]
  },
  {
   "cell_type": "markdown",
   "id": "ad32ee5f",
   "metadata": {
    "id": "ad32ee5f"
   },
   "source": [
    "Analyzing the Chicago crime dataset involves examining various aspects of the data to understand patterns, trends, and characteristics of criminal activities in Chicago. We perform analysis using Python, pandas and visualization libraries using the following steps:\n",
    "\n",
    "1. Load the Dataset: Load the Chicago crime dataset into a DataFrame.\n",
    "2. Explore the Dataset: Examine the structure, columns, and basic statistics of the dataset.\n",
    "3. Data Preprocessing: We cleaned the data by dropping redundant columns,handling missing values and converting columns to their appropriate format.\n",
    "4. Feature Engineering: Create new column for Months, Day, Season\n",
    "5. EDA: Exploratory Data Analysis\n",
    "    - What is the total number of cases recorded from 2001 till date?\n",
    "    - what is the number of crime per year?\n",
    "    - What is the number of crime per month?\n",
    "    - Top 10 number of cases discovered each day?\n",
    "    - What is the trend of crime by type?\n",
    "    - Where does crimes happen the most?\n",
    "    - What is the number of crime discovered by month and year?\n",
    "    - Are there specific location that crimes used to happen?\n",
    "    - What is the arrested rate per crime?\n",
    "    - Top 10 Block with the most crime?\n",
    "    - Top 10 ward with most amount of crimes?\n",
    "    - Top 10 community area with the most amount of crimes?\n",
    "    - Top 10 communities with the most crime in 2023?\n",
    "    - Top 10 Location where theft normally occurs?\n",
    "    - Top-15 crime where arrest occured?\n",
    "    - How has crime in Chicago changed across years? Was 2023 really the bloodiest year in two decades?\n",
    "    - Are some types of crimes more likely to happen in specific locations or specific time of the day or specific day of the week than other types of        crimes?\n",
    "    - In which month did the lowest motor vehicle thefts occur?\n",
    "    - How prominant are certain types of various crimes?\n",
    "    - How do rates of crime change of time? For instance, are there any seasonal effects or changes depending on the time ofday?\n",
    "    - Where do these crimes occur? Are some areas more safe than others?\n",
    "6. Summarize and Visualize Insights: Summarize and Visualize the key insights and findings from the analysis using plots and charts."
   ]
  },
  {
   "cell_type": "code",
   "execution_count": 2,
   "id": "9a24d3c5",
   "metadata": {
    "ExecuteTime": {
     "end_time": "2024-03-24T20:06:40.584639Z",
     "start_time": "2024-03-24T20:06:40.554286Z"
    },
    "id": "9a24d3c5"
   },
   "outputs": [],
   "source": [
    "# importing required libraries\n",
    "import pandas as pd\n",
    "import seaborn as sns\n",
    "import plotly.express as px\n",
    "import matplotlib.pyplot as plt\n",
    "%matplotlib inline"
   ]
  },
  {
   "cell_type": "code",
   "execution_count": 3,
   "id": "e33a0ba2",
   "metadata": {
    "ExecuteTime": {
     "end_time": "2024-03-24T20:06:41.918758Z",
     "start_time": "2024-03-24T20:06:41.896742Z"
    },
    "id": "e33a0ba2"
   },
   "outputs": [],
   "source": [
    "# Set display option\n",
    "pd.set_option('display.max.columns', None)"
   ]
  },
  {
   "cell_type": "markdown",
   "id": "282ac4ea",
   "metadata": {
    "ExecuteTime": {
     "end_time": "2024-03-02T06:10:29.749123Z",
     "start_time": "2024-03-02T06:10:29.698866Z"
    },
    "id": "282ac4ea"
   },
   "source": [
    "# 1. Loading the dataset"
   ]
  },
  {
   "cell_type": "code",
   "execution_count": 4,
   "id": "baad012f",
   "metadata": {
    "ExecuteTime": {
     "end_time": "2024-03-24T20:07:07.776511Z",
     "start_time": "2024-03-24T20:06:43.488925Z"
    },
    "id": "baad012f"
   },
   "outputs": [],
   "source": [
    "# Load the dataset\n",
    "chicago_crime_df= pd.read_csv('../Data-Science-Projects/dataset/crime_data_chicago.csv')"
   ]
  },
  {
   "cell_type": "markdown",
   "id": "46015508",
   "metadata": {
    "id": "46015508"
   },
   "source": [
    "# 2. Explore the dataset"
   ]
  },
  {
   "cell_type": "code",
   "execution_count": 5,
   "id": "40a1c122",
   "metadata": {
    "ExecuteTime": {
     "end_time": "2024-03-24T20:07:26.112183Z",
     "start_time": "2024-03-24T20:07:26.084781Z"
    },
    "colab": {
     "base_uri": "https://localhost:8080/"
    },
    "id": "40a1c122",
    "outputId": "56a8bfdc-6a99-4cd9-d693-dd18499cdc97"
   },
   "outputs": [
    {
     "data": {
      "text/plain": [
       "(2278726, 23)"
      ]
     },
     "execution_count": 5,
     "metadata": {},
     "output_type": "execute_result"
    }
   ],
   "source": [
    "#checking the dimension of the dataset\n",
    "chicago_crime_df.shape"
   ]
  },
  {
   "cell_type": "code",
   "execution_count": 6,
   "id": "821a0eb5",
   "metadata": {
    "ExecuteTime": {
     "end_time": "2024-03-24T20:07:27.218789Z",
     "start_time": "2024-03-24T20:07:26.870450Z"
    },
    "colab": {
     "base_uri": "https://localhost:8080/"
    },
    "id": "821a0eb5",
    "outputId": "87bbffb6-8ff7-4c6b-803b-887289ffb1fc"
   },
   "outputs": [
    {
     "data": {
      "text/plain": [
       "Index(['Unnamed: 0', 'ID', 'Case Number', 'Date', 'Block', 'IUCR',\n",
       "       'Primary Type', 'Description', 'Location Description', 'Arrest',\n",
       "       'Domestic', 'Beat', 'District', 'Ward', 'Community Area', 'FBI Code',\n",
       "       'X Coordinate', 'Y Coordinate', 'Year', 'Updated On', 'Latitude',\n",
       "       'Longitude', 'Location'],\n",
       "      dtype='object')"
      ]
     },
     "execution_count": 6,
     "metadata": {},
     "output_type": "execute_result"
    }
   ],
   "source": [
    "# Display the first five rows of the dataset\n",
    "chicago_crime_df.columns"
   ]
  },
  {
   "cell_type": "code",
   "execution_count": 7,
   "id": "6492c4d3",
   "metadata": {
    "ExecuteTime": {
     "end_time": "2024-03-24T20:07:27.973423Z",
     "start_time": "2024-03-24T20:07:27.407763Z"
    },
    "colab": {
     "base_uri": "https://localhost:8080/",
     "height": 487
    },
    "id": "6492c4d3",
    "outputId": "84f81f8a-deb1-485a-dcaa-fb0df84c6759"
   },
   "outputs": [
    {
     "data": {
      "text/html": [
       "<div>\n",
       "<style scoped>\n",
       "    .dataframe tbody tr th:only-of-type {\n",
       "        vertical-align: middle;\n",
       "    }\n",
       "\n",
       "    .dataframe tbody tr th {\n",
       "        vertical-align: top;\n",
       "    }\n",
       "\n",
       "    .dataframe thead th {\n",
       "        text-align: right;\n",
       "    }\n",
       "</style>\n",
       "<table border=\"1\" class=\"dataframe\">\n",
       "  <thead>\n",
       "    <tr style=\"text-align: right;\">\n",
       "      <th></th>\n",
       "      <th>Unnamed: 0</th>\n",
       "      <th>ID</th>\n",
       "      <th>Case Number</th>\n",
       "      <th>Date</th>\n",
       "      <th>Block</th>\n",
       "      <th>IUCR</th>\n",
       "      <th>Primary Type</th>\n",
       "      <th>Description</th>\n",
       "      <th>Location Description</th>\n",
       "      <th>Arrest</th>\n",
       "      <th>Domestic</th>\n",
       "      <th>Beat</th>\n",
       "      <th>District</th>\n",
       "      <th>Ward</th>\n",
       "      <th>Community Area</th>\n",
       "      <th>FBI Code</th>\n",
       "      <th>X Coordinate</th>\n",
       "      <th>Y Coordinate</th>\n",
       "      <th>Year</th>\n",
       "      <th>Updated On</th>\n",
       "      <th>Latitude</th>\n",
       "      <th>Longitude</th>\n",
       "      <th>Location</th>\n",
       "    </tr>\n",
       "  </thead>\n",
       "  <tbody>\n",
       "    <tr>\n",
       "      <th>0</th>\n",
       "      <td>0</td>\n",
       "      <td>6407111</td>\n",
       "      <td>HP485721</td>\n",
       "      <td>07/26/2008 02:30:00 PM</td>\n",
       "      <td>085XX S MUSKEGON AVE</td>\n",
       "      <td>1320</td>\n",
       "      <td>CRIMINAL DAMAGE</td>\n",
       "      <td>TO VEHICLE</td>\n",
       "      <td>STREET</td>\n",
       "      <td>False</td>\n",
       "      <td>False</td>\n",
       "      <td>423</td>\n",
       "      <td>4.0</td>\n",
       "      <td>10.0</td>\n",
       "      <td>46.0</td>\n",
       "      <td>14</td>\n",
       "      <td>1196638.0</td>\n",
       "      <td>1848800.0</td>\n",
       "      <td>2008</td>\n",
       "      <td>02/28/2018 03:56:25 PM</td>\n",
       "      <td>41.739980</td>\n",
       "      <td>-87.555120</td>\n",
       "      <td>(41.739979622, -87.555120042)</td>\n",
       "    </tr>\n",
       "    <tr>\n",
       "      <th>1</th>\n",
       "      <td>1</td>\n",
       "      <td>11398199</td>\n",
       "      <td>JB372830</td>\n",
       "      <td>07/31/2018 10:57:00 AM</td>\n",
       "      <td>092XX S ELLIS AVE</td>\n",
       "      <td>143C</td>\n",
       "      <td>WEAPONS VIOLATION</td>\n",
       "      <td>UNLAWFUL POSS AMMUNITION</td>\n",
       "      <td>POOL ROOM</td>\n",
       "      <td>True</td>\n",
       "      <td>False</td>\n",
       "      <td>413</td>\n",
       "      <td>4.0</td>\n",
       "      <td>8.0</td>\n",
       "      <td>47.0</td>\n",
       "      <td>15</td>\n",
       "      <td>1184499.0</td>\n",
       "      <td>1843935.0</td>\n",
       "      <td>2018</td>\n",
       "      <td>08/07/2018 04:02:59 PM</td>\n",
       "      <td>41.726922</td>\n",
       "      <td>-87.599747</td>\n",
       "      <td>(41.726922145, -87.599746995)</td>\n",
       "    </tr>\n",
       "    <tr>\n",
       "      <th>2</th>\n",
       "      <td>2</td>\n",
       "      <td>5488785</td>\n",
       "      <td>HN308568</td>\n",
       "      <td>04/27/2007 10:30:00 AM</td>\n",
       "      <td>062XX N TRIPP AVE</td>\n",
       "      <td>0610</td>\n",
       "      <td>BURGLARY</td>\n",
       "      <td>FORCIBLE ENTRY</td>\n",
       "      <td>RESIDENCE</td>\n",
       "      <td>True</td>\n",
       "      <td>False</td>\n",
       "      <td>1711</td>\n",
       "      <td>17.0</td>\n",
       "      <td>39.0</td>\n",
       "      <td>12.0</td>\n",
       "      <td>05</td>\n",
       "      <td>1146911.0</td>\n",
       "      <td>1941022.0</td>\n",
       "      <td>2007</td>\n",
       "      <td>02/28/2018 03:56:25 PM</td>\n",
       "      <td>41.994138</td>\n",
       "      <td>-87.734959</td>\n",
       "      <td>(41.994137622, -87.734959049)</td>\n",
       "    </tr>\n",
       "    <tr>\n",
       "      <th>3</th>\n",
       "      <td>3</td>\n",
       "      <td>11389116</td>\n",
       "      <td>JB361368</td>\n",
       "      <td>07/23/2018 08:55:00 AM</td>\n",
       "      <td>0000X N KEELER AVE</td>\n",
       "      <td>0560</td>\n",
       "      <td>ASSAULT</td>\n",
       "      <td>SIMPLE</td>\n",
       "      <td>NURSING HOME/RETIREMENT HOME</td>\n",
       "      <td>False</td>\n",
       "      <td>False</td>\n",
       "      <td>1115</td>\n",
       "      <td>11.0</td>\n",
       "      <td>28.0</td>\n",
       "      <td>26.0</td>\n",
       "      <td>08A</td>\n",
       "      <td>1148388.0</td>\n",
       "      <td>1899882.0</td>\n",
       "      <td>2018</td>\n",
       "      <td>07/30/2018 03:52:24 PM</td>\n",
       "      <td>41.881217</td>\n",
       "      <td>-87.730590</td>\n",
       "      <td>(41.881217483, -87.730589961)</td>\n",
       "    </tr>\n",
       "    <tr>\n",
       "      <th>4</th>\n",
       "      <td>4</td>\n",
       "      <td>12420431</td>\n",
       "      <td>JE297624</td>\n",
       "      <td>07/11/2021 06:40:00 AM</td>\n",
       "      <td>016XX W HARRISON ST</td>\n",
       "      <td>051A</td>\n",
       "      <td>ASSAULT</td>\n",
       "      <td>AGGRAVATED - HANDGUN</td>\n",
       "      <td>PARKING LOT / GARAGE (NON RESIDENTIAL)</td>\n",
       "      <td>False</td>\n",
       "      <td>False</td>\n",
       "      <td>1231</td>\n",
       "      <td>12.0</td>\n",
       "      <td>27.0</td>\n",
       "      <td>28.0</td>\n",
       "      <td>04A</td>\n",
       "      <td>1165430.0</td>\n",
       "      <td>1897441.0</td>\n",
       "      <td>2021</td>\n",
       "      <td>07/18/2021 04:56:02 PM</td>\n",
       "      <td>41.874174</td>\n",
       "      <td>-87.668082</td>\n",
       "      <td>(41.874173691, -87.668082118)</td>\n",
       "    </tr>\n",
       "  </tbody>\n",
       "</table>\n",
       "</div>"
      ],
      "text/plain": [
       "   Unnamed: 0        ID Case Number                    Date  \\\n",
       "0           0   6407111    HP485721  07/26/2008 02:30:00 PM   \n",
       "1           1  11398199    JB372830  07/31/2018 10:57:00 AM   \n",
       "2           2   5488785    HN308568  04/27/2007 10:30:00 AM   \n",
       "3           3  11389116    JB361368  07/23/2018 08:55:00 AM   \n",
       "4           4  12420431    JE297624  07/11/2021 06:40:00 AM   \n",
       "\n",
       "                  Block  IUCR       Primary Type               Description  \\\n",
       "0  085XX S MUSKEGON AVE  1320    CRIMINAL DAMAGE                TO VEHICLE   \n",
       "1     092XX S ELLIS AVE  143C  WEAPONS VIOLATION  UNLAWFUL POSS AMMUNITION   \n",
       "2     062XX N TRIPP AVE  0610           BURGLARY            FORCIBLE ENTRY   \n",
       "3    0000X N KEELER AVE  0560            ASSAULT                    SIMPLE   \n",
       "4   016XX W HARRISON ST  051A            ASSAULT      AGGRAVATED - HANDGUN   \n",
       "\n",
       "                     Location Description  Arrest  Domestic  Beat  District  \\\n",
       "0                                  STREET   False     False   423       4.0   \n",
       "1                               POOL ROOM    True     False   413       4.0   \n",
       "2                               RESIDENCE    True     False  1711      17.0   \n",
       "3            NURSING HOME/RETIREMENT HOME   False     False  1115      11.0   \n",
       "4  PARKING LOT / GARAGE (NON RESIDENTIAL)   False     False  1231      12.0   \n",
       "\n",
       "   Ward  Community Area FBI Code  X Coordinate  Y Coordinate  Year  \\\n",
       "0  10.0            46.0       14     1196638.0     1848800.0  2008   \n",
       "1   8.0            47.0       15     1184499.0     1843935.0  2018   \n",
       "2  39.0            12.0       05     1146911.0     1941022.0  2007   \n",
       "3  28.0            26.0      08A     1148388.0     1899882.0  2018   \n",
       "4  27.0            28.0      04A     1165430.0     1897441.0  2021   \n",
       "\n",
       "               Updated On   Latitude  Longitude                       Location  \n",
       "0  02/28/2018 03:56:25 PM  41.739980 -87.555120  (41.739979622, -87.555120042)  \n",
       "1  08/07/2018 04:02:59 PM  41.726922 -87.599747  (41.726922145, -87.599746995)  \n",
       "2  02/28/2018 03:56:25 PM  41.994138 -87.734959  (41.994137622, -87.734959049)  \n",
       "3  07/30/2018 03:52:24 PM  41.881217 -87.730590  (41.881217483, -87.730589961)  \n",
       "4  07/18/2021 04:56:02 PM  41.874174 -87.668082  (41.874173691, -87.668082118)  "
      ]
     },
     "execution_count": 7,
     "metadata": {},
     "output_type": "execute_result"
    }
   ],
   "source": [
    "# check the first five observations\n",
    "chicago_crime_df.head()"
   ]
  },
  {
   "cell_type": "code",
   "execution_count": 8,
   "id": "2b737764",
   "metadata": {
    "ExecuteTime": {
     "end_time": "2024-03-24T20:07:28.516304Z",
     "start_time": "2024-03-24T20:07:27.973423Z"
    },
    "colab": {
     "base_uri": "https://localhost:8080/"
    },
    "id": "2b737764",
    "outputId": "d376f491-f311-4fa6-a221-34c961e5fa99"
   },
   "outputs": [
    {
     "name": "stdout",
     "output_type": "stream",
     "text": [
      "<class 'pandas.core.frame.DataFrame'>\n",
      "RangeIndex: 2278726 entries, 0 to 2278725\n",
      "Data columns (total 23 columns):\n",
      " #   Column                Dtype  \n",
      "---  ------                -----  \n",
      " 0   Unnamed: 0            int64  \n",
      " 1   ID                    int64  \n",
      " 2   Case Number           object \n",
      " 3   Date                  object \n",
      " 4   Block                 object \n",
      " 5   IUCR                  object \n",
      " 6   Primary Type          object \n",
      " 7   Description           object \n",
      " 8   Location Description  object \n",
      " 9   Arrest                bool   \n",
      " 10  Domestic              bool   \n",
      " 11  Beat                  int64  \n",
      " 12  District              float64\n",
      " 13  Ward                  float64\n",
      " 14  Community Area        float64\n",
      " 15  FBI Code              object \n",
      " 16  X Coordinate          float64\n",
      " 17  Y Coordinate          float64\n",
      " 18  Year                  int64  \n",
      " 19  Updated On            object \n",
      " 20  Latitude              float64\n",
      " 21  Longitude             float64\n",
      " 22  Location              object \n",
      "dtypes: bool(2), float64(7), int64(4), object(10)\n",
      "memory usage: 369.4+ MB\n"
     ]
    }
   ],
   "source": [
    " # Display column information and data types\n",
    "chicago_crime_df.info()"
   ]
  },
  {
   "cell_type": "code",
   "execution_count": 9,
   "id": "b7d56818",
   "metadata": {
    "ExecuteTime": {
     "end_time": "2024-03-24T20:07:29.948416Z",
     "start_time": "2024-03-24T20:07:28.516304Z"
    },
    "colab": {
     "base_uri": "https://localhost:8080/"
    },
    "id": "b7d56818",
    "outputId": "3e361775-05f6-4abf-9b53-e15255d6f132"
   },
   "outputs": [
    {
     "data": {
      "text/plain": [
       "Unnamed: 0                   0\n",
       "ID                           0\n",
       "Case Number                  1\n",
       "Date                         0\n",
       "Block                        0\n",
       "IUCR                         0\n",
       "Primary Type                 0\n",
       "Description                  0\n",
       "Location Description      2877\n",
       "Arrest                       0\n",
       "Domestic                     0\n",
       "Beat                         0\n",
       "District                    12\n",
       "Ward                    184695\n",
       "Community Area          184267\n",
       "FBI Code                     0\n",
       "X Coordinate             23985\n",
       "Y Coordinate             23985\n",
       "Year                         0\n",
       "Updated On                   0\n",
       "Latitude                 23985\n",
       "Longitude                23985\n",
       "Location                 23985\n",
       "dtype: int64"
      ]
     },
     "execution_count": 9,
     "metadata": {},
     "output_type": "execute_result"
    }
   ],
   "source": [
    "# checking missing value count\n",
    "chicago_crime_df.isnull().sum()"
   ]
  },
  {
   "cell_type": "code",
   "execution_count": 10,
   "id": "d63b64b0",
   "metadata": {
    "ExecuteTime": {
     "end_time": "2024-03-24T20:07:32.849184Z",
     "start_time": "2024-03-24T20:07:29.948416Z"
    },
    "colab": {
     "base_uri": "https://localhost:8080/",
     "height": 300
    },
    "id": "d63b64b0",
    "outputId": "da1f2c58-ae6b-48bc-d254-9458f714453e"
   },
   "outputs": [
    {
     "data": {
      "text/html": [
       "<div>\n",
       "<style scoped>\n",
       "    .dataframe tbody tr th:only-of-type {\n",
       "        vertical-align: middle;\n",
       "    }\n",
       "\n",
       "    .dataframe tbody tr th {\n",
       "        vertical-align: top;\n",
       "    }\n",
       "\n",
       "    .dataframe thead th {\n",
       "        text-align: right;\n",
       "    }\n",
       "</style>\n",
       "<table border=\"1\" class=\"dataframe\">\n",
       "  <thead>\n",
       "    <tr style=\"text-align: right;\">\n",
       "      <th></th>\n",
       "      <th>Unnamed: 0</th>\n",
       "      <th>ID</th>\n",
       "      <th>Beat</th>\n",
       "      <th>District</th>\n",
       "      <th>Ward</th>\n",
       "      <th>Community Area</th>\n",
       "      <th>X Coordinate</th>\n",
       "      <th>Y Coordinate</th>\n",
       "      <th>Year</th>\n",
       "      <th>Latitude</th>\n",
       "      <th>Longitude</th>\n",
       "    </tr>\n",
       "  </thead>\n",
       "  <tbody>\n",
       "    <tr>\n",
       "      <th>count</th>\n",
       "      <td>2.278726e+06</td>\n",
       "      <td>2.278726e+06</td>\n",
       "      <td>2.278726e+06</td>\n",
       "      <td>2.278714e+06</td>\n",
       "      <td>2.094031e+06</td>\n",
       "      <td>2.094459e+06</td>\n",
       "      <td>2.254741e+06</td>\n",
       "      <td>2.254741e+06</td>\n",
       "      <td>2.278726e+06</td>\n",
       "      <td>2.254741e+06</td>\n",
       "      <td>2.254741e+06</td>\n",
       "    </tr>\n",
       "    <tr>\n",
       "      <th>mean</th>\n",
       "      <td>1.139362e+06</td>\n",
       "      <td>6.882068e+06</td>\n",
       "      <td>1.186442e+03</td>\n",
       "      <td>1.129072e+01</td>\n",
       "      <td>2.272764e+01</td>\n",
       "      <td>3.752140e+01</td>\n",
       "      <td>1.164569e+06</td>\n",
       "      <td>1.885747e+06</td>\n",
       "      <td>2.009638e+03</td>\n",
       "      <td>4.184209e+01</td>\n",
       "      <td>-8.767161e+01</td>\n",
       "    </tr>\n",
       "    <tr>\n",
       "      <th>std</th>\n",
       "      <td>6.578117e+05</td>\n",
       "      <td>3.419168e+06</td>\n",
       "      <td>7.026836e+02</td>\n",
       "      <td>6.946692e+00</td>\n",
       "      <td>1.383464e+01</td>\n",
       "      <td>2.153282e+01</td>\n",
       "      <td>1.673955e+04</td>\n",
       "      <td>3.209855e+04</td>\n",
       "      <td>6.019724e+00</td>\n",
       "      <td>8.830434e-02</td>\n",
       "      <td>6.073538e-02</td>\n",
       "    </tr>\n",
       "    <tr>\n",
       "      <th>min</th>\n",
       "      <td>0.000000e+00</td>\n",
       "      <td>6.370000e+02</td>\n",
       "      <td>1.110000e+02</td>\n",
       "      <td>1.000000e+00</td>\n",
       "      <td>1.000000e+00</td>\n",
       "      <td>0.000000e+00</td>\n",
       "      <td>0.000000e+00</td>\n",
       "      <td>0.000000e+00</td>\n",
       "      <td>2.001000e+03</td>\n",
       "      <td>3.661945e+01</td>\n",
       "      <td>-9.168657e+01</td>\n",
       "    </tr>\n",
       "    <tr>\n",
       "      <th>25%</th>\n",
       "      <td>5.696812e+05</td>\n",
       "      <td>3.716076e+06</td>\n",
       "      <td>6.210000e+02</td>\n",
       "      <td>6.000000e+00</td>\n",
       "      <td>1.000000e+01</td>\n",
       "      <td>2.300000e+01</td>\n",
       "      <td>1.152948e+06</td>\n",
       "      <td>1.859053e+06</td>\n",
       "      <td>2.004000e+03</td>\n",
       "      <td>4.176866e+01</td>\n",
       "      <td>-8.771379e+01</td>\n",
       "    </tr>\n",
       "    <tr>\n",
       "      <th>50%</th>\n",
       "      <td>1.139362e+06</td>\n",
       "      <td>6.885990e+06</td>\n",
       "      <td>1.034000e+03</td>\n",
       "      <td>1.000000e+01</td>\n",
       "      <td>2.300000e+01</td>\n",
       "      <td>3.200000e+01</td>\n",
       "      <td>1.166060e+06</td>\n",
       "      <td>1.890673e+06</td>\n",
       "      <td>2.009000e+03</td>\n",
       "      <td>4.185578e+01</td>\n",
       "      <td>-8.766597e+01</td>\n",
       "    </tr>\n",
       "    <tr>\n",
       "      <th>75%</th>\n",
       "      <td>1.709044e+06</td>\n",
       "      <td>9.887568e+06</td>\n",
       "      <td>1.731000e+03</td>\n",
       "      <td>1.700000e+01</td>\n",
       "      <td>3.400000e+01</td>\n",
       "      <td>5.700000e+01</td>\n",
       "      <td>1.176365e+06</td>\n",
       "      <td>1.909219e+06</td>\n",
       "      <td>2.014000e+03</td>\n",
       "      <td>4.190668e+01</td>\n",
       "      <td>-8.762823e+01</td>\n",
       "    </tr>\n",
       "    <tr>\n",
       "      <th>max</th>\n",
       "      <td>2.278725e+06</td>\n",
       "      <td>1.278199e+07</td>\n",
       "      <td>2.535000e+03</td>\n",
       "      <td>3.100000e+01</td>\n",
       "      <td>5.000000e+01</td>\n",
       "      <td>7.700000e+01</td>\n",
       "      <td>1.205119e+06</td>\n",
       "      <td>1.951622e+06</td>\n",
       "      <td>2.022000e+03</td>\n",
       "      <td>4.202291e+01</td>\n",
       "      <td>-8.752453e+01</td>\n",
       "    </tr>\n",
       "  </tbody>\n",
       "</table>\n",
       "</div>"
      ],
      "text/plain": [
       "         Unnamed: 0            ID          Beat      District          Ward  \\\n",
       "count  2.278726e+06  2.278726e+06  2.278726e+06  2.278714e+06  2.094031e+06   \n",
       "mean   1.139362e+06  6.882068e+06  1.186442e+03  1.129072e+01  2.272764e+01   \n",
       "std    6.578117e+05  3.419168e+06  7.026836e+02  6.946692e+00  1.383464e+01   \n",
       "min    0.000000e+00  6.370000e+02  1.110000e+02  1.000000e+00  1.000000e+00   \n",
       "25%    5.696812e+05  3.716076e+06  6.210000e+02  6.000000e+00  1.000000e+01   \n",
       "50%    1.139362e+06  6.885990e+06  1.034000e+03  1.000000e+01  2.300000e+01   \n",
       "75%    1.709044e+06  9.887568e+06  1.731000e+03  1.700000e+01  3.400000e+01   \n",
       "max    2.278725e+06  1.278199e+07  2.535000e+03  3.100000e+01  5.000000e+01   \n",
       "\n",
       "       Community Area  X Coordinate  Y Coordinate          Year      Latitude  \\\n",
       "count    2.094459e+06  2.254741e+06  2.254741e+06  2.278726e+06  2.254741e+06   \n",
       "mean     3.752140e+01  1.164569e+06  1.885747e+06  2.009638e+03  4.184209e+01   \n",
       "std      2.153282e+01  1.673955e+04  3.209855e+04  6.019724e+00  8.830434e-02   \n",
       "min      0.000000e+00  0.000000e+00  0.000000e+00  2.001000e+03  3.661945e+01   \n",
       "25%      2.300000e+01  1.152948e+06  1.859053e+06  2.004000e+03  4.176866e+01   \n",
       "50%      3.200000e+01  1.166060e+06  1.890673e+06  2.009000e+03  4.185578e+01   \n",
       "75%      5.700000e+01  1.176365e+06  1.909219e+06  2.014000e+03  4.190668e+01   \n",
       "max      7.700000e+01  1.205119e+06  1.951622e+06  2.022000e+03  4.202291e+01   \n",
       "\n",
       "          Longitude  \n",
       "count  2.254741e+06  \n",
       "mean  -8.767161e+01  \n",
       "std    6.073538e-02  \n",
       "min   -9.168657e+01  \n",
       "25%   -8.771379e+01  \n",
       "50%   -8.766597e+01  \n",
       "75%   -8.762823e+01  \n",
       "max   -8.752453e+01  "
      ]
     },
     "execution_count": 10,
     "metadata": {},
     "output_type": "execute_result"
    }
   ],
   "source": [
    "chicago_crime_df.describe()"
   ]
  },
  {
   "cell_type": "markdown",
   "id": "2bb19f83",
   "metadata": {
    "id": "2bb19f83"
   },
   "source": [
    "# 3. Data Preprocessing"
   ]
  },
  {
   "cell_type": "markdown",
   "id": "18cc107e",
   "metadata": {
    "id": "18cc107e"
   },
   "source": [
    "**Data Cleaning**"
   ]
  },
  {
   "cell_type": "markdown",
   "id": "5793f507",
   "metadata": {
    "id": "5793f507"
   },
   "source": [
    "Here are some steps that we would carry out in this phase\n",
    "\n",
    "1. Remove redundant or unnecessary columns\n",
    "2. Handle missing values\n",
    "3. Convert data types to the appropriate formats  \n",
    "\n",
    "__Reasons for dropping the below columns__\n",
    "- 'Unnamed: 0': Its just an index for individual row\n",
    "- 'ID': Serial identifier for the record which is redundant due to the presence of a case number for each case.\n",
    "- 'Location': This is where the incident occurred in a format that allows for creation of maps and other geographic operation. It's the combination of both latitude and longitude feature of this dataset thus, not required.\n",
    "- 'Updated On': Holds the date and time the record was last updated.Which is not required for our analysis.\n",
    "- 'X Coordinate': The x coordinate is a shifted location from the actual location for partial redaction but falls on the same block. Since we have a longitude/latitude and the block where the crime happened, we can neglect this feature.\n",
    "- 'Y Coordinate': The y coordinate is a shifted location from the actual location for partial redaction but falls on the same block. Since we have a longitude/latitude and the block where the crime happened, we can neglect this feature.\n",
    "- 'Community Area': This indicates the community area where the incident occurred. Which is not neccessary for our analysis.\n",
    "- 'IUCR': This is the Illinois Unifrom Crime Reporting code. This is directly linked to the Primary Type and Description, it provides information about the primary type and description of crime. Since primary type and description features already exist, it becomes a redundant column\n",
    "- Description: It's simply a subcategory of the primary type(which describes the type of crime committed). this can be omitted\n",
    "- Block: Since we have the latitude and longitude, this column is redundant.\n",
    "- Community Area: This is not needed in our analysis and the presence of a police Beat makes this redundant.\n",
    "- FBI Code: Removed because it is not necessary for our analysis as we are unable to de-code these codes."
   ]
  },
  {
   "cell_type": "markdown",
   "id": "3d674611",
   "metadata": {
    "id": "3d674611"
   },
   "source": [
    "__1. Use a funtion to Drop redundant columns and/or columns that are not necessary for our analysis (a redundant column is one that gives infomation that another column already explains: eg ID and Case number)__"
   ]
  },
  {
   "cell_type": "code",
   "execution_count": 11,
   "id": "cf7fd108",
   "metadata": {
    "ExecuteTime": {
     "end_time": "2024-03-24T20:07:36.545152Z",
     "start_time": "2024-03-24T20:07:36.530571Z"
    },
    "colab": {
     "base_uri": "https://localhost:8080/"
    },
    "id": "cf7fd108",
    "outputId": "8e96b182-da46-4d7c-9337-fd6f13e920cd"
   },
   "outputs": [
    {
     "data": {
      "text/plain": [
       "Index(['Unnamed: 0', 'ID', 'Case Number', 'Date', 'Block', 'IUCR',\n",
       "       'Primary Type', 'Description', 'Location Description', 'Arrest',\n",
       "       'Domestic', 'Beat', 'District', 'Ward', 'Community Area', 'FBI Code',\n",
       "       'X Coordinate', 'Y Coordinate', 'Year', 'Updated On', 'Latitude',\n",
       "       'Longitude', 'Location'],\n",
       "      dtype='object')"
      ]
     },
     "execution_count": 11,
     "metadata": {},
     "output_type": "execute_result"
    }
   ],
   "source": [
    "chicago_crime_df.columns"
   ]
  },
  {
   "cell_type": "code",
   "execution_count": null,
   "id": "7855cff3",
   "metadata": {
    "id": "7855cff3"
   },
   "outputs": [],
   "source": []
  },
  {
   "cell_type": "code",
   "execution_count": 12,
   "id": "1fef58c2",
   "metadata": {
    "ExecuteTime": {
     "end_time": "2024-03-24T20:07:38.527915Z",
     "start_time": "2024-03-24T20:07:38.113505Z"
    },
    "id": "1fef58c2"
   },
   "outputs": [],
   "source": [
    "# Dropping redundant columns\n",
    "def drop_redundant_columns(df):\n",
    "    redundant_columns = ['ID', 'Location','Updated On', 'FBI Code', 'Description', 'X Coordinate','Y Coordinate','IUCR']\n",
    "    df.drop(redundant_columns, axis=1, inplace= True)\n",
    "\n",
    "drop_redundant_columns(chicago_crime_df)"
   ]
  },
  {
   "cell_type": "code",
   "execution_count": 13,
   "id": "d55a5457",
   "metadata": {
    "ExecuteTime": {
     "end_time": "2024-03-24T20:07:38.921666Z",
     "start_time": "2024-03-24T20:07:38.879491Z"
    },
    "colab": {
     "base_uri": "https://localhost:8080/",
     "height": 310
    },
    "id": "d55a5457",
    "outputId": "295fbd70-5be7-4217-8e1b-bc355f69009b"
   },
   "outputs": [
    {
     "data": {
      "text/html": [
       "<div>\n",
       "<style scoped>\n",
       "    .dataframe tbody tr th:only-of-type {\n",
       "        vertical-align: middle;\n",
       "    }\n",
       "\n",
       "    .dataframe tbody tr th {\n",
       "        vertical-align: top;\n",
       "    }\n",
       "\n",
       "    .dataframe thead th {\n",
       "        text-align: right;\n",
       "    }\n",
       "</style>\n",
       "<table border=\"1\" class=\"dataframe\">\n",
       "  <thead>\n",
       "    <tr style=\"text-align: right;\">\n",
       "      <th></th>\n",
       "      <th>Unnamed: 0</th>\n",
       "      <th>Case Number</th>\n",
       "      <th>Date</th>\n",
       "      <th>Block</th>\n",
       "      <th>Primary Type</th>\n",
       "      <th>Location Description</th>\n",
       "      <th>Arrest</th>\n",
       "      <th>Domestic</th>\n",
       "      <th>Beat</th>\n",
       "      <th>District</th>\n",
       "      <th>Ward</th>\n",
       "      <th>Community Area</th>\n",
       "      <th>Year</th>\n",
       "      <th>Latitude</th>\n",
       "      <th>Longitude</th>\n",
       "    </tr>\n",
       "  </thead>\n",
       "  <tbody>\n",
       "    <tr>\n",
       "      <th>0</th>\n",
       "      <td>0</td>\n",
       "      <td>HP485721</td>\n",
       "      <td>07/26/2008 02:30:00 PM</td>\n",
       "      <td>085XX S MUSKEGON AVE</td>\n",
       "      <td>CRIMINAL DAMAGE</td>\n",
       "      <td>STREET</td>\n",
       "      <td>False</td>\n",
       "      <td>False</td>\n",
       "      <td>423</td>\n",
       "      <td>4.0</td>\n",
       "      <td>10.0</td>\n",
       "      <td>46.0</td>\n",
       "      <td>2008</td>\n",
       "      <td>41.739980</td>\n",
       "      <td>-87.555120</td>\n",
       "    </tr>\n",
       "    <tr>\n",
       "      <th>1</th>\n",
       "      <td>1</td>\n",
       "      <td>JB372830</td>\n",
       "      <td>07/31/2018 10:57:00 AM</td>\n",
       "      <td>092XX S ELLIS AVE</td>\n",
       "      <td>WEAPONS VIOLATION</td>\n",
       "      <td>POOL ROOM</td>\n",
       "      <td>True</td>\n",
       "      <td>False</td>\n",
       "      <td>413</td>\n",
       "      <td>4.0</td>\n",
       "      <td>8.0</td>\n",
       "      <td>47.0</td>\n",
       "      <td>2018</td>\n",
       "      <td>41.726922</td>\n",
       "      <td>-87.599747</td>\n",
       "    </tr>\n",
       "    <tr>\n",
       "      <th>2</th>\n",
       "      <td>2</td>\n",
       "      <td>HN308568</td>\n",
       "      <td>04/27/2007 10:30:00 AM</td>\n",
       "      <td>062XX N TRIPP AVE</td>\n",
       "      <td>BURGLARY</td>\n",
       "      <td>RESIDENCE</td>\n",
       "      <td>True</td>\n",
       "      <td>False</td>\n",
       "      <td>1711</td>\n",
       "      <td>17.0</td>\n",
       "      <td>39.0</td>\n",
       "      <td>12.0</td>\n",
       "      <td>2007</td>\n",
       "      <td>41.994138</td>\n",
       "      <td>-87.734959</td>\n",
       "    </tr>\n",
       "    <tr>\n",
       "      <th>3</th>\n",
       "      <td>3</td>\n",
       "      <td>JB361368</td>\n",
       "      <td>07/23/2018 08:55:00 AM</td>\n",
       "      <td>0000X N KEELER AVE</td>\n",
       "      <td>ASSAULT</td>\n",
       "      <td>NURSING HOME/RETIREMENT HOME</td>\n",
       "      <td>False</td>\n",
       "      <td>False</td>\n",
       "      <td>1115</td>\n",
       "      <td>11.0</td>\n",
       "      <td>28.0</td>\n",
       "      <td>26.0</td>\n",
       "      <td>2018</td>\n",
       "      <td>41.881217</td>\n",
       "      <td>-87.730590</td>\n",
       "    </tr>\n",
       "    <tr>\n",
       "      <th>4</th>\n",
       "      <td>4</td>\n",
       "      <td>JE297624</td>\n",
       "      <td>07/11/2021 06:40:00 AM</td>\n",
       "      <td>016XX W HARRISON ST</td>\n",
       "      <td>ASSAULT</td>\n",
       "      <td>PARKING LOT / GARAGE (NON RESIDENTIAL)</td>\n",
       "      <td>False</td>\n",
       "      <td>False</td>\n",
       "      <td>1231</td>\n",
       "      <td>12.0</td>\n",
       "      <td>27.0</td>\n",
       "      <td>28.0</td>\n",
       "      <td>2021</td>\n",
       "      <td>41.874174</td>\n",
       "      <td>-87.668082</td>\n",
       "    </tr>\n",
       "  </tbody>\n",
       "</table>\n",
       "</div>"
      ],
      "text/plain": [
       "   Unnamed: 0 Case Number                    Date                 Block  \\\n",
       "0           0    HP485721  07/26/2008 02:30:00 PM  085XX S MUSKEGON AVE   \n",
       "1           1    JB372830  07/31/2018 10:57:00 AM     092XX S ELLIS AVE   \n",
       "2           2    HN308568  04/27/2007 10:30:00 AM     062XX N TRIPP AVE   \n",
       "3           3    JB361368  07/23/2018 08:55:00 AM    0000X N KEELER AVE   \n",
       "4           4    JE297624  07/11/2021 06:40:00 AM   016XX W HARRISON ST   \n",
       "\n",
       "        Primary Type                    Location Description  Arrest  \\\n",
       "0    CRIMINAL DAMAGE                                  STREET   False   \n",
       "1  WEAPONS VIOLATION                               POOL ROOM    True   \n",
       "2           BURGLARY                               RESIDENCE    True   \n",
       "3            ASSAULT            NURSING HOME/RETIREMENT HOME   False   \n",
       "4            ASSAULT  PARKING LOT / GARAGE (NON RESIDENTIAL)   False   \n",
       "\n",
       "   Domestic  Beat  District  Ward  Community Area  Year   Latitude  Longitude  \n",
       "0     False   423       4.0  10.0            46.0  2008  41.739980 -87.555120  \n",
       "1     False   413       4.0   8.0            47.0  2018  41.726922 -87.599747  \n",
       "2     False  1711      17.0  39.0            12.0  2007  41.994138 -87.734959  \n",
       "3     False  1115      11.0  28.0            26.0  2018  41.881217 -87.730590  \n",
       "4     False  1231      12.0  27.0            28.0  2021  41.874174 -87.668082  "
      ]
     },
     "execution_count": 13,
     "metadata": {},
     "output_type": "execute_result"
    }
   ],
   "source": [
    "chicago_crime_df.head()"
   ]
  },
  {
   "cell_type": "code",
   "execution_count": 14,
   "id": "835b87a8",
   "metadata": {
    "ExecuteTime": {
     "end_time": "2024-03-24T20:07:39.270508Z",
     "start_time": "2024-03-24T20:07:39.246768Z"
    },
    "colab": {
     "base_uri": "https://localhost:8080/"
    },
    "id": "835b87a8",
    "outputId": "b85e47ac-9ec1-4163-da1f-b6e28e5f1076"
   },
   "outputs": [
    {
     "name": "stdout",
     "output_type": "stream",
     "text": [
      "<class 'pandas.core.frame.DataFrame'>\n",
      "RangeIndex: 2278726 entries, 0 to 2278725\n",
      "Data columns (total 15 columns):\n",
      " #   Column                Dtype  \n",
      "---  ------                -----  \n",
      " 0   Unnamed: 0            int64  \n",
      " 1   Case Number           object \n",
      " 2   Date                  object \n",
      " 3   Block                 object \n",
      " 4   Primary Type          object \n",
      " 5   Location Description  object \n",
      " 6   Arrest                bool   \n",
      " 7   Domestic              bool   \n",
      " 8   Beat                  int64  \n",
      " 9   District              float64\n",
      " 10  Ward                  float64\n",
      " 11  Community Area        float64\n",
      " 12  Year                  int64  \n",
      " 13  Latitude              float64\n",
      " 14  Longitude             float64\n",
      "dtypes: bool(2), float64(5), int64(3), object(5)\n",
      "memory usage: 230.4+ MB\n"
     ]
    }
   ],
   "source": [
    "chicago_crime_df.info()"
   ]
  },
  {
   "cell_type": "code",
   "execution_count": 15,
   "id": "150b2940",
   "metadata": {
    "ExecuteTime": {
     "end_time": "2024-03-24T20:07:50.124650Z",
     "start_time": "2024-03-24T20:07:39.651101Z"
    },
    "colab": {
     "base_uri": "https://localhost:8080/",
     "height": 484
    },
    "id": "150b2940",
    "outputId": "1f938d94-a435-4591-e471-e349eb001f4d"
   },
   "outputs": [
    {
     "data": {
      "text/html": [
       "<div>\n",
       "<style scoped>\n",
       "    .dataframe tbody tr th:only-of-type {\n",
       "        vertical-align: middle;\n",
       "    }\n",
       "\n",
       "    .dataframe tbody tr th {\n",
       "        vertical-align: top;\n",
       "    }\n",
       "\n",
       "    .dataframe thead th {\n",
       "        text-align: right;\n",
       "    }\n",
       "</style>\n",
       "<table border=\"1\" class=\"dataframe\">\n",
       "  <thead>\n",
       "    <tr style=\"text-align: right;\">\n",
       "      <th></th>\n",
       "      <th>Unnamed: 0</th>\n",
       "      <th>Case Number</th>\n",
       "      <th>Date</th>\n",
       "      <th>Block</th>\n",
       "      <th>Primary Type</th>\n",
       "      <th>Location Description</th>\n",
       "      <th>Arrest</th>\n",
       "      <th>Domestic</th>\n",
       "      <th>Beat</th>\n",
       "      <th>District</th>\n",
       "      <th>Ward</th>\n",
       "      <th>Community Area</th>\n",
       "      <th>Year</th>\n",
       "      <th>Latitude</th>\n",
       "      <th>Longitude</th>\n",
       "    </tr>\n",
       "  </thead>\n",
       "  <tbody>\n",
       "    <tr>\n",
       "      <th>count</th>\n",
       "      <td>2.278726e+06</td>\n",
       "      <td>2278725</td>\n",
       "      <td>2278726</td>\n",
       "      <td>2278726</td>\n",
       "      <td>2278726</td>\n",
       "      <td>2275849</td>\n",
       "      <td>2278726</td>\n",
       "      <td>2278726</td>\n",
       "      <td>2.278726e+06</td>\n",
       "      <td>2.278714e+06</td>\n",
       "      <td>2.094031e+06</td>\n",
       "      <td>2.094459e+06</td>\n",
       "      <td>2.278726e+06</td>\n",
       "      <td>2.254741e+06</td>\n",
       "      <td>2.254741e+06</td>\n",
       "    </tr>\n",
       "    <tr>\n",
       "      <th>unique</th>\n",
       "      <td>NaN</td>\n",
       "      <td>2278678</td>\n",
       "      <td>1343546</td>\n",
       "      <td>54347</td>\n",
       "      <td>35</td>\n",
       "      <td>198</td>\n",
       "      <td>2</td>\n",
       "      <td>2</td>\n",
       "      <td>NaN</td>\n",
       "      <td>NaN</td>\n",
       "      <td>NaN</td>\n",
       "      <td>NaN</td>\n",
       "      <td>NaN</td>\n",
       "      <td>NaN</td>\n",
       "      <td>NaN</td>\n",
       "    </tr>\n",
       "    <tr>\n",
       "      <th>top</th>\n",
       "      <td>NaN</td>\n",
       "      <td>HK172551</td>\n",
       "      <td>01/01/2008 12:01:00 AM</td>\n",
       "      <td>100XX W OHARE ST</td>\n",
       "      <td>THEFT</td>\n",
       "      <td>STREET</td>\n",
       "      <td>False</td>\n",
       "      <td>False</td>\n",
       "      <td>NaN</td>\n",
       "      <td>NaN</td>\n",
       "      <td>NaN</td>\n",
       "      <td>NaN</td>\n",
       "      <td>NaN</td>\n",
       "      <td>NaN</td>\n",
       "      <td>NaN</td>\n",
       "    </tr>\n",
       "    <tr>\n",
       "      <th>freq</th>\n",
       "      <td>NaN</td>\n",
       "      <td>3</td>\n",
       "      <td>81</td>\n",
       "      <td>4878</td>\n",
       "      <td>479375</td>\n",
       "      <td>590957</td>\n",
       "      <td>1675252</td>\n",
       "      <td>1965311</td>\n",
       "      <td>NaN</td>\n",
       "      <td>NaN</td>\n",
       "      <td>NaN</td>\n",
       "      <td>NaN</td>\n",
       "      <td>NaN</td>\n",
       "      <td>NaN</td>\n",
       "      <td>NaN</td>\n",
       "    </tr>\n",
       "    <tr>\n",
       "      <th>mean</th>\n",
       "      <td>1.139362e+06</td>\n",
       "      <td>NaN</td>\n",
       "      <td>NaN</td>\n",
       "      <td>NaN</td>\n",
       "      <td>NaN</td>\n",
       "      <td>NaN</td>\n",
       "      <td>NaN</td>\n",
       "      <td>NaN</td>\n",
       "      <td>1.186442e+03</td>\n",
       "      <td>1.129072e+01</td>\n",
       "      <td>2.272764e+01</td>\n",
       "      <td>3.752140e+01</td>\n",
       "      <td>2.009638e+03</td>\n",
       "      <td>4.184209e+01</td>\n",
       "      <td>-8.767161e+01</td>\n",
       "    </tr>\n",
       "    <tr>\n",
       "      <th>std</th>\n",
       "      <td>6.578117e+05</td>\n",
       "      <td>NaN</td>\n",
       "      <td>NaN</td>\n",
       "      <td>NaN</td>\n",
       "      <td>NaN</td>\n",
       "      <td>NaN</td>\n",
       "      <td>NaN</td>\n",
       "      <td>NaN</td>\n",
       "      <td>7.026836e+02</td>\n",
       "      <td>6.946692e+00</td>\n",
       "      <td>1.383464e+01</td>\n",
       "      <td>2.153282e+01</td>\n",
       "      <td>6.019724e+00</td>\n",
       "      <td>8.830434e-02</td>\n",
       "      <td>6.073538e-02</td>\n",
       "    </tr>\n",
       "    <tr>\n",
       "      <th>min</th>\n",
       "      <td>0.000000e+00</td>\n",
       "      <td>NaN</td>\n",
       "      <td>NaN</td>\n",
       "      <td>NaN</td>\n",
       "      <td>NaN</td>\n",
       "      <td>NaN</td>\n",
       "      <td>NaN</td>\n",
       "      <td>NaN</td>\n",
       "      <td>1.110000e+02</td>\n",
       "      <td>1.000000e+00</td>\n",
       "      <td>1.000000e+00</td>\n",
       "      <td>0.000000e+00</td>\n",
       "      <td>2.001000e+03</td>\n",
       "      <td>3.661945e+01</td>\n",
       "      <td>-9.168657e+01</td>\n",
       "    </tr>\n",
       "    <tr>\n",
       "      <th>25%</th>\n",
       "      <td>5.696812e+05</td>\n",
       "      <td>NaN</td>\n",
       "      <td>NaN</td>\n",
       "      <td>NaN</td>\n",
       "      <td>NaN</td>\n",
       "      <td>NaN</td>\n",
       "      <td>NaN</td>\n",
       "      <td>NaN</td>\n",
       "      <td>6.210000e+02</td>\n",
       "      <td>6.000000e+00</td>\n",
       "      <td>1.000000e+01</td>\n",
       "      <td>2.300000e+01</td>\n",
       "      <td>2.004000e+03</td>\n",
       "      <td>4.176866e+01</td>\n",
       "      <td>-8.771379e+01</td>\n",
       "    </tr>\n",
       "    <tr>\n",
       "      <th>50%</th>\n",
       "      <td>1.139362e+06</td>\n",
       "      <td>NaN</td>\n",
       "      <td>NaN</td>\n",
       "      <td>NaN</td>\n",
       "      <td>NaN</td>\n",
       "      <td>NaN</td>\n",
       "      <td>NaN</td>\n",
       "      <td>NaN</td>\n",
       "      <td>1.034000e+03</td>\n",
       "      <td>1.000000e+01</td>\n",
       "      <td>2.300000e+01</td>\n",
       "      <td>3.200000e+01</td>\n",
       "      <td>2.009000e+03</td>\n",
       "      <td>4.185578e+01</td>\n",
       "      <td>-8.766597e+01</td>\n",
       "    </tr>\n",
       "    <tr>\n",
       "      <th>75%</th>\n",
       "      <td>1.709044e+06</td>\n",
       "      <td>NaN</td>\n",
       "      <td>NaN</td>\n",
       "      <td>NaN</td>\n",
       "      <td>NaN</td>\n",
       "      <td>NaN</td>\n",
       "      <td>NaN</td>\n",
       "      <td>NaN</td>\n",
       "      <td>1.731000e+03</td>\n",
       "      <td>1.700000e+01</td>\n",
       "      <td>3.400000e+01</td>\n",
       "      <td>5.700000e+01</td>\n",
       "      <td>2.014000e+03</td>\n",
       "      <td>4.190668e+01</td>\n",
       "      <td>-8.762823e+01</td>\n",
       "    </tr>\n",
       "    <tr>\n",
       "      <th>max</th>\n",
       "      <td>2.278725e+06</td>\n",
       "      <td>NaN</td>\n",
       "      <td>NaN</td>\n",
       "      <td>NaN</td>\n",
       "      <td>NaN</td>\n",
       "      <td>NaN</td>\n",
       "      <td>NaN</td>\n",
       "      <td>NaN</td>\n",
       "      <td>2.535000e+03</td>\n",
       "      <td>3.100000e+01</td>\n",
       "      <td>5.000000e+01</td>\n",
       "      <td>7.700000e+01</td>\n",
       "      <td>2.022000e+03</td>\n",
       "      <td>4.202291e+01</td>\n",
       "      <td>-8.752453e+01</td>\n",
       "    </tr>\n",
       "  </tbody>\n",
       "</table>\n",
       "</div>"
      ],
      "text/plain": [
       "          Unnamed: 0 Case Number                    Date             Block  \\\n",
       "count   2.278726e+06     2278725                 2278726           2278726   \n",
       "unique           NaN     2278678                 1343546             54347   \n",
       "top              NaN    HK172551  01/01/2008 12:01:00 AM  100XX W OHARE ST   \n",
       "freq             NaN           3                      81              4878   \n",
       "mean    1.139362e+06         NaN                     NaN               NaN   \n",
       "std     6.578117e+05         NaN                     NaN               NaN   \n",
       "min     0.000000e+00         NaN                     NaN               NaN   \n",
       "25%     5.696812e+05         NaN                     NaN               NaN   \n",
       "50%     1.139362e+06         NaN                     NaN               NaN   \n",
       "75%     1.709044e+06         NaN                     NaN               NaN   \n",
       "max     2.278725e+06         NaN                     NaN               NaN   \n",
       "\n",
       "       Primary Type Location Description   Arrest Domestic          Beat  \\\n",
       "count       2278726              2275849  2278726  2278726  2.278726e+06   \n",
       "unique           35                  198        2        2           NaN   \n",
       "top           THEFT               STREET    False    False           NaN   \n",
       "freq         479375               590957  1675252  1965311           NaN   \n",
       "mean            NaN                  NaN      NaN      NaN  1.186442e+03   \n",
       "std             NaN                  NaN      NaN      NaN  7.026836e+02   \n",
       "min             NaN                  NaN      NaN      NaN  1.110000e+02   \n",
       "25%             NaN                  NaN      NaN      NaN  6.210000e+02   \n",
       "50%             NaN                  NaN      NaN      NaN  1.034000e+03   \n",
       "75%             NaN                  NaN      NaN      NaN  1.731000e+03   \n",
       "max             NaN                  NaN      NaN      NaN  2.535000e+03   \n",
       "\n",
       "            District          Ward  Community Area          Year  \\\n",
       "count   2.278714e+06  2.094031e+06    2.094459e+06  2.278726e+06   \n",
       "unique           NaN           NaN             NaN           NaN   \n",
       "top              NaN           NaN             NaN           NaN   \n",
       "freq             NaN           NaN             NaN           NaN   \n",
       "mean    1.129072e+01  2.272764e+01    3.752140e+01  2.009638e+03   \n",
       "std     6.946692e+00  1.383464e+01    2.153282e+01  6.019724e+00   \n",
       "min     1.000000e+00  1.000000e+00    0.000000e+00  2.001000e+03   \n",
       "25%     6.000000e+00  1.000000e+01    2.300000e+01  2.004000e+03   \n",
       "50%     1.000000e+01  2.300000e+01    3.200000e+01  2.009000e+03   \n",
       "75%     1.700000e+01  3.400000e+01    5.700000e+01  2.014000e+03   \n",
       "max     3.100000e+01  5.000000e+01    7.700000e+01  2.022000e+03   \n",
       "\n",
       "            Latitude     Longitude  \n",
       "count   2.254741e+06  2.254741e+06  \n",
       "unique           NaN           NaN  \n",
       "top              NaN           NaN  \n",
       "freq             NaN           NaN  \n",
       "mean    4.184209e+01 -8.767161e+01  \n",
       "std     8.830434e-02  6.073538e-02  \n",
       "min     3.661945e+01 -9.168657e+01  \n",
       "25%     4.176866e+01 -8.771379e+01  \n",
       "50%     4.185578e+01 -8.766597e+01  \n",
       "75%     4.190668e+01 -8.762823e+01  \n",
       "max     4.202291e+01 -8.752453e+01  "
      ]
     },
     "execution_count": 15,
     "metadata": {},
     "output_type": "execute_result"
    }
   ],
   "source": [
    "# A summary statistics of each column\n",
    "chicago_crime_df.describe(include='all')"
   ]
  },
  {
   "cell_type": "code",
   "execution_count": 16,
   "id": "6f9daf5e",
   "metadata": {
    "ExecuteTime": {
     "end_time": "2024-03-24T20:07:50.303298Z",
     "start_time": "2024-03-24T20:07:50.278387Z"
    },
    "colab": {
     "base_uri": "https://localhost:8080/"
    },
    "id": "6f9daf5e",
    "outputId": "7bf42e97-bb8b-4cee-90c3-d40d2cd305a0"
   },
   "outputs": [],
   "source": [
    "chicago_crime_df.info()"
   ]
  },
  {
   "cell_type": "markdown",
   "id": "05ebe46f",
   "metadata": {
    "id": "05ebe46f"
   },
   "source": [
    "__3. Handling missing values__"
   ]
  },
  {
   "cell_type": "code",
   "execution_count": 17,
   "id": "00593837",
   "metadata": {
    "ExecuteTime": {
     "end_time": "2024-03-24T20:07:51.767818Z",
     "start_time": "2024-03-24T20:07:50.457965Z"
    },
    "colab": {
     "base_uri": "https://localhost:8080/"
    },
    "id": "00593837",
    "outputId": "a526859c-2367-43d4-9716-fe3cef236c97"
   },
   "outputs": [],
   "source": [
    "# checking missing value count\n",
    "chicago_crime_df.isnull().sum()"
   ]
  },
  {
   "cell_type": "code",
   "execution_count": 18,
   "id": "a291bd23",
   "metadata": {
    "ExecuteTime": {
     "end_time": "2024-03-24T20:07:51.904672Z",
     "start_time": "2024-03-24T20:07:51.879425Z"
    },
    "id": "a291bd23"
   },
   "outputs": [],
   "source": [
    "# # Missing Values\n",
    "\n",
    "# Function to calculate missing values by column\n",
    "def missing_values_table(df):\n",
    "        # Total missing values\n",
    "        mis_val = df.isnull().sum()\n",
    "\n",
    "        # Percentage of missing values\n",
    "        mis_val_percent = 100 * df.isnull().sum() / len(df)\n",
    "\n",
    "        # Make a table with the results\n",
    "        mis_val_table = pd.concat([mis_val, mis_val_percent], axis=1)\n",
    "\n",
    "        # Rename the columns\n",
    "        mis_val_table_ren_columns = mis_val_table.rename(\n",
    "        columns = {0 : 'Missing Values', 1 : '% of Total Values'})\n",
    "\n",
    "        # Sort the table by percentage of missing descending\n",
    "        mis_val_table_ren_columns = mis_val_table_ren_columns[\n",
    "            mis_val_table_ren_columns.iloc[:,1] != 0].sort_values(\n",
    "        '% of Total Values', ascending=False).round(1)\n",
    "\n",
    "        # Print some summary information\n",
    "        print (\"Your selected dataframe has \" + str(df.shape[1]) + \" columns.\\n\"\n",
    "            \"There are \" + str(mis_val_table_ren_columns.shape[0]) +\n",
    "              \" columns that have missing values.\")\n",
    "\n",
    "        # Return the dataframe with missing information\n",
    "        return mis_val_table_ren_columns"
   ]
  },
  {
   "cell_type": "code",
   "execution_count": 19,
   "id": "b5f9dc16",
   "metadata": {
    "ExecuteTime": {
     "end_time": "2024-03-24T20:07:53.719116Z",
     "start_time": "2024-03-24T20:07:52.010382Z"
    },
    "colab": {
     "base_uri": "https://localhost:8080/",
     "height": 272
    },
    "id": "b5f9dc16",
    "outputId": "2dc54568-decd-41de-f4d8-1c5439b9c0b3"
   },
   "outputs": [],
   "source": [
    "missing_values_table(chicago_crime_df)"
   ]
  },
  {
   "cell_type": "markdown",
   "id": "11015191",
   "metadata": {
    "id": "11015191"
   },
   "source": [
    "- __Handling Missing Case Number__\n",
    "\n",
    "We have one (1) missing Case Number in the entire dataset. We have decided to drop the row where Case Number is missing"
   ]
  },
  {
   "cell_type": "code",
   "execution_count": 20,
   "id": "da982279",
   "metadata": {
    "ExecuteTime": {
     "end_time": "2024-03-24T20:07:54.342928Z",
     "start_time": "2024-03-24T20:07:53.845243Z"
    },
    "id": "da982279"
   },
   "outputs": [],
   "source": [
    "# dropping the missing Case Number column null value\n",
    "chicago_crime_df.dropna(subset=['Case Number'],inplace=True) # i chose to drop this because the percentage NA is insignificant"
   ]
  },
  {
   "cell_type": "code",
   "execution_count": 21,
   "id": "6c06c4b3",
   "metadata": {
    "ExecuteTime": {
     "end_time": "2024-03-24T20:07:55.009863Z",
     "start_time": "2024-03-24T20:07:54.416978Z"
    },
    "colab": {
     "base_uri": "https://localhost:8080/"
    },
    "id": "6c06c4b3",
    "outputId": "07ed4fbb-6575-4a88-fa24-82f73400c0a2"
   },
   "outputs": [],
   "source": [
    "chicago_crime_df.isna().sum()"
   ]
  },
  {
   "cell_type": "markdown",
   "id": "302c88b3",
   "metadata": {
    "id": "302c88b3"
   },
   "source": [
    "- __Handling Missing values for the District Column__\n",
    "\n",
    "We have just 12 missing value for the district column which is 0.0% of the entire dataset. We have decided to drop the row where location discription is missing."
   ]
  },
  {
   "cell_type": "code",
   "execution_count": 22,
   "id": "7817faaf",
   "metadata": {
    "ExecuteTime": {
     "end_time": "2024-03-24T20:07:55.495472Z",
     "start_time": "2024-03-24T20:07:55.085224Z"
    },
    "id": "7817faaf"
   },
   "outputs": [],
   "source": [
    "# dropping the missing district column null value\n",
    "chicago_crime_df.dropna(subset=['District'],inplace=True) # i chose to drop this because the percentage NA is insignificant"
   ]
  },
  {
   "cell_type": "code",
   "execution_count": 23,
   "id": "645500d3",
   "metadata": {
    "ExecuteTime": {
     "end_time": "2024-03-24T20:07:55.657822Z",
     "start_time": "2024-03-24T20:07:55.577038Z"
    },
    "colab": {
     "base_uri": "https://localhost:8080/"
    },
    "id": "645500d3",
    "outputId": "77b7c0b1-27fb-4573-8a94-a692a6eac4ce",
    "scrolled": true
   },
   "outputs": [],
   "source": [
    "chicago_crime_df.District.unique()"
   ]
  },
  {
   "cell_type": "code",
   "execution_count": 24,
   "id": "5d73551f",
   "metadata": {
    "ExecuteTime": {
     "end_time": "2024-03-24T20:07:56.302458Z",
     "start_time": "2024-03-24T20:07:55.732860Z"
    },
    "colab": {
     "base_uri": "https://localhost:8080/"
    },
    "id": "5d73551f",
    "outputId": "8d52d6d9-c38e-4641-94a4-648a99412988"
   },
   "outputs": [],
   "source": [
    "chicago_crime_df.isna().sum()"
   ]
  },
  {
   "cell_type": "markdown",
   "id": "b4067f5b",
   "metadata": {
    "id": "b4067f5b"
   },
   "source": [
    "- __Handling Missing values for the ward Column (Using data imputation)__"
   ]
  },
  {
   "cell_type": "code",
   "execution_count": 25,
   "id": "5c66517c",
   "metadata": {
    "ExecuteTime": {
     "end_time": "2024-03-24T20:07:57.678750Z",
     "start_time": "2024-03-24T20:07:56.378187Z"
    },
    "colab": {
     "base_uri": "https://localhost:8080/",
     "height": 241
    },
    "id": "5c66517c",
    "outputId": "e15074e7-93ba-4f02-ddc6-b933e28225c7"
   },
   "outputs": [],
   "source": [
    "missing_values_table(chicago_crime_df)"
   ]
  },
  {
   "cell_type": "code",
   "execution_count": 26,
   "id": "f6fef0f0",
   "metadata": {
    "ExecuteTime": {
     "end_time": "2024-03-24T20:07:57.854267Z",
     "start_time": "2024-03-24T20:07:57.763435Z"
    },
    "colab": {
     "base_uri": "https://localhost:8080/"
    },
    "id": "f6fef0f0",
    "outputId": "52536ed5-6f6c-49be-d359-be76e7b44b41"
   },
   "outputs": [],
   "source": [
    "# checking the unique values of the ward column\n",
    "chicago_crime_df.Ward.unique()"
   ]
  },
  {
   "cell_type": "code",
   "execution_count": 27,
   "id": "a3533e7c",
   "metadata": {
    "ExecuteTime": {
     "end_time": "2024-03-24T20:07:57.986050Z",
     "start_time": "2024-03-24T20:07:57.962062Z"
    },
    "colab": {
     "base_uri": "https://localhost:8080/"
    },
    "id": "a3533e7c",
    "outputId": "47d3c3e8-0e41-4c5c-8120-e64718c3426f",
    "scrolled": true
   },
   "outputs": [],
   "source": [
    "chicago_crime_df.Ward"
   ]
  },
  {
   "cell_type": "code",
   "execution_count": 28,
   "id": "d44220f9",
   "metadata": {
    "ExecuteTime": {
     "end_time": "2024-03-24T20:07:58.301784Z",
     "start_time": "2024-03-24T20:07:58.089487Z"
    },
    "id": "d44220f9"
   },
   "outputs": [],
   "source": [
    "# Using ffill(forward fill) to fill missing value in the ward column\n",
    "chicago_crime_df.Ward = chicago_crime_df.Ward.ffill() # Last observed value is carried forward"
   ]
  },
  {
   "cell_type": "code",
   "execution_count": 29,
   "id": "250ffe9f",
   "metadata": {
    "ExecuteTime": {
     "end_time": "2024-03-24T20:07:59.059956Z",
     "start_time": "2024-03-24T20:07:58.462256Z"
    },
    "colab": {
     "base_uri": "https://localhost:8080/"
    },
    "id": "250ffe9f",
    "outputId": "1cd6fa1d-4faa-4ad7-e418-8a4a91db046c"
   },
   "outputs": [],
   "source": [
    "chicago_crime_df.isna().sum()"
   ]
  },
  {
   "cell_type": "markdown",
   "id": "1664aae1-a5e5-4c7f-a7db-c4a02e7a6ce7",
   "metadata": {
    "id": "1664aae1-a5e5-4c7f-a7db-c4a02e7a6ce7"
   },
   "source": [
    "- __Handling Missing values for the Community Area Column (Using data imputation)__"
   ]
  },
  {
   "cell_type": "code",
   "execution_count": 30,
   "id": "009c30e1-b947-4103-81c1-033c9b999710",
   "metadata": {
    "ExecuteTime": {
     "end_time": "2024-03-24T20:08:00.409645Z",
     "start_time": "2024-03-24T20:07:59.148655Z"
    },
    "colab": {
     "base_uri": "https://localhost:8080/",
     "height": 210
    },
    "id": "009c30e1-b947-4103-81c1-033c9b999710",
    "outputId": "7b49e83d-53dc-44c3-846a-7c0d7d8f90af"
   },
   "outputs": [],
   "source": [
    "missing_values_table(chicago_crime_df)"
   ]
  },
  {
   "cell_type": "code",
   "execution_count": 31,
   "id": "a778fdee-d71a-45a3-b8f6-0069493fc11e",
   "metadata": {
    "ExecuteTime": {
     "end_time": "2024-03-24T20:08:00.570344Z",
     "start_time": "2024-03-24T20:08:00.498978Z"
    },
    "colab": {
     "base_uri": "https://localhost:8080/"
    },
    "id": "a778fdee-d71a-45a3-b8f6-0069493fc11e",
    "outputId": "5195be79-e396-412e-bdad-11369d8bd315"
   },
   "outputs": [],
   "source": [
    "# checking the unique values of the ward column\n",
    "chicago_crime_df['Community Area'].unique()"
   ]
  },
  {
   "cell_type": "code",
   "execution_count": 32,
   "id": "54a1d8cc-f490-4a90-a02e-ce7afc4a2f63",
   "metadata": {
    "ExecuteTime": {
     "end_time": "2024-03-24T20:08:00.720202Z",
     "start_time": "2024-03-24T20:08:00.665098Z"
    },
    "id": "54a1d8cc-f490-4a90-a02e-ce7afc4a2f63"
   },
   "outputs": [],
   "source": [
    "# Using ffill(forward fill) to fill missing value in the Community Area column\n",
    "chicago_crime_df['Community Area'] = chicago_crime_df['Community Area'].ffill() # Last observed value is carried forward"
   ]
  },
  {
   "cell_type": "code",
   "execution_count": 33,
   "id": "bf85352a-3bcb-4a38-a30f-5561f4049513",
   "metadata": {
    "ExecuteTime": {
     "end_time": "2024-03-24T20:08:01.460902Z",
     "start_time": "2024-03-24T20:08:00.829020Z"
    },
    "colab": {
     "base_uri": "https://localhost:8080/"
    },
    "id": "bf85352a-3bcb-4a38-a30f-5561f4049513",
    "outputId": "12338e83-3449-4d77-9c50-d3c0d379d634"
   },
   "outputs": [],
   "source": [
    "chicago_crime_df.isna().sum()"
   ]
  },
  {
   "cell_type": "markdown",
   "id": "1e1084da",
   "metadata": {
    "id": "1e1084da"
   },
   "source": [
    "- __Handling Missing values for the latitude and Longitude Column__ (Using Assosciation) <br>\n",
    "    - The assumption here is that the latitude and longitude readings are points that show exact location, are closer to eachother within a district. if they are, we can group our data by districts and fill up missing Latitide and longitude values by the median or mode."
   ]
  },
  {
   "cell_type": "code",
   "execution_count": 34,
   "id": "5e9541f2",
   "metadata": {
    "ExecuteTime": {
     "end_time": "2024-03-24T20:08:04.205830Z",
     "start_time": "2024-03-24T20:08:01.550978Z"
    },
    "colab": {
     "base_uri": "https://localhost:8080/"
    },
    "id": "5e9541f2",
    "outputId": "eeded09f-4069-47e9-ace8-65891a7a169f"
   },
   "outputs": [],
   "source": [
    "chicago_crime_df.groupby(['District', 'Longitude', 'Latitude']).size()"
   ]
  },
  {
   "cell_type": "markdown",
   "id": "11138dc3",
   "metadata": {
    "id": "11138dc3"
   },
   "source": [
    "There appears to be closeness in longitude and Latitude points when data is grouped based on districts, we can group based on district and fill up by taking the median."
   ]
  },
  {
   "cell_type": "code",
   "execution_count": 35,
   "id": "af6a82c7",
   "metadata": {
    "ExecuteTime": {
     "end_time": "2024-03-24T20:08:06.264119Z",
     "start_time": "2024-03-24T20:08:04.312619Z"
    },
    "id": "af6a82c7"
   },
   "outputs": [],
   "source": [
    "chicago_crime_df['Latitude'] = chicago_crime_df.groupby('District')['Latitude'].transform(lambda x: x.fillna(x.median()))\n",
    "chicago_crime_df['Longitude'] = chicago_crime_df.groupby('District')['Longitude'].transform(lambda x: x.fillna(x.median()))"
   ]
  },
  {
   "cell_type": "code",
   "execution_count": 36,
   "id": "90f0c0e7",
   "metadata": {
    "ExecuteTime": {
     "end_time": "2024-03-24T20:08:07.061296Z",
     "start_time": "2024-03-24T20:08:06.361542Z"
    },
    "colab": {
     "base_uri": "https://localhost:8080/"
    },
    "id": "90f0c0e7",
    "outputId": "de68eaca-b59b-4eae-a0a5-8815c508ae09"
   },
   "outputs": [],
   "source": [
    "chicago_crime_df.isna().sum()"
   ]
  },
  {
   "cell_type": "markdown",
   "id": "2e594257",
   "metadata": {
    "id": "2e594257"
   },
   "source": [
    "- __Handling Missing values for the Location Description__"
   ]
  },
  {
   "cell_type": "markdown",
   "id": "b1f25282",
   "metadata": {
    "ExecuteTime": {
     "end_time": "2024-03-10T09:48:29.963487Z",
     "start_time": "2024-03-10T09:48:28.719078Z"
    },
    "id": "b1f25282"
   },
   "source": [
    "We have just 2877 missing value for the location description which is 0.1% of the entire dataset. We can decide to drop the row where location decription is missing or fill this row with the most crime location."
   ]
  },
  {
   "cell_type": "code",
   "execution_count": 37,
   "id": "b9b2faed",
   "metadata": {
    "ExecuteTime": {
     "end_time": "2024-03-24T20:08:07.767375Z",
     "start_time": "2024-03-24T20:08:07.167233Z"
    },
    "colab": {
     "base_uri": "https://localhost:8080/"
    },
    "id": "b9b2faed",
    "outputId": "92350b78-edbd-46f8-8339-fa2390c4981c",
    "scrolled": true
   },
   "outputs": [],
   "source": [
    "chicago_crime_df.groupby(['District','Location Description']).size()"
   ]
  },
  {
   "cell_type": "code",
   "execution_count": 38,
   "id": "24f97b68",
   "metadata": {
    "ExecuteTime": {
     "end_time": "2024-03-24T20:08:08.567560Z",
     "start_time": "2024-03-24T20:08:07.880886Z"
    },
    "id": "24f97b68"
   },
   "outputs": [],
   "source": [
    "# dropping the missing location description index row\n",
    "chicago_crime_df.dropna(subset=['Location Description'],inplace=True)"
   ]
  },
  {
   "cell_type": "code",
   "execution_count": 39,
   "id": "55fd2665",
   "metadata": {
    "ExecuteTime": {
     "end_time": "2024-03-24T20:08:09.451402Z",
     "start_time": "2024-03-24T20:08:08.697866Z"
    },
    "colab": {
     "base_uri": "https://localhost:8080/"
    },
    "id": "55fd2665",
    "outputId": "43739234-883f-4433-f870-c04bc5f47cb7",
    "scrolled": true
   },
   "outputs": [],
   "source": [
    "chicago_crime_df.isna().sum()"
   ]
  },
  {
   "cell_type": "markdown",
   "id": "546e63ae-2ff8-4650-a301-b10d362b0682",
   "metadata": {
    "id": "546e63ae-2ff8-4650-a301-b10d362b0682"
   },
   "source": [
    "__3. convert inappropriate data types to the correct one__"
   ]
  },
  {
   "cell_type": "code",
   "execution_count": 40,
   "id": "6af7ee22-b88b-490c-acec-452e581bb456",
   "metadata": {
    "ExecuteTime": {
     "end_time": "2024-03-24T20:08:09.916469Z",
     "start_time": "2024-03-24T20:08:09.564946Z"
    },
    "id": "6af7ee22-b88b-490c-acec-452e581bb456"
   },
   "outputs": [],
   "source": [
    "# create a copy of the dataframe to avoid conflict\n",
    "c_crime_df = chicago_crime_df.copy()"
   ]
  },
  {
   "cell_type": "code",
   "execution_count": 41,
   "id": "844bff52-8465-4088-92e2-2947c2a8aeb3",
   "metadata": {
    "ExecuteTime": {
     "end_time": "2024-03-24T20:08:29.821064Z",
     "start_time": "2024-03-24T20:08:10.027302Z"
    },
    "id": "844bff52-8465-4088-92e2-2947c2a8aeb3"
   },
   "outputs": [],
   "source": [
    "# first we convert the date column to datetime data type.\n",
    "\n",
    "chicago_crime_df['Date'] = pd.to_datetime(chicago_crime_df['Date'],format = \"%m/%d/%Y %I:%M:%S %p\")"
   ]
  },
  {
   "cell_type": "code",
   "execution_count": 42,
   "id": "c8090530-25a2-4fd4-82f4-3be289361eaa",
   "metadata": {
    "ExecuteTime": {
     "end_time": "2024-03-24T20:08:31.474876Z",
     "start_time": "2024-03-24T20:08:29.958184Z"
    },
    "id": "c8090530-25a2-4fd4-82f4-3be289361eaa"
   },
   "outputs": [],
   "source": [
    "# convert the district column to a string; from the keynote, Chicago police has only 22 district and the data type is plain text\n",
    "\n",
    "chicago_crime_df['District'] = pd.Series(chicago_crime_df['District'], dtype='string')"
   ]
  },
  {
   "cell_type": "code",
   "execution_count": 43,
   "id": "a10bcc46-3f5a-49f4-9fae-402166e9136e",
   "metadata": {
    "ExecuteTime": {
     "end_time": "2024-03-24T20:08:31.731614Z",
     "start_time": "2024-03-24T20:08:31.582639Z"
    },
    "id": "a10bcc46-3f5a-49f4-9fae-402166e9136e"
   },
   "outputs": [],
   "source": [
    "chicago_crime_df['Block'] = chicago_crime_df['Block'].astype(str)"
   ]
  },
  {
   "cell_type": "markdown",
   "id": "cc8f291b-bc85-4dc2-9a9e-d1c288b61399",
   "metadata": {
    "id": "cc8f291b-bc85-4dc2-9a9e-d1c288b61399"
   },
   "source": [
    "# 4. Feature Engineering\n",
    "\n",
    "Create new columns for Time, Date, Block_new, Street, Months, Day, and Season"
   ]
  },
  {
   "cell_type": "code",
   "execution_count": 44,
   "id": "d4a06fef-5169-4c92-bff4-fdddacb0f309",
   "metadata": {
    "ExecuteTime": {
     "end_time": "2024-03-24T20:08:31.846441Z",
     "start_time": "2024-03-24T20:08:31.833433Z"
    },
    "id": "d4a06fef-5169-4c92-bff4-fdddacb0f309"
   },
   "outputs": [],
   "source": [
    "# Create new columns for Months\n",
    "def extract_and_map_month(date):\n",
    "    # Ensure Date column have been converted to datetime format\n",
    "    month_names = chicago_crime_df['Date'].dt.month_name()\n",
    "# dt is an attribute of the date column object\n",
    "# month_name() is a method\n",
    "    return month_names"
   ]
  },
  {
   "cell_type": "code",
   "execution_count": 45,
   "id": "c03c34fe-a207-4d57-8ac6-1879e17c3a88",
   "metadata": {
    "ExecuteTime": {
     "end_time": "2024-03-24T20:08:33.262224Z",
     "start_time": "2024-03-24T20:08:31.941791Z"
    },
    "id": "c03c34fe-a207-4d57-8ac6-1879e17c3a88"
   },
   "outputs": [],
   "source": [
    "chicago_crime_df['Month'] = extract_and_map_month(chicago_crime_df['Date'])\n",
    "\n",
    "# Group by month and count number of crimes\n",
    "monthly_crime_counts = chicago_crime_df.groupby('Month').size()"
   ]
  },
  {
   "cell_type": "code",
   "execution_count": 46,
   "id": "df886e1b-44b0-43c7-9196-499977fa79f1",
   "metadata": {
    "ExecuteTime": {
     "end_time": "2024-03-24T20:08:33.366854Z",
     "start_time": "2024-03-24T20:08:33.355185Z"
    },
    "id": "df886e1b-44b0-43c7-9196-499977fa79f1"
   },
   "outputs": [],
   "source": [
    "# Create new columns for Day\n",
    "def extract_and_map_month(date):\n",
    "    # ensure the input is in datetime format\n",
    "    day_names = chicago_crime_df['Date'].dt.day_name()\n",
    "# dt is an attribute of the date column object\n",
    "# month_name() is a method\n",
    "    return day_names"
   ]
  },
  {
   "cell_type": "code",
   "execution_count": 47,
   "id": "39b009a6-f3db-48aa-9157-a0d4607cf4e1",
   "metadata": {
    "ExecuteTime": {
     "end_time": "2024-03-24T20:08:35.598101Z",
     "start_time": "2024-03-24T20:08:33.476629Z"
    },
    "id": "39b009a6-f3db-48aa-9157-a0d4607cf4e1"
   },
   "outputs": [],
   "source": [
    "chicago_crime_df['Day'] = extract_and_map_month(chicago_crime_df['Date'])\n",
    "\n",
    "# Group by day and count number of crimes\n",
    "daily_crime_counts = chicago_crime_df.groupby('Day').size()"
   ]
  },
  {
   "cell_type": "code",
   "execution_count": 48,
   "id": "3d084f26-071a-47d1-9987-d093058ae120",
   "metadata": {
    "ExecuteTime": {
     "end_time": "2024-03-24T20:08:36.323676Z",
     "start_time": "2024-03-24T20:08:35.684211Z"
    },
    "id": "3d084f26-071a-47d1-9987-d093058ae120"
   },
   "outputs": [],
   "source": [
    "# Function to define various month and their corresponding season\n",
    "def get_season(month):\n",
    "    if month in ['December','January','February']:\n",
    "        return 'Winter'\n",
    "    elif month in ['March','April','May']:\n",
    "        return 'Spring'\n",
    "    elif month in ['June','July','August']:\n",
    "        return 'Summer'\n",
    "    else:\n",
    "        return 'Fall'"
   ]
  },
  {
   "cell_type": "code",
   "execution_count": 49,
   "id": "4505a71b-dbc9-4e1f-8e7a-6e9cae261a02",
   "metadata": {
    "ExecuteTime": {
     "end_time": "2024-03-24T20:08:38.580201Z",
     "start_time": "2024-03-24T20:08:36.543700Z"
    },
    "id": "4505a71b-dbc9-4e1f-8e7a-6e9cae261a02"
   },
   "outputs": [],
   "source": [
    "chicago_crime_df['Season'] = chicago_crime_df['Month'].apply(get_season)\n",
    "\n",
    "# Group by season and count number of crimes\n",
    "seasonal_crime_counts = chicago_crime_df.groupby('Season').size()\n"
   ]
  },
  {
   "cell_type": "code",
   "execution_count": null,
   "id": "8f24015a-c27b-46ae-9d6f-95da7a4be386",
   "metadata": {
    "id": "8f24015a-c27b-46ae-9d6f-95da7a4be386"
   },
   "outputs": [],
   "source": []
  },
  {
   "cell_type": "markdown",
   "id": "cb3d6c5b",
   "metadata": {
    "id": "cb3d6c5b"
   },
   "source": [
    "# 4. EDA: Data Exploration"
   ]
  },
  {
   "cell_type": "markdown",
   "id": "a00848fb",
   "metadata": {
    "ExecuteTime": {
     "end_time": "2024-03-21T17:26:55.994165Z",
     "start_time": "2024-03-21T17:26:55.676084Z"
    },
    "id": "a00848fb"
   },
   "source": [
    "1. **Total Number of cases**"
   ]
  },
  {
   "cell_type": "code",
   "execution_count": 50,
   "id": "fd0c282b",
   "metadata": {
    "ExecuteTime": {
     "end_time": "2024-03-24T20:08:39.872562Z",
     "start_time": "2024-03-24T20:08:38.667038Z"
    },
    "colab": {
     "base_uri": "https://localhost:8080/"
    },
    "id": "fd0c282b",
    "outputId": "599f40f4-c4be-4310-b958-2c2ada83b833"
   },
   "outputs": [],
   "source": [
    "# Number of Unique Case Number.\n",
    "\n",
    "print(f\"Out of {len(c_crime_df)}: {len(c_crime_df['Case Number'].unique())} are unique case numbers\")"
   ]
  },
  {
   "cell_type": "markdown",
   "id": "90f03909",
   "metadata": {
    "id": "90f03909"
   },
   "source": [
    "Observation: Most case numbers are unique case numbers."
   ]
  },
  {
   "cell_type": "markdown",
   "id": "c61bc9c8",
   "metadata": {
    "id": "c61bc9c8"
   },
   "source": [
    "Number of Non-Unique cases"
   ]
  },
  {
   "cell_type": "code",
   "execution_count": 51,
   "id": "1795f5f4",
   "metadata": {
    "ExecuteTime": {
     "end_time": "2024-03-24T20:10:37.550971Z",
     "start_time": "2024-03-24T20:10:35.371476Z"
    },
    "colab": {
     "base_uri": "https://localhost:8080/"
    },
    "id": "1795f5f4",
    "outputId": "47a6c2b4-ed6c-4baf-e772-e89815cfa576"
   },
   "outputs": [],
   "source": [
    "# Out of all cases , how many are non_unique cases ?\n",
    "\n",
    "non_unique_case_number = c_crime_df[c_crime_df.duplicated('Case Number') | c_crime_df.duplicated('Case Number', keep=False)]['Case Number'].tolist()\n",
    "\n",
    "print(f\"Length of non_unique: {len(non_unique_case_number)} out of {len(c_crime_df)}\")"
   ]
  },
  {
   "cell_type": "code",
   "execution_count": 54,
   "id": "4a4214b0",
   "metadata": {
    "ExecuteTime": {
     "end_time": "2024-03-24T20:11:05.206748Z",
     "start_time": "2024-03-24T20:11:04.061518Z"
    },
    "colab": {
     "base_uri": "https://localhost:8080/",
     "height": 310
    },
    "id": "4a4214b0",
    "outputId": "1b832e00-5aae-4e7b-806d-6231febad011"
   },
   "outputs": [],
   "source": [
    "non_unique_case_number_df = c_crime_df[c_crime_df.duplicated('Case Number', keep=False)]\n",
    "non_unique_case_number_df.head() # Saving non_unique case number dataframe for future use."
   ]
  },
  {
   "cell_type": "markdown",
   "id": "1b54426f",
   "metadata": {
    "id": "1b54426f"
   },
   "source": [
    "Observation: There are 2275789 unique values of case number out of 2275836 , it means there are 2275789 cases registered with a single crime the rest 92 are the case numbers which have commited multiple crimes."
   ]
  },
  {
   "cell_type": "markdown",
   "id": "gZh7UMVXfVvw",
   "metadata": {
    "id": "gZh7UMVXfVvw"
   },
   "source": [
    "2. **Number of crimes per Year**"
   ]
  },
  {
   "cell_type": "code",
   "execution_count": 55,
   "id": "AX6fNCZIlC7l",
   "metadata": {
    "ExecuteTime": {
     "end_time": "2024-03-24T20:11:08.088898Z",
     "start_time": "2024-03-24T20:11:07.395527Z"
    },
    "colab": {
     "base_uri": "https://localhost:8080/",
     "height": 816
    },
    "id": "AX6fNCZIlC7l",
    "outputId": "55ca2f61-52c8-4a8f-a4ab-1fe19ae37182"
   },
   "outputs": [],
   "source": [
    "# Count the number of crimes per year\n",
    "crime_counts_per_year = chicago_crime_df['Year'].value_counts().sort_index()\n",
    "\n",
    "# Plotting\n",
    "plt.figure(figsize=(20, 13))\n",
    "crime_counts_per_year.plot(kind='bar',fontsize = 15)\n",
    "plt.title('Number of Crimes in Chicago from 2001 to 2024', fontsize = 30)\n",
    "plt.xlabel('Year',fontsize = 20)\n",
    "plt.ylabel('Number of Crimes',fontsize = 20)\n",
    "plt.xticks(rotation=45)\n",
    "plt.grid(axis='y', linestyle='--', alpha=0.7)\n",
    "plt.tight_layout()\n",
    "plt.show()"
   ]
  },
  {
   "cell_type": "markdown",
   "id": "RoARopMslmyR",
   "metadata": {
    "id": "RoARopMslmyR"
   },
   "source": [
    "3. **Number of crimes by month**"
   ]
  },
  {
   "cell_type": "code",
   "execution_count": 56,
   "id": "x9qPegQNkipo",
   "metadata": {
    "ExecuteTime": {
     "end_time": "2024-03-24T20:11:09.933870Z",
     "start_time": "2024-03-24T20:11:08.887925Z"
    },
    "colab": {
     "base_uri": "https://localhost:8080/",
     "height": 816
    },
    "id": "x9qPegQNkipo",
    "outputId": "18478475-4c5a-45ad-91f8-68077fda2d99"
   },
   "outputs": [],
   "source": [
    "# Extract month from 'Date' column\n",
    "chicago_crime_df['Month'] = chicago_crime_df['Date'].dt.month\n",
    "\n",
    "# Group by month and count the number of crimes\n",
    "crimes_per_month = chicago_crime_df.groupby('Month').size()\n",
    "\n",
    "# Plot the number of crimes per month\n",
    "plt.figure(figsize=(20, 13))\n",
    "crimes_per_month.plot(kind='bar',fontsize = 15)\n",
    "plt.title('Number of Crimes per Month in Chicago',fontsize = 30)\n",
    "plt.xlabel('Month',fontsize = 20)\n",
    "plt.ylabel('Number of Crimes',fontsize = 20)\n",
    "plt.xticks(rotation=0)\n",
    "plt.grid(axis='y', linestyle='--', alpha=0.7)\n",
    "plt.tight_layout()\n",
    "plt.show()"
   ]
  },
  {
   "cell_type": "markdown",
   "id": "9c4a605d",
   "metadata": {
    "id": "9c4a605d"
   },
   "source": [
    "4. **Top 10 - Number of cases each day**"
   ]
  },
  {
   "cell_type": "code",
   "execution_count": 57,
   "id": "6ce8dcc6",
   "metadata": {
    "ExecuteTime": {
     "end_time": "2024-03-24T20:11:13.242783Z",
     "start_time": "2024-03-24T20:11:10.297385Z"
    },
    "id": "6ce8dcc6"
   },
   "outputs": [],
   "source": [
    "# Function to convert Date from \"DD/MM/YYYY HH:MM:SS\" to \"DD/MM/YYYY\"\n",
    "\n",
    "def date_column(df) :\n",
    "    date_list = []\n",
    "    for i in df['Date'] :\n",
    "        date_spliter = i.split()[0]\n",
    "        date_list.append(date_spliter)\n",
    "    return date_list\n",
    "date_column(c_crime_df)\n",
    "\n",
    "\n",
    "c_crime_df['date'] = date_column(c_crime_df)"
   ]
  },
  {
   "cell_type": "code",
   "execution_count": 58,
   "id": "f21f7bf1",
   "metadata": {
    "ExecuteTime": {
     "end_time": "2024-03-24T20:11:17.041016Z",
     "start_time": "2024-03-24T20:11:16.245147Z"
    },
    "colab": {
     "base_uri": "https://localhost:8080/",
     "height": 394
    },
    "id": "f21f7bf1",
    "outputId": "18c7744a-a88b-4542-efe9-2dbe27478635"
   },
   "outputs": [],
   "source": [
    "# Top 10 - Number of cases each day?\n",
    "\n",
    "top_10_num_of_cases_each_day = c_crime_df.groupby(['date'])['Case Number'].count().reset_index(name = 'no_of_cases').set_index('no_of_cases').sort_index(ascending = False)[:10]\n",
    "top_10_num_of_cases_each_day"
   ]
  },
  {
   "cell_type": "code",
   "execution_count": 59,
   "id": "16cdbf6a",
   "metadata": {
    "ExecuteTime": {
     "end_time": "2024-03-24T20:11:19.126631Z",
     "start_time": "2024-03-24T20:11:18.727815Z"
    },
    "colab": {
     "base_uri": "https://localhost:8080/",
     "height": 472
    },
    "id": "16cdbf6a",
    "outputId": "d05168ad-5c2b-456d-e0b1-07e7f3642755"
   },
   "outputs": [],
   "source": [
    "top_10_num_of_cases_each_day_df = pd.DataFrame(top_10_num_of_cases_each_day)\n",
    "index_df = top_10_num_of_cases_each_day_df.index\n",
    "\n",
    "sns.barplot(x = index_df , y = 'date' , data = top_10_num_of_cases_each_day_df)\n",
    "plt.title(\"Most cases per day - Bar plot\")\n",
    "plt.xlabel(\"Number of Cases\")\n",
    "plt.ylabel(\"Date\")\n",
    "plt.show()"
   ]
  },
  {
   "cell_type": "markdown",
   "id": "b8e559a9",
   "metadata": {
    "id": "b8e559a9"
   },
   "source": [
    "Observation: The average Number of cases per day could be more than 550"
   ]
  },
  {
   "cell_type": "markdown",
   "id": "da9b2502",
   "metadata": {
    "id": "da9b2502"
   },
   "source": [
    "5. __Number of crime by type__</br>\n",
    "We try to indentify the trend and highpoints or lowpoints."
   ]
  },
  {
   "cell_type": "code",
   "execution_count": null,
   "id": "530d94f9",
   "metadata": {
    "ExecuteTime": {
     "start_time": "2024-03-24T18:55:52.189Z"
    },
    "colab": {
     "base_uri": "https://localhost:8080/",
     "height": 542
    },
    "id": "530d94f9",
    "outputId": "771db8bd-5788-4ee2-e71c-e104fca4256a"
   },
   "outputs": [],
   "source": [
    "# Function to plot the serie value_counts\n",
    "def plot_counts(serie, title):\n",
    "    df = pd.DataFrame(serie.value_counts()[:15])\n",
    "    df.columns = [\"Freq\"]\n",
    "    df[\"Type\"] = df.index\n",
    "    fig = px.bar(df, y=\"Freq\", x=\"Type\", text=\"Freq\", color=\"Freq\", color_continuous_scale=px.colors.sequential.Blugrn)\n",
    "    fig.update_traces(texttemplate=\"%{text:.2s}\", textposition=\"outside\")\n",
    "    fig.update_layout(uniformtext_minsize=8, uniformtext_mode=\"hide\")\n",
    "    fig.update_layout(title_text=title)\n",
    "    fig.show()\n",
    "\n",
    "\n",
    "plot_counts(c_crime_df[\"Primary Type\"], \"Type of Crimes\")"
   ]
  },
  {
   "cell_type": "markdown",
   "id": "2ee8b340",
   "metadata": {
    "id": "2ee8b340"
   },
   "source": [
    "Observation: THEFT, BATTERY, CRIMINAL DAMAGE and NARCOTICS represents more the 65% of the crimes."
   ]
  },
  {
   "cell_type": "markdown",
   "id": "3fc29c42",
   "metadata": {
    "id": "3fc29c42"
   },
   "source": [
    "6. __Where does crimes happens the most?__"
   ]
  },
  {
   "cell_type": "code",
   "execution_count": null,
   "id": "f1a40772",
   "metadata": {
    "ExecuteTime": {
     "start_time": "2024-03-24T18:55:52.198Z"
    },
    "colab": {
     "base_uri": "https://localhost:8080/",
     "height": 542
    },
    "id": "f1a40772",
    "outputId": "3a8cf462-b767-4d7a-99d6-3dafb66822ed"
   },
   "outputs": [],
   "source": [
    "plot_counts(c_crime_df[\"Location Description\"], \"Location of Crimes\")"
   ]
  },
  {
   "cell_type": "markdown",
   "id": "a0fd327c",
   "metadata": {
    "id": "a0fd327c"
   },
   "source": [
    "Crime happens mostly on the street"
   ]
  },
  {
   "cell_type": "markdown",
   "id": "f2d7899a",
   "metadata": {
    "id": "f2d7899a"
   },
   "source": [
    "7. __Number of crimes per Year x Months__ </br>\n",
    "Let's see the number of crimes per Year and Months..."
   ]
  },
  {
   "cell_type": "code",
   "execution_count": null,
   "id": "d370fd23",
   "metadata": {
    "ExecuteTime": {
     "start_time": "2024-03-24T18:55:52.207Z"
    },
    "id": "d370fd23"
   },
   "outputs": [],
   "source": [
    "# first we convert the date column to datetime data type.\n",
    "\n",
    "c_crime_df['Date'] = pd.to_datetime(chicago_crime_df['Date'],format = \"%m/%d/%Y %I:%M:%S %p\")\n",
    "c_crime_df.set_index(\"Date\", inplace=True)"
   ]
  },
  {
   "cell_type": "code",
   "execution_count": null,
   "id": "ba8d289b",
   "metadata": {
    "ExecuteTime": {
     "start_time": "2024-03-24T18:55:52.214Z"
    },
    "colab": {
     "base_uri": "https://localhost:8080/",
     "height": 238
    },
    "id": "ba8d289b",
    "outputId": "0780b883-0f38-412a-8f26-e0677d6eccc9"
   },
   "outputs": [],
   "source": [
    "cases = pd.DataFrame(c_crime_df.resample(\"M\").size(), columns=[\"Number of cases\"])\n",
    "cases[\"Month\"] = cases.index.month.astype(str)\n",
    "cases[\"Year\"] = cases.index.year.astype(str)\n",
    "cases[\"Year-Month\"] = cases[\"Year\"].str.cat(cases[\"Month\"].str.zfill(2), sep=\"-\")\n",
    "cases.head()"
   ]
  },
  {
   "cell_type": "markdown",
   "id": "f43979b6",
   "metadata": {
    "id": "f43979b6"
   },
   "source": [
    "BY HEATMAP"
   ]
  },
  {
   "cell_type": "code",
   "execution_count": null,
   "id": "f362a758",
   "metadata": {
    "ExecuteTime": {
     "start_time": "2024-03-24T18:55:52.222Z"
    },
    "colab": {
     "base_uri": "https://localhost:8080/",
     "height": 743
    },
    "id": "f362a758",
    "outputId": "ab4bf30f-77fa-4aa9-a7bf-92a856ce9b39"
   },
   "outputs": [],
   "source": [
    "case_table = cases[[\"Month\", \"Year\", \"Number of cases\"]]\n",
    "case_table  = case_table.pivot(index='Month', columns='Year', values='Number of cases').fillna(0).astype(int)\n",
    "case_table.index = case_table.index.astype(int)\n",
    "case_table = case_table.sort_index()\n",
    "case_table.index = ['Jan', 'Fev', 'Mar', 'Apr', 'May', 'Jun', 'Jul', 'Aug', 'Sep', 'Oct', 'Nov', 'Dec']\n",
    "plt.figure(figsize=(20, 10))\n",
    "_ = sns.heatmap(\n",
    "    case_table,\n",
    "    annot=True,\n",
    "    fmt=\"d\",\n",
    "    linewidths=0.5,\n",
    "    cmap=\"Blues\",\n",
    ").set_title('Number of crimes in chicago per Year x Months')"
   ]
  },
  {
   "cell_type": "markdown",
   "id": "71a11cf8",
   "metadata": {
    "id": "71a11cf8"
   },
   "source": [
    "The years between 2001 and 2012 were a tough time, the year 2008 was the worst with a mean of 71004 crimes per month, and the best year was the 2015 with a mean of 21916 crimes per month."
   ]
  },
  {
   "cell_type": "markdown",
   "id": "04d00bca",
   "metadata": {
    "id": "04d00bca"
   },
   "source": [
    "BY BAR"
   ]
  },
  {
   "cell_type": "code",
   "execution_count": null,
   "id": "70fe52f1",
   "metadata": {
    "ExecuteTime": {
     "start_time": "2024-03-24T18:55:52.238Z"
    },
    "colab": {
     "base_uri": "https://localhost:8080/",
     "height": 637
    },
    "id": "70fe52f1",
    "outputId": "e1d0ec44-073c-4d72-c274-6c35fabbe914"
   },
   "outputs": [],
   "source": [
    "fig = px.bar(\n",
    "    cases,\n",
    "    x=\"Year-Month\",\n",
    "    y=\"Number of cases\",\n",
    "    hover_data=[\"Year\", \"Month\", \"Number of cases\"],\n",
    "    color=\"Number of cases\",\n",
    "    height=600,\n",
    "    width=1400,\n",
    "    color_continuous_scale=px.colors.sequential.Blugrn\n",
    "\n",
    ")\n",
    "fig.update_layout(title_text='Crime counts per year-month in bars')\n",
    "fig.show()"
   ]
  },
  {
   "cell_type": "markdown",
   "id": "0b220954",
   "metadata": {
    "id": "0b220954"
   },
   "source": [
    "Similar graph but using bars to visualize though noisy but can be used. Again the 'tough time' during 2001 until 2012."
   ]
  },
  {
   "cell_type": "code",
   "execution_count": null,
   "id": "0b3cc17d",
   "metadata": {
    "id": "0b3cc17d"
   },
   "outputs": [],
   "source": []
  },
  {
   "cell_type": "markdown",
   "id": "289125bb",
   "metadata": {
    "id": "289125bb"
   },
   "source": [
    "8. **Are there specific location that crimes used to happen?**\n",
    "\n",
    "Using Map plot"
   ]
  },
  {
   "cell_type": "code",
   "execution_count": null,
   "id": "53e0bfbd",
   "metadata": {
    "ExecuteTime": {
     "start_time": "2024-03-24T18:55:52.252Z"
    },
    "colab": {
     "base_uri": "https://localhost:8080/",
     "height": 345
    },
    "id": "53e0bfbd",
    "outputId": "638f1b1d-c659-46f4-e81a-1e84c44f5f32"
   },
   "outputs": [],
   "source": [
    "map_marks = chicago_crime_df[['Latitude', 'Longitude']]\n",
    "map_marks['Year'] =  pd.to_datetime(chicago_crime_df.Date, format=\"%m/%d/%Y %I:%M:%S %p\").dt.year\n",
    "map_marks.head()"
   ]
  },
  {
   "cell_type": "code",
   "execution_count": null,
   "id": "918baab8",
   "metadata": {
    "ExecuteTime": {
     "start_time": "2024-03-24T18:55:52.258Z"
    },
    "colab": {
     "base_uri": "https://localhost:8080/",
     "height": 667
    },
    "id": "918baab8",
    "outputId": "df7166b1-051e-4192-baa9-1940c0d1cdf9"
   },
   "outputs": [],
   "source": [
    "fig = px.scatter_mapbox(map_marks[map_marks.Year == 2016].sample(5000), lat=\"Latitude\", lon=\"Longitude\",\n",
    "                        color_discrete_sequence=[\"fuchsia\"], zoom=9, height=650)\n",
    "fig.update_layout(mapbox_style=\"open-street-map\")\n",
    "fig.update_layout(margin={\"r\":0,\"t\":0,\"l\":0,\"b\":0})\n",
    "fig.show()"
   ]
  },
  {
   "cell_type": "markdown",
   "id": "c5648b20",
   "metadata": {
    "id": "c5648b20"
   },
   "source": [
    "Look like there is crime everywhere in Chicago, in the centre, you can see more points but also is a crowded place."
   ]
  },
  {
   "cell_type": "markdown",
   "id": "7063e9ec",
   "metadata": {
    "id": "7063e9ec"
   },
   "source": [
    "9. **What is the arrested rate per crime?**"
   ]
  },
  {
   "cell_type": "code",
   "execution_count": null,
   "id": "e70009a8",
   "metadata": {
    "ExecuteTime": {
     "start_time": "2024-03-24T18:55:52.269Z"
    },
    "colab": {
     "base_uri": "https://localhost:8080/",
     "height": 817
    },
    "id": "e70009a8",
    "outputId": "884e8b9f-fe61-404d-d8cb-b984fa434748"
   },
   "outputs": [],
   "source": [
    "cases = c_crime_df.groupby('Primary Type')['Arrest'].mean().reset_index()\n",
    "cases['Arrest (%)'] = cases['Arrest'].round(4)*100\n",
    "cases.sort_values('Arrest', inplace=True)\n",
    "fig = px.bar(\n",
    "    cases,\n",
    "    orientation='h',\n",
    "    x=\"Arrest (%)\",\n",
    "    y=\"Primary Type\",\n",
    "    color=\"Arrest (%)\",\n",
    "    text=\"Arrest (%)\",\n",
    "    height=800,\n",
    "    #width=800,\n",
    "        color_continuous_scale=px.colors.sequential.Blugrn\n",
    "\n",
    ")\n",
    "fig.update_traces(texttemplate=\"%{text:.4s}\", textposition=\"outside\")\n",
    "fig.update_layout(title_text=\"Arrested Rate in % per Type Crime in Chicago.\")\n",
    "\n",
    "fig.show()"
   ]
  },
  {
   "cell_type": "markdown",
   "id": "ea7e54a6",
   "metadata": {
    "id": "ea7e54a6"
   },
   "source": [
    "The “VIOLATION” crimes look strongly correlated to the arrested rate once the 'cop' must be present in the location to declare the violation."
   ]
  },
  {
   "cell_type": "markdown",
   "id": "jtX0AL4vjH8s",
   "metadata": {
    "id": "jtX0AL4vjH8s"
   },
   "source": [
    "11. **Top 10 Block with the most crime**"
   ]
  },
  {
   "cell_type": "code",
   "execution_count": null,
   "id": "oYGkAfZueHIp",
   "metadata": {
    "ExecuteTime": {
     "start_time": "2024-03-24T18:55:52.281Z"
    },
    "colab": {
     "base_uri": "https://localhost:8080/",
     "height": 816
    },
    "id": "oYGkAfZueHIp",
    "outputId": "cd2a9e84-39d1-419c-b1a0-8342418f8b63"
   },
   "outputs": [],
   "source": [
    "# Group the data by 'Block' and count occurrences\n",
    "block_counts = chicago_crime_df['Block'].value_counts()\n",
    "\n",
    "# Select the top 10 blocks with the most crimes\n",
    "top_10_blocks = block_counts.head(10)\n",
    "\n",
    "# Plot the top 10 blocks\n",
    "top_10_blocks.plot(kind='bar', figsize = (20,13), fontsize = 15)\n",
    "plt.title('Top 10 Blocks with Most Crime in Chicago',fontsize=30)\n",
    "plt.xlabel('Block', fontsize=20)\n",
    "plt.ylabel('Number of Crimes',fontsize=20)\n",
    "plt.xticks(rotation=90, ha='right')\n",
    "plt.tight_layout()\n",
    "plt.show()"
   ]
  },
  {
   "cell_type": "markdown",
   "id": "D1oHhRtBgX5M",
   "metadata": {
    "id": "D1oHhRtBgX5M"
   },
   "source": [
    "12. **Top - 10 Ward with most amount of crimes**"
   ]
  },
  {
   "cell_type": "code",
   "execution_count": null,
   "id": "pUccbMqLfFMn",
   "metadata": {
    "ExecuteTime": {
     "start_time": "2024-03-24T18:55:52.289Z"
    },
    "colab": {
     "base_uri": "https://localhost:8080/",
     "height": 816
    },
    "id": "pUccbMqLfFMn",
    "outputId": "741b8b60-e502-4f70-efb3-1c532100e3b0"
   },
   "outputs": [],
   "source": [
    "# Group by 'Ward' and count the occurrences of crimes in each ward\n",
    "ward_crime_counts = chicago_crime_df['Ward'].value_counts()\n",
    "\n",
    "# Select the top 10 wards\n",
    "top_10_wards = ward_crime_counts.head(10)\n",
    "\n",
    "# Plot the data\n",
    "top_10_wards.plot(kind='bar', figsize = (20,13), fontsize = 15)\n",
    "plt.title('Top 10 Wards with the Most Amount of Crimes', fontsize = 30)\n",
    "plt.xlabel('Ward', fontsize = 20)\n",
    "plt.ylabel('Number of Crimes', fontsize = 20)\n",
    "plt.xticks(rotation=45)\n",
    "plt.tight_layout()\n",
    "plt.show()"
   ]
  },
  {
   "cell_type": "markdown",
   "id": "JMGQcbOqg52-",
   "metadata": {
    "id": "JMGQcbOqg52-"
   },
   "source": [
    "13. **Top - 10 community area with the most amount of crimes**\n",
    "\n",
    "\n"
   ]
  },
  {
   "cell_type": "code",
   "execution_count": null,
   "id": "TB_2igumd1Jr",
   "metadata": {
    "ExecuteTime": {
     "start_time": "2024-03-24T18:55:52.294Z"
    },
    "colab": {
     "base_uri": "https://localhost:8080/",
     "height": 958
    },
    "id": "TB_2igumd1Jr",
    "outputId": "4607b612-bb2e-4818-cc44-c8bcc9588c9c"
   },
   "outputs": [],
   "source": [
    "# Group the data by community area and count the number of crimes\n",
    "community_crime_count = c_crime_df['Community Area'].value_counts().reset_index()\n",
    "community_crime_count.columns = ['Community Area', 'Crime Count']\n",
    "\n",
    "# Sort the data to find the top 10 community areas with the most crimes\n",
    "top_10_community_crime = community_crime_count.head(10)\n",
    "\n",
    "# Visualize the top 10 community areas with the most crimes\n",
    "plt.figure(figsize=(20, 13))\n",
    "sns.barplot(x='Community Area', y='Crime Count', data=top_10_community_crime, palette='viridis')\n",
    "plt.title('Top 10 Community Areas with the Most Crimes in Chicago', fontsize = 30)\n",
    "plt.xlabel('Community Area',fontsize = 20)\n",
    "plt.ylabel('Number of Crimes', fontsize = 20)\n",
    "plt.xticks(rotation=45)\n",
    "plt.tight_layout()\n",
    "plt.show()"
   ]
  },
  {
   "cell_type": "markdown",
   "id": "QWzNfbrnhz2H",
   "metadata": {
    "id": "QWzNfbrnhz2H"
   },
   "source": [
    "14. **Top - 10 communities with the most crime in 2023**"
   ]
  },
  {
   "cell_type": "code",
   "execution_count": null,
   "id": "pundF7BPdX30",
   "metadata": {
    "ExecuteTime": {
     "start_time": "2024-03-24T18:55:52.303Z"
    },
    "colab": {
     "base_uri": "https://localhost:8080/",
     "height": 816
    },
    "id": "pundF7BPdX30",
    "outputId": "bb8255da-575b-4c07-f6f3-72180fca6ceb"
   },
   "outputs": [],
   "source": [
    "# Filter the dataset for the year 2023\n",
    "chicago_crime_2023 = c_crime_df[c_crime_df['Year'] == 2023]\n",
    "\n",
    "# Group by community and count the number of crimes\n",
    "crime_by_community = chicago_crime_2023['Community Area'].value_counts().sort_values(ascending=False)\n",
    "\n",
    "# Select the top 10 communities with the most crime\n",
    "top_10_communities = crime_by_community.head(10)\n",
    "\n",
    "# Plot the top 10 communities with the most crime\n",
    "plt.figure(figsize=(20, 13))\n",
    "top_10_communities.plot(kind='bar', fontsize = 15)\n",
    "plt.title('Top 10 Communities with the Most Crime in 2023', fontsize = 30)\n",
    "plt.xlabel('Community Area',fontsize = 20)\n",
    "plt.ylabel('Number of Crimes',fontsize = 20)\n",
    "plt.xticks(rotation=45)\n",
    "plt.tight_layout()\n",
    "plt.show()"
   ]
  },
  {
   "cell_type": "markdown",
   "id": "BUvAGS4gjjG7",
   "metadata": {
    "id": "BUvAGS4gjjG7"
   },
   "source": [
    "15. **Top - 10 Location  where theft normally occurs**"
   ]
  },
  {
   "cell_type": "code",
   "execution_count": null,
   "id": "0jsgMRGoiVRz",
   "metadata": {
    "ExecuteTime": {
     "start_time": "2024-03-24T18:55:52.308Z"
    },
    "colab": {
     "base_uri": "https://localhost:8080/",
     "height": 816
    },
    "id": "0jsgMRGoiVRz",
    "outputId": "ca6be47e-7197-4511-9df0-00a5687d0017"
   },
   "outputs": [],
   "source": [
    "# Filter the dataset to include only theft-related incidents\n",
    "theft_df = chicago_crime_df[chicago_crime_df['Primary Type'] == 'THEFT']\n",
    "\n",
    "# Count the occurrences of theft incidents at each location\n",
    "theft_locations_count = theft_df['Location Description'].value_counts()\n",
    "\n",
    "# Get the top 10 locations\n",
    "top_10_theft_locations = theft_locations_count.head(10)\n",
    "\n",
    "# Plot the top 10 theft locations\n",
    "plt.figure(figsize=(20, 13))\n",
    "top_10_theft_locations.plot(kind='bar',fontsize = 15)\n",
    "plt.title('Top 10 Locations for Theft in Chicago',fontsize = 30)\n",
    "plt.xlabel('Location',fontsize = 20)\n",
    "plt.ylabel('Number of Incidents', fontsize = 20)\n",
    "plt.xticks(rotation=45, ha='right')\n",
    "plt.tight_layout()\n",
    "plt.show()"
   ]
  },
  {
   "cell_type": "markdown",
   "id": "w-ReUCiikM9R",
   "metadata": {
    "id": "w-ReUCiikM9R"
   },
   "source": [
    "16. **Top-15 crime where arrest occured**"
   ]
  },
  {
   "cell_type": "code",
   "execution_count": null,
   "id": "8tsSNfJpkOCg",
   "metadata": {
    "ExecuteTime": {
     "start_time": "2024-03-24T18:55:52.313Z"
    },
    "colab": {
     "base_uri": "https://localhost:8080/",
     "height": 606
    },
    "id": "8tsSNfJpkOCg",
    "outputId": "16108bd3-98f4-4808-d1ff-405da644afd3"
   },
   "outputs": [],
   "source": [
    "ax = c_crime_df[c_crime_df['Arrest'] == True].value_counts(\"Primary Type\")[:15]\\\n",
    "    .plot(kind = 'barh',\n",
    "          figsize = (20,13),\n",
    "          fontsize = 30)\n",
    "ax.set_ylabel(\"Type of Crime\", fontsize=20)\n",
    "ax.set_xlabel(\"Count\", fontsize=20)\n",
    "ax.set_title(\"Top 15 crimes were arrests occured\", fontsize=30)\n",
    "plt.show()\n"
   ]
  },
  {
   "cell_type": "code",
   "execution_count": null,
   "id": "06a9bffe",
   "metadata": {
    "id": "06a9bffe"
   },
   "outputs": [],
   "source": []
  }
 ],
 "metadata": {
  "colab": {
   "provenance": []
  },
  "kernelspec": {
   "display_name": "Python 3 (ipykernel)",
   "language": "python",
   "name": "python3"
  },
  "language_info": {
   "codemirror_mode": {
    "name": "ipython",
    "version": 3
   },
   "file_extension": ".py",
   "mimetype": "text/x-python",
   "name": "python",
   "nbconvert_exporter": "python",
   "pygments_lexer": "ipython3",
   "version": "3.11.7"
  },
  "toc": {
   "base_numbering": 1,
   "nav_menu": {},
   "number_sections": true,
   "sideBar": true,
   "skip_h1_title": false,
   "title_cell": "Table of Contents",
   "title_sidebar": "Contents",
   "toc_cell": false,
   "toc_position": {},
   "toc_section_display": true,
   "toc_window_display": false
  },
  "varInspector": {
   "cols": {
    "lenName": 16,
    "lenType": 16,
    "lenVar": 40
   },
   "kernels_config": {
    "python": {
     "delete_cmd_postfix": "",
     "delete_cmd_prefix": "del ",
     "library": "var_list.py",
     "varRefreshCmd": "print(var_dic_list())"
    },
    "r": {
     "delete_cmd_postfix": ") ",
     "delete_cmd_prefix": "rm(",
     "library": "var_list.r",
     "varRefreshCmd": "cat(var_dic_list()) "
    }
   },
   "types_to_exclude": [
    "module",
    "function",
    "builtin_function_or_method",
    "instance",
    "_Feature"
   ],
   "window_display": false
  }
 },
 "nbformat": 4,
 "nbformat_minor": 5
}
