{
  "cells": [
    {
      "cell_type": "markdown",
      "id": "547ae1a6",
      "metadata": {
        "id": "547ae1a6"
      },
      "source": [
        "_LEARNING-CIRCLE-24 PROJECT_"
      ]
    },
    {
      "cell_type": "markdown",
      "id": "0dad4ee9",
      "metadata": {
        "id": "0dad4ee9"
      },
      "source": [
        "<h2> Learning-Circle-24 </h2> <p>  Contributors </p>\n",
        "\n"
      ]
    },
    {
      "cell_type": "markdown",
      "id": "ebc10ba9",
      "metadata": {
        "id": "ebc10ba9"
      },
      "source": [
        "# **Crime in Chicago**\n",
        "This is a dataset\n",
        "The data dictionary can be found in [Chicago Crime Portal](https://data.cityofchicago.org/Public-Safety/Crimes-2001-to-Present/ijzp-q8t2/about_data)\n",
        "\n",
        "In this notebook, we are going to explore more about crime in Chicago and try to answer few questions."
      ]
    },
    {
      "cell_type": "markdown",
      "id": "ad32ee5f",
      "metadata": {
        "id": "ad32ee5f"
      },
      "source": [
        "Analyzing the Chicago crime dataset involves examining various aspects of the data to understand patterns, trends, and characteristics of criminal activities in Chicago. We perform analysis using Python, pandas and visualization libraries using the following steps:\n",
        "\n",
        "1. Load the Dataset: Load the Chicago crime dataset into a DataFrame.\n",
        "2. Explore the Dataset: Examine the structure, columns, and basic statistics of the dataset.\n",
        "3. Data Preprocessing: We cleaned the data by dropping redundant columns,handling missing values and converting columns to their appropriate format.\n",
        "4. Feature Engineering: Create new column for Months, Day, Season\n",
        "5. EDA: Exploratory Data Analysis\n",
        "    - What is the total number of crime cases filed from 2001 till date?\n",
        "    - How many unique crimes are available and what is the count for each crime from 2001-2022?\n",
        "    - what is the number of crime per year?\n",
        "    - What is the number of crime per month?\n",
        "    - Top 10 number of cases discovered each day?\n",
        "    - What is the trend of crime by type?\n",
        "    - Where does crimes happen the most?\n",
        "    - What is the number of crime discovered by month and year?\n",
        "    - Are there specific location that crimes used to happen?\n",
        "    - What is the arrested rate per crime?\n",
        "    - Top 10 Block with the most crime?\n",
        "    - Top 10 ward with most amount of crimes?\n",
        "    - Top 10 community area with the most amount of crimes?\n",
        "    - Top 10 communities with the most crime in 2023?\n",
        "    - Top 10 Location where theft normally occurs?\n",
        "    - Top-15 crime where arrest occured?\n",
        "    - How has crime in Chicago changed across years? Was 2021 really the bloodiest year in two decades?\n",
        "    - Are some types of crimes more likely to happen in specific locations or specific time of the day or specific day of the week than other types of        crimes?\n",
        "    - In which month did the lowest motor vehicle thefts occur?\n",
        "    - How prominant are certain types of various crimes?\n",
        "    - How do rates of crime change of time? For instance, are there any seasonal effects or changes depending on the time ofday?\n",
        "    - Where do these crimes occur? Are some areas more safe than others?\n",
        "6. Summarize and Visualize Insights: Summarize and Visualize the key insights and findings from the analysis using plots and charts."
      ]
    },
    {
      "cell_type": "code",
      "execution_count": null,
      "id": "9a24d3c5",
      "metadata": {
        "ExecuteTime": {
          "end_time": "2024-03-27T20:03:43.874737Z",
          "start_time": "2024-03-27T20:02:43.529605Z"
        },
        "id": "9a24d3c5"
      },
      "outputs": [],
      "source": [
        "# importing required libraries\n",
        "import pandas as pd\n",
        "import numpy as np\n",
        "import seaborn as sns\n",
        "import plotly.express as px\n",
        "import matplotlib.pyplot as plt\n",
        "%matplotlib inline\n",
        "from datetime import datetime"
      ]
    },
    {
      "cell_type": "code",
      "execution_count": null,
      "id": "e33a0ba2",
      "metadata": {
        "ExecuteTime": {
          "end_time": "2024-03-27T20:10:05.172382Z",
          "start_time": "2024-03-27T20:10:05.164483Z"
        },
        "id": "e33a0ba2"
      },
      "outputs": [],
      "source": [
        "# Set display option\n",
        "pd.set_option('display.max.columns', None)"
      ]
    },
    {
      "cell_type": "code",
      "execution_count": null,
      "id": "73e4546e",
      "metadata": {
        "ExecuteTime": {
          "end_time": "2024-03-27T20:02:22.880424Z",
          "start_time": "2024-03-27T20:02:17.775856Z"
        },
        "id": "73e4546e"
      },
      "outputs": [],
      "source": [
        "!jupyter --version"
      ]
    },
    {
      "cell_type": "markdown",
      "id": "282ac4ea",
      "metadata": {
        "ExecuteTime": {
          "end_time": "2024-03-02T06:10:29.749123Z",
          "start_time": "2024-03-02T06:10:29.698866Z"
        },
        "id": "282ac4ea"
      },
      "source": [
        "# 1. Loading the dataset"
      ]
    },
    {
      "cell_type": "markdown",
      "id": "059f7a36",
      "metadata": {
        "id": "059f7a36"
      },
      "source": [
        "This dataset was extracted in 2023 and contains crime cases from 2001 to 2023, but we want the data for only cases from 2001 to 2022 due to incomplete cases for 2023 in order to avoid a bias analysis."
      ]
    },
    {
      "cell_type": "code",
      "execution_count": 13,
      "id": "14c63e95",
      "metadata": {
        "ExecuteTime": {
          "end_time": "2024-03-27T20:10:46.464496Z",
          "start_time": "2024-03-27T20:10:09.916131Z"
        },
        "colab": {
          "base_uri": "https://localhost:8080/",
          "height": 417
        },
        "id": "14c63e95",
        "outputId": "04f31de6-cbaa-4d15-9504-7759278d393e"
      },
      "outputs": [
        {
          "output_type": "execute_result",
          "data": {
            "text/plain": [
              "   Unnamed: 0        ID Case Number                    Date  \\\n",
              "0           0   6407111    HP485721  07/26/2008 02:30:00 PM   \n",
              "1           1  11398199    JB372830  07/31/2018 10:57:00 AM   \n",
              "2           2   5488785    HN308568  04/27/2007 10:30:00 AM   \n",
              "3           3  11389116    JB361368  07/23/2018 08:55:00 AM   \n",
              "4           4  12420431    JE297624  07/11/2021 06:40:00 AM   \n",
              "\n",
              "                  Block  IUCR       Primary Type               Description  \\\n",
              "0  085XX S MUSKEGON AVE  1320    CRIMINAL DAMAGE                TO VEHICLE   \n",
              "1     092XX S ELLIS AVE  143C  WEAPONS VIOLATION  UNLAWFUL POSS AMMUNITION   \n",
              "2     062XX N TRIPP AVE  0610           BURGLARY            FORCIBLE ENTRY   \n",
              "3    0000X N KEELER AVE  0560            ASSAULT                    SIMPLE   \n",
              "4   016XX W HARRISON ST  051A            ASSAULT      AGGRAVATED - HANDGUN   \n",
              "\n",
              "                     Location Description  Arrest  Domestic  Beat  District  \\\n",
              "0                                  STREET   False     False   423       4.0   \n",
              "1                               POOL ROOM    True     False   413       4.0   \n",
              "2                               RESIDENCE    True     False  1711      17.0   \n",
              "3            NURSING HOME/RETIREMENT HOME   False     False  1115      11.0   \n",
              "4  PARKING LOT / GARAGE (NON RESIDENTIAL)   False     False  1231      12.0   \n",
              "\n",
              "   Ward  Community Area FBI Code  X Coordinate  Y Coordinate  Year  \\\n",
              "0  10.0            46.0       14     1196638.0     1848800.0  2008   \n",
              "1   8.0            47.0       15     1184499.0     1843935.0  2018   \n",
              "2  39.0            12.0       05     1146911.0     1941022.0  2007   \n",
              "3  28.0            26.0      08A     1148388.0     1899882.0  2018   \n",
              "4  27.0            28.0      04A     1165430.0     1897441.0  2021   \n",
              "\n",
              "               Updated On   Latitude  Longitude                       Location  \n",
              "0  02/28/2018 03:56:25 PM  41.739980 -87.555120  (41.739979622, -87.555120042)  \n",
              "1  08/07/2018 04:02:59 PM  41.726922 -87.599747  (41.726922145, -87.599746995)  \n",
              "2  02/28/2018 03:56:25 PM  41.994138 -87.734959  (41.994137622, -87.734959049)  \n",
              "3  07/30/2018 03:52:24 PM  41.881217 -87.730590  (41.881217483, -87.730589961)  \n",
              "4  07/18/2021 04:56:02 PM  41.874174 -87.668082  (41.874173691, -87.668082118)  "
            ],
            "text/html": [
              "\n",
              "  <div id=\"df-12609634-b579-496c-a64e-92ce6e731b8e\" class=\"colab-df-container\">\n",
              "    <div>\n",
              "<style scoped>\n",
              "    .dataframe tbody tr th:only-of-type {\n",
              "        vertical-align: middle;\n",
              "    }\n",
              "\n",
              "    .dataframe tbody tr th {\n",
              "        vertical-align: top;\n",
              "    }\n",
              "\n",
              "    .dataframe thead th {\n",
              "        text-align: right;\n",
              "    }\n",
              "</style>\n",
              "<table border=\"1\" class=\"dataframe\">\n",
              "  <thead>\n",
              "    <tr style=\"text-align: right;\">\n",
              "      <th></th>\n",
              "      <th>Unnamed: 0</th>\n",
              "      <th>ID</th>\n",
              "      <th>Case Number</th>\n",
              "      <th>Date</th>\n",
              "      <th>Block</th>\n",
              "      <th>IUCR</th>\n",
              "      <th>Primary Type</th>\n",
              "      <th>Description</th>\n",
              "      <th>Location Description</th>\n",
              "      <th>Arrest</th>\n",
              "      <th>Domestic</th>\n",
              "      <th>Beat</th>\n",
              "      <th>District</th>\n",
              "      <th>Ward</th>\n",
              "      <th>Community Area</th>\n",
              "      <th>FBI Code</th>\n",
              "      <th>X Coordinate</th>\n",
              "      <th>Y Coordinate</th>\n",
              "      <th>Year</th>\n",
              "      <th>Updated On</th>\n",
              "      <th>Latitude</th>\n",
              "      <th>Longitude</th>\n",
              "      <th>Location</th>\n",
              "    </tr>\n",
              "  </thead>\n",
              "  <tbody>\n",
              "    <tr>\n",
              "      <th>0</th>\n",
              "      <td>0</td>\n",
              "      <td>6407111</td>\n",
              "      <td>HP485721</td>\n",
              "      <td>07/26/2008 02:30:00 PM</td>\n",
              "      <td>085XX S MUSKEGON AVE</td>\n",
              "      <td>1320</td>\n",
              "      <td>CRIMINAL DAMAGE</td>\n",
              "      <td>TO VEHICLE</td>\n",
              "      <td>STREET</td>\n",
              "      <td>False</td>\n",
              "      <td>False</td>\n",
              "      <td>423</td>\n",
              "      <td>4.0</td>\n",
              "      <td>10.0</td>\n",
              "      <td>46.0</td>\n",
              "      <td>14</td>\n",
              "      <td>1196638.0</td>\n",
              "      <td>1848800.0</td>\n",
              "      <td>2008</td>\n",
              "      <td>02/28/2018 03:56:25 PM</td>\n",
              "      <td>41.739980</td>\n",
              "      <td>-87.555120</td>\n",
              "      <td>(41.739979622, -87.555120042)</td>\n",
              "    </tr>\n",
              "    <tr>\n",
              "      <th>1</th>\n",
              "      <td>1</td>\n",
              "      <td>11398199</td>\n",
              "      <td>JB372830</td>\n",
              "      <td>07/31/2018 10:57:00 AM</td>\n",
              "      <td>092XX S ELLIS AVE</td>\n",
              "      <td>143C</td>\n",
              "      <td>WEAPONS VIOLATION</td>\n",
              "      <td>UNLAWFUL POSS AMMUNITION</td>\n",
              "      <td>POOL ROOM</td>\n",
              "      <td>True</td>\n",
              "      <td>False</td>\n",
              "      <td>413</td>\n",
              "      <td>4.0</td>\n",
              "      <td>8.0</td>\n",
              "      <td>47.0</td>\n",
              "      <td>15</td>\n",
              "      <td>1184499.0</td>\n",
              "      <td>1843935.0</td>\n",
              "      <td>2018</td>\n",
              "      <td>08/07/2018 04:02:59 PM</td>\n",
              "      <td>41.726922</td>\n",
              "      <td>-87.599747</td>\n",
              "      <td>(41.726922145, -87.599746995)</td>\n",
              "    </tr>\n",
              "    <tr>\n",
              "      <th>2</th>\n",
              "      <td>2</td>\n",
              "      <td>5488785</td>\n",
              "      <td>HN308568</td>\n",
              "      <td>04/27/2007 10:30:00 AM</td>\n",
              "      <td>062XX N TRIPP AVE</td>\n",
              "      <td>0610</td>\n",
              "      <td>BURGLARY</td>\n",
              "      <td>FORCIBLE ENTRY</td>\n",
              "      <td>RESIDENCE</td>\n",
              "      <td>True</td>\n",
              "      <td>False</td>\n",
              "      <td>1711</td>\n",
              "      <td>17.0</td>\n",
              "      <td>39.0</td>\n",
              "      <td>12.0</td>\n",
              "      <td>05</td>\n",
              "      <td>1146911.0</td>\n",
              "      <td>1941022.0</td>\n",
              "      <td>2007</td>\n",
              "      <td>02/28/2018 03:56:25 PM</td>\n",
              "      <td>41.994138</td>\n",
              "      <td>-87.734959</td>\n",
              "      <td>(41.994137622, -87.734959049)</td>\n",
              "    </tr>\n",
              "    <tr>\n",
              "      <th>3</th>\n",
              "      <td>3</td>\n",
              "      <td>11389116</td>\n",
              "      <td>JB361368</td>\n",
              "      <td>07/23/2018 08:55:00 AM</td>\n",
              "      <td>0000X N KEELER AVE</td>\n",
              "      <td>0560</td>\n",
              "      <td>ASSAULT</td>\n",
              "      <td>SIMPLE</td>\n",
              "      <td>NURSING HOME/RETIREMENT HOME</td>\n",
              "      <td>False</td>\n",
              "      <td>False</td>\n",
              "      <td>1115</td>\n",
              "      <td>11.0</td>\n",
              "      <td>28.0</td>\n",
              "      <td>26.0</td>\n",
              "      <td>08A</td>\n",
              "      <td>1148388.0</td>\n",
              "      <td>1899882.0</td>\n",
              "      <td>2018</td>\n",
              "      <td>07/30/2018 03:52:24 PM</td>\n",
              "      <td>41.881217</td>\n",
              "      <td>-87.730590</td>\n",
              "      <td>(41.881217483, -87.730589961)</td>\n",
              "    </tr>\n",
              "    <tr>\n",
              "      <th>4</th>\n",
              "      <td>4</td>\n",
              "      <td>12420431</td>\n",
              "      <td>JE297624</td>\n",
              "      <td>07/11/2021 06:40:00 AM</td>\n",
              "      <td>016XX W HARRISON ST</td>\n",
              "      <td>051A</td>\n",
              "      <td>ASSAULT</td>\n",
              "      <td>AGGRAVATED - HANDGUN</td>\n",
              "      <td>PARKING LOT / GARAGE (NON RESIDENTIAL)</td>\n",
              "      <td>False</td>\n",
              "      <td>False</td>\n",
              "      <td>1231</td>\n",
              "      <td>12.0</td>\n",
              "      <td>27.0</td>\n",
              "      <td>28.0</td>\n",
              "      <td>04A</td>\n",
              "      <td>1165430.0</td>\n",
              "      <td>1897441.0</td>\n",
              "      <td>2021</td>\n",
              "      <td>07/18/2021 04:56:02 PM</td>\n",
              "      <td>41.874174</td>\n",
              "      <td>-87.668082</td>\n",
              "      <td>(41.874173691, -87.668082118)</td>\n",
              "    </tr>\n",
              "  </tbody>\n",
              "</table>\n",
              "</div>\n",
              "    <div class=\"colab-df-buttons\">\n",
              "\n",
              "  <div class=\"colab-df-container\">\n",
              "    <button class=\"colab-df-convert\" onclick=\"convertToInteractive('df-12609634-b579-496c-a64e-92ce6e731b8e')\"\n",
              "            title=\"Convert this dataframe to an interactive table.\"\n",
              "            style=\"display:none;\">\n",
              "\n",
              "  <svg xmlns=\"http://www.w3.org/2000/svg\" height=\"24px\" viewBox=\"0 -960 960 960\">\n",
              "    <path d=\"M120-120v-720h720v720H120Zm60-500h600v-160H180v160Zm220 220h160v-160H400v160Zm0 220h160v-160H400v160ZM180-400h160v-160H180v160Zm440 0h160v-160H620v160ZM180-180h160v-160H180v160Zm440 0h160v-160H620v160Z\"/>\n",
              "  </svg>\n",
              "    </button>\n",
              "\n",
              "  <style>\n",
              "    .colab-df-container {\n",
              "      display:flex;\n",
              "      gap: 12px;\n",
              "    }\n",
              "\n",
              "    .colab-df-convert {\n",
              "      background-color: #E8F0FE;\n",
              "      border: none;\n",
              "      border-radius: 50%;\n",
              "      cursor: pointer;\n",
              "      display: none;\n",
              "      fill: #1967D2;\n",
              "      height: 32px;\n",
              "      padding: 0 0 0 0;\n",
              "      width: 32px;\n",
              "    }\n",
              "\n",
              "    .colab-df-convert:hover {\n",
              "      background-color: #E2EBFA;\n",
              "      box-shadow: 0px 1px 2px rgba(60, 64, 67, 0.3), 0px 1px 3px 1px rgba(60, 64, 67, 0.15);\n",
              "      fill: #174EA6;\n",
              "    }\n",
              "\n",
              "    .colab-df-buttons div {\n",
              "      margin-bottom: 4px;\n",
              "    }\n",
              "\n",
              "    [theme=dark] .colab-df-convert {\n",
              "      background-color: #3B4455;\n",
              "      fill: #D2E3FC;\n",
              "    }\n",
              "\n",
              "    [theme=dark] .colab-df-convert:hover {\n",
              "      background-color: #434B5C;\n",
              "      box-shadow: 0px 1px 3px 1px rgba(0, 0, 0, 0.15);\n",
              "      filter: drop-shadow(0px 1px 2px rgba(0, 0, 0, 0.3));\n",
              "      fill: #FFFFFF;\n",
              "    }\n",
              "  </style>\n",
              "\n",
              "    <script>\n",
              "      const buttonEl =\n",
              "        document.querySelector('#df-12609634-b579-496c-a64e-92ce6e731b8e button.colab-df-convert');\n",
              "      buttonEl.style.display =\n",
              "        google.colab.kernel.accessAllowed ? 'block' : 'none';\n",
              "\n",
              "      async function convertToInteractive(key) {\n",
              "        const element = document.querySelector('#df-12609634-b579-496c-a64e-92ce6e731b8e');\n",
              "        const dataTable =\n",
              "          await google.colab.kernel.invokeFunction('convertToInteractive',\n",
              "                                                    [key], {});\n",
              "        if (!dataTable) return;\n",
              "\n",
              "        const docLinkHtml = 'Like what you see? Visit the ' +\n",
              "          '<a target=\"_blank\" href=https://colab.research.google.com/notebooks/data_table.ipynb>data table notebook</a>'\n",
              "          + ' to learn more about interactive tables.';\n",
              "        element.innerHTML = '';\n",
              "        dataTable['output_type'] = 'display_data';\n",
              "        await google.colab.output.renderOutput(dataTable, element);\n",
              "        const docLink = document.createElement('div');\n",
              "        docLink.innerHTML = docLinkHtml;\n",
              "        element.appendChild(docLink);\n",
              "      }\n",
              "    </script>\n",
              "  </div>\n",
              "\n",
              "\n",
              "<div id=\"df-6e95800e-8e63-4d2f-bbb0-5d63d8602388\">\n",
              "  <button class=\"colab-df-quickchart\" onclick=\"quickchart('df-6e95800e-8e63-4d2f-bbb0-5d63d8602388')\"\n",
              "            title=\"Suggest charts\"\n",
              "            style=\"display:none;\">\n",
              "\n",
              "<svg xmlns=\"http://www.w3.org/2000/svg\" height=\"24px\"viewBox=\"0 0 24 24\"\n",
              "     width=\"24px\">\n",
              "    <g>\n",
              "        <path d=\"M19 3H5c-1.1 0-2 .9-2 2v14c0 1.1.9 2 2 2h14c1.1 0 2-.9 2-2V5c0-1.1-.9-2-2-2zM9 17H7v-7h2v7zm4 0h-2V7h2v10zm4 0h-2v-4h2v4z\"/>\n",
              "    </g>\n",
              "</svg>\n",
              "  </button>\n",
              "\n",
              "<style>\n",
              "  .colab-df-quickchart {\n",
              "      --bg-color: #E8F0FE;\n",
              "      --fill-color: #1967D2;\n",
              "      --hover-bg-color: #E2EBFA;\n",
              "      --hover-fill-color: #174EA6;\n",
              "      --disabled-fill-color: #AAA;\n",
              "      --disabled-bg-color: #DDD;\n",
              "  }\n",
              "\n",
              "  [theme=dark] .colab-df-quickchart {\n",
              "      --bg-color: #3B4455;\n",
              "      --fill-color: #D2E3FC;\n",
              "      --hover-bg-color: #434B5C;\n",
              "      --hover-fill-color: #FFFFFF;\n",
              "      --disabled-bg-color: #3B4455;\n",
              "      --disabled-fill-color: #666;\n",
              "  }\n",
              "\n",
              "  .colab-df-quickchart {\n",
              "    background-color: var(--bg-color);\n",
              "    border: none;\n",
              "    border-radius: 50%;\n",
              "    cursor: pointer;\n",
              "    display: none;\n",
              "    fill: var(--fill-color);\n",
              "    height: 32px;\n",
              "    padding: 0;\n",
              "    width: 32px;\n",
              "  }\n",
              "\n",
              "  .colab-df-quickchart:hover {\n",
              "    background-color: var(--hover-bg-color);\n",
              "    box-shadow: 0 1px 2px rgba(60, 64, 67, 0.3), 0 1px 3px 1px rgba(60, 64, 67, 0.15);\n",
              "    fill: var(--button-hover-fill-color);\n",
              "  }\n",
              "\n",
              "  .colab-df-quickchart-complete:disabled,\n",
              "  .colab-df-quickchart-complete:disabled:hover {\n",
              "    background-color: var(--disabled-bg-color);\n",
              "    fill: var(--disabled-fill-color);\n",
              "    box-shadow: none;\n",
              "  }\n",
              "\n",
              "  .colab-df-spinner {\n",
              "    border: 2px solid var(--fill-color);\n",
              "    border-color: transparent;\n",
              "    border-bottom-color: var(--fill-color);\n",
              "    animation:\n",
              "      spin 1s steps(1) infinite;\n",
              "  }\n",
              "\n",
              "  @keyframes spin {\n",
              "    0% {\n",
              "      border-color: transparent;\n",
              "      border-bottom-color: var(--fill-color);\n",
              "      border-left-color: var(--fill-color);\n",
              "    }\n",
              "    20% {\n",
              "      border-color: transparent;\n",
              "      border-left-color: var(--fill-color);\n",
              "      border-top-color: var(--fill-color);\n",
              "    }\n",
              "    30% {\n",
              "      border-color: transparent;\n",
              "      border-left-color: var(--fill-color);\n",
              "      border-top-color: var(--fill-color);\n",
              "      border-right-color: var(--fill-color);\n",
              "    }\n",
              "    40% {\n",
              "      border-color: transparent;\n",
              "      border-right-color: var(--fill-color);\n",
              "      border-top-color: var(--fill-color);\n",
              "    }\n",
              "    60% {\n",
              "      border-color: transparent;\n",
              "      border-right-color: var(--fill-color);\n",
              "    }\n",
              "    80% {\n",
              "      border-color: transparent;\n",
              "      border-right-color: var(--fill-color);\n",
              "      border-bottom-color: var(--fill-color);\n",
              "    }\n",
              "    90% {\n",
              "      border-color: transparent;\n",
              "      border-bottom-color: var(--fill-color);\n",
              "    }\n",
              "  }\n",
              "</style>\n",
              "\n",
              "  <script>\n",
              "    async function quickchart(key) {\n",
              "      const quickchartButtonEl =\n",
              "        document.querySelector('#' + key + ' button');\n",
              "      quickchartButtonEl.disabled = true;  // To prevent multiple clicks.\n",
              "      quickchartButtonEl.classList.add('colab-df-spinner');\n",
              "      try {\n",
              "        const charts = await google.colab.kernel.invokeFunction(\n",
              "            'suggestCharts', [key], {});\n",
              "      } catch (error) {\n",
              "        console.error('Error during call to suggestCharts:', error);\n",
              "      }\n",
              "      quickchartButtonEl.classList.remove('colab-df-spinner');\n",
              "      quickchartButtonEl.classList.add('colab-df-quickchart-complete');\n",
              "    }\n",
              "    (() => {\n",
              "      let quickchartButtonEl =\n",
              "        document.querySelector('#df-6e95800e-8e63-4d2f-bbb0-5d63d8602388 button');\n",
              "      quickchartButtonEl.style.display =\n",
              "        google.colab.kernel.accessAllowed ? 'block' : 'none';\n",
              "    })();\n",
              "  </script>\n",
              "</div>\n",
              "    </div>\n",
              "  </div>\n"
            ],
            "application/vnd.google.colaboratory.intrinsic+json": {
              "type": "dataframe",
              "variable_name": "chicago_crime_df"
            }
          },
          "metadata": {},
          "execution_count": 13
        }
      ],
      "source": [
        "full_dataset = pd.read_csv('/content/drive/MyDrive/Colab Notebooks/c_crime_df_chicago.csv')\n",
        "# Drop rows that have 2024 as the year.\n",
        "chicago_crime_df = pd.DataFrame(full_dataset[full_dataset['Year'] != 2023])\n",
        "chicago_crime_df.head()"
      ]
    },
    {
      "cell_type": "markdown",
      "id": "46015508",
      "metadata": {
        "id": "46015508"
      },
      "source": [
        "# 2. Explore the dataset"
      ]
    },
    {
      "cell_type": "code",
      "execution_count": null,
      "id": "40a1c122",
      "metadata": {
        "ExecuteTime": {
          "end_time": "2024-03-27T20:17:38.178846Z",
          "start_time": "2024-03-27T20:17:38.167479Z"
        },
        "id": "40a1c122"
      },
      "outputs": [],
      "source": [
        "#checking the dimension of the dataset\n",
        "chicago_crime_df.shape"
      ]
    },
    {
      "cell_type": "code",
      "execution_count": null,
      "id": "821a0eb5",
      "metadata": {
        "ExecuteTime": {
          "end_time": "2024-03-27T20:17:39.229464Z",
          "start_time": "2024-03-27T20:17:39.220012Z"
        },
        "id": "821a0eb5"
      },
      "outputs": [],
      "source": [
        "# Display the first five rows of the dataset\n",
        "chicago_crime_df.columns"
      ]
    },
    {
      "cell_type": "code",
      "execution_count": null,
      "id": "6492c4d3",
      "metadata": {
        "ExecuteTime": {
          "end_time": "2024-03-27T20:17:40.231354Z",
          "start_time": "2024-03-27T20:17:40.191519Z"
        },
        "id": "6492c4d3"
      },
      "outputs": [],
      "source": [
        "# check the first five observations\n",
        "chicago_crime_df.head()"
      ]
    },
    {
      "cell_type": "code",
      "execution_count": null,
      "id": "2b737764",
      "metadata": {
        "ExecuteTime": {
          "end_time": "2024-03-27T20:17:40.844924Z",
          "start_time": "2024-03-27T20:17:40.533399Z"
        },
        "id": "2b737764"
      },
      "outputs": [],
      "source": [
        " # Display column information and data types\n",
        "chicago_crime_df.info()"
      ]
    },
    {
      "cell_type": "code",
      "execution_count": null,
      "id": "b7d56818",
      "metadata": {
        "ExecuteTime": {
          "end_time": "2024-03-27T20:17:42.825598Z",
          "start_time": "2024-03-27T20:17:41.160903Z"
        },
        "id": "b7d56818"
      },
      "outputs": [],
      "source": [
        "# checking missing value count\n",
        "chicago_crime_df.isnull().sum()"
      ]
    },
    {
      "cell_type": "code",
      "execution_count": null,
      "id": "d63b64b0",
      "metadata": {
        "ExecuteTime": {
          "end_time": "2024-03-27T20:18:04.978676Z",
          "start_time": "2024-03-27T20:18:03.416524Z"
        },
        "id": "d63b64b0"
      },
      "outputs": [],
      "source": [
        "chicago_crime_df.describe()"
      ]
    },
    {
      "cell_type": "markdown",
      "id": "2bb19f83",
      "metadata": {
        "id": "2bb19f83"
      },
      "source": [
        "# 3. Data Preprocessing"
      ]
    },
    {
      "cell_type": "markdown",
      "id": "18cc107e",
      "metadata": {
        "id": "18cc107e"
      },
      "source": [
        "**Data Cleaning**"
      ]
    },
    {
      "cell_type": "markdown",
      "id": "5793f507",
      "metadata": {
        "id": "5793f507"
      },
      "source": [
        "Here are some steps that we would carry out in this phase\n",
        "\n",
        "1. Remove redundant or unnecessary columns\n",
        "2. Handle missing values\n",
        "3. Convert data types to the appropriate formats  \n",
        "\n",
        "__Reasons for dropping the below columns__\n",
        "- 'Unnamed: 0': Its just an index for individual row/ Observation\n",
        "- 'ID': Serial identifier for the record which is redundant due to the presence of a case number for each case.\n",
        "- 'Location': This is where the incident occurred in a format that allows for creation of maps and other geographic operation. It's the combination of both latitude and longitude feature of this dataset thus, not required.\n",
        "- 'Updated On': Holds the date and time the record was last updated.Which is not required for our analysis.\n",
        "- 'X Coordinate': The x coordinate is a shifted location from the actual location for partial redaction but falls on the same block. Since we have a longitude/latitude and the block where the crime happened, we can neglect this feature.\n",
        "- 'Y Coordinate': The y coordinate is a shifted location from the actual location for partial redaction but falls on the same block. Since we have a longitude/latitude and the block where the crime happened, we can neglect this feature.\n",
        "- 'Community Area': This indicates the community area where the incident occurred. Which is not neccessary for our analysis.\n",
        "- 'IUCR': This is the Illinois Unifrom Crime Reporting code. This is directly linked to the Primary Type and Description, it provides information about the primary type and description of crime. Since primary type and description features already exist, it becomes a redundant column\n",
        "- Description: It's simply a subcategory of the primary type(which describes the type of crime committed). this can be omitted\n",
        "- Block: Since we have the latitude and longitude, this column is redundant.\n",
        "- Community Area: This is not needed in our analysis and the presence of a police Beat makes this redundant.\n",
        "- FBI Code: Removed because it is not necessary for our analysis as we are unable to de-code these codes."
      ]
    },
    {
      "cell_type": "markdown",
      "id": "3d674611",
      "metadata": {
        "id": "3d674611"
      },
      "source": [
        "__1. Use a funtion to Drop redundant columns and/or columns that are not necessary for our analysis (a redundant column is one that gives infomation that another column already explains: eg ID and Case number)__"
      ]
    },
    {
      "cell_type": "code",
      "execution_count": null,
      "id": "cf7fd108",
      "metadata": {
        "ExecuteTime": {
          "end_time": "2024-03-27T20:20:11.896153Z",
          "start_time": "2024-03-27T20:20:11.883062Z"
        },
        "id": "cf7fd108"
      },
      "outputs": [],
      "source": [
        "chicago_crime_df.columns"
      ]
    },
    {
      "cell_type": "code",
      "execution_count": null,
      "id": "7855cff3",
      "metadata": {
        "id": "7855cff3"
      },
      "outputs": [],
      "source": []
    },
    {
      "cell_type": "code",
      "execution_count": null,
      "id": "1fef58c2",
      "metadata": {
        "ExecuteTime": {
          "end_time": "2024-03-27T20:20:14.828363Z",
          "start_time": "2024-03-27T20:20:14.161297Z"
        },
        "id": "1fef58c2"
      },
      "outputs": [],
      "source": [
        "# Dropping redundant columns\n",
        "def drop_redundant_columns(df):\n",
        "    redundant_columns = ['Unnamed: 0','ID', 'Location','Updated On', 'FBI Code', 'Description', 'X Coordinate','Y Coordinate','IUCR']\n",
        "    df.drop(redundant_columns, axis=1, inplace= True)\n",
        "\n",
        "drop_redundant_columns(chicago_crime_df)"
      ]
    },
    {
      "cell_type": "code",
      "execution_count": null,
      "id": "d55a5457",
      "metadata": {
        "ExecuteTime": {
          "end_time": "2024-03-27T20:20:14.977454Z",
          "start_time": "2024-03-27T20:20:14.942810Z"
        },
        "id": "d55a5457"
      },
      "outputs": [],
      "source": [
        "chicago_crime_df.head()"
      ]
    },
    {
      "cell_type": "code",
      "execution_count": null,
      "id": "835b87a8",
      "metadata": {
        "ExecuteTime": {
          "end_time": "2024-03-27T20:20:15.835776Z",
          "start_time": "2024-03-27T20:20:15.820418Z"
        },
        "id": "835b87a8"
      },
      "outputs": [],
      "source": [
        "chicago_crime_df.info()"
      ]
    },
    {
      "cell_type": "code",
      "execution_count": null,
      "id": "150b2940",
      "metadata": {
        "ExecuteTime": {
          "end_time": "2024-03-27T20:20:24.988125Z",
          "start_time": "2024-03-27T20:20:16.523918Z"
        },
        "id": "150b2940"
      },
      "outputs": [],
      "source": [
        "# A summary statistics of each column\n",
        "chicago_crime_df.describe(include='all')"
      ]
    },
    {
      "cell_type": "code",
      "execution_count": null,
      "id": "6f9daf5e",
      "metadata": {
        "ExecuteTime": {
          "end_time": "2024-03-27T20:20:25.054648Z",
          "start_time": "2024-03-27T20:20:25.036658Z"
        },
        "id": "6f9daf5e"
      },
      "outputs": [],
      "source": [
        "chicago_crime_df.info()"
      ]
    },
    {
      "cell_type": "markdown",
      "id": "05ebe46f",
      "metadata": {
        "id": "05ebe46f"
      },
      "source": [
        "__3. Handling missing values__"
      ]
    },
    {
      "cell_type": "code",
      "execution_count": null,
      "id": "00593837",
      "metadata": {
        "ExecuteTime": {
          "end_time": "2024-03-27T20:20:28.068597Z",
          "start_time": "2024-03-27T20:20:27.189012Z"
        },
        "id": "00593837"
      },
      "outputs": [],
      "source": [
        "# checking missing value count\n",
        "chicago_crime_df.isnull().sum()"
      ]
    },
    {
      "cell_type": "code",
      "execution_count": null,
      "id": "a291bd23",
      "metadata": {
        "ExecuteTime": {
          "end_time": "2024-03-27T20:20:28.653106Z",
          "start_time": "2024-03-27T20:20:28.638116Z"
        },
        "id": "a291bd23"
      },
      "outputs": [],
      "source": [
        "# # Missing Values\n",
        "\n",
        "# Function to calculate missing values by column\n",
        "def missing_values_table(df):\n",
        "        # Total missing values\n",
        "        mis_val = df.isnull().sum()\n",
        "\n",
        "        # Percentage of missing values\n",
        "        mis_val_percent = 100 * df.isnull().sum() / len(df)\n",
        "\n",
        "        # Make a table with the results\n",
        "        mis_val_table = pd.concat([mis_val, mis_val_percent], axis=1)\n",
        "\n",
        "        # Rename the columns\n",
        "        mis_val_table_ren_columns = mis_val_table.rename(\n",
        "        columns = {0 : 'Missing Values', 1 : '% of Total Values'})\n",
        "\n",
        "        # Sort the table by percentage of missing descending\n",
        "        mis_val_table_ren_columns = mis_val_table_ren_columns[\n",
        "            mis_val_table_ren_columns.iloc[:,1] != 0].sort_values(\n",
        "        '% of Total Values', ascending=False).round(1)\n",
        "\n",
        "        # Print some summary information\n",
        "        print (\"Your selected dataframe has \" + str(df.shape[1]) + \" columns.\\n\"\n",
        "            \"There are \" + str(mis_val_table_ren_columns.shape[0]) +\n",
        "              \" columns that have missing values.\")\n",
        "\n",
        "        # Return the dataframe with missing information\n",
        "        return mis_val_table_ren_columns"
      ]
    },
    {
      "cell_type": "code",
      "execution_count": null,
      "id": "b5f9dc16",
      "metadata": {
        "ExecuteTime": {
          "end_time": "2024-03-27T20:20:30.794861Z",
          "start_time": "2024-03-27T20:20:29.376517Z"
        },
        "id": "b5f9dc16"
      },
      "outputs": [],
      "source": [
        "missing_values_table(chicago_crime_df)"
      ]
    },
    {
      "cell_type": "markdown",
      "id": "11015191",
      "metadata": {
        "id": "11015191"
      },
      "source": [
        "- __Handling Missing Case Number__\n",
        "\n",
        "We have one (1) missing Case Number in the entire dataset. We have decided to drop the row where Case Number is missing"
      ]
    },
    {
      "cell_type": "code",
      "execution_count": null,
      "id": "da982279",
      "metadata": {
        "ExecuteTime": {
          "end_time": "2024-03-27T20:20:32.351520Z",
          "start_time": "2024-03-27T20:20:31.713343Z"
        },
        "id": "da982279"
      },
      "outputs": [],
      "source": [
        "# dropping the missing Case Number column null value\n",
        "chicago_crime_df.dropna(subset=['Case Number'],inplace=True) # i chose to drop this because the percentage NA is insignificant"
      ]
    },
    {
      "cell_type": "code",
      "execution_count": null,
      "id": "6c06c4b3",
      "metadata": {
        "ExecuteTime": {
          "end_time": "2024-03-27T20:20:33.236427Z",
          "start_time": "2024-03-27T20:20:32.398768Z"
        },
        "id": "6c06c4b3"
      },
      "outputs": [],
      "source": [
        "chicago_crime_df.isna().sum()"
      ]
    },
    {
      "cell_type": "markdown",
      "id": "302c88b3",
      "metadata": {
        "id": "302c88b3"
      },
      "source": [
        "- __Handling Missing values for the District Column__\n",
        "\n",
        "We have just 12 missing value for the district column which is 0.0% of the entire dataset. We have decided to drop the row where location discription is missing."
      ]
    },
    {
      "cell_type": "code",
      "execution_count": null,
      "id": "7817faaf",
      "metadata": {
        "ExecuteTime": {
          "end_time": "2024-03-27T20:27:20.289209Z",
          "start_time": "2024-03-27T20:27:19.602934Z"
        },
        "id": "7817faaf"
      },
      "outputs": [],
      "source": [
        "# dropping the missing district column null value\n",
        "chicago_crime_df.dropna(subset=['District'],inplace=True) # i chose to drop this because the percentage NA is insignificant"
      ]
    },
    {
      "cell_type": "code",
      "execution_count": null,
      "id": "645500d3",
      "metadata": {
        "ExecuteTime": {
          "end_time": "2024-03-27T20:27:21.413461Z",
          "start_time": "2024-03-27T20:27:21.126376Z"
        },
        "id": "645500d3",
        "scrolled": true
      },
      "outputs": [],
      "source": [
        "chicago_crime_df.District.unique()"
      ]
    },
    {
      "cell_type": "code",
      "execution_count": null,
      "id": "5d73551f",
      "metadata": {
        "ExecuteTime": {
          "end_time": "2024-03-27T20:27:22.927242Z",
          "start_time": "2024-03-27T20:27:22.056414Z"
        },
        "id": "5d73551f"
      },
      "outputs": [],
      "source": [
        "chicago_crime_df.isna().sum()"
      ]
    },
    {
      "cell_type": "markdown",
      "id": "b4067f5b",
      "metadata": {
        "id": "b4067f5b"
      },
      "source": [
        "- __Handling Missing values for the ward Column (Using data imputation)__"
      ]
    },
    {
      "cell_type": "code",
      "execution_count": null,
      "id": "5c66517c",
      "metadata": {
        "ExecuteTime": {
          "end_time": "2024-03-27T20:27:24.980155Z",
          "start_time": "2024-03-27T20:27:22.970772Z"
        },
        "id": "5c66517c"
      },
      "outputs": [],
      "source": [
        "missing_values_table(chicago_crime_df)"
      ]
    },
    {
      "cell_type": "code",
      "execution_count": null,
      "id": "f6fef0f0",
      "metadata": {
        "ExecuteTime": {
          "end_time": "2024-03-27T20:27:25.201565Z",
          "start_time": "2024-03-27T20:27:25.042144Z"
        },
        "id": "f6fef0f0"
      },
      "outputs": [],
      "source": [
        "# checking the unique values of the ward column\n",
        "chicago_crime_df.Ward.unique()"
      ]
    },
    {
      "cell_type": "code",
      "execution_count": null,
      "id": "a3533e7c",
      "metadata": {
        "ExecuteTime": {
          "end_time": "2024-03-27T20:27:25.380151Z",
          "start_time": "2024-03-27T20:27:25.257713Z"
        },
        "id": "a3533e7c",
        "scrolled": true
      },
      "outputs": [],
      "source": [
        "chicago_crime_df.Ward"
      ]
    },
    {
      "cell_type": "code",
      "execution_count": null,
      "id": "d44220f9",
      "metadata": {
        "ExecuteTime": {
          "end_time": "2024-03-27T20:27:25.632465Z",
          "start_time": "2024-03-27T20:27:25.429660Z"
        },
        "id": "d44220f9"
      },
      "outputs": [],
      "source": [
        "# Using ffill(forward fill) to fill missing value in the ward column\n",
        "chicago_crime_df.Ward = chicago_crime_df.Ward.ffill() # Last observed value is carried forward"
      ]
    },
    {
      "cell_type": "code",
      "execution_count": null,
      "id": "250ffe9f",
      "metadata": {
        "ExecuteTime": {
          "end_time": "2024-03-27T20:27:26.496678Z",
          "start_time": "2024-03-27T20:27:25.689782Z"
        },
        "id": "250ffe9f"
      },
      "outputs": [],
      "source": [
        "chicago_crime_df.isna().sum()"
      ]
    },
    {
      "cell_type": "markdown",
      "id": "1664aae1-a5e5-4c7f-a7db-c4a02e7a6ce7",
      "metadata": {
        "id": "1664aae1-a5e5-4c7f-a7db-c4a02e7a6ce7"
      },
      "source": [
        "- __Handling Missing values for the Community Area Column (Using data imputation)__"
      ]
    },
    {
      "cell_type": "code",
      "execution_count": null,
      "id": "009c30e1-b947-4103-81c1-033c9b999710",
      "metadata": {
        "ExecuteTime": {
          "end_time": "2024-03-27T20:35:14.639691Z",
          "start_time": "2024-03-27T20:35:13.268826Z"
        },
        "id": "009c30e1-b947-4103-81c1-033c9b999710"
      },
      "outputs": [],
      "source": [
        "missing_values_table(chicago_crime_df)"
      ]
    },
    {
      "cell_type": "code",
      "execution_count": null,
      "id": "a778fdee-d71a-45a3-b8f6-0069493fc11e",
      "metadata": {
        "ExecuteTime": {
          "end_time": "2024-03-27T20:35:14.760037Z",
          "start_time": "2024-03-27T20:35:14.677615Z"
        },
        "id": "a778fdee-d71a-45a3-b8f6-0069493fc11e"
      },
      "outputs": [],
      "source": [
        "# checking the unique values of the ward column\n",
        "chicago_crime_df['Community Area'].unique()"
      ]
    },
    {
      "cell_type": "code",
      "execution_count": null,
      "id": "54a1d8cc-f490-4a90-a02e-ce7afc4a2f63",
      "metadata": {
        "ExecuteTime": {
          "end_time": "2024-03-27T20:35:15.826623Z",
          "start_time": "2024-03-27T20:35:15.772678Z"
        },
        "id": "54a1d8cc-f490-4a90-a02e-ce7afc4a2f63"
      },
      "outputs": [],
      "source": [
        "# Using ffill(forward fill) to fill missing value in the Community Area column\n",
        "chicago_crime_df['Community Area'] = chicago_crime_df['Community Area'].ffill() # Last observed value is carried forward"
      ]
    },
    {
      "cell_type": "code",
      "execution_count": null,
      "id": "bf85352a-3bcb-4a38-a30f-5561f4049513",
      "metadata": {
        "ExecuteTime": {
          "end_time": "2024-03-27T20:35:17.205398Z",
          "start_time": "2024-03-27T20:35:16.512822Z"
        },
        "id": "bf85352a-3bcb-4a38-a30f-5561f4049513"
      },
      "outputs": [],
      "source": [
        "chicago_crime_df.isna().sum()"
      ]
    },
    {
      "cell_type": "markdown",
      "id": "1e1084da",
      "metadata": {
        "id": "1e1084da"
      },
      "source": [
        "- __Handling Missing values for the latitude and Longitude Column__ (Using Assosciation) <br>\n",
        "    - The assumption here is that the latitude and longitude readings are points that show exact location, are closer to eachother within a district. if they are, we can group our data by districts and fill up missing Latitide and longitude values by the median or mode."
      ]
    },
    {
      "cell_type": "code",
      "execution_count": null,
      "id": "5e9541f2",
      "metadata": {
        "ExecuteTime": {
          "end_time": "2024-03-27T20:35:20.577726Z",
          "start_time": "2024-03-27T20:35:18.432695Z"
        },
        "id": "5e9541f2"
      },
      "outputs": [],
      "source": [
        "chicago_crime_df.groupby(['District', 'Longitude', 'Latitude']).size()"
      ]
    },
    {
      "cell_type": "markdown",
      "id": "11138dc3",
      "metadata": {
        "id": "11138dc3"
      },
      "source": [
        "There appears to be closeness in longitude and Latitude points when data is grouped based on districts, we can group based on district and fill up by taking the median."
      ]
    },
    {
      "cell_type": "code",
      "execution_count": null,
      "id": "af6a82c7",
      "metadata": {
        "ExecuteTime": {
          "end_time": "2024-03-27T20:35:22.674736Z",
          "start_time": "2024-03-27T20:35:20.622831Z"
        },
        "id": "af6a82c7"
      },
      "outputs": [],
      "source": [
        "chicago_crime_df['Latitude'] = chicago_crime_df.groupby('District')['Latitude'].transform(lambda x: x.fillna(x.median()))\n",
        "chicago_crime_df['Longitude'] = chicago_crime_df.groupby('District')['Longitude'].transform(lambda x: x.fillna(x.median()))"
      ]
    },
    {
      "cell_type": "code",
      "execution_count": null,
      "id": "90f0c0e7",
      "metadata": {
        "ExecuteTime": {
          "end_time": "2024-03-27T20:35:23.777335Z",
          "start_time": "2024-03-27T20:35:22.732816Z"
        },
        "id": "90f0c0e7"
      },
      "outputs": [],
      "source": [
        "chicago_crime_df.isna().sum()"
      ]
    },
    {
      "cell_type": "markdown",
      "id": "2e594257",
      "metadata": {
        "id": "2e594257"
      },
      "source": [
        "- __Handling Missing values for the Location Description__"
      ]
    },
    {
      "cell_type": "markdown",
      "id": "b1f25282",
      "metadata": {
        "ExecuteTime": {
          "end_time": "2024-03-10T09:48:29.963487Z",
          "start_time": "2024-03-10T09:48:28.719078Z"
        },
        "id": "b1f25282"
      },
      "source": [
        "We have just 2877 missing value for the location description which is 0.1% of the entire dataset. We can decide to drop the row where location decription is missing or fill this row with the most crime location."
      ]
    },
    {
      "cell_type": "code",
      "execution_count": null,
      "id": "b9b2faed",
      "metadata": {
        "ExecuteTime": {
          "end_time": "2024-03-27T20:35:24.618356Z",
          "start_time": "2024-03-27T20:35:23.833073Z"
        },
        "id": "b9b2faed",
        "scrolled": true
      },
      "outputs": [],
      "source": [
        "chicago_crime_df.groupby(['District','Location Description']).size()"
      ]
    },
    {
      "cell_type": "code",
      "execution_count": null,
      "id": "24f97b68",
      "metadata": {
        "ExecuteTime": {
          "end_time": "2024-03-27T20:35:25.627984Z",
          "start_time": "2024-03-27T20:35:24.662835Z"
        },
        "id": "24f97b68"
      },
      "outputs": [],
      "source": [
        "# dropping the missing location description index row\n",
        "chicago_crime_df.dropna(subset=['Location Description'],inplace=True)"
      ]
    },
    {
      "cell_type": "code",
      "execution_count": null,
      "id": "55fd2665",
      "metadata": {
        "ExecuteTime": {
          "end_time": "2024-03-27T20:35:26.399855Z",
          "start_time": "2024-03-27T20:35:25.722548Z"
        },
        "id": "55fd2665",
        "scrolled": true
      },
      "outputs": [],
      "source": [
        "chicago_crime_df.isna().sum()"
      ]
    },
    {
      "cell_type": "markdown",
      "id": "546e63ae-2ff8-4650-a301-b10d362b0682",
      "metadata": {
        "id": "546e63ae-2ff8-4650-a301-b10d362b0682"
      },
      "source": [
        "__3. convert inappropriate data types to the correct one__"
      ]
    },
    {
      "cell_type": "markdown",
      "id": "3XjVNIcKTw2T",
      "metadata": {
        "id": "3XjVNIcKTw2T"
      },
      "source": [
        "We should convert the columns to appropriate datatypes for\n",
        "1. Alignment with original dataset types.\n",
        "2. For performance gains (clearly, using a numpy.float64 when a numpy.int64 is required will lower our memory footprint)."
      ]
    },
    {
      "cell_type": "code",
      "execution_count": 14,
      "id": "6af7ee22-b88b-490c-acec-452e581bb456",
      "metadata": {
        "ExecuteTime": {
          "end_time": "2024-03-27T20:35:26.788910Z",
          "start_time": "2024-03-27T20:35:26.472892Z"
        },
        "id": "6af7ee22-b88b-490c-acec-452e581bb456"
      },
      "outputs": [],
      "source": [
        "# create a copy of the dataframe to avoid conflict\n",
        "c_crime_df = chicago_crime_df.copy()"
      ]
    },
    {
      "cell_type": "code",
      "execution_count": 16,
      "id": "j8-iNeoxUHPC",
      "metadata": {
        "ExecuteTime": {
          "end_time": "2024-03-27T20:35:48.227933Z",
          "start_time": "2024-03-27T20:35:26.842577Z"
        },
        "id": "j8-iNeoxUHPC",
        "outputId": "a0e71d59-4a31-4a3c-ff4c-966d8184c270",
        "colab": {
          "base_uri": "https://localhost:8080/",
          "height": 370
        }
      },
      "outputs": [
        {
          "output_type": "error",
          "ename": "IntCastingNaNError",
          "evalue": "Cannot convert non-finite values (NA or inf) to integer",
          "traceback": [
            "\u001b[0;31m---------------------------------------------------------------------------\u001b[0m",
            "\u001b[0;31mIntCastingNaNError\u001b[0m                        Traceback (most recent call last)",
            "\u001b[0;32m<ipython-input-16-7a2920a88459>\u001b[0m in \u001b[0;36m<cell line: 4>\u001b[0;34m()\u001b[0m\n\u001b[1;32m      2\u001b[0m \u001b[0mc_crime_df\u001b[0m\u001b[0;34m[\u001b[0m\u001b[0;34m\"Date\"\u001b[0m\u001b[0;34m]\u001b[0m \u001b[0;34m=\u001b[0m \u001b[0mpd\u001b[0m\u001b[0;34m.\u001b[0m\u001b[0mto_datetime\u001b[0m\u001b[0;34m(\u001b[0m\u001b[0mc_crime_df\u001b[0m\u001b[0;34m[\u001b[0m\u001b[0;34m\"Date\"\u001b[0m\u001b[0;34m]\u001b[0m\u001b[0;34m,\u001b[0m \u001b[0mformat\u001b[0m \u001b[0;34m=\u001b[0m \u001b[0;34m\"%m/%d/%Y %I:%M:%S %p\"\u001b[0m\u001b[0;34m,\u001b[0m \u001b[0mutc\u001b[0m \u001b[0;34m=\u001b[0m \u001b[0;32mTrue\u001b[0m\u001b[0;34m)\u001b[0m\u001b[0;34m\u001b[0m\u001b[0;34m\u001b[0m\u001b[0m\n\u001b[1;32m      3\u001b[0m \u001b[0mc_crime_df\u001b[0m\u001b[0;34m[\u001b[0m\u001b[0;34m\"Beat\"\u001b[0m\u001b[0;34m]\u001b[0m \u001b[0;34m=\u001b[0m \u001b[0mc_crime_df\u001b[0m\u001b[0;34m[\u001b[0m\u001b[0;34m\"Beat\"\u001b[0m\u001b[0;34m]\u001b[0m\u001b[0;34m.\u001b[0m\u001b[0mastype\u001b[0m\u001b[0;34m(\u001b[0m\u001b[0mnp\u001b[0m\u001b[0;34m.\u001b[0m\u001b[0mint64\u001b[0m\u001b[0;34m)\u001b[0m\u001b[0;34m\u001b[0m\u001b[0;34m\u001b[0m\u001b[0m\n\u001b[0;32m----> 4\u001b[0;31m \u001b[0mc_crime_df\u001b[0m\u001b[0;34m[\u001b[0m\u001b[0;34m\"Ward\"\u001b[0m\u001b[0;34m]\u001b[0m \u001b[0;34m=\u001b[0m \u001b[0mc_crime_df\u001b[0m\u001b[0;34m[\u001b[0m\u001b[0;34m\"Ward\"\u001b[0m\u001b[0;34m]\u001b[0m\u001b[0;34m.\u001b[0m\u001b[0mastype\u001b[0m\u001b[0;34m(\u001b[0m\u001b[0mnp\u001b[0m\u001b[0;34m.\u001b[0m\u001b[0mint64\u001b[0m\u001b[0;34m)\u001b[0m\u001b[0;34m\u001b[0m\u001b[0;34m\u001b[0m\u001b[0m\n\u001b[0m\u001b[1;32m      5\u001b[0m \u001b[0mc_crime_df\u001b[0m\u001b[0;34m[\u001b[0m\u001b[0;34m\"Community Area\"\u001b[0m\u001b[0;34m]\u001b[0m \u001b[0;34m=\u001b[0m \u001b[0mc_crime_df\u001b[0m\u001b[0;34m[\u001b[0m\u001b[0;34m\"Community Area\"\u001b[0m\u001b[0;34m]\u001b[0m\u001b[0;34m.\u001b[0m\u001b[0mastype\u001b[0m\u001b[0;34m(\u001b[0m\u001b[0mnp\u001b[0m\u001b[0;34m.\u001b[0m\u001b[0mint64\u001b[0m\u001b[0;34m)\u001b[0m\u001b[0;34m\u001b[0m\u001b[0;34m\u001b[0m\u001b[0m\n\u001b[1;32m      6\u001b[0m \u001b[0mc_crime_df\u001b[0m\u001b[0;34m[\u001b[0m\u001b[0;34m'Block'\u001b[0m\u001b[0;34m]\u001b[0m \u001b[0;34m=\u001b[0m \u001b[0mc_crime_df\u001b[0m\u001b[0;34m[\u001b[0m\u001b[0;34m'Block'\u001b[0m\u001b[0;34m]\u001b[0m\u001b[0;34m.\u001b[0m\u001b[0mastype\u001b[0m\u001b[0;34m(\u001b[0m\u001b[0mstr\u001b[0m\u001b[0;34m)\u001b[0m\u001b[0;34m\u001b[0m\u001b[0;34m\u001b[0m\u001b[0m\n",
            "\u001b[0;32m/usr/local/lib/python3.10/dist-packages/pandas/core/generic.py\u001b[0m in \u001b[0;36mastype\u001b[0;34m(self, dtype, copy, errors)\u001b[0m\n\u001b[1;32m   6238\u001b[0m         \u001b[0;32melse\u001b[0m\u001b[0;34m:\u001b[0m\u001b[0;34m\u001b[0m\u001b[0;34m\u001b[0m\u001b[0m\n\u001b[1;32m   6239\u001b[0m             \u001b[0;31m# else, only a single dtype is given\u001b[0m\u001b[0;34m\u001b[0m\u001b[0;34m\u001b[0m\u001b[0m\n\u001b[0;32m-> 6240\u001b[0;31m             \u001b[0mnew_data\u001b[0m \u001b[0;34m=\u001b[0m \u001b[0mself\u001b[0m\u001b[0;34m.\u001b[0m\u001b[0m_mgr\u001b[0m\u001b[0;34m.\u001b[0m\u001b[0mastype\u001b[0m\u001b[0;34m(\u001b[0m\u001b[0mdtype\u001b[0m\u001b[0;34m=\u001b[0m\u001b[0mdtype\u001b[0m\u001b[0;34m,\u001b[0m \u001b[0mcopy\u001b[0m\u001b[0;34m=\u001b[0m\u001b[0mcopy\u001b[0m\u001b[0;34m,\u001b[0m \u001b[0merrors\u001b[0m\u001b[0;34m=\u001b[0m\u001b[0merrors\u001b[0m\u001b[0;34m)\u001b[0m\u001b[0;34m\u001b[0m\u001b[0;34m\u001b[0m\u001b[0m\n\u001b[0m\u001b[1;32m   6241\u001b[0m             \u001b[0;32mreturn\u001b[0m \u001b[0mself\u001b[0m\u001b[0;34m.\u001b[0m\u001b[0m_constructor\u001b[0m\u001b[0;34m(\u001b[0m\u001b[0mnew_data\u001b[0m\u001b[0;34m)\u001b[0m\u001b[0;34m.\u001b[0m\u001b[0m__finalize__\u001b[0m\u001b[0;34m(\u001b[0m\u001b[0mself\u001b[0m\u001b[0;34m,\u001b[0m \u001b[0mmethod\u001b[0m\u001b[0;34m=\u001b[0m\u001b[0;34m\"astype\"\u001b[0m\u001b[0;34m)\u001b[0m\u001b[0;34m\u001b[0m\u001b[0;34m\u001b[0m\u001b[0m\n\u001b[1;32m   6242\u001b[0m \u001b[0;34m\u001b[0m\u001b[0m\n",
            "\u001b[0;32m/usr/local/lib/python3.10/dist-packages/pandas/core/internals/managers.py\u001b[0m in \u001b[0;36mastype\u001b[0;34m(self, dtype, copy, errors)\u001b[0m\n\u001b[1;32m    446\u001b[0m \u001b[0;34m\u001b[0m\u001b[0m\n\u001b[1;32m    447\u001b[0m     \u001b[0;32mdef\u001b[0m \u001b[0mastype\u001b[0m\u001b[0;34m(\u001b[0m\u001b[0mself\u001b[0m\u001b[0;34m:\u001b[0m \u001b[0mT\u001b[0m\u001b[0;34m,\u001b[0m \u001b[0mdtype\u001b[0m\u001b[0;34m,\u001b[0m \u001b[0mcopy\u001b[0m\u001b[0;34m:\u001b[0m \u001b[0mbool\u001b[0m \u001b[0;34m=\u001b[0m \u001b[0;32mFalse\u001b[0m\u001b[0;34m,\u001b[0m \u001b[0merrors\u001b[0m\u001b[0;34m:\u001b[0m \u001b[0mstr\u001b[0m \u001b[0;34m=\u001b[0m \u001b[0;34m\"raise\"\u001b[0m\u001b[0;34m)\u001b[0m \u001b[0;34m->\u001b[0m \u001b[0mT\u001b[0m\u001b[0;34m:\u001b[0m\u001b[0;34m\u001b[0m\u001b[0;34m\u001b[0m\u001b[0m\n\u001b[0;32m--> 448\u001b[0;31m         \u001b[0;32mreturn\u001b[0m \u001b[0mself\u001b[0m\u001b[0;34m.\u001b[0m\u001b[0mapply\u001b[0m\u001b[0;34m(\u001b[0m\u001b[0;34m\"astype\"\u001b[0m\u001b[0;34m,\u001b[0m \u001b[0mdtype\u001b[0m\u001b[0;34m=\u001b[0m\u001b[0mdtype\u001b[0m\u001b[0;34m,\u001b[0m \u001b[0mcopy\u001b[0m\u001b[0;34m=\u001b[0m\u001b[0mcopy\u001b[0m\u001b[0;34m,\u001b[0m \u001b[0merrors\u001b[0m\u001b[0;34m=\u001b[0m\u001b[0merrors\u001b[0m\u001b[0;34m)\u001b[0m\u001b[0;34m\u001b[0m\u001b[0;34m\u001b[0m\u001b[0m\n\u001b[0m\u001b[1;32m    449\u001b[0m \u001b[0;34m\u001b[0m\u001b[0m\n\u001b[1;32m    450\u001b[0m     def convert(\n",
            "\u001b[0;32m/usr/local/lib/python3.10/dist-packages/pandas/core/internals/managers.py\u001b[0m in \u001b[0;36mapply\u001b[0;34m(self, f, align_keys, ignore_failures, **kwargs)\u001b[0m\n\u001b[1;32m    350\u001b[0m                     \u001b[0mapplied\u001b[0m \u001b[0;34m=\u001b[0m \u001b[0mb\u001b[0m\u001b[0;34m.\u001b[0m\u001b[0mapply\u001b[0m\u001b[0;34m(\u001b[0m\u001b[0mf\u001b[0m\u001b[0;34m,\u001b[0m \u001b[0;34m**\u001b[0m\u001b[0mkwargs\u001b[0m\u001b[0;34m)\u001b[0m\u001b[0;34m\u001b[0m\u001b[0;34m\u001b[0m\u001b[0m\n\u001b[1;32m    351\u001b[0m                 \u001b[0;32melse\u001b[0m\u001b[0;34m:\u001b[0m\u001b[0;34m\u001b[0m\u001b[0;34m\u001b[0m\u001b[0m\n\u001b[0;32m--> 352\u001b[0;31m                     \u001b[0mapplied\u001b[0m \u001b[0;34m=\u001b[0m \u001b[0mgetattr\u001b[0m\u001b[0;34m(\u001b[0m\u001b[0mb\u001b[0m\u001b[0;34m,\u001b[0m \u001b[0mf\u001b[0m\u001b[0;34m)\u001b[0m\u001b[0;34m(\u001b[0m\u001b[0;34m**\u001b[0m\u001b[0mkwargs\u001b[0m\u001b[0;34m)\u001b[0m\u001b[0;34m\u001b[0m\u001b[0;34m\u001b[0m\u001b[0m\n\u001b[0m\u001b[1;32m    353\u001b[0m             \u001b[0;32mexcept\u001b[0m \u001b[0;34m(\u001b[0m\u001b[0mTypeError\u001b[0m\u001b[0;34m,\u001b[0m \u001b[0mNotImplementedError\u001b[0m\u001b[0;34m)\u001b[0m\u001b[0;34m:\u001b[0m\u001b[0;34m\u001b[0m\u001b[0;34m\u001b[0m\u001b[0m\n\u001b[1;32m    354\u001b[0m                 \u001b[0;32mif\u001b[0m \u001b[0;32mnot\u001b[0m \u001b[0mignore_failures\u001b[0m\u001b[0;34m:\u001b[0m\u001b[0;34m\u001b[0m\u001b[0;34m\u001b[0m\u001b[0m\n",
            "\u001b[0;32m/usr/local/lib/python3.10/dist-packages/pandas/core/internals/blocks.py\u001b[0m in \u001b[0;36mastype\u001b[0;34m(self, dtype, copy, errors)\u001b[0m\n\u001b[1;32m    524\u001b[0m         \u001b[0mvalues\u001b[0m \u001b[0;34m=\u001b[0m \u001b[0mself\u001b[0m\u001b[0;34m.\u001b[0m\u001b[0mvalues\u001b[0m\u001b[0;34m\u001b[0m\u001b[0;34m\u001b[0m\u001b[0m\n\u001b[1;32m    525\u001b[0m \u001b[0;34m\u001b[0m\u001b[0m\n\u001b[0;32m--> 526\u001b[0;31m         \u001b[0mnew_values\u001b[0m \u001b[0;34m=\u001b[0m \u001b[0mastype_array_safe\u001b[0m\u001b[0;34m(\u001b[0m\u001b[0mvalues\u001b[0m\u001b[0;34m,\u001b[0m \u001b[0mdtype\u001b[0m\u001b[0;34m,\u001b[0m \u001b[0mcopy\u001b[0m\u001b[0;34m=\u001b[0m\u001b[0mcopy\u001b[0m\u001b[0;34m,\u001b[0m \u001b[0merrors\u001b[0m\u001b[0;34m=\u001b[0m\u001b[0merrors\u001b[0m\u001b[0;34m)\u001b[0m\u001b[0;34m\u001b[0m\u001b[0;34m\u001b[0m\u001b[0m\n\u001b[0m\u001b[1;32m    527\u001b[0m \u001b[0;34m\u001b[0m\u001b[0m\n\u001b[1;32m    528\u001b[0m         \u001b[0mnew_values\u001b[0m \u001b[0;34m=\u001b[0m \u001b[0mmaybe_coerce_values\u001b[0m\u001b[0;34m(\u001b[0m\u001b[0mnew_values\u001b[0m\u001b[0;34m)\u001b[0m\u001b[0;34m\u001b[0m\u001b[0;34m\u001b[0m\u001b[0m\n",
            "\u001b[0;32m/usr/local/lib/python3.10/dist-packages/pandas/core/dtypes/astype.py\u001b[0m in \u001b[0;36mastype_array_safe\u001b[0;34m(values, dtype, copy, errors)\u001b[0m\n\u001b[1;32m    297\u001b[0m \u001b[0;34m\u001b[0m\u001b[0m\n\u001b[1;32m    298\u001b[0m     \u001b[0;32mtry\u001b[0m\u001b[0;34m:\u001b[0m\u001b[0;34m\u001b[0m\u001b[0;34m\u001b[0m\u001b[0m\n\u001b[0;32m--> 299\u001b[0;31m         \u001b[0mnew_values\u001b[0m \u001b[0;34m=\u001b[0m \u001b[0mastype_array\u001b[0m\u001b[0;34m(\u001b[0m\u001b[0mvalues\u001b[0m\u001b[0;34m,\u001b[0m \u001b[0mdtype\u001b[0m\u001b[0;34m,\u001b[0m \u001b[0mcopy\u001b[0m\u001b[0;34m=\u001b[0m\u001b[0mcopy\u001b[0m\u001b[0;34m)\u001b[0m\u001b[0;34m\u001b[0m\u001b[0;34m\u001b[0m\u001b[0m\n\u001b[0m\u001b[1;32m    300\u001b[0m     \u001b[0;32mexcept\u001b[0m \u001b[0;34m(\u001b[0m\u001b[0mValueError\u001b[0m\u001b[0;34m,\u001b[0m \u001b[0mTypeError\u001b[0m\u001b[0;34m)\u001b[0m\u001b[0;34m:\u001b[0m\u001b[0;34m\u001b[0m\u001b[0;34m\u001b[0m\u001b[0m\n\u001b[1;32m    301\u001b[0m         \u001b[0;31m# e.g. astype_nansafe can fail on object-dtype of strings\u001b[0m\u001b[0;34m\u001b[0m\u001b[0;34m\u001b[0m\u001b[0m\n",
            "\u001b[0;32m/usr/local/lib/python3.10/dist-packages/pandas/core/dtypes/astype.py\u001b[0m in \u001b[0;36mastype_array\u001b[0;34m(values, dtype, copy)\u001b[0m\n\u001b[1;32m    228\u001b[0m \u001b[0;34m\u001b[0m\u001b[0m\n\u001b[1;32m    229\u001b[0m     \u001b[0;32melse\u001b[0m\u001b[0;34m:\u001b[0m\u001b[0;34m\u001b[0m\u001b[0;34m\u001b[0m\u001b[0m\n\u001b[0;32m--> 230\u001b[0;31m         \u001b[0mvalues\u001b[0m \u001b[0;34m=\u001b[0m \u001b[0mastype_nansafe\u001b[0m\u001b[0;34m(\u001b[0m\u001b[0mvalues\u001b[0m\u001b[0;34m,\u001b[0m \u001b[0mdtype\u001b[0m\u001b[0;34m,\u001b[0m \u001b[0mcopy\u001b[0m\u001b[0;34m=\u001b[0m\u001b[0mcopy\u001b[0m\u001b[0;34m)\u001b[0m\u001b[0;34m\u001b[0m\u001b[0;34m\u001b[0m\u001b[0m\n\u001b[0m\u001b[1;32m    231\u001b[0m \u001b[0;34m\u001b[0m\u001b[0m\n\u001b[1;32m    232\u001b[0m     \u001b[0;31m# in pandas we don't store numpy str dtypes, so convert to object\u001b[0m\u001b[0;34m\u001b[0m\u001b[0;34m\u001b[0m\u001b[0m\n",
            "\u001b[0;32m/usr/local/lib/python3.10/dist-packages/pandas/core/dtypes/astype.py\u001b[0m in \u001b[0;36mastype_nansafe\u001b[0;34m(arr, dtype, copy, skipna)\u001b[0m\n\u001b[1;32m    138\u001b[0m \u001b[0;34m\u001b[0m\u001b[0m\n\u001b[1;32m    139\u001b[0m     \u001b[0;32melif\u001b[0m \u001b[0mnp\u001b[0m\u001b[0;34m.\u001b[0m\u001b[0missubdtype\u001b[0m\u001b[0;34m(\u001b[0m\u001b[0marr\u001b[0m\u001b[0;34m.\u001b[0m\u001b[0mdtype\u001b[0m\u001b[0;34m,\u001b[0m \u001b[0mnp\u001b[0m\u001b[0;34m.\u001b[0m\u001b[0mfloating\u001b[0m\u001b[0;34m)\u001b[0m \u001b[0;32mand\u001b[0m \u001b[0mis_integer_dtype\u001b[0m\u001b[0;34m(\u001b[0m\u001b[0mdtype\u001b[0m\u001b[0;34m)\u001b[0m\u001b[0;34m:\u001b[0m\u001b[0;34m\u001b[0m\u001b[0;34m\u001b[0m\u001b[0m\n\u001b[0;32m--> 140\u001b[0;31m         \u001b[0;32mreturn\u001b[0m \u001b[0m_astype_float_to_int_nansafe\u001b[0m\u001b[0;34m(\u001b[0m\u001b[0marr\u001b[0m\u001b[0;34m,\u001b[0m \u001b[0mdtype\u001b[0m\u001b[0;34m,\u001b[0m \u001b[0mcopy\u001b[0m\u001b[0;34m)\u001b[0m\u001b[0;34m\u001b[0m\u001b[0;34m\u001b[0m\u001b[0m\n\u001b[0m\u001b[1;32m    141\u001b[0m \u001b[0;34m\u001b[0m\u001b[0m\n\u001b[1;32m    142\u001b[0m     \u001b[0;32melif\u001b[0m \u001b[0mis_object_dtype\u001b[0m\u001b[0;34m(\u001b[0m\u001b[0marr\u001b[0m\u001b[0;34m.\u001b[0m\u001b[0mdtype\u001b[0m\u001b[0;34m)\u001b[0m\u001b[0;34m:\u001b[0m\u001b[0;34m\u001b[0m\u001b[0;34m\u001b[0m\u001b[0m\n",
            "\u001b[0;32m/usr/local/lib/python3.10/dist-packages/pandas/core/dtypes/astype.py\u001b[0m in \u001b[0;36m_astype_float_to_int_nansafe\u001b[0;34m(values, dtype, copy)\u001b[0m\n\u001b[1;32m    180\u001b[0m     \"\"\"\n\u001b[1;32m    181\u001b[0m     \u001b[0;32mif\u001b[0m \u001b[0;32mnot\u001b[0m \u001b[0mnp\u001b[0m\u001b[0;34m.\u001b[0m\u001b[0misfinite\u001b[0m\u001b[0;34m(\u001b[0m\u001b[0mvalues\u001b[0m\u001b[0;34m)\u001b[0m\u001b[0;34m.\u001b[0m\u001b[0mall\u001b[0m\u001b[0;34m(\u001b[0m\u001b[0;34m)\u001b[0m\u001b[0;34m:\u001b[0m\u001b[0;34m\u001b[0m\u001b[0;34m\u001b[0m\u001b[0m\n\u001b[0;32m--> 182\u001b[0;31m         raise IntCastingNaNError(\n\u001b[0m\u001b[1;32m    183\u001b[0m             \u001b[0;34m\"Cannot convert non-finite values (NA or inf) to integer\"\u001b[0m\u001b[0;34m\u001b[0m\u001b[0;34m\u001b[0m\u001b[0m\n\u001b[1;32m    184\u001b[0m         )\n",
            "\u001b[0;31mIntCastingNaNError\u001b[0m: Cannot convert non-finite values (NA or inf) to integer"
          ]
        }
      ],
      "source": [
        "# Including the date format dramatically increases performance.\n",
        "c_crime_df[\"Date\"] = pd.to_datetime(c_crime_df[\"Date\"], format = \"%m/%d/%Y %I:%M:%S %p\", utc = True)\n",
        "c_crime_df[\"Beat\"] = c_crime_df[\"Beat\"].astype(np.int64)\n",
        "c_crime_df[\"Ward\"] = c_crime_df[\"Ward\"].astype(np.int64)\n",
        "c_crime_df[\"District\"] = c_crime_df[\"District\"].astype(np.int64)\n",
        "c_crime_df[\"Community Area\"] = c_crime_df[\"Community Area\"].astype(np.int64)\n",
        "c_crime_df['Block'] = c_crime_df['Block'].astype(str)"
      ]
    },
    {
      "cell_type": "markdown",
      "id": "cc8f291b-bc85-4dc2-9a9e-d1c288b61399",
      "metadata": {
        "id": "cc8f291b-bc85-4dc2-9a9e-d1c288b61399"
      },
      "source": [
        "# 4. Feature Engineering\n",
        "\n",
        "Create new columns for Time, Date, Block_new, Street, Months, Day, and Season"
      ]
    },
    {
      "cell_type": "code",
      "execution_count": null,
      "id": "LjPD8DjbXmNm",
      "metadata": {
        "id": "LjPD8DjbXmNm"
      },
      "outputs": [],
      "source": []
    },
    {
      "cell_type": "code",
      "execution_count": 17,
      "id": "d4a06fef-5169-4c92-bff4-fdddacb0f309",
      "metadata": {
        "ExecuteTime": {
          "end_time": "2024-03-27T20:35:48.334109Z",
          "start_time": "2024-03-27T20:35:48.294942Z"
        },
        "id": "d4a06fef-5169-4c92-bff4-fdddacb0f309"
      },
      "outputs": [],
      "source": [
        "# Create new columns for Months\n",
        "def extract_and_map_month(date):\n",
        "    # ensure the input is in datetime format\n",
        "    # 07/26/2008 02:30:00 PM\n",
        "    date_column = pd.to_datetime(date, format='%m/%d/%Y %I:%M:%S %p')\n",
        "\n",
        "    month_names = date_column.dt.month_name()\n",
        "# dt is an attribute of the date column object\n",
        "# month_name() is a method\n",
        "    return month_names"
      ]
    },
    {
      "cell_type": "code",
      "execution_count": 18,
      "id": "c03c34fe-a207-4d57-8ac6-1879e17c3a88",
      "metadata": {
        "ExecuteTime": {
          "end_time": "2024-03-27T20:35:50.097116Z",
          "start_time": "2024-03-27T20:35:48.417811Z"
        },
        "id": "c03c34fe-a207-4d57-8ac6-1879e17c3a88"
      },
      "outputs": [],
      "source": [
        "\n",
        "c_crime_df['Month'] = extract_and_map_month(c_crime_df['Date'])\n",
        "\n",
        "# Group by month and count number of crimes\n",
        "monthly_crime_counts = c_crime_df.groupby('Month').size()"
      ]
    },
    {
      "cell_type": "code",
      "execution_count": null,
      "id": "df886e1b-44b0-43c7-9196-499977fa79f1",
      "metadata": {
        "ExecuteTime": {
          "end_time": "2024-03-27T20:35:50.198228Z",
          "start_time": "2024-03-27T20:35:50.182658Z"
        },
        "id": "df886e1b-44b0-43c7-9196-499977fa79f1"
      },
      "outputs": [],
      "source": [
        "# Create new columns for Day\n",
        "def extract_and_map_month(date):\n",
        "    # ensure the input is in datetime format\n",
        "    # 07/26/2008 02:30:00 PM\n",
        "    date_column = pd.to_datetime(date, format='%m/%d/%Y %I:%M:%S %p')\n",
        "\n",
        "    day_names = date_column.dt.day_name()\n",
        "# dt is an attribute of the date column object\n",
        "# month_name() is a method\n",
        "    return day_names"
      ]
    },
    {
      "cell_type": "code",
      "execution_count": null,
      "id": "39b009a6-f3db-48aa-9157-a0d4607cf4e1",
      "metadata": {
        "ExecuteTime": {
          "end_time": "2024-03-27T20:35:52.369375Z",
          "start_time": "2024-03-27T20:35:50.252953Z"
        },
        "id": "39b009a6-f3db-48aa-9157-a0d4607cf4e1"
      },
      "outputs": [],
      "source": [
        "c_crime_df['Day'] = extract_and_map_month(c_crime_df['Date'])\n",
        "\n",
        "# Group by day and count number of crimes\n",
        "daily_crime_counts = c_crime_df.groupby('Day').size()"
      ]
    },
    {
      "cell_type": "code",
      "execution_count": null,
      "id": "3d084f26-071a-47d1-9987-d093058ae120",
      "metadata": {
        "ExecuteTime": {
          "end_time": "2024-03-27T20:35:52.532671Z",
          "start_time": "2024-03-27T20:35:52.520822Z"
        },
        "id": "3d084f26-071a-47d1-9987-d093058ae120"
      },
      "outputs": [],
      "source": [
        "# Function to define various month and their corresponding season\n",
        "def get_season(month):\n",
        "    if month in ['December','January','February']:\n",
        "        return 'Winter'\n",
        "    elif month in ['March','April','May']:\n",
        "        return 'Spring'\n",
        "    elif month in ['June','July','August']:\n",
        "        return 'Summer'\n",
        "    else:\n",
        "        return 'Fall'"
      ]
    },
    {
      "cell_type": "code",
      "execution_count": null,
      "id": "4505a71b-dbc9-4e1f-8e7a-6e9cae261a02",
      "metadata": {
        "ExecuteTime": {
          "end_time": "2024-03-27T20:35:55.601293Z",
          "start_time": "2024-03-27T20:35:52.676064Z"
        },
        "id": "4505a71b-dbc9-4e1f-8e7a-6e9cae261a02"
      },
      "outputs": [],
      "source": [
        "c_crime_df['Season'] = c_crime_df['Month'].apply(get_season)\n",
        "\n",
        "# Group by season and count number of crimes\n",
        "seasonal_crime_counts = c_crime_df.groupby('Season').size()\n"
      ]
    },
    {
      "cell_type": "code",
      "execution_count": null,
      "id": "8f24015a-c27b-46ae-9d6f-95da7a4be386",
      "metadata": {
        "ExecuteTime": {
          "end_time": "2024-03-27T20:35:55.880142Z",
          "start_time": "2024-03-27T20:35:55.767890Z"
        },
        "id": "8f24015a-c27b-46ae-9d6f-95da7a4be386"
      },
      "outputs": [],
      "source": [
        "c_crime_df.head()"
      ]
    },
    {
      "cell_type": "markdown",
      "id": "cb3d6c5b",
      "metadata": {
        "id": "cb3d6c5b"
      },
      "source": [
        "# 4. EDA: Data Exploration"
      ]
    },
    {
      "cell_type": "markdown",
      "id": "19d9c35f",
      "metadata": {
        "id": "19d9c35f"
      },
      "source": [
        "## Non - Graphical"
      ]
    },
    {
      "cell_type": "markdown",
      "id": "a00848fb",
      "metadata": {
        "ExecuteTime": {
          "end_time": "2024-03-21T17:26:55.994165Z",
          "start_time": "2024-03-21T17:26:55.676084Z"
        },
        "id": "a00848fb"
      },
      "source": [
        "1. **Total Number of Crime cases Filed**"
      ]
    },
    {
      "cell_type": "code",
      "execution_count": null,
      "id": "fd0c282b",
      "metadata": {
        "ExecuteTime": {
          "end_time": "2024-03-27T20:35:57.367726Z",
          "start_time": "2024-03-27T20:35:55.925654Z"
        },
        "id": "fd0c282b"
      },
      "outputs": [],
      "source": [
        "# Number of Unique Case Number.\n",
        "\n",
        "print(f\"Out of {len(c_crime_df)}: {len(c_crime_df['Case Number'].unique())} are unique case numbers\")"
      ]
    },
    {
      "cell_type": "markdown",
      "id": "90f03909",
      "metadata": {
        "id": "90f03909"
      },
      "source": [
        "**Observation**: Most case numbers are unique case numbers."
      ]
    },
    {
      "cell_type": "markdown",
      "id": "c61bc9c8",
      "metadata": {
        "id": "c61bc9c8"
      },
      "source": [
        "Number of Non-Unique cases"
      ]
    },
    {
      "cell_type": "code",
      "execution_count": null,
      "id": "1795f5f4",
      "metadata": {
        "ExecuteTime": {
          "end_time": "2024-03-27T20:36:00.551935Z",
          "start_time": "2024-03-27T20:35:57.443461Z"
        },
        "id": "1795f5f4"
      },
      "outputs": [],
      "source": [
        "# Out of all cases , how many are non_unique cases ?\n",
        "\n",
        "non_unique_case_number = c_crime_df[c_crime_df.duplicated('Case Number') | c_crime_df.duplicated('Case Number', keep=False)]['Case Number'].tolist()\n",
        "\n",
        "print(f\"Length of non_unique: {len(non_unique_case_number)} out of {len(c_crime_df)}\")"
      ]
    },
    {
      "cell_type": "code",
      "execution_count": null,
      "id": "4a4214b0",
      "metadata": {
        "ExecuteTime": {
          "end_time": "2024-03-27T20:36:22.470637Z",
          "start_time": "2024-03-27T20:36:21.162710Z"
        },
        "id": "4a4214b0"
      },
      "outputs": [],
      "source": [
        "non_unique_case_number_df = c_crime_df[c_crime_df.duplicated('Case Number', keep=False)]\n",
        "non_unique_case_number_df.head() # Saving non_unique case number dataframe for future use."
      ]
    },
    {
      "cell_type": "markdown",
      "id": "1b54426f",
      "metadata": {
        "id": "1b54426f"
      },
      "source": [
        "**Observation**: There are 2275789 unique values of case number out of 2275836 , it means there are 2275789 cases registered with a single crime the rest 92 are the case numbers which have commited multiple crimes."
      ]
    },
    {
      "cell_type": "markdown",
      "id": "rLzz5qKabPxQ",
      "metadata": {
        "id": "rLzz5qKabPxQ"
      },
      "source": [
        "2. **Out of total case registered how many are arrested and how many are not?**"
      ]
    },
    {
      "cell_type": "code",
      "execution_count": null,
      "id": "jO56OUpDbQp0",
      "metadata": {
        "ExecuteTime": {
          "end_time": "2024-03-27T20:36:26.928699Z",
          "start_time": "2024-03-27T20:36:26.222851Z"
        },
        "id": "jO56OUpDbQp0"
      },
      "outputs": [],
      "source": [
        "# Out of total case registered how many are arrested and how many are not?\n",
        "\n",
        "\n",
        "arrested = c_crime_df['Arrest'].where(c_crime_df['Arrest'] == True).count()\n",
        "not_arrested = c_crime_df['Arrest'].where(c_crime_df['Arrest'] != True).count()\n",
        "\n",
        "print(f\"Out of {len(c_crime_df)},\\n{arrested} are Arrested and \\n{not_arrested} are not Arrested.\")"
      ]
    },
    {
      "cell_type": "markdown",
      "id": "fsRd_rWddqzt",
      "metadata": {
        "id": "fsRd_rWddqzt"
      },
      "source": [
        "**Observation**: Out of total crime cases received, 27% of the Criminals are arrested, 73% were not."
      ]
    },
    {
      "cell_type": "markdown",
      "id": "CHmOUy3vPWca",
      "metadata": {
        "id": "CHmOUy3vPWca"
      },
      "source": [
        "3. **How many unique crimes are available and what is the count for each crime from 2001-2022?**"
      ]
    },
    {
      "cell_type": "code",
      "execution_count": null,
      "id": "524DMgVYPXW2",
      "metadata": {
        "ExecuteTime": {
          "end_time": "2024-03-27T20:36:28.770011Z",
          "start_time": "2024-03-27T20:36:28.137821Z"
        },
        "id": "524DMgVYPXW2"
      },
      "outputs": [],
      "source": [
        "# Group by Crime type and calculate count\n",
        "crime_count = c_crime_df['Primary Type'].unique()\n",
        "print(f'The Number of unique crimes are {len(crime_count)} and the count for each crime are:')\n",
        "count_for_each_crime = pd.DataFrame(c_crime_df.groupby('Primary Type').size().sort_values(ascending=False).rename('Count').reset_index())\n",
        "count_for_each_crime.head()"
      ]
    },
    {
      "cell_type": "markdown",
      "id": "gZh7UMVXfVvw",
      "metadata": {
        "id": "gZh7UMVXfVvw"
      },
      "source": [
        "4. **Number of crimes per Year**"
      ]
    },
    {
      "cell_type": "code",
      "execution_count": null,
      "id": "1deaa834",
      "metadata": {
        "ExecuteTime": {
          "end_time": "2024-03-27T20:36:29.193767Z",
          "start_time": "2024-03-27T20:36:29.105965Z"
        },
        "scrolled": true,
        "id": "1deaa834"
      },
      "outputs": [],
      "source": [
        "# Count the number of crimes per year\n",
        "crime_counts_per_year = c_crime_df['Year'].value_counts().sort_index().rename('Count').reset_index()\n",
        "print(f'The amount of crimes per year are as follow: ')\n",
        "crime_counts_per_year"
      ]
    },
    {
      "cell_type": "markdown",
      "id": "cb7ae611",
      "metadata": {
        "id": "cb7ae611"
      },
      "source": [
        "5. **Number of crimes by month**\n",
        "\n",
        "how many records we have for each month ?"
      ]
    },
    {
      "cell_type": "code",
      "execution_count": null,
      "id": "e93c9abd",
      "metadata": {
        "ExecuteTime": {
          "end_time": "2024-03-27T20:36:30.493421Z",
          "start_time": "2024-03-27T20:36:29.952700Z"
        },
        "id": "e93c9abd"
      },
      "outputs": [],
      "source": [
        "# Count the number of crimes per Month\n",
        "crime_counts_per_month = c_crime_df['Month'].value_counts().sort_index().rename('Count').reset_index()\n",
        "print(f'The amount of crimes per month are as follow: ')\n",
        "crime_counts_per_month"
      ]
    },
    {
      "cell_type": "markdown",
      "id": "bf696fe4",
      "metadata": {
        "ExecuteTime": {
          "end_time": "2024-03-26T13:27:37.344442Z",
          "start_time": "2024-03-26T13:27:37.326463Z"
        },
        "id": "bf696fe4"
      },
      "source": [
        "6. **Number of crimes by seasons**\n",
        "\n",
        "how many records we have for each seasons ?"
      ]
    },
    {
      "cell_type": "code",
      "execution_count": null,
      "id": "161a1bab",
      "metadata": {
        "ExecuteTime": {
          "end_time": "2024-03-27T20:36:31.549020Z",
          "start_time": "2024-03-27T20:36:31.202802Z"
        },
        "scrolled": true,
        "id": "161a1bab"
      },
      "outputs": [],
      "source": [
        "# Count the number of crimes per Seasons\n",
        "crime_counts_per_season = c_crime_df['Season'].value_counts().sort_index().rename('Count').reset_index()\n",
        "print(f'The Seasonal Crime rate are as follow: ')\n",
        "crime_counts_per_season"
      ]
    },
    {
      "cell_type": "markdown",
      "id": "82440cf8",
      "metadata": {
        "id": "82440cf8"
      },
      "source": [
        "7. **Number of crimes by day**\n",
        "\n",
        "how many records we have for each day ?"
      ]
    },
    {
      "cell_type": "code",
      "execution_count": null,
      "id": "b8e1eb35",
      "metadata": {
        "ExecuteTime": {
          "end_time": "2024-03-27T20:36:32.550797Z",
          "start_time": "2024-03-27T20:36:32.122782Z"
        },
        "scrolled": true,
        "id": "b8e1eb35"
      },
      "outputs": [],
      "source": [
        "# Count the number of crimes per day\n",
        "crime_counts_per_day = c_crime_df['Day'].value_counts().sort_index().rename('Count').reset_index()\n",
        "print(f'The daily Crime rate are as follow: ')\n",
        "crime_counts_per_day"
      ]
    },
    {
      "cell_type": "code",
      "execution_count": null,
      "id": "fe997a47",
      "metadata": {
        "ExecuteTime": {
          "end_time": "2024-03-27T20:36:32.712679Z",
          "start_time": "2024-03-27T20:36:32.712679Z"
        },
        "id": "fe997a47"
      },
      "outputs": [],
      "source": [
        "# What are the top 5 most common crime types?\n",
        "common_crime = c_crime_df['Primary Type'].value_counts().head()\n",
        "print(f'The top 5 most common crime types are {common_crime}')"
      ]
    },
    {
      "cell_type": "code",
      "execution_count": null,
      "id": "98cbb72a",
      "metadata": {
        "ExecuteTime": {
          "end_time": "2024-03-27T20:36:33.474975Z",
          "start_time": "2024-03-27T20:36:33.088637Z"
        },
        "id": "98cbb72a"
      },
      "outputs": [],
      "source": [
        "# what is the most common location description for crimes?\n",
        "\n",
        "print(\"Most common location description for crimes:\",c_crime_df['Location Description'].mode()[0])"
      ]
    },
    {
      "cell_type": "code",
      "execution_count": null,
      "id": "372d3784",
      "metadata": {
        "ExecuteTime": {
          "end_time": "2024-03-27T20:36:36.460713Z",
          "start_time": "2024-03-27T20:36:36.332843Z"
        },
        "id": "372d3784"
      },
      "outputs": [],
      "source": [
        "# what are the top 10 most common crimes in 2021?\n",
        "crime_2021 = c_crime_df[c_crime_df['Year'] == 2021]\n",
        "print(\"Top 10 most crime in 2021: \")\n",
        "crime_2021['Primary Type'].value_counts().head(10)"
      ]
    },
    {
      "cell_type": "code",
      "execution_count": null,
      "id": "bf9e9dbb",
      "metadata": {
        "ExecuteTime": {
          "end_time": "2024-03-27T20:36:36.834878Z",
          "start_time": "2024-03-27T20:36:36.804726Z"
        },
        "id": "bf9e9dbb"
      },
      "outputs": [],
      "source": [
        "# How many crimes were reported each month in 2021 ?\n",
        "monthly_crime_2021 = crime_2021['Month'].value_counts().sort_index()\n",
        "print('Number of crimes reported each month in 2021:')\n",
        "monthly_crime_2021"
      ]
    },
    {
      "cell_type": "code",
      "execution_count": null,
      "id": "1a1517bd",
      "metadata": {
        "ExecuteTime": {
          "end_time": "2024-03-27T20:36:37.518623Z",
          "start_time": "2024-03-27T20:36:37.483136Z"
        },
        "id": "1a1517bd"
      },
      "outputs": [],
      "source": [
        "How many crimes"
      ]
    },
    {
      "cell_type": "markdown",
      "id": "dfd0f0fa",
      "metadata": {
        "id": "dfd0f0fa"
      },
      "source": [
        "8. **Top 10 - Number of cases each day**"
      ]
    },
    {
      "cell_type": "code",
      "execution_count": null,
      "id": "3cdd90db",
      "metadata": {
        "ExecuteTime": {
          "end_time": "2024-03-27T20:36:42.337293Z",
          "start_time": "2024-03-27T20:36:41.074984Z"
        },
        "id": "3cdd90db"
      },
      "outputs": [],
      "source": [
        "# Top 10 - Number of cases each day?\n",
        "\n",
        "top_10_num_of_cases_each_day = c_crime_df.groupby(['Date'])['Case Number'].count().reset_index(name = 'no_of_cases').set_index('no_of_cases').sort_index(ascending = False)[:10]\n",
        "top_10_num_of_cases_each_day"
      ]
    },
    {
      "cell_type": "code",
      "execution_count": null,
      "id": "47e6c263",
      "metadata": {
        "id": "47e6c263"
      },
      "outputs": [],
      "source": []
    },
    {
      "cell_type": "code",
      "execution_count": null,
      "id": "86c21002",
      "metadata": {
        "id": "86c21002"
      },
      "outputs": [],
      "source": []
    },
    {
      "cell_type": "markdown",
      "id": "1c4cbc7d",
      "metadata": {
        "id": "1c4cbc7d"
      },
      "source": [
        "## Graphical"
      ]
    },
    {
      "cell_type": "code",
      "execution_count": null,
      "id": "AX6fNCZIlC7l",
      "metadata": {
        "ExecuteTime": {
          "end_time": "2024-03-27T20:36:50.709479Z",
          "start_time": "2024-03-27T20:36:44.297837Z"
        },
        "id": "AX6fNCZIlC7l"
      },
      "outputs": [],
      "source": [
        "crime_counts_per_year = c_crime_df['Year'].value_counts().sort_index()\n",
        "# Plotting\n",
        "plt.figure(figsize=(20, 13))\n",
        "crime_counts_per_year.plot(kind='bar',fontsize = 15)\n",
        "plt.title('Trend of Crimes in Chicago from 2001 to 2022', fontsize = 30)\n",
        "plt.xlabel('Year',fontsize = 20)\n",
        "plt.ylabel('Number of Crimes',fontsize = 20)\n",
        "plt.xticks(rotation=45)\n",
        "plt.grid(axis='y', linestyle='--', alpha=0.7)\n",
        "plt.tight_layout()\n",
        "plt.show()"
      ]
    },
    {
      "cell_type": "markdown",
      "id": "7c271bd3",
      "metadata": {
        "id": "7c271bd3"
      },
      "source": [
        "**Observations:**\n",
        "\n",
        "1. The crime rate is dropping overall.\n",
        "2. In 2001,number of crime incidents were close to 150k.\n",
        "3. In 2022 ,it's estimate to be 36k , so it's a major drop in crime.\n",
        "4. By 2023 we expect a major drop down to an estimate of 10k"
      ]
    },
    {
      "cell_type": "markdown",
      "id": "RoARopMslmyR",
      "metadata": {
        "id": "RoARopMslmyR"
      },
      "source": [
        "5. **Number of crimes by month**\n",
        "\n",
        "how many records we have for each month ?\n",
        "\n",
        "\n",
        "\n"
      ]
    },
    {
      "cell_type": "code",
      "execution_count": null,
      "id": "7d663a1a",
      "metadata": {
        "ExecuteTime": {
          "end_time": "2024-03-27T20:36:58.273215Z",
          "start_time": "2024-03-27T20:36:57.538581Z"
        },
        "id": "7d663a1a"
      },
      "outputs": [],
      "source": [
        "monthly_crime_counts = c_crime_df.groupby('Month').size()\n",
        "\n",
        "# Set index and sort\n",
        "monthly_crime_counts = monthly_crime_counts.reindex([\n",
        "    'January', 'February', 'March', 'April', 'May', 'June',\n",
        "    'July', 'August', 'September', 'October', 'November', 'December'\n",
        "], axis=0)\n",
        "\n",
        "# Plotting\n",
        "monthly_crime_counts.plot(kind='bar', figsize=(10, 6))\n",
        "plt.xlabel('Month')\n",
        "plt.ylabel('Number of Crimes')\n",
        "plt.title('Seasonal Crime Trend')\n",
        "plt.grid(True)\n",
        "plt.show()"
      ]
    },
    {
      "cell_type": "code",
      "execution_count": null,
      "id": "0bb4c50f",
      "metadata": {
        "ExecuteTime": {
          "end_time": "2024-03-27T20:36:59.839266Z",
          "start_time": "2024-03-27T20:36:58.822865Z"
        },
        "id": "0bb4c50f"
      },
      "outputs": [],
      "source": [
        "crime_counts_per_month = c_crime_df['Month'].value_counts().sort_index()\n",
        "# Plotting\n",
        "plt.figure(figsize=(20, 13))\n",
        "crime_counts_per_month.plot(kind='bar',fontsize = 20)\n",
        "plt.title('Monthly Trend of Crimes in Chicago', fontsize = 30)\n",
        "plt.xlabel('Months',fontsize = 20)\n",
        "plt.ylabel('Number of Crimes',fontsize = 20)\n",
        "plt.xticks(rotation=45)\n",
        "plt.grid(axis='y', linestyle='--', alpha=0.7)\n",
        "plt.tight_layout()\n",
        "plt.show()"
      ]
    },
    {
      "cell_type": "code",
      "execution_count": null,
      "id": "g6XolEacgtVZ",
      "metadata": {
        "ExecuteTime": {
          "end_time": "2024-03-27T20:37:00.007773Z",
          "start_time": "2024-03-27T20:37:00.007773Z"
        },
        "id": "g6XolEacgtVZ"
      },
      "outputs": [],
      "source": [
        "\n",
        "# monthly_crime_count = c_crime_df.resample(\"M\"  , on = 'Date').size()\n",
        "\n",
        "# # Create a line plot.\n",
        "\n",
        "# plt.figure(figsize = (10,6))\n",
        "# plt.plot(monthly_crime_count.index , monthly_crime_count.values , marker = 'o')\n",
        "# plt.xlabel(\"Date\")\n",
        "# plt.ylabel(\"Number of crime incidents\")\n",
        "# plt.title(\"Monthly Crime Trends in Chicago\")\n",
        "# plt.xticks(rotation = 45)\n",
        "# plt.tight_layout()\n",
        "# plt.show()\n"
      ]
    },
    {
      "cell_type": "markdown",
      "id": "3w5uo4j9SrnL",
      "metadata": {
        "id": "3w5uo4j9SrnL"
      },
      "source": [
        "This chart clearly shows a \"periodic\" pattern in the crimes over many years, which shows why crimes are very predictable activity.\n",
        "\n",
        "**Observations:**\n",
        "- From the figure above, its observed that FEBRUARY recorded the least amount of crime cases and JULY is the month where crimes are comitted the most."
      ]
    },
    {
      "cell_type": "markdown",
      "id": "ccb172e3",
      "metadata": {
        "id": "ccb172e3"
      },
      "source": [
        "6. **Number of crimes by Season**\n",
        "\n",
        "how many records we have for each season ?"
      ]
    },
    {
      "cell_type": "code",
      "execution_count": null,
      "id": "3a9dbfe7",
      "metadata": {
        "ExecuteTime": {
          "end_time": "2024-03-27T20:37:02.047239Z",
          "start_time": "2024-03-27T20:37:01.372949Z"
        },
        "id": "3a9dbfe7"
      },
      "outputs": [],
      "source": [
        "\n",
        "crime_counts_per_season = c_crime_df['Season'].value_counts()\n",
        "# Plotting\n",
        "plt.figure(figsize=(20, 13))\n",
        "crime_counts_per_season.plot(kind='bar',fontsize = 25)\n",
        "plt.title('Seasonal Trend of Crimes in Chicago', fontsize = 30)\n",
        "plt.xlabel('Season',fontsize = 20)\n",
        "plt.ylabel('Number of Crimes',fontsize = 20)\n",
        "plt.xticks(rotation=45)\n",
        "plt.grid(axis='y', linestyle='--', alpha=0.7)\n",
        "plt.tight_layout()\n",
        "plt.show()"
      ]
    },
    {
      "cell_type": "code",
      "execution_count": null,
      "id": "67ef8be9",
      "metadata": {
        "ExecuteTime": {
          "end_time": "2024-03-27T20:37:03.816357Z",
          "start_time": "2024-03-27T20:37:02.842696Z"
        },
        "id": "67ef8be9"
      },
      "outputs": [],
      "source": [
        "crime_counts_per_day = c_crime_df['Day'].value_counts()\n",
        "# Plotting\n",
        "plt.figure(figsize=(20, 13))\n",
        "crime_counts_per_day.plot(kind='bar',fontsize = 25)\n",
        "plt.title('Daily Trend of Crimes in Chicago', fontsize = 30)\n",
        "plt.xlabel('Day',fontsize = 20)\n",
        "plt.ylabel('Number of Crimes',fontsize = 20)\n",
        "plt.xticks(rotation=45)\n",
        "plt.grid(axis='y', linestyle='--', alpha=0.7)\n",
        "plt.tight_layout()\n",
        "plt.show()"
      ]
    },
    {
      "cell_type": "code",
      "execution_count": null,
      "id": "16cdbf6a",
      "metadata": {
        "ExecuteTime": {
          "end_time": "2024-03-27T20:37:04.176041Z",
          "start_time": "2024-03-27T20:37:04.176041Z"
        },
        "id": "16cdbf6a"
      },
      "outputs": [],
      "source": [
        "# Top 10 - Number of cases each day\n",
        "top_10_num_of_cases_each_day_df = pd.DataFrame(top_10_num_of_cases_each_day)\n",
        "index_df = top_10_num_of_cases_each_day_df.index\n",
        "\n",
        "sns.barplot(x = index_df , y = 'Date' , data = top_10_num_of_cases_each_day_df)\n",
        "plt.title(\"Top 10 - Number of cases each day - Bar plot\")\n",
        "plt.xlabel(\"Number of Cases\")\n",
        "plt.ylabel(\"Date\")\n",
        "plt.show()"
      ]
    },
    {
      "cell_type": "markdown",
      "id": "c1c9406b",
      "metadata": {
        "ExecuteTime": {
          "end_time": "2024-03-26T14:09:57.857585Z",
          "start_time": "2024-03-26T14:09:56.825613Z"
        },
        "id": "c1c9406b"
      },
      "source": [
        "**Observation**: The average Number of cases per day could be less than 60\n"
      ]
    },
    {
      "cell_type": "markdown",
      "id": "da9b2502",
      "metadata": {
        "id": "da9b2502"
      },
      "source": [
        "7. __Number of crime by type__</br>\n",
        "We try to indentify the trend and highpoints or lowpoints."
      ]
    },
    {
      "cell_type": "code",
      "execution_count": null,
      "id": "530d94f9",
      "metadata": {
        "ExecuteTime": {
          "end_time": "2024-03-27T20:37:34.408268Z",
          "start_time": "2024-03-27T20:37:04.850163Z"
        },
        "id": "530d94f9"
      },
      "outputs": [],
      "source": [
        "# Function to plot the serie value_counts\n",
        "def plot_counts(serie, title):\n",
        "    df = pd.DataFrame(serie.value_counts()[:10])\n",
        "    df.columns = [\"Freq\"]\n",
        "    df[\"Type\"] = df.index\n",
        "    fig = px.bar(df, y=\"Freq\", x=\"Type\", text=\"Freq\", color=\"Freq\", color_continuous_scale=px.colors.sequential.Blugrn)\n",
        "    fig.update_traces(texttemplate=\"%{text:.2s}\", textposition=\"outside\")\n",
        "    fig.update_layout(uniformtext_minsize=8, uniformtext_mode=\"hide\")\n",
        "    fig.update_layout(title_text=title)\n",
        "    fig.show()\n",
        "\n",
        "\n",
        "plot_counts(c_crime_df[\"Primary Type\"], \"Type of Crimes\")"
      ]
    },
    {
      "cell_type": "markdown",
      "id": "2ee8b340",
      "metadata": {
        "id": "2ee8b340"
      },
      "source": [
        "Observation: THEFT, BATTERY, CRIMINAL DAMAGE and NARCOTICS represents more the 65% of the crimes."
      ]
    },
    {
      "cell_type": "markdown",
      "id": "3fc29c42",
      "metadata": {
        "id": "3fc29c42"
      },
      "source": [
        "8. __Where does crimes happens the most?__"
      ]
    },
    {
      "cell_type": "code",
      "execution_count": null,
      "id": "f1a40772",
      "metadata": {
        "ExecuteTime": {
          "end_time": "2024-03-27T20:37:42.787860Z",
          "start_time": "2024-03-27T20:37:42.212842Z"
        },
        "id": "f1a40772"
      },
      "outputs": [],
      "source": [
        "plot_counts(c_crime_df[\"Location Description\"], \"Location of Crimes\")"
      ]
    },
    {
      "cell_type": "markdown",
      "id": "a0fd327c",
      "metadata": {
        "id": "a0fd327c"
      },
      "source": [
        "**Observation**: Crime happens mostly on the street"
      ]
    },
    {
      "cell_type": "markdown",
      "id": "f2d7899a",
      "metadata": {
        "id": "f2d7899a"
      },
      "source": [
        "9. __Number of crimes per Year x Months__ </br>\n",
        "Let's see the number of crimes per Year and Months..."
      ]
    },
    {
      "cell_type": "code",
      "execution_count": null,
      "id": "d370fd23",
      "metadata": {
        "ExecuteTime": {
          "end_time": "2024-03-27T20:38:03.179608Z",
          "start_time": "2024-03-27T20:37:44.163085Z"
        },
        "id": "d370fd23"
      },
      "outputs": [],
      "source": [
        "# first we convert the date column to datetime data type.\n",
        "\n",
        "c_crime_df['Date'] = pd.to_datetime(chicago_crime_df['Date'],format = \"%m/%d/%Y %I:%M:%S %p\")\n",
        "c_crime_df.set_index(\"Date\", inplace=True)"
      ]
    },
    {
      "cell_type": "code",
      "execution_count": null,
      "id": "ba8d289b",
      "metadata": {
        "ExecuteTime": {
          "end_time": "2024-03-27T20:38:20.921858Z",
          "start_time": "2024-03-27T20:38:05.962965Z"
        },
        "id": "ba8d289b"
      },
      "outputs": [],
      "source": [
        "cases = pd.DataFrame(c_crime_df.resample(\"M\").size(), columns=[\"Number of cases\"])\n",
        "cases[\"Month\"] = cases.index.month.astype(str)\n",
        "cases[\"Year\"] = cases.index.year.astype(str)\n",
        "cases[\"Year-Month\"] = cases[\"Year\"].str.cat(cases[\"Month\"].str.zfill(2), sep=\"-\")\n",
        "cases.head()"
      ]
    },
    {
      "cell_type": "markdown",
      "id": "f43979b6",
      "metadata": {
        "id": "f43979b6"
      },
      "source": [
        "BY HEATMAP"
      ]
    },
    {
      "cell_type": "code",
      "execution_count": null,
      "id": "f362a758",
      "metadata": {
        "ExecuteTime": {
          "end_time": "2024-03-27T20:38:25.916223Z",
          "start_time": "2024-03-27T20:38:24.712806Z"
        },
        "id": "f362a758"
      },
      "outputs": [],
      "source": [
        "case_table = cases[[\"Month\", \"Year\", \"Number of cases\"]]\n",
        "case_table  = case_table.pivot(index='Month', columns='Year', values='Number of cases').fillna(0).astype(int)\n",
        "case_table.index = case_table.index.astype(int)\n",
        "case_table = case_table.sort_index()\n",
        "case_table.index = ['Jan', 'Fev', 'Mar', 'Apr', 'May', 'Jun', 'Jul', 'Aug', 'Sep', 'Oct', 'Nov', 'Dec']\n",
        "plt.figure(figsize=(20, 10))\n",
        "_ = sns.heatmap(\n",
        "    case_table,\n",
        "    annot=True,\n",
        "    fmt=\"d\",\n",
        "    linewidths=0.5,\n",
        "    cmap=\"Blues\",\n",
        ").set_title('Number of crimes in chicago per Year x Months')"
      ]
    },
    {
      "cell_type": "markdown",
      "id": "71a11cf8",
      "metadata": {
        "id": "71a11cf8"
      },
      "source": [
        "The years between 2001 and 2012 were a tough time, the year 2008 was the worst with a mean of 71004 crimes per month, and the best year was the 2015 with a mean of 21916 crimes per month."
      ]
    },
    {
      "cell_type": "markdown",
      "id": "04d00bca",
      "metadata": {
        "id": "04d00bca"
      },
      "source": [
        "BY BAR"
      ]
    },
    {
      "cell_type": "code",
      "execution_count": null,
      "id": "70fe52f1",
      "metadata": {
        "ExecuteTime": {
          "end_time": "2024-03-27T20:39:17.748460Z",
          "start_time": "2024-03-27T20:39:17.503336Z"
        },
        "id": "70fe52f1"
      },
      "outputs": [],
      "source": [
        "fig = px.bar(\n",
        "    cases,\n",
        "    x=\"Year-Month\",\n",
        "    y=\"Number of cases\",\n",
        "    hover_data=[\"Year\", \"Month\", \"Number of cases\"],\n",
        "    color=\"Number of cases\",\n",
        "    height=600,\n",
        "    width=1400,\n",
        "    color_continuous_scale=px.colors.sequential.Blugrn\n",
        "\n",
        ")\n",
        "fig.update_layout(title_text='Crime counts per year-month in bars')\n",
        "fig.show()"
      ]
    },
    {
      "cell_type": "markdown",
      "id": "0b220954",
      "metadata": {
        "id": "0b220954"
      },
      "source": [
        "Similar graph but using bars to visualize though noisy but can be used. Again the 'tough time' during 2001 until 2012."
      ]
    },
    {
      "cell_type": "code",
      "execution_count": null,
      "id": "0b3cc17d",
      "metadata": {
        "id": "0b3cc17d"
      },
      "outputs": [],
      "source": []
    },
    {
      "cell_type": "markdown",
      "id": "289125bb",
      "metadata": {
        "id": "289125bb"
      },
      "source": [
        "10. **Are there specific location that crimes used to happen?**\n",
        "\n",
        "Using Map plot"
      ]
    },
    {
      "cell_type": "code",
      "execution_count": null,
      "id": "53e0bfbd",
      "metadata": {
        "ExecuteTime": {
          "end_time": "2024-03-27T20:39:43.919457Z",
          "start_time": "2024-03-27T20:39:23.753096Z"
        },
        "id": "53e0bfbd"
      },
      "outputs": [],
      "source": [
        "map_marks = chicago_crime_df[['Latitude', 'Longitude']]\n",
        "map_marks['Year'] =  pd.to_datetime(chicago_crime_df.Date, format=\"%m/%d/%Y %I:%M:%S %p\").dt.year\n",
        "map_marks.head()"
      ]
    },
    {
      "cell_type": "code",
      "execution_count": null,
      "id": "918baab8",
      "metadata": {
        "ExecuteTime": {
          "end_time": "2024-03-27T20:45:39.596542Z",
          "start_time": "2024-03-27T20:45:38.444539Z"
        },
        "id": "918baab8"
      },
      "outputs": [],
      "source": [
        "fig = px.scatter_mapbox(map_marks[map_marks.Year == 2016].sample(5000), lat=\"Latitude\", lon=\"Longitude\",\n",
        "                        color_discrete_sequence=[\"fuchsia\"], zoom=9, height=650)\n",
        "fig.update_layout(mapbox_style=\"open-street-map\")\n",
        "fig.update_layout(margin={\"r\":0,\"t\":0,\"l\":0,\"b\":0})\n",
        "fig.show()"
      ]
    },
    {
      "cell_type": "markdown",
      "id": "c5648b20",
      "metadata": {
        "id": "c5648b20"
      },
      "source": [
        "Look like there is crime everywhere in Chicago, in the centre, you can see more points but also is a crowded place."
      ]
    },
    {
      "cell_type": "markdown",
      "id": "7063e9ec",
      "metadata": {
        "id": "7063e9ec"
      },
      "source": [
        "11. **What is the arrested rate per crime?**"
      ]
    },
    {
      "cell_type": "code",
      "execution_count": null,
      "id": "e70009a8",
      "metadata": {
        "ExecuteTime": {
          "end_time": "2024-03-27T20:45:58.476325Z",
          "start_time": "2024-03-27T20:45:57.634889Z"
        },
        "id": "e70009a8"
      },
      "outputs": [],
      "source": [
        "cases = c_crime_df.groupby('Primary Type')['Arrest'].mean().reset_index()\n",
        "cases['Arrest (%)'] = cases['Arrest'].round(4)*100\n",
        "cases.sort_values('Arrest', inplace=True)\n",
        "fig = px.bar(\n",
        "    cases,\n",
        "    orientation='h',\n",
        "    x=\"Arrest (%)\",\n",
        "    y=\"Primary Type\",\n",
        "    color=\"Arrest (%)\",\n",
        "    text=\"Arrest (%)\",\n",
        "    height=800,\n",
        "    #width=800,\n",
        "        color_continuous_scale=px.colors.sequential.Blugrn\n",
        "\n",
        ")\n",
        "fig.update_traces(texttemplate=\"%{text:.4s}\", textposition=\"outside\")\n",
        "fig.update_layout(title_text=\"Arrested Rate in % per Type Crime in Chicago.\")\n",
        "\n",
        "fig.show()"
      ]
    },
    {
      "cell_type": "markdown",
      "id": "ea7e54a6",
      "metadata": {
        "id": "ea7e54a6"
      },
      "source": [
        "The “VIOLATION” crimes look strongly correlated to the arrested rate once the 'cop' must be present in the location to declare the violation."
      ]
    },
    {
      "cell_type": "markdown",
      "id": "jtX0AL4vjH8s",
      "metadata": {
        "id": "jtX0AL4vjH8s"
      },
      "source": [
        "12. **Top 10 Block with the most crime**"
      ]
    },
    {
      "cell_type": "code",
      "execution_count": null,
      "id": "oYGkAfZueHIp",
      "metadata": {
        "ExecuteTime": {
          "end_time": "2024-03-27T20:46:01.619327Z",
          "start_time": "2024-03-27T20:45:59.954641Z"
        },
        "id": "oYGkAfZueHIp"
      },
      "outputs": [],
      "source": [
        "# Group the data by 'Block' and count occurrences\n",
        "block_counts = chicago_crime_df['Block'].value_counts()\n",
        "\n",
        "# Select the top 10 blocks with the most crimes\n",
        "top_10_blocks = block_counts.head(10)\n",
        "\n",
        "# Plot the top 10 blocks\n",
        "top_10_blocks.plot(kind='bar', figsize = (20,13), fontsize = 15)\n",
        "plt.title('Top 10 Blocks with Most Crime in Chicago',fontsize=30)\n",
        "plt.xlabel('Block', fontsize=20)\n",
        "plt.ylabel('Number of Crimes',fontsize=20)\n",
        "plt.xticks(rotation=90, ha='right')\n",
        "plt.tight_layout()\n",
        "plt.show()"
      ]
    },
    {
      "cell_type": "markdown",
      "id": "D1oHhRtBgX5M",
      "metadata": {
        "id": "D1oHhRtBgX5M"
      },
      "source": [
        "13. **Top - 10 Ward with most amount of crimes**"
      ]
    },
    {
      "cell_type": "code",
      "execution_count": null,
      "id": "pUccbMqLfFMn",
      "metadata": {
        "ExecuteTime": {
          "end_time": "2024-03-27T20:46:01.904985Z",
          "start_time": "2024-03-27T20:46:01.904985Z"
        },
        "id": "pUccbMqLfFMn"
      },
      "outputs": [],
      "source": [
        "# Group by 'Ward' and count the occurrences of crimes in each ward\n",
        "ward_crime_counts = chicago_crime_df['Ward'].value_counts()\n",
        "\n",
        "# Select the top 10 wards\n",
        "top_10_wards = ward_crime_counts.head(10)\n",
        "\n",
        "# Plot the data\n",
        "top_10_wards.plot(kind='bar', figsize = (20,13), fontsize = 15)\n",
        "plt.title('Top 10 Wards with the Most Amount of Crimes', fontsize = 30)\n",
        "plt.xlabel('Ward', fontsize = 20)\n",
        "plt.ylabel('Number of Crimes', fontsize = 20)\n",
        "plt.xticks(rotation=45)\n",
        "plt.tight_layout()\n",
        "plt.show()"
      ]
    },
    {
      "cell_type": "markdown",
      "id": "JMGQcbOqg52-",
      "metadata": {
        "id": "JMGQcbOqg52-"
      },
      "source": [
        "14. **Top - 10 community area with the most amount of crimes**\n",
        "\n",
        "\n"
      ]
    },
    {
      "cell_type": "code",
      "execution_count": 22,
      "id": "TB_2igumd1Jr",
      "metadata": {
        "ExecuteTime": {
          "end_time": "2024-03-27T20:46:01.924675Z",
          "start_time": "2024-03-27T20:46:01.924675Z"
        },
        "colab": {
          "base_uri": "https://localhost:8080/",
          "height": 992
        },
        "id": "TB_2igumd1Jr",
        "outputId": "617a2525-f22b-4bb6-c8cf-c5a0a72b8c67"
      },
      "outputs": [
        {
          "output_type": "stream",
          "name": "stderr",
          "text": [
            "<ipython-input-22-f8bb2fcc320d>:10: FutureWarning: \n",
            "\n",
            "Passing `palette` without assigning `hue` is deprecated and will be removed in v0.14.0. Assign the `x` variable to `hue` and set `legend=False` for the same effect.\n",
            "\n",
            "  sns.barplot(x='Community Area', y='Crime Count', data=top_10_community_crime, palette='viridis')\n"
          ]
        },
        {
          "output_type": "display_data",
          "data": {
            "text/plain": [
              "<Figure size 2000x1300 with 1 Axes>"
            ],
            "image/png": "[encoded data removed]"
          },
          "metadata": {}
        }
      ],
      "source": [
        "# Group the data by community area and count the number of crimes\n",
        "community_crime_count = c_crime_df['Community Area'].value_counts().reset_index()\n",
        "community_crime_count.columns = ['Community Area', 'Crime Count']\n",
        "\n",
        "# Sort the data to find the top 10 community areas with the most crimes\n",
        "top_10_community_crime = community_crime_count.head(10)\n",
        "\n",
        "# Visualize the top 10 community areas with the most crimes\n",
        "plt.figure(figsize=(20, 13))\n",
        "sns.barplot(x='Community Area', y='Crime Count', data=top_10_community_crime, palette='viridis')\n",
        "plt.title('Top 10 Community Areas with the Most Crimes in Chicago', fontsize = 30)\n",
        "plt.xlabel('Community Area',fontsize = 20)\n",
        "plt.ylabel('Number of Crimes', fontsize = 20)\n",
        "plt.xticks(rotation=45)\n",
        "plt.tight_layout()\n",
        "plt.show()"
      ]
    },
    {
      "cell_type": "markdown",
      "id": "QWzNfbrnhz2H",
      "metadata": {
        "id": "QWzNfbrnhz2H"
      },
      "source": [
        "15. **Top - 10 communities with the most crime in 2021**"
      ]
    },
    {
      "cell_type": "code",
      "execution_count": null,
      "id": "pundF7BPdX30",
      "metadata": {
        "ExecuteTime": {
          "end_time": "2024-03-27T20:46:03.141262Z",
          "start_time": "2024-03-27T20:46:02.054596Z"
        },
        "id": "pundF7BPdX30"
      },
      "outputs": [],
      "source": [
        "# Filter the dataset for the year 2023\n",
        "chicago_crime_2021 = c_crime_df[c_crime_df['Year'] == 2021]\n",
        "\n",
        "# Group by community and count the number of crimes\n",
        "crime_by_community = chicago_crime_2021['Community Area'].value_counts().sort_values(ascending=False)\n",
        "\n",
        "# Select the top 10 communities with the most crime\n",
        "top_10_communities = crime_by_community.head(10)\n",
        "\n",
        "# Plot the top 10 communities with the most crime\n",
        "plt.figure(figsize=(20, 13))\n",
        "top_10_communities.plot(kind='bar', fontsize = 15)\n",
        "plt.title('Top 10 Communities with the Most Crime in 2023', fontsize = 30)\n",
        "plt.xlabel('Community Area',fontsize = 20)\n",
        "plt.ylabel('Number of Crimes',fontsize = 20)\n",
        "plt.xticks(rotation=45)\n",
        "plt.tight_layout()\n",
        "plt.show()"
      ]
    },
    {
      "cell_type": "markdown",
      "id": "BUvAGS4gjjG7",
      "metadata": {
        "id": "BUvAGS4gjjG7"
      },
      "source": [
        "16. **Top - 10 Location  where theft normally occurs**"
      ]
    },
    {
      "cell_type": "code",
      "execution_count": null,
      "id": "0jsgMRGoiVRz",
      "metadata": {
        "ExecuteTime": {
          "end_time": "2024-03-27T20:53:50.764764Z",
          "start_time": "2024-03-27T20:53:49.558148Z"
        },
        "id": "0jsgMRGoiVRz"
      },
      "outputs": [],
      "source": [
        "# Filter the dataset to include only theft-related incidents\n",
        "theft_df = c_crime_df[chicago_crime_df['Primary Type'] == 'THEFT']\n",
        "\n",
        "# Count the occurrences of theft incidents at each location\n",
        "theft_locations_count = theft_df['Location Description'].value_counts()\n",
        "\n",
        "# Get the top 10 locations\n",
        "top_10_theft_locations = theft_locations_count.head(10)\n",
        "\n",
        "# Plot the top 10 theft locations\n",
        "plt.figure(figsize=(20, 13))\n",
        "top_10_theft_locations.plot(kind='bar',fontsize = 15)\n",
        "plt.title('Top 10 Locations for Theft in Chicago',fontsize = 30)\n",
        "plt.xlabel('Location',fontsize = 20)\n",
        "plt.ylabel('Number of Incidents', fontsize = 20)\n",
        "plt.xticks(rotation=45, ha='right')\n",
        "plt.tight_layout()\n",
        "plt.show()"
      ]
    },
    {
      "cell_type": "markdown",
      "id": "w-ReUCiikM9R",
      "metadata": {
        "id": "w-ReUCiikM9R"
      },
      "source": [
        "17. **Top-15 crime where arrest occured**"
      ]
    },
    {
      "cell_type": "code",
      "execution_count": null,
      "id": "8tsSNfJpkOCg",
      "metadata": {
        "ExecuteTime": {
          "end_time": "2024-03-27T20:46:55.490102Z",
          "start_time": "2024-03-27T20:46:54.384785Z"
        },
        "id": "8tsSNfJpkOCg"
      },
      "outputs": [],
      "source": [
        "ax = c_crime_df[c_crime_df['Arrest'] == True].value_counts(\"Primary Type\")[:15]\\\n",
        "    .plot(kind = 'barh',\n",
        "          figsize = (20,13),\n",
        "          fontsize = 30)\n",
        "ax.set_ylabel(\"Type of Crime\", fontsize=20)\n",
        "ax.set_xlabel(\"Count\", fontsize=20)\n",
        "ax.set_title(\"Top 15 crimes were arrests occured\", fontsize=30)\n",
        "plt.show()\n"
      ]
    },
    {
      "cell_type": "code",
      "execution_count": null,
      "id": "o5BFjQ_1fxOX",
      "metadata": {
        "ExecuteTime": {
          "end_time": "2024-03-27T20:55:15.219871Z",
          "start_time": "2024-03-27T20:55:15.204983Z"
        },
        "id": "o5BFjQ_1fxOX"
      },
      "outputs": [],
      "source": [
        "chicago_crime_df.columns"
      ]
    },
    {
      "cell_type": "code",
      "execution_count": null,
      "id": "zFC1UEMffxBF",
      "metadata": {
        "ExecuteTime": {
          "start_time": "2024-03-27T20:57:46.923Z"
        },
        "id": "zFC1UEMffxBF"
      },
      "outputs": [],
      "source": [
        "# Convert 'Date' column to datetime\n",
        "chicago_crime_df['Date'] = pd.to_datetime(chicago_crime_df['Date'],format=\"%m/%d/%Y %I:%M:%S %p\")\n",
        "\n",
        "# Seasonal Effects\n",
        "# Group by month and count number of crimes\n",
        "monthly_crime_counts = chicago_crime_df.groupby(chicago_crime_df['Date'].dt.month).size()\n",
        "\n",
        "# Plotting monthly crime trend\n",
        "plt.figure(figsize=(10, 6))\n",
        "plt.plot(monthly_crime_counts.index, monthly_crime_counts.values, marker='o')\n",
        "plt.xlabel('Month')\n",
        "plt.ylabel('Number of Crimes')\n",
        "plt.title('Seasonal Crime Trend')\n",
        "plt.xticks(range(1, 13), ['Jan', 'Feb', 'Mar', 'Apr', 'May', 'Jun', 'Jul', 'Aug', 'Sep', 'Oct', 'Nov', 'Dec'])\n",
        "plt.grid(True)\n",
        "plt.show()\n",
        "\n",
        "# Changes Depending on Time of Day\n",
        "# Extract hour from 'Date'\n",
        "chicago_crime_df['Hour'] = chicago_crime_df['Date'].dt.hour\n",
        "\n",
        "# Group by hour and count number of crimes\n",
        "hourly_crime_counts = chicago_crime_df.groupby('Hour').size()\n",
        "\n",
        "# Plotting hourly crime trend\n",
        "plt.figure(figsize=(10, 6))\n",
        "plt.plot(hourly_crime_counts.index, hourly_crime_counts.values, marker='o')\n",
        "plt.xlabel('Hour of the Day')\n",
        "plt.ylabel('Number of Crimes')\n",
        "plt.title('Hourly Crime Trend')\n",
        "plt.xticks(range(24))\n",
        "plt.grid(True)\n",
        "plt.show()"
      ]
    },
    {
      "cell_type": "markdown",
      "source": [
        "**Crime rate by time of day**"
      ],
      "metadata": {
        "id": "uZ_aZXI-7MNu"
      },
      "id": "uZ_aZXI-7MNu"
    },
    {
      "cell_type": "code",
      "execution_count": 20,
      "id": "cd082f9c",
      "metadata": {
        "id": "cd082f9c",
        "outputId": "608110dd-ee86-4226-fc31-69de219dc281",
        "colab": {
          "base_uri": "https://localhost:8080/",
          "height": 608
        }
      },
      "outputs": [
        {
          "output_type": "display_data",
          "data": {
            "text/plain": [
              "<Figure size 1000x600 with 1 Axes>"
            ],
            "image/png": "[encoded data removed]"
          },
          "metadata": {}
        }
      ],
      "source": [
        "# Extract hour component to determine time of day\n",
        "c_crime_df['Hour'] = c_crime_df['Date'].dt.hour\n",
        "\n",
        "# Define time intervals\n",
        "bins = [0, 6, 12, 18, 24]\n",
        "labels = ['Night', 'Morning', 'Afternoon', 'Evening']\n",
        "\n",
        "# Categorize crimes based on time of day\n",
        "c_crime_df['Time_of_Day'] = pd.cut(c_crime_df['Hour'], bins=bins, labels=labels, right=False)\n",
        "\n",
        "# Group by time of day and count the number of crimes\n",
        "crime_by_time_of_day = c_crime_df['Time_of_Day'].value_counts()\n",
        "\n",
        "# Reorder index based on time of day labels\n",
        "crime_by_time_of_day = crime_by_time_of_day.reindex(labels)\n",
        "\n",
        "# Plotting\n",
        "plt.figure(figsize=(10, 6))\n",
        "crime_by_time_of_day.plot(kind='bar', color='orange')\n",
        "plt.title('Distribution of Crime Occurrences Throughout the Day')\n",
        "plt.xlabel('Time of Day')\n",
        "plt.ylabel('Number of Crimes')\n",
        "plt.xticks(rotation=45)\n",
        "plt.grid(axis='y')\n",
        "plt.show()"
      ]
    },
    {
      "cell_type": "markdown",
      "source": [
        "**Crimes by community area**"
      ],
      "metadata": {
        "id": "4LLm1TXZ8OX2"
      },
      "id": "4LLm1TXZ8OX2"
    },
    {
      "cell_type": "code",
      "execution_count": 21,
      "id": "f2cc9c6c",
      "metadata": {
        "id": "f2cc9c6c",
        "outputId": "1c287285-8009-4fb9-b536-64f409b8fe81",
        "colab": {
          "base_uri": "https://localhost:8080/",
          "height": 581
        }
      },
      "outputs": [
        {
          "output_type": "display_data",
          "data": {
            "text/plain": [
              "<Figure size 1200x600 with 1 Axes>"
            ],
            "image/png": "[encoded data removed]"
          },
          "metadata": {}
        }
      ],
      "source": [
        "crime_by_community_area = c_crime_df.groupby('Community Area').size()\n",
        "\n",
        "# Plotting\n",
        "plt.figure(figsize=(12, 6))\n",
        "crime_by_community_area.plot(kind='bar', color='blue')\n",
        "plt.title('Distribution of Crimes by Community Area')\n",
        "plt.xlabel('Community Area')\n",
        "plt.ylabel('Number of Crimes')\n",
        "plt.xticks(rotation=90)\n",
        "plt.grid(axis='y')\n",
        "plt.show()"
      ]
    },
    {
      "cell_type": "code",
      "execution_count": null,
      "id": "0351bc75",
      "metadata": {
        "id": "0351bc75"
      },
      "outputs": [],
      "source": []
    }
  ],
  "metadata": {
    "colab": {
      "provenance": []
    },
    "kernelspec": {
      "display_name": "Python 3 (ipykernel)",
      "language": "python",
      "name": "python3"
    },
    "language_info": {
      "codemirror_mode": {
        "name": "ipython",
        "version": 3
      },
      "file_extension": ".py",
      "mimetype": "text/x-python",
      "name": "python",
      "nbconvert_exporter": "python",
      "pygments_lexer": "ipython3",
      "version": "3.11.7"
    },
    "toc": {
      "base_numbering": 1,
      "nav_menu": {},
      "number_sections": true,
      "sideBar": true,
      "skip_h1_title": false,
      "title_cell": "Table of Contents",
      "title_sidebar": "Contents",
      "toc_cell": false,
      "toc_position": {},
      "toc_section_display": true,
      "toc_window_display": false
    },
    "varInspector": {
      "cols": {
        "lenName": 16,
        "lenType": 16,
        "lenVar": 40
      },
      "kernels_config": {
        "python": {
          "delete_cmd_postfix": "",
          "delete_cmd_prefix": "del ",
          "library": "var_list.py",
          "varRefreshCmd": "print(var_dic_list())"
        },
        "r": {
          "delete_cmd_postfix": ") ",
          "delete_cmd_prefix": "rm(",
          "library": "var_list.r",
          "varRefreshCmd": "cat(var_dic_list()) "
        }
      },
      "types_to_exclude": [
        "module",
        "function",
        "builtin_function_or_method",
        "instance",
        "_Feature"
      ],
      "window_display": false
    }
  },
  "nbformat": 4,
  "nbformat_minor": 5
}