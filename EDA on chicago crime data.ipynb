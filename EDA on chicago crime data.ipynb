{
  "cells": [
    {
      "cell_type": "markdown",
      "id": "547ae1a6",
      "metadata": {
        "id": "547ae1a6"
      },
      "source": [
        "_LEARNING-CIRCLE-24 PROJECT_"
      ]
    },
    {
      "cell_type": "code",
      "source": [
        "from google.colab import drive\n",
        "drive.mount('/content/drive')"
      ],
      "metadata": {
        "colab": {
          "base_uri": "https://localhost:8080/"
        },
        "id": "v3O9OXT8_3l6",
        "outputId": "4f6c3beb-93ce-4b81-ca3e-918589d8a629"
      },
      "id": "v3O9OXT8_3l6",
      "execution_count": 4,
      "outputs": [
        {
          "output_type": "stream",
          "name": "stdout",
          "text": [
            "Mounted at /content/drive\n"
          ]
        }
      ]
    },
    {
      "cell_type": "markdown",
      "id": "0dad4ee9",
      "metadata": {
        "id": "0dad4ee9"
      },
      "source": [
        "<h2> Learning-Circle-24 </h2> <p>  Contributors </p>\n",
        "\n"
      ]
    },
    {
      "cell_type": "markdown",
      "id": "ebc10ba9",
      "metadata": {
        "id": "ebc10ba9"
      },
      "source": [
        "# **Crime in Chicago**\n",
        "This is a dataset\n",
        "The data dictionary can be found in [Chicago Crime Portal](https://data.cityofchicago.org/Public-Safety/Crimes-2001-to-Present/ijzp-q8t2/about_data)\n",
        "\n",
        "In this notebook, we are going to explore more about crime in Chicago and try to answer few questions:\n",
        "\n",
        "How has crime in Chicago changed across years? What year was really the bloodiest year in two decades?\n",
        "Are some types of crimes more likely to happen in specific locations or specific time of the day or specific day of the week than other types of crimes?"
      ]
    },
    {
      "cell_type": "markdown",
      "id": "ad32ee5f",
      "metadata": {
        "id": "ad32ee5f"
      },
      "source": [
        "Analyzing the Chicago crime dataset involves examining various aspects of the data to understand patterns, trends, and characteristics of criminal activities in Chicago. We perform analysis using Python, pandas and visualization libraries using the following steps:\n",
        "\n",
        "1. Load the Dataset: Load the Chicago crime dataset into a DataFrame.\n",
        "2. Explore the Dataset: Examine the structure, columns, and basic statistics of the dataset.\n",
        "3. Data Cleaning: We dropped redundant columns and handle missing values.\n",
        "4. Feature Engineering: Create new column for Months, Day, Season\n",
        "5. EDA: Exploratory Data Analysis\n",
        "    - How has crime in Chicago changed across years? Was 2023 really the bloodiest year in two decades?\n",
        "    - Are some types of crimes more likely to happen in specific locations or specific time of the day or specific day of the         week than other types of crimes?\n",
        "    - In which month did the lowest motor vehicle thefts occur?\n",
        "    - How prominant are certain types of various crimes?\n",
        "    - How do rates of crime change of time? For instance, are there any seasonal effects or changes depending on the time of         day?\n",
        "    - Where do these crimes occur? Are some areas more safe than others?\n",
        "    -\n",
        "6. Frequency distribution of Crimes: show how the frequency of crime is distributed within Months, Days, Seasons.\n",
        "7. Visualize Data Distribution: Visualize the distribution of variables using histograms, box plots, or density plots.\n",
        "8. Investigate Relationships: Look for relationships between variables using scatter plots, correlation matrices, or pair plots\n",
        "9. Investigate Crime Types: Analyze the distribution of different types of crimes.\n",
        "10. Examine Crime Locations: Investigate the distribution of crimes across different locations.\n",
        "11. Identify Hotspots: Identify areas with high crime rates.\n",
        "12. Detect Seasonal Patterns: Look for seasonal patterns or variations in crime rates.\n",
        "13. Compare Crime Rates: Compare crime rates across different categories such as day of the week, time of day, and month.\n",
        "14. Summarize and Visualize Insights: Summarize and Visualize the key insights and findings from the analysis using plots and charts."
      ]
    },
    {
      "cell_type": "code",
      "execution_count": null,
      "id": "9a24d3c5",
      "metadata": {
        "ExecuteTime": {
          "end_time": "2024-03-22T20:17:47.650932Z",
          "start_time": "2024-03-22T20:17:13.936986Z"
        },
        "id": "9a24d3c5"
      },
      "outputs": [],
      "source": [
        "# importing required libraries\n",
        "import pandas as pd\n",
        "import seaborn as sns\n",
        "import plotly.express as px\n",
        "import matplotlib.pyplot as plt\n",
        "%matplotlib inline"
      ]
    },
    {
      "cell_type": "code",
      "execution_count": null,
      "id": "e33a0ba2",
      "metadata": {
        "ExecuteTime": {
          "end_time": "2024-03-22T20:17:50.340145Z",
          "start_time": "2024-03-22T20:17:50.331836Z"
        },
        "id": "e33a0ba2"
      },
      "outputs": [],
      "source": [
        "# Set display option\n",
        "pd.set_option('display.max.columns', None)"
      ]
    },
    {
      "cell_type": "markdown",
      "id": "282ac4ea",
      "metadata": {
        "ExecuteTime": {
          "end_time": "2024-03-02T06:10:29.749123Z",
          "start_time": "2024-03-02T06:10:29.698866Z"
        },
        "id": "282ac4ea"
      },
      "source": [
        "# 1. Loading the dataset"
      ]
    },
    {
      "cell_type": "code",
      "execution_count": 5,
      "id": "baad012f",
      "metadata": {
        "ExecuteTime": {
          "end_time": "2024-03-22T20:18:14.246592Z",
          "start_time": "2024-03-22T20:17:51.509292Z"
        },
        "id": "baad012f"
      },
      "outputs": [],
      "source": [
        "# Load the dataset\n",
        "chicago_crime_df= pd.read_csv('/content/drive/MyDrive/datasets/Crimes_-_2001_to_Present_20240323.csv')"
      ]
    },
    {
      "cell_type": "markdown",
      "id": "46015508",
      "metadata": {
        "id": "46015508"
      },
      "source": [
        "# 2. Explore the dataset"
      ]
    },
    {
      "cell_type": "code",
      "execution_count": 6,
      "id": "40a1c122",
      "metadata": {
        "ExecuteTime": {
          "end_time": "2024-03-22T20:18:15.874446Z",
          "start_time": "2024-03-22T20:18:15.840884Z"
        },
        "colab": {
          "base_uri": "https://localhost:8080/"
        },
        "id": "40a1c122",
        "outputId": "d4fed1a3-eea1-4dae-a79a-da2691221935"
      },
      "outputs": [
        {
          "output_type": "execute_result",
          "data": {
            "text/plain": [
              "(8023397, 22)"
            ]
          },
          "metadata": {},
          "execution_count": 6
        }
      ],
      "source": [
        "#checking the dimension of the dataset\n",
        "chicago_crime_df.shape"
      ]
    },
    {
      "cell_type": "code",
      "execution_count": 7,
      "id": "821a0eb5",
      "metadata": {
        "ExecuteTime": {
          "end_time": "2024-03-22T20:18:16.455812Z",
          "start_time": "2024-03-22T20:18:15.904040Z"
        },
        "colab": {
          "base_uri": "https://localhost:8080/"
        },
        "id": "821a0eb5",
        "outputId": "1cfaef9a-12c2-481c-b5db-8992d0fbf3ca"
      },
      "outputs": [
        {
          "output_type": "execute_result",
          "data": {
            "text/plain": [
              "Index(['ID', 'Case Number', 'Date', 'Block', 'IUCR', 'Primary Type',\n",
              "       'Description', 'Location Description', 'Arrest', 'Domestic', 'Beat',\n",
              "       'District', 'Ward', 'Community Area', 'FBI Code', 'X Coordinate',\n",
              "       'Y Coordinate', 'Year', 'Updated On', 'Latitude', 'Longitude',\n",
              "       'Location'],\n",
              "      dtype='object')"
            ]
          },
          "metadata": {},
          "execution_count": 7
        }
      ],
      "source": [
        "# Display the first five rows of the dataset\n",
        "chicago_crime_df.columns"
      ]
    },
    {
      "cell_type": "code",
      "execution_count": 8,
      "id": "6492c4d3",
      "metadata": {
        "ExecuteTime": {
          "end_time": "2024-03-22T20:18:17.681761Z",
          "start_time": "2024-03-22T20:18:16.522408Z"
        },
        "colab": {
          "base_uri": "https://localhost:8080/",
          "height": 487
        },
        "id": "6492c4d3",
        "outputId": "07ecf2fe-81e9-4ebd-9eec-f0abd2938d7c"
      },
      "outputs": [
        {
          "output_type": "execute_result",
          "data": {
            "text/plain": [
              "         ID Case Number                    Date                 Block  IUCR  \\\n",
              "0  11037294    JA371270  03/18/2015 12:00:00 PM     0000X W WACKER DR  1153   \n",
              "1  11646293    JC213749  12/20/2018 03:00:00 PM  023XX N LOCKWOOD AVE  1154   \n",
              "2  11645836    JC212333  05/01/2016 12:25:00 AM   055XX S ROCKWELL ST  1153   \n",
              "3  11645959    JC211511  12/20/2018 04:00:00 PM    045XX N ALBANY AVE  2820   \n",
              "4  11645601    JC212935  06/01/2014 12:01:00 AM   087XX S SANGAMON ST  1153   \n",
              "\n",
              "         Primary Type                              Description  \\\n",
              "0  DECEPTIVE PRACTICE      FINANCIAL IDENTITY THEFT OVER $ 300   \n",
              "1  DECEPTIVE PRACTICE  FINANCIAL IDENTITY THEFT $300 AND UNDER   \n",
              "2  DECEPTIVE PRACTICE      FINANCIAL IDENTITY THEFT OVER $ 300   \n",
              "3       OTHER OFFENSE                         TELEPHONE THREAT   \n",
              "4  DECEPTIVE PRACTICE      FINANCIAL IDENTITY THEFT OVER $ 300   \n",
              "\n",
              "  Location Description  Arrest  Domestic  Beat  District  Ward  \\\n",
              "0                 BANK   False     False   111       1.0  42.0   \n",
              "1            APARTMENT   False     False  2515      25.0  36.0   \n",
              "2                  NaN   False     False   824       8.0  15.0   \n",
              "3            RESIDENCE   False     False  1724      17.0  33.0   \n",
              "4            RESIDENCE   False     False  2222      22.0  21.0   \n",
              "\n",
              "   Community Area FBI Code  X Coordinate  Y Coordinate  Year  \\\n",
              "0            32.0       11           NaN           NaN  2015   \n",
              "1            19.0       11           NaN           NaN  2018   \n",
              "2            63.0       11           NaN           NaN  2016   \n",
              "3            14.0      08A           NaN           NaN  2018   \n",
              "4            71.0       11           NaN           NaN  2014   \n",
              "\n",
              "               Updated On  Latitude  Longitude Location  \n",
              "0  08/01/2017 03:52:26 PM       NaN        NaN      NaN  \n",
              "1  04/06/2019 04:04:43 PM       NaN        NaN      NaN  \n",
              "2  04/06/2019 04:04:43 PM       NaN        NaN      NaN  \n",
              "3  04/06/2019 04:04:43 PM       NaN        NaN      NaN  \n",
              "4  04/06/2019 04:04:43 PM       NaN        NaN      NaN  "
            ],
            "text/html": [
              "\n",
              "  <div id=\"df-5243a986-cfbd-40bf-9649-158e7bd232d9\" class=\"colab-df-container\">\n",
              "    <div>\n",
              "<style scoped>\n",
              "    .dataframe tbody tr th:only-of-type {\n",
              "        vertical-align: middle;\n",
              "    }\n",
              "\n",
              "    .dataframe tbody tr th {\n",
              "        vertical-align: top;\n",
              "    }\n",
              "\n",
              "    .dataframe thead th {\n",
              "        text-align: right;\n",
              "    }\n",
              "</style>\n",
              "<table border=\"1\" class=\"dataframe\">\n",
              "  <thead>\n",
              "    <tr style=\"text-align: right;\">\n",
              "      <th></th>\n",
              "      <th>ID</th>\n",
              "      <th>Case Number</th>\n",
              "      <th>Date</th>\n",
              "      <th>Block</th>\n",
              "      <th>IUCR</th>\n",
              "      <th>Primary Type</th>\n",
              "      <th>Description</th>\n",
              "      <th>Location Description</th>\n",
              "      <th>Arrest</th>\n",
              "      <th>Domestic</th>\n",
              "      <th>Beat</th>\n",
              "      <th>District</th>\n",
              "      <th>Ward</th>\n",
              "      <th>Community Area</th>\n",
              "      <th>FBI Code</th>\n",
              "      <th>X Coordinate</th>\n",
              "      <th>Y Coordinate</th>\n",
              "      <th>Year</th>\n",
              "      <th>Updated On</th>\n",
              "      <th>Latitude</th>\n",
              "      <th>Longitude</th>\n",
              "      <th>Location</th>\n",
              "    </tr>\n",
              "  </thead>\n",
              "  <tbody>\n",
              "    <tr>\n",
              "      <th>0</th>\n",
              "      <td>11037294</td>\n",
              "      <td>JA371270</td>\n",
              "      <td>03/18/2015 12:00:00 PM</td>\n",
              "      <td>0000X W WACKER DR</td>\n",
              "      <td>1153</td>\n",
              "      <td>DECEPTIVE PRACTICE</td>\n",
              "      <td>FINANCIAL IDENTITY THEFT OVER $ 300</td>\n",
              "      <td>BANK</td>\n",
              "      <td>False</td>\n",
              "      <td>False</td>\n",
              "      <td>111</td>\n",
              "      <td>1.0</td>\n",
              "      <td>42.0</td>\n",
              "      <td>32.0</td>\n",
              "      <td>11</td>\n",
              "      <td>NaN</td>\n",
              "      <td>NaN</td>\n",
              "      <td>2015</td>\n",
              "      <td>08/01/2017 03:52:26 PM</td>\n",
              "      <td>NaN</td>\n",
              "      <td>NaN</td>\n",
              "      <td>NaN</td>\n",
              "    </tr>\n",
              "    <tr>\n",
              "      <th>1</th>\n",
              "      <td>11646293</td>\n",
              "      <td>JC213749</td>\n",
              "      <td>12/20/2018 03:00:00 PM</td>\n",
              "      <td>023XX N LOCKWOOD AVE</td>\n",
              "      <td>1154</td>\n",
              "      <td>DECEPTIVE PRACTICE</td>\n",
              "      <td>FINANCIAL IDENTITY THEFT $300 AND UNDER</td>\n",
              "      <td>APARTMENT</td>\n",
              "      <td>False</td>\n",
              "      <td>False</td>\n",
              "      <td>2515</td>\n",
              "      <td>25.0</td>\n",
              "      <td>36.0</td>\n",
              "      <td>19.0</td>\n",
              "      <td>11</td>\n",
              "      <td>NaN</td>\n",
              "      <td>NaN</td>\n",
              "      <td>2018</td>\n",
              "      <td>04/06/2019 04:04:43 PM</td>\n",
              "      <td>NaN</td>\n",
              "      <td>NaN</td>\n",
              "      <td>NaN</td>\n",
              "    </tr>\n",
              "    <tr>\n",
              "      <th>2</th>\n",
              "      <td>11645836</td>\n",
              "      <td>JC212333</td>\n",
              "      <td>05/01/2016 12:25:00 AM</td>\n",
              "      <td>055XX S ROCKWELL ST</td>\n",
              "      <td>1153</td>\n",
              "      <td>DECEPTIVE PRACTICE</td>\n",
              "      <td>FINANCIAL IDENTITY THEFT OVER $ 300</td>\n",
              "      <td>NaN</td>\n",
              "      <td>False</td>\n",
              "      <td>False</td>\n",
              "      <td>824</td>\n",
              "      <td>8.0</td>\n",
              "      <td>15.0</td>\n",
              "      <td>63.0</td>\n",
              "      <td>11</td>\n",
              "      <td>NaN</td>\n",
              "      <td>NaN</td>\n",
              "      <td>2016</td>\n",
              "      <td>04/06/2019 04:04:43 PM</td>\n",
              "      <td>NaN</td>\n",
              "      <td>NaN</td>\n",
              "      <td>NaN</td>\n",
              "    </tr>\n",
              "    <tr>\n",
              "      <th>3</th>\n",
              "      <td>11645959</td>\n",
              "      <td>JC211511</td>\n",
              "      <td>12/20/2018 04:00:00 PM</td>\n",
              "      <td>045XX N ALBANY AVE</td>\n",
              "      <td>2820</td>\n",
              "      <td>OTHER OFFENSE</td>\n",
              "      <td>TELEPHONE THREAT</td>\n",
              "      <td>RESIDENCE</td>\n",
              "      <td>False</td>\n",
              "      <td>False</td>\n",
              "      <td>1724</td>\n",
              "      <td>17.0</td>\n",
              "      <td>33.0</td>\n",
              "      <td>14.0</td>\n",
              "      <td>08A</td>\n",
              "      <td>NaN</td>\n",
              "      <td>NaN</td>\n",
              "      <td>2018</td>\n",
              "      <td>04/06/2019 04:04:43 PM</td>\n",
              "      <td>NaN</td>\n",
              "      <td>NaN</td>\n",
              "      <td>NaN</td>\n",
              "    </tr>\n",
              "    <tr>\n",
              "      <th>4</th>\n",
              "      <td>11645601</td>\n",
              "      <td>JC212935</td>\n",
              "      <td>06/01/2014 12:01:00 AM</td>\n",
              "      <td>087XX S SANGAMON ST</td>\n",
              "      <td>1153</td>\n",
              "      <td>DECEPTIVE PRACTICE</td>\n",
              "      <td>FINANCIAL IDENTITY THEFT OVER $ 300</td>\n",
              "      <td>RESIDENCE</td>\n",
              "      <td>False</td>\n",
              "      <td>False</td>\n",
              "      <td>2222</td>\n",
              "      <td>22.0</td>\n",
              "      <td>21.0</td>\n",
              "      <td>71.0</td>\n",
              "      <td>11</td>\n",
              "      <td>NaN</td>\n",
              "      <td>NaN</td>\n",
              "      <td>2014</td>\n",
              "      <td>04/06/2019 04:04:43 PM</td>\n",
              "      <td>NaN</td>\n",
              "      <td>NaN</td>\n",
              "      <td>NaN</td>\n",
              "    </tr>\n",
              "  </tbody>\n",
              "</table>\n",
              "</div>\n",
              "    <div class=\"colab-df-buttons\">\n",
              "\n",
              "  <div class=\"colab-df-container\">\n",
              "    <button class=\"colab-df-convert\" onclick=\"convertToInteractive('df-5243a986-cfbd-40bf-9649-158e7bd232d9')\"\n",
              "            title=\"Convert this dataframe to an interactive table.\"\n",
              "            style=\"display:none;\">\n",
              "\n",
              "  <svg xmlns=\"http://www.w3.org/2000/svg\" height=\"24px\" viewBox=\"0 -960 960 960\">\n",
              "    <path d=\"M120-120v-720h720v720H120Zm60-500h600v-160H180v160Zm220 220h160v-160H400v160Zm0 220h160v-160H400v160ZM180-400h160v-160H180v160Zm440 0h160v-160H620v160ZM180-180h160v-160H180v160Zm440 0h160v-160H620v160Z\"/>\n",
              "  </svg>\n",
              "    </button>\n",
              "\n",
              "  <style>\n",
              "    .colab-df-container {\n",
              "      display:flex;\n",
              "      gap: 12px;\n",
              "    }\n",
              "\n",
              "    .colab-df-convert {\n",
              "      background-color: #E8F0FE;\n",
              "      border: none;\n",
              "      border-radius: 50%;\n",
              "      cursor: pointer;\n",
              "      display: none;\n",
              "      fill: #1967D2;\n",
              "      height: 32px;\n",
              "      padding: 0 0 0 0;\n",
              "      width: 32px;\n",
              "    }\n",
              "\n",
              "    .colab-df-convert:hover {\n",
              "      background-color: #E2EBFA;\n",
              "      box-shadow: 0px 1px 2px rgba(60, 64, 67, 0.3), 0px 1px 3px 1px rgba(60, 64, 67, 0.15);\n",
              "      fill: #174EA6;\n",
              "    }\n",
              "\n",
              "    .colab-df-buttons div {\n",
              "      margin-bottom: 4px;\n",
              "    }\n",
              "\n",
              "    [theme=dark] .colab-df-convert {\n",
              "      background-color: #3B4455;\n",
              "      fill: #D2E3FC;\n",
              "    }\n",
              "\n",
              "    [theme=dark] .colab-df-convert:hover {\n",
              "      background-color: #434B5C;\n",
              "      box-shadow: 0px 1px 3px 1px rgba(0, 0, 0, 0.15);\n",
              "      filter: drop-shadow(0px 1px 2px rgba(0, 0, 0, 0.3));\n",
              "      fill: #FFFFFF;\n",
              "    }\n",
              "  </style>\n",
              "\n",
              "    <script>\n",
              "      const buttonEl =\n",
              "        document.querySelector('#df-5243a986-cfbd-40bf-9649-158e7bd232d9 button.colab-df-convert');\n",
              "      buttonEl.style.display =\n",
              "        google.colab.kernel.accessAllowed ? 'block' : 'none';\n",
              "\n",
              "      async function convertToInteractive(key) {\n",
              "        const element = document.querySelector('#df-5243a986-cfbd-40bf-9649-158e7bd232d9');\n",
              "        const dataTable =\n",
              "          await google.colab.kernel.invokeFunction('convertToInteractive',\n",
              "                                                    [key], {});\n",
              "        if (!dataTable) return;\n",
              "\n",
              "        const docLinkHtml = 'Like what you see? Visit the ' +\n",
              "          '<a target=\"_blank\" href=https://colab.research.google.com/notebooks/data_table.ipynb>data table notebook</a>'\n",
              "          + ' to learn more about interactive tables.';\n",
              "        element.innerHTML = '';\n",
              "        dataTable['output_type'] = 'display_data';\n",
              "        await google.colab.output.renderOutput(dataTable, element);\n",
              "        const docLink = document.createElement('div');\n",
              "        docLink.innerHTML = docLinkHtml;\n",
              "        element.appendChild(docLink);\n",
              "      }\n",
              "    </script>\n",
              "  </div>\n",
              "\n",
              "\n",
              "<div id=\"df-bbe8f0b9-24c7-4518-8eea-6b75268b91e0\">\n",
              "  <button class=\"colab-df-quickchart\" onclick=\"quickchart('df-bbe8f0b9-24c7-4518-8eea-6b75268b91e0')\"\n",
              "            title=\"Suggest charts\"\n",
              "            style=\"display:none;\">\n",
              "\n",
              "<svg xmlns=\"http://www.w3.org/2000/svg\" height=\"24px\"viewBox=\"0 0 24 24\"\n",
              "     width=\"24px\">\n",
              "    <g>\n",
              "        <path d=\"M19 3H5c-1.1 0-2 .9-2 2v14c0 1.1.9 2 2 2h14c1.1 0 2-.9 2-2V5c0-1.1-.9-2-2-2zM9 17H7v-7h2v7zm4 0h-2V7h2v10zm4 0h-2v-4h2v4z\"/>\n",
              "    </g>\n",
              "</svg>\n",
              "  </button>\n",
              "\n",
              "<style>\n",
              "  .colab-df-quickchart {\n",
              "      --bg-color: #E8F0FE;\n",
              "      --fill-color: #1967D2;\n",
              "      --hover-bg-color: #E2EBFA;\n",
              "      --hover-fill-color: #174EA6;\n",
              "      --disabled-fill-color: #AAA;\n",
              "      --disabled-bg-color: #DDD;\n",
              "  }\n",
              "\n",
              "  [theme=dark] .colab-df-quickchart {\n",
              "      --bg-color: #3B4455;\n",
              "      --fill-color: #D2E3FC;\n",
              "      --hover-bg-color: #434B5C;\n",
              "      --hover-fill-color: #FFFFFF;\n",
              "      --disabled-bg-color: #3B4455;\n",
              "      --disabled-fill-color: #666;\n",
              "  }\n",
              "\n",
              "  .colab-df-quickchart {\n",
              "    background-color: var(--bg-color);\n",
              "    border: none;\n",
              "    border-radius: 50%;\n",
              "    cursor: pointer;\n",
              "    display: none;\n",
              "    fill: var(--fill-color);\n",
              "    height: 32px;\n",
              "    padding: 0;\n",
              "    width: 32px;\n",
              "  }\n",
              "\n",
              "  .colab-df-quickchart:hover {\n",
              "    background-color: var(--hover-bg-color);\n",
              "    box-shadow: 0 1px 2px rgba(60, 64, 67, 0.3), 0 1px 3px 1px rgba(60, 64, 67, 0.15);\n",
              "    fill: var(--button-hover-fill-color);\n",
              "  }\n",
              "\n",
              "  .colab-df-quickchart-complete:disabled,\n",
              "  .colab-df-quickchart-complete:disabled:hover {\n",
              "    background-color: var(--disabled-bg-color);\n",
              "    fill: var(--disabled-fill-color);\n",
              "    box-shadow: none;\n",
              "  }\n",
              "\n",
              "  .colab-df-spinner {\n",
              "    border: 2px solid var(--fill-color);\n",
              "    border-color: transparent;\n",
              "    border-bottom-color: var(--fill-color);\n",
              "    animation:\n",
              "      spin 1s steps(1) infinite;\n",
              "  }\n",
              "\n",
              "  @keyframes spin {\n",
              "    0% {\n",
              "      border-color: transparent;\n",
              "      border-bottom-color: var(--fill-color);\n",
              "      border-left-color: var(--fill-color);\n",
              "    }\n",
              "    20% {\n",
              "      border-color: transparent;\n",
              "      border-left-color: var(--fill-color);\n",
              "      border-top-color: var(--fill-color);\n",
              "    }\n",
              "    30% {\n",
              "      border-color: transparent;\n",
              "      border-left-color: var(--fill-color);\n",
              "      border-top-color: var(--fill-color);\n",
              "      border-right-color: var(--fill-color);\n",
              "    }\n",
              "    40% {\n",
              "      border-color: transparent;\n",
              "      border-right-color: var(--fill-color);\n",
              "      border-top-color: var(--fill-color);\n",
              "    }\n",
              "    60% {\n",
              "      border-color: transparent;\n",
              "      border-right-color: var(--fill-color);\n",
              "    }\n",
              "    80% {\n",
              "      border-color: transparent;\n",
              "      border-right-color: var(--fill-color);\n",
              "      border-bottom-color: var(--fill-color);\n",
              "    }\n",
              "    90% {\n",
              "      border-color: transparent;\n",
              "      border-bottom-color: var(--fill-color);\n",
              "    }\n",
              "  }\n",
              "</style>\n",
              "\n",
              "  <script>\n",
              "    async function quickchart(key) {\n",
              "      const quickchartButtonEl =\n",
              "        document.querySelector('#' + key + ' button');\n",
              "      quickchartButtonEl.disabled = true;  // To prevent multiple clicks.\n",
              "      quickchartButtonEl.classList.add('colab-df-spinner');\n",
              "      try {\n",
              "        const charts = await google.colab.kernel.invokeFunction(\n",
              "            'suggestCharts', [key], {});\n",
              "      } catch (error) {\n",
              "        console.error('Error during call to suggestCharts:', error);\n",
              "      }\n",
              "      quickchartButtonEl.classList.remove('colab-df-spinner');\n",
              "      quickchartButtonEl.classList.add('colab-df-quickchart-complete');\n",
              "    }\n",
              "    (() => {\n",
              "      let quickchartButtonEl =\n",
              "        document.querySelector('#df-bbe8f0b9-24c7-4518-8eea-6b75268b91e0 button');\n",
              "      quickchartButtonEl.style.display =\n",
              "        google.colab.kernel.accessAllowed ? 'block' : 'none';\n",
              "    })();\n",
              "  </script>\n",
              "</div>\n",
              "\n",
              "    </div>\n",
              "  </div>\n"
            ],
            "application/vnd.google.colaboratory.intrinsic+json": {
              "type": "dataframe",
              "variable_name": "chicago_crime_df"
            }
          },
          "metadata": {},
          "execution_count": 8
        }
      ],
      "source": [
        "# check the first five observations\n",
        "chicago_crime_df.head()"
      ]
    },
    {
      "cell_type": "code",
      "execution_count": 9,
      "id": "2b737764",
      "metadata": {
        "ExecuteTime": {
          "end_time": "2024-03-22T20:18:19.321396Z",
          "start_time": "2024-03-22T20:18:17.760099Z"
        },
        "colab": {
          "base_uri": "https://localhost:8080/"
        },
        "id": "2b737764",
        "outputId": "2da522f3-d12e-4661-c0d5-d7ff9e072712"
      },
      "outputs": [
        {
          "output_type": "stream",
          "name": "stdout",
          "text": [
            "<class 'pandas.core.frame.DataFrame'>\n",
            "RangeIndex: 8023397 entries, 0 to 8023396\n",
            "Data columns (total 22 columns):\n",
            " #   Column                Dtype  \n",
            "---  ------                -----  \n",
            " 0   ID                    int64  \n",
            " 1   Case Number           object \n",
            " 2   Date                  object \n",
            " 3   Block                 object \n",
            " 4   IUCR                  object \n",
            " 5   Primary Type          object \n",
            " 6   Description           object \n",
            " 7   Location Description  object \n",
            " 8   Arrest                bool   \n",
            " 9   Domestic              bool   \n",
            " 10  Beat                  int64  \n",
            " 11  District              float64\n",
            " 12  Ward                  float64\n",
            " 13  Community Area        float64\n",
            " 14  FBI Code              object \n",
            " 15  X Coordinate          float64\n",
            " 16  Y Coordinate          float64\n",
            " 17  Year                  int64  \n",
            " 18  Updated On            object \n",
            " 19  Latitude              float64\n",
            " 20  Longitude             float64\n",
            " 21  Location              object \n",
            "dtypes: bool(2), float64(7), int64(3), object(10)\n",
            "memory usage: 1.2+ GB\n"
          ]
        }
      ],
      "source": [
        " # Display column information and data types\n",
        "chicago_crime_df.info()"
      ]
    },
    {
      "cell_type": "code",
      "execution_count": 10,
      "id": "b7d56818",
      "metadata": {
        "ExecuteTime": {
          "end_time": "2024-03-22T20:18:21.440159Z",
          "start_time": "2024-03-22T20:18:19.392555Z"
        },
        "colab": {
          "base_uri": "https://localhost:8080/"
        },
        "id": "b7d56818",
        "outputId": "62202fe5-e666-4b97-fff5-c256ab38b0d3"
      },
      "outputs": [
        {
          "output_type": "execute_result",
          "data": {
            "text/plain": [
              "ID                           0\n",
              "Case Number                  0\n",
              "Date                         0\n",
              "Block                        0\n",
              "IUCR                         0\n",
              "Primary Type                 0\n",
              "Description                  0\n",
              "Location Description     12766\n",
              "Arrest                       0\n",
              "Domestic                     0\n",
              "Beat                         0\n",
              "District                    47\n",
              "Ward                    614853\n",
              "Community Area          613478\n",
              "FBI Code                     0\n",
              "X Coordinate             88365\n",
              "Y Coordinate             88365\n",
              "Year                         0\n",
              "Updated On                   0\n",
              "Latitude                 88365\n",
              "Longitude                88365\n",
              "Location                 88365\n",
              "dtype: int64"
            ]
          },
          "metadata": {},
          "execution_count": 10
        }
      ],
      "source": [
        "# checking missing value count\n",
        "chicago_crime_df.isnull().sum()"
      ]
    },
    {
      "cell_type": "code",
      "execution_count": 11,
      "id": "d63b64b0",
      "metadata": {
        "ExecuteTime": {
          "end_time": "2024-03-22T20:18:23.158049Z",
          "start_time": "2024-03-22T20:18:21.476548Z"
        },
        "colab": {
          "base_uri": "https://localhost:8080/",
          "height": 300
        },
        "id": "d63b64b0",
        "outputId": "ec889f44-b849-4bd1-d21c-b54aa6267967"
      },
      "outputs": [
        {
          "output_type": "execute_result",
          "data": {
            "text/plain": [
              "                 ID          Beat      District          Ward  Community Area  \\\n",
              "count  8.023397e+06  8.023397e+06  8.023350e+06  7.408544e+06    7.409919e+06   \n",
              "mean   7.209858e+06  1.185132e+03  1.129679e+01  2.276600e+01    3.744103e+01   \n",
              "std    3.607435e+06  7.034600e+02  6.957841e+00  1.385439e+01    2.154392e+01   \n",
              "min    6.340000e+02  1.110000e+02  1.000000e+00  1.000000e+00    0.000000e+00   \n",
              "25%    3.881785e+06  6.210000e+02  6.000000e+00  1.000000e+01    2.300000e+01   \n",
              "50%    7.205746e+06  1.034000e+03  1.000000e+01  2.300000e+01    3.200000e+01   \n",
              "75%    1.043308e+07  1.731000e+03  1.700000e+01  3.400000e+01    5.700000e+01   \n",
              "max    1.340600e+07  2.535000e+03  3.100000e+01  5.000000e+01    7.700000e+01   \n",
              "\n",
              "       X Coordinate  Y Coordinate          Year      Latitude     Longitude  \n",
              "count  7.935032e+06  7.935032e+06  8.023397e+06  7.935032e+06  7.935032e+06  \n",
              "mean   1.164616e+06  1.885834e+06  2.010337e+03  4.184232e+01 -8.767144e+01  \n",
              "std    1.698763e+04  3.247645e+04  6.563573e+00  8.935600e-02  6.154686e-02  \n",
              "min    0.000000e+00  0.000000e+00  2.001000e+03  3.661945e+01 -9.168657e+01  \n",
              "25%    1.153006e+06  1.859114e+06  2.005000e+03  4.176878e+01 -8.771355e+01  \n",
              "50%    1.166145e+06  1.890802e+06  2.009000e+03  4.185609e+01 -8.766575e+01  \n",
              "75%    1.176389e+06  1.909343e+06  2.016000e+03  4.190692e+01 -8.762813e+01  \n",
              "max    1.205119e+06  1.951622e+06  2.024000e+03  4.202291e+01 -8.752453e+01  "
            ],
            "text/html": [
              "\n",
              "  <div id=\"df-54c28bb2-3c64-4c37-ae57-965ff21717ba\" class=\"colab-df-container\">\n",
              "    <div>\n",
              "<style scoped>\n",
              "    .dataframe tbody tr th:only-of-type {\n",
              "        vertical-align: middle;\n",
              "    }\n",
              "\n",
              "    .dataframe tbody tr th {\n",
              "        vertical-align: top;\n",
              "    }\n",
              "\n",
              "    .dataframe thead th {\n",
              "        text-align: right;\n",
              "    }\n",
              "</style>\n",
              "<table border=\"1\" class=\"dataframe\">\n",
              "  <thead>\n",
              "    <tr style=\"text-align: right;\">\n",
              "      <th></th>\n",
              "      <th>ID</th>\n",
              "      <th>Beat</th>\n",
              "      <th>District</th>\n",
              "      <th>Ward</th>\n",
              "      <th>Community Area</th>\n",
              "      <th>X Coordinate</th>\n",
              "      <th>Y Coordinate</th>\n",
              "      <th>Year</th>\n",
              "      <th>Latitude</th>\n",
              "      <th>Longitude</th>\n",
              "    </tr>\n",
              "  </thead>\n",
              "  <tbody>\n",
              "    <tr>\n",
              "      <th>count</th>\n",
              "      <td>8.023397e+06</td>\n",
              "      <td>8.023397e+06</td>\n",
              "      <td>8.023350e+06</td>\n",
              "      <td>7.408544e+06</td>\n",
              "      <td>7.409919e+06</td>\n",
              "      <td>7.935032e+06</td>\n",
              "      <td>7.935032e+06</td>\n",
              "      <td>8.023397e+06</td>\n",
              "      <td>7.935032e+06</td>\n",
              "      <td>7.935032e+06</td>\n",
              "    </tr>\n",
              "    <tr>\n",
              "      <th>mean</th>\n",
              "      <td>7.209858e+06</td>\n",
              "      <td>1.185132e+03</td>\n",
              "      <td>1.129679e+01</td>\n",
              "      <td>2.276600e+01</td>\n",
              "      <td>3.744103e+01</td>\n",
              "      <td>1.164616e+06</td>\n",
              "      <td>1.885834e+06</td>\n",
              "      <td>2.010337e+03</td>\n",
              "      <td>4.184232e+01</td>\n",
              "      <td>-8.767144e+01</td>\n",
              "    </tr>\n",
              "    <tr>\n",
              "      <th>std</th>\n",
              "      <td>3.607435e+06</td>\n",
              "      <td>7.034600e+02</td>\n",
              "      <td>6.957841e+00</td>\n",
              "      <td>1.385439e+01</td>\n",
              "      <td>2.154392e+01</td>\n",
              "      <td>1.698763e+04</td>\n",
              "      <td>3.247645e+04</td>\n",
              "      <td>6.563573e+00</td>\n",
              "      <td>8.935600e-02</td>\n",
              "      <td>6.154686e-02</td>\n",
              "    </tr>\n",
              "    <tr>\n",
              "      <th>min</th>\n",
              "      <td>6.340000e+02</td>\n",
              "      <td>1.110000e+02</td>\n",
              "      <td>1.000000e+00</td>\n",
              "      <td>1.000000e+00</td>\n",
              "      <td>0.000000e+00</td>\n",
              "      <td>0.000000e+00</td>\n",
              "      <td>0.000000e+00</td>\n",
              "      <td>2.001000e+03</td>\n",
              "      <td>3.661945e+01</td>\n",
              "      <td>-9.168657e+01</td>\n",
              "    </tr>\n",
              "    <tr>\n",
              "      <th>25%</th>\n",
              "      <td>3.881785e+06</td>\n",
              "      <td>6.210000e+02</td>\n",
              "      <td>6.000000e+00</td>\n",
              "      <td>1.000000e+01</td>\n",
              "      <td>2.300000e+01</td>\n",
              "      <td>1.153006e+06</td>\n",
              "      <td>1.859114e+06</td>\n",
              "      <td>2.005000e+03</td>\n",
              "      <td>4.176878e+01</td>\n",
              "      <td>-8.771355e+01</td>\n",
              "    </tr>\n",
              "    <tr>\n",
              "      <th>50%</th>\n",
              "      <td>7.205746e+06</td>\n",
              "      <td>1.034000e+03</td>\n",
              "      <td>1.000000e+01</td>\n",
              "      <td>2.300000e+01</td>\n",
              "      <td>3.200000e+01</td>\n",
              "      <td>1.166145e+06</td>\n",
              "      <td>1.890802e+06</td>\n",
              "      <td>2.009000e+03</td>\n",
              "      <td>4.185609e+01</td>\n",
              "      <td>-8.766575e+01</td>\n",
              "    </tr>\n",
              "    <tr>\n",
              "      <th>75%</th>\n",
              "      <td>1.043308e+07</td>\n",
              "      <td>1.731000e+03</td>\n",
              "      <td>1.700000e+01</td>\n",
              "      <td>3.400000e+01</td>\n",
              "      <td>5.700000e+01</td>\n",
              "      <td>1.176389e+06</td>\n",
              "      <td>1.909343e+06</td>\n",
              "      <td>2.016000e+03</td>\n",
              "      <td>4.190692e+01</td>\n",
              "      <td>-8.762813e+01</td>\n",
              "    </tr>\n",
              "    <tr>\n",
              "      <th>max</th>\n",
              "      <td>1.340600e+07</td>\n",
              "      <td>2.535000e+03</td>\n",
              "      <td>3.100000e+01</td>\n",
              "      <td>5.000000e+01</td>\n",
              "      <td>7.700000e+01</td>\n",
              "      <td>1.205119e+06</td>\n",
              "      <td>1.951622e+06</td>\n",
              "      <td>2.024000e+03</td>\n",
              "      <td>4.202291e+01</td>\n",
              "      <td>-8.752453e+01</td>\n",
              "    </tr>\n",
              "  </tbody>\n",
              "</table>\n",
              "</div>\n",
              "    <div class=\"colab-df-buttons\">\n",
              "\n",
              "  <div class=\"colab-df-container\">\n",
              "    <button class=\"colab-df-convert\" onclick=\"convertToInteractive('df-54c28bb2-3c64-4c37-ae57-965ff21717ba')\"\n",
              "            title=\"Convert this dataframe to an interactive table.\"\n",
              "            style=\"display:none;\">\n",
              "\n",
              "  <svg xmlns=\"http://www.w3.org/2000/svg\" height=\"24px\" viewBox=\"0 -960 960 960\">\n",
              "    <path d=\"M120-120v-720h720v720H120Zm60-500h600v-160H180v160Zm220 220h160v-160H400v160Zm0 220h160v-160H400v160ZM180-400h160v-160H180v160Zm440 0h160v-160H620v160ZM180-180h160v-160H180v160Zm440 0h160v-160H620v160Z\"/>\n",
              "  </svg>\n",
              "    </button>\n",
              "\n",
              "  <style>\n",
              "    .colab-df-container {\n",
              "      display:flex;\n",
              "      gap: 12px;\n",
              "    }\n",
              "\n",
              "    .colab-df-convert {\n",
              "      background-color: #E8F0FE;\n",
              "      border: none;\n",
              "      border-radius: 50%;\n",
              "      cursor: pointer;\n",
              "      display: none;\n",
              "      fill: #1967D2;\n",
              "      height: 32px;\n",
              "      padding: 0 0 0 0;\n",
              "      width: 32px;\n",
              "    }\n",
              "\n",
              "    .colab-df-convert:hover {\n",
              "      background-color: #E2EBFA;\n",
              "      box-shadow: 0px 1px 2px rgba(60, 64, 67, 0.3), 0px 1px 3px 1px rgba(60, 64, 67, 0.15);\n",
              "      fill: #174EA6;\n",
              "    }\n",
              "\n",
              "    .colab-df-buttons div {\n",
              "      margin-bottom: 4px;\n",
              "    }\n",
              "\n",
              "    [theme=dark] .colab-df-convert {\n",
              "      background-color: #3B4455;\n",
              "      fill: #D2E3FC;\n",
              "    }\n",
              "\n",
              "    [theme=dark] .colab-df-convert:hover {\n",
              "      background-color: #434B5C;\n",
              "      box-shadow: 0px 1px 3px 1px rgba(0, 0, 0, 0.15);\n",
              "      filter: drop-shadow(0px 1px 2px rgba(0, 0, 0, 0.3));\n",
              "      fill: #FFFFFF;\n",
              "    }\n",
              "  </style>\n",
              "\n",
              "    <script>\n",
              "      const buttonEl =\n",
              "        document.querySelector('#df-54c28bb2-3c64-4c37-ae57-965ff21717ba button.colab-df-convert');\n",
              "      buttonEl.style.display =\n",
              "        google.colab.kernel.accessAllowed ? 'block' : 'none';\n",
              "\n",
              "      async function convertToInteractive(key) {\n",
              "        const element = document.querySelector('#df-54c28bb2-3c64-4c37-ae57-965ff21717ba');\n",
              "        const dataTable =\n",
              "          await google.colab.kernel.invokeFunction('convertToInteractive',\n",
              "                                                    [key], {});\n",
              "        if (!dataTable) return;\n",
              "\n",
              "        const docLinkHtml = 'Like what you see? Visit the ' +\n",
              "          '<a target=\"_blank\" href=https://colab.research.google.com/notebooks/data_table.ipynb>data table notebook</a>'\n",
              "          + ' to learn more about interactive tables.';\n",
              "        element.innerHTML = '';\n",
              "        dataTable['output_type'] = 'display_data';\n",
              "        await google.colab.output.renderOutput(dataTable, element);\n",
              "        const docLink = document.createElement('div');\n",
              "        docLink.innerHTML = docLinkHtml;\n",
              "        element.appendChild(docLink);\n",
              "      }\n",
              "    </script>\n",
              "  </div>\n",
              "\n",
              "\n",
              "<div id=\"df-158cd574-d90e-4a0c-9871-fbb9960c987b\">\n",
              "  <button class=\"colab-df-quickchart\" onclick=\"quickchart('df-158cd574-d90e-4a0c-9871-fbb9960c987b')\"\n",
              "            title=\"Suggest charts\"\n",
              "            style=\"display:none;\">\n",
              "\n",
              "<svg xmlns=\"http://www.w3.org/2000/svg\" height=\"24px\"viewBox=\"0 0 24 24\"\n",
              "     width=\"24px\">\n",
              "    <g>\n",
              "        <path d=\"M19 3H5c-1.1 0-2 .9-2 2v14c0 1.1.9 2 2 2h14c1.1 0 2-.9 2-2V5c0-1.1-.9-2-2-2zM9 17H7v-7h2v7zm4 0h-2V7h2v10zm4 0h-2v-4h2v4z\"/>\n",
              "    </g>\n",
              "</svg>\n",
              "  </button>\n",
              "\n",
              "<style>\n",
              "  .colab-df-quickchart {\n",
              "      --bg-color: #E8F0FE;\n",
              "      --fill-color: #1967D2;\n",
              "      --hover-bg-color: #E2EBFA;\n",
              "      --hover-fill-color: #174EA6;\n",
              "      --disabled-fill-color: #AAA;\n",
              "      --disabled-bg-color: #DDD;\n",
              "  }\n",
              "\n",
              "  [theme=dark] .colab-df-quickchart {\n",
              "      --bg-color: #3B4455;\n",
              "      --fill-color: #D2E3FC;\n",
              "      --hover-bg-color: #434B5C;\n",
              "      --hover-fill-color: #FFFFFF;\n",
              "      --disabled-bg-color: #3B4455;\n",
              "      --disabled-fill-color: #666;\n",
              "  }\n",
              "\n",
              "  .colab-df-quickchart {\n",
              "    background-color: var(--bg-color);\n",
              "    border: none;\n",
              "    border-radius: 50%;\n",
              "    cursor: pointer;\n",
              "    display: none;\n",
              "    fill: var(--fill-color);\n",
              "    height: 32px;\n",
              "    padding: 0;\n",
              "    width: 32px;\n",
              "  }\n",
              "\n",
              "  .colab-df-quickchart:hover {\n",
              "    background-color: var(--hover-bg-color);\n",
              "    box-shadow: 0 1px 2px rgba(60, 64, 67, 0.3), 0 1px 3px 1px rgba(60, 64, 67, 0.15);\n",
              "    fill: var(--button-hover-fill-color);\n",
              "  }\n",
              "\n",
              "  .colab-df-quickchart-complete:disabled,\n",
              "  .colab-df-quickchart-complete:disabled:hover {\n",
              "    background-color: var(--disabled-bg-color);\n",
              "    fill: var(--disabled-fill-color);\n",
              "    box-shadow: none;\n",
              "  }\n",
              "\n",
              "  .colab-df-spinner {\n",
              "    border: 2px solid var(--fill-color);\n",
              "    border-color: transparent;\n",
              "    border-bottom-color: var(--fill-color);\n",
              "    animation:\n",
              "      spin 1s steps(1) infinite;\n",
              "  }\n",
              "\n",
              "  @keyframes spin {\n",
              "    0% {\n",
              "      border-color: transparent;\n",
              "      border-bottom-color: var(--fill-color);\n",
              "      border-left-color: var(--fill-color);\n",
              "    }\n",
              "    20% {\n",
              "      border-color: transparent;\n",
              "      border-left-color: var(--fill-color);\n",
              "      border-top-color: var(--fill-color);\n",
              "    }\n",
              "    30% {\n",
              "      border-color: transparent;\n",
              "      border-left-color: var(--fill-color);\n",
              "      border-top-color: var(--fill-color);\n",
              "      border-right-color: var(--fill-color);\n",
              "    }\n",
              "    40% {\n",
              "      border-color: transparent;\n",
              "      border-right-color: var(--fill-color);\n",
              "      border-top-color: var(--fill-color);\n",
              "    }\n",
              "    60% {\n",
              "      border-color: transparent;\n",
              "      border-right-color: var(--fill-color);\n",
              "    }\n",
              "    80% {\n",
              "      border-color: transparent;\n",
              "      border-right-color: var(--fill-color);\n",
              "      border-bottom-color: var(--fill-color);\n",
              "    }\n",
              "    90% {\n",
              "      border-color: transparent;\n",
              "      border-bottom-color: var(--fill-color);\n",
              "    }\n",
              "  }\n",
              "</style>\n",
              "\n",
              "  <script>\n",
              "    async function quickchart(key) {\n",
              "      const quickchartButtonEl =\n",
              "        document.querySelector('#' + key + ' button');\n",
              "      quickchartButtonEl.disabled = true;  // To prevent multiple clicks.\n",
              "      quickchartButtonEl.classList.add('colab-df-spinner');\n",
              "      try {\n",
              "        const charts = await google.colab.kernel.invokeFunction(\n",
              "            'suggestCharts', [key], {});\n",
              "      } catch (error) {\n",
              "        console.error('Error during call to suggestCharts:', error);\n",
              "      }\n",
              "      quickchartButtonEl.classList.remove('colab-df-spinner');\n",
              "      quickchartButtonEl.classList.add('colab-df-quickchart-complete');\n",
              "    }\n",
              "    (() => {\n",
              "      let quickchartButtonEl =\n",
              "        document.querySelector('#df-158cd574-d90e-4a0c-9871-fbb9960c987b button');\n",
              "      quickchartButtonEl.style.display =\n",
              "        google.colab.kernel.accessAllowed ? 'block' : 'none';\n",
              "    })();\n",
              "  </script>\n",
              "</div>\n",
              "\n",
              "    </div>\n",
              "  </div>\n"
            ],
            "application/vnd.google.colaboratory.intrinsic+json": {
              "type": "dataframe",
              "summary": "{\n  \"name\": \"chicago_crime_df\",\n  \"rows\": 8,\n  \"fields\": [\n    {\n      \"column\": \"ID\",\n      \"properties\": {\n        \"dtype\": \"number\",\n        \"std\": 4201321.802406434,\n        \"min\": 634.0,\n        \"max\": 13405999.0,\n        \"num_unique_values\": 8,\n        \"samples\": [\n          7209858.049507335,\n          7205746.0,\n          8023397.0\n        ],\n        \"semantic_type\": \"\",\n        \"description\": \"\"\n      }\n    },\n    {\n      \"column\": \"Beat\",\n      \"properties\": {\n        \"dtype\": \"number\",\n        \"std\": 2836299.259485395,\n        \"min\": 111.0,\n        \"max\": 8023397.0,\n        \"num_unique_values\": 8,\n        \"samples\": [\n          1185.1321019014763,\n          1034.0,\n          8023397.0\n        ],\n        \"semantic_type\": \"\",\n        \"description\": \"\"\n      }\n    },\n    {\n      \"column\": \"District\",\n      \"properties\": {\n        \"dtype\": \"number\",\n        \"std\": 2836678.391436936,\n        \"min\": 1.0,\n        \"max\": 8023350.0,\n        \"num_unique_values\": 8,\n        \"samples\": [\n          11.296793110109867,\n          10.0,\n          8023350.0\n        ],\n        \"semantic_type\": \"\",\n        \"description\": \"\"\n      }\n    },\n    {\n      \"column\": \"Ward\",\n      \"properties\": {\n        \"dtype\": \"number\",\n        \"std\": 2619308.0410933145,\n        \"min\": 1.0,\n        \"max\": 7408544.0,\n        \"num_unique_values\": 8,\n        \"samples\": [\n          22.766003819373957,\n          23.0,\n          7408544.0\n        ],\n        \"semantic_type\": \"\",\n        \"description\": \"\"\n      }\n    },\n    {\n      \"column\": \"Community Area\",\n      \"properties\": {\n        \"dtype\": \"number\",\n        \"std\": 2619789.461444001,\n        \"min\": 0.0,\n        \"max\": 7409919.0,\n        \"num_unique_values\": 8,\n        \"samples\": [\n          37.441028707601255,\n          32.0,\n          7409919.0\n        ],\n        \"semantic_type\": \"\",\n        \"description\": \"\"\n      }\n    },\n    {\n      \"column\": \"X Coordinate\",\n      \"properties\": {\n        \"dtype\": \"number\",\n        \"std\": 2562982.85704405,\n        \"min\": 0.0,\n        \"max\": 7935032.0,\n        \"num_unique_values\": 8,\n        \"samples\": [\n          1164616.0045886394,\n          1166145.0,\n          7935032.0\n        ],\n        \"semantic_type\": \"\",\n        \"description\": \"\"\n      }\n    },\n    {\n      \"column\": \"Y Coordinate\",\n      \"properties\": {\n        \"dtype\": \"number\",\n        \"std\": 2475108.2438899335,\n        \"min\": 0.0,\n        \"max\": 7935032.0,\n        \"num_unique_values\": 8,\n        \"samples\": [\n          1885834.480195039,\n          1890802.0,\n          7935032.0\n        ],\n        \"semantic_type\": \"\",\n        \"description\": \"\"\n      }\n    },\n    {\n      \"column\": \"Year\",\n      \"properties\": {\n        \"dtype\": \"number\",\n        \"std\": 2836089.577098177,\n        \"min\": 6.563572814662324,\n        \"max\": 8023397.0,\n        \"num_unique_values\": 8,\n        \"samples\": [\n          2010.3371308935605,\n          2009.0,\n          8023397.0\n        ],\n        \"semantic_type\": \"\",\n        \"description\": \"\"\n      }\n    },\n    {\n      \"column\": \"Latitude\",\n      \"properties\": {\n        \"dtype\": \"number\",\n        \"std\": 2805445.0378817506,\n        \"min\": 0.08935599990685121,\n        \"max\": 7935032.0,\n        \"num_unique_values\": 8,\n        \"samples\": [\n          41.84232472807992,\n          41.856089054,\n          7935032.0\n        ],\n        \"semantic_type\": \"\",\n        \"description\": \"\"\n      }\n    },\n    {\n      \"column\": \"Longitude\",\n      \"properties\": {\n        \"dtype\": \"number\",\n        \"std\": 2805484.228613504,\n        \"min\": -91.686565684,\n        \"max\": 7935032.0,\n        \"num_unique_values\": 8,\n        \"samples\": [\n          -87.67143639276927,\n          -87.665752111,\n          7935032.0\n        ],\n        \"semantic_type\": \"\",\n        \"description\": \"\"\n      }\n    }\n  ]\n}"
            }
          },
          "metadata": {},
          "execution_count": 11
        }
      ],
      "source": [
        "chicago_crime_df.describe()"
      ]
    },
    {
      "cell_type": "markdown",
      "id": "2bb19f83",
      "metadata": {
        "id": "2bb19f83"
      },
      "source": [
        "# 3. Data Preprocessing"
      ]
    },
    {
      "cell_type": "markdown",
      "id": "18cc107e",
      "metadata": {
        "id": "18cc107e"
      },
      "source": [
        "## Data Cleaning"
      ]
    },
    {
      "cell_type": "markdown",
      "id": "5793f507",
      "metadata": {
        "id": "5793f507"
      },
      "source": [
        "Here are some steps that we would carry out in this phase\n",
        "\n",
        "1. Convert data types to the appropriate formats\n",
        "2. Remove redundant or unnecessary columns\n",
        "3. Handle missing values\n",
        "\n",
        "__Reasons for dropping the below columns__\n",
        "- 'Unnamed: 0': Its just an index for individual row\n",
        "- 'ID': Serial identifier for the record which is redundant due to the presence of a case number for each case.\n",
        "- 'Location': This is where the incident occurred in a format that allows for creation of maps and other geographic operation. It's the combination of both latitude and longitude feature of this dataset thus, not required.\n",
        "- 'Updated On': Holds the date and time the record was last updated.Which is not required for our analysis.\n",
        "- 'X Coordinate': The x coordinate is a shifted location from the actual location for partial redaction but falls on the same block. Since we have a longitude/latitude and the block where the crime happened, we can neglect this feature.\n",
        "- 'Y Coordinate': The y coordinate is a shifted location from the actual location for partial redaction but falls on the same block. Since we have a longitude/latitude and the block where the crime happened, we can neglect this feature.\n",
        "- 'Community Area': This indicates the community area where the incident occurred. Which is not neccessary for our analysis.\n",
        "- 'IUCR': This is the Illinois Unifrom Crime Reporting code. This is directly linked to the Primary Type and Description, it provides information about the primary type and description of crime. Since primary type and description features already exist, it becomes a redundant column\n",
        "- Description: It's simply a subcategory of the primary type(which describes the type of crime committed). this can be omitted\n",
        "- Block: Since we have the latitude and longitude, this column is redundant.\n",
        "- Community Area: This is not needed in our analysis and the presence of a police Beat makes this redundant.\n",
        "- FBI Code: Removed because it is not necessary for our analysis as we are unable to de-code these codes."
      ]
    },
    {
      "cell_type": "markdown",
      "id": "bfeb84fa",
      "metadata": {
        "id": "bfeb84fa"
      },
      "source": [
        "__1. convert inappropriate data types to the correct one__"
      ]
    },
    {
      "cell_type": "code",
      "execution_count": null,
      "id": "b10541b6",
      "metadata": {
        "ExecuteTime": {
          "end_time": "2024-03-22T20:18:23.196946Z",
          "start_time": "2024-03-22T20:18:23.185911Z"
        },
        "id": "b10541b6"
      },
      "outputs": [],
      "source": [
        "# first we convert the date column to datetime data type.\n",
        "\n",
        "# chicago_crime_df['Date'] = pd.to_datetime(chicago_crime_df['Date'],format = \"%m/%d/%Y %I:%M:%S %p\")"
      ]
    },
    {
      "cell_type": "code",
      "execution_count": 12,
      "id": "bfded967",
      "metadata": {
        "ExecuteTime": {
          "end_time": "2024-03-22T20:18:25.802154Z",
          "start_time": "2024-03-22T20:18:23.236782Z"
        },
        "id": "bfded967"
      },
      "outputs": [],
      "source": [
        "# convert the district column to a string; from the keynote, Chicago police has only 22 district and the data type is plain text\n",
        "\n",
        "chicago_crime_df['District'] = pd.Series(chicago_crime_df['District'], dtype='string')"
      ]
    },
    {
      "cell_type": "markdown",
      "id": "3d674611",
      "metadata": {
        "id": "3d674611"
      },
      "source": [
        "__2. Use a funtion to Drop redundant columns and/or columns that are not necessary for our analysis (a redundant column is one that gives infomation that another column already explains: eg ID and Case number)__"
      ]
    },
    {
      "cell_type": "code",
      "execution_count": 13,
      "id": "cf7fd108",
      "metadata": {
        "ExecuteTime": {
          "end_time": "2024-03-22T20:18:25.910002Z",
          "start_time": "2024-03-22T20:18:25.886895Z"
        },
        "colab": {
          "base_uri": "https://localhost:8080/"
        },
        "id": "cf7fd108",
        "outputId": "c5dbe456-95e0-418c-a435-05174ebb4c2c"
      },
      "outputs": [
        {
          "output_type": "execute_result",
          "data": {
            "text/plain": [
              "Index(['ID', 'Case Number', 'Date', 'Block', 'IUCR', 'Primary Type',\n",
              "       'Description', 'Location Description', 'Arrest', 'Domestic', 'Beat',\n",
              "       'District', 'Ward', 'Community Area', 'FBI Code', 'X Coordinate',\n",
              "       'Y Coordinate', 'Year', 'Updated On', 'Latitude', 'Longitude',\n",
              "       'Location'],\n",
              "      dtype='object')"
            ]
          },
          "metadata": {},
          "execution_count": 13
        }
      ],
      "source": [
        "chicago_crime_df.columns"
      ]
    },
    {
      "cell_type": "code",
      "execution_count": 13,
      "id": "7855cff3",
      "metadata": {
        "id": "7855cff3"
      },
      "outputs": [],
      "source": []
    },
    {
      "cell_type": "code",
      "execution_count": 15,
      "id": "1fef58c2",
      "metadata": {
        "ExecuteTime": {
          "end_time": "2024-03-22T20:18:26.431716Z",
          "start_time": "2024-03-22T20:18:25.943258Z"
        },
        "id": "1fef58c2"
      },
      "outputs": [],
      "source": [
        "# Dropping redundant columns\n",
        "def drop_redundant_columns(df):\n",
        "    redundant_columns = ['ID', 'Location','Updated On', 'FBI Code', 'Block', 'Description', 'X Coordinate','Y Coordinate','Community Area','IUCR']\n",
        "    df.drop(redundant_columns, axis=1, inplace= True)\n",
        "\n",
        "drop_redundant_columns(chicago_crime_df)"
      ]
    },
    {
      "cell_type": "code",
      "execution_count": 16,
      "id": "d55a5457",
      "metadata": {
        "ExecuteTime": {
          "end_time": "2024-03-22T20:18:26.564132Z",
          "start_time": "2024-03-22T20:18:26.477466Z"
        },
        "colab": {
          "base_uri": "https://localhost:8080/",
          "height": 206
        },
        "id": "d55a5457",
        "outputId": "f5e2bf92-ba03-4306-b5f7-dda5b9f0e919"
      },
      "outputs": [
        {
          "output_type": "execute_result",
          "data": {
            "text/plain": [
              "  Case Number                    Date        Primary Type  \\\n",
              "0    JA371270  03/18/2015 12:00:00 PM  DECEPTIVE PRACTICE   \n",
              "1    JC213749  12/20/2018 03:00:00 PM  DECEPTIVE PRACTICE   \n",
              "2    JC212333  05/01/2016 12:25:00 AM  DECEPTIVE PRACTICE   \n",
              "3    JC211511  12/20/2018 04:00:00 PM       OTHER OFFENSE   \n",
              "4    JC212935  06/01/2014 12:01:00 AM  DECEPTIVE PRACTICE   \n",
              "\n",
              "  Location Description  Arrest  Domestic  Beat District  Ward  Year  Latitude  \\\n",
              "0                 BANK   False     False   111      1.0  42.0  2015       NaN   \n",
              "1            APARTMENT   False     False  2515     25.0  36.0  2018       NaN   \n",
              "2                  NaN   False     False   824      8.0  15.0  2016       NaN   \n",
              "3            RESIDENCE   False     False  1724     17.0  33.0  2018       NaN   \n",
              "4            RESIDENCE   False     False  2222     22.0  21.0  2014       NaN   \n",
              "\n",
              "   Longitude  \n",
              "0        NaN  \n",
              "1        NaN  \n",
              "2        NaN  \n",
              "3        NaN  \n",
              "4        NaN  "
            ],
            "text/html": [
              "\n",
              "  <div id=\"df-33c94c4b-5dd6-440a-bf84-140e26d89d57\" class=\"colab-df-container\">\n",
              "    <div>\n",
              "<style scoped>\n",
              "    .dataframe tbody tr th:only-of-type {\n",
              "        vertical-align: middle;\n",
              "    }\n",
              "\n",
              "    .dataframe tbody tr th {\n",
              "        vertical-align: top;\n",
              "    }\n",
              "\n",
              "    .dataframe thead th {\n",
              "        text-align: right;\n",
              "    }\n",
              "</style>\n",
              "<table border=\"1\" class=\"dataframe\">\n",
              "  <thead>\n",
              "    <tr style=\"text-align: right;\">\n",
              "      <th></th>\n",
              "      <th>Case Number</th>\n",
              "      <th>Date</th>\n",
              "      <th>Primary Type</th>\n",
              "      <th>Location Description</th>\n",
              "      <th>Arrest</th>\n",
              "      <th>Domestic</th>\n",
              "      <th>Beat</th>\n",
              "      <th>District</th>\n",
              "      <th>Ward</th>\n",
              "      <th>Year</th>\n",
              "      <th>Latitude</th>\n",
              "      <th>Longitude</th>\n",
              "    </tr>\n",
              "  </thead>\n",
              "  <tbody>\n",
              "    <tr>\n",
              "      <th>0</th>\n",
              "      <td>JA371270</td>\n",
              "      <td>03/18/2015 12:00:00 PM</td>\n",
              "      <td>DECEPTIVE PRACTICE</td>\n",
              "      <td>BANK</td>\n",
              "      <td>False</td>\n",
              "      <td>False</td>\n",
              "      <td>111</td>\n",
              "      <td>1.0</td>\n",
              "      <td>42.0</td>\n",
              "      <td>2015</td>\n",
              "      <td>NaN</td>\n",
              "      <td>NaN</td>\n",
              "    </tr>\n",
              "    <tr>\n",
              "      <th>1</th>\n",
              "      <td>JC213749</td>\n",
              "      <td>12/20/2018 03:00:00 PM</td>\n",
              "      <td>DECEPTIVE PRACTICE</td>\n",
              "      <td>APARTMENT</td>\n",
              "      <td>False</td>\n",
              "      <td>False</td>\n",
              "      <td>2515</td>\n",
              "      <td>25.0</td>\n",
              "      <td>36.0</td>\n",
              "      <td>2018</td>\n",
              "      <td>NaN</td>\n",
              "      <td>NaN</td>\n",
              "    </tr>\n",
              "    <tr>\n",
              "      <th>2</th>\n",
              "      <td>JC212333</td>\n",
              "      <td>05/01/2016 12:25:00 AM</td>\n",
              "      <td>DECEPTIVE PRACTICE</td>\n",
              "      <td>NaN</td>\n",
              "      <td>False</td>\n",
              "      <td>False</td>\n",
              "      <td>824</td>\n",
              "      <td>8.0</td>\n",
              "      <td>15.0</td>\n",
              "      <td>2016</td>\n",
              "      <td>NaN</td>\n",
              "      <td>NaN</td>\n",
              "    </tr>\n",
              "    <tr>\n",
              "      <th>3</th>\n",
              "      <td>JC211511</td>\n",
              "      <td>12/20/2018 04:00:00 PM</td>\n",
              "      <td>OTHER OFFENSE</td>\n",
              "      <td>RESIDENCE</td>\n",
              "      <td>False</td>\n",
              "      <td>False</td>\n",
              "      <td>1724</td>\n",
              "      <td>17.0</td>\n",
              "      <td>33.0</td>\n",
              "      <td>2018</td>\n",
              "      <td>NaN</td>\n",
              "      <td>NaN</td>\n",
              "    </tr>\n",
              "    <tr>\n",
              "      <th>4</th>\n",
              "      <td>JC212935</td>\n",
              "      <td>06/01/2014 12:01:00 AM</td>\n",
              "      <td>DECEPTIVE PRACTICE</td>\n",
              "      <td>RESIDENCE</td>\n",
              "      <td>False</td>\n",
              "      <td>False</td>\n",
              "      <td>2222</td>\n",
              "      <td>22.0</td>\n",
              "      <td>21.0</td>\n",
              "      <td>2014</td>\n",
              "      <td>NaN</td>\n",
              "      <td>NaN</td>\n",
              "    </tr>\n",
              "  </tbody>\n",
              "</table>\n",
              "</div>\n",
              "    <div class=\"colab-df-buttons\">\n",
              "\n",
              "  <div class=\"colab-df-container\">\n",
              "    <button class=\"colab-df-convert\" onclick=\"convertToInteractive('df-33c94c4b-5dd6-440a-bf84-140e26d89d57')\"\n",
              "            title=\"Convert this dataframe to an interactive table.\"\n",
              "            style=\"display:none;\">\n",
              "\n",
              "  <svg xmlns=\"http://www.w3.org/2000/svg\" height=\"24px\" viewBox=\"0 -960 960 960\">\n",
              "    <path d=\"M120-120v-720h720v720H120Zm60-500h600v-160H180v160Zm220 220h160v-160H400v160Zm0 220h160v-160H400v160ZM180-400h160v-160H180v160Zm440 0h160v-160H620v160ZM180-180h160v-160H180v160Zm440 0h160v-160H620v160Z\"/>\n",
              "  </svg>\n",
              "    </button>\n",
              "\n",
              "  <style>\n",
              "    .colab-df-container {\n",
              "      display:flex;\n",
              "      gap: 12px;\n",
              "    }\n",
              "\n",
              "    .colab-df-convert {\n",
              "      background-color: #E8F0FE;\n",
              "      border: none;\n",
              "      border-radius: 50%;\n",
              "      cursor: pointer;\n",
              "      display: none;\n",
              "      fill: #1967D2;\n",
              "      height: 32px;\n",
              "      padding: 0 0 0 0;\n",
              "      width: 32px;\n",
              "    }\n",
              "\n",
              "    .colab-df-convert:hover {\n",
              "      background-color: #E2EBFA;\n",
              "      box-shadow: 0px 1px 2px rgba(60, 64, 67, 0.3), 0px 1px 3px 1px rgba(60, 64, 67, 0.15);\n",
              "      fill: #174EA6;\n",
              "    }\n",
              "\n",
              "    .colab-df-buttons div {\n",
              "      margin-bottom: 4px;\n",
              "    }\n",
              "\n",
              "    [theme=dark] .colab-df-convert {\n",
              "      background-color: #3B4455;\n",
              "      fill: #D2E3FC;\n",
              "    }\n",
              "\n",
              "    [theme=dark] .colab-df-convert:hover {\n",
              "      background-color: #434B5C;\n",
              "      box-shadow: 0px 1px 3px 1px rgba(0, 0, 0, 0.15);\n",
              "      filter: drop-shadow(0px 1px 2px rgba(0, 0, 0, 0.3));\n",
              "      fill: #FFFFFF;\n",
              "    }\n",
              "  </style>\n",
              "\n",
              "    <script>\n",
              "      const buttonEl =\n",
              "        document.querySelector('#df-33c94c4b-5dd6-440a-bf84-140e26d89d57 button.colab-df-convert');\n",
              "      buttonEl.style.display =\n",
              "        google.colab.kernel.accessAllowed ? 'block' : 'none';\n",
              "\n",
              "      async function convertToInteractive(key) {\n",
              "        const element = document.querySelector('#df-33c94c4b-5dd6-440a-bf84-140e26d89d57');\n",
              "        const dataTable =\n",
              "          await google.colab.kernel.invokeFunction('convertToInteractive',\n",
              "                                                    [key], {});\n",
              "        if (!dataTable) return;\n",
              "\n",
              "        const docLinkHtml = 'Like what you see? Visit the ' +\n",
              "          '<a target=\"_blank\" href=https://colab.research.google.com/notebooks/data_table.ipynb>data table notebook</a>'\n",
              "          + ' to learn more about interactive tables.';\n",
              "        element.innerHTML = '';\n",
              "        dataTable['output_type'] = 'display_data';\n",
              "        await google.colab.output.renderOutput(dataTable, element);\n",
              "        const docLink = document.createElement('div');\n",
              "        docLink.innerHTML = docLinkHtml;\n",
              "        element.appendChild(docLink);\n",
              "      }\n",
              "    </script>\n",
              "  </div>\n",
              "\n",
              "\n",
              "<div id=\"df-6c898483-5f4a-4f8a-b3ca-94fe07aad858\">\n",
              "  <button class=\"colab-df-quickchart\" onclick=\"quickchart('df-6c898483-5f4a-4f8a-b3ca-94fe07aad858')\"\n",
              "            title=\"Suggest charts\"\n",
              "            style=\"display:none;\">\n",
              "\n",
              "<svg xmlns=\"http://www.w3.org/2000/svg\" height=\"24px\"viewBox=\"0 0 24 24\"\n",
              "     width=\"24px\">\n",
              "    <g>\n",
              "        <path d=\"M19 3H5c-1.1 0-2 .9-2 2v14c0 1.1.9 2 2 2h14c1.1 0 2-.9 2-2V5c0-1.1-.9-2-2-2zM9 17H7v-7h2v7zm4 0h-2V7h2v10zm4 0h-2v-4h2v4z\"/>\n",
              "    </g>\n",
              "</svg>\n",
              "  </button>\n",
              "\n",
              "<style>\n",
              "  .colab-df-quickchart {\n",
              "      --bg-color: #E8F0FE;\n",
              "      --fill-color: #1967D2;\n",
              "      --hover-bg-color: #E2EBFA;\n",
              "      --hover-fill-color: #174EA6;\n",
              "      --disabled-fill-color: #AAA;\n",
              "      --disabled-bg-color: #DDD;\n",
              "  }\n",
              "\n",
              "  [theme=dark] .colab-df-quickchart {\n",
              "      --bg-color: #3B4455;\n",
              "      --fill-color: #D2E3FC;\n",
              "      --hover-bg-color: #434B5C;\n",
              "      --hover-fill-color: #FFFFFF;\n",
              "      --disabled-bg-color: #3B4455;\n",
              "      --disabled-fill-color: #666;\n",
              "  }\n",
              "\n",
              "  .colab-df-quickchart {\n",
              "    background-color: var(--bg-color);\n",
              "    border: none;\n",
              "    border-radius: 50%;\n",
              "    cursor: pointer;\n",
              "    display: none;\n",
              "    fill: var(--fill-color);\n",
              "    height: 32px;\n",
              "    padding: 0;\n",
              "    width: 32px;\n",
              "  }\n",
              "\n",
              "  .colab-df-quickchart:hover {\n",
              "    background-color: var(--hover-bg-color);\n",
              "    box-shadow: 0 1px 2px rgba(60, 64, 67, 0.3), 0 1px 3px 1px rgba(60, 64, 67, 0.15);\n",
              "    fill: var(--button-hover-fill-color);\n",
              "  }\n",
              "\n",
              "  .colab-df-quickchart-complete:disabled,\n",
              "  .colab-df-quickchart-complete:disabled:hover {\n",
              "    background-color: var(--disabled-bg-color);\n",
              "    fill: var(--disabled-fill-color);\n",
              "    box-shadow: none;\n",
              "  }\n",
              "\n",
              "  .colab-df-spinner {\n",
              "    border: 2px solid var(--fill-color);\n",
              "    border-color: transparent;\n",
              "    border-bottom-color: var(--fill-color);\n",
              "    animation:\n",
              "      spin 1s steps(1) infinite;\n",
              "  }\n",
              "\n",
              "  @keyframes spin {\n",
              "    0% {\n",
              "      border-color: transparent;\n",
              "      border-bottom-color: var(--fill-color);\n",
              "      border-left-color: var(--fill-color);\n",
              "    }\n",
              "    20% {\n",
              "      border-color: transparent;\n",
              "      border-left-color: var(--fill-color);\n",
              "      border-top-color: var(--fill-color);\n",
              "    }\n",
              "    30% {\n",
              "      border-color: transparent;\n",
              "      border-left-color: var(--fill-color);\n",
              "      border-top-color: var(--fill-color);\n",
              "      border-right-color: var(--fill-color);\n",
              "    }\n",
              "    40% {\n",
              "      border-color: transparent;\n",
              "      border-right-color: var(--fill-color);\n",
              "      border-top-color: var(--fill-color);\n",
              "    }\n",
              "    60% {\n",
              "      border-color: transparent;\n",
              "      border-right-color: var(--fill-color);\n",
              "    }\n",
              "    80% {\n",
              "      border-color: transparent;\n",
              "      border-right-color: var(--fill-color);\n",
              "      border-bottom-color: var(--fill-color);\n",
              "    }\n",
              "    90% {\n",
              "      border-color: transparent;\n",
              "      border-bottom-color: var(--fill-color);\n",
              "    }\n",
              "  }\n",
              "</style>\n",
              "\n",
              "  <script>\n",
              "    async function quickchart(key) {\n",
              "      const quickchartButtonEl =\n",
              "        document.querySelector('#' + key + ' button');\n",
              "      quickchartButtonEl.disabled = true;  // To prevent multiple clicks.\n",
              "      quickchartButtonEl.classList.add('colab-df-spinner');\n",
              "      try {\n",
              "        const charts = await google.colab.kernel.invokeFunction(\n",
              "            'suggestCharts', [key], {});\n",
              "      } catch (error) {\n",
              "        console.error('Error during call to suggestCharts:', error);\n",
              "      }\n",
              "      quickchartButtonEl.classList.remove('colab-df-spinner');\n",
              "      quickchartButtonEl.classList.add('colab-df-quickchart-complete');\n",
              "    }\n",
              "    (() => {\n",
              "      let quickchartButtonEl =\n",
              "        document.querySelector('#df-6c898483-5f4a-4f8a-b3ca-94fe07aad858 button');\n",
              "      quickchartButtonEl.style.display =\n",
              "        google.colab.kernel.accessAllowed ? 'block' : 'none';\n",
              "    })();\n",
              "  </script>\n",
              "</div>\n",
              "\n",
              "    </div>\n",
              "  </div>\n"
            ],
            "application/vnd.google.colaboratory.intrinsic+json": {
              "type": "dataframe",
              "variable_name": "chicago_crime_df"
            }
          },
          "metadata": {},
          "execution_count": 16
        }
      ],
      "source": [
        "chicago_crime_df.head()"
      ]
    },
    {
      "cell_type": "code",
      "execution_count": 17,
      "id": "835b87a8",
      "metadata": {
        "ExecuteTime": {
          "end_time": "2024-03-22T20:18:26.620032Z",
          "start_time": "2024-03-22T20:18:26.595886Z"
        },
        "colab": {
          "base_uri": "https://localhost:8080/"
        },
        "id": "835b87a8",
        "outputId": "f21711e7-433e-4204-d796-f367b98e7a87"
      },
      "outputs": [
        {
          "output_type": "stream",
          "name": "stdout",
          "text": [
            "<class 'pandas.core.frame.DataFrame'>\n",
            "RangeIndex: 8023397 entries, 0 to 8023396\n",
            "Data columns (total 12 columns):\n",
            " #   Column                Dtype  \n",
            "---  ------                -----  \n",
            " 0   Case Number           object \n",
            " 1   Date                  object \n",
            " 2   Primary Type          object \n",
            " 3   Location Description  object \n",
            " 4   Arrest                bool   \n",
            " 5   Domestic              bool   \n",
            " 6   Beat                  int64  \n",
            " 7   District              string \n",
            " 8   Ward                  float64\n",
            " 9   Year                  int64  \n",
            " 10  Latitude              float64\n",
            " 11  Longitude             float64\n",
            "dtypes: bool(2), float64(3), int64(2), object(4), string(1)\n",
            "memory usage: 627.4+ MB\n"
          ]
        }
      ],
      "source": [
        "chicago_crime_df.info()"
      ]
    },
    {
      "cell_type": "code",
      "execution_count": 18,
      "id": "150b2940",
      "metadata": {
        "ExecuteTime": {
          "end_time": "2024-03-22T20:18:35.666444Z",
          "start_time": "2024-03-22T20:18:26.646730Z"
        },
        "colab": {
          "base_uri": "https://localhost:8080/",
          "height": 429
        },
        "id": "150b2940",
        "outputId": "16d77025-ee58-487b-ca3a-a0b6d2ff1778"
      },
      "outputs": [
        {
          "output_type": "execute_result",
          "data": {
            "text/plain": [
              "       Case Number                    Date Primary Type Location Description  \\\n",
              "count      8023397                 8023397      8023397              8010631   \n",
              "unique     8022834                 3321085           36                  217   \n",
              "top       HJ590004  01/01/2008 12:01:00 AM        THEFT               STREET   \n",
              "freq             6                     305      1694801              2095702   \n",
              "mean           NaN                     NaN          NaN                  NaN   \n",
              "std            NaN                     NaN          NaN                  NaN   \n",
              "min            NaN                     NaN          NaN                  NaN   \n",
              "25%            NaN                     NaN          NaN                  NaN   \n",
              "50%            NaN                     NaN          NaN                  NaN   \n",
              "75%            NaN                     NaN          NaN                  NaN   \n",
              "max            NaN                     NaN          NaN                  NaN   \n",
              "\n",
              "         Arrest Domestic          Beat District          Ward          Year  \\\n",
              "count   8023397  8023397  8.023397e+06  8023350  7.408544e+06  8.023397e+06   \n",
              "unique        2        2           NaN       24           NaN           NaN   \n",
              "top       False    False           NaN      8.0           NaN           NaN   \n",
              "freq    5958722  6644238           NaN   538733           NaN           NaN   \n",
              "mean        NaN      NaN  1.185132e+03      NaN  2.276600e+01  2.010337e+03   \n",
              "std         NaN      NaN  7.034600e+02      NaN  1.385439e+01  6.563573e+00   \n",
              "min         NaN      NaN  1.110000e+02      NaN  1.000000e+00  2.001000e+03   \n",
              "25%         NaN      NaN  6.210000e+02      NaN  1.000000e+01  2.005000e+03   \n",
              "50%         NaN      NaN  1.034000e+03      NaN  2.300000e+01  2.009000e+03   \n",
              "75%         NaN      NaN  1.731000e+03      NaN  3.400000e+01  2.016000e+03   \n",
              "max         NaN      NaN  2.535000e+03      NaN  5.000000e+01  2.024000e+03   \n",
              "\n",
              "            Latitude     Longitude  \n",
              "count   7.935032e+06  7.935032e+06  \n",
              "unique           NaN           NaN  \n",
              "top              NaN           NaN  \n",
              "freq             NaN           NaN  \n",
              "mean    4.184232e+01 -8.767144e+01  \n",
              "std     8.935600e-02  6.154686e-02  \n",
              "min     3.661945e+01 -9.168657e+01  \n",
              "25%     4.176878e+01 -8.771355e+01  \n",
              "50%     4.185609e+01 -8.766575e+01  \n",
              "75%     4.190692e+01 -8.762813e+01  \n",
              "max     4.202291e+01 -8.752453e+01  "
            ],
            "text/html": [
              "\n",
              "  <div id=\"df-168c7903-aefc-45f9-8f8b-b6fc8bb601f5\" class=\"colab-df-container\">\n",
              "    <div>\n",
              "<style scoped>\n",
              "    .dataframe tbody tr th:only-of-type {\n",
              "        vertical-align: middle;\n",
              "    }\n",
              "\n",
              "    .dataframe tbody tr th {\n",
              "        vertical-align: top;\n",
              "    }\n",
              "\n",
              "    .dataframe thead th {\n",
              "        text-align: right;\n",
              "    }\n",
              "</style>\n",
              "<table border=\"1\" class=\"dataframe\">\n",
              "  <thead>\n",
              "    <tr style=\"text-align: right;\">\n",
              "      <th></th>\n",
              "      <th>Case Number</th>\n",
              "      <th>Date</th>\n",
              "      <th>Primary Type</th>\n",
              "      <th>Location Description</th>\n",
              "      <th>Arrest</th>\n",
              "      <th>Domestic</th>\n",
              "      <th>Beat</th>\n",
              "      <th>District</th>\n",
              "      <th>Ward</th>\n",
              "      <th>Year</th>\n",
              "      <th>Latitude</th>\n",
              "      <th>Longitude</th>\n",
              "    </tr>\n",
              "  </thead>\n",
              "  <tbody>\n",
              "    <tr>\n",
              "      <th>count</th>\n",
              "      <td>8023397</td>\n",
              "      <td>8023397</td>\n",
              "      <td>8023397</td>\n",
              "      <td>8010631</td>\n",
              "      <td>8023397</td>\n",
              "      <td>8023397</td>\n",
              "      <td>8.023397e+06</td>\n",
              "      <td>8023350</td>\n",
              "      <td>7.408544e+06</td>\n",
              "      <td>8.023397e+06</td>\n",
              "      <td>7.935032e+06</td>\n",
              "      <td>7.935032e+06</td>\n",
              "    </tr>\n",
              "    <tr>\n",
              "      <th>unique</th>\n",
              "      <td>8022834</td>\n",
              "      <td>3321085</td>\n",
              "      <td>36</td>\n",
              "      <td>217</td>\n",
              "      <td>2</td>\n",
              "      <td>2</td>\n",
              "      <td>NaN</td>\n",
              "      <td>24</td>\n",
              "      <td>NaN</td>\n",
              "      <td>NaN</td>\n",
              "      <td>NaN</td>\n",
              "      <td>NaN</td>\n",
              "    </tr>\n",
              "    <tr>\n",
              "      <th>top</th>\n",
              "      <td>HJ590004</td>\n",
              "      <td>01/01/2008 12:01:00 AM</td>\n",
              "      <td>THEFT</td>\n",
              "      <td>STREET</td>\n",
              "      <td>False</td>\n",
              "      <td>False</td>\n",
              "      <td>NaN</td>\n",
              "      <td>8.0</td>\n",
              "      <td>NaN</td>\n",
              "      <td>NaN</td>\n",
              "      <td>NaN</td>\n",
              "      <td>NaN</td>\n",
              "    </tr>\n",
              "    <tr>\n",
              "      <th>freq</th>\n",
              "      <td>6</td>\n",
              "      <td>305</td>\n",
              "      <td>1694801</td>\n",
              "      <td>2095702</td>\n",
              "      <td>5958722</td>\n",
              "      <td>6644238</td>\n",
              "      <td>NaN</td>\n",
              "      <td>538733</td>\n",
              "      <td>NaN</td>\n",
              "      <td>NaN</td>\n",
              "      <td>NaN</td>\n",
              "      <td>NaN</td>\n",
              "    </tr>\n",
              "    <tr>\n",
              "      <th>mean</th>\n",
              "      <td>NaN</td>\n",
              "      <td>NaN</td>\n",
              "      <td>NaN</td>\n",
              "      <td>NaN</td>\n",
              "      <td>NaN</td>\n",
              "      <td>NaN</td>\n",
              "      <td>1.185132e+03</td>\n",
              "      <td>NaN</td>\n",
              "      <td>2.276600e+01</td>\n",
              "      <td>2.010337e+03</td>\n",
              "      <td>4.184232e+01</td>\n",
              "      <td>-8.767144e+01</td>\n",
              "    </tr>\n",
              "    <tr>\n",
              "      <th>std</th>\n",
              "      <td>NaN</td>\n",
              "      <td>NaN</td>\n",
              "      <td>NaN</td>\n",
              "      <td>NaN</td>\n",
              "      <td>NaN</td>\n",
              "      <td>NaN</td>\n",
              "      <td>7.034600e+02</td>\n",
              "      <td>NaN</td>\n",
              "      <td>1.385439e+01</td>\n",
              "      <td>6.563573e+00</td>\n",
              "      <td>8.935600e-02</td>\n",
              "      <td>6.154686e-02</td>\n",
              "    </tr>\n",
              "    <tr>\n",
              "      <th>min</th>\n",
              "      <td>NaN</td>\n",
              "      <td>NaN</td>\n",
              "      <td>NaN</td>\n",
              "      <td>NaN</td>\n",
              "      <td>NaN</td>\n",
              "      <td>NaN</td>\n",
              "      <td>1.110000e+02</td>\n",
              "      <td>NaN</td>\n",
              "      <td>1.000000e+00</td>\n",
              "      <td>2.001000e+03</td>\n",
              "      <td>3.661945e+01</td>\n",
              "      <td>-9.168657e+01</td>\n",
              "    </tr>\n",
              "    <tr>\n",
              "      <th>25%</th>\n",
              "      <td>NaN</td>\n",
              "      <td>NaN</td>\n",
              "      <td>NaN</td>\n",
              "      <td>NaN</td>\n",
              "      <td>NaN</td>\n",
              "      <td>NaN</td>\n",
              "      <td>6.210000e+02</td>\n",
              "      <td>NaN</td>\n",
              "      <td>1.000000e+01</td>\n",
              "      <td>2.005000e+03</td>\n",
              "      <td>4.176878e+01</td>\n",
              "      <td>-8.771355e+01</td>\n",
              "    </tr>\n",
              "    <tr>\n",
              "      <th>50%</th>\n",
              "      <td>NaN</td>\n",
              "      <td>NaN</td>\n",
              "      <td>NaN</td>\n",
              "      <td>NaN</td>\n",
              "      <td>NaN</td>\n",
              "      <td>NaN</td>\n",
              "      <td>1.034000e+03</td>\n",
              "      <td>NaN</td>\n",
              "      <td>2.300000e+01</td>\n",
              "      <td>2.009000e+03</td>\n",
              "      <td>4.185609e+01</td>\n",
              "      <td>-8.766575e+01</td>\n",
              "    </tr>\n",
              "    <tr>\n",
              "      <th>75%</th>\n",
              "      <td>NaN</td>\n",
              "      <td>NaN</td>\n",
              "      <td>NaN</td>\n",
              "      <td>NaN</td>\n",
              "      <td>NaN</td>\n",
              "      <td>NaN</td>\n",
              "      <td>1.731000e+03</td>\n",
              "      <td>NaN</td>\n",
              "      <td>3.400000e+01</td>\n",
              "      <td>2.016000e+03</td>\n",
              "      <td>4.190692e+01</td>\n",
              "      <td>-8.762813e+01</td>\n",
              "    </tr>\n",
              "    <tr>\n",
              "      <th>max</th>\n",
              "      <td>NaN</td>\n",
              "      <td>NaN</td>\n",
              "      <td>NaN</td>\n",
              "      <td>NaN</td>\n",
              "      <td>NaN</td>\n",
              "      <td>NaN</td>\n",
              "      <td>2.535000e+03</td>\n",
              "      <td>NaN</td>\n",
              "      <td>5.000000e+01</td>\n",
              "      <td>2.024000e+03</td>\n",
              "      <td>4.202291e+01</td>\n",
              "      <td>-8.752453e+01</td>\n",
              "    </tr>\n",
              "  </tbody>\n",
              "</table>\n",
              "</div>\n",
              "    <div class=\"colab-df-buttons\">\n",
              "\n",
              "  <div class=\"colab-df-container\">\n",
              "    <button class=\"colab-df-convert\" onclick=\"convertToInteractive('df-168c7903-aefc-45f9-8f8b-b6fc8bb601f5')\"\n",
              "            title=\"Convert this dataframe to an interactive table.\"\n",
              "            style=\"display:none;\">\n",
              "\n",
              "  <svg xmlns=\"http://www.w3.org/2000/svg\" height=\"24px\" viewBox=\"0 -960 960 960\">\n",
              "    <path d=\"M120-120v-720h720v720H120Zm60-500h600v-160H180v160Zm220 220h160v-160H400v160Zm0 220h160v-160H400v160ZM180-400h160v-160H180v160Zm440 0h160v-160H620v160ZM180-180h160v-160H180v160Zm440 0h160v-160H620v160Z\"/>\n",
              "  </svg>\n",
              "    </button>\n",
              "\n",
              "  <style>\n",
              "    .colab-df-container {\n",
              "      display:flex;\n",
              "      gap: 12px;\n",
              "    }\n",
              "\n",
              "    .colab-df-convert {\n",
              "      background-color: #E8F0FE;\n",
              "      border: none;\n",
              "      border-radius: 50%;\n",
              "      cursor: pointer;\n",
              "      display: none;\n",
              "      fill: #1967D2;\n",
              "      height: 32px;\n",
              "      padding: 0 0 0 0;\n",
              "      width: 32px;\n",
              "    }\n",
              "\n",
              "    .colab-df-convert:hover {\n",
              "      background-color: #E2EBFA;\n",
              "      box-shadow: 0px 1px 2px rgba(60, 64, 67, 0.3), 0px 1px 3px 1px rgba(60, 64, 67, 0.15);\n",
              "      fill: #174EA6;\n",
              "    }\n",
              "\n",
              "    .colab-df-buttons div {\n",
              "      margin-bottom: 4px;\n",
              "    }\n",
              "\n",
              "    [theme=dark] .colab-df-convert {\n",
              "      background-color: #3B4455;\n",
              "      fill: #D2E3FC;\n",
              "    }\n",
              "\n",
              "    [theme=dark] .colab-df-convert:hover {\n",
              "      background-color: #434B5C;\n",
              "      box-shadow: 0px 1px 3px 1px rgba(0, 0, 0, 0.15);\n",
              "      filter: drop-shadow(0px 1px 2px rgba(0, 0, 0, 0.3));\n",
              "      fill: #FFFFFF;\n",
              "    }\n",
              "  </style>\n",
              "\n",
              "    <script>\n",
              "      const buttonEl =\n",
              "        document.querySelector('#df-168c7903-aefc-45f9-8f8b-b6fc8bb601f5 button.colab-df-convert');\n",
              "      buttonEl.style.display =\n",
              "        google.colab.kernel.accessAllowed ? 'block' : 'none';\n",
              "\n",
              "      async function convertToInteractive(key) {\n",
              "        const element = document.querySelector('#df-168c7903-aefc-45f9-8f8b-b6fc8bb601f5');\n",
              "        const dataTable =\n",
              "          await google.colab.kernel.invokeFunction('convertToInteractive',\n",
              "                                                    [key], {});\n",
              "        if (!dataTable) return;\n",
              "\n",
              "        const docLinkHtml = 'Like what you see? Visit the ' +\n",
              "          '<a target=\"_blank\" href=https://colab.research.google.com/notebooks/data_table.ipynb>data table notebook</a>'\n",
              "          + ' to learn more about interactive tables.';\n",
              "        element.innerHTML = '';\n",
              "        dataTable['output_type'] = 'display_data';\n",
              "        await google.colab.output.renderOutput(dataTable, element);\n",
              "        const docLink = document.createElement('div');\n",
              "        docLink.innerHTML = docLinkHtml;\n",
              "        element.appendChild(docLink);\n",
              "      }\n",
              "    </script>\n",
              "  </div>\n",
              "\n",
              "\n",
              "<div id=\"df-e5adc448-fa52-43f6-b20a-012dd29d2b4d\">\n",
              "  <button class=\"colab-df-quickchart\" onclick=\"quickchart('df-e5adc448-fa52-43f6-b20a-012dd29d2b4d')\"\n",
              "            title=\"Suggest charts\"\n",
              "            style=\"display:none;\">\n",
              "\n",
              "<svg xmlns=\"http://www.w3.org/2000/svg\" height=\"24px\"viewBox=\"0 0 24 24\"\n",
              "     width=\"24px\">\n",
              "    <g>\n",
              "        <path d=\"M19 3H5c-1.1 0-2 .9-2 2v14c0 1.1.9 2 2 2h14c1.1 0 2-.9 2-2V5c0-1.1-.9-2-2-2zM9 17H7v-7h2v7zm4 0h-2V7h2v10zm4 0h-2v-4h2v4z\"/>\n",
              "    </g>\n",
              "</svg>\n",
              "  </button>\n",
              "\n",
              "<style>\n",
              "  .colab-df-quickchart {\n",
              "      --bg-color: #E8F0FE;\n",
              "      --fill-color: #1967D2;\n",
              "      --hover-bg-color: #E2EBFA;\n",
              "      --hover-fill-color: #174EA6;\n",
              "      --disabled-fill-color: #AAA;\n",
              "      --disabled-bg-color: #DDD;\n",
              "  }\n",
              "\n",
              "  [theme=dark] .colab-df-quickchart {\n",
              "      --bg-color: #3B4455;\n",
              "      --fill-color: #D2E3FC;\n",
              "      --hover-bg-color: #434B5C;\n",
              "      --hover-fill-color: #FFFFFF;\n",
              "      --disabled-bg-color: #3B4455;\n",
              "      --disabled-fill-color: #666;\n",
              "  }\n",
              "\n",
              "  .colab-df-quickchart {\n",
              "    background-color: var(--bg-color);\n",
              "    border: none;\n",
              "    border-radius: 50%;\n",
              "    cursor: pointer;\n",
              "    display: none;\n",
              "    fill: var(--fill-color);\n",
              "    height: 32px;\n",
              "    padding: 0;\n",
              "    width: 32px;\n",
              "  }\n",
              "\n",
              "  .colab-df-quickchart:hover {\n",
              "    background-color: var(--hover-bg-color);\n",
              "    box-shadow: 0 1px 2px rgba(60, 64, 67, 0.3), 0 1px 3px 1px rgba(60, 64, 67, 0.15);\n",
              "    fill: var(--button-hover-fill-color);\n",
              "  }\n",
              "\n",
              "  .colab-df-quickchart-complete:disabled,\n",
              "  .colab-df-quickchart-complete:disabled:hover {\n",
              "    background-color: var(--disabled-bg-color);\n",
              "    fill: var(--disabled-fill-color);\n",
              "    box-shadow: none;\n",
              "  }\n",
              "\n",
              "  .colab-df-spinner {\n",
              "    border: 2px solid var(--fill-color);\n",
              "    border-color: transparent;\n",
              "    border-bottom-color: var(--fill-color);\n",
              "    animation:\n",
              "      spin 1s steps(1) infinite;\n",
              "  }\n",
              "\n",
              "  @keyframes spin {\n",
              "    0% {\n",
              "      border-color: transparent;\n",
              "      border-bottom-color: var(--fill-color);\n",
              "      border-left-color: var(--fill-color);\n",
              "    }\n",
              "    20% {\n",
              "      border-color: transparent;\n",
              "      border-left-color: var(--fill-color);\n",
              "      border-top-color: var(--fill-color);\n",
              "    }\n",
              "    30% {\n",
              "      border-color: transparent;\n",
              "      border-left-color: var(--fill-color);\n",
              "      border-top-color: var(--fill-color);\n",
              "      border-right-color: var(--fill-color);\n",
              "    }\n",
              "    40% {\n",
              "      border-color: transparent;\n",
              "      border-right-color: var(--fill-color);\n",
              "      border-top-color: var(--fill-color);\n",
              "    }\n",
              "    60% {\n",
              "      border-color: transparent;\n",
              "      border-right-color: var(--fill-color);\n",
              "    }\n",
              "    80% {\n",
              "      border-color: transparent;\n",
              "      border-right-color: var(--fill-color);\n",
              "      border-bottom-color: var(--fill-color);\n",
              "    }\n",
              "    90% {\n",
              "      border-color: transparent;\n",
              "      border-bottom-color: var(--fill-color);\n",
              "    }\n",
              "  }\n",
              "</style>\n",
              "\n",
              "  <script>\n",
              "    async function quickchart(key) {\n",
              "      const quickchartButtonEl =\n",
              "        document.querySelector('#' + key + ' button');\n",
              "      quickchartButtonEl.disabled = true;  // To prevent multiple clicks.\n",
              "      quickchartButtonEl.classList.add('colab-df-spinner');\n",
              "      try {\n",
              "        const charts = await google.colab.kernel.invokeFunction(\n",
              "            'suggestCharts', [key], {});\n",
              "      } catch (error) {\n",
              "        console.error('Error during call to suggestCharts:', error);\n",
              "      }\n",
              "      quickchartButtonEl.classList.remove('colab-df-spinner');\n",
              "      quickchartButtonEl.classList.add('colab-df-quickchart-complete');\n",
              "    }\n",
              "    (() => {\n",
              "      let quickchartButtonEl =\n",
              "        document.querySelector('#df-e5adc448-fa52-43f6-b20a-012dd29d2b4d button');\n",
              "      quickchartButtonEl.style.display =\n",
              "        google.colab.kernel.accessAllowed ? 'block' : 'none';\n",
              "    })();\n",
              "  </script>\n",
              "</div>\n",
              "\n",
              "    </div>\n",
              "  </div>\n"
            ],
            "application/vnd.google.colaboratory.intrinsic+json": {
              "type": "dataframe",
              "summary": "{\n  \"name\": \"chicago_crime_df\",\n  \"rows\": 11,\n  \"fields\": [\n    {\n      \"column\": \"Case Number\",\n      \"properties\": {\n        \"dtype\": \"category\",\n        \"num_unique_values\": 4,\n        \"samples\": [\n          8022834,\n          \"6\",\n          \"8023397\"\n        ],\n        \"semantic_type\": \"\",\n        \"description\": \"\"\n      }\n    },\n    {\n      \"column\": \"Date\",\n      \"properties\": {\n        \"dtype\": \"date\",\n        \"min\": \"1970-01-01 00:00:00.000000305\",\n        \"max\": \"2008-01-01 00:01:00\",\n        \"num_unique_values\": 4,\n        \"samples\": [\n          3321085,\n          \"305\",\n          \"8023397\"\n        ],\n        \"semantic_type\": \"\",\n        \"description\": \"\"\n      }\n    },\n    {\n      \"column\": \"Primary Type\",\n      \"properties\": {\n        \"dtype\": \"category\",\n        \"num_unique_values\": 4,\n        \"samples\": [\n          36,\n          \"1694801\",\n          \"8023397\"\n        ],\n        \"semantic_type\": \"\",\n        \"description\": \"\"\n      }\n    },\n    {\n      \"column\": \"Location Description\",\n      \"properties\": {\n        \"dtype\": \"category\",\n        \"num_unique_values\": 4,\n        \"samples\": [\n          217,\n          \"2095702\",\n          \"8010631\"\n        ],\n        \"semantic_type\": \"\",\n        \"description\": \"\"\n      }\n    },\n    {\n      \"column\": \"Arrest\",\n      \"properties\": {\n        \"dtype\": \"category\",\n        \"num_unique_values\": 4,\n        \"samples\": [\n          2,\n          \"5958722\",\n          \"8023397\"\n        ],\n        \"semantic_type\": \"\",\n        \"description\": \"\"\n      }\n    },\n    {\n      \"column\": \"Domestic\",\n      \"properties\": {\n        \"dtype\": \"category\",\n        \"num_unique_values\": 4,\n        \"samples\": [\n          2,\n          \"6644238\",\n          \"8023397\"\n        ],\n        \"semantic_type\": \"\",\n        \"description\": \"\"\n      }\n    },\n    {\n      \"column\": \"Beat\",\n      \"properties\": {\n        \"dtype\": \"number\",\n        \"std\": 2836299.259485395,\n        \"min\": 111.0,\n        \"max\": 8023397.0,\n        \"num_unique_values\": 8,\n        \"samples\": [\n          1185.1321019014763,\n          1034.0,\n          8023397.0\n        ],\n        \"semantic_type\": \"\",\n        \"description\": \"\"\n      }\n    },\n    {\n      \"column\": \"District\",\n      \"properties\": {\n        \"dtype\": \"category\",\n        \"num_unique_values\": 4,\n        \"samples\": [\n          24,\n          \"538733\",\n          \"8023350\"\n        ],\n        \"semantic_type\": \"\",\n        \"description\": \"\"\n      }\n    },\n    {\n      \"column\": \"Ward\",\n      \"properties\": {\n        \"dtype\": \"number\",\n        \"std\": 2619308.0410933145,\n        \"min\": 1.0,\n        \"max\": 7408544.0,\n        \"num_unique_values\": 8,\n        \"samples\": [\n          22.766003819373957,\n          23.0,\n          7408544.0\n        ],\n        \"semantic_type\": \"\",\n        \"description\": \"\"\n      }\n    },\n    {\n      \"column\": \"Year\",\n      \"properties\": {\n        \"dtype\": \"number\",\n        \"std\": 2836089.577098177,\n        \"min\": 6.563572814662324,\n        \"max\": 8023397.0,\n        \"num_unique_values\": 8,\n        \"samples\": [\n          2010.3371308935605,\n          2009.0,\n          8023397.0\n        ],\n        \"semantic_type\": \"\",\n        \"description\": \"\"\n      }\n    },\n    {\n      \"column\": \"Latitude\",\n      \"properties\": {\n        \"dtype\": \"number\",\n        \"std\": 2805445.0378817506,\n        \"min\": 0.08935599990685121,\n        \"max\": 7935032.0,\n        \"num_unique_values\": 8,\n        \"samples\": [\n          41.84232472807992,\n          41.856089054,\n          7935032.0\n        ],\n        \"semantic_type\": \"\",\n        \"description\": \"\"\n      }\n    },\n    {\n      \"column\": \"Longitude\",\n      \"properties\": {\n        \"dtype\": \"number\",\n        \"std\": 2805484.228613504,\n        \"min\": -91.686565684,\n        \"max\": 7935032.0,\n        \"num_unique_values\": 8,\n        \"samples\": [\n          -87.67143639276927,\n          -87.665752111,\n          7935032.0\n        ],\n        \"semantic_type\": \"\",\n        \"description\": \"\"\n      }\n    }\n  ]\n}"
            }
          },
          "metadata": {},
          "execution_count": 18
        }
      ],
      "source": [
        "# A summary statistics of each column\n",
        "chicago_crime_df.describe(include='all')"
      ]
    },
    {
      "cell_type": "code",
      "execution_count": 19,
      "id": "6f9daf5e",
      "metadata": {
        "ExecuteTime": {
          "end_time": "2024-03-22T20:18:35.719320Z",
          "start_time": "2024-03-22T20:18:35.699712Z"
        },
        "colab": {
          "base_uri": "https://localhost:8080/"
        },
        "id": "6f9daf5e",
        "outputId": "29a4a9ad-a008-4643-9f5b-e50a76685a2e"
      },
      "outputs": [
        {
          "output_type": "stream",
          "name": "stdout",
          "text": [
            "<class 'pandas.core.frame.DataFrame'>\n",
            "RangeIndex: 8023397 entries, 0 to 8023396\n",
            "Data columns (total 12 columns):\n",
            " #   Column                Dtype  \n",
            "---  ------                -----  \n",
            " 0   Case Number           object \n",
            " 1   Date                  object \n",
            " 2   Primary Type          object \n",
            " 3   Location Description  object \n",
            " 4   Arrest                bool   \n",
            " 5   Domestic              bool   \n",
            " 6   Beat                  int64  \n",
            " 7   District              string \n",
            " 8   Ward                  float64\n",
            " 9   Year                  int64  \n",
            " 10  Latitude              float64\n",
            " 11  Longitude             float64\n",
            "dtypes: bool(2), float64(3), int64(2), object(4), string(1)\n",
            "memory usage: 627.4+ MB\n"
          ]
        }
      ],
      "source": [
        "chicago_crime_df.info()"
      ]
    },
    {
      "cell_type": "markdown",
      "id": "05ebe46f",
      "metadata": {
        "id": "05ebe46f"
      },
      "source": [
        "__3. Handling missing values__"
      ]
    },
    {
      "cell_type": "code",
      "execution_count": 20,
      "id": "00593837",
      "metadata": {
        "ExecuteTime": {
          "end_time": "2024-03-22T20:18:36.573545Z",
          "start_time": "2024-03-22T20:18:35.747523Z"
        },
        "colab": {
          "base_uri": "https://localhost:8080/"
        },
        "id": "00593837",
        "outputId": "86c99146-029c-427b-dbc7-ae44c151446b"
      },
      "outputs": [
        {
          "output_type": "execute_result",
          "data": {
            "text/plain": [
              "Case Number                  0\n",
              "Date                         0\n",
              "Primary Type                 0\n",
              "Location Description     12766\n",
              "Arrest                       0\n",
              "Domestic                     0\n",
              "Beat                         0\n",
              "District                    47\n",
              "Ward                    614853\n",
              "Year                         0\n",
              "Latitude                 88365\n",
              "Longitude                88365\n",
              "dtype: int64"
            ]
          },
          "metadata": {},
          "execution_count": 20
        }
      ],
      "source": [
        "# checking missing value count\n",
        "chicago_crime_df.isnull().sum()"
      ]
    },
    {
      "cell_type": "code",
      "execution_count": 21,
      "id": "a291bd23",
      "metadata": {
        "ExecuteTime": {
          "end_time": "2024-03-22T20:18:36.620940Z",
          "start_time": "2024-03-22T20:18:36.601557Z"
        },
        "id": "a291bd23"
      },
      "outputs": [],
      "source": [
        "# # Missing Values\n",
        "\n",
        "# Function to calculate missing values by column\n",
        "def missing_values_table(df):\n",
        "        # Total missing values\n",
        "        mis_val = df.isnull().sum()\n",
        "\n",
        "        # Percentage of missing values\n",
        "        mis_val_percent = 100 * df.isnull().sum() / len(df)\n",
        "\n",
        "        # Make a table with the results\n",
        "        mis_val_table = pd.concat([mis_val, mis_val_percent], axis=1)\n",
        "\n",
        "        # Rename the columns\n",
        "        mis_val_table_ren_columns = mis_val_table.rename(\n",
        "        columns = {0 : 'Missing Values', 1 : '% of Total Values'})\n",
        "\n",
        "        # Sort the table by percentage of missing descending\n",
        "        mis_val_table_ren_columns = mis_val_table_ren_columns[\n",
        "            mis_val_table_ren_columns.iloc[:,1] != 0].sort_values(\n",
        "        '% of Total Values', ascending=False).round(1)\n",
        "\n",
        "        # Print some summary information\n",
        "        print (\"Your selected dataframe has \" + str(df.shape[1]) + \" columns.\\n\"\n",
        "            \"There are \" + str(mis_val_table_ren_columns.shape[0]) +\n",
        "              \" columns that have missing values.\")\n",
        "\n",
        "        # Return the dataframe with missing information\n",
        "        return mis_val_table_ren_columns"
      ]
    },
    {
      "cell_type": "code",
      "execution_count": 22,
      "id": "b5f9dc16",
      "metadata": {
        "ExecuteTime": {
          "end_time": "2024-03-22T20:18:38.361242Z",
          "start_time": "2024-03-22T20:18:36.673503Z"
        },
        "colab": {
          "base_uri": "https://localhost:8080/",
          "height": 241
        },
        "id": "b5f9dc16",
        "outputId": "5435132f-30d1-466f-9a8a-40055639a913"
      },
      "outputs": [
        {
          "output_type": "stream",
          "name": "stdout",
          "text": [
            "Your selected dataframe has 12 columns.\n",
            "There are 5 columns that have missing values.\n"
          ]
        },
        {
          "output_type": "execute_result",
          "data": {
            "text/plain": [
              "                      Missing Values  % of Total Values\n",
              "Ward                          614853                7.7\n",
              "Latitude                       88365                1.1\n",
              "Longitude                      88365                1.1\n",
              "Location Description           12766                0.2\n",
              "District                          47                0.0"
            ],
            "text/html": [
              "\n",
              "  <div id=\"df-e6bd5f76-fc72-4710-b01b-04e955d6e303\" class=\"colab-df-container\">\n",
              "    <div>\n",
              "<style scoped>\n",
              "    .dataframe tbody tr th:only-of-type {\n",
              "        vertical-align: middle;\n",
              "    }\n",
              "\n",
              "    .dataframe tbody tr th {\n",
              "        vertical-align: top;\n",
              "    }\n",
              "\n",
              "    .dataframe thead th {\n",
              "        text-align: right;\n",
              "    }\n",
              "</style>\n",
              "<table border=\"1\" class=\"dataframe\">\n",
              "  <thead>\n",
              "    <tr style=\"text-align: right;\">\n",
              "      <th></th>\n",
              "      <th>Missing Values</th>\n",
              "      <th>% of Total Values</th>\n",
              "    </tr>\n",
              "  </thead>\n",
              "  <tbody>\n",
              "    <tr>\n",
              "      <th>Ward</th>\n",
              "      <td>614853</td>\n",
              "      <td>7.7</td>\n",
              "    </tr>\n",
              "    <tr>\n",
              "      <th>Latitude</th>\n",
              "      <td>88365</td>\n",
              "      <td>1.1</td>\n",
              "    </tr>\n",
              "    <tr>\n",
              "      <th>Longitude</th>\n",
              "      <td>88365</td>\n",
              "      <td>1.1</td>\n",
              "    </tr>\n",
              "    <tr>\n",
              "      <th>Location Description</th>\n",
              "      <td>12766</td>\n",
              "      <td>0.2</td>\n",
              "    </tr>\n",
              "    <tr>\n",
              "      <th>District</th>\n",
              "      <td>47</td>\n",
              "      <td>0.0</td>\n",
              "    </tr>\n",
              "  </tbody>\n",
              "</table>\n",
              "</div>\n",
              "    <div class=\"colab-df-buttons\">\n",
              "\n",
              "  <div class=\"colab-df-container\">\n",
              "    <button class=\"colab-df-convert\" onclick=\"convertToInteractive('df-e6bd5f76-fc72-4710-b01b-04e955d6e303')\"\n",
              "            title=\"Convert this dataframe to an interactive table.\"\n",
              "            style=\"display:none;\">\n",
              "\n",
              "  <svg xmlns=\"http://www.w3.org/2000/svg\" height=\"24px\" viewBox=\"0 -960 960 960\">\n",
              "    <path d=\"M120-120v-720h720v720H120Zm60-500h600v-160H180v160Zm220 220h160v-160H400v160Zm0 220h160v-160H400v160ZM180-400h160v-160H180v160Zm440 0h160v-160H620v160ZM180-180h160v-160H180v160Zm440 0h160v-160H620v160Z\"/>\n",
              "  </svg>\n",
              "    </button>\n",
              "\n",
              "  <style>\n",
              "    .colab-df-container {\n",
              "      display:flex;\n",
              "      gap: 12px;\n",
              "    }\n",
              "\n",
              "    .colab-df-convert {\n",
              "      background-color: #E8F0FE;\n",
              "      border: none;\n",
              "      border-radius: 50%;\n",
              "      cursor: pointer;\n",
              "      display: none;\n",
              "      fill: #1967D2;\n",
              "      height: 32px;\n",
              "      padding: 0 0 0 0;\n",
              "      width: 32px;\n",
              "    }\n",
              "\n",
              "    .colab-df-convert:hover {\n",
              "      background-color: #E2EBFA;\n",
              "      box-shadow: 0px 1px 2px rgba(60, 64, 67, 0.3), 0px 1px 3px 1px rgba(60, 64, 67, 0.15);\n",
              "      fill: #174EA6;\n",
              "    }\n",
              "\n",
              "    .colab-df-buttons div {\n",
              "      margin-bottom: 4px;\n",
              "    }\n",
              "\n",
              "    [theme=dark] .colab-df-convert {\n",
              "      background-color: #3B4455;\n",
              "      fill: #D2E3FC;\n",
              "    }\n",
              "\n",
              "    [theme=dark] .colab-df-convert:hover {\n",
              "      background-color: #434B5C;\n",
              "      box-shadow: 0px 1px 3px 1px rgba(0, 0, 0, 0.15);\n",
              "      filter: drop-shadow(0px 1px 2px rgba(0, 0, 0, 0.3));\n",
              "      fill: #FFFFFF;\n",
              "    }\n",
              "  </style>\n",
              "\n",
              "    <script>\n",
              "      const buttonEl =\n",
              "        document.querySelector('#df-e6bd5f76-fc72-4710-b01b-04e955d6e303 button.colab-df-convert');\n",
              "      buttonEl.style.display =\n",
              "        google.colab.kernel.accessAllowed ? 'block' : 'none';\n",
              "\n",
              "      async function convertToInteractive(key) {\n",
              "        const element = document.querySelector('#df-e6bd5f76-fc72-4710-b01b-04e955d6e303');\n",
              "        const dataTable =\n",
              "          await google.colab.kernel.invokeFunction('convertToInteractive',\n",
              "                                                    [key], {});\n",
              "        if (!dataTable) return;\n",
              "\n",
              "        const docLinkHtml = 'Like what you see? Visit the ' +\n",
              "          '<a target=\"_blank\" href=https://colab.research.google.com/notebooks/data_table.ipynb>data table notebook</a>'\n",
              "          + ' to learn more about interactive tables.';\n",
              "        element.innerHTML = '';\n",
              "        dataTable['output_type'] = 'display_data';\n",
              "        await google.colab.output.renderOutput(dataTable, element);\n",
              "        const docLink = document.createElement('div');\n",
              "        docLink.innerHTML = docLinkHtml;\n",
              "        element.appendChild(docLink);\n",
              "      }\n",
              "    </script>\n",
              "  </div>\n",
              "\n",
              "\n",
              "<div id=\"df-cf114fd5-7200-43b7-9f31-76611dddc780\">\n",
              "  <button class=\"colab-df-quickchart\" onclick=\"quickchart('df-cf114fd5-7200-43b7-9f31-76611dddc780')\"\n",
              "            title=\"Suggest charts\"\n",
              "            style=\"display:none;\">\n",
              "\n",
              "<svg xmlns=\"http://www.w3.org/2000/svg\" height=\"24px\"viewBox=\"0 0 24 24\"\n",
              "     width=\"24px\">\n",
              "    <g>\n",
              "        <path d=\"M19 3H5c-1.1 0-2 .9-2 2v14c0 1.1.9 2 2 2h14c1.1 0 2-.9 2-2V5c0-1.1-.9-2-2-2zM9 17H7v-7h2v7zm4 0h-2V7h2v10zm4 0h-2v-4h2v4z\"/>\n",
              "    </g>\n",
              "</svg>\n",
              "  </button>\n",
              "\n",
              "<style>\n",
              "  .colab-df-quickchart {\n",
              "      --bg-color: #E8F0FE;\n",
              "      --fill-color: #1967D2;\n",
              "      --hover-bg-color: #E2EBFA;\n",
              "      --hover-fill-color: #174EA6;\n",
              "      --disabled-fill-color: #AAA;\n",
              "      --disabled-bg-color: #DDD;\n",
              "  }\n",
              "\n",
              "  [theme=dark] .colab-df-quickchart {\n",
              "      --bg-color: #3B4455;\n",
              "      --fill-color: #D2E3FC;\n",
              "      --hover-bg-color: #434B5C;\n",
              "      --hover-fill-color: #FFFFFF;\n",
              "      --disabled-bg-color: #3B4455;\n",
              "      --disabled-fill-color: #666;\n",
              "  }\n",
              "\n",
              "  .colab-df-quickchart {\n",
              "    background-color: var(--bg-color);\n",
              "    border: none;\n",
              "    border-radius: 50%;\n",
              "    cursor: pointer;\n",
              "    display: none;\n",
              "    fill: var(--fill-color);\n",
              "    height: 32px;\n",
              "    padding: 0;\n",
              "    width: 32px;\n",
              "  }\n",
              "\n",
              "  .colab-df-quickchart:hover {\n",
              "    background-color: var(--hover-bg-color);\n",
              "    box-shadow: 0 1px 2px rgba(60, 64, 67, 0.3), 0 1px 3px 1px rgba(60, 64, 67, 0.15);\n",
              "    fill: var(--button-hover-fill-color);\n",
              "  }\n",
              "\n",
              "  .colab-df-quickchart-complete:disabled,\n",
              "  .colab-df-quickchart-complete:disabled:hover {\n",
              "    background-color: var(--disabled-bg-color);\n",
              "    fill: var(--disabled-fill-color);\n",
              "    box-shadow: none;\n",
              "  }\n",
              "\n",
              "  .colab-df-spinner {\n",
              "    border: 2px solid var(--fill-color);\n",
              "    border-color: transparent;\n",
              "    border-bottom-color: var(--fill-color);\n",
              "    animation:\n",
              "      spin 1s steps(1) infinite;\n",
              "  }\n",
              "\n",
              "  @keyframes spin {\n",
              "    0% {\n",
              "      border-color: transparent;\n",
              "      border-bottom-color: var(--fill-color);\n",
              "      border-left-color: var(--fill-color);\n",
              "    }\n",
              "    20% {\n",
              "      border-color: transparent;\n",
              "      border-left-color: var(--fill-color);\n",
              "      border-top-color: var(--fill-color);\n",
              "    }\n",
              "    30% {\n",
              "      border-color: transparent;\n",
              "      border-left-color: var(--fill-color);\n",
              "      border-top-color: var(--fill-color);\n",
              "      border-right-color: var(--fill-color);\n",
              "    }\n",
              "    40% {\n",
              "      border-color: transparent;\n",
              "      border-right-color: var(--fill-color);\n",
              "      border-top-color: var(--fill-color);\n",
              "    }\n",
              "    60% {\n",
              "      border-color: transparent;\n",
              "      border-right-color: var(--fill-color);\n",
              "    }\n",
              "    80% {\n",
              "      border-color: transparent;\n",
              "      border-right-color: var(--fill-color);\n",
              "      border-bottom-color: var(--fill-color);\n",
              "    }\n",
              "    90% {\n",
              "      border-color: transparent;\n",
              "      border-bottom-color: var(--fill-color);\n",
              "    }\n",
              "  }\n",
              "</style>\n",
              "\n",
              "  <script>\n",
              "    async function quickchart(key) {\n",
              "      const quickchartButtonEl =\n",
              "        document.querySelector('#' + key + ' button');\n",
              "      quickchartButtonEl.disabled = true;  // To prevent multiple clicks.\n",
              "      quickchartButtonEl.classList.add('colab-df-spinner');\n",
              "      try {\n",
              "        const charts = await google.colab.kernel.invokeFunction(\n",
              "            'suggestCharts', [key], {});\n",
              "      } catch (error) {\n",
              "        console.error('Error during call to suggestCharts:', error);\n",
              "      }\n",
              "      quickchartButtonEl.classList.remove('colab-df-spinner');\n",
              "      quickchartButtonEl.classList.add('colab-df-quickchart-complete');\n",
              "    }\n",
              "    (() => {\n",
              "      let quickchartButtonEl =\n",
              "        document.querySelector('#df-cf114fd5-7200-43b7-9f31-76611dddc780 button');\n",
              "      quickchartButtonEl.style.display =\n",
              "        google.colab.kernel.accessAllowed ? 'block' : 'none';\n",
              "    })();\n",
              "  </script>\n",
              "</div>\n",
              "\n",
              "    </div>\n",
              "  </div>\n"
            ],
            "application/vnd.google.colaboratory.intrinsic+json": {
              "type": "dataframe",
              "summary": "{\n  \"name\": \"missing_values_table(chicago_crime_df)\",\n  \"rows\": 5,\n  \"fields\": [\n    {\n      \"column\": \"Missing Values\",\n      \"properties\": {\n        \"dtype\": \"number\",\n        \"std\": 257105,\n        \"min\": 47,\n        \"max\": 614853,\n        \"num_unique_values\": 4,\n        \"samples\": [\n          88365,\n          47,\n          614853\n        ],\n        \"semantic_type\": \"\",\n        \"description\": \"\"\n      }\n    },\n    {\n      \"column\": \"% of Total Values\",\n      \"properties\": {\n        \"dtype\": \"number\",\n        \"std\": 3.2151205265121865,\n        \"min\": 0.0,\n        \"max\": 7.7,\n        \"num_unique_values\": 4,\n        \"samples\": [\n          1.1,\n          0.0,\n          7.7\n        ],\n        \"semantic_type\": \"\",\n        \"description\": \"\"\n      }\n    }\n  ]\n}"
            }
          },
          "metadata": {},
          "execution_count": 22
        }
      ],
      "source": [
        "missing_values_table(chicago_crime_df)"
      ]
    },
    {
      "cell_type": "markdown",
      "id": "11015191",
      "metadata": {
        "id": "11015191"
      },
      "source": [
        "- __Handling Missing Case Number__\n",
        "\n",
        "We have one (1) missing Case Number in the entire dataset. We have decided to drop the row where Case Number is missing"
      ]
    },
    {
      "cell_type": "code",
      "execution_count": 23,
      "id": "da982279",
      "metadata": {
        "ExecuteTime": {
          "end_time": "2024-03-22T20:18:56.125456Z",
          "start_time": "2024-03-22T20:18:55.489845Z"
        },
        "id": "da982279"
      },
      "outputs": [],
      "source": [
        "# dropping the missing Case Number column null value\n",
        "chicago_crime_df.dropna(subset=['Case Number'],inplace=True) # i chose to drop this because the percentage NA is insignificant"
      ]
    },
    {
      "cell_type": "code",
      "execution_count": 24,
      "id": "6c06c4b3",
      "metadata": {
        "ExecuteTime": {
          "end_time": "2024-03-22T20:18:57.128877Z",
          "start_time": "2024-03-22T20:18:56.161519Z"
        },
        "colab": {
          "base_uri": "https://localhost:8080/"
        },
        "id": "6c06c4b3",
        "outputId": "61555b7f-8d17-47ee-add9-afff2aa2135f"
      },
      "outputs": [
        {
          "output_type": "execute_result",
          "data": {
            "text/plain": [
              "Case Number                  0\n",
              "Date                         0\n",
              "Primary Type                 0\n",
              "Location Description     12766\n",
              "Arrest                       0\n",
              "Domestic                     0\n",
              "Beat                         0\n",
              "District                    47\n",
              "Ward                    614853\n",
              "Year                         0\n",
              "Latitude                 88365\n",
              "Longitude                88365\n",
              "dtype: int64"
            ]
          },
          "metadata": {},
          "execution_count": 24
        }
      ],
      "source": [
        "chicago_crime_df.isna().sum()"
      ]
    },
    {
      "cell_type": "markdown",
      "id": "302c88b3",
      "metadata": {
        "id": "302c88b3"
      },
      "source": [
        "- __Handling Missing values for the District Column__\n",
        "\n",
        "We have just 12 missing value for the district column which is 0.0% of the entire dataset. We have decided to drop the row where location discription is missing."
      ]
    },
    {
      "cell_type": "code",
      "execution_count": 25,
      "id": "7817faaf",
      "metadata": {
        "ExecuteTime": {
          "end_time": "2024-03-22T20:18:58.079385Z",
          "start_time": "2024-03-22T20:18:57.385454Z"
        },
        "id": "7817faaf"
      },
      "outputs": [],
      "source": [
        "# dropping the missing district column null value\n",
        "chicago_crime_df.dropna(subset=['District'],inplace=True) # i chose to drop this because the percentage NA is insignificant"
      ]
    },
    {
      "cell_type": "code",
      "execution_count": 26,
      "id": "645500d3",
      "metadata": {
        "ExecuteTime": {
          "end_time": "2024-03-22T20:18:58.343278Z",
          "start_time": "2024-03-22T20:18:58.121901Z"
        },
        "scrolled": true,
        "colab": {
          "base_uri": "https://localhost:8080/"
        },
        "id": "645500d3",
        "outputId": "cf60ca68-4d75-4280-f9ab-f77d4d9c9981"
      },
      "outputs": [
        {
          "output_type": "execute_result",
          "data": {
            "text/plain": [
              "<StringArray>\n",
              "[ '1.0', '25.0',  '8.0', '17.0', '22.0',  '6.0', '15.0', '19.0',  '2.0',\n",
              "  '9.0',  '4.0',  '7.0', '12.0', '16.0', '18.0',  '3.0', '10.0', '11.0',\n",
              " '14.0', '24.0',  '5.0', '20.0', '31.0', '21.0']\n",
              "Length: 24, dtype: string"
            ]
          },
          "metadata": {},
          "execution_count": 26
        }
      ],
      "source": [
        "chicago_crime_df.District.unique()"
      ]
    },
    {
      "cell_type": "code",
      "execution_count": 27,
      "id": "5d73551f",
      "metadata": {
        "ExecuteTime": {
          "end_time": "2024-03-22T20:18:59.256545Z",
          "start_time": "2024-03-22T20:18:58.433014Z"
        },
        "colab": {
          "base_uri": "https://localhost:8080/"
        },
        "id": "5d73551f",
        "outputId": "9b402e77-d185-4d6d-caef-f7dd24de5ca9"
      },
      "outputs": [
        {
          "output_type": "execute_result",
          "data": {
            "text/plain": [
              "Case Number                  0\n",
              "Date                         0\n",
              "Primary Type                 0\n",
              "Location Description     12766\n",
              "Arrest                       0\n",
              "Domestic                     0\n",
              "Beat                         0\n",
              "District                     0\n",
              "Ward                    614853\n",
              "Year                         0\n",
              "Latitude                 88365\n",
              "Longitude                88365\n",
              "dtype: int64"
            ]
          },
          "metadata": {},
          "execution_count": 27
        }
      ],
      "source": [
        "chicago_crime_df.isna().sum()"
      ]
    },
    {
      "cell_type": "markdown",
      "id": "b4067f5b",
      "metadata": {
        "id": "b4067f5b"
      },
      "source": [
        "- __Handling Missing values for the ward Column (Using data imputation)__"
      ]
    },
    {
      "cell_type": "code",
      "execution_count": 28,
      "id": "5c66517c",
      "metadata": {
        "ExecuteTime": {
          "end_time": "2024-03-22T20:19:00.829175Z",
          "start_time": "2024-03-22T20:18:59.395751Z"
        },
        "colab": {
          "base_uri": "https://localhost:8080/",
          "height": 210
        },
        "id": "5c66517c",
        "outputId": "849a0ec1-8494-410d-e0c6-11514912cbad"
      },
      "outputs": [
        {
          "output_type": "stream",
          "name": "stdout",
          "text": [
            "Your selected dataframe has 12 columns.\n",
            "There are 4 columns that have missing values.\n"
          ]
        },
        {
          "output_type": "execute_result",
          "data": {
            "text/plain": [
              "                      Missing Values  % of Total Values\n",
              "Ward                          614853                7.7\n",
              "Latitude                       88365                1.1\n",
              "Longitude                      88365                1.1\n",
              "Location Description           12766                0.2"
            ],
            "text/html": [
              "\n",
              "  <div id=\"df-c4477a4e-12dd-414e-9375-1f8734e56a22\" class=\"colab-df-container\">\n",
              "    <div>\n",
              "<style scoped>\n",
              "    .dataframe tbody tr th:only-of-type {\n",
              "        vertical-align: middle;\n",
              "    }\n",
              "\n",
              "    .dataframe tbody tr th {\n",
              "        vertical-align: top;\n",
              "    }\n",
              "\n",
              "    .dataframe thead th {\n",
              "        text-align: right;\n",
              "    }\n",
              "</style>\n",
              "<table border=\"1\" class=\"dataframe\">\n",
              "  <thead>\n",
              "    <tr style=\"text-align: right;\">\n",
              "      <th></th>\n",
              "      <th>Missing Values</th>\n",
              "      <th>% of Total Values</th>\n",
              "    </tr>\n",
              "  </thead>\n",
              "  <tbody>\n",
              "    <tr>\n",
              "      <th>Ward</th>\n",
              "      <td>614853</td>\n",
              "      <td>7.7</td>\n",
              "    </tr>\n",
              "    <tr>\n",
              "      <th>Latitude</th>\n",
              "      <td>88365</td>\n",
              "      <td>1.1</td>\n",
              "    </tr>\n",
              "    <tr>\n",
              "      <th>Longitude</th>\n",
              "      <td>88365</td>\n",
              "      <td>1.1</td>\n",
              "    </tr>\n",
              "    <tr>\n",
              "      <th>Location Description</th>\n",
              "      <td>12766</td>\n",
              "      <td>0.2</td>\n",
              "    </tr>\n",
              "  </tbody>\n",
              "</table>\n",
              "</div>\n",
              "    <div class=\"colab-df-buttons\">\n",
              "\n",
              "  <div class=\"colab-df-container\">\n",
              "    <button class=\"colab-df-convert\" onclick=\"convertToInteractive('df-c4477a4e-12dd-414e-9375-1f8734e56a22')\"\n",
              "            title=\"Convert this dataframe to an interactive table.\"\n",
              "            style=\"display:none;\">\n",
              "\n",
              "  <svg xmlns=\"http://www.w3.org/2000/svg\" height=\"24px\" viewBox=\"0 -960 960 960\">\n",
              "    <path d=\"M120-120v-720h720v720H120Zm60-500h600v-160H180v160Zm220 220h160v-160H400v160Zm0 220h160v-160H400v160ZM180-400h160v-160H180v160Zm440 0h160v-160H620v160ZM180-180h160v-160H180v160Zm440 0h160v-160H620v160Z\"/>\n",
              "  </svg>\n",
              "    </button>\n",
              "\n",
              "  <style>\n",
              "    .colab-df-container {\n",
              "      display:flex;\n",
              "      gap: 12px;\n",
              "    }\n",
              "\n",
              "    .colab-df-convert {\n",
              "      background-color: #E8F0FE;\n",
              "      border: none;\n",
              "      border-radius: 50%;\n",
              "      cursor: pointer;\n",
              "      display: none;\n",
              "      fill: #1967D2;\n",
              "      height: 32px;\n",
              "      padding: 0 0 0 0;\n",
              "      width: 32px;\n",
              "    }\n",
              "\n",
              "    .colab-df-convert:hover {\n",
              "      background-color: #E2EBFA;\n",
              "      box-shadow: 0px 1px 2px rgba(60, 64, 67, 0.3), 0px 1px 3px 1px rgba(60, 64, 67, 0.15);\n",
              "      fill: #174EA6;\n",
              "    }\n",
              "\n",
              "    .colab-df-buttons div {\n",
              "      margin-bottom: 4px;\n",
              "    }\n",
              "\n",
              "    [theme=dark] .colab-df-convert {\n",
              "      background-color: #3B4455;\n",
              "      fill: #D2E3FC;\n",
              "    }\n",
              "\n",
              "    [theme=dark] .colab-df-convert:hover {\n",
              "      background-color: #434B5C;\n",
              "      box-shadow: 0px 1px 3px 1px rgba(0, 0, 0, 0.15);\n",
              "      filter: drop-shadow(0px 1px 2px rgba(0, 0, 0, 0.3));\n",
              "      fill: #FFFFFF;\n",
              "    }\n",
              "  </style>\n",
              "\n",
              "    <script>\n",
              "      const buttonEl =\n",
              "        document.querySelector('#df-c4477a4e-12dd-414e-9375-1f8734e56a22 button.colab-df-convert');\n",
              "      buttonEl.style.display =\n",
              "        google.colab.kernel.accessAllowed ? 'block' : 'none';\n",
              "\n",
              "      async function convertToInteractive(key) {\n",
              "        const element = document.querySelector('#df-c4477a4e-12dd-414e-9375-1f8734e56a22');\n",
              "        const dataTable =\n",
              "          await google.colab.kernel.invokeFunction('convertToInteractive',\n",
              "                                                    [key], {});\n",
              "        if (!dataTable) return;\n",
              "\n",
              "        const docLinkHtml = 'Like what you see? Visit the ' +\n",
              "          '<a target=\"_blank\" href=https://colab.research.google.com/notebooks/data_table.ipynb>data table notebook</a>'\n",
              "          + ' to learn more about interactive tables.';\n",
              "        element.innerHTML = '';\n",
              "        dataTable['output_type'] = 'display_data';\n",
              "        await google.colab.output.renderOutput(dataTable, element);\n",
              "        const docLink = document.createElement('div');\n",
              "        docLink.innerHTML = docLinkHtml;\n",
              "        element.appendChild(docLink);\n",
              "      }\n",
              "    </script>\n",
              "  </div>\n",
              "\n",
              "\n",
              "<div id=\"df-5b784d67-30f2-4631-8144-fe681c8d8557\">\n",
              "  <button class=\"colab-df-quickchart\" onclick=\"quickchart('df-5b784d67-30f2-4631-8144-fe681c8d8557')\"\n",
              "            title=\"Suggest charts\"\n",
              "            style=\"display:none;\">\n",
              "\n",
              "<svg xmlns=\"http://www.w3.org/2000/svg\" height=\"24px\"viewBox=\"0 0 24 24\"\n",
              "     width=\"24px\">\n",
              "    <g>\n",
              "        <path d=\"M19 3H5c-1.1 0-2 .9-2 2v14c0 1.1.9 2 2 2h14c1.1 0 2-.9 2-2V5c0-1.1-.9-2-2-2zM9 17H7v-7h2v7zm4 0h-2V7h2v10zm4 0h-2v-4h2v4z\"/>\n",
              "    </g>\n",
              "</svg>\n",
              "  </button>\n",
              "\n",
              "<style>\n",
              "  .colab-df-quickchart {\n",
              "      --bg-color: #E8F0FE;\n",
              "      --fill-color: #1967D2;\n",
              "      --hover-bg-color: #E2EBFA;\n",
              "      --hover-fill-color: #174EA6;\n",
              "      --disabled-fill-color: #AAA;\n",
              "      --disabled-bg-color: #DDD;\n",
              "  }\n",
              "\n",
              "  [theme=dark] .colab-df-quickchart {\n",
              "      --bg-color: #3B4455;\n",
              "      --fill-color: #D2E3FC;\n",
              "      --hover-bg-color: #434B5C;\n",
              "      --hover-fill-color: #FFFFFF;\n",
              "      --disabled-bg-color: #3B4455;\n",
              "      --disabled-fill-color: #666;\n",
              "  }\n",
              "\n",
              "  .colab-df-quickchart {\n",
              "    background-color: var(--bg-color);\n",
              "    border: none;\n",
              "    border-radius: 50%;\n",
              "    cursor: pointer;\n",
              "    display: none;\n",
              "    fill: var(--fill-color);\n",
              "    height: 32px;\n",
              "    padding: 0;\n",
              "    width: 32px;\n",
              "  }\n",
              "\n",
              "  .colab-df-quickchart:hover {\n",
              "    background-color: var(--hover-bg-color);\n",
              "    box-shadow: 0 1px 2px rgba(60, 64, 67, 0.3), 0 1px 3px 1px rgba(60, 64, 67, 0.15);\n",
              "    fill: var(--button-hover-fill-color);\n",
              "  }\n",
              "\n",
              "  .colab-df-quickchart-complete:disabled,\n",
              "  .colab-df-quickchart-complete:disabled:hover {\n",
              "    background-color: var(--disabled-bg-color);\n",
              "    fill: var(--disabled-fill-color);\n",
              "    box-shadow: none;\n",
              "  }\n",
              "\n",
              "  .colab-df-spinner {\n",
              "    border: 2px solid var(--fill-color);\n",
              "    border-color: transparent;\n",
              "    border-bottom-color: var(--fill-color);\n",
              "    animation:\n",
              "      spin 1s steps(1) infinite;\n",
              "  }\n",
              "\n",
              "  @keyframes spin {\n",
              "    0% {\n",
              "      border-color: transparent;\n",
              "      border-bottom-color: var(--fill-color);\n",
              "      border-left-color: var(--fill-color);\n",
              "    }\n",
              "    20% {\n",
              "      border-color: transparent;\n",
              "      border-left-color: var(--fill-color);\n",
              "      border-top-color: var(--fill-color);\n",
              "    }\n",
              "    30% {\n",
              "      border-color: transparent;\n",
              "      border-left-color: var(--fill-color);\n",
              "      border-top-color: var(--fill-color);\n",
              "      border-right-color: var(--fill-color);\n",
              "    }\n",
              "    40% {\n",
              "      border-color: transparent;\n",
              "      border-right-color: var(--fill-color);\n",
              "      border-top-color: var(--fill-color);\n",
              "    }\n",
              "    60% {\n",
              "      border-color: transparent;\n",
              "      border-right-color: var(--fill-color);\n",
              "    }\n",
              "    80% {\n",
              "      border-color: transparent;\n",
              "      border-right-color: var(--fill-color);\n",
              "      border-bottom-color: var(--fill-color);\n",
              "    }\n",
              "    90% {\n",
              "      border-color: transparent;\n",
              "      border-bottom-color: var(--fill-color);\n",
              "    }\n",
              "  }\n",
              "</style>\n",
              "\n",
              "  <script>\n",
              "    async function quickchart(key) {\n",
              "      const quickchartButtonEl =\n",
              "        document.querySelector('#' + key + ' button');\n",
              "      quickchartButtonEl.disabled = true;  // To prevent multiple clicks.\n",
              "      quickchartButtonEl.classList.add('colab-df-spinner');\n",
              "      try {\n",
              "        const charts = await google.colab.kernel.invokeFunction(\n",
              "            'suggestCharts', [key], {});\n",
              "      } catch (error) {\n",
              "        console.error('Error during call to suggestCharts:', error);\n",
              "      }\n",
              "      quickchartButtonEl.classList.remove('colab-df-spinner');\n",
              "      quickchartButtonEl.classList.add('colab-df-quickchart-complete');\n",
              "    }\n",
              "    (() => {\n",
              "      let quickchartButtonEl =\n",
              "        document.querySelector('#df-5b784d67-30f2-4631-8144-fe681c8d8557 button');\n",
              "      quickchartButtonEl.style.display =\n",
              "        google.colab.kernel.accessAllowed ? 'block' : 'none';\n",
              "    })();\n",
              "  </script>\n",
              "</div>\n",
              "\n",
              "    </div>\n",
              "  </div>\n"
            ],
            "application/vnd.google.colaboratory.intrinsic+json": {
              "type": "dataframe",
              "summary": "{\n  \"name\": \"missing_values_table(chicago_crime_df)\",\n  \"rows\": 4,\n  \"fields\": [\n    {\n      \"column\": \"Missing Values\",\n      \"properties\": {\n        \"dtype\": \"number\",\n        \"std\": 278136,\n        \"min\": 12766,\n        \"max\": 614853,\n        \"num_unique_values\": 3,\n        \"samples\": [\n          614853,\n          88365,\n          12766\n        ],\n        \"semantic_type\": \"\",\n        \"description\": \"\"\n      }\n    },\n    {\n      \"column\": \"% of Total Values\",\n      \"properties\": {\n        \"dtype\": \"number\",\n        \"std\": 3.4759890678769407,\n        \"min\": 0.2,\n        \"max\": 7.7,\n        \"num_unique_values\": 3,\n        \"samples\": [\n          7.7,\n          1.1,\n          0.2\n        ],\n        \"semantic_type\": \"\",\n        \"description\": \"\"\n      }\n    }\n  ]\n}"
            }
          },
          "metadata": {},
          "execution_count": 28
        }
      ],
      "source": [
        "missing_values_table(chicago_crime_df)"
      ]
    },
    {
      "cell_type": "code",
      "execution_count": 29,
      "id": "f6fef0f0",
      "metadata": {
        "ExecuteTime": {
          "end_time": "2024-03-22T20:19:01.060816Z",
          "start_time": "2024-03-22T20:19:00.857192Z"
        },
        "colab": {
          "base_uri": "https://localhost:8080/"
        },
        "id": "f6fef0f0",
        "outputId": "ce00be25-4551-48a3-a52e-2fbe7c69077b"
      },
      "outputs": [
        {
          "output_type": "execute_result",
          "data": {
            "text/plain": [
              "array([42., 36., 15., 33., 21.,  8., 30.,  6., 23., 29., 44.,  3., 11.,\n",
              "        7., 16., nan,  1., 45., 27., 39., 43., 37., 20., 24.,  9.,  2.,\n",
              "       49., 22., 17., 28.,  5., 19., 34., 50.,  4., 10., 14., 46., 26.,\n",
              "       47., 41., 40., 32., 38., 18., 25., 13., 31., 35., 48., 12.])"
            ]
          },
          "metadata": {},
          "execution_count": 29
        }
      ],
      "source": [
        "# checking the unique values of the ward column\n",
        "chicago_crime_df.Ward.unique()"
      ]
    },
    {
      "cell_type": "code",
      "execution_count": 30,
      "id": "a3533e7c",
      "metadata": {
        "ExecuteTime": {
          "end_time": "2024-03-22T20:19:01.138858Z",
          "start_time": "2024-03-22T20:19:01.110469Z"
        },
        "scrolled": true,
        "colab": {
          "base_uri": "https://localhost:8080/"
        },
        "id": "a3533e7c",
        "outputId": "2ffa891b-9b7b-466a-a3a1-518e8ea3f4c4"
      },
      "outputs": [
        {
          "output_type": "execute_result",
          "data": {
            "text/plain": [
              "0          42.0\n",
              "1          36.0\n",
              "2          15.0\n",
              "3          33.0\n",
              "4          21.0\n",
              "           ... \n",
              "8023392    17.0\n",
              "8023393     9.0\n",
              "8023394    24.0\n",
              "8023395    50.0\n",
              "8023396    44.0\n",
              "Name: Ward, Length: 8023350, dtype: float64"
            ]
          },
          "metadata": {},
          "execution_count": 30
        }
      ],
      "source": [
        "chicago_crime_df.Ward"
      ]
    },
    {
      "cell_type": "code",
      "execution_count": 31,
      "id": "d44220f9",
      "metadata": {
        "ExecuteTime": {
          "end_time": "2024-03-22T20:19:01.333295Z",
          "start_time": "2024-03-22T20:19:01.174066Z"
        },
        "id": "d44220f9"
      },
      "outputs": [],
      "source": [
        "# Using ffill(forward fill) to fill missing value in the ward column\n",
        "chicago_crime_df.Ward = chicago_crime_df.Ward.ffill() # Last observed value is carried forward"
      ]
    },
    {
      "cell_type": "code",
      "execution_count": 32,
      "id": "250ffe9f",
      "metadata": {
        "ExecuteTime": {
          "end_time": "2024-03-22T20:19:02.227283Z",
          "start_time": "2024-03-22T20:19:01.461205Z"
        },
        "colab": {
          "base_uri": "https://localhost:8080/"
        },
        "id": "250ffe9f",
        "outputId": "b230f1aa-52e3-4d80-8f2b-a4e2fbdf29e7"
      },
      "outputs": [
        {
          "output_type": "execute_result",
          "data": {
            "text/plain": [
              "Case Number                 0\n",
              "Date                        0\n",
              "Primary Type                0\n",
              "Location Description    12766\n",
              "Arrest                      0\n",
              "Domestic                    0\n",
              "Beat                        0\n",
              "District                    0\n",
              "Ward                        0\n",
              "Year                        0\n",
              "Latitude                88365\n",
              "Longitude               88365\n",
              "dtype: int64"
            ]
          },
          "metadata": {},
          "execution_count": 32
        }
      ],
      "source": [
        "chicago_crime_df.isna().sum()"
      ]
    },
    {
      "cell_type": "markdown",
      "id": "1e1084da",
      "metadata": {
        "id": "1e1084da"
      },
      "source": [
        "- __Handling Missing values for the latitude and Longitude Column__ (Using Assosciation) <br>\n",
        "    - The assumption here is that the latitude and longitude readings are points that show exact location, are closer to eachother within a district. if they are, we can group our data by districts and fill up missing Latitide and longitude values by the median or mode."
      ]
    },
    {
      "cell_type": "code",
      "execution_count": 33,
      "id": "5e9541f2",
      "metadata": {
        "ExecuteTime": {
          "end_time": "2024-03-22T20:19:04.693309Z",
          "start_time": "2024-03-22T20:19:02.552113Z"
        },
        "colab": {
          "base_uri": "https://localhost:8080/"
        },
        "id": "5e9541f2",
        "outputId": "45bce531-d31c-4a6e-8549-4ca9a484617e"
      },
      "outputs": [
        {
          "output_type": "execute_result",
          "data": {
            "text/plain": [
              "District  Longitude   Latitude \n",
              "1.0       -91.686566  36.619446    7\n",
              "          -87.843494  41.987405    1\n",
              "          -87.776059  41.933944    1\n",
              "          -87.761374  41.924040    1\n",
              "          -87.683765  41.783757    1\n",
              "                                  ..\n",
              "9.0       -87.614200  41.831200    1\n",
              "          -87.613592  41.823878    1\n",
              "          -87.613504  41.823880    4\n",
              "          -87.603444  41.825128    1\n",
              "          -87.602820  41.813217    1\n",
              "Length: 903879, dtype: int64"
            ]
          },
          "metadata": {},
          "execution_count": 33
        }
      ],
      "source": [
        "chicago_crime_df.groupby(['District', 'Longitude', 'Latitude']).size()"
      ]
    },
    {
      "cell_type": "markdown",
      "id": "11138dc3",
      "metadata": {
        "id": "11138dc3"
      },
      "source": [
        "There appears to be closeness in longitude and Latitude points when data is grouped based on districts, we can group based on district and fill up by taking the median."
      ]
    },
    {
      "cell_type": "code",
      "execution_count": 34,
      "id": "af6a82c7",
      "metadata": {
        "ExecuteTime": {
          "end_time": "2024-03-22T20:19:07.537450Z",
          "start_time": "2024-03-22T20:19:04.722259Z"
        },
        "id": "af6a82c7"
      },
      "outputs": [],
      "source": [
        "chicago_crime_df['Latitude'] = chicago_crime_df.groupby('District')['Latitude'].transform(lambda x: x.fillna(x.median()))\n",
        "chicago_crime_df['Longitude'] = chicago_crime_df.groupby('District')['Longitude'].transform(lambda x: x.fillna(x.median()))"
      ]
    },
    {
      "cell_type": "code",
      "execution_count": 35,
      "id": "90f0c0e7",
      "metadata": {
        "ExecuteTime": {
          "end_time": "2024-03-22T20:19:08.254793Z",
          "start_time": "2024-03-22T20:19:07.579098Z"
        },
        "colab": {
          "base_uri": "https://localhost:8080/"
        },
        "id": "90f0c0e7",
        "outputId": "c291ebf0-37f0-49c6-c5f1-d0dfe60f8bfb"
      },
      "outputs": [
        {
          "output_type": "execute_result",
          "data": {
            "text/plain": [
              "Case Number                 0\n",
              "Date                        0\n",
              "Primary Type                0\n",
              "Location Description    12766\n",
              "Arrest                      0\n",
              "Domestic                    0\n",
              "Beat                        0\n",
              "District                    0\n",
              "Ward                        0\n",
              "Year                        0\n",
              "Latitude                    0\n",
              "Longitude                   0\n",
              "dtype: int64"
            ]
          },
          "metadata": {},
          "execution_count": 35
        }
      ],
      "source": [
        "chicago_crime_df.isna().sum()"
      ]
    },
    {
      "cell_type": "markdown",
      "id": "2e594257",
      "metadata": {
        "id": "2e594257"
      },
      "source": [
        "- __Handling Missing values for the Location Description__"
      ]
    },
    {
      "cell_type": "markdown",
      "id": "b1f25282",
      "metadata": {
        "ExecuteTime": {
          "end_time": "2024-03-10T09:48:29.963487Z",
          "start_time": "2024-03-10T09:48:28.719078Z"
        },
        "id": "b1f25282"
      },
      "source": [
        "We have just 2877 missing value for the location description which is 0.1% of the entire dataset. We can decide to drop the row where location decription is missing or fill this row with the most crime location."
      ]
    },
    {
      "cell_type": "code",
      "execution_count": 37,
      "id": "b9b2faed",
      "metadata": {
        "ExecuteTime": {
          "end_time": "2024-03-22T20:19:09.121167Z",
          "start_time": "2024-03-22T20:19:08.286751Z"
        },
        "scrolled": true,
        "colab": {
          "base_uri": "https://localhost:8080/"
        },
        "id": "b9b2faed",
        "outputId": "de769c84-8884-4586-ee64-d802c49007f9"
      },
      "outputs": [
        {
          "output_type": "execute_result",
          "data": {
            "text/plain": [
              "District  Location Description                                 \n",
              "1.0       ABANDONED BUILDING                                         75\n",
              "          AIRCRAFT                                                    1\n",
              "          AIRPORT BUILDING NON-TERMINAL - NON-SECURE AREA             1\n",
              "          AIRPORT BUILDING NON-TERMINAL - SECURE AREA                 1\n",
              "          AIRPORT PARKING LOT                                         3\n",
              "                                                                   ... \n",
              "9.0       VEHICLE - OTHER RIDE SHARE SERVICE (LYFT, UBER, ETC.)      11\n",
              "          VEHICLE NON-COMMERCIAL                                   5819\n",
              "          VEHICLE-COMMERCIAL                                        311\n",
              "          WAREHOUSE                                                1330\n",
              "          YARD                                                       16\n",
              "Length: 3377, dtype: int64"
            ]
          },
          "metadata": {},
          "execution_count": 37
        }
      ],
      "source": [
        "chicago_crime_df.groupby(['District','Location Description']).size()"
      ]
    },
    {
      "cell_type": "code",
      "execution_count": 38,
      "id": "24f97b68",
      "metadata": {
        "ExecuteTime": {
          "end_time": "2024-03-22T20:19:09.832829Z",
          "start_time": "2024-03-22T20:19:09.148839Z"
        },
        "id": "24f97b68"
      },
      "outputs": [],
      "source": [
        "# dropping the missing location description index row\n",
        "chicago_crime_df.dropna(subset=['Location Description'],inplace=True)"
      ]
    },
    {
      "cell_type": "code",
      "execution_count": 39,
      "id": "55fd2665",
      "metadata": {
        "ExecuteTime": {
          "end_time": "2024-03-22T20:19:10.616719Z",
          "start_time": "2024-03-22T20:19:09.859138Z"
        },
        "scrolled": true,
        "colab": {
          "base_uri": "https://localhost:8080/"
        },
        "id": "55fd2665",
        "outputId": "515fd776-1521-45ec-9688-3462dcd3a978"
      },
      "outputs": [
        {
          "output_type": "execute_result",
          "data": {
            "text/plain": [
              "Case Number             0\n",
              "Date                    0\n",
              "Primary Type            0\n",
              "Location Description    0\n",
              "Arrest                  0\n",
              "Domestic                0\n",
              "Beat                    0\n",
              "District                0\n",
              "Ward                    0\n",
              "Year                    0\n",
              "Latitude                0\n",
              "Longitude               0\n",
              "dtype: int64"
            ]
          },
          "metadata": {},
          "execution_count": 39
        }
      ],
      "source": [
        "chicago_crime_df.isna().sum()"
      ]
    },
    {
      "cell_type": "markdown",
      "id": "cb3d6c5b",
      "metadata": {
        "id": "cb3d6c5b"
      },
      "source": [
        "# 4. EDA: Data Exploration"
      ]
    },
    {
      "cell_type": "code",
      "execution_count": null,
      "id": "8164ca5d",
      "metadata": {
        "id": "8164ca5d"
      },
      "outputs": [],
      "source": []
    },
    {
      "cell_type": "code",
      "execution_count": 40,
      "id": "dfc02e1c",
      "metadata": {
        "ExecuteTime": {
          "end_time": "2024-03-22T20:19:11.025614Z",
          "start_time": "2024-03-22T20:19:10.642243Z"
        },
        "id": "dfc02e1c"
      },
      "outputs": [],
      "source": [
        "# create a copy of the dataframe to avoid conflict\n",
        "c_crime_df = chicago_crime_df.copy()"
      ]
    },
    {
      "cell_type": "markdown",
      "id": "a00848fb",
      "metadata": {
        "ExecuteTime": {
          "end_time": "2024-03-21T17:26:55.994165Z",
          "start_time": "2024-03-21T17:26:55.676084Z"
        },
        "id": "a00848fb"
      },
      "source": [
        "1. Total Number of cases"
      ]
    },
    {
      "cell_type": "code",
      "execution_count": 41,
      "id": "fd0c282b",
      "metadata": {
        "ExecuteTime": {
          "end_time": "2024-03-22T20:19:12.196137Z",
          "start_time": "2024-03-22T20:19:11.068664Z"
        },
        "colab": {
          "base_uri": "https://localhost:8080/"
        },
        "id": "fd0c282b",
        "outputId": "3a682a5c-9d11-4d29-c0df-b93da8746994"
      },
      "outputs": [
        {
          "output_type": "stream",
          "name": "stdout",
          "text": [
            "Out of 8010584: 8010021 are unique case numbers\n"
          ]
        }
      ],
      "source": [
        "# Number of Unique Case Number.\n",
        "\n",
        "print(f\"Out of {len(c_crime_df)}: {len(c_crime_df['Case Number'].unique())} are unique case numbers\")"
      ]
    },
    {
      "cell_type": "markdown",
      "id": "90f03909",
      "metadata": {
        "id": "90f03909"
      },
      "source": [
        "Observation: Most case numbers are unique case numbers."
      ]
    },
    {
      "cell_type": "markdown",
      "id": "c61bc9c8",
      "metadata": {
        "id": "c61bc9c8"
      },
      "source": [
        "Number of Non-Unique cases"
      ]
    },
    {
      "cell_type": "code",
      "execution_count": 42,
      "id": "1795f5f4",
      "metadata": {
        "ExecuteTime": {
          "end_time": "2024-03-22T20:19:14.629126Z",
          "start_time": "2024-03-22T20:19:12.372926Z"
        },
        "colab": {
          "base_uri": "https://localhost:8080/"
        },
        "id": "1795f5f4",
        "outputId": "7c710239-e362-4576-c1d1-a3b6744f7b7e"
      },
      "outputs": [
        {
          "output_type": "stream",
          "name": "stdout",
          "text": [
            "Length of non_unique: 1033 out of 8010584\n"
          ]
        }
      ],
      "source": [
        "# Out of all cases , how many are non_unique cases ?\n",
        "\n",
        "non_unique_case_number = c_crime_df[c_crime_df.duplicated('Case Number') | c_crime_df.duplicated('Case Number', keep=False)]['Case Number'].tolist()\n",
        "\n",
        "print(f\"Length of non_unique: {len(non_unique_case_number)} out of {len(c_crime_df)}\")"
      ]
    },
    {
      "cell_type": "code",
      "execution_count": 43,
      "id": "4a4214b0",
      "metadata": {
        "ExecuteTime": {
          "end_time": "2024-03-22T20:20:10.194368Z",
          "start_time": "2024-03-22T20:20:08.953864Z"
        },
        "colab": {
          "base_uri": "https://localhost:8080/",
          "height": 206
        },
        "id": "4a4214b0",
        "outputId": "00c07bcc-e4cc-4cd1-8673-9ce65d48d613"
      },
      "outputs": [
        {
          "output_type": "execute_result",
          "data": {
            "text/plain": [
              "       Case Number                    Date Primary Type Location Description  \\\n",
              "109389    JG446325  10/01/2023 02:25:00 PM     HOMICIDE               STREET   \n",
              "109901    JG446325  10/01/2023 03:43:00 PM     HOMICIDE               STREET   \n",
              "123912    JG453003  10/06/2023 02:41:00 AM     HOMICIDE            APARTMENT   \n",
              "124102    JG453003  10/06/2023 02:40:00 AM     HOMICIDE            APARTMENT   \n",
              "126144    JG456963  10/09/2023 03:02:00 PM     HOMICIDE         RETAIL STORE   \n",
              "\n",
              "        Arrest  Domestic  Beat District  Ward  Year   Latitude  Longitude  \n",
              "109389   False     False  1124     11.0  28.0  2023  41.880356 -87.702033  \n",
              "109901   False     False  1124     11.0  28.0  2023  41.880356 -87.702033  \n",
              "123912   False      True   932      9.0  16.0  2023  41.795815 -87.671152  \n",
              "124102   False      True   932      9.0  16.0  2023  41.795815 -87.671152  \n",
              "126144   False     False   714      7.0  16.0  2023  41.780352 -87.664242  "
            ],
            "text/html": [
              "\n",
              "  <div id=\"df-12c90208-a60a-437f-afc1-95cfa0bf6486\" class=\"colab-df-container\">\n",
              "    <div>\n",
              "<style scoped>\n",
              "    .dataframe tbody tr th:only-of-type {\n",
              "        vertical-align: middle;\n",
              "    }\n",
              "\n",
              "    .dataframe tbody tr th {\n",
              "        vertical-align: top;\n",
              "    }\n",
              "\n",
              "    .dataframe thead th {\n",
              "        text-align: right;\n",
              "    }\n",
              "</style>\n",
              "<table border=\"1\" class=\"dataframe\">\n",
              "  <thead>\n",
              "    <tr style=\"text-align: right;\">\n",
              "      <th></th>\n",
              "      <th>Case Number</th>\n",
              "      <th>Date</th>\n",
              "      <th>Primary Type</th>\n",
              "      <th>Location Description</th>\n",
              "      <th>Arrest</th>\n",
              "      <th>Domestic</th>\n",
              "      <th>Beat</th>\n",
              "      <th>District</th>\n",
              "      <th>Ward</th>\n",
              "      <th>Year</th>\n",
              "      <th>Latitude</th>\n",
              "      <th>Longitude</th>\n",
              "    </tr>\n",
              "  </thead>\n",
              "  <tbody>\n",
              "    <tr>\n",
              "      <th>109389</th>\n",
              "      <td>JG446325</td>\n",
              "      <td>10/01/2023 02:25:00 PM</td>\n",
              "      <td>HOMICIDE</td>\n",
              "      <td>STREET</td>\n",
              "      <td>False</td>\n",
              "      <td>False</td>\n",
              "      <td>1124</td>\n",
              "      <td>11.0</td>\n",
              "      <td>28.0</td>\n",
              "      <td>2023</td>\n",
              "      <td>41.880356</td>\n",
              "      <td>-87.702033</td>\n",
              "    </tr>\n",
              "    <tr>\n",
              "      <th>109901</th>\n",
              "      <td>JG446325</td>\n",
              "      <td>10/01/2023 03:43:00 PM</td>\n",
              "      <td>HOMICIDE</td>\n",
              "      <td>STREET</td>\n",
              "      <td>False</td>\n",
              "      <td>False</td>\n",
              "      <td>1124</td>\n",
              "      <td>11.0</td>\n",
              "      <td>28.0</td>\n",
              "      <td>2023</td>\n",
              "      <td>41.880356</td>\n",
              "      <td>-87.702033</td>\n",
              "    </tr>\n",
              "    <tr>\n",
              "      <th>123912</th>\n",
              "      <td>JG453003</td>\n",
              "      <td>10/06/2023 02:41:00 AM</td>\n",
              "      <td>HOMICIDE</td>\n",
              "      <td>APARTMENT</td>\n",
              "      <td>False</td>\n",
              "      <td>True</td>\n",
              "      <td>932</td>\n",
              "      <td>9.0</td>\n",
              "      <td>16.0</td>\n",
              "      <td>2023</td>\n",
              "      <td>41.795815</td>\n",
              "      <td>-87.671152</td>\n",
              "    </tr>\n",
              "    <tr>\n",
              "      <th>124102</th>\n",
              "      <td>JG453003</td>\n",
              "      <td>10/06/2023 02:40:00 AM</td>\n",
              "      <td>HOMICIDE</td>\n",
              "      <td>APARTMENT</td>\n",
              "      <td>False</td>\n",
              "      <td>True</td>\n",
              "      <td>932</td>\n",
              "      <td>9.0</td>\n",
              "      <td>16.0</td>\n",
              "      <td>2023</td>\n",
              "      <td>41.795815</td>\n",
              "      <td>-87.671152</td>\n",
              "    </tr>\n",
              "    <tr>\n",
              "      <th>126144</th>\n",
              "      <td>JG456963</td>\n",
              "      <td>10/09/2023 03:02:00 PM</td>\n",
              "      <td>HOMICIDE</td>\n",
              "      <td>RETAIL STORE</td>\n",
              "      <td>False</td>\n",
              "      <td>False</td>\n",
              "      <td>714</td>\n",
              "      <td>7.0</td>\n",
              "      <td>16.0</td>\n",
              "      <td>2023</td>\n",
              "      <td>41.780352</td>\n",
              "      <td>-87.664242</td>\n",
              "    </tr>\n",
              "  </tbody>\n",
              "</table>\n",
              "</div>\n",
              "    <div class=\"colab-df-buttons\">\n",
              "\n",
              "  <div class=\"colab-df-container\">\n",
              "    <button class=\"colab-df-convert\" onclick=\"convertToInteractive('df-12c90208-a60a-437f-afc1-95cfa0bf6486')\"\n",
              "            title=\"Convert this dataframe to an interactive table.\"\n",
              "            style=\"display:none;\">\n",
              "\n",
              "  <svg xmlns=\"http://www.w3.org/2000/svg\" height=\"24px\" viewBox=\"0 -960 960 960\">\n",
              "    <path d=\"M120-120v-720h720v720H120Zm60-500h600v-160H180v160Zm220 220h160v-160H400v160Zm0 220h160v-160H400v160ZM180-400h160v-160H180v160Zm440 0h160v-160H620v160ZM180-180h160v-160H180v160Zm440 0h160v-160H620v160Z\"/>\n",
              "  </svg>\n",
              "    </button>\n",
              "\n",
              "  <style>\n",
              "    .colab-df-container {\n",
              "      display:flex;\n",
              "      gap: 12px;\n",
              "    }\n",
              "\n",
              "    .colab-df-convert {\n",
              "      background-color: #E8F0FE;\n",
              "      border: none;\n",
              "      border-radius: 50%;\n",
              "      cursor: pointer;\n",
              "      display: none;\n",
              "      fill: #1967D2;\n",
              "      height: 32px;\n",
              "      padding: 0 0 0 0;\n",
              "      width: 32px;\n",
              "    }\n",
              "\n",
              "    .colab-df-convert:hover {\n",
              "      background-color: #E2EBFA;\n",
              "      box-shadow: 0px 1px 2px rgba(60, 64, 67, 0.3), 0px 1px 3px 1px rgba(60, 64, 67, 0.15);\n",
              "      fill: #174EA6;\n",
              "    }\n",
              "\n",
              "    .colab-df-buttons div {\n",
              "      margin-bottom: 4px;\n",
              "    }\n",
              "\n",
              "    [theme=dark] .colab-df-convert {\n",
              "      background-color: #3B4455;\n",
              "      fill: #D2E3FC;\n",
              "    }\n",
              "\n",
              "    [theme=dark] .colab-df-convert:hover {\n",
              "      background-color: #434B5C;\n",
              "      box-shadow: 0px 1px 3px 1px rgba(0, 0, 0, 0.15);\n",
              "      filter: drop-shadow(0px 1px 2px rgba(0, 0, 0, 0.3));\n",
              "      fill: #FFFFFF;\n",
              "    }\n",
              "  </style>\n",
              "\n",
              "    <script>\n",
              "      const buttonEl =\n",
              "        document.querySelector('#df-12c90208-a60a-437f-afc1-95cfa0bf6486 button.colab-df-convert');\n",
              "      buttonEl.style.display =\n",
              "        google.colab.kernel.accessAllowed ? 'block' : 'none';\n",
              "\n",
              "      async function convertToInteractive(key) {\n",
              "        const element = document.querySelector('#df-12c90208-a60a-437f-afc1-95cfa0bf6486');\n",
              "        const dataTable =\n",
              "          await google.colab.kernel.invokeFunction('convertToInteractive',\n",
              "                                                    [key], {});\n",
              "        if (!dataTable) return;\n",
              "\n",
              "        const docLinkHtml = 'Like what you see? Visit the ' +\n",
              "          '<a target=\"_blank\" href=https://colab.research.google.com/notebooks/data_table.ipynb>data table notebook</a>'\n",
              "          + ' to learn more about interactive tables.';\n",
              "        element.innerHTML = '';\n",
              "        dataTable['output_type'] = 'display_data';\n",
              "        await google.colab.output.renderOutput(dataTable, element);\n",
              "        const docLink = document.createElement('div');\n",
              "        docLink.innerHTML = docLinkHtml;\n",
              "        element.appendChild(docLink);\n",
              "      }\n",
              "    </script>\n",
              "  </div>\n",
              "\n",
              "\n",
              "<div id=\"df-0d10a54a-bc6e-4625-9255-9cfaf19308cf\">\n",
              "  <button class=\"colab-df-quickchart\" onclick=\"quickchart('df-0d10a54a-bc6e-4625-9255-9cfaf19308cf')\"\n",
              "            title=\"Suggest charts\"\n",
              "            style=\"display:none;\">\n",
              "\n",
              "<svg xmlns=\"http://www.w3.org/2000/svg\" height=\"24px\"viewBox=\"0 0 24 24\"\n",
              "     width=\"24px\">\n",
              "    <g>\n",
              "        <path d=\"M19 3H5c-1.1 0-2 .9-2 2v14c0 1.1.9 2 2 2h14c1.1 0 2-.9 2-2V5c0-1.1-.9-2-2-2zM9 17H7v-7h2v7zm4 0h-2V7h2v10zm4 0h-2v-4h2v4z\"/>\n",
              "    </g>\n",
              "</svg>\n",
              "  </button>\n",
              "\n",
              "<style>\n",
              "  .colab-df-quickchart {\n",
              "      --bg-color: #E8F0FE;\n",
              "      --fill-color: #1967D2;\n",
              "      --hover-bg-color: #E2EBFA;\n",
              "      --hover-fill-color: #174EA6;\n",
              "      --disabled-fill-color: #AAA;\n",
              "      --disabled-bg-color: #DDD;\n",
              "  }\n",
              "\n",
              "  [theme=dark] .colab-df-quickchart {\n",
              "      --bg-color: #3B4455;\n",
              "      --fill-color: #D2E3FC;\n",
              "      --hover-bg-color: #434B5C;\n",
              "      --hover-fill-color: #FFFFFF;\n",
              "      --disabled-bg-color: #3B4455;\n",
              "      --disabled-fill-color: #666;\n",
              "  }\n",
              "\n",
              "  .colab-df-quickchart {\n",
              "    background-color: var(--bg-color);\n",
              "    border: none;\n",
              "    border-radius: 50%;\n",
              "    cursor: pointer;\n",
              "    display: none;\n",
              "    fill: var(--fill-color);\n",
              "    height: 32px;\n",
              "    padding: 0;\n",
              "    width: 32px;\n",
              "  }\n",
              "\n",
              "  .colab-df-quickchart:hover {\n",
              "    background-color: var(--hover-bg-color);\n",
              "    box-shadow: 0 1px 2px rgba(60, 64, 67, 0.3), 0 1px 3px 1px rgba(60, 64, 67, 0.15);\n",
              "    fill: var(--button-hover-fill-color);\n",
              "  }\n",
              "\n",
              "  .colab-df-quickchart-complete:disabled,\n",
              "  .colab-df-quickchart-complete:disabled:hover {\n",
              "    background-color: var(--disabled-bg-color);\n",
              "    fill: var(--disabled-fill-color);\n",
              "    box-shadow: none;\n",
              "  }\n",
              "\n",
              "  .colab-df-spinner {\n",
              "    border: 2px solid var(--fill-color);\n",
              "    border-color: transparent;\n",
              "    border-bottom-color: var(--fill-color);\n",
              "    animation:\n",
              "      spin 1s steps(1) infinite;\n",
              "  }\n",
              "\n",
              "  @keyframes spin {\n",
              "    0% {\n",
              "      border-color: transparent;\n",
              "      border-bottom-color: var(--fill-color);\n",
              "      border-left-color: var(--fill-color);\n",
              "    }\n",
              "    20% {\n",
              "      border-color: transparent;\n",
              "      border-left-color: var(--fill-color);\n",
              "      border-top-color: var(--fill-color);\n",
              "    }\n",
              "    30% {\n",
              "      border-color: transparent;\n",
              "      border-left-color: var(--fill-color);\n",
              "      border-top-color: var(--fill-color);\n",
              "      border-right-color: var(--fill-color);\n",
              "    }\n",
              "    40% {\n",
              "      border-color: transparent;\n",
              "      border-right-color: var(--fill-color);\n",
              "      border-top-color: var(--fill-color);\n",
              "    }\n",
              "    60% {\n",
              "      border-color: transparent;\n",
              "      border-right-color: var(--fill-color);\n",
              "    }\n",
              "    80% {\n",
              "      border-color: transparent;\n",
              "      border-right-color: var(--fill-color);\n",
              "      border-bottom-color: var(--fill-color);\n",
              "    }\n",
              "    90% {\n",
              "      border-color: transparent;\n",
              "      border-bottom-color: var(--fill-color);\n",
              "    }\n",
              "  }\n",
              "</style>\n",
              "\n",
              "  <script>\n",
              "    async function quickchart(key) {\n",
              "      const quickchartButtonEl =\n",
              "        document.querySelector('#' + key + ' button');\n",
              "      quickchartButtonEl.disabled = true;  // To prevent multiple clicks.\n",
              "      quickchartButtonEl.classList.add('colab-df-spinner');\n",
              "      try {\n",
              "        const charts = await google.colab.kernel.invokeFunction(\n",
              "            'suggestCharts', [key], {});\n",
              "      } catch (error) {\n",
              "        console.error('Error during call to suggestCharts:', error);\n",
              "      }\n",
              "      quickchartButtonEl.classList.remove('colab-df-spinner');\n",
              "      quickchartButtonEl.classList.add('colab-df-quickchart-complete');\n",
              "    }\n",
              "    (() => {\n",
              "      let quickchartButtonEl =\n",
              "        document.querySelector('#df-0d10a54a-bc6e-4625-9255-9cfaf19308cf button');\n",
              "      quickchartButtonEl.style.display =\n",
              "        google.colab.kernel.accessAllowed ? 'block' : 'none';\n",
              "    })();\n",
              "  </script>\n",
              "</div>\n",
              "\n",
              "    </div>\n",
              "  </div>\n"
            ],
            "application/vnd.google.colaboratory.intrinsic+json": {
              "type": "dataframe",
              "variable_name": "non_unique_case_number_df",
              "repr_error": "0"
            }
          },
          "metadata": {},
          "execution_count": 43
        }
      ],
      "source": [
        "non_unique_case_number_df = c_crime_df[c_crime_df.duplicated('Case Number', keep=False)]\n",
        "non_unique_case_number_df.head() # Saving non_unique case number dataframe for future use."
      ]
    },
    {
      "cell_type": "markdown",
      "id": "1b54426f",
      "metadata": {
        "id": "1b54426f"
      },
      "source": [
        "Observation: There are 2275789 unique values of case number out of 2275836 , it means there are 2275789 cases registered with a single crime the rest 92 are the case numbers which have commited multiple crimes."
      ]
    },
    {
      "cell_type": "markdown",
      "id": "9c4a605d",
      "metadata": {
        "id": "9c4a605d"
      },
      "source": [
        "2. Top 10 - Number of cases each day"
      ]
    },
    {
      "cell_type": "code",
      "execution_count": 44,
      "id": "6ce8dcc6",
      "metadata": {
        "ExecuteTime": {
          "end_time": "2024-03-22T20:20:15.651076Z",
          "start_time": "2024-03-22T20:20:12.816810Z"
        },
        "id": "6ce8dcc6"
      },
      "outputs": [],
      "source": [
        "# Function to convert Date from \"DD/MM/YYYY HH:MM:SS\" to \"DD/MM/YYYY\"\n",
        "\n",
        "def date_column(df) :\n",
        "    date_list = []\n",
        "    for i in df['Date'] :\n",
        "        date_spliter = i.split()[0]\n",
        "        date_list.append(date_spliter)\n",
        "    return date_list\n",
        "date_column(c_crime_df)\n",
        "\n",
        "\n",
        "c_crime_df['date'] = date_column(c_crime_df)"
      ]
    },
    {
      "cell_type": "code",
      "execution_count": 45,
      "id": "f21f7bf1",
      "metadata": {
        "ExecuteTime": {
          "end_time": "2024-03-22T20:20:21.146254Z",
          "start_time": "2024-03-22T20:20:20.549459Z"
        },
        "colab": {
          "base_uri": "https://localhost:8080/",
          "height": 394
        },
        "id": "f21f7bf1",
        "outputId": "be75ad6a-178e-4059-b52e-f0d17a5d9ca5"
      },
      "outputs": [
        {
          "output_type": "execute_result",
          "data": {
            "text/plain": [
              "                   date\n",
              "no_of_cases            \n",
              "2033         01/01/2003\n",
              "1978         01/01/2005\n",
              "1962         01/01/2007\n",
              "1918         01/01/2006\n",
              "1896         01/01/2004\n",
              "1884         05/31/2020\n",
              "1873         01/01/2002\n",
              "1836         01/01/2009\n",
              "1828         01/01/2001\n",
              "1828         01/01/2008"
            ],
            "text/html": [
              "\n",
              "  <div id=\"df-c871b381-9787-4ab6-a140-d83d30affd62\" class=\"colab-df-container\">\n",
              "    <div>\n",
              "<style scoped>\n",
              "    .dataframe tbody tr th:only-of-type {\n",
              "        vertical-align: middle;\n",
              "    }\n",
              "\n",
              "    .dataframe tbody tr th {\n",
              "        vertical-align: top;\n",
              "    }\n",
              "\n",
              "    .dataframe thead th {\n",
              "        text-align: right;\n",
              "    }\n",
              "</style>\n",
              "<table border=\"1\" class=\"dataframe\">\n",
              "  <thead>\n",
              "    <tr style=\"text-align: right;\">\n",
              "      <th></th>\n",
              "      <th>date</th>\n",
              "    </tr>\n",
              "    <tr>\n",
              "      <th>no_of_cases</th>\n",
              "      <th></th>\n",
              "    </tr>\n",
              "  </thead>\n",
              "  <tbody>\n",
              "    <tr>\n",
              "      <th>2033</th>\n",
              "      <td>01/01/2003</td>\n",
              "    </tr>\n",
              "    <tr>\n",
              "      <th>1978</th>\n",
              "      <td>01/01/2005</td>\n",
              "    </tr>\n",
              "    <tr>\n",
              "      <th>1962</th>\n",
              "      <td>01/01/2007</td>\n",
              "    </tr>\n",
              "    <tr>\n",
              "      <th>1918</th>\n",
              "      <td>01/01/2006</td>\n",
              "    </tr>\n",
              "    <tr>\n",
              "      <th>1896</th>\n",
              "      <td>01/01/2004</td>\n",
              "    </tr>\n",
              "    <tr>\n",
              "      <th>1884</th>\n",
              "      <td>05/31/2020</td>\n",
              "    </tr>\n",
              "    <tr>\n",
              "      <th>1873</th>\n",
              "      <td>01/01/2002</td>\n",
              "    </tr>\n",
              "    <tr>\n",
              "      <th>1836</th>\n",
              "      <td>01/01/2009</td>\n",
              "    </tr>\n",
              "    <tr>\n",
              "      <th>1828</th>\n",
              "      <td>01/01/2001</td>\n",
              "    </tr>\n",
              "    <tr>\n",
              "      <th>1828</th>\n",
              "      <td>01/01/2008</td>\n",
              "    </tr>\n",
              "  </tbody>\n",
              "</table>\n",
              "</div>\n",
              "    <div class=\"colab-df-buttons\">\n",
              "\n",
              "  <div class=\"colab-df-container\">\n",
              "    <button class=\"colab-df-convert\" onclick=\"convertToInteractive('df-c871b381-9787-4ab6-a140-d83d30affd62')\"\n",
              "            title=\"Convert this dataframe to an interactive table.\"\n",
              "            style=\"display:none;\">\n",
              "\n",
              "  <svg xmlns=\"http://www.w3.org/2000/svg\" height=\"24px\" viewBox=\"0 -960 960 960\">\n",
              "    <path d=\"M120-120v-720h720v720H120Zm60-500h600v-160H180v160Zm220 220h160v-160H400v160Zm0 220h160v-160H400v160ZM180-400h160v-160H180v160Zm440 0h160v-160H620v160ZM180-180h160v-160H180v160Zm440 0h160v-160H620v160Z\"/>\n",
              "  </svg>\n",
              "    </button>\n",
              "\n",
              "  <style>\n",
              "    .colab-df-container {\n",
              "      display:flex;\n",
              "      gap: 12px;\n",
              "    }\n",
              "\n",
              "    .colab-df-convert {\n",
              "      background-color: #E8F0FE;\n",
              "      border: none;\n",
              "      border-radius: 50%;\n",
              "      cursor: pointer;\n",
              "      display: none;\n",
              "      fill: #1967D2;\n",
              "      height: 32px;\n",
              "      padding: 0 0 0 0;\n",
              "      width: 32px;\n",
              "    }\n",
              "\n",
              "    .colab-df-convert:hover {\n",
              "      background-color: #E2EBFA;\n",
              "      box-shadow: 0px 1px 2px rgba(60, 64, 67, 0.3), 0px 1px 3px 1px rgba(60, 64, 67, 0.15);\n",
              "      fill: #174EA6;\n",
              "    }\n",
              "\n",
              "    .colab-df-buttons div {\n",
              "      margin-bottom: 4px;\n",
              "    }\n",
              "\n",
              "    [theme=dark] .colab-df-convert {\n",
              "      background-color: #3B4455;\n",
              "      fill: #D2E3FC;\n",
              "    }\n",
              "\n",
              "    [theme=dark] .colab-df-convert:hover {\n",
              "      background-color: #434B5C;\n",
              "      box-shadow: 0px 1px 3px 1px rgba(0, 0, 0, 0.15);\n",
              "      filter: drop-shadow(0px 1px 2px rgba(0, 0, 0, 0.3));\n",
              "      fill: #FFFFFF;\n",
              "    }\n",
              "  </style>\n",
              "\n",
              "    <script>\n",
              "      const buttonEl =\n",
              "        document.querySelector('#df-c871b381-9787-4ab6-a140-d83d30affd62 button.colab-df-convert');\n",
              "      buttonEl.style.display =\n",
              "        google.colab.kernel.accessAllowed ? 'block' : 'none';\n",
              "\n",
              "      async function convertToInteractive(key) {\n",
              "        const element = document.querySelector('#df-c871b381-9787-4ab6-a140-d83d30affd62');\n",
              "        const dataTable =\n",
              "          await google.colab.kernel.invokeFunction('convertToInteractive',\n",
              "                                                    [key], {});\n",
              "        if (!dataTable) return;\n",
              "\n",
              "        const docLinkHtml = 'Like what you see? Visit the ' +\n",
              "          '<a target=\"_blank\" href=https://colab.research.google.com/notebooks/data_table.ipynb>data table notebook</a>'\n",
              "          + ' to learn more about interactive tables.';\n",
              "        element.innerHTML = '';\n",
              "        dataTable['output_type'] = 'display_data';\n",
              "        await google.colab.output.renderOutput(dataTable, element);\n",
              "        const docLink = document.createElement('div');\n",
              "        docLink.innerHTML = docLinkHtml;\n",
              "        element.appendChild(docLink);\n",
              "      }\n",
              "    </script>\n",
              "  </div>\n",
              "\n",
              "\n",
              "<div id=\"df-931b069d-bff4-4336-8859-92bed084371c\">\n",
              "  <button class=\"colab-df-quickchart\" onclick=\"quickchart('df-931b069d-bff4-4336-8859-92bed084371c')\"\n",
              "            title=\"Suggest charts\"\n",
              "            style=\"display:none;\">\n",
              "\n",
              "<svg xmlns=\"http://www.w3.org/2000/svg\" height=\"24px\"viewBox=\"0 0 24 24\"\n",
              "     width=\"24px\">\n",
              "    <g>\n",
              "        <path d=\"M19 3H5c-1.1 0-2 .9-2 2v14c0 1.1.9 2 2 2h14c1.1 0 2-.9 2-2V5c0-1.1-.9-2-2-2zM9 17H7v-7h2v7zm4 0h-2V7h2v10zm4 0h-2v-4h2v4z\"/>\n",
              "    </g>\n",
              "</svg>\n",
              "  </button>\n",
              "\n",
              "<style>\n",
              "  .colab-df-quickchart {\n",
              "      --bg-color: #E8F0FE;\n",
              "      --fill-color: #1967D2;\n",
              "      --hover-bg-color: #E2EBFA;\n",
              "      --hover-fill-color: #174EA6;\n",
              "      --disabled-fill-color: #AAA;\n",
              "      --disabled-bg-color: #DDD;\n",
              "  }\n",
              "\n",
              "  [theme=dark] .colab-df-quickchart {\n",
              "      --bg-color: #3B4455;\n",
              "      --fill-color: #D2E3FC;\n",
              "      --hover-bg-color: #434B5C;\n",
              "      --hover-fill-color: #FFFFFF;\n",
              "      --disabled-bg-color: #3B4455;\n",
              "      --disabled-fill-color: #666;\n",
              "  }\n",
              "\n",
              "  .colab-df-quickchart {\n",
              "    background-color: var(--bg-color);\n",
              "    border: none;\n",
              "    border-radius: 50%;\n",
              "    cursor: pointer;\n",
              "    display: none;\n",
              "    fill: var(--fill-color);\n",
              "    height: 32px;\n",
              "    padding: 0;\n",
              "    width: 32px;\n",
              "  }\n",
              "\n",
              "  .colab-df-quickchart:hover {\n",
              "    background-color: var(--hover-bg-color);\n",
              "    box-shadow: 0 1px 2px rgba(60, 64, 67, 0.3), 0 1px 3px 1px rgba(60, 64, 67, 0.15);\n",
              "    fill: var(--button-hover-fill-color);\n",
              "  }\n",
              "\n",
              "  .colab-df-quickchart-complete:disabled,\n",
              "  .colab-df-quickchart-complete:disabled:hover {\n",
              "    background-color: var(--disabled-bg-color);\n",
              "    fill: var(--disabled-fill-color);\n",
              "    box-shadow: none;\n",
              "  }\n",
              "\n",
              "  .colab-df-spinner {\n",
              "    border: 2px solid var(--fill-color);\n",
              "    border-color: transparent;\n",
              "    border-bottom-color: var(--fill-color);\n",
              "    animation:\n",
              "      spin 1s steps(1) infinite;\n",
              "  }\n",
              "\n",
              "  @keyframes spin {\n",
              "    0% {\n",
              "      border-color: transparent;\n",
              "      border-bottom-color: var(--fill-color);\n",
              "      border-left-color: var(--fill-color);\n",
              "    }\n",
              "    20% {\n",
              "      border-color: transparent;\n",
              "      border-left-color: var(--fill-color);\n",
              "      border-top-color: var(--fill-color);\n",
              "    }\n",
              "    30% {\n",
              "      border-color: transparent;\n",
              "      border-left-color: var(--fill-color);\n",
              "      border-top-color: var(--fill-color);\n",
              "      border-right-color: var(--fill-color);\n",
              "    }\n",
              "    40% {\n",
              "      border-color: transparent;\n",
              "      border-right-color: var(--fill-color);\n",
              "      border-top-color: var(--fill-color);\n",
              "    }\n",
              "    60% {\n",
              "      border-color: transparent;\n",
              "      border-right-color: var(--fill-color);\n",
              "    }\n",
              "    80% {\n",
              "      border-color: transparent;\n",
              "      border-right-color: var(--fill-color);\n",
              "      border-bottom-color: var(--fill-color);\n",
              "    }\n",
              "    90% {\n",
              "      border-color: transparent;\n",
              "      border-bottom-color: var(--fill-color);\n",
              "    }\n",
              "  }\n",
              "</style>\n",
              "\n",
              "  <script>\n",
              "    async function quickchart(key) {\n",
              "      const quickchartButtonEl =\n",
              "        document.querySelector('#' + key + ' button');\n",
              "      quickchartButtonEl.disabled = true;  // To prevent multiple clicks.\n",
              "      quickchartButtonEl.classList.add('colab-df-spinner');\n",
              "      try {\n",
              "        const charts = await google.colab.kernel.invokeFunction(\n",
              "            'suggestCharts', [key], {});\n",
              "      } catch (error) {\n",
              "        console.error('Error during call to suggestCharts:', error);\n",
              "      }\n",
              "      quickchartButtonEl.classList.remove('colab-df-spinner');\n",
              "      quickchartButtonEl.classList.add('colab-df-quickchart-complete');\n",
              "    }\n",
              "    (() => {\n",
              "      let quickchartButtonEl =\n",
              "        document.querySelector('#df-931b069d-bff4-4336-8859-92bed084371c button');\n",
              "      quickchartButtonEl.style.display =\n",
              "        google.colab.kernel.accessAllowed ? 'block' : 'none';\n",
              "    })();\n",
              "  </script>\n",
              "</div>\n",
              "\n",
              "  <div id=\"id_d2d25340-2622-4275-921b-22f43086b3ad\">\n",
              "    <style>\n",
              "      .colab-df-generate {\n",
              "        background-color: #E8F0FE;\n",
              "        border: none;\n",
              "        border-radius: 50%;\n",
              "        cursor: pointer;\n",
              "        display: none;\n",
              "        fill: #1967D2;\n",
              "        height: 32px;\n",
              "        padding: 0 0 0 0;\n",
              "        width: 32px;\n",
              "      }\n",
              "\n",
              "      .colab-df-generate:hover {\n",
              "        background-color: #E2EBFA;\n",
              "        box-shadow: 0px 1px 2px rgba(60, 64, 67, 0.3), 0px 1px 3px 1px rgba(60, 64, 67, 0.15);\n",
              "        fill: #174EA6;\n",
              "      }\n",
              "\n",
              "      [theme=dark] .colab-df-generate {\n",
              "        background-color: #3B4455;\n",
              "        fill: #D2E3FC;\n",
              "      }\n",
              "\n",
              "      [theme=dark] .colab-df-generate:hover {\n",
              "        background-color: #434B5C;\n",
              "        box-shadow: 0px 1px 3px 1px rgba(0, 0, 0, 0.15);\n",
              "        filter: drop-shadow(0px 1px 2px rgba(0, 0, 0, 0.3));\n",
              "        fill: #FFFFFF;\n",
              "      }\n",
              "    </style>\n",
              "    <button class=\"colab-df-generate\" onclick=\"generateWithVariable('top_10_num_of_cases_each_day')\"\n",
              "            title=\"Generate code using this dataframe.\"\n",
              "            style=\"display:none;\">\n",
              "\n",
              "  <svg xmlns=\"http://www.w3.org/2000/svg\" height=\"24px\"viewBox=\"0 0 24 24\"\n",
              "       width=\"24px\">\n",
              "    <path d=\"M7,19H8.4L18.45,9,17,7.55,7,17.6ZM5,21V16.75L18.45,3.32a2,2,0,0,1,2.83,0l1.4,1.43a1.91,1.91,0,0,1,.58,1.4,1.91,1.91,0,0,1-.58,1.4L9.25,21ZM18.45,9,17,7.55Zm-12,3A5.31,5.31,0,0,0,4.9,8.1,5.31,5.31,0,0,0,1,6.5,5.31,5.31,0,0,0,4.9,4.9,5.31,5.31,0,0,0,6.5,1,5.31,5.31,0,0,0,8.1,4.9,5.31,5.31,0,0,0,12,6.5,5.46,5.46,0,0,0,6.5,12Z\"/>\n",
              "  </svg>\n",
              "    </button>\n",
              "    <script>\n",
              "      (() => {\n",
              "      const buttonEl =\n",
              "        document.querySelector('#id_d2d25340-2622-4275-921b-22f43086b3ad button.colab-df-generate');\n",
              "      buttonEl.style.display =\n",
              "        google.colab.kernel.accessAllowed ? 'block' : 'none';\n",
              "\n",
              "      buttonEl.onclick = () => {\n",
              "        google.colab.notebook.generateWithVariable('top_10_num_of_cases_each_day');\n",
              "      }\n",
              "      })();\n",
              "    </script>\n",
              "  </div>\n",
              "\n",
              "    </div>\n",
              "  </div>\n"
            ],
            "application/vnd.google.colaboratory.intrinsic+json": {
              "type": "dataframe",
              "variable_name": "top_10_num_of_cases_each_day",
              "summary": "{\n  \"name\": \"top_10_num_of_cases_each_day\",\n  \"rows\": 10,\n  \"fields\": [\n    {\n      \"column\": \"no_of_cases\",\n      \"properties\": {\n        \"dtype\": \"number\",\n        \"std\": 69,\n        \"min\": 1828,\n        \"max\": 2033,\n        \"num_unique_values\": 9,\n        \"samples\": [\n          1836,\n          1978,\n          1884\n        ],\n        \"semantic_type\": \"\",\n        \"description\": \"\"\n      }\n    },\n    {\n      \"column\": \"date\",\n      \"properties\": {\n        \"dtype\": \"object\",\n        \"num_unique_values\": 10,\n        \"samples\": [\n          \"01/01/2001\",\n          \"01/01/2005\",\n          \"05/31/2020\"\n        ],\n        \"semantic_type\": \"\",\n        \"description\": \"\"\n      }\n    }\n  ]\n}"
            }
          },
          "metadata": {},
          "execution_count": 45
        }
      ],
      "source": [
        "# Top 10 - Number of cases each day?\n",
        "\n",
        "top_10_num_of_cases_each_day = c_crime_df.groupby(['date'])['Case Number'].count().reset_index(name = 'no_of_cases').set_index('no_of_cases').sort_index(ascending = False)[:10]\n",
        "top_10_num_of_cases_each_day"
      ]
    },
    {
      "cell_type": "code",
      "execution_count": 46,
      "id": "16cdbf6a",
      "metadata": {
        "ExecuteTime": {
          "end_time": "2024-03-22T20:20:23.513527Z",
          "start_time": "2024-03-22T20:20:21.434427Z"
        },
        "colab": {
          "base_uri": "https://localhost:8080/",
          "height": 472
        },
        "id": "16cdbf6a",
        "outputId": "20e7f75d-9fe1-437a-d8d5-0301ef2c25e9"
      },
      "outputs": [
        {
          "output_type": "display_data",
          "data": {
            "text/plain": [
              "<Figure size 640x480 with 1 Axes>"
            ],
            "image/png": "[encoded data removed]"
          },
          "metadata": {}
        }
      ],
      "source": [
        "top_10_num_of_cases_each_day_df = pd.DataFrame(top_10_num_of_cases_each_day)\n",
        "index_df = top_10_num_of_cases_each_day_df.index\n",
        "\n",
        "sns.barplot(x = index_df , y = 'date' , data = top_10_num_of_cases_each_day_df)\n",
        "plt.title(\"Most cases per day - Bar plot\")\n",
        "plt.xlabel(\"Number of Cases\")\n",
        "plt.ylabel(\"Date\")\n",
        "plt.show()"
      ]
    },
    {
      "cell_type": "markdown",
      "id": "b8e559a9",
      "metadata": {
        "id": "b8e559a9"
      },
      "source": [
        "Observation: The average Number of cases per day could be more than 550"
      ]
    },
    {
      "cell_type": "markdown",
      "id": "da9b2502",
      "metadata": {
        "id": "da9b2502"
      },
      "source": [
        "3. __Number of crime by type__</br>\n",
        "We try to indentify the trend and highpoints or lowpoints."
      ]
    },
    {
      "cell_type": "code",
      "execution_count": 47,
      "id": "530d94f9",
      "metadata": {
        "ExecuteTime": {
          "end_time": "2024-03-22T20:20:50.673971Z",
          "start_time": "2024-03-22T20:20:50.172851Z"
        },
        "colab": {
          "base_uri": "https://localhost:8080/",
          "height": 542
        },
        "id": "530d94f9",
        "outputId": "5ef1df9b-b2b4-41d3-9c36-b13d59df3c82"
      },
      "outputs": [
        {
          "output_type": "display_data",
          "data": {
            "text/html": [
              "<html>\n",
              "<head><meta charset=\"utf-8\" /></head>\n",
              "<body>\n",
              "    <div>            <script src=\"https://cdnjs.cloudflare.com/ajax/libs/mathjax/2.7.5/MathJax.js?config=TeX-AMS-MML_SVG\"></script><script type=\"text/javascript\">if (window.MathJax && window.MathJax.Hub && window.MathJax.Hub.Config) {window.MathJax.Hub.Config({SVG: {font: \"STIX-Web\"}});}</script>                <script type=\"text/javascript\">window.PlotlyConfig = {MathJaxConfig: 'local'};</script>\n",
              "        <script charset=\"utf-8\" src=\"https://cdn.plot.ly/plotly-2.24.1.min.js\"></script>                <div id=\"2def7666-91ef-497a-bbbf-4138666dad8b\" class=\"plotly-graph-div\" style=\"height:525px; width:100%;\"></div>            <script type=\"text/javascript\">                                    window.PLOTLYENV=window.PLOTLYENV || {};                                    if (document.getElementById(\"2def7666-91ef-497a-bbbf-4138666dad8b\")) {                    Plotly.newPlot(                        \"2def7666-91ef-497a-bbbf-4138666dad8b\",                        [{\"alignmentgroup\":\"True\",\"hovertemplate\":\"Type=%{x}\\u003cbr\\u003eFreq=%{marker.color}\\u003cextra\\u003e\\u003c\\u002fextra\\u003e\",\"legendgroup\":\"\",\"marker\":{\"color\":[1694013,1463322,914225,752701,527964,498135,430949,400219,349796,302417,218526,114066,70006,57495,53117],\"coloraxis\":\"coloraxis\",\"pattern\":{\"shape\":\"\"}},\"name\":\"\",\"offsetgroup\":\"\",\"orientation\":\"v\",\"showlegend\":false,\"text\":[1694013.0,1463322.0,914225.0,752701.0,527964.0,498135.0,430949.0,400219.0,349796.0,302417.0,218526.0,114066.0,70006.0,57495.0,53117.0],\"textposition\":\"outside\",\"x\":[\"THEFT\",\"BATTERY\",\"CRIMINAL DAMAGE\",\"NARCOTICS\",\"ASSAULT\",\"OTHER OFFENSE\",\"BURGLARY\",\"MOTOR VEHICLE THEFT\",\"DECEPTIVE PRACTICE\",\"ROBBERY\",\"CRIMINAL TRESPASS\",\"WEAPONS VIOLATION\",\"PROSTITUTION\",\"OFFENSE INVOLVING CHILDREN\",\"PUBLIC PEACE VIOLATION\"],\"xaxis\":\"x\",\"y\":[1694013,1463322,914225,752701,527964,498135,430949,400219,349796,302417,218526,114066,70006,57495,53117],\"yaxis\":\"y\",\"type\":\"bar\",\"texttemplate\":\"%{text:.2s}\"}],                        {\"template\":{\"data\":{\"histogram2dcontour\":[{\"type\":\"histogram2dcontour\",\"colorbar\":{\"outlinewidth\":0,\"ticks\":\"\"},\"colorscale\":[[0.0,\"#0d0887\"],[0.1111111111111111,\"#46039f\"],[0.2222222222222222,\"#7201a8\"],[0.3333333333333333,\"#9c179e\"],[0.4444444444444444,\"#bd3786\"],[0.5555555555555556,\"#d8576b\"],[0.6666666666666666,\"#ed7953\"],[0.7777777777777778,\"#fb9f3a\"],[0.8888888888888888,\"#fdca26\"],[1.0,\"#f0f921\"]]}],\"choropleth\":[{\"type\":\"choropleth\",\"colorbar\":{\"outlinewidth\":0,\"ticks\":\"\"}}],\"histogram2d\":[{\"type\":\"histogram2d\",\"colorbar\":{\"outlinewidth\":0,\"ticks\":\"\"},\"colorscale\":[[0.0,\"#0d0887\"],[0.1111111111111111,\"#46039f\"],[0.2222222222222222,\"#7201a8\"],[0.3333333333333333,\"#9c179e\"],[0.4444444444444444,\"#bd3786\"],[0.5555555555555556,\"#d8576b\"],[0.6666666666666666,\"#ed7953\"],[0.7777777777777778,\"#fb9f3a\"],[0.8888888888888888,\"#fdca26\"],[1.0,\"#f0f921\"]]}],\"heatmap\":[{\"type\":\"heatmap\",\"colorbar\":{\"outlinewidth\":0,\"ticks\":\"\"},\"colorscale\":[[0.0,\"#0d0887\"],[0.1111111111111111,\"#46039f\"],[0.2222222222222222,\"#7201a8\"],[0.3333333333333333,\"#9c179e\"],[0.4444444444444444,\"#bd3786\"],[0.5555555555555556,\"#d8576b\"],[0.6666666666666666,\"#ed7953\"],[0.7777777777777778,\"#fb9f3a\"],[0.8888888888888888,\"#fdca26\"],[1.0,\"#f0f921\"]]}],\"heatmapgl\":[{\"type\":\"heatmapgl\",\"colorbar\":{\"outlinewidth\":0,\"ticks\":\"\"},\"colorscale\":[[0.0,\"#0d0887\"],[0.1111111111111111,\"#46039f\"],[0.2222222222222222,\"#7201a8\"],[0.3333333333333333,\"#9c179e\"],[0.4444444444444444,\"#bd3786\"],[0.5555555555555556,\"#d8576b\"],[0.6666666666666666,\"#ed7953\"],[0.7777777777777778,\"#fb9f3a\"],[0.8888888888888888,\"#fdca26\"],[1.0,\"#f0f921\"]]}],\"contourcarpet\":[{\"type\":\"contourcarpet\",\"colorbar\":{\"outlinewidth\":0,\"ticks\":\"\"}}],\"contour\":[{\"type\":\"contour\",\"colorbar\":{\"outlinewidth\":0,\"ticks\":\"\"},\"colorscale\":[[0.0,\"#0d0887\"],[0.1111111111111111,\"#46039f\"],[0.2222222222222222,\"#7201a8\"],[0.3333333333333333,\"#9c179e\"],[0.4444444444444444,\"#bd3786\"],[0.5555555555555556,\"#d8576b\"],[0.6666666666666666,\"#ed7953\"],[0.7777777777777778,\"#fb9f3a\"],[0.8888888888888888,\"#fdca26\"],[1.0,\"#f0f921\"]]}],\"surface\":[{\"type\":\"surface\",\"colorbar\":{\"outlinewidth\":0,\"ticks\":\"\"},\"colorscale\":[[0.0,\"#0d0887\"],[0.1111111111111111,\"#46039f\"],[0.2222222222222222,\"#7201a8\"],[0.3333333333333333,\"#9c179e\"],[0.4444444444444444,\"#bd3786\"],[0.5555555555555556,\"#d8576b\"],[0.6666666666666666,\"#ed7953\"],[0.7777777777777778,\"#fb9f3a\"],[0.8888888888888888,\"#fdca26\"],[1.0,\"#f0f921\"]]}],\"mesh3d\":[{\"type\":\"mesh3d\",\"colorbar\":{\"outlinewidth\":0,\"ticks\":\"\"}}],\"scatter\":[{\"fillpattern\":{\"fillmode\":\"overlay\",\"size\":10,\"solidity\":0.2},\"type\":\"scatter\"}],\"parcoords\":[{\"type\":\"parcoords\",\"line\":{\"colorbar\":{\"outlinewidth\":0,\"ticks\":\"\"}}}],\"scatterpolargl\":[{\"type\":\"scatterpolargl\",\"marker\":{\"colorbar\":{\"outlinewidth\":0,\"ticks\":\"\"}}}],\"bar\":[{\"error_x\":{\"color\":\"#2a3f5f\"},\"error_y\":{\"color\":\"#2a3f5f\"},\"marker\":{\"line\":{\"color\":\"#E5ECF6\",\"width\":0.5},\"pattern\":{\"fillmode\":\"overlay\",\"size\":10,\"solidity\":0.2}},\"type\":\"bar\"}],\"scattergeo\":[{\"type\":\"scattergeo\",\"marker\":{\"colorbar\":{\"outlinewidth\":0,\"ticks\":\"\"}}}],\"scatterpolar\":[{\"type\":\"scatterpolar\",\"marker\":{\"colorbar\":{\"outlinewidth\":0,\"ticks\":\"\"}}}],\"histogram\":[{\"marker\":{\"pattern\":{\"fillmode\":\"overlay\",\"size\":10,\"solidity\":0.2}},\"type\":\"histogram\"}],\"scattergl\":[{\"type\":\"scattergl\",\"marker\":{\"colorbar\":{\"outlinewidth\":0,\"ticks\":\"\"}}}],\"scatter3d\":[{\"type\":\"scatter3d\",\"line\":{\"colorbar\":{\"outlinewidth\":0,\"ticks\":\"\"}},\"marker\":{\"colorbar\":{\"outlinewidth\":0,\"ticks\":\"\"}}}],\"scattermapbox\":[{\"type\":\"scattermapbox\",\"marker\":{\"colorbar\":{\"outlinewidth\":0,\"ticks\":\"\"}}}],\"scatterternary\":[{\"type\":\"scatterternary\",\"marker\":{\"colorbar\":{\"outlinewidth\":0,\"ticks\":\"\"}}}],\"scattercarpet\":[{\"type\":\"scattercarpet\",\"marker\":{\"colorbar\":{\"outlinewidth\":0,\"ticks\":\"\"}}}],\"carpet\":[{\"aaxis\":{\"endlinecolor\":\"#2a3f5f\",\"gridcolor\":\"white\",\"linecolor\":\"white\",\"minorgridcolor\":\"white\",\"startlinecolor\":\"#2a3f5f\"},\"baxis\":{\"endlinecolor\":\"#2a3f5f\",\"gridcolor\":\"white\",\"linecolor\":\"white\",\"minorgridcolor\":\"white\",\"startlinecolor\":\"#2a3f5f\"},\"type\":\"carpet\"}],\"table\":[{\"cells\":{\"fill\":{\"color\":\"#EBF0F8\"},\"line\":{\"color\":\"white\"}},\"header\":{\"fill\":{\"color\":\"#C8D4E3\"},\"line\":{\"color\":\"white\"}},\"type\":\"table\"}],\"barpolar\":[{\"marker\":{\"line\":{\"color\":\"#E5ECF6\",\"width\":0.5},\"pattern\":{\"fillmode\":\"overlay\",\"size\":10,\"solidity\":0.2}},\"type\":\"barpolar\"}],\"pie\":[{\"automargin\":true,\"type\":\"pie\"}]},\"layout\":{\"autotypenumbers\":\"strict\",\"colorway\":[\"#636efa\",\"#EF553B\",\"#00cc96\",\"#ab63fa\",\"#FFA15A\",\"#19d3f3\",\"#FF6692\",\"#B6E880\",\"#FF97FF\",\"#FECB52\"],\"font\":{\"color\":\"#2a3f5f\"},\"hovermode\":\"closest\",\"hoverlabel\":{\"align\":\"left\"},\"paper_bgcolor\":\"white\",\"plot_bgcolor\":\"#E5ECF6\",\"polar\":{\"bgcolor\":\"#E5ECF6\",\"angularaxis\":{\"gridcolor\":\"white\",\"linecolor\":\"white\",\"ticks\":\"\"},\"radialaxis\":{\"gridcolor\":\"white\",\"linecolor\":\"white\",\"ticks\":\"\"}},\"ternary\":{\"bgcolor\":\"#E5ECF6\",\"aaxis\":{\"gridcolor\":\"white\",\"linecolor\":\"white\",\"ticks\":\"\"},\"baxis\":{\"gridcolor\":\"white\",\"linecolor\":\"white\",\"ticks\":\"\"},\"caxis\":{\"gridcolor\":\"white\",\"linecolor\":\"white\",\"ticks\":\"\"}},\"coloraxis\":{\"colorbar\":{\"outlinewidth\":0,\"ticks\":\"\"}},\"colorscale\":{\"sequential\":[[0.0,\"#0d0887\"],[0.1111111111111111,\"#46039f\"],[0.2222222222222222,\"#7201a8\"],[0.3333333333333333,\"#9c179e\"],[0.4444444444444444,\"#bd3786\"],[0.5555555555555556,\"#d8576b\"],[0.6666666666666666,\"#ed7953\"],[0.7777777777777778,\"#fb9f3a\"],[0.8888888888888888,\"#fdca26\"],[1.0,\"#f0f921\"]],\"sequentialminus\":[[0.0,\"#0d0887\"],[0.1111111111111111,\"#46039f\"],[0.2222222222222222,\"#7201a8\"],[0.3333333333333333,\"#9c179e\"],[0.4444444444444444,\"#bd3786\"],[0.5555555555555556,\"#d8576b\"],[0.6666666666666666,\"#ed7953\"],[0.7777777777777778,\"#fb9f3a\"],[0.8888888888888888,\"#fdca26\"],[1.0,\"#f0f921\"]],\"diverging\":[[0,\"#8e0152\"],[0.1,\"#c51b7d\"],[0.2,\"#de77ae\"],[0.3,\"#f1b6da\"],[0.4,\"#fde0ef\"],[0.5,\"#f7f7f7\"],[0.6,\"#e6f5d0\"],[0.7,\"#b8e186\"],[0.8,\"#7fbc41\"],[0.9,\"#4d9221\"],[1,\"#276419\"]]},\"xaxis\":{\"gridcolor\":\"white\",\"linecolor\":\"white\",\"ticks\":\"\",\"title\":{\"standoff\":15},\"zerolinecolor\":\"white\",\"automargin\":true,\"zerolinewidth\":2},\"yaxis\":{\"gridcolor\":\"white\",\"linecolor\":\"white\",\"ticks\":\"\",\"title\":{\"standoff\":15},\"zerolinecolor\":\"white\",\"automargin\":true,\"zerolinewidth\":2},\"scene\":{\"xaxis\":{\"backgroundcolor\":\"#E5ECF6\",\"gridcolor\":\"white\",\"linecolor\":\"white\",\"showbackground\":true,\"ticks\":\"\",\"zerolinecolor\":\"white\",\"gridwidth\":2},\"yaxis\":{\"backgroundcolor\":\"#E5ECF6\",\"gridcolor\":\"white\",\"linecolor\":\"white\",\"showbackground\":true,\"ticks\":\"\",\"zerolinecolor\":\"white\",\"gridwidth\":2},\"zaxis\":{\"backgroundcolor\":\"#E5ECF6\",\"gridcolor\":\"white\",\"linecolor\":\"white\",\"showbackground\":true,\"ticks\":\"\",\"zerolinecolor\":\"white\",\"gridwidth\":2}},\"shapedefaults\":{\"line\":{\"color\":\"#2a3f5f\"}},\"annotationdefaults\":{\"arrowcolor\":\"#2a3f5f\",\"arrowhead\":0,\"arrowwidth\":1},\"geo\":{\"bgcolor\":\"white\",\"landcolor\":\"#E5ECF6\",\"subunitcolor\":\"white\",\"showland\":true,\"showlakes\":true,\"lakecolor\":\"white\"},\"title\":{\"x\":0.05},\"mapbox\":{\"style\":\"light\"}}},\"xaxis\":{\"anchor\":\"y\",\"domain\":[0.0,1.0],\"title\":{\"text\":\"Type\"}},\"yaxis\":{\"anchor\":\"x\",\"domain\":[0.0,1.0],\"title\":{\"text\":\"Freq\"}},\"coloraxis\":{\"colorbar\":{\"title\":{\"text\":\"Freq\"}},\"colorscale\":[[0.0,\"rgb(196, 230, 195)\"],[0.16666666666666666,\"rgb(150, 210, 164)\"],[0.3333333333333333,\"rgb(109, 188, 144)\"],[0.5,\"rgb(77, 162, 132)\"],[0.6666666666666666,\"rgb(54, 135, 122)\"],[0.8333333333333334,\"rgb(38, 107, 110)\"],[1.0,\"rgb(29, 79, 96)\"]]},\"legend\":{\"tracegroupgap\":0},\"margin\":{\"t\":60},\"barmode\":\"relative\",\"uniformtext\":{\"minsize\":8,\"mode\":\"hide\"},\"title\":{\"text\":\"Type of Crimes\"}},                        {\"responsive\": true}                    ).then(function(){\n",
              "                            \n",
              "var gd = document.getElementById('2def7666-91ef-497a-bbbf-4138666dad8b');\n",
              "var x = new MutationObserver(function (mutations, observer) {{\n",
              "        var display = window.getComputedStyle(gd).display;\n",
              "        if (!display || display === 'none') {{\n",
              "            console.log([gd, 'removed!']);\n",
              "            Plotly.purge(gd);\n",
              "            observer.disconnect();\n",
              "        }}\n",
              "}});\n",
              "\n",
              "// Listen for the removal of the full notebook cells\n",
              "var notebookContainer = gd.closest('#notebook-container');\n",
              "if (notebookContainer) {{\n",
              "    x.observe(notebookContainer, {childList: true});\n",
              "}}\n",
              "\n",
              "// Listen for the clearing of the current output cell\n",
              "var outputEl = gd.closest('.output');\n",
              "if (outputEl) {{\n",
              "    x.observe(outputEl, {childList: true});\n",
              "}}\n",
              "\n",
              "                        })                };                            </script>        </div>\n",
              "</body>\n",
              "</html>"
            ]
          },
          "metadata": {}
        }
      ],
      "source": [
        "# Function to plot the serie value_counts\n",
        "def plot_counts(serie, title):\n",
        "    df = pd.DataFrame(serie.value_counts()[:15])\n",
        "    df.columns = [\"Freq\"]\n",
        "    df[\"Type\"] = df.index\n",
        "    fig = px.bar(df, y=\"Freq\", x=\"Type\", text=\"Freq\", color=\"Freq\", color_continuous_scale=px.colors.sequential.Blugrn)\n",
        "    fig.update_traces(texttemplate=\"%{text:.2s}\", textposition=\"outside\")\n",
        "    fig.update_layout(uniformtext_minsize=8, uniformtext_mode=\"hide\")\n",
        "    fig.update_layout(title_text=title)\n",
        "    fig.show()\n",
        "\n",
        "\n",
        "plot_counts(c_crime_df[\"Primary Type\"], \"Type of Crimes\")"
      ]
    },
    {
      "cell_type": "markdown",
      "id": "2ee8b340",
      "metadata": {
        "id": "2ee8b340"
      },
      "source": [
        "Observation: THEFT, BATTERY, CRIMINAL DAMAGE and NARCOTICS represents more the 65% of the crimes."
      ]
    },
    {
      "cell_type": "markdown",
      "id": "3fc29c42",
      "metadata": {
        "id": "3fc29c42"
      },
      "source": [
        "4. __Where does crimes happens the most?__"
      ]
    },
    {
      "cell_type": "code",
      "execution_count": 48,
      "id": "f1a40772",
      "metadata": {
        "ExecuteTime": {
          "end_time": "2024-03-22T20:19:54.017314Z",
          "start_time": "2024-03-22T20:19:54.017314Z"
        },
        "colab": {
          "base_uri": "https://localhost:8080/",
          "height": 542
        },
        "id": "f1a40772",
        "outputId": "483f5406-4ca6-4285-95ea-33e8ecfe6f12"
      },
      "outputs": [
        {
          "output_type": "display_data",
          "data": {
            "text/html": [
              "<html>\n",
              "<head><meta charset=\"utf-8\" /></head>\n",
              "<body>\n",
              "    <div>            <script src=\"https://cdnjs.cloudflare.com/ajax/libs/mathjax/2.7.5/MathJax.js?config=TeX-AMS-MML_SVG\"></script><script type=\"text/javascript\">if (window.MathJax && window.MathJax.Hub && window.MathJax.Hub.Config) {window.MathJax.Hub.Config({SVG: {font: \"STIX-Web\"}});}</script>                <script type=\"text/javascript\">window.PlotlyConfig = {MathJaxConfig: 'local'};</script>\n",
              "        <script charset=\"utf-8\" src=\"https://cdn.plot.ly/plotly-2.24.1.min.js\"></script>                <div id=\"13135c6b-d5c8-408c-b112-8f3d5a0313a2\" class=\"plotly-graph-div\" style=\"height:525px; width:100%;\"></div>            <script type=\"text/javascript\">                                    window.PLOTLYENV=window.PLOTLYENV || {};                                    if (document.getElementById(\"13135c6b-d5c8-408c-b112-8f3d5a0313a2\")) {                    Plotly.newPlot(                        \"13135c6b-d5c8-408c-b112-8f3d5a0313a2\",                        [{\"alignmentgroup\":\"True\",\"hovertemplate\":\"Type=%{x}\\u003cbr\\u003eFreq=%{marker.color}\\u003cextra\\u003e\\u003c\\u002fextra\\u003e\",\"legendgroup\":\"\",\"marker\":{\"color\":[2095691,1334645,924064,741078,270006,202965,178430,154200,146374,135525,132330,127410,124192,102629,100971],\"coloraxis\":\"coloraxis\",\"pattern\":{\"shape\":\"\"}},\"name\":\"\",\"offsetgroup\":\"\",\"orientation\":\"v\",\"showlegend\":false,\"text\":[2095691.0,1334645.0,924064.0,741078.0,270006.0,202965.0,178430.0,154200.0,146374.0,135525.0,132330.0,127410.0,124192.0,102629.0,100971.0],\"textposition\":\"outside\",\"x\":[\"STREET\",\"RESIDENCE\",\"APARTMENT\",\"SIDEWALK\",\"OTHER\",\"PARKING LOT\\u002fGARAGE(NON.RESID.)\",\"ALLEY\",\"SMALL RETAIL STORE\",\"SCHOOL, PUBLIC, BUILDING\",\"RESIDENCE-GARAGE\",\"RESTAURANT\",\"VEHICLE NON-COMMERCIAL\",\"RESIDENCE PORCH\\u002fHALLWAY\",\"DEPARTMENT STORE\",\"GROCERY FOOD STORE\"],\"xaxis\":\"x\",\"y\":[2095691,1334645,924064,741078,270006,202965,178430,154200,146374,135525,132330,127410,124192,102629,100971],\"yaxis\":\"y\",\"type\":\"bar\",\"texttemplate\":\"%{text:.2s}\"}],                        {\"template\":{\"data\":{\"histogram2dcontour\":[{\"type\":\"histogram2dcontour\",\"colorbar\":{\"outlinewidth\":0,\"ticks\":\"\"},\"colorscale\":[[0.0,\"#0d0887\"],[0.1111111111111111,\"#46039f\"],[0.2222222222222222,\"#7201a8\"],[0.3333333333333333,\"#9c179e\"],[0.4444444444444444,\"#bd3786\"],[0.5555555555555556,\"#d8576b\"],[0.6666666666666666,\"#ed7953\"],[0.7777777777777778,\"#fb9f3a\"],[0.8888888888888888,\"#fdca26\"],[1.0,\"#f0f921\"]]}],\"choropleth\":[{\"type\":\"choropleth\",\"colorbar\":{\"outlinewidth\":0,\"ticks\":\"\"}}],\"histogram2d\":[{\"type\":\"histogram2d\",\"colorbar\":{\"outlinewidth\":0,\"ticks\":\"\"},\"colorscale\":[[0.0,\"#0d0887\"],[0.1111111111111111,\"#46039f\"],[0.2222222222222222,\"#7201a8\"],[0.3333333333333333,\"#9c179e\"],[0.4444444444444444,\"#bd3786\"],[0.5555555555555556,\"#d8576b\"],[0.6666666666666666,\"#ed7953\"],[0.7777777777777778,\"#fb9f3a\"],[0.8888888888888888,\"#fdca26\"],[1.0,\"#f0f921\"]]}],\"heatmap\":[{\"type\":\"heatmap\",\"colorbar\":{\"outlinewidth\":0,\"ticks\":\"\"},\"colorscale\":[[0.0,\"#0d0887\"],[0.1111111111111111,\"#46039f\"],[0.2222222222222222,\"#7201a8\"],[0.3333333333333333,\"#9c179e\"],[0.4444444444444444,\"#bd3786\"],[0.5555555555555556,\"#d8576b\"],[0.6666666666666666,\"#ed7953\"],[0.7777777777777778,\"#fb9f3a\"],[0.8888888888888888,\"#fdca26\"],[1.0,\"#f0f921\"]]}],\"heatmapgl\":[{\"type\":\"heatmapgl\",\"colorbar\":{\"outlinewidth\":0,\"ticks\":\"\"},\"colorscale\":[[0.0,\"#0d0887\"],[0.1111111111111111,\"#46039f\"],[0.2222222222222222,\"#7201a8\"],[0.3333333333333333,\"#9c179e\"],[0.4444444444444444,\"#bd3786\"],[0.5555555555555556,\"#d8576b\"],[0.6666666666666666,\"#ed7953\"],[0.7777777777777778,\"#fb9f3a\"],[0.8888888888888888,\"#fdca26\"],[1.0,\"#f0f921\"]]}],\"contourcarpet\":[{\"type\":\"contourcarpet\",\"colorbar\":{\"outlinewidth\":0,\"ticks\":\"\"}}],\"contour\":[{\"type\":\"contour\",\"colorbar\":{\"outlinewidth\":0,\"ticks\":\"\"},\"colorscale\":[[0.0,\"#0d0887\"],[0.1111111111111111,\"#46039f\"],[0.2222222222222222,\"#7201a8\"],[0.3333333333333333,\"#9c179e\"],[0.4444444444444444,\"#bd3786\"],[0.5555555555555556,\"#d8576b\"],[0.6666666666666666,\"#ed7953\"],[0.7777777777777778,\"#fb9f3a\"],[0.8888888888888888,\"#fdca26\"],[1.0,\"#f0f921\"]]}],\"surface\":[{\"type\":\"surface\",\"colorbar\":{\"outlinewidth\":0,\"ticks\":\"\"},\"colorscale\":[[0.0,\"#0d0887\"],[0.1111111111111111,\"#46039f\"],[0.2222222222222222,\"#7201a8\"],[0.3333333333333333,\"#9c179e\"],[0.4444444444444444,\"#bd3786\"],[0.5555555555555556,\"#d8576b\"],[0.6666666666666666,\"#ed7953\"],[0.7777777777777778,\"#fb9f3a\"],[0.8888888888888888,\"#fdca26\"],[1.0,\"#f0f921\"]]}],\"mesh3d\":[{\"type\":\"mesh3d\",\"colorbar\":{\"outlinewidth\":0,\"ticks\":\"\"}}],\"scatter\":[{\"fillpattern\":{\"fillmode\":\"overlay\",\"size\":10,\"solidity\":0.2},\"type\":\"scatter\"}],\"parcoords\":[{\"type\":\"parcoords\",\"line\":{\"colorbar\":{\"outlinewidth\":0,\"ticks\":\"\"}}}],\"scatterpolargl\":[{\"type\":\"scatterpolargl\",\"marker\":{\"colorbar\":{\"outlinewidth\":0,\"ticks\":\"\"}}}],\"bar\":[{\"error_x\":{\"color\":\"#2a3f5f\"},\"error_y\":{\"color\":\"#2a3f5f\"},\"marker\":{\"line\":{\"color\":\"#E5ECF6\",\"width\":0.5},\"pattern\":{\"fillmode\":\"overlay\",\"size\":10,\"solidity\":0.2}},\"type\":\"bar\"}],\"scattergeo\":[{\"type\":\"scattergeo\",\"marker\":{\"colorbar\":{\"outlinewidth\":0,\"ticks\":\"\"}}}],\"scatterpolar\":[{\"type\":\"scatterpolar\",\"marker\":{\"colorbar\":{\"outlinewidth\":0,\"ticks\":\"\"}}}],\"histogram\":[{\"marker\":{\"pattern\":{\"fillmode\":\"overlay\",\"size\":10,\"solidity\":0.2}},\"type\":\"histogram\"}],\"scattergl\":[{\"type\":\"scattergl\",\"marker\":{\"colorbar\":{\"outlinewidth\":0,\"ticks\":\"\"}}}],\"scatter3d\":[{\"type\":\"scatter3d\",\"line\":{\"colorbar\":{\"outlinewidth\":0,\"ticks\":\"\"}},\"marker\":{\"colorbar\":{\"outlinewidth\":0,\"ticks\":\"\"}}}],\"scattermapbox\":[{\"type\":\"scattermapbox\",\"marker\":{\"colorbar\":{\"outlinewidth\":0,\"ticks\":\"\"}}}],\"scatterternary\":[{\"type\":\"scatterternary\",\"marker\":{\"colorbar\":{\"outlinewidth\":0,\"ticks\":\"\"}}}],\"scattercarpet\":[{\"type\":\"scattercarpet\",\"marker\":{\"colorbar\":{\"outlinewidth\":0,\"ticks\":\"\"}}}],\"carpet\":[{\"aaxis\":{\"endlinecolor\":\"#2a3f5f\",\"gridcolor\":\"white\",\"linecolor\":\"white\",\"minorgridcolor\":\"white\",\"startlinecolor\":\"#2a3f5f\"},\"baxis\":{\"endlinecolor\":\"#2a3f5f\",\"gridcolor\":\"white\",\"linecolor\":\"white\",\"minorgridcolor\":\"white\",\"startlinecolor\":\"#2a3f5f\"},\"type\":\"carpet\"}],\"table\":[{\"cells\":{\"fill\":{\"color\":\"#EBF0F8\"},\"line\":{\"color\":\"white\"}},\"header\":{\"fill\":{\"color\":\"#C8D4E3\"},\"line\":{\"color\":\"white\"}},\"type\":\"table\"}],\"barpolar\":[{\"marker\":{\"line\":{\"color\":\"#E5ECF6\",\"width\":0.5},\"pattern\":{\"fillmode\":\"overlay\",\"size\":10,\"solidity\":0.2}},\"type\":\"barpolar\"}],\"pie\":[{\"automargin\":true,\"type\":\"pie\"}]},\"layout\":{\"autotypenumbers\":\"strict\",\"colorway\":[\"#636efa\",\"#EF553B\",\"#00cc96\",\"#ab63fa\",\"#FFA15A\",\"#19d3f3\",\"#FF6692\",\"#B6E880\",\"#FF97FF\",\"#FECB52\"],\"font\":{\"color\":\"#2a3f5f\"},\"hovermode\":\"closest\",\"hoverlabel\":{\"align\":\"left\"},\"paper_bgcolor\":\"white\",\"plot_bgcolor\":\"#E5ECF6\",\"polar\":{\"bgcolor\":\"#E5ECF6\",\"angularaxis\":{\"gridcolor\":\"white\",\"linecolor\":\"white\",\"ticks\":\"\"},\"radialaxis\":{\"gridcolor\":\"white\",\"linecolor\":\"white\",\"ticks\":\"\"}},\"ternary\":{\"bgcolor\":\"#E5ECF6\",\"aaxis\":{\"gridcolor\":\"white\",\"linecolor\":\"white\",\"ticks\":\"\"},\"baxis\":{\"gridcolor\":\"white\",\"linecolor\":\"white\",\"ticks\":\"\"},\"caxis\":{\"gridcolor\":\"white\",\"linecolor\":\"white\",\"ticks\":\"\"}},\"coloraxis\":{\"colorbar\":{\"outlinewidth\":0,\"ticks\":\"\"}},\"colorscale\":{\"sequential\":[[0.0,\"#0d0887\"],[0.1111111111111111,\"#46039f\"],[0.2222222222222222,\"#7201a8\"],[0.3333333333333333,\"#9c179e\"],[0.4444444444444444,\"#bd3786\"],[0.5555555555555556,\"#d8576b\"],[0.6666666666666666,\"#ed7953\"],[0.7777777777777778,\"#fb9f3a\"],[0.8888888888888888,\"#fdca26\"],[1.0,\"#f0f921\"]],\"sequentialminus\":[[0.0,\"#0d0887\"],[0.1111111111111111,\"#46039f\"],[0.2222222222222222,\"#7201a8\"],[0.3333333333333333,\"#9c179e\"],[0.4444444444444444,\"#bd3786\"],[0.5555555555555556,\"#d8576b\"],[0.6666666666666666,\"#ed7953\"],[0.7777777777777778,\"#fb9f3a\"],[0.8888888888888888,\"#fdca26\"],[1.0,\"#f0f921\"]],\"diverging\":[[0,\"#8e0152\"],[0.1,\"#c51b7d\"],[0.2,\"#de77ae\"],[0.3,\"#f1b6da\"],[0.4,\"#fde0ef\"],[0.5,\"#f7f7f7\"],[0.6,\"#e6f5d0\"],[0.7,\"#b8e186\"],[0.8,\"#7fbc41\"],[0.9,\"#4d9221\"],[1,\"#276419\"]]},\"xaxis\":{\"gridcolor\":\"white\",\"linecolor\":\"white\",\"ticks\":\"\",\"title\":{\"standoff\":15},\"zerolinecolor\":\"white\",\"automargin\":true,\"zerolinewidth\":2},\"yaxis\":{\"gridcolor\":\"white\",\"linecolor\":\"white\",\"ticks\":\"\",\"title\":{\"standoff\":15},\"zerolinecolor\":\"white\",\"automargin\":true,\"zerolinewidth\":2},\"scene\":{\"xaxis\":{\"backgroundcolor\":\"#E5ECF6\",\"gridcolor\":\"white\",\"linecolor\":\"white\",\"showbackground\":true,\"ticks\":\"\",\"zerolinecolor\":\"white\",\"gridwidth\":2},\"yaxis\":{\"backgroundcolor\":\"#E5ECF6\",\"gridcolor\":\"white\",\"linecolor\":\"white\",\"showbackground\":true,\"ticks\":\"\",\"zerolinecolor\":\"white\",\"gridwidth\":2},\"zaxis\":{\"backgroundcolor\":\"#E5ECF6\",\"gridcolor\":\"white\",\"linecolor\":\"white\",\"showbackground\":true,\"ticks\":\"\",\"zerolinecolor\":\"white\",\"gridwidth\":2}},\"shapedefaults\":{\"line\":{\"color\":\"#2a3f5f\"}},\"annotationdefaults\":{\"arrowcolor\":\"#2a3f5f\",\"arrowhead\":0,\"arrowwidth\":1},\"geo\":{\"bgcolor\":\"white\",\"landcolor\":\"#E5ECF6\",\"subunitcolor\":\"white\",\"showland\":true,\"showlakes\":true,\"lakecolor\":\"white\"},\"title\":{\"x\":0.05},\"mapbox\":{\"style\":\"light\"}}},\"xaxis\":{\"anchor\":\"y\",\"domain\":[0.0,1.0],\"title\":{\"text\":\"Type\"}},\"yaxis\":{\"anchor\":\"x\",\"domain\":[0.0,1.0],\"title\":{\"text\":\"Freq\"}},\"coloraxis\":{\"colorbar\":{\"title\":{\"text\":\"Freq\"}},\"colorscale\":[[0.0,\"rgb(196, 230, 195)\"],[0.16666666666666666,\"rgb(150, 210, 164)\"],[0.3333333333333333,\"rgb(109, 188, 144)\"],[0.5,\"rgb(77, 162, 132)\"],[0.6666666666666666,\"rgb(54, 135, 122)\"],[0.8333333333333334,\"rgb(38, 107, 110)\"],[1.0,\"rgb(29, 79, 96)\"]]},\"legend\":{\"tracegroupgap\":0},\"margin\":{\"t\":60},\"barmode\":\"relative\",\"uniformtext\":{\"minsize\":8,\"mode\":\"hide\"},\"title\":{\"text\":\"Location of Crimes\"}},                        {\"responsive\": true}                    ).then(function(){\n",
              "                            \n",
              "var gd = document.getElementById('13135c6b-d5c8-408c-b112-8f3d5a0313a2');\n",
              "var x = new MutationObserver(function (mutations, observer) {{\n",
              "        var display = window.getComputedStyle(gd).display;\n",
              "        if (!display || display === 'none') {{\n",
              "            console.log([gd, 'removed!']);\n",
              "            Plotly.purge(gd);\n",
              "            observer.disconnect();\n",
              "        }}\n",
              "}});\n",
              "\n",
              "// Listen for the removal of the full notebook cells\n",
              "var notebookContainer = gd.closest('#notebook-container');\n",
              "if (notebookContainer) {{\n",
              "    x.observe(notebookContainer, {childList: true});\n",
              "}}\n",
              "\n",
              "// Listen for the clearing of the current output cell\n",
              "var outputEl = gd.closest('.output');\n",
              "if (outputEl) {{\n",
              "    x.observe(outputEl, {childList: true});\n",
              "}}\n",
              "\n",
              "                        })                };                            </script>        </div>\n",
              "</body>\n",
              "</html>"
            ]
          },
          "metadata": {}
        }
      ],
      "source": [
        "plot_counts(c_crime_df[\"Location Description\"], \"Location of Crimes\")"
      ]
    },
    {
      "cell_type": "markdown",
      "id": "a0fd327c",
      "metadata": {
        "id": "a0fd327c"
      },
      "source": [
        "Crime happens mostly on the street"
      ]
    },
    {
      "cell_type": "markdown",
      "id": "f2d7899a",
      "metadata": {
        "id": "f2d7899a"
      },
      "source": [
        "5. __Number of crimes per Year x Months__ </br>\n",
        "Let's see the number of crimes per Year and Months..."
      ]
    },
    {
      "cell_type": "code",
      "execution_count": 49,
      "id": "d370fd23",
      "metadata": {
        "ExecuteTime": {
          "end_time": "2024-03-22T20:19:54.032943Z",
          "start_time": "2024-03-22T20:19:54.032943Z"
        },
        "id": "d370fd23"
      },
      "outputs": [],
      "source": [
        "# first we convert the date column to datetime data type.\n",
        "\n",
        "c_crime_df['Date'] = pd.to_datetime(chicago_crime_df['Date'],format = \"%m/%d/%Y %I:%M:%S %p\")\n",
        "c_crime_df.set_index(\"Date\", inplace=True)"
      ]
    },
    {
      "cell_type": "code",
      "execution_count": 51,
      "id": "ba8d289b",
      "metadata": {
        "ExecuteTime": {
          "end_time": "2024-03-22T20:19:54.048568Z",
          "start_time": "2024-03-22T20:19:54.048568Z"
        },
        "colab": {
          "base_uri": "https://localhost:8080/",
          "height": 238
        },
        "id": "ba8d289b",
        "outputId": "68266134-d177-4ab3-de7f-46bc231e7060"
      },
      "outputs": [
        {
          "output_type": "execute_result",
          "data": {
            "text/plain": [
              "            Number of cases Month  Year Year-Month\n",
              "Date                                              \n",
              "2001-01-31            38122     1  2001    2001-01\n",
              "2001-02-28            33789     2  2001    2001-02\n",
              "2001-03-31            40568     3  2001    2001-03\n",
              "2001-04-30            40091     4  2001    2001-04\n",
              "2001-05-31            41839     5  2001    2001-05"
            ],
            "text/html": [
              "\n",
              "  <div id=\"df-c2b7cc00-b72d-4e54-bdd9-d590ded9b94c\" class=\"colab-df-container\">\n",
              "    <div>\n",
              "<style scoped>\n",
              "    .dataframe tbody tr th:only-of-type {\n",
              "        vertical-align: middle;\n",
              "    }\n",
              "\n",
              "    .dataframe tbody tr th {\n",
              "        vertical-align: top;\n",
              "    }\n",
              "\n",
              "    .dataframe thead th {\n",
              "        text-align: right;\n",
              "    }\n",
              "</style>\n",
              "<table border=\"1\" class=\"dataframe\">\n",
              "  <thead>\n",
              "    <tr style=\"text-align: right;\">\n",
              "      <th></th>\n",
              "      <th>Number of cases</th>\n",
              "      <th>Month</th>\n",
              "      <th>Year</th>\n",
              "      <th>Year-Month</th>\n",
              "    </tr>\n",
              "    <tr>\n",
              "      <th>Date</th>\n",
              "      <th></th>\n",
              "      <th></th>\n",
              "      <th></th>\n",
              "      <th></th>\n",
              "    </tr>\n",
              "  </thead>\n",
              "  <tbody>\n",
              "    <tr>\n",
              "      <th>2001-01-31</th>\n",
              "      <td>38122</td>\n",
              "      <td>1</td>\n",
              "      <td>2001</td>\n",
              "      <td>2001-01</td>\n",
              "    </tr>\n",
              "    <tr>\n",
              "      <th>2001-02-28</th>\n",
              "      <td>33789</td>\n",
              "      <td>2</td>\n",
              "      <td>2001</td>\n",
              "      <td>2001-02</td>\n",
              "    </tr>\n",
              "    <tr>\n",
              "      <th>2001-03-31</th>\n",
              "      <td>40568</td>\n",
              "      <td>3</td>\n",
              "      <td>2001</td>\n",
              "      <td>2001-03</td>\n",
              "    </tr>\n",
              "    <tr>\n",
              "      <th>2001-04-30</th>\n",
              "      <td>40091</td>\n",
              "      <td>4</td>\n",
              "      <td>2001</td>\n",
              "      <td>2001-04</td>\n",
              "    </tr>\n",
              "    <tr>\n",
              "      <th>2001-05-31</th>\n",
              "      <td>41839</td>\n",
              "      <td>5</td>\n",
              "      <td>2001</td>\n",
              "      <td>2001-05</td>\n",
              "    </tr>\n",
              "  </tbody>\n",
              "</table>\n",
              "</div>\n",
              "    <div class=\"colab-df-buttons\">\n",
              "\n",
              "  <div class=\"colab-df-container\">\n",
              "    <button class=\"colab-df-convert\" onclick=\"convertToInteractive('df-c2b7cc00-b72d-4e54-bdd9-d590ded9b94c')\"\n",
              "            title=\"Convert this dataframe to an interactive table.\"\n",
              "            style=\"display:none;\">\n",
              "\n",
              "  <svg xmlns=\"http://www.w3.org/2000/svg\" height=\"24px\" viewBox=\"0 -960 960 960\">\n",
              "    <path d=\"M120-120v-720h720v720H120Zm60-500h600v-160H180v160Zm220 220h160v-160H400v160Zm0 220h160v-160H400v160ZM180-400h160v-160H180v160Zm440 0h160v-160H620v160ZM180-180h160v-160H180v160Zm440 0h160v-160H620v160Z\"/>\n",
              "  </svg>\n",
              "    </button>\n",
              "\n",
              "  <style>\n",
              "    .colab-df-container {\n",
              "      display:flex;\n",
              "      gap: 12px;\n",
              "    }\n",
              "\n",
              "    .colab-df-convert {\n",
              "      background-color: #E8F0FE;\n",
              "      border: none;\n",
              "      border-radius: 50%;\n",
              "      cursor: pointer;\n",
              "      display: none;\n",
              "      fill: #1967D2;\n",
              "      height: 32px;\n",
              "      padding: 0 0 0 0;\n",
              "      width: 32px;\n",
              "    }\n",
              "\n",
              "    .colab-df-convert:hover {\n",
              "      background-color: #E2EBFA;\n",
              "      box-shadow: 0px 1px 2px rgba(60, 64, 67, 0.3), 0px 1px 3px 1px rgba(60, 64, 67, 0.15);\n",
              "      fill: #174EA6;\n",
              "    }\n",
              "\n",
              "    .colab-df-buttons div {\n",
              "      margin-bottom: 4px;\n",
              "    }\n",
              "\n",
              "    [theme=dark] .colab-df-convert {\n",
              "      background-color: #3B4455;\n",
              "      fill: #D2E3FC;\n",
              "    }\n",
              "\n",
              "    [theme=dark] .colab-df-convert:hover {\n",
              "      background-color: #434B5C;\n",
              "      box-shadow: 0px 1px 3px 1px rgba(0, 0, 0, 0.15);\n",
              "      filter: drop-shadow(0px 1px 2px rgba(0, 0, 0, 0.3));\n",
              "      fill: #FFFFFF;\n",
              "    }\n",
              "  </style>\n",
              "\n",
              "    <script>\n",
              "      const buttonEl =\n",
              "        document.querySelector('#df-c2b7cc00-b72d-4e54-bdd9-d590ded9b94c button.colab-df-convert');\n",
              "      buttonEl.style.display =\n",
              "        google.colab.kernel.accessAllowed ? 'block' : 'none';\n",
              "\n",
              "      async function convertToInteractive(key) {\n",
              "        const element = document.querySelector('#df-c2b7cc00-b72d-4e54-bdd9-d590ded9b94c');\n",
              "        const dataTable =\n",
              "          await google.colab.kernel.invokeFunction('convertToInteractive',\n",
              "                                                    [key], {});\n",
              "        if (!dataTable) return;\n",
              "\n",
              "        const docLinkHtml = 'Like what you see? Visit the ' +\n",
              "          '<a target=\"_blank\" href=https://colab.research.google.com/notebooks/data_table.ipynb>data table notebook</a>'\n",
              "          + ' to learn more about interactive tables.';\n",
              "        element.innerHTML = '';\n",
              "        dataTable['output_type'] = 'display_data';\n",
              "        await google.colab.output.renderOutput(dataTable, element);\n",
              "        const docLink = document.createElement('div');\n",
              "        docLink.innerHTML = docLinkHtml;\n",
              "        element.appendChild(docLink);\n",
              "      }\n",
              "    </script>\n",
              "  </div>\n",
              "\n",
              "\n",
              "<div id=\"df-209ae179-e647-4871-9649-965c47289212\">\n",
              "  <button class=\"colab-df-quickchart\" onclick=\"quickchart('df-209ae179-e647-4871-9649-965c47289212')\"\n",
              "            title=\"Suggest charts\"\n",
              "            style=\"display:none;\">\n",
              "\n",
              "<svg xmlns=\"http://www.w3.org/2000/svg\" height=\"24px\"viewBox=\"0 0 24 24\"\n",
              "     width=\"24px\">\n",
              "    <g>\n",
              "        <path d=\"M19 3H5c-1.1 0-2 .9-2 2v14c0 1.1.9 2 2 2h14c1.1 0 2-.9 2-2V5c0-1.1-.9-2-2-2zM9 17H7v-7h2v7zm4 0h-2V7h2v10zm4 0h-2v-4h2v4z\"/>\n",
              "    </g>\n",
              "</svg>\n",
              "  </button>\n",
              "\n",
              "<style>\n",
              "  .colab-df-quickchart {\n",
              "      --bg-color: #E8F0FE;\n",
              "      --fill-color: #1967D2;\n",
              "      --hover-bg-color: #E2EBFA;\n",
              "      --hover-fill-color: #174EA6;\n",
              "      --disabled-fill-color: #AAA;\n",
              "      --disabled-bg-color: #DDD;\n",
              "  }\n",
              "\n",
              "  [theme=dark] .colab-df-quickchart {\n",
              "      --bg-color: #3B4455;\n",
              "      --fill-color: #D2E3FC;\n",
              "      --hover-bg-color: #434B5C;\n",
              "      --hover-fill-color: #FFFFFF;\n",
              "      --disabled-bg-color: #3B4455;\n",
              "      --disabled-fill-color: #666;\n",
              "  }\n",
              "\n",
              "  .colab-df-quickchart {\n",
              "    background-color: var(--bg-color);\n",
              "    border: none;\n",
              "    border-radius: 50%;\n",
              "    cursor: pointer;\n",
              "    display: none;\n",
              "    fill: var(--fill-color);\n",
              "    height: 32px;\n",
              "    padding: 0;\n",
              "    width: 32px;\n",
              "  }\n",
              "\n",
              "  .colab-df-quickchart:hover {\n",
              "    background-color: var(--hover-bg-color);\n",
              "    box-shadow: 0 1px 2px rgba(60, 64, 67, 0.3), 0 1px 3px 1px rgba(60, 64, 67, 0.15);\n",
              "    fill: var(--button-hover-fill-color);\n",
              "  }\n",
              "\n",
              "  .colab-df-quickchart-complete:disabled,\n",
              "  .colab-df-quickchart-complete:disabled:hover {\n",
              "    background-color: var(--disabled-bg-color);\n",
              "    fill: var(--disabled-fill-color);\n",
              "    box-shadow: none;\n",
              "  }\n",
              "\n",
              "  .colab-df-spinner {\n",
              "    border: 2px solid var(--fill-color);\n",
              "    border-color: transparent;\n",
              "    border-bottom-color: var(--fill-color);\n",
              "    animation:\n",
              "      spin 1s steps(1) infinite;\n",
              "  }\n",
              "\n",
              "  @keyframes spin {\n",
              "    0% {\n",
              "      border-color: transparent;\n",
              "      border-bottom-color: var(--fill-color);\n",
              "      border-left-color: var(--fill-color);\n",
              "    }\n",
              "    20% {\n",
              "      border-color: transparent;\n",
              "      border-left-color: var(--fill-color);\n",
              "      border-top-color: var(--fill-color);\n",
              "    }\n",
              "    30% {\n",
              "      border-color: transparent;\n",
              "      border-left-color: var(--fill-color);\n",
              "      border-top-color: var(--fill-color);\n",
              "      border-right-color: var(--fill-color);\n",
              "    }\n",
              "    40% {\n",
              "      border-color: transparent;\n",
              "      border-right-color: var(--fill-color);\n",
              "      border-top-color: var(--fill-color);\n",
              "    }\n",
              "    60% {\n",
              "      border-color: transparent;\n",
              "      border-right-color: var(--fill-color);\n",
              "    }\n",
              "    80% {\n",
              "      border-color: transparent;\n",
              "      border-right-color: var(--fill-color);\n",
              "      border-bottom-color: var(--fill-color);\n",
              "    }\n",
              "    90% {\n",
              "      border-color: transparent;\n",
              "      border-bottom-color: var(--fill-color);\n",
              "    }\n",
              "  }\n",
              "</style>\n",
              "\n",
              "  <script>\n",
              "    async function quickchart(key) {\n",
              "      const quickchartButtonEl =\n",
              "        document.querySelector('#' + key + ' button');\n",
              "      quickchartButtonEl.disabled = true;  // To prevent multiple clicks.\n",
              "      quickchartButtonEl.classList.add('colab-df-spinner');\n",
              "      try {\n",
              "        const charts = await google.colab.kernel.invokeFunction(\n",
              "            'suggestCharts', [key], {});\n",
              "      } catch (error) {\n",
              "        console.error('Error during call to suggestCharts:', error);\n",
              "      }\n",
              "      quickchartButtonEl.classList.remove('colab-df-spinner');\n",
              "      quickchartButtonEl.classList.add('colab-df-quickchart-complete');\n",
              "    }\n",
              "    (() => {\n",
              "      let quickchartButtonEl =\n",
              "        document.querySelector('#df-209ae179-e647-4871-9649-965c47289212 button');\n",
              "      quickchartButtonEl.style.display =\n",
              "        google.colab.kernel.accessAllowed ? 'block' : 'none';\n",
              "    })();\n",
              "  </script>\n",
              "</div>\n",
              "\n",
              "    </div>\n",
              "  </div>\n"
            ],
            "application/vnd.google.colaboratory.intrinsic+json": {
              "type": "dataframe",
              "variable_name": "cases",
              "summary": "{\n  \"name\": \"cases\",\n  \"rows\": 279,\n  \"fields\": [\n    {\n      \"column\": \"Date\",\n      \"properties\": {\n        \"dtype\": \"date\",\n        \"min\": \"2001-01-31 00:00:00\",\n        \"max\": \"2024-03-31 00:00:00\",\n        \"num_unique_values\": 279,\n        \"samples\": [\n          \"2003-07-31 00:00:00\",\n          \"2011-07-31 00:00:00\",\n          \"2017-08-31 00:00:00\"\n        ],\n        \"semantic_type\": \"\",\n        \"description\": \"\"\n      }\n    },\n    {\n      \"column\": \"Number of cases\",\n      \"properties\": {\n        \"dtype\": \"number\",\n        \"std\": 8431,\n        \"min\": 8960,\n        \"max\": 46012,\n        \"num_unique_values\": 277,\n        \"samples\": [\n          43417,\n          32570,\n          23531\n        ],\n        \"semantic_type\": \"\",\n        \"description\": \"\"\n      }\n    },\n    {\n      \"column\": \"Month\",\n      \"properties\": {\n        \"dtype\": \"category\",\n        \"num_unique_values\": 12,\n        \"samples\": [\n          \"11\",\n          \"10\",\n          \"1\"\n        ],\n        \"semantic_type\": \"\",\n        \"description\": \"\"\n      }\n    },\n    {\n      \"column\": \"Year\",\n      \"properties\": {\n        \"dtype\": \"object\",\n        \"num_unique_values\": 24,\n        \"samples\": [\n          \"2009\",\n          \"2017\",\n          \"2001\"\n        ],\n        \"semantic_type\": \"\",\n        \"description\": \"\"\n      }\n    },\n    {\n      \"column\": \"Year-Month\",\n      \"properties\": {\n        \"dtype\": \"object\",\n        \"num_unique_values\": 279,\n        \"samples\": [\n          \"2003-07\",\n          \"2011-07\",\n          \"2017-08\"\n        ],\n        \"semantic_type\": \"\",\n        \"description\": \"\"\n      }\n    }\n  ]\n}"
            }
          },
          "metadata": {},
          "execution_count": 51
        }
      ],
      "source": [
        "cases = pd.DataFrame(c_crime_df.resample(\"M\").size(), columns=[\"Number of cases\"])\n",
        "cases[\"Month\"] = cases.index.month.astype(str)\n",
        "cases[\"Year\"] = cases.index.year.astype(str)\n",
        "cases[\"Year-Month\"] = cases[\"Year\"].str.cat(cases[\"Month\"].str.zfill(2), sep=\"-\")\n",
        "cases.head()"
      ]
    },
    {
      "cell_type": "markdown",
      "id": "f43979b6",
      "metadata": {
        "id": "f43979b6"
      },
      "source": [
        "BY HEATMAP"
      ]
    },
    {
      "cell_type": "code",
      "execution_count": 52,
      "id": "f362a758",
      "metadata": {
        "ExecuteTime": {
          "end_time": "2024-03-22T20:19:54.048568Z",
          "start_time": "2024-03-22T20:19:54.048568Z"
        },
        "colab": {
          "base_uri": "https://localhost:8080/",
          "height": 743
        },
        "id": "f362a758",
        "outputId": "52bcc66d-380b-46b4-d023-dfdbdf61e449"
      },
      "outputs": [
        {
          "output_type": "display_data",
          "data": {
            "text/plain": [
              "<Figure size 2000x1000 with 2 Axes>"
            ],
            "image/png": "[encoded data removed]"
          },
          "metadata": {}
        }
      ],
      "source": [
        "case_table = cases[[\"Month\", \"Year\", \"Number of cases\"]]\n",
        "case_table  = case_table.pivot(index='Month', columns='Year', values='Number of cases').fillna(0).astype(int)\n",
        "case_table.index = case_table.index.astype(int)\n",
        "case_table = case_table.sort_index()\n",
        "case_table.index = ['Jan', 'Fev', 'Mar', 'Apr', 'May', 'Jun', 'Jul', 'Aug', 'Sep', 'Oct', 'Nov', 'Dec']\n",
        "plt.figure(figsize=(20, 10))\n",
        "_ = sns.heatmap(\n",
        "    case_table,\n",
        "    annot=True,\n",
        "    fmt=\"d\",\n",
        "    linewidths=0.5,\n",
        "    cmap=\"Blues\",\n",
        ").set_title('Number of crimes in chicago per Year x Months')"
      ]
    },
    {
      "cell_type": "markdown",
      "id": "71a11cf8",
      "metadata": {
        "id": "71a11cf8"
      },
      "source": [
        "The years between 2001 and 2012 were a tough time, the year 2008 was the worst with a mean of 71004 crimes per month, and the best year was the 2015 with a mean of 21916 crimes per month."
      ]
    },
    {
      "cell_type": "markdown",
      "id": "04d00bca",
      "metadata": {
        "id": "04d00bca"
      },
      "source": [
        "BY BAR"
      ]
    },
    {
      "cell_type": "code",
      "execution_count": 53,
      "id": "70fe52f1",
      "metadata": {
        "ExecuteTime": {
          "end_time": "2024-03-22T20:19:54.064191Z",
          "start_time": "2024-03-22T20:19:54.064191Z"
        },
        "colab": {
          "base_uri": "https://localhost:8080/",
          "height": 637
        },
        "id": "70fe52f1",
        "outputId": "50d18270-fc37-403a-e9b7-0352fd5cd6e2"
      },
      "outputs": [
        {
          "output_type": "display_data",
          "data": {
            "text/html": [
              "<html>\n",
              "<head><meta charset=\"utf-8\" /></head>\n",
              "<body>\n",
              "    <div>            <script src=\"https://cdnjs.cloudflare.com/ajax/libs/mathjax/2.7.5/MathJax.js?config=TeX-AMS-MML_SVG\"></script><script type=\"text/javascript\">if (window.MathJax && window.MathJax.Hub && window.MathJax.Hub.Config) {window.MathJax.Hub.Config({SVG: {font: \"STIX-Web\"}});}</script>                <script type=\"text/javascript\">window.PlotlyConfig = {MathJaxConfig: 'local'};</script>\n",
              "        <script charset=\"utf-8\" src=\"https://cdn.plot.ly/plotly-2.24.1.min.js\"></script>                <div id=\"8362d11c-d87b-472d-92d4-e9d23fbbe33e\" class=\"plotly-graph-div\" style=\"height:600px; width:1400px;\"></div>            <script type=\"text/javascript\">                                    window.PLOTLYENV=window.PLOTLYENV || {};                                    if (document.getElementById(\"8362d11c-d87b-472d-92d4-e9d23fbbe33e\")) {                    Plotly.newPlot(                        \"8362d11c-d87b-472d-92d4-e9d23fbbe33e\",                        [{\"alignmentgroup\":\"True\",\"customdata\":[[\"2001\",\"1\"],[\"2001\",\"2\"],[\"2001\",\"3\"],[\"2001\",\"4\"],[\"2001\",\"5\"],[\"2001\",\"6\"],[\"2001\",\"7\"],[\"2001\",\"8\"],[\"2001\",\"9\"],[\"2001\",\"10\"],[\"2001\",\"11\"],[\"2001\",\"12\"],[\"2002\",\"1\"],[\"2002\",\"2\"],[\"2002\",\"3\"],[\"2002\",\"4\"],[\"2002\",\"5\"],[\"2002\",\"6\"],[\"2002\",\"7\"],[\"2002\",\"8\"],[\"2002\",\"9\"],[\"2002\",\"10\"],[\"2002\",\"11\"],[\"2002\",\"12\"],[\"2003\",\"1\"],[\"2003\",\"2\"],[\"2003\",\"3\"],[\"2003\",\"4\"],[\"2003\",\"5\"],[\"2003\",\"6\"],[\"2003\",\"7\"],[\"2003\",\"8\"],[\"2003\",\"9\"],[\"2003\",\"10\"],[\"2003\",\"11\"],[\"2003\",\"12\"],[\"2004\",\"1\"],[\"2004\",\"2\"],[\"2004\",\"3\"],[\"2004\",\"4\"],[\"2004\",\"5\"],[\"2004\",\"6\"],[\"2004\",\"7\"],[\"2004\",\"8\"],[\"2004\",\"9\"],[\"2004\",\"10\"],[\"2004\",\"11\"],[\"2004\",\"12\"],[\"2005\",\"1\"],[\"2005\",\"2\"],[\"2005\",\"3\"],[\"2005\",\"4\"],[\"2005\",\"5\"],[\"2005\",\"6\"],[\"2005\",\"7\"],[\"2005\",\"8\"],[\"2005\",\"9\"],[\"2005\",\"10\"],[\"2005\",\"11\"],[\"2005\",\"12\"],[\"2006\",\"1\"],[\"2006\",\"2\"],[\"2006\",\"3\"],[\"2006\",\"4\"],[\"2006\",\"5\"],[\"2006\",\"6\"],[\"2006\",\"7\"],[\"2006\",\"8\"],[\"2006\",\"9\"],[\"2006\",\"10\"],[\"2006\",\"11\"],[\"2006\",\"12\"],[\"2007\",\"1\"],[\"2007\",\"2\"],[\"2007\",\"3\"],[\"2007\",\"4\"],[\"2007\",\"5\"],[\"2007\",\"6\"],[\"2007\",\"7\"],[\"2007\",\"8\"],[\"2007\",\"9\"],[\"2007\",\"10\"],[\"2007\",\"11\"],[\"2007\",\"12\"],[\"2008\",\"1\"],[\"2008\",\"2\"],[\"2008\",\"3\"],[\"2008\",\"4\"],[\"2008\",\"5\"],[\"2008\",\"6\"],[\"2008\",\"7\"],[\"2008\",\"8\"],[\"2008\",\"9\"],[\"2008\",\"10\"],[\"2008\",\"11\"],[\"2008\",\"12\"],[\"2009\",\"1\"],[\"2009\",\"2\"],[\"2009\",\"3\"],[\"2009\",\"4\"],[\"2009\",\"5\"],[\"2009\",\"6\"],[\"2009\",\"7\"],[\"2009\",\"8\"],[\"2009\",\"9\"],[\"2009\",\"10\"],[\"2009\",\"11\"],[\"2009\",\"12\"],[\"2010\",\"1\"],[\"2010\",\"2\"],[\"2010\",\"3\"],[\"2010\",\"4\"],[\"2010\",\"5\"],[\"2010\",\"6\"],[\"2010\",\"7\"],[\"2010\",\"8\"],[\"2010\",\"9\"],[\"2010\",\"10\"],[\"2010\",\"11\"],[\"2010\",\"12\"],[\"2011\",\"1\"],[\"2011\",\"2\"],[\"2011\",\"3\"],[\"2011\",\"4\"],[\"2011\",\"5\"],[\"2011\",\"6\"],[\"2011\",\"7\"],[\"2011\",\"8\"],[\"2011\",\"9\"],[\"2011\",\"10\"],[\"2011\",\"11\"],[\"2011\",\"12\"],[\"2012\",\"1\"],[\"2012\",\"2\"],[\"2012\",\"3\"],[\"2012\",\"4\"],[\"2012\",\"5\"],[\"2012\",\"6\"],[\"2012\",\"7\"],[\"2012\",\"8\"],[\"2012\",\"9\"],[\"2012\",\"10\"],[\"2012\",\"11\"],[\"2012\",\"12\"],[\"2013\",\"1\"],[\"2013\",\"2\"],[\"2013\",\"3\"],[\"2013\",\"4\"],[\"2013\",\"5\"],[\"2013\",\"6\"],[\"2013\",\"7\"],[\"2013\",\"8\"],[\"2013\",\"9\"],[\"2013\",\"10\"],[\"2013\",\"11\"],[\"2013\",\"12\"],[\"2014\",\"1\"],[\"2014\",\"2\"],[\"2014\",\"3\"],[\"2014\",\"4\"],[\"2014\",\"5\"],[\"2014\",\"6\"],[\"2014\",\"7\"],[\"2014\",\"8\"],[\"2014\",\"9\"],[\"2014\",\"10\"],[\"2014\",\"11\"],[\"2014\",\"12\"],[\"2015\",\"1\"],[\"2015\",\"2\"],[\"2015\",\"3\"],[\"2015\",\"4\"],[\"2015\",\"5\"],[\"2015\",\"6\"],[\"2015\",\"7\"],[\"2015\",\"8\"],[\"2015\",\"9\"],[\"2015\",\"10\"],[\"2015\",\"11\"],[\"2015\",\"12\"],[\"2016\",\"1\"],[\"2016\",\"2\"],[\"2016\",\"3\"],[\"2016\",\"4\"],[\"2016\",\"5\"],[\"2016\",\"6\"],[\"2016\",\"7\"],[\"2016\",\"8\"],[\"2016\",\"9\"],[\"2016\",\"10\"],[\"2016\",\"11\"],[\"2016\",\"12\"],[\"2017\",\"1\"],[\"2017\",\"2\"],[\"2017\",\"3\"],[\"2017\",\"4\"],[\"2017\",\"5\"],[\"2017\",\"6\"],[\"2017\",\"7\"],[\"2017\",\"8\"],[\"2017\",\"9\"],[\"2017\",\"10\"],[\"2017\",\"11\"],[\"2017\",\"12\"],[\"2018\",\"1\"],[\"2018\",\"2\"],[\"2018\",\"3\"],[\"2018\",\"4\"],[\"2018\",\"5\"],[\"2018\",\"6\"],[\"2018\",\"7\"],[\"2018\",\"8\"],[\"2018\",\"9\"],[\"2018\",\"10\"],[\"2018\",\"11\"],[\"2018\",\"12\"],[\"2019\",\"1\"],[\"2019\",\"2\"],[\"2019\",\"3\"],[\"2019\",\"4\"],[\"2019\",\"5\"],[\"2019\",\"6\"],[\"2019\",\"7\"],[\"2019\",\"8\"],[\"2019\",\"9\"],[\"2019\",\"10\"],[\"2019\",\"11\"],[\"2019\",\"12\"],[\"2020\",\"1\"],[\"2020\",\"2\"],[\"2020\",\"3\"],[\"2020\",\"4\"],[\"2020\",\"5\"],[\"2020\",\"6\"],[\"2020\",\"7\"],[\"2020\",\"8\"],[\"2020\",\"9\"],[\"2020\",\"10\"],[\"2020\",\"11\"],[\"2020\",\"12\"],[\"2021\",\"1\"],[\"2021\",\"2\"],[\"2021\",\"3\"],[\"2021\",\"4\"],[\"2021\",\"5\"],[\"2021\",\"6\"],[\"2021\",\"7\"],[\"2021\",\"8\"],[\"2021\",\"9\"],[\"2021\",\"10\"],[\"2021\",\"11\"],[\"2021\",\"12\"],[\"2022\",\"1\"],[\"2022\",\"2\"],[\"2022\",\"3\"],[\"2022\",\"4\"],[\"2022\",\"5\"],[\"2022\",\"6\"],[\"2022\",\"7\"],[\"2022\",\"8\"],[\"2022\",\"9\"],[\"2022\",\"10\"],[\"2022\",\"11\"],[\"2022\",\"12\"],[\"2023\",\"1\"],[\"2023\",\"2\"],[\"2023\",\"3\"],[\"2023\",\"4\"],[\"2023\",\"5\"],[\"2023\",\"6\"],[\"2023\",\"7\"],[\"2023\",\"8\"],[\"2023\",\"9\"],[\"2023\",\"10\"],[\"2023\",\"11\"],[\"2023\",\"12\"],[\"2024\",\"1\"],[\"2024\",\"2\"],[\"2024\",\"3\"]],\"hovertemplate\":\"Year-Month=%{x}\\u003cbr\\u003eNumber of cases=%{marker.color}\\u003cbr\\u003eYear=%{customdata[0]}\\u003cbr\\u003eMonth=%{customdata[1]}\\u003cextra\\u003e\\u003c\\u002fextra\\u003e\",\"legendgroup\":\"\",\"marker\":{\"color\":[38122,33789,40568,40091,41839,41735,44702,44041,41517,43036,39611,36851,38421,33910,38588,40040,42914,42840,46012,44215,42391,43148,37153,37178,36723,32510,38652,39789,41196,40820,43417,44271,41426,43330,38057,35791,35110,34071,39857,38271,40780,41134,43239,43045,41211,41525,36842,34323,33872,31989,36905,38871,40470,40055,41811,41545,39628,39960,35980,32671,36768,31298,36984,36478,39616,38820,41553,40497,37777,38661,35567,34146,34119,27137,36354,35637,40091,38995,40993,39844,38266,39596,34424,31608,33390,29050,33981,35594,38065,37697,40492,40535,37449,37856,33552,29411,30253,28239,33684,32555,35242,34279,35674,35825,33873,33542,31394,28182,29253,24949,32342,31668,33404,32727,33511,34158,31899,32399,28893,25245,27215,22222,28682,29090,31577,32295,33235,32570,29913,30257,27623,27013,26288,23857,28557,27167,30092,31050,31918,29983,27735,27947,26032,25236,25513,21411,24969,25525,27998,27384,28635,28656,26337,25474,23569,21865,20048,18028,22168,22921,24852,25387,26529,25885,23893,23988,20754,20960,20925,16366,21624,21689,23684,23161,24198,24784,23097,23070,20551,21077,20665,18660,21966,21069,23456,23958,24758,24821,23616,23656,21647,20296,22042,19225,20475,21621,23301,23775,24763,24645,22723,22819,21418,21027,20485,17318,21155,21073,24666,24179,25205,25429,23057,22765,20621,21926,19660,18331,20370,20924,23588,23531,24787,24362,22369,21623,19874,20718,19836,18123,16639,12795,17453,17546,19523,19792,17827,18270,16530,16310,15951,12984,16062,15558,17759,18784,19197,18506,19171,19313,17373,17272,15558,15194,18332,17956,20086,20759,22220,22255,22269,23129,20744,19840,20984,18283,20584,20560,22038,22538,23795,23946,22390,22834,21121,20967,19087,19284,8960],\"coloraxis\":\"coloraxis\",\"pattern\":{\"shape\":\"\"}},\"name\":\"\",\"offsetgroup\":\"\",\"orientation\":\"v\",\"showlegend\":false,\"textposition\":\"auto\",\"x\":[\"2001-01\",\"2001-02\",\"2001-03\",\"2001-04\",\"2001-05\",\"2001-06\",\"2001-07\",\"2001-08\",\"2001-09\",\"2001-10\",\"2001-11\",\"2001-12\",\"2002-01\",\"2002-02\",\"2002-03\",\"2002-04\",\"2002-05\",\"2002-06\",\"2002-07\",\"2002-08\",\"2002-09\",\"2002-10\",\"2002-11\",\"2002-12\",\"2003-01\",\"2003-02\",\"2003-03\",\"2003-04\",\"2003-05\",\"2003-06\",\"2003-07\",\"2003-08\",\"2003-09\",\"2003-10\",\"2003-11\",\"2003-12\",\"2004-01\",\"2004-02\",\"2004-03\",\"2004-04\",\"2004-05\",\"2004-06\",\"2004-07\",\"2004-08\",\"2004-09\",\"2004-10\",\"2004-11\",\"2004-12\",\"2005-01\",\"2005-02\",\"2005-03\",\"2005-04\",\"2005-05\",\"2005-06\",\"2005-07\",\"2005-08\",\"2005-09\",\"2005-10\",\"2005-11\",\"2005-12\",\"2006-01\",\"2006-02\",\"2006-03\",\"2006-04\",\"2006-05\",\"2006-06\",\"2006-07\",\"2006-08\",\"2006-09\",\"2006-10\",\"2006-11\",\"2006-12\",\"2007-01\",\"2007-02\",\"2007-03\",\"2007-04\",\"2007-05\",\"2007-06\",\"2007-07\",\"2007-08\",\"2007-09\",\"2007-10\",\"2007-11\",\"2007-12\",\"2008-01\",\"2008-02\",\"2008-03\",\"2008-04\",\"2008-05\",\"2008-06\",\"2008-07\",\"2008-08\",\"2008-09\",\"2008-10\",\"2008-11\",\"2008-12\",\"2009-01\",\"2009-02\",\"2009-03\",\"2009-04\",\"2009-05\",\"2009-06\",\"2009-07\",\"2009-08\",\"2009-09\",\"2009-10\",\"2009-11\",\"2009-12\",\"2010-01\",\"2010-02\",\"2010-03\",\"2010-04\",\"2010-05\",\"2010-06\",\"2010-07\",\"2010-08\",\"2010-09\",\"2010-10\",\"2010-11\",\"2010-12\",\"2011-01\",\"2011-02\",\"2011-03\",\"2011-04\",\"2011-05\",\"2011-06\",\"2011-07\",\"2011-08\",\"2011-09\",\"2011-10\",\"2011-11\",\"2011-12\",\"2012-01\",\"2012-02\",\"2012-03\",\"2012-04\",\"2012-05\",\"2012-06\",\"2012-07\",\"2012-08\",\"2012-09\",\"2012-10\",\"2012-11\",\"2012-12\",\"2013-01\",\"2013-02\",\"2013-03\",\"2013-04\",\"2013-05\",\"2013-06\",\"2013-07\",\"2013-08\",\"2013-09\",\"2013-10\",\"2013-11\",\"2013-12\",\"2014-01\",\"2014-02\",\"2014-03\",\"2014-04\",\"2014-05\",\"2014-06\",\"2014-07\",\"2014-08\",\"2014-09\",\"2014-10\",\"2014-11\",\"2014-12\",\"2015-01\",\"2015-02\",\"2015-03\",\"2015-04\",\"2015-05\",\"2015-06\",\"2015-07\",\"2015-08\",\"2015-09\",\"2015-10\",\"2015-11\",\"2015-12\",\"2016-01\",\"2016-02\",\"2016-03\",\"2016-04\",\"2016-05\",\"2016-06\",\"2016-07\",\"2016-08\",\"2016-09\",\"2016-10\",\"2016-11\",\"2016-12\",\"2017-01\",\"2017-02\",\"2017-03\",\"2017-04\",\"2017-05\",\"2017-06\",\"2017-07\",\"2017-08\",\"2017-09\",\"2017-10\",\"2017-11\",\"2017-12\",\"2018-01\",\"2018-02\",\"2018-03\",\"2018-04\",\"2018-05\",\"2018-06\",\"2018-07\",\"2018-08\",\"2018-09\",\"2018-10\",\"2018-11\",\"2018-12\",\"2019-01\",\"2019-02\",\"2019-03\",\"2019-04\",\"2019-05\",\"2019-06\",\"2019-07\",\"2019-08\",\"2019-09\",\"2019-10\",\"2019-11\",\"2019-12\",\"2020-01\",\"2020-02\",\"2020-03\",\"2020-04\",\"2020-05\",\"2020-06\",\"2020-07\",\"2020-08\",\"2020-09\",\"2020-10\",\"2020-11\",\"2020-12\",\"2021-01\",\"2021-02\",\"2021-03\",\"2021-04\",\"2021-05\",\"2021-06\",\"2021-07\",\"2021-08\",\"2021-09\",\"2021-10\",\"2021-11\",\"2021-12\",\"2022-01\",\"2022-02\",\"2022-03\",\"2022-04\",\"2022-05\",\"2022-06\",\"2022-07\",\"2022-08\",\"2022-09\",\"2022-10\",\"2022-11\",\"2022-12\",\"2023-01\",\"2023-02\",\"2023-03\",\"2023-04\",\"2023-05\",\"2023-06\",\"2023-07\",\"2023-08\",\"2023-09\",\"2023-10\",\"2023-11\",\"2023-12\",\"2024-01\",\"2024-02\",\"2024-03\"],\"xaxis\":\"x\",\"y\":[38122,33789,40568,40091,41839,41735,44702,44041,41517,43036,39611,36851,38421,33910,38588,40040,42914,42840,46012,44215,42391,43148,37153,37178,36723,32510,38652,39789,41196,40820,43417,44271,41426,43330,38057,35791,35110,34071,39857,38271,40780,41134,43239,43045,41211,41525,36842,34323,33872,31989,36905,38871,40470,40055,41811,41545,39628,39960,35980,32671,36768,31298,36984,36478,39616,38820,41553,40497,37777,38661,35567,34146,34119,27137,36354,35637,40091,38995,40993,39844,38266,39596,34424,31608,33390,29050,33981,35594,38065,37697,40492,40535,37449,37856,33552,29411,30253,28239,33684,32555,35242,34279,35674,35825,33873,33542,31394,28182,29253,24949,32342,31668,33404,32727,33511,34158,31899,32399,28893,25245,27215,22222,28682,29090,31577,32295,33235,32570,29913,30257,27623,27013,26288,23857,28557,27167,30092,31050,31918,29983,27735,27947,26032,25236,25513,21411,24969,25525,27998,27384,28635,28656,26337,25474,23569,21865,20048,18028,22168,22921,24852,25387,26529,25885,23893,23988,20754,20960,20925,16366,21624,21689,23684,23161,24198,24784,23097,23070,20551,21077,20665,18660,21966,21069,23456,23958,24758,24821,23616,23656,21647,20296,22042,19225,20475,21621,23301,23775,24763,24645,22723,22819,21418,21027,20485,17318,21155,21073,24666,24179,25205,25429,23057,22765,20621,21926,19660,18331,20370,20924,23588,23531,24787,24362,22369,21623,19874,20718,19836,18123,16639,12795,17453,17546,19523,19792,17827,18270,16530,16310,15951,12984,16062,15558,17759,18784,19197,18506,19171,19313,17373,17272,15558,15194,18332,17956,20086,20759,22220,22255,22269,23129,20744,19840,20984,18283,20584,20560,22038,22538,23795,23946,22390,22834,21121,20967,19087,19284,8960],\"yaxis\":\"y\",\"type\":\"bar\"}],                        {\"template\":{\"data\":{\"histogram2dcontour\":[{\"type\":\"histogram2dcontour\",\"colorbar\":{\"outlinewidth\":0,\"ticks\":\"\"},\"colorscale\":[[0.0,\"#0d0887\"],[0.1111111111111111,\"#46039f\"],[0.2222222222222222,\"#7201a8\"],[0.3333333333333333,\"#9c179e\"],[0.4444444444444444,\"#bd3786\"],[0.5555555555555556,\"#d8576b\"],[0.6666666666666666,\"#ed7953\"],[0.7777777777777778,\"#fb9f3a\"],[0.8888888888888888,\"#fdca26\"],[1.0,\"#f0f921\"]]}],\"choropleth\":[{\"type\":\"choropleth\",\"colorbar\":{\"outlinewidth\":0,\"ticks\":\"\"}}],\"histogram2d\":[{\"type\":\"histogram2d\",\"colorbar\":{\"outlinewidth\":0,\"ticks\":\"\"},\"colorscale\":[[0.0,\"#0d0887\"],[0.1111111111111111,\"#46039f\"],[0.2222222222222222,\"#7201a8\"],[0.3333333333333333,\"#9c179e\"],[0.4444444444444444,\"#bd3786\"],[0.5555555555555556,\"#d8576b\"],[0.6666666666666666,\"#ed7953\"],[0.7777777777777778,\"#fb9f3a\"],[0.8888888888888888,\"#fdca26\"],[1.0,\"#f0f921\"]]}],\"heatmap\":[{\"type\":\"heatmap\",\"colorbar\":{\"outlinewidth\":0,\"ticks\":\"\"},\"colorscale\":[[0.0,\"#0d0887\"],[0.1111111111111111,\"#46039f\"],[0.2222222222222222,\"#7201a8\"],[0.3333333333333333,\"#9c179e\"],[0.4444444444444444,\"#bd3786\"],[0.5555555555555556,\"#d8576b\"],[0.6666666666666666,\"#ed7953\"],[0.7777777777777778,\"#fb9f3a\"],[0.8888888888888888,\"#fdca26\"],[1.0,\"#f0f921\"]]}],\"heatmapgl\":[{\"type\":\"heatmapgl\",\"colorbar\":{\"outlinewidth\":0,\"ticks\":\"\"},\"colorscale\":[[0.0,\"#0d0887\"],[0.1111111111111111,\"#46039f\"],[0.2222222222222222,\"#7201a8\"],[0.3333333333333333,\"#9c179e\"],[0.4444444444444444,\"#bd3786\"],[0.5555555555555556,\"#d8576b\"],[0.6666666666666666,\"#ed7953\"],[0.7777777777777778,\"#fb9f3a\"],[0.8888888888888888,\"#fdca26\"],[1.0,\"#f0f921\"]]}],\"contourcarpet\":[{\"type\":\"contourcarpet\",\"colorbar\":{\"outlinewidth\":0,\"ticks\":\"\"}}],\"contour\":[{\"type\":\"contour\",\"colorbar\":{\"outlinewidth\":0,\"ticks\":\"\"},\"colorscale\":[[0.0,\"#0d0887\"],[0.1111111111111111,\"#46039f\"],[0.2222222222222222,\"#7201a8\"],[0.3333333333333333,\"#9c179e\"],[0.4444444444444444,\"#bd3786\"],[0.5555555555555556,\"#d8576b\"],[0.6666666666666666,\"#ed7953\"],[0.7777777777777778,\"#fb9f3a\"],[0.8888888888888888,\"#fdca26\"],[1.0,\"#f0f921\"]]}],\"surface\":[{\"type\":\"surface\",\"colorbar\":{\"outlinewidth\":0,\"ticks\":\"\"},\"colorscale\":[[0.0,\"#0d0887\"],[0.1111111111111111,\"#46039f\"],[0.2222222222222222,\"#7201a8\"],[0.3333333333333333,\"#9c179e\"],[0.4444444444444444,\"#bd3786\"],[0.5555555555555556,\"#d8576b\"],[0.6666666666666666,\"#ed7953\"],[0.7777777777777778,\"#fb9f3a\"],[0.8888888888888888,\"#fdca26\"],[1.0,\"#f0f921\"]]}],\"mesh3d\":[{\"type\":\"mesh3d\",\"colorbar\":{\"outlinewidth\":0,\"ticks\":\"\"}}],\"scatter\":[{\"fillpattern\":{\"fillmode\":\"overlay\",\"size\":10,\"solidity\":0.2},\"type\":\"scatter\"}],\"parcoords\":[{\"type\":\"parcoords\",\"line\":{\"colorbar\":{\"outlinewidth\":0,\"ticks\":\"\"}}}],\"scatterpolargl\":[{\"type\":\"scatterpolargl\",\"marker\":{\"colorbar\":{\"outlinewidth\":0,\"ticks\":\"\"}}}],\"bar\":[{\"error_x\":{\"color\":\"#2a3f5f\"},\"error_y\":{\"color\":\"#2a3f5f\"},\"marker\":{\"line\":{\"color\":\"#E5ECF6\",\"width\":0.5},\"pattern\":{\"fillmode\":\"overlay\",\"size\":10,\"solidity\":0.2}},\"type\":\"bar\"}],\"scattergeo\":[{\"type\":\"scattergeo\",\"marker\":{\"colorbar\":{\"outlinewidth\":0,\"ticks\":\"\"}}}],\"scatterpolar\":[{\"type\":\"scatterpolar\",\"marker\":{\"colorbar\":{\"outlinewidth\":0,\"ticks\":\"\"}}}],\"histogram\":[{\"marker\":{\"pattern\":{\"fillmode\":\"overlay\",\"size\":10,\"solidity\":0.2}},\"type\":\"histogram\"}],\"scattergl\":[{\"type\":\"scattergl\",\"marker\":{\"colorbar\":{\"outlinewidth\":0,\"ticks\":\"\"}}}],\"scatter3d\":[{\"type\":\"scatter3d\",\"line\":{\"colorbar\":{\"outlinewidth\":0,\"ticks\":\"\"}},\"marker\":{\"colorbar\":{\"outlinewidth\":0,\"ticks\":\"\"}}}],\"scattermapbox\":[{\"type\":\"scattermapbox\",\"marker\":{\"colorbar\":{\"outlinewidth\":0,\"ticks\":\"\"}}}],\"scatterternary\":[{\"type\":\"scatterternary\",\"marker\":{\"colorbar\":{\"outlinewidth\":0,\"ticks\":\"\"}}}],\"scattercarpet\":[{\"type\":\"scattercarpet\",\"marker\":{\"colorbar\":{\"outlinewidth\":0,\"ticks\":\"\"}}}],\"carpet\":[{\"aaxis\":{\"endlinecolor\":\"#2a3f5f\",\"gridcolor\":\"white\",\"linecolor\":\"white\",\"minorgridcolor\":\"white\",\"startlinecolor\":\"#2a3f5f\"},\"baxis\":{\"endlinecolor\":\"#2a3f5f\",\"gridcolor\":\"white\",\"linecolor\":\"white\",\"minorgridcolor\":\"white\",\"startlinecolor\":\"#2a3f5f\"},\"type\":\"carpet\"}],\"table\":[{\"cells\":{\"fill\":{\"color\":\"#EBF0F8\"},\"line\":{\"color\":\"white\"}},\"header\":{\"fill\":{\"color\":\"#C8D4E3\"},\"line\":{\"color\":\"white\"}},\"type\":\"table\"}],\"barpolar\":[{\"marker\":{\"line\":{\"color\":\"#E5ECF6\",\"width\":0.5},\"pattern\":{\"fillmode\":\"overlay\",\"size\":10,\"solidity\":0.2}},\"type\":\"barpolar\"}],\"pie\":[{\"automargin\":true,\"type\":\"pie\"}]},\"layout\":{\"autotypenumbers\":\"strict\",\"colorway\":[\"#636efa\",\"#EF553B\",\"#00cc96\",\"#ab63fa\",\"#FFA15A\",\"#19d3f3\",\"#FF6692\",\"#B6E880\",\"#FF97FF\",\"#FECB52\"],\"font\":{\"color\":\"#2a3f5f\"},\"hovermode\":\"closest\",\"hoverlabel\":{\"align\":\"left\"},\"paper_bgcolor\":\"white\",\"plot_bgcolor\":\"#E5ECF6\",\"polar\":{\"bgcolor\":\"#E5ECF6\",\"angularaxis\":{\"gridcolor\":\"white\",\"linecolor\":\"white\",\"ticks\":\"\"},\"radialaxis\":{\"gridcolor\":\"white\",\"linecolor\":\"white\",\"ticks\":\"\"}},\"ternary\":{\"bgcolor\":\"#E5ECF6\",\"aaxis\":{\"gridcolor\":\"white\",\"linecolor\":\"white\",\"ticks\":\"\"},\"baxis\":{\"gridcolor\":\"white\",\"linecolor\":\"white\",\"ticks\":\"\"},\"caxis\":{\"gridcolor\":\"white\",\"linecolor\":\"white\",\"ticks\":\"\"}},\"coloraxis\":{\"colorbar\":{\"outlinewidth\":0,\"ticks\":\"\"}},\"colorscale\":{\"sequential\":[[0.0,\"#0d0887\"],[0.1111111111111111,\"#46039f\"],[0.2222222222222222,\"#7201a8\"],[0.3333333333333333,\"#9c179e\"],[0.4444444444444444,\"#bd3786\"],[0.5555555555555556,\"#d8576b\"],[0.6666666666666666,\"#ed7953\"],[0.7777777777777778,\"#fb9f3a\"],[0.8888888888888888,\"#fdca26\"],[1.0,\"#f0f921\"]],\"sequentialminus\":[[0.0,\"#0d0887\"],[0.1111111111111111,\"#46039f\"],[0.2222222222222222,\"#7201a8\"],[0.3333333333333333,\"#9c179e\"],[0.4444444444444444,\"#bd3786\"],[0.5555555555555556,\"#d8576b\"],[0.6666666666666666,\"#ed7953\"],[0.7777777777777778,\"#fb9f3a\"],[0.8888888888888888,\"#fdca26\"],[1.0,\"#f0f921\"]],\"diverging\":[[0,\"#8e0152\"],[0.1,\"#c51b7d\"],[0.2,\"#de77ae\"],[0.3,\"#f1b6da\"],[0.4,\"#fde0ef\"],[0.5,\"#f7f7f7\"],[0.6,\"#e6f5d0\"],[0.7,\"#b8e186\"],[0.8,\"#7fbc41\"],[0.9,\"#4d9221\"],[1,\"#276419\"]]},\"xaxis\":{\"gridcolor\":\"white\",\"linecolor\":\"white\",\"ticks\":\"\",\"title\":{\"standoff\":15},\"zerolinecolor\":\"white\",\"automargin\":true,\"zerolinewidth\":2},\"yaxis\":{\"gridcolor\":\"white\",\"linecolor\":\"white\",\"ticks\":\"\",\"title\":{\"standoff\":15},\"zerolinecolor\":\"white\",\"automargin\":true,\"zerolinewidth\":2},\"scene\":{\"xaxis\":{\"backgroundcolor\":\"#E5ECF6\",\"gridcolor\":\"white\",\"linecolor\":\"white\",\"showbackground\":true,\"ticks\":\"\",\"zerolinecolor\":\"white\",\"gridwidth\":2},\"yaxis\":{\"backgroundcolor\":\"#E5ECF6\",\"gridcolor\":\"white\",\"linecolor\":\"white\",\"showbackground\":true,\"ticks\":\"\",\"zerolinecolor\":\"white\",\"gridwidth\":2},\"zaxis\":{\"backgroundcolor\":\"#E5ECF6\",\"gridcolor\":\"white\",\"linecolor\":\"white\",\"showbackground\":true,\"ticks\":\"\",\"zerolinecolor\":\"white\",\"gridwidth\":2}},\"shapedefaults\":{\"line\":{\"color\":\"#2a3f5f\"}},\"annotationdefaults\":{\"arrowcolor\":\"#2a3f5f\",\"arrowhead\":0,\"arrowwidth\":1},\"geo\":{\"bgcolor\":\"white\",\"landcolor\":\"#E5ECF6\",\"subunitcolor\":\"white\",\"showland\":true,\"showlakes\":true,\"lakecolor\":\"white\"},\"title\":{\"x\":0.05},\"mapbox\":{\"style\":\"light\"}}},\"xaxis\":{\"anchor\":\"y\",\"domain\":[0.0,1.0],\"title\":{\"text\":\"Year-Month\"}},\"yaxis\":{\"anchor\":\"x\",\"domain\":[0.0,1.0],\"title\":{\"text\":\"Number of cases\"}},\"coloraxis\":{\"colorbar\":{\"title\":{\"text\":\"Number of cases\"}},\"colorscale\":[[0.0,\"rgb(196, 230, 195)\"],[0.16666666666666666,\"rgb(150, 210, 164)\"],[0.3333333333333333,\"rgb(109, 188, 144)\"],[0.5,\"rgb(77, 162, 132)\"],[0.6666666666666666,\"rgb(54, 135, 122)\"],[0.8333333333333334,\"rgb(38, 107, 110)\"],[1.0,\"rgb(29, 79, 96)\"]]},\"legend\":{\"tracegroupgap\":0},\"margin\":{\"t\":60},\"barmode\":\"relative\",\"height\":600,\"width\":1400,\"title\":{\"text\":\"Crime counts per year-month in bars\"}},                        {\"responsive\": true}                    ).then(function(){\n",
              "                            \n",
              "var gd = document.getElementById('8362d11c-d87b-472d-92d4-e9d23fbbe33e');\n",
              "var x = new MutationObserver(function (mutations, observer) {{\n",
              "        var display = window.getComputedStyle(gd).display;\n",
              "        if (!display || display === 'none') {{\n",
              "            console.log([gd, 'removed!']);\n",
              "            Plotly.purge(gd);\n",
              "            observer.disconnect();\n",
              "        }}\n",
              "}});\n",
              "\n",
              "// Listen for the removal of the full notebook cells\n",
              "var notebookContainer = gd.closest('#notebook-container');\n",
              "if (notebookContainer) {{\n",
              "    x.observe(notebookContainer, {childList: true});\n",
              "}}\n",
              "\n",
              "// Listen for the clearing of the current output cell\n",
              "var outputEl = gd.closest('.output');\n",
              "if (outputEl) {{\n",
              "    x.observe(outputEl, {childList: true});\n",
              "}}\n",
              "\n",
              "                        })                };                            </script>        </div>\n",
              "</body>\n",
              "</html>"
            ]
          },
          "metadata": {}
        }
      ],
      "source": [
        "fig = px.bar(\n",
        "    cases,\n",
        "    x=\"Year-Month\",\n",
        "    y=\"Number of cases\",\n",
        "    hover_data=[\"Year\", \"Month\", \"Number of cases\"],\n",
        "    color=\"Number of cases\",\n",
        "    height=600,\n",
        "    width=1400,\n",
        "    color_continuous_scale=px.colors.sequential.Blugrn\n",
        "\n",
        ")\n",
        "fig.update_layout(title_text='Crime counts per year-month in bars')\n",
        "fig.show()"
      ]
    },
    {
      "cell_type": "markdown",
      "id": "0b220954",
      "metadata": {
        "id": "0b220954"
      },
      "source": [
        "Similar graph but using bars to visualize though noisy but can be used. Again the 'tough time' during 2001 until 2012."
      ]
    },
    {
      "cell_type": "code",
      "execution_count": null,
      "id": "0b3cc17d",
      "metadata": {
        "id": "0b3cc17d"
      },
      "outputs": [],
      "source": []
    },
    {
      "cell_type": "markdown",
      "id": "289125bb",
      "metadata": {
        "id": "289125bb"
      },
      "source": [
        "Are there specific location that crimes used to happen?\n",
        "\n",
        "Using Map plot"
      ]
    },
    {
      "cell_type": "code",
      "execution_count": 54,
      "id": "b2e7ba33",
      "metadata": {
        "ExecuteTime": {
          "end_time": "2024-03-22T20:19:54.079815Z",
          "start_time": "2024-03-22T20:19:54.079815Z"
        },
        "colab": {
          "base_uri": "https://localhost:8080/"
        },
        "id": "b2e7ba33",
        "outputId": "cc56d46e-649a-4dec-d22d-5c373c9355f2"
      },
      "outputs": [
        {
          "output_type": "stream",
          "name": "stdout",
          "text": [
            "<class 'pandas.core.frame.DataFrame'>\n",
            "DatetimeIndex: 8010584 entries, 2015-03-18 12:00:00 to 2020-03-06 14:00:00\n",
            "Data columns (total 12 columns):\n",
            " #   Column                Dtype  \n",
            "---  ------                -----  \n",
            " 0   Case Number           object \n",
            " 1   Primary Type          object \n",
            " 2   Location Description  object \n",
            " 3   Arrest                bool   \n",
            " 4   Domestic              bool   \n",
            " 5   Beat                  int64  \n",
            " 6   District              string \n",
            " 7   Ward                  float64\n",
            " 8   Year                  int64  \n",
            " 9   Latitude              float64\n",
            " 10  Longitude             float64\n",
            " 11  date                  object \n",
            "dtypes: bool(2), float64(3), int64(2), object(4), string(1)\n",
            "memory usage: 687.6+ MB\n"
          ]
        }
      ],
      "source": [
        "c_crime_df.info()"
      ]
    },
    {
      "cell_type": "code",
      "execution_count": 57,
      "id": "53e0bfbd",
      "metadata": {
        "ExecuteTime": {
          "end_time": "2024-03-22T20:19:54.079815Z",
          "start_time": "2024-03-22T20:19:54.079815Z"
        },
        "colab": {
          "base_uri": "https://localhost:8080/",
          "height": 345
        },
        "id": "53e0bfbd",
        "outputId": "c88100a1-9b04-43a6-c8bd-daa2c93dd7be"
      },
      "outputs": [
        {
          "output_type": "stream",
          "name": "stderr",
          "text": [
            "<ipython-input-57-a2bb474e3525>:2: SettingWithCopyWarning:\n",
            "\n",
            "\n",
            "A value is trying to be set on a copy of a slice from a DataFrame.\n",
            "Try using .loc[row_indexer,col_indexer] = value instead\n",
            "\n",
            "See the caveats in the documentation: https://pandas.pydata.org/pandas-docs/stable/user_guide/indexing.html#returning-a-view-versus-a-copy\n",
            "\n"
          ]
        },
        {
          "output_type": "execute_result",
          "data": {
            "text/plain": [
              "    Latitude  Longitude  Year\n",
              "0  41.877851 -87.627701  2015\n",
              "1  41.918947 -87.751570  2018\n",
              "3  41.960005 -87.718496  2018\n",
              "4  41.706992 -87.655552  2014\n",
              "5  41.748086 -87.629424  2018"
            ],
            "text/html": [
              "\n",
              "  <div id=\"df-19a3468b-6ca8-40a5-b170-e8b6c69e5c7c\" class=\"colab-df-container\">\n",
              "    <div>\n",
              "<style scoped>\n",
              "    .dataframe tbody tr th:only-of-type {\n",
              "        vertical-align: middle;\n",
              "    }\n",
              "\n",
              "    .dataframe tbody tr th {\n",
              "        vertical-align: top;\n",
              "    }\n",
              "\n",
              "    .dataframe thead th {\n",
              "        text-align: right;\n",
              "    }\n",
              "</style>\n",
              "<table border=\"1\" class=\"dataframe\">\n",
              "  <thead>\n",
              "    <tr style=\"text-align: right;\">\n",
              "      <th></th>\n",
              "      <th>Latitude</th>\n",
              "      <th>Longitude</th>\n",
              "      <th>Year</th>\n",
              "    </tr>\n",
              "  </thead>\n",
              "  <tbody>\n",
              "    <tr>\n",
              "      <th>0</th>\n",
              "      <td>41.877851</td>\n",
              "      <td>-87.627701</td>\n",
              "      <td>2015</td>\n",
              "    </tr>\n",
              "    <tr>\n",
              "      <th>1</th>\n",
              "      <td>41.918947</td>\n",
              "      <td>-87.751570</td>\n",
              "      <td>2018</td>\n",
              "    </tr>\n",
              "    <tr>\n",
              "      <th>3</th>\n",
              "      <td>41.960005</td>\n",
              "      <td>-87.718496</td>\n",
              "      <td>2018</td>\n",
              "    </tr>\n",
              "    <tr>\n",
              "      <th>4</th>\n",
              "      <td>41.706992</td>\n",
              "      <td>-87.655552</td>\n",
              "      <td>2014</td>\n",
              "    </tr>\n",
              "    <tr>\n",
              "      <th>5</th>\n",
              "      <td>41.748086</td>\n",
              "      <td>-87.629424</td>\n",
              "      <td>2018</td>\n",
              "    </tr>\n",
              "  </tbody>\n",
              "</table>\n",
              "</div>\n",
              "    <div class=\"colab-df-buttons\">\n",
              "\n",
              "  <div class=\"colab-df-container\">\n",
              "    <button class=\"colab-df-convert\" onclick=\"convertToInteractive('df-19a3468b-6ca8-40a5-b170-e8b6c69e5c7c')\"\n",
              "            title=\"Convert this dataframe to an interactive table.\"\n",
              "            style=\"display:none;\">\n",
              "\n",
              "  <svg xmlns=\"http://www.w3.org/2000/svg\" height=\"24px\" viewBox=\"0 -960 960 960\">\n",
              "    <path d=\"M120-120v-720h720v720H120Zm60-500h600v-160H180v160Zm220 220h160v-160H400v160Zm0 220h160v-160H400v160ZM180-400h160v-160H180v160Zm440 0h160v-160H620v160ZM180-180h160v-160H180v160Zm440 0h160v-160H620v160Z\"/>\n",
              "  </svg>\n",
              "    </button>\n",
              "\n",
              "  <style>\n",
              "    .colab-df-container {\n",
              "      display:flex;\n",
              "      gap: 12px;\n",
              "    }\n",
              "\n",
              "    .colab-df-convert {\n",
              "      background-color: #E8F0FE;\n",
              "      border: none;\n",
              "      border-radius: 50%;\n",
              "      cursor: pointer;\n",
              "      display: none;\n",
              "      fill: #1967D2;\n",
              "      height: 32px;\n",
              "      padding: 0 0 0 0;\n",
              "      width: 32px;\n",
              "    }\n",
              "\n",
              "    .colab-df-convert:hover {\n",
              "      background-color: #E2EBFA;\n",
              "      box-shadow: 0px 1px 2px rgba(60, 64, 67, 0.3), 0px 1px 3px 1px rgba(60, 64, 67, 0.15);\n",
              "      fill: #174EA6;\n",
              "    }\n",
              "\n",
              "    .colab-df-buttons div {\n",
              "      margin-bottom: 4px;\n",
              "    }\n",
              "\n",
              "    [theme=dark] .colab-df-convert {\n",
              "      background-color: #3B4455;\n",
              "      fill: #D2E3FC;\n",
              "    }\n",
              "\n",
              "    [theme=dark] .colab-df-convert:hover {\n",
              "      background-color: #434B5C;\n",
              "      box-shadow: 0px 1px 3px 1px rgba(0, 0, 0, 0.15);\n",
              "      filter: drop-shadow(0px 1px 2px rgba(0, 0, 0, 0.3));\n",
              "      fill: #FFFFFF;\n",
              "    }\n",
              "  </style>\n",
              "\n",
              "    <script>\n",
              "      const buttonEl =\n",
              "        document.querySelector('#df-19a3468b-6ca8-40a5-b170-e8b6c69e5c7c button.colab-df-convert');\n",
              "      buttonEl.style.display =\n",
              "        google.colab.kernel.accessAllowed ? 'block' : 'none';\n",
              "\n",
              "      async function convertToInteractive(key) {\n",
              "        const element = document.querySelector('#df-19a3468b-6ca8-40a5-b170-e8b6c69e5c7c');\n",
              "        const dataTable =\n",
              "          await google.colab.kernel.invokeFunction('convertToInteractive',\n",
              "                                                    [key], {});\n",
              "        if (!dataTable) return;\n",
              "\n",
              "        const docLinkHtml = 'Like what you see? Visit the ' +\n",
              "          '<a target=\"_blank\" href=https://colab.research.google.com/notebooks/data_table.ipynb>data table notebook</a>'\n",
              "          + ' to learn more about interactive tables.';\n",
              "        element.innerHTML = '';\n",
              "        dataTable['output_type'] = 'display_data';\n",
              "        await google.colab.output.renderOutput(dataTable, element);\n",
              "        const docLink = document.createElement('div');\n",
              "        docLink.innerHTML = docLinkHtml;\n",
              "        element.appendChild(docLink);\n",
              "      }\n",
              "    </script>\n",
              "  </div>\n",
              "\n",
              "\n",
              "<div id=\"df-bab6345f-2e42-487f-94d9-b88333d84272\">\n",
              "  <button class=\"colab-df-quickchart\" onclick=\"quickchart('df-bab6345f-2e42-487f-94d9-b88333d84272')\"\n",
              "            title=\"Suggest charts\"\n",
              "            style=\"display:none;\">\n",
              "\n",
              "<svg xmlns=\"http://www.w3.org/2000/svg\" height=\"24px\"viewBox=\"0 0 24 24\"\n",
              "     width=\"24px\">\n",
              "    <g>\n",
              "        <path d=\"M19 3H5c-1.1 0-2 .9-2 2v14c0 1.1.9 2 2 2h14c1.1 0 2-.9 2-2V5c0-1.1-.9-2-2-2zM9 17H7v-7h2v7zm4 0h-2V7h2v10zm4 0h-2v-4h2v4z\"/>\n",
              "    </g>\n",
              "</svg>\n",
              "  </button>\n",
              "\n",
              "<style>\n",
              "  .colab-df-quickchart {\n",
              "      --bg-color: #E8F0FE;\n",
              "      --fill-color: #1967D2;\n",
              "      --hover-bg-color: #E2EBFA;\n",
              "      --hover-fill-color: #174EA6;\n",
              "      --disabled-fill-color: #AAA;\n",
              "      --disabled-bg-color: #DDD;\n",
              "  }\n",
              "\n",
              "  [theme=dark] .colab-df-quickchart {\n",
              "      --bg-color: #3B4455;\n",
              "      --fill-color: #D2E3FC;\n",
              "      --hover-bg-color: #434B5C;\n",
              "      --hover-fill-color: #FFFFFF;\n",
              "      --disabled-bg-color: #3B4455;\n",
              "      --disabled-fill-color: #666;\n",
              "  }\n",
              "\n",
              "  .colab-df-quickchart {\n",
              "    background-color: var(--bg-color);\n",
              "    border: none;\n",
              "    border-radius: 50%;\n",
              "    cursor: pointer;\n",
              "    display: none;\n",
              "    fill: var(--fill-color);\n",
              "    height: 32px;\n",
              "    padding: 0;\n",
              "    width: 32px;\n",
              "  }\n",
              "\n",
              "  .colab-df-quickchart:hover {\n",
              "    background-color: var(--hover-bg-color);\n",
              "    box-shadow: 0 1px 2px rgba(60, 64, 67, 0.3), 0 1px 3px 1px rgba(60, 64, 67, 0.15);\n",
              "    fill: var(--button-hover-fill-color);\n",
              "  }\n",
              "\n",
              "  .colab-df-quickchart-complete:disabled,\n",
              "  .colab-df-quickchart-complete:disabled:hover {\n",
              "    background-color: var(--disabled-bg-color);\n",
              "    fill: var(--disabled-fill-color);\n",
              "    box-shadow: none;\n",
              "  }\n",
              "\n",
              "  .colab-df-spinner {\n",
              "    border: 2px solid var(--fill-color);\n",
              "    border-color: transparent;\n",
              "    border-bottom-color: var(--fill-color);\n",
              "    animation:\n",
              "      spin 1s steps(1) infinite;\n",
              "  }\n",
              "\n",
              "  @keyframes spin {\n",
              "    0% {\n",
              "      border-color: transparent;\n",
              "      border-bottom-color: var(--fill-color);\n",
              "      border-left-color: var(--fill-color);\n",
              "    }\n",
              "    20% {\n",
              "      border-color: transparent;\n",
              "      border-left-color: var(--fill-color);\n",
              "      border-top-color: var(--fill-color);\n",
              "    }\n",
              "    30% {\n",
              "      border-color: transparent;\n",
              "      border-left-color: var(--fill-color);\n",
              "      border-top-color: var(--fill-color);\n",
              "      border-right-color: var(--fill-color);\n",
              "    }\n",
              "    40% {\n",
              "      border-color: transparent;\n",
              "      border-right-color: var(--fill-color);\n",
              "      border-top-color: var(--fill-color);\n",
              "    }\n",
              "    60% {\n",
              "      border-color: transparent;\n",
              "      border-right-color: var(--fill-color);\n",
              "    }\n",
              "    80% {\n",
              "      border-color: transparent;\n",
              "      border-right-color: var(--fill-color);\n",
              "      border-bottom-color: var(--fill-color);\n",
              "    }\n",
              "    90% {\n",
              "      border-color: transparent;\n",
              "      border-bottom-color: var(--fill-color);\n",
              "    }\n",
              "  }\n",
              "</style>\n",
              "\n",
              "  <script>\n",
              "    async function quickchart(key) {\n",
              "      const quickchartButtonEl =\n",
              "        document.querySelector('#' + key + ' button');\n",
              "      quickchartButtonEl.disabled = true;  // To prevent multiple clicks.\n",
              "      quickchartButtonEl.classList.add('colab-df-spinner');\n",
              "      try {\n",
              "        const charts = await google.colab.kernel.invokeFunction(\n",
              "            'suggestCharts', [key], {});\n",
              "      } catch (error) {\n",
              "        console.error('Error during call to suggestCharts:', error);\n",
              "      }\n",
              "      quickchartButtonEl.classList.remove('colab-df-spinner');\n",
              "      quickchartButtonEl.classList.add('colab-df-quickchart-complete');\n",
              "    }\n",
              "    (() => {\n",
              "      let quickchartButtonEl =\n",
              "        document.querySelector('#df-bab6345f-2e42-487f-94d9-b88333d84272 button');\n",
              "      quickchartButtonEl.style.display =\n",
              "        google.colab.kernel.accessAllowed ? 'block' : 'none';\n",
              "    })();\n",
              "  </script>\n",
              "</div>\n",
              "\n",
              "    </div>\n",
              "  </div>\n"
            ],
            "application/vnd.google.colaboratory.intrinsic+json": {
              "type": "dataframe",
              "variable_name": "map_marks"
            }
          },
          "metadata": {},
          "execution_count": 57
        }
      ],
      "source": [
        "map_marks = chicago_crime_df[['Latitude', 'Longitude']]\n",
        "map_marks['Year'] =  pd.to_datetime(chicago_crime_df.Date, format=\"%m/%d/%Y %I:%M:%S %p\").dt.year\n",
        "map_marks.head()"
      ]
    },
    {
      "cell_type": "code",
      "execution_count": 58,
      "id": "918baab8",
      "metadata": {
        "ExecuteTime": {
          "end_time": "2024-03-22T20:19:54.095441Z",
          "start_time": "2024-03-22T20:19:54.095441Z"
        },
        "colab": {
          "base_uri": "https://localhost:8080/",
          "height": 667
        },
        "id": "918baab8",
        "outputId": "7ac0175b-63ef-4c68-a138-e959b17c104a"
      },
      "outputs": [
        {
          "output_type": "display_data",
          "data": {
            "text/html": [
              "<html>\n",
              "<head><meta charset=\"utf-8\" /></head>\n",
              "<body>\n",
              "    <div>            <script src=\"https://cdnjs.cloudflare.com/ajax/libs/mathjax/2.7.5/MathJax.js?config=TeX-AMS-MML_SVG\"></script><script type=\"text/javascript\">if (window.MathJax && window.MathJax.Hub && window.MathJax.Hub.Config) {window.MathJax.Hub.Config({SVG: {font: \"STIX-Web\"}});}</script>                <script type=\"text/javascript\">window.PlotlyConfig = {MathJaxConfig: 'local'};</script>\n",
              "        <script charset=\"utf-8\" src=\"https://cdn.plot.ly/plotly-2.24.1.min.js\"></script>                <div id=\"8f01d53c-de7a-4e2e-9137-5e8a4107c6a0\" class=\"plotly-graph-div\" style=\"height:650px; width:100%;\"></div>            <script type=\"text/javascript\">                                    window.PLOTLYENV=window.PLOTLYENV || {};                                    if (document.getElementById(\"8f01d53c-de7a-4e2e-9137-5e8a4107c6a0\")) {                    Plotly.newPlot(                        \"8f01d53c-de7a-4e2e-9137-5e8a4107c6a0\",                        [{\"hovertemplate\":\"Latitude=%{lat}\\u003cbr\\u003eLongitude=%{lon}\\u003cextra\\u003e\\u003c\\u002fextra\\u003e\",\"lat\":[41.813206247,41.754879819,41.931582761,41.946133807,41.889453169,41.990848739,41.869355081,41.876671946,41.919517868,41.742848789,41.88360569,41.941453098,41.976290414,41.783366493,41.882217341,41.922486313,41.880801426,41.88407329,41.858158349,41.83352627,41.87773611,41.930937372,41.777261623,41.679094242,41.795900375,41.767634694,41.799030006,41.782228091,41.891700115,41.893623014,41.97531012,41.767054957,41.889561428,41.922647776,41.752953173,41.882908752,41.665814864,41.909760125,41.785268355,41.740196515,41.990410236,41.875232942,41.83605962,41.952820036,41.900566362,41.906386373,41.683935861,41.679987647,41.947252263,41.994424992,41.999845135,41.807838121,41.800675732,41.889906681,41.740957045,41.887293707,41.775193472,41.939898633,41.669809286,41.868541914,41.68801045,41.864217865,41.781192968,41.892033289,41.851487242,41.88033698,41.657857407,41.922440953,41.670088253,41.658268087,41.911151209,41.863690977,41.888755352,41.721980734,41.867428687,41.726796298,41.937576483,41.750854162,41.897712334,41.785930664,41.751464464,41.990041951,41.879371661,41.857502053,41.900110074,41.714974424,41.882689697,41.885808136,41.837565635,41.880319093,41.862218265,41.867504412,41.7386632,41.845615296,41.77163245,41.944367624,41.926239232,41.893408918,41.89117267,41.909588772,41.868242384,41.678628912,41.778451539,41.821461084,41.745622344,41.925691711,41.666001979,41.724352469,41.77587085,41.885730695,41.924751772,41.965556352,41.80270068,41.999330586,41.837771398,41.743469497,41.875286501,41.938581442,41.872784897,41.890505818,41.903141995,41.802520714,41.885428814,41.778702144,41.961948442,41.965425141,41.768748315,41.733382134,41.908482235,41.783340761,41.856790413,41.875107956,41.772998982,41.812948231,41.952052445,41.891006446,41.854610642,41.759293313,41.868829303,41.855477008,41.830697249,41.847203408,41.909730421,41.680760863,41.938026587,41.82267985,41.955947624,41.653218327,41.768226879,41.755957881,41.903489956,41.696810133,41.770214345,41.732994319,41.922461479,41.802341818,41.958902502,41.781302592,41.756298891,41.880775433,41.879078909,41.914495392,41.896714548,41.722289754,41.678481106,41.947503559,41.869006584,41.819349422,41.908436498,41.665814864,41.722578383,41.852750046,41.953516372,41.747502426,41.92448075,41.931549654,41.952132986,41.886665074,41.919754201,41.9397859,41.827797157,41.925022229,42.0200807,41.787930757,41.81028113,41.808418076,41.777577536,41.840672583,41.688106461,41.783779397,41.731797975,41.701174097,41.852779498,41.74799231,41.953552585,41.91231548,41.85294738,41.992735668,41.794852216,41.868986836,41.767132385,41.834704074,41.924559595,41.792953397,41.970775571,41.808485674,41.749110891,42.013796364,41.948699198,41.867906208,41.843721971,41.7658551,41.799151238,41.946815318,41.932083687,41.899146959,41.998605659,41.688164766,41.876132556,41.744208813,41.903113054,41.755733013,41.720307347,41.912321413,41.798023306,41.805848141,41.906273455,41.793726584,41.904209414,41.706461203,41.778923367,41.798797735,41.802111489,41.89223972,41.918947024,41.899444865,41.88219558,41.738895495,41.776485109,41.758475455,41.883824914,41.748839584,41.859087169,41.943664148,41.707322807,41.747165655,41.746482505,41.891694878,41.752223842,41.797641939,41.820265788,41.869331608,41.693846743,41.886091158,41.906863573,41.990615196,41.87675128,41.726511921,41.851761264,41.754424685,41.733886218,41.896607178,41.967352513,41.736824751,41.902502165,41.793377074,41.924100742,41.881484024,41.755017022,41.74688555,41.802065071,41.675257619,41.997442155,41.878032194,41.701262449,41.917665963,41.969488572,41.874984214,41.772901454,41.68409335,41.969135981,41.765993022,41.735546485,41.965943826,41.68075847,41.860310902,41.794583892,41.894048023,41.765755571,41.899235024,41.906608943,41.798852734,41.727129592,41.936335635,41.804102394,41.897850152,41.948394773,41.80266556,41.786873855,41.958010544,41.906507267,41.766251035,41.802509202,41.970599981,41.951456943,41.765843381,41.930051701,41.840218848,41.78701723,41.882422672,41.804131197,41.827161886,41.788230546,41.811885607,41.905577548,41.715680818,41.926523588,41.908234918,41.891990384,41.886987874,41.869857063,41.722108211,41.876036792,41.657309104,41.707160552,41.749660466,41.977463973,41.878060291,41.921060646,41.80620026,41.852357805,41.749687103,41.876607964,41.942464727,41.796005609,41.911696212,41.86821682,41.845880198,41.903717317,41.947876885,41.972452381,41.911222851,41.774379398,41.779798546,41.87178962,41.734404191,41.720796052,41.910518966,41.7533433,41.800865552,41.690330018,41.76932069,41.767245969,41.947163781,41.726219145,41.754787799,41.803048959,41.899472986,41.722503153,41.877454631,41.918859596,41.846991348,41.909942193,41.68864338,41.881537188,41.827597733,41.89446869,41.859928362,41.932230671,41.894481981,41.655308919,41.744641174,41.878370307,41.797700881,41.799596591,41.893688944,41.899926347,41.730147093,41.768727829,41.924706904,41.784673072,41.75629246,41.974861952,41.674903627,41.868541914,41.868300102,41.891579621,41.898818952,41.80626991,41.7586625,41.898992594,41.858362383,41.694926943,41.777967289,41.89486351,41.771062488,41.829651528,41.858776513,41.864028802,41.868354554,41.872274452,41.900615397,41.711672932,41.809651402,41.98783548,41.868284534,41.798452057,41.783812174,41.876881895,41.716930096,41.861865748,41.882407184,41.945268507,41.822924839,41.73014941,41.688078821,41.880383764,41.830530933,41.905074112,41.889868096,41.746784577,41.903116094,41.892955677,41.773461272,41.86645523,41.908499313,41.892507682,41.883749039,41.781203314,41.898419782,41.927862889,41.7458171,41.86378501,41.818155146,41.987270145,41.85071995,41.906489594,41.678651004,41.731513627,41.775967827,41.891734597,41.970764862,41.81577842,41.762034341,41.903427962,41.958093328,41.772998982,41.742032629,41.968338577,41.897910686,41.678237739,41.930950537,41.995800661,41.94219754,41.920991704,41.954468882,41.959338003,41.872632044,41.736886852,41.828762287,41.931129005,41.931637858,41.706376496,41.946294133,41.769713641,41.981779495,41.873911726,41.864756257,41.895965875,41.730041098,41.900870422,41.931726199,41.752314797,41.774327672,41.887310478,41.87281809,41.883500187,41.714052165,41.945422358,41.827161886,41.717209941,41.785817262,41.754088707,41.739005004,41.906823047,41.797261923,41.967127434,41.78493854,41.960186048,41.778047465,42.003758225,41.866125406,41.743841062,41.779429209,41.830954079,41.886261339,41.766617329,41.88877952,41.866843668,41.768238429,41.691558557,41.762401133,41.774090471,41.880988964,41.784829102,41.809125265,41.899146952,41.78810803,41.88977393,41.963845927,41.891105393,41.988683713,41.93991842,41.845018785,41.86982616,41.859964996,41.896083413,41.94447022,41.924657953,41.682334926,41.756186302,41.780419643,41.986428158,41.907966732,41.764632089,41.773046314,41.858413159,41.766402779,41.970044556,41.928458611,41.759442511,41.915552955,41.861161041,41.818625096,41.680811777,41.696750515,41.976851852,41.936464326,41.869782186,41.903945954,41.734189321,41.787394544,41.753120521,41.887288568,41.714757557,41.90132405,41.75089655,41.714757557,41.938522005,41.800822988,41.92046017,41.778877155,41.766687809,41.860149538,41.788441154,41.894378295,41.918947024,41.695063456,41.735981424,41.877510239,41.872257468,41.795327054,41.880775433,41.998226655,41.873699424,41.876616651,41.786735748,41.876612775,41.877103804,41.930714628,41.890090489,41.795868205,41.855034296,41.883203863,41.80565213,41.740561303,41.885426371,41.869807354,41.862897748,41.876387675,41.793959011,41.914850649,41.784075886,41.87813609,41.795165413,41.9105506,41.885495793,41.840005636,41.959994125,41.921103996,41.801482447,41.986710252,41.763167652,41.751932858,41.940022532,41.695908161,41.658509652,41.905001395,41.922786529,41.872875887,41.983152782,41.886370325,42.009148607,41.85547723,41.971407936,41.879633871,41.756889607,41.881887475,41.746050927,41.96335876,41.934853418,41.909501004,41.778793876,41.817553805,41.908560535,41.890051565,41.736508334,41.935195085,41.72852756,41.782269597,41.924690405,41.883541976,41.691636628,41.798775176,41.891118758,41.795364408,41.980826277,41.738587611,41.922724826,41.70631779,41.728866416,41.831075459,41.897746689,41.885671206,41.891253239,41.756635937,41.91517024,41.812727639,41.894632233,41.923976215,41.926231713,41.91007391,41.724903331,41.779090123,41.908849952,41.750999249,41.958206681,41.758856155,41.814489708,41.831478244,41.750359395,41.765705544,41.876951569,41.756249125,41.79770967,41.774409326,41.830014008,41.90849796,41.851488418,41.772972076,41.835947057,41.688218178,41.770191176,41.825397938,41.770995013,41.769174426,41.952344566,41.969936675,41.875940895,41.776327366,41.863974349,41.957819178,41.848314076,41.875740168,41.883500187,41.806291558,41.834205006,41.932863716,41.75050745,41.765188879,41.785843386,41.852534358,41.93991842,41.850656285,41.977123255,41.904600958,41.869163586,41.961867922,41.72203018,41.813258249,41.74970659,41.800878865,41.882217341,41.876068507,41.889393149,41.754664775,41.90925107,41.906221264,41.856654026,41.721324133,41.722977504,41.866235446,41.863598471,41.860013097,41.891322875,41.808540081,41.865791445,41.982092408,42.000426773,41.964009398,41.773032921,41.892295226,41.690731104,41.71253502,41.781610334,41.756224371,41.930103628,41.794062319,41.842993209,41.905357101,41.752130519,41.725992872,41.793856167,41.838565416,41.756970188,41.763500481,41.903576802,41.91400478,41.963008177,41.704172764,41.939728229,41.77478124,41.880334264,41.755201817,41.801518121,41.935137774,41.878178813,41.984237719,41.744938196,42.002971918,41.906797102,41.754415996,41.829496269,41.898489497,41.880238942,41.727221958,41.851142078,41.744905454,41.932317493,41.73986789,41.808448845,41.768012314,41.971582676,41.743330403,41.658440594,41.994209028,41.96538061,41.743419856,41.896133693,41.892841858,41.940727712,41.945248006,41.912218046,41.716273904,41.703478083,41.725815531,41.752735105,41.923672617,41.803201891,41.743521771,41.788121926,41.864033702,41.736759399,41.889533428,41.765134856,41.909664252,41.967309567,41.801330311,41.841289747,41.793195202,41.89819929,41.801034017,41.756866243,41.962015538,41.768345714,41.953972726,41.792248931,41.896261177,41.77890498,41.856071543,42.007397662,41.851929357,41.729131953,41.926564883,41.89384059,41.771634712,41.836069707,41.901856752,41.770180534,41.843410857,41.894682897,41.879629586,41.88022879,42.001936117,41.756640447,41.912268907,41.777622942,41.878211743,41.688756095,41.915990756,41.762943707,41.865572356,41.888932488,41.743245311,41.869092702,41.812583891,41.822679359,41.698633976,41.772762188,41.892631323,41.741939038,41.913320241,41.891694878,41.886901452,41.873807522,41.884653752,41.844338546,42.014499021,41.912127102,41.722909672,41.754810379,41.824796056,41.880751096,41.765997125,41.747687004,41.720307043,41.88162654,41.745127679,41.807057426,41.885426714,41.972422994,41.911367051,41.78952929,41.948751843,41.900489748,41.931959311,41.872632163,41.993007999,41.706235757,41.826846276,42.011404241,41.782436739,41.705139941,41.856468235,41.7128602,41.852504994,41.772817297,41.786945223,41.814319962,41.886337106,41.877618436,41.846044951,41.79054357,41.734155456,41.930148397,41.883500187,41.949520997,41.801292317,42.00552183,41.910877469,41.867191464,41.945446867,41.794299045,41.843838717,41.765048667,41.945682182,41.88965596,41.739943769,41.794344947,41.675443263,41.958496529,41.725738148,41.73678777,41.763968536,41.79171044,41.802444929,41.8994509,41.948602785,41.794014543,41.902718047,41.893161621,41.979006297,41.706992051,41.87788013,41.975606477,41.764399277,41.816196221,41.74836467,41.953142599,41.692425368,41.809407529,41.881683753,41.869786389,41.757658054,41.928263171,41.808038017,41.751509703,41.812384026,41.838925787,41.779536514,41.803520976,41.88208211,41.657534615,41.882470918,41.700789401,41.74444837,41.717986512,41.897690028,41.851480155,41.859983323,41.941084385,41.965380394,41.809487578,41.908060286,41.685582896,41.691612641,41.847516848,41.934211103,41.731909236,41.874393341,41.893622122,41.696717494,42.016294375,41.657321932,41.881222205,41.759792968,41.782102459,41.891404632,41.909921897,41.949385132,41.8530019,41.889951816,41.900546929,41.778684606,41.960036291,41.834690813,41.744999963,41.893108302,41.884335468,42.005898802,41.736422269,42.02174704,41.9624925,41.880602464,41.764669412,41.841884968,41.994597859,41.738459129,41.909855173,41.903420446,41.792551987,41.932929806,41.798649151,41.847507496,41.931495383,41.725625861,41.891835664,41.70720388,41.700042148,41.977370479,41.893598492,41.762903213,41.691206166,41.946018866,41.722578383,41.939926985,41.858568011,41.884455018,41.850011239,41.897819447,41.907640473,41.779059693,41.87286389,41.724156114,41.749880266,41.757568055,41.874057815,41.901605234,41.708863995,41.701593637,41.763276697,41.855822969,41.811446152,41.879876814,41.867673675,41.938380973,41.728623014,41.756308361,41.91113002,41.931535663,41.974824456,41.975942042,41.921590038,41.979006297,41.883221997,41.873858638,41.975566618,41.976600326,41.971973281,41.851133672,41.867414944,41.917562972,41.899223151,41.918318928,41.735380901,41.768096835,41.802489982,41.795724666,41.883500187,41.923691677,41.895445293,41.786041879,41.794796582,41.768534413,41.881883933,41.750952565,41.734879558,41.9600048005,41.917671378,41.807870583,41.959334147,41.943266352,41.712647549,41.795621345,41.867470673,41.875102253,41.792303835,41.794792636,41.828252292,41.749133553,41.883811077,41.753654191,41.785075183,41.727228364,41.925954951,41.807500036,41.895420644,41.943499913,41.906511566,41.673176992,41.799204054,41.773320568,41.859216674,41.881770084,41.788339891,41.785248498,41.987572277,41.989222527,41.707359108,41.880684156,41.884921024,41.77060805,41.799124898,41.871051124,41.907231024,41.784413398,41.777988188,41.847174274,41.695494214,41.977054037,41.873699424,41.86567488,41.709151595,41.80237456,41.864493678,41.85482707,41.793935909,41.770566348,41.96137851,41.884355847,41.916277862,41.957333828,41.953752483,41.912234285,41.946364046,41.656818764,41.935565572,41.737519238,41.8830711,41.809361127,41.8183997,41.987806409,41.86286945,41.929636639,41.80036463,41.754105943,41.862916767,41.995485812,41.842332703,41.917417316,41.690143112,41.894692971,41.93024876,41.88514448,41.900960186,41.778673073,41.717727765,41.782364749,41.864125558,41.776048426,41.851807872,41.703995782,41.705956552,41.866996231,41.868079726,41.696379535,41.976851852,41.747686755,41.791021686,41.899947426,41.683938508,41.89505941,41.893502765,41.911931683,41.96137851,41.773227417,41.865532893,41.751320646,41.879599571,41.961028693,41.832423324,41.920072132,41.858629835,41.88783267,41.759012808,41.906276004,41.906383988,41.861646831,41.895651889,41.764728045,41.802635294,41.803054481,41.85102174,41.882366028,41.764612379,41.765842073,41.718103563,41.803259224,41.920829442,41.987783161,41.880113885,41.794533814,41.772392903,41.881917981,41.806015067,41.932128426,41.869569701,41.75093383,41.875041173,41.735680686,41.883500187,41.88023516,41.978931454,41.939849146,41.729195123,41.921608313,41.750299894,41.80040677,41.878630716,41.925847016,41.688393658,41.865510331,41.690729148,41.880991939,41.777236833,41.838580199,41.868541914,41.984232728,41.973840007,41.924940909,41.809693341,41.90831752,41.747543344,41.907153315,41.870822616,41.740540122,41.762544233,41.931447397,41.809816988,41.77462567,41.851041187,41.901190422,41.829662576,41.78600909,41.976983096,41.939300639,41.896700668,41.853847312,41.708787863,41.900125086,41.744604389,41.862218265,41.815878016,41.754562883,41.882394062,41.806968856,41.872058601,41.91067701,41.927184743,41.760604949,41.992680562,41.910698885,41.76262284,41.700950796,41.864493678,41.706992051,41.884331703,41.755294842,41.790501754,41.772305244,41.966059402,41.744380508,41.752155553,41.777143867,41.976609535,41.849173995,41.833889294,41.901577507,41.77268594,41.82712637,41.942737473,41.91418458,41.834650079,41.766237192,41.938882125,41.85635485,41.770348245,41.880319093,41.782281212,41.857002955,41.876584106,41.799243417,41.811207593,41.764397089,41.954716764,41.771914123,41.961867922,41.887632228,41.794972033,41.801512193,41.772998982,41.79807564,41.889013295,41.877876194,41.990041822,41.800532986,41.926348484,41.806246439,41.675523891,42.007587659,41.696190559,41.901190422,41.765997125,41.774882497,41.860889397,41.924903749,41.938366417,41.753530996,41.766313199,41.898015653,41.714944059,41.87493626,41.785118211,41.998173211,41.893746898,41.884485451,41.71844648,41.721439376,41.791593447,41.761459469,41.733535515,41.851632109,41.779520772,41.906626206,41.719121157,41.853914288,41.679615324,41.905855169,41.735159966,41.910564089,41.999532057,41.804996159,41.911089466,41.76380129,42.013829189,41.701636443,41.781027948,41.763174795,41.862218265,41.765422187,41.767836987,41.740561303,41.784619686,41.70734731,41.893646656,41.963447455,41.692364149,41.896391338,41.89747371,41.943496452,41.910790438,41.868675507,41.78532937,41.869862752,41.900099097,41.873394177,41.829626051,41.736259374,41.880654516,41.701262449,41.885741529,41.738633189,41.852287084,41.905358663,41.884090949,41.947524346,41.700956041,41.88233367,41.75108013,41.888057631,41.757737557,41.899661174,41.910624936,41.90617902,41.942257928,41.736922044,41.884930978,41.694203673,41.917505309,41.64820164,41.897466157,41.706266112,41.7684792,41.935070315,41.892358446,41.912415723,41.87178962,41.90526444,41.877399878,41.8899351,41.874812228,41.688214048,41.752357112,41.867428687,41.76015578,41.691653719,41.768559705,41.897922428,41.88106593,41.880233384,41.786297121,41.691413679,41.820621795,41.809220836,41.904374201,41.968763818,41.970824465,41.926939857,41.920843789,41.903100708,41.956961678,41.8196979,41.706601831,41.766851847,41.731670655,41.878556485,41.775342239,41.902938033,41.77348038,41.796278388,41.897988944,41.697252997,41.65369915,41.69801258,41.999011944,41.725715287,41.890967521,41.6562049,41.702811877,41.885130037,41.950452527,41.94778717,41.89732857,41.877324023,41.88010412,41.761148672,41.883127093,41.796876435,41.891678767,41.901714528,41.969336887,41.894008772,41.868097353,41.89662893,41.785848109,41.876933757,41.883209435,41.975574337,41.92510186,41.974433577,41.753257981,41.926287021,41.741834597,41.88832617,41.939561901,41.768881851,41.814732091,41.891710139,41.887888334,41.773017577,41.83805499,41.714858644,41.728190937,41.968462892,41.898922677,41.870918669,41.782448202,41.859882682,41.718852772,41.829854671,41.751637916,41.892508268,41.934378511,41.793579386,41.836030805,41.764452999,41.866334308,41.665407883,41.866843668,41.898524199,41.936841724,41.996857256,41.830508911,41.867513528,41.783315787,41.931564621,41.882376347,41.909664252,41.856113138,41.855898017,41.881203182,41.929743818,41.751501206,41.887919288,41.824767219,41.8781255,41.943991892,41.915055232,41.814590054,41.840672583,41.895647683,41.878229908,41.908214764,41.765452668,41.887933042,41.737469662,41.787917893,41.879235852,41.750706929,41.880781519,42.017184753,41.823270969,41.887395673,41.939956928,41.878892807,41.887571335,41.729562087,41.83981113,41.866229446,41.907260061,41.880348999,41.701665948,41.850380592,41.910423537,41.753369537,41.881493402,41.900190488,41.752895547,41.883603754,41.725252695,41.90444426,41.793417529,41.890524711,41.832350776,41.9673179,41.928196856,41.750224063,41.881932135,41.79329893,41.898919682,41.802268681,41.790100863,41.891694878,41.666430215,41.679042016,41.893665105,41.871054965,41.88227454,41.89786794,41.955151216,41.938118396,41.964876571,41.892438729,42.021177601,41.731348966,41.879217687,41.764004198,41.939444419,41.796399018,41.921365959,41.752168612,41.933778153,41.910914175,41.909740492,41.772322043,41.7799566,41.870028733,41.810837362,41.773892091,41.803515121,41.710839366,41.922275127,41.810552766,41.88034537,41.754235842,41.742258286,41.876504743,41.889202315,41.768069819,41.769472632,41.702505208,41.760604227,41.68844324,41.901466992,41.972148032,41.906734077,41.744335065,41.901874404,41.967122386,41.783455232,41.76499068,41.871512969,41.711257932,41.846801978,41.762952233,41.904394115,41.848789443,41.877445624,41.903092417,41.938631959,41.883574366,41.775429728,41.812508074,41.709939299,41.757080828,41.725798383,41.778469673,42.014551937,41.78055534,41.769522748,41.756285081,41.854782879,41.902962958,41.880717301,41.880318789,41.719235601,41.834263931,41.791702543,41.723184608,41.874882361,41.736885487,41.895538402,41.80007197,41.881883933,41.864958112,41.89804054,41.77687971,41.748703363,41.873699424,41.8750661,41.886815622,41.883393328,41.671813603,41.786811574,41.872877317,41.821480315,41.756109491,41.994756367,42.009970406,41.840000114,41.758655274,41.735857166,41.775519362,41.888657588,41.882891622,41.868541914,41.872508972,41.788507353,41.705580867,41.874034279,41.802771915,41.743892962,41.878584357,41.879879772,41.767578799,41.877103941,41.781567073,41.961342741,41.78279012,41.86569762,41.850937543,41.965555835,41.935846362,41.779582501,41.795991039,41.768109676,41.908603583,41.793407697,41.884422414,41.950424036,41.976762981,41.999960139,41.65658079,41.779520772,41.942840991,41.88030062,41.878859771,41.759890565,42.01026603,41.938456254,41.899796734,41.926361466,41.785913194,41.996564592,41.892559086,41.946998085,41.735346079,41.880108035,41.963486341,41.731335204,41.866773759,41.752837568,41.909664252,41.778680696,41.749876545,41.957848837,41.881847601,41.725449081,41.757204571,41.884547781,41.808782124,41.859863473,41.794605011,41.892326707,41.930040514,41.753511061,41.796777189,42.018816354,41.928071207,41.70665212,41.988179091,41.930854966,41.884640098,41.78890665,41.759578864,41.890836935,41.829319339,41.875285975,41.707519433,41.870932257,41.811808944,41.923672617,41.746505465,41.727775345,41.937742402,41.909806865,41.783436023,41.834893328,41.848128331,41.881183104,41.924903583,41.922401733,41.923492464,41.953311263,42.009538476,41.75120956,41.764688794,41.920504631,41.864660738,41.88249622,41.882892656,41.684093864,41.908388086,41.921024782,41.86412528,41.89728627,41.92669831,41.688158265,41.884288322,41.74674678,41.789622925,41.882381731,41.731144695,41.962490946,41.697765205,41.792575987,41.8769047,41.680322483,41.801921836,41.881944411,41.815698011,41.894907524,41.775981961,41.87451179,41.737318723,41.809434463,41.900937648,41.900190488,41.760308802,41.799062419,41.77233109,41.73927346,41.764713157,41.879467052,41.839240726,41.808808699,41.883500187,41.764188634,41.705929046,41.797076256,42.021148122,41.957437662,41.906989556,41.765162688,41.737367451,41.781515461,41.885741029,41.873699424,41.786291714,41.867251542,41.746795562,41.999402982,41.897832575,41.86826193,41.75012281,41.878889306,41.93775798,41.880984581,41.774216041,41.852120316,41.752670751,41.751708436,41.921715143,41.874758047,41.874112944,41.741807374,41.851645273,41.883057972,41.887112611,41.764415235,41.907100958,41.908750324,41.886668685,41.897401921,41.863566693,41.703441583,41.944470353,41.779090123,41.787497032,41.764358972,41.942278252,41.733283156,42.000179492,41.981382498,41.995579447,41.744157062,41.77530282,41.856147706,41.892278859,41.894184379,41.906336152,41.878034263,41.760807577,41.811641005,41.764277154,41.792103935,41.788339891,41.857974014,41.947083892,41.721317888,41.772201212,41.831073285,41.748793106,41.978108446,41.991204727,41.976419925,41.893893173,41.79290166,41.935560905,41.959009912,41.778877155,41.941146296,41.781300844,41.88171846,41.908390488,41.895548835,41.946829884,41.760256249,41.801204561,41.753775416,41.879956283,41.926012645,41.947876714,41.913213102,41.880775433,41.793579099,41.901328184,41.755425926,41.911775572,41.734546731,41.867185658,41.805910561,41.804047026,41.776501837,41.823042962,41.769185486,41.890505818,41.762288629,41.697039757,41.878766533,41.891710139,41.881737011,41.749403992,41.707839499,41.938785869,41.760644338,41.868961134,41.702276907,41.774973517,41.747167184,41.803829327,41.751739567,41.891465732,41.97136667,41.881146523,41.844162699,41.75159879,41.958265994,41.890049339,41.941329052,41.687964587,41.969019236,41.679592498,41.934950909,41.911610082,41.879490255,41.868180939,41.898194716,41.937971529,41.753692961,41.903075683,41.769701163,41.994426733,41.777850177,41.792974653,42.00552183,41.895391144,41.895939932,41.882061329,41.932738656,41.909985608,42.005429767,41.828465858,41.742092545,41.843009311,41.965781301,41.866363206,41.766639191,41.877569824,41.879494129,41.982624065,41.76028009,41.878825285,41.726575013,41.870558601,41.885339537,41.894692183,41.873845465,41.945778029,41.987597294,41.680415287,41.932155482,41.903931222,41.758564498,41.94219754,41.918297265,41.884476226,41.896358373,41.677490252,41.991150527,41.937680189,41.814317008,41.758272018,41.748362873,41.815112235,41.767320783,41.786633237,41.726440595,41.664294511,41.772733246,41.751015284,41.709930471,41.809434463,41.932111962,41.7397922825,41.810729022,41.721039351,41.789657023,41.954166279,41.894557939,41.994561832,41.776234996,41.899197439,41.899410159,41.813493945,41.89476842,42.011018296,41.899250923,41.954881682,41.81902463,41.879267878,41.793521775,41.801322124,41.94066546,41.880498008,41.713322959,41.786976965,41.961169422,41.911148621,41.953129865,41.728121719,41.770148057,41.891984477,41.889784463,41.766657462,41.879434864,41.897890608,41.820492527,41.768043233,41.873968788,41.756623356,41.980667105,41.972454319,41.718103563,41.997973182,41.926296467,41.881624191,41.694021414,41.912406937,41.698982009,41.906857634,41.889954403,41.7828914,41.96498423,41.85256088,41.886169843,41.980037213,41.895940996,41.675334477,41.848430856,41.73344292,41.947532211,41.903122086,41.760614673,41.773296593,41.900981146,41.794794662,41.875328156,41.890030993,41.761793491,41.764151886,41.900771451,41.863567228,41.847544712,41.726219145,41.958704107,41.782747574,41.890703831,41.848498381,41.750952565,41.897501514,41.880735548,41.789266449,41.765628472,41.971029037,41.970549702,41.768015684,41.974605662,41.79329893,41.782663919,41.923588786,41.766739704,41.7643234,41.948832166,41.86928729,41.721325872,41.808782124,41.748382284,41.891465732,41.895944737,41.879465206,41.84097894,41.951002602,41.930636171,41.883500187,41.775722112,41.907420613,41.941515351,41.90708152,41.729843669,41.870211606,41.692358646,41.88191075,41.988378369,41.965577984,41.71286756,41.770224778,41.871644264,42.018779498,41.764506398,41.780946398,41.787636918,41.778141727,41.898882632,41.845577671,41.873635421,41.778824638,41.77356025,42.000690438,41.883651857,41.832277692,41.731595697,41.844363442,41.883573971,41.691389926,41.863196881,41.928977292,41.753234619,41.884498186,41.866477566,41.920988402,41.794314014,41.749460005,41.952141473,41.722114557,41.878619716,41.876827476,41.88922516,41.871936536,41.657201287,41.764112658,41.928738535,41.7309162,41.857279216,41.897996737,41.963014146,42.003888806,41.742797457,41.721038821,41.885426714,41.903023234,41.957829628,41.779211398,41.905295074,41.7702494,41.739487883,41.746378903,41.814429466,41.781565307,41.876413804,41.896685066,41.671747909,41.96137851,41.931920802,41.837406177,41.857812994,41.976947277,41.863819048,41.774344746,41.894176315,41.900925176,41.959816259,41.920016777,41.754988046,41.947853216,41.971852622,41.740909896,41.761571672,41.733703837,41.80901979,41.917151101,41.824324079,41.90957784,41.819767809,41.78130315,41.706814253,41.819075379,41.915946335,41.78827445,41.926691616,41.874137411,41.921816661,41.912602833,41.87766908,41.939510201,41.878498359,41.982135322,41.851623995,41.721237281,41.921530915,41.883626832,41.863567228,41.802331593,41.758420277,41.966653193,41.691683004,41.974304052,41.721627204,41.891851825,41.778607233,41.830176645,41.958902502,41.771325013,41.937604067,41.793041033,41.878455143,41.846474784,41.953443342,41.736613778,41.901689323,41.871027611,41.780430614,41.754121535,41.915479029,41.874771707,41.88249622,41.896665495,41.724997873,41.869047845,41.688218178,41.842725716,41.814419973,41.937820832,41.736269116,41.909323667,41.888934365,42.018244679,41.860911204,41.921909527,41.754976764,41.688218178,41.702684248,41.900909501,41.907684769,41.795458564,41.894020905,41.90536308,41.862952758,41.851644977,41.974103021,41.77352633,41.891710139,41.795823463,41.90320725,41.95529191,41.961769025,41.886807703,41.966837611,41.769848587,41.7696501,41.888673538,41.787893775,41.894465726,42.013177932,41.830685937,41.914652224,41.72371785,41.899945921,41.853695209,41.837828905,41.784166366,41.900461007,41.870897105,41.754592961,41.748005993,41.803201891,41.778966393,41.861320047,41.713362196,41.977936529,41.884093133,41.806883498,41.799090308,41.89792399,41.904343526,41.722578383,41.869145417,41.689289426,41.751527336,41.906514385,41.861699337,41.691813798,41.781499104,41.809747163,41.673153596,41.941050194,41.917288314,41.877482909,41.945863775,41.876607964,41.758791068,41.7513401,41.755781037,41.929407321,41.719104039,41.771980202,41.759327126,41.875452995,41.751953006,41.748292712,41.855817097,41.947079475,41.736951024,41.73632531,41.837056283,41.904394115,41.760349725,41.724175323,41.898915415,41.812193222,41.940185223,41.778509628,41.879148115,41.881203182,41.907127255,41.757584331,41.921982383,41.899136171,41.874221166,41.788699253,41.916285455,41.845931371,41.906863911,41.74621174,41.91627641,41.849086532,41.946461543,41.736264617,41.801906388,41.76127191,41.881228428,41.750668726,41.92561788,41.883376682,41.832601597,41.880658696,41.775134086,41.962324098,42.012742919,41.743199209,41.660338119,41.762035792,41.919047829,41.882142138,41.773289478,41.875415013,41.911191384,41.878254511,41.877478581,41.802067434,41.900855582,41.76015578,41.741897992,41.867293057,41.932109646,41.896700668,41.887620806,41.754424685,41.778883826,41.828185432,41.675730649,41.94933263,41.857862548,41.877682952,41.749624207,41.8726596,41.844580682,41.750457714,41.752548962,41.949020784,41.791667538,41.863617291,41.875890756,41.748493893,41.868180939,42.002131024,41.808614964,41.975419617,41.798518661,41.969911966,41.700708236,41.871836409,41.750212035,41.891710139,41.726127513,41.764646721,41.9600048005,41.89913742,42.018459104,41.943166931,41.794344947,41.772402617,41.803335167,41.751151039,41.710018631,41.908316635,41.996493666,41.842457046,41.657640883,41.882004939,41.778592587,41.801512455,41.76447079,41.796910522,41.757050518,41.827291227,41.762793358,41.962705521,41.939105581,41.933181587,41.788098755,41.797460835,41.70269259,41.78161502,41.740347739,41.76812474,41.871048929,41.945591853,41.971882591,41.761282788,41.775380274,41.895513492,41.938053367,41.89499875,41.931931733,41.843281635,41.75413109,41.901167099,41.749693126,41.935472794,41.987088264,41.893183866,41.965380394,41.825486638,41.847565598,41.778824638,41.719214167,41.907206906,41.777838294,41.881592273,41.957146716,41.872790764,41.854289263,41.782558361,41.844207977,41.889538615,41.722169703,41.781631156,41.830717243,41.904394115,41.749802124,41.736938137,41.736148121,41.778803352,41.78326877,41.898436079,41.943844128,41.777000866,41.891785235,41.897895128,41.817294516,41.934403757,41.923816638,41.722141573,41.781801401,41.884191143,41.909896511,41.877140739,41.932778447,41.895548745,41.99020626,41.817800456,41.924158898,41.938914416,41.908706263,41.866097157,41.899789956,41.893015466,41.799237155,41.879693076,41.885749789,41.78835671,41.905611218,41.818236515,41.885503844,41.993295408,41.777199598,41.774303627,41.731868815,41.921595072,41.81424687,41.90690686,41.789403671,41.692041778,41.788987036,41.740334281,41.773363553,41.866810739,41.910534535,41.854538151,41.88649816,41.882389156,41.979006297,41.885369466,41.891119871,41.754763212,41.73490782,41.719058829,41.885401765,41.844000177,42.018882872,41.780734296,41.74932777,41.806133835,41.768451089,41.677599479,41.861813345,41.697039757,41.940564834,41.898146157,41.764158359,41.896010965,41.974363533,41.945863902,41.726430651,41.916772962,41.733296124,41.931014913,41.889760548,41.744063517,41.869749161,41.856171467,41.877822179,42.007341612,41.779059693,41.761812483,41.761014841,41.899145291,41.875658816,41.776829172,41.950566964,41.996254158,41.84763752,41.909307068,41.903125898,41.967328891,41.743503863,41.878345845,41.753019747,41.938654896,42.004133688,41.84406172,41.971875296,41.751692798,41.909060539,41.902476988,41.847503482,41.88113134,41.946841668,42.019381776,41.960944405,41.784167805,41.837871585,41.761002844,41.736148121,41.733226633,41.853468388,41.946108235,41.677830552,41.968810413,41.884375554,41.967926722,41.824439207,41.882217194,41.946944213,41.878113603,41.912437783,41.867696866,41.873807256,41.756913723,41.748020497,41.796899162,41.772458278,41.754592961,41.828762287,41.882730278,41.865072791,41.739393395,41.950974288,41.705958892,41.877664919,41.900356904,41.849164385,41.814679746,41.940539516,41.781142124,41.893491529,41.77716048,41.736841668,42.009167912,41.945238279,41.880717301,41.779090123,41.921323241,41.929785338,41.905362833,41.945019836,41.85483973,41.942214756,41.874378141,41.866438916,41.815560146,41.938473775,41.686367139,41.780294584,41.930274703,41.826913791,41.892509386,41.872967379,41.920069745,41.935670075,41.767495614,41.795103793,41.91059884,41.890455604,41.736396711,41.774146678,41.777843802,41.821543847,41.695600785,41.815612544,41.94593982,41.872820671,41.804954928,41.907334176,41.671651973,41.934290128,41.719087373,41.88171846,41.962735395,41.737307688,41.786538586,41.884350397,41.889602962,41.904135424,41.880681368,41.876196982,41.900948905,41.897853043,41.756676592,41.783299299,41.725958143,41.729618252,41.744922417,41.867251542,41.93077174,41.845984664,41.903478069,41.934304581,41.90712916,41.690701233,41.967792201,41.821128625,41.886520989,41.945987476,41.965913736,42.016479199,41.923320005,41.957922927,41.852239702,41.878177032,41.889453169,41.713070203,41.773779022,41.881716983,41.958219384,41.855241509,41.840241903,41.908130765,41.876650547,41.866341527,41.763583691,41.991481156,41.903803352,41.748938757,41.774353267,41.774863731,41.796267619,41.685332125,41.859231235,41.910903528,41.765609481,41.906647208,41.736794714,41.754251833,41.777390765,41.857738905,41.8074405,41.851790369,41.936665783,41.898263449,41.965385321,41.796177739,41.896888586,41.956643119,41.894975629,41.73516861,42.018748975,41.914271075,41.941956882,41.807769669,41.736148121,41.893990113,41.806929091,41.976936674,41.883572258,42.011798696,41.811220665,41.805322323,41.945863694,41.768068248,41.923268092,41.984109031,41.891162264,41.693484859,41.970994972,41.871909407,41.73585412,41.747791488,41.774163227,41.755539871,41.905945997,41.911195428,41.750971783,41.76502549,41.772164169,41.893549731,41.803058246,41.811510619,41.693110849,41.880541124,41.869904019,41.897663537,41.705418455,41.880672937,41.870954857,41.767998319,41.88574102,41.938702181,41.768290786,41.750154295,42.011958497,41.713608096,41.904137272,41.897841864,41.765703582,41.769070498,41.844276863,41.935156969,41.879297767,41.753552496,41.897988944,41.901624442,41.935058049,41.952061963,41.897895128,41.917842168,41.878588118,41.955054525,41.891710139,41.725218652,41.770563092,41.877355158,41.907304061,41.753035032,41.779501261,41.865287779,41.778464185,41.851912547,41.805421178,41.918156823,41.871371147,41.780253982,41.80931907,41.860193489,41.925666038,41.764378943,41.8769047,41.694652824,41.88241152,41.735012449,41.771438496,41.816635008,41.783451628,41.853906605,41.909240284,41.971530636,41.767837803,41.866235446,41.717205756,41.916096377,41.750506434,41.884335468,41.900124926,41.765686361,41.885495793,41.903740503,41.749165772,41.87104212,41.677484362,41.901542557,41.737069931,41.890844666,41.751492287,41.880679165,41.874193118,41.755554244,41.806257694,41.892299753,41.862502624,41.773869141,41.889504226,41.887966168,41.96682302,41.967509392,41.94672955,41.727237032,41.936513647,41.925090821,41.779520772,41.940518859,41.704334583,41.788407878,41.781683534,41.893606982,41.903070812,41.937891131,41.711189929,41.895698817,41.99852479,41.8751369,41.88705768,41.80683511,41.904371206,41.868165405,41.729452225,41.924989934,41.89355115,41.936358628,41.900767115,41.897982937,41.743090402,41.90416925,41.917425774,41.789701896,41.829851779,41.669978251,41.890608408,41.885442986,41.791601009,41.797349301,41.721394792,41.748104701,41.838052883,41.890322866,41.911170142,41.938861661,41.764632089,41.708029389,41.8066148,41.692196959,41.78176267,41.724716437,41.905358221,41.91739557,41.875686061,41.760088836,41.920625919,41.837954218,41.882151417,41.747480537,41.681778724,41.761521751,41.769860387,41.780890859,41.902137003,41.761777349,41.886039903,41.900711088,41.867293057,41.918086514,41.880596729,41.883116815,41.780946398,41.884276366,41.97768681,41.99507821,41.939965451,41.853620265,41.997682417,41.722476277,41.812465818,41.910914175,41.755220072,41.762119451,41.875119658,41.909715599,42.019921541,41.857975163,41.871836269,41.894491187,41.755371418,41.780253982,41.89362549,41.828347945,41.657321145,41.813024061,41.979937514,41.911151209,41.725603372,41.831171677,41.899410159,41.884583424,41.731581122,41.863370905,41.730966564,41.922424715,41.735882643,41.904996706,41.910821553,41.709957607,41.986500621,41.897736958,41.881203182,41.778305129,41.769452949,41.924406911,41.855190551,41.931800684,41.884497529,41.779552361,41.920728388,41.903866454,41.882394062,41.960183382,41.890506839,41.826306349,41.851031045,41.854224359,41.75936842,41.927114544,41.938554681,41.88030381,41.918711651,41.884229778,41.74808565,41.815709959,41.758214815,41.920016777,41.86660286,41.945993442,41.774533277,41.884790951,41.918208965,41.80487281,41.902979118,41.926287021,41.854770868,41.864038544,41.904997122,41.685141112,41.763150858,41.909250749,41.670088253,41.936455042,41.751200475,41.879813541,41.856084827,41.7397922825,41.972978827,41.787553164,41.804115629,41.754386686,41.758729511,41.89608709,41.881070251,41.961095248,41.86412761,41.736272399,41.728852906,42.01980733,41.890287564,41.87752505,41.776818836,41.755430586,41.970048076,41.83719701,41.742517088,41.853585161,41.906496877,41.881187452,41.79274241,41.955720434,41.902615076,41.736458248,41.771910178,41.778906712,41.977632364,41.887970623,41.913725968,41.673207966,41.88249622,41.871734842,41.750438473,41.903817881,41.955957011,41.783247439,41.886832476,41.688548445,41.883051362,41.95159404,41.862819672,41.699375007,41.755613227,41.706238861,41.970648177,42.017107779,41.746159208,41.751328369,41.929793642,41.751425019,41.932831444,41.841471897,41.814271027,41.899275767,41.80462016,41.786480243,41.880186421,41.779247348,41.700874918,41.750564801,41.878505801,41.875457766,41.862859101,41.908185345,41.75033427,41.750532119,41.894429096,41.808147803,41.905888849,41.756623356,41.714823112,41.765763116,41.714650607,41.824828778,41.74621174,41.791220341,41.798098289,41.978858423,41.954950648,41.802685798,41.748852496,41.909607048,41.75594977,41.763764934,41.802408184,41.884309734,41.695982095,41.944547789,41.703812049,41.655388409,41.891074841,41.779618204,41.825715566,41.880399914,41.797143883,41.754592961,41.873613214,41.688158265,41.995491488,41.887852365,41.773271426,41.905778044,41.745863873,41.879291115,41.761661446,41.976814727,41.91559529,41.855524939,41.749426478,41.795110292,41.744082447,41.784610098,41.897850152,41.743846596,41.922151603,41.849495812,41.876165886,41.931033284,41.764868549,41.878797386,41.750549775,41.997929286,41.793834595,41.83106349,41.731994791,41.905573245,41.906276004,41.679772098,41.68549067,41.777558327,41.750347927,41.772333988,41.828755455,41.853782187,41.740918989,41.74693629,41.89381431,41.762246914,41.856020451,41.911684359,41.891990146,41.793390783,41.772650845,41.908373161,41.952639376,41.877993637,41.948131367,41.785130087,41.940037609,41.885741529,41.909358102,41.716801593,41.932789263,41.843464422,41.739265865,41.895422368,41.90393347,41.882394062,41.866112237,41.801493071,41.886735874,41.799985396,41.8926701,41.803851632,41.863684959,41.7638514,41.812084717,41.777775144,41.961637526,41.905356965,41.655856437,41.962674077,41.819536065,41.877292285,41.748327985,41.965418971,42.013109225,41.76854212,41.923672617,41.786291714,41.737011964,41.658114918,41.770969165,41.789832136,41.735735697,41.79005429,41.883106296,41.880548521,41.678948079,41.720845161,41.760097698,41.903420446,41.910490112,41.881348623,41.939468319,41.808295404,41.874376369,41.908166583,41.977945569,41.842600535,41.745568408,41.88320802,41.950987613,41.818488766,41.973923557,41.671461052,41.876214585,41.880660786,41.959880706,41.676108118,41.778712885,41.836600771,41.757676306,41.939785621,42.017111982,41.769185486,41.920015253,41.896370692,41.787014838,41.868165405,41.881623795,41.868541914,41.914573735,41.742150773,41.879129725,41.89102648,41.888168282,41.737704573,41.944970734,41.789969105,41.673426024,41.946511832,41.771062488,41.733289529,41.752114055,41.800999199,41.879876814,41.998375714,41.697041696,41.886422183,41.919282628,41.896095397,41.751305337,41.911600527,41.72226277,41.877538432,41.756081731,41.95454204,41.868165405,41.964786051,41.902118106,41.884650262,41.879505465,41.776140248,41.668408334,41.873877048,41.81648005,41.930061206,41.856468235,41.880632459,41.705679973,41.742710224,41.897651295,41.910065893,41.83766719,41.764363397,41.895939932,41.754251875,41.872588258,41.75402138,41.939138269,41.750521808,41.88171846,41.744703128,41.883500187,41.87846497,41.918005308,41.819473958,41.884790858,41.803801093,41.916931349,41.754592961,41.873330646,41.914691083,41.895397412,41.687525935,41.886393351,41.996401399,41.801141301,41.746707665,41.734805644,41.884806815,41.935432921,41.866184544,41.791889876,41.833783593,41.883490965,41.760080391,41.888525948,41.842161665,41.970874798,41.784732216,41.959801588,41.911228802,41.954372906,41.768065699,41.892260249,41.938995006,41.891774905,41.816732248,41.720205085,41.897895128,41.769231153,41.882181278,41.899695438,41.882389156,41.753499808,41.93937027,41.749445288,41.799124898,41.870822616,41.907589272,42.018311737,41.825705753,41.840301624,41.741052392,41.878038501,41.75702248,41.903460148,41.903338,41.876549991,41.827373751,41.900546929,41.914369281,41.90127457,41.823274065,41.92787296,41.772201113,41.774681227,41.749565644,41.749880266,41.910546885,41.908232739,41.862008217,41.782121731,41.9582335,41.977187248,41.819270663,41.86661375,41.773888476,41.960506835,41.85199252,41.80694764,41.866996231,41.917175227,41.696217733,41.773536673,41.92855022,41.969220006,41.854649511,41.936046155,41.719292437,41.924859682,41.719722847,41.920993915,41.800335812,41.765547955,41.918706127,41.872558733,41.796945481,41.726767571,41.926484632,41.970683387,41.797251993,41.74808565,41.878630716,41.89827066,41.96817915,41.880679165,41.926342162,41.897895128,41.98534043,41.80171934,41.932856636,41.807628569,41.749501065,41.815641508,41.769315866,41.967309022,41.77137986,41.844026941,41.86763922,41.873760261,41.649427282,41.824675709,41.755499029,41.945260271,41.680708929,41.965825487,41.784518236,41.683950372,41.83607497,41.864567768,41.940594418,41.872630278,41.930334169,41.795287671,41.905447207,41.72852756,41.702695667,41.778570481,41.793106778,41.880602371,41.831361746,41.967495638,41.738931393,41.882142299,41.904159868,41.885026037,41.82312334,41.957877078,41.986163245,42.008344507,41.798429303,41.748828946,41.900460204,41.802586555,41.70691318,41.807064211,41.903395725,41.932929806,41.761233449,41.750559142,41.847378389,42.016471024,41.947252263,41.885503844,41.748631238,41.73476073,41.975373788,41.862848461,41.884051362,41.663907639,41.876018376,41.781435962,41.860144834,41.890824988,41.933436218,41.952897791,41.985516812,41.896888586,41.915585474,41.904563274,41.756802274,41.890900247,41.846820192,41.776992421,41.77558662,41.819881744,41.943662482,41.744334485,41.737014462,42.017056516,41.739669366,41.7678792,41.955984014,41.823307994,41.740193533,41.930818939,41.872336473,41.753175886,41.883500187,41.946856815,41.774816293,41.953443342,41.962477919,41.862218265,41.940471503,41.878155704,41.904419206,41.805792826,41.710223675,41.79125878,41.881915886,41.938971533,41.929507453,41.877788135,41.909614463,41.896061713,41.994558759,41.873699424,41.879582859,41.968815819,41.952455261,41.802005791,41.879701138,41.884335057,41.777152461,41.810755291,41.709823247,41.921814838,41.880548521,41.764623758,41.848751025,41.663886526,41.889362897,41.959254063,41.899882657,41.880012363,41.930008127,41.773320568,41.896526422,41.877399878,41.762521188,41.753567171,41.881527708,41.831711046,41.713721017,41.878433338,41.68920788,41.773801799,41.883500187,41.857943069,41.797007431,41.784973837,41.853663905,41.938447622,41.90316534,42.000433516,41.751821289,41.879148115,41.749415471,41.906433438,41.851093546,41.779676023,41.713182998,41.793149832,41.767775076,42.019399237,41.999005533,41.705677782,41.725849118,41.784134697,42.009294803,41.750185415,41.707613752,41.704127811,41.945561382,41.867110956,41.883209435,41.873559064,41.92480533,41.964522471,41.704620634,42.006000524,41.910394484,41.889978476,41.778524374,41.919278104,41.803986617,41.892833788,41.751354586,41.881187452,41.782913276,41.843922218,41.796994465,41.841781383,41.774974401,41.898993471,41.731423039,41.934887037,41.765157518,41.86821682,41.867346388,41.97043926,41.953375929,41.773032995,41.903933222,41.878260207,41.806903502,41.885740958,41.794170623,41.95455546,41.953866215,41.699958642,41.734226651,41.794462581,41.795526092,41.911102883,41.732953991,41.655804441,41.979667175,41.750547026,41.694928219,41.760958985,41.736955229,41.737382868,41.799241511,41.971906769,41.890977441,41.845820509,41.746698961,41.987030347,41.89499875,41.809523197,41.931979558,41.707855985,41.918444474,41.750657714,41.825706887,41.886755667,41.902141421,41.792268139,41.957968193,41.903063681,41.737024044,41.754667423,41.977020718,41.872001669,41.851442887,41.68801045,41.773572236,41.833139425,41.871471278,41.916682852,41.894073343,41.940071499,41.882774244,41.824316537,41.893846898,41.880089774,41.907334727,41.876107394,41.947563025,41.909384715,41.727604557,41.87760112,41.74808565,41.872459597,41.914556042,41.733720071,41.950815795,41.899772576,41.937470062,41.785613571,41.785311089,41.92370873,41.790068893,41.890053273,41.76671836,41.985541232,41.811449575,41.864982868,41.873885074,41.679125166,41.945177685,41.780131337,41.765014339,41.936666334,41.695647909,41.909937916,41.695600785,41.77512176,41.968815819,41.949649326,41.765701371,41.814127647,41.884983054,41.740596883,41.801538809,41.817242958,41.899155098,41.872816032,41.781858073,41.886371913,41.889563354,41.904415049,41.748180836,41.742710224,41.919867264,41.90215894,41.776219944,41.906507267,41.776347496,41.885013623,41.88705768,41.788414065,41.780707447,41.993137874,41.733928966,41.911735612,41.956795515,41.777042712,42.010302788,41.745883784,41.903744553,41.785613571,41.966653193,41.786632327,41.941661697,41.761042853,41.874223466,41.797690461,41.885456468,41.747022627,41.756604794,41.963817953,41.756164455,41.882028047,41.699341466,41.814760322,41.846320164,41.913637144,41.835437004,41.868180939,41.901821917,41.938714045,41.879888156,41.747730373,41.844969666,41.660583161,41.903000896,41.789959106,41.680407574,42.018697444,41.908338118,41.692041778,41.694233758,41.895692026,41.699335994,41.9400333,41.773973377,41.666563743,41.863196881,41.952904259,41.797331228,41.853876773,41.937919992,41.993100382,41.927851075,41.752174882,41.937078968,41.878638996,41.798871295,41.715966494,41.790001609,41.735479162,41.897655282,42.01646621,41.895422368,41.773023898,41.791397902,41.890032024,41.713391611,41.767140373,41.893676531,41.79511662,41.85070149,41.743428895,41.886530554,41.906418813,41.819027613,41.758896441,41.733898653,41.895774559,41.772532392,41.74938535,41.816279154,41.874905507,41.751452878,41.911574252,41.980328862,41.914883265,41.83751008,41.881475571,41.809220836,41.903300131,41.933718939,41.974861952,42.010348541,41.972617333,41.781582768,41.881846294,41.806656877,41.728893066,41.932159383,41.882099757,41.787277791,41.697684207,41.939055884,41.750782715,41.766700275,41.792416366,41.751476233,41.885882957,41.878717176,41.794489938,41.752957436,41.91173169,41.919655779,41.884229778,41.754823635,41.694594059,41.926678063,41.746677612,41.851988885,41.9600048005,41.82171135,41.747083778,41.777198547,41.701808323,41.901723459,41.925555801,41.647922998,41.882076985,41.785236218,41.772998982,41.801938208,41.919863513,41.740045353,41.875254627,41.920394271,41.879670197,41.726027678,41.979411041,41.839804007,41.685379492,41.750940757,41.910049472,41.743711725,41.91775829,41.772486886,41.914278457,41.789675452,41.817393627,41.836069707,41.91748779,41.756844937,41.873403192,41.851875905,41.761067123,41.678651004,41.892559086,41.808501832,41.809317464,41.88545144,41.923427996,41.851929357,41.896952526,41.657061866,41.751464464,41.964332396,41.911709438,41.797021352,41.909321121,41.857265489,41.934853999,41.953900467,41.666091135,41.779038717,41.911432592,41.75029596,41.917710432,41.867081407,42.004164221,41.897504052,41.752884365,41.899541898,41.909618829,41.721424596,41.731658466,41.738420712,41.821827719,41.924733961,41.947078944,41.878099868,41.932807561,41.753369537,41.934400657,41.976290414,41.99895393,41.753652757,41.894848945,41.702975563,41.890053273,41.813075494,41.969324464,41.808669339,41.954176386,41.866216769,41.744195501,41.758278907,41.878567628,41.878462632,41.698145615,41.898648299,41.700715556,41.89542227,41.82671713,41.736793048,41.783502408,41.764569155,41.936389347,41.763973989,41.785268355,41.757682162,41.884467266,41.823789843,41.864417663,41.840156645,41.692569761,41.762694242,41.906941101,41.81508128,41.908227713,41.880401861,41.895877613,41.759926377,41.896371061,41.767575322,41.793938009,41.975948286,41.884333077,41.786651593,41.975729415,41.913271361,41.87963398,41.80475662,41.70287318,41.860102309,41.903177358,41.932653082,41.847420785,41.925444767,41.754027474,41.820093065,41.68549067,41.883175772,41.900505589,41.882864085,41.766192816,42.010909853,41.881232931,41.7799566,41.668115584,41.961108718,41.779012821,41.756623356,41.765133487,41.965426344,42.009504574,41.973797081,41.897982937,41.938310054,41.899755253,41.776810565,41.791130303,41.876074463,41.880051337,41.742710224,41.770922864,41.796140017,41.806875489,41.969313843,41.898431239,41.697433812,41.829283665,41.79069087,41.90690686,41.761118938,41.764468432,41.814500219,41.7643745,41.742073459,41.653083749,41.883091959,41.773892091,41.923672617,41.830821136,41.773959385,41.926427211,41.736422269,41.937937943,41.903803352,41.837901263,41.765253769,41.69143751,41.967732073,41.754592961,41.891678767,41.890246707,41.787034522,41.875843181,41.886818169,41.851503335,41.894940526,41.918462236,41.963433489,41.841626188,41.895774382,41.885753285,41.810732368,41.902664731,41.760831157,41.822860928,41.909395811,41.954462493,41.742399412,41.970336247,41.738826613,41.875041569,41.901138962,41.884466997,41.960046783,41.941719558,41.747872281,41.909375517,41.883209435,41.785187197,41.792918517,41.888289527,42.008396261,41.884751129,41.762067143,41.883500187,41.921296759,41.964554554,41.888658688,41.789359761,41.94691421,41.845826022,41.896270754,41.90071082,41.794794662,41.803918234,41.816522593,41.783582491,41.80943109,41.765755571,41.650927018,41.896113347,41.917329552,41.994692911,41.858105368,41.708096816,41.908854254,41.949830896,41.936871824,41.801176652,41.928945767,41.934042616,41.764104153,41.90624058,41.916876321,41.950136307,41.770640462,41.889026629,41.75176863,41.777792147,41.761034113,41.731461498,41.934266643,41.706789555,41.892522381,41.697045564,41.946212132,41.889876542,41.89622626,41.808187634,41.87482281,41.76512359,41.792926272,41.837871585,41.782550274,41.998579671,41.725508907,41.75450499,41.877553391,41.722740109,41.7397922825,41.764673631,41.734541369,41.891015469,41.748729779,41.764079143,41.854313474,41.880922186,41.732352593,41.76968909,41.866968401,41.845577671,41.93187492,41.889709573,41.805895033,41.82467357,41.795991039,41.830954079,41.726101574,41.821461084,41.777876677,41.908430535,41.805924564,41.761719184,41.923976215,41.655012354,41.756650207,41.908241306,41.760029389,41.885184182,41.856503807,41.876462276,41.825194431,41.937969506,41.941210097,41.842517229,41.905792258,41.962029989,41.925620556,41.706378843,41.805217325,41.849011395,41.923637978,41.939680604,41.781508446,41.957309803,41.858594819,41.902680409,41.885369466,41.872867962,41.91996547,41.941268349,41.783026429,41.847090299,41.999694157,41.9977367,41.869428989,41.952588198,41.931219414,41.90670989,41.895773204,41.886391642,41.911369097,41.752719419,41.870526756,41.778779733,41.951096855,41.80821268,41.775119261,41.777309867,41.760369733,41.9600048005,41.897526032,41.809445968,41.747594583,41.736148121,41.792174817,41.808659359,41.888865243,41.886337253,41.797572754,41.774146678,41.958428787,41.928642896,41.752660991,41.929494816,41.922625388,41.890053025,41.772685171,41.777142114,41.872274452,41.769485611,41.813348838,41.936465807,41.675719502,41.752781595,41.740653197,41.697042233,41.722687546,41.849400753,41.945382757,41.807650669,41.786793032,41.719283808,41.858229901,41.879636208,41.75242904,41.908331017,41.931583214,41.792912482,41.844000177,41.89622563,41.788987036,41.781457643,41.88005957,41.80036463,41.936740755,41.802440292,42.006316333,41.979020089,41.750889374,41.897505079,41.780155491,41.892707502,41.876898356,41.857487341,41.873760261,41.849174148,41.692364149,41.989334479,41.88575141,41.804133114,41.74691424,41.773363553,41.901269007,41.86336359,41.885514199,41.862528952,41.855898017,41.750435288,41.72587315,41.716982536,41.780387056,41.953552346,41.665428274,41.939919356,41.759958507,41.762040655,41.900474946,41.764303087,41.78620893,41.953900467,41.693909486,41.850960625,41.838915708,41.934300067,41.880371348,41.868979617,41.765556194,42.019929405,41.961935216,41.874808307,41.889203826,41.908533952,42.00695915,41.912136974,41.880988964,41.88171846,41.761158096,41.884013483,41.94510861,41.706992051,41.970499365,41.870112418,41.86645124,41.738124831,41.753819454,41.752459682,41.683892982,41.932073526,41.760198165,41.839944326,41.963493591,41.676119675,41.875285975,41.761364074,41.803292567,41.880362084,41.937142972,41.794449034,41.717135842,41.942414199,41.937971519,41.751921702,41.856581054,41.980826277,41.743859235,41.968368626,41.793350862,41.894730987,41.693960671,41.882389156,41.88993496,41.766232532,41.845630712,41.883210375,41.963214309,41.90002373,41.831270845,41.983558302,41.781776219,41.704574292,41.770447177,41.80773896,41.684930613,41.67897703,41.882217341,41.75158709,41.902937747,41.900424796,41.790124583,41.93859561,41.910115096,42.004254037,41.970125087,41.836064881,41.890283192,41.909842245,41.742262694,41.744770054,41.861789597,41.715834473,41.794462581,41.768292458,41.873439273,41.890807662,41.760887053,41.945901903,41.939477445,41.811510619,41.861295595,41.711741124,41.738448064,41.889741913,41.905414403,41.78690669,41.801683057,41.9553359,41.654269377,41.925160357,41.680940017,41.888165132,41.786461708,41.77044386,41.769356661,41.877615866,41.940903244,41.703738495,41.832571089,41.904618591,41.750093361,41.76870717,41.708029389,41.768519102,41.903304304,41.755135344,41.929851342,41.765177961,41.754664775,41.940503347,41.759164317,41.876645737,41.756567668,41.757630995,41.691553037,41.9764212,41.881524451,41.856350509,41.803840435,41.918199977,41.960430304,41.944282746,41.806933706,41.782987366,41.742699522,41.800863342,41.878452547,41.821518024,41.744095208,41.964743129,41.784135088,41.702237171,41.779357787,41.669959233,41.777309867,41.776670632,41.921325506,41.872946254,41.88467425,41.756653317,41.761010056,41.9712095,41.844969184,41.764816292,41.794156899,41.883191631,41.824675709,41.764921343,41.892528741,41.74852721,41.704662765,41.899145291,41.948145561,41.868067057,41.933566326,41.987833828,41.790181423,41.928822325,41.967189655,41.700992536,41.900752739,41.735761132,41.894351088,41.727353298,41.76189078,41.890384236,41.980853742,41.907679832,41.765604839,41.751885152,41.903890971,41.785901088,41.980829515,41.880091936,41.804734646,41.903466617,41.833679765,41.772389445,41.765755571,41.799563707,41.80050104,41.957774727,41.74581442,41.808386061,41.86625461,41.772710966,41.88360497,41.881944424,41.953443342,41.775748268,41.878194837,41.960299637,41.977958649,41.762518238,41.970189539,41.889906681,41.854599268,41.906703796,41.808180214,41.948109784,41.700717313,41.947225886,41.880131389,41.850702484,41.944356839,41.902474874,41.875361105,41.906765676,42.015085365,41.909730421,41.890900247,41.872875887,41.861876375,41.870778025,41.670095481,41.889046347,41.777954137,41.865541907,41.711714647,41.793594224,41.987338819,41.909798633,41.845356153,41.854459796,41.858070537,41.773869455,41.816794814,41.897386739,41.92113376,41.711923377,41.913518331,41.898618421,41.868541914,41.894869196,41.900033914,41.749899475,41.894890041,41.904604767,41.76432331,41.698600149,41.756163441,41.76206895,41.885729338,41.749185934,41.979954765,41.787964691,41.844252757,41.844074267,41.895003278,41.909636288,41.988824709,41.675586004,41.909823499,41.777081939,41.694888492,41.695908161,41.765109605,41.766865063,41.720061869,41.807150748,41.936741138,41.706987456,41.779806409,41.9764212,41.733928755,41.835686337,41.779376483,41.813570499,41.896163599,41.854287252,41.745284213,41.928324429,41.880717437,41.774121147,41.705454933,41.781570979,41.954535555,41.940076135,41.866229446,41.867797563,41.851378633,41.751292524,41.862502624,41.874378587,41.885533988,41.763366249,41.89075203,41.845785946,41.856122077,41.881914172,41.785891646,41.803671998,41.761374517,41.777198547,41.750849517,41.775843518,41.873936494,41.737899425,41.734823509,41.810765232,41.75658632,41.862894406,42.018496028,41.882539542,41.892461897,41.891465732,41.756057234,41.779960201,41.812560811,41.778524406,41.836600771,41.82862242,41.945264887,41.910624936,41.776606834,41.744162402,41.878017787,41.876504743,41.994587832,41.920816234,41.923002924,41.806678037,41.885772579,41.940761026,41.922419249,41.67712551,41.727380767,41.659208078,41.83796041,41.942434865,41.880628926,41.720968682,41.896254751,41.905447207,41.946648722,41.747661005,41.948173231,41.897471537,41.900870422,41.884930978,41.879893301,41.943681893,41.765176291,41.901740695,41.88104652,41.939056028,41.904388451,41.902084646,41.89870524,41.793551427,41.872784897,41.668243357,41.878827508,41.980777857,41.878460682,41.777975809,41.764802087,41.747721745,41.857773091,41.854573555,41.738931393,41.896586299,41.789722753,41.803846866,41.774908926,41.923857182,41.893203509,42.008533236,41.718874463,41.703017671,41.719257865,41.775422487,41.993153108,42.021640851,42.01871803,41.86988642,41.767921039,41.894221123,41.750589446,41.870737167,41.761231273,41.867584815,41.691667942,41.752814694,41.774319025,41.880681503,41.908965989,41.855679437,41.777967289,41.936952143,41.770022308,41.926882156,41.903125898,41.909636382,41.776950535,41.849331489,41.755358678,41.792696828,41.735031604,41.879393185,41.704754837,41.976762981,41.830676853,41.836385231,41.985531497,41.921682593,41.765331244,41.931525928,41.834169538,41.760442508,41.735066839,41.699707863,41.738254652,41.799742941,41.874709037,41.740388129,41.794469477,41.795557218,41.813973427,41.876951569,41.736126864,42.021730111,41.751204276,41.883077503,41.765790545,41.932863716,41.867436593,41.877809197,41.894272651,41.84419592,41.849954132,41.864073157,41.886542598,41.894993707,42.018244679,41.843602047,41.774319025,41.830318923,41.917745605,41.984905988,41.909945747,41.773347699,41.925156835,41.951819759,41.71699155,41.856012269,41.883582151,41.686879951,41.974971842,41.851776611,41.968631604,41.969044846,41.808586084,41.810750454,41.93078766,41.936519297,41.711903125,41.802132606,41.830014847,41.689852187,41.751407191,41.772972076,41.924228431,41.952488606,41.999999972,41.896888586,41.819442743,41.751270452,41.841776032,41.705956704,42.021596947,41.884888317,41.903354381,41.692358646,41.853676611,41.88233367,41.814962075,41.87294648,41.927234575,41.855947302,41.743182669,41.773699618,41.971276113,41.954482795,41.808213445,41.666054918,41.798462192,41.680592096,41.677466328,41.875367424,41.739013985,41.936300561,41.966955516,41.792266385,41.854864309,41.946509851,41.744614234,41.831441082,41.947763579,41.757421401,41.946561316,41.96245015,41.839362885,41.829233093,41.852796034,41.957999972,41.897895128,41.7397922825,41.851211977,41.906593467,41.894967474,41.759906583,41.953900467,41.784145723,41.721920413,41.758053849,41.743049695,41.76404927,41.797136388,41.944470503,41.968825768,41.925284057,41.809066689,41.753436622,41.721627204,41.877565688,41.680834251,41.851759222,41.913320241,41.823065966,41.875272573,41.702313641,41.928451654,41.905365305,41.765014339,41.931450715,41.865783217,42.005938405,41.860420496,41.749515363,41.93131566,41.801569874,41.911383793,41.759266388,41.916894893,41.984419034,41.760359125,41.799548798,41.999975093,41.811437898,41.747589468,41.872642295,41.645009231,41.769899115,41.783332271,41.761396234,41.777558327,41.904227601,41.884095288,42.003852782,41.976762981,41.885813569,41.883436397,41.76573639,41.686212431,41.949966982,41.75224293,41.95276806,41.720680243,41.736547342,41.893886793,41.936441321,41.880112694,41.749426705,41.874128055,41.894734407,41.685788468,41.775584879,41.797007431,41.792974653,41.728855415,41.881348623,41.807097485,41.786969233,41.904082535,41.748875144,41.681727895,41.881903443,41.816336779,41.805492297,41.880660786,41.685070409,41.779798546,41.791751948,41.784399043,41.941217238,41.738538669,41.806401707,41.884420883,41.872556651,41.878222138,41.69522655,41.93135344,41.936046155,41.918711651,41.75416291,41.921955603,41.867260668,41.749466183,41.737547633,41.850060897,41.941748603,41.883376682,41.911704985,41.827905442,41.760904444,41.756239068,41.987185113,41.813348204,41.736264617,41.762906253,41.903996883,41.881917714,41.82121489,41.905879909,41.793281591,41.914824157,41.782276281,41.994586647,41.909804314,41.999533347,42.022499784,41.746140855,41.976814727,41.880828867,41.780108365,41.947225886,41.802137533,41.693873492,41.805096267,41.876760413,41.854963672,41.885729338,41.76587359,41.869082362,41.882134277,41.886632038,41.89048216,41.793912094,41.959214705,41.947225886,41.913045372,41.722538822,41.805246101,41.976851852,41.831073285,41.748060338,41.725789447,41.939315043,41.756099185,41.909038128,41.901737687,41.804847176,41.88171846,41.68156587,41.739683495,41.747416757,41.877706987,41.888932488,41.917838162,41.892573463,41.914313338,41.96754734,41.742258286,41.767722814,41.764770395,41.806086504,41.856029919,42.009425375,41.854714656,41.801393686,41.903422497,41.724927226,41.885888079,41.976574335,41.851216189,41.710315707,41.769185486,41.987842805,41.731284758,41.818075262,41.762161498,41.873219626,41.74352219,41.765428048,41.888519671,41.938187758,41.883530769,41.707519433,41.727396454,41.88652124,41.729800348,41.879661402,41.882359401,41.754251875,41.955635774,41.890047463,41.884333364,41.762176812,41.676789833,41.95641527,41.778565718,41.809355139,41.918898604,41.938044947,41.916977388,41.953436358,41.972739234,41.867297333,41.93467909,41.878638996,41.835365429,41.748060338,41.770132953,41.781693266,41.794794662,41.750832464,41.769364272,41.900016576,41.924901179,41.744954715,41.75177145,41.74420082,41.750772111,41.774810223,42.01036502,41.936394301,41.881948328,41.894385178,41.897890608,41.902553158,41.758847584,41.899831808,41.769686115,41.999488554,41.776842352,42.017537501,41.771688123,41.961309655,41.785674626,41.772409643,41.770020864,41.98288502,41.955066595,41.804112805,41.774172834,41.771467692,41.770408737,41.747870292,41.875513637,41.843703836,41.85102174,41.781531756,41.805096267,41.892331537,41.866806472,41.89250352,41.854917247,41.757315052,41.891694878,41.803194418,41.772972076,41.935171382,41.921209846,41.864073157,41.935874452,41.747222066,41.942216025,41.924716387,41.877470199,41.765558228,41.747650579,41.851888263,41.895896023,41.800626132,41.910222669,41.976188979,41.884494554,41.931239538,41.881535551,41.815933131,41.904370109,41.895239896,41.756060363,41.814997484,41.918531251,41.808854421,41.7700927,41.896434989,41.943580734,41.708090633,41.746952352,41.797348695,41.908840448,41.939330941,41.909618829,41.744991196,41.963599469,41.878319716,41.749568654,41.908253199,41.749876545,41.884688197,41.754592961,41.841208037,41.738538347,41.852609291,41.873763682,41.788339891,41.933037207,41.809603298,41.858495963,41.731411244,41.922486131,41.997975526,41.921038627,41.915474358,41.6752908,41.691102061,41.854310729,41.876456992,41.846971866,41.797222452,41.86823197,41.756103793,41.867298954,41.753681021,41.913703084,41.836600771,41.853807787],\"legendgroup\":\"\",\"lon\":[-87.665089129,-87.562654754,-87.742794939,-87.825669539,-87.627994833,-87.666022551,-87.660594543,-87.753842755,-87.636805615,-87.647516178,-87.707634031,-87.755616308,-87.905227221,-87.724111805,-87.669375109,-87.662009925,-87.752634034,-87.722102089,-87.722437028,-87.652251311,-87.765811082,-87.791094233,-87.652011062,-87.635923058,-87.622497476,-87.665104061,-87.585505972,-87.698354392,-87.665535033,-87.765347251,-87.687930177,-87.614088121,-87.620196651,-87.769591214,-87.561406108,-87.695184545,-87.558853882,-87.63466702,-87.614452924,-87.552706447,-87.705025803,-87.6276188,-87.723109598,-87.648390992,-87.763768662,-87.715372329,-87.721810757,-87.682012475,-87.65350869,-87.699534545,-87.70459085,-87.726337543,-87.684209922,-87.624100509,-87.651050227,-87.760709851,-87.74992155,-87.754281422,-87.634427475,-87.639235361,-87.667360199,-87.702173146,-87.586472214,-87.613925448,-87.728696242,-87.629365643,-87.604776254,-87.692001819,-87.628429171,-87.556843786,-87.63598179,-87.721444549,-87.681743448,-87.609004827,-87.626342565,-87.654742531,-87.654026785,-87.584687479,-87.749557063,-87.723266186,-87.644063902,-87.658979479,-87.634865947,-87.666136881,-87.662516171,-87.534068433,-87.670560683,-87.725813061,-87.635306049,-87.733014651,-87.639087164,-87.704479484,-87.713095412,-87.71238279,-87.648214113,-87.789936526,-87.73264314,-87.765338129,-87.758232841,-87.748894125,-87.703936225,-87.622680335,-87.676320601,-87.619925551,-87.547924633,-87.668164523,-87.637897975,-87.6420789,-87.609476619,-87.634517583,-87.756167542,-87.711642306,-87.663595529,-87.702837382,-87.732880358,-87.737662255,-87.724223679,-87.765830579,-87.764584482,-87.744157718,-87.63077557,-87.656302434,-87.661648848,-87.661759167,-87.634920768,-87.65548862,-87.723725933,-87.665426234,-87.759657206,-87.605993706,-87.708424071,-87.738325124,-87.576478539,-87.620790357,-87.646226566,-87.620004288,-87.723586664,-87.643041842,-87.686098247,-87.70110283,-87.614476891,-87.702663393,-87.755737112,-87.659051873,-87.658223003,-87.613377884,-87.73254071,-87.544726745,-87.690002707,-87.657162192,-87.745985284,-87.717294835,-87.618598435,-87.551328185,-87.778103058,-87.691590754,-87.786783523,-87.609602521,-87.561468638,-87.627029031,-87.65562345,-87.727697758,-87.625340136,-87.551069707,-87.640725067,-87.784594449,-87.683959671,-87.62148247,-87.69237713,-87.558853882,-87.662706548,-87.640815604,-87.738890469,-87.560097217,-87.72700804,-87.641985159,-87.774904637,-87.765089381,-87.727861147,-87.662482742,-87.631434876,-87.67820699,-87.669489133,-87.711909387,-87.753003616,-87.619567769,-87.615558035,-87.629084946,-87.638611865,-87.621696395,-87.636203219,-87.607392786,-87.7101589,-87.665806177,-87.647905229,-87.634745697,-87.707723702,-87.681114361,-87.673109334,-87.685321981,-87.58791829,-87.716965056,-87.761085951,-87.694999482,-87.67420816,-87.677877147,-87.557699586,-87.679982964,-87.642597582,-87.731320798,-87.7159867,-87.686943658,-87.587268609,-87.646948147,-87.699328879,-87.708756934,-87.692348639,-87.618141746,-87.729055168,-87.55030535,-87.643199348,-87.717724904,-87.653580044,-87.723963541,-87.67527356,-87.60971146,-87.632170263,-87.627787526,-87.666190815,-87.642819913,-87.70624024,-87.663496806,-87.606401292,-87.648127757,-87.751570374,-87.761739999,-87.703696487,-87.669220007,-87.694543229,-87.558257551,-87.738031259,-87.721887795,-87.65890711,-87.646353396,-87.613289399,-87.577119174,-87.550915337,-87.626155832,-87.605227346,-87.735536215,-87.614835706,-87.687091821,-87.612187497,-87.768351922,-87.671967508,-87.683188577,-87.747842145,-87.629816575,-87.705602716,-87.63482963,-87.606500638,-87.633341188,-87.717000765,-87.592225886,-87.669922369,-87.647564541,-87.756584967,-87.637009521,-87.728107236,-87.651647068,-87.618684697,-87.641821149,-87.706266301,-87.686350558,-87.607911781,-87.747457286,-87.795264662,-87.685533114,-87.673730413,-87.624088237,-87.71338359,-87.656565644,-87.648487847,-87.657821704,-87.621785651,-87.710372115,-87.629307346,-87.719931808,-87.576292427,-87.622436193,-87.757120814,-87.595010373,-87.575471223,-87.650710119,-87.732457605,-87.711509711,-87.645828402,-87.653876583,-87.655550394,-87.652747282,-87.76702211,-87.65657393,-87.684261102,-87.714649091,-87.762984973,-87.576291395,-87.64892127,-87.654918023,-87.645505595,-87.637028707,-87.73009897,-87.611731628,-87.74219465,-87.695878991,-87.684654533,-87.643058205,-87.634050522,-87.67853663,-87.611461502,-87.751729667,-87.721396763,-87.600973936,-87.642477298,-87.598828591,-87.623823775,-87.671908854,-87.837476254,-87.743552341,-87.666004286,-87.657609802,-87.71745262,-87.652507938,-87.627644063,-87.747836802,-87.620879042,-87.727165786,-87.6304532,-87.705080327,-87.710494015,-87.800938363,-87.653056908,-87.677481081,-87.611887319,-87.641648739,-87.633564301,-87.590513422,-87.650838629,-87.675324398,-87.667154376,-87.622622313,-87.61330319,-87.578838536,-87.57632989,-87.658045736,-87.567294437,-87.576054836,-87.703830113,-87.752035135,-87.572635409,-87.694456686,-87.73730525,-87.719750256,-87.720874458,-87.679611307,-87.630869076,-87.672769319,-87.711406615,-87.728653439,-87.697622185,-87.72360792,-87.616723274,-87.614792711,-87.707248137,-87.617676981,-87.6193466,-87.759290094,-87.701737145,-87.545101753,-87.624945647,-87.63993142,-87.687979338,-87.602879729,-87.890372151,-87.627381003,-87.639235361,-87.698964559,-87.634674198,-87.666055921,-87.670982127,-87.655550453,-87.677139749,-87.671116619,-87.655755013,-87.615568353,-87.629125336,-87.586270811,-87.614451899,-87.731406434,-87.7092567,-87.725266086,-87.764581664,-87.68942858,-87.62482895,-87.671075676,-87.666944165,-87.77300256,-87.70982734,-87.693520859,-87.703546693,-87.575224787,-87.72138853,-87.686468002,-87.662425268,-87.623196563,-87.545039445,-87.667319221,-87.754158071,-87.610277459,-87.746665061,-87.725007009,-87.602624733,-87.759426065,-87.761379157,-87.575835221,-87.666381559,-87.686450792,-87.626238686,-87.735575192,-87.615649592,-87.696771209,-87.750028249,-87.562499311,-87.720037598,-87.700637296,-87.717551687,-87.695416492,-87.640198387,-87.617837105,-87.661723358,-87.600962756,-87.647637334,-87.706094102,-87.610384726,-87.570075766,-87.629971628,-87.700813825,-87.576478539,-87.735770141,-87.765044386,-87.666069049,-87.68073427,-87.788657587,-87.665319685,-87.688249516,-87.767096147,-87.72273136,-87.711647603,-87.716879846,-87.587403463,-87.614436164,-87.776660788,-87.738582822,-87.68577827,-87.650666382,-87.663949757,-87.77563503,-87.684651712,-87.666333135,-87.631232545,-87.650744443,-87.624184899,-87.794270154,-87.603991283,-87.742142692,-87.685375548,-87.70212526,-87.627876698,-87.655755626,-87.65266431,-87.611731628,-87.618900336,-87.666799971,-87.593005843,-87.637638525,-87.640885421,-87.79171644,-87.726780314,-87.733941905,-87.728618313,-87.586387726,-87.698584669,-87.657841894,-87.612797254,-87.665967873,-87.630703226,-87.667005567,-87.674263985,-87.629570437,-87.625816668,-87.63601045,-87.639929419,-87.587481894,-87.600921791,-87.704854042,-87.620592127,-87.631906508,-87.627733893,-87.765788239,-87.748075816,-87.718119247,-87.764006973,-87.665103512,-87.653288878,-87.623620246,-87.723842281,-87.729879189,-87.728569618,-87.653144938,-87.712410656,-87.620651734,-87.607781054,-87.665451641,-87.656700356,-87.670060499,-87.628311641,-87.571598578,-87.724945467,-87.649296123,-87.762646358,-87.707842691,-87.629636606,-87.709438374,-87.627270627,-87.698273774,-87.654182563,-87.655516174,-87.654999693,-87.72226363,-87.744876752,-87.688282058,-87.647780503,-87.670476096,-87.562624493,-87.750415854,-87.681873992,-87.628330712,-87.627813307,-87.681873992,-87.770480548,-87.728277878,-87.67083136,-87.708840106,-87.612867908,-87.694485803,-87.620684125,-87.650106633,-87.751570374,-87.667371661,-87.650095328,-87.689671589,-87.715605713,-87.673122797,-87.627029031,-87.697226955,-87.704705156,-87.75812836,-87.622261382,-87.651147769,-87.724338612,-87.660328707,-87.765209603,-87.625732367,-87.667439919,-87.766610995,-87.622268652,-87.637684017,-87.630966024,-87.771829064,-87.711202374,-87.735328012,-87.644378904,-87.688124501,-87.686218022,-87.632055653,-87.646489313,-87.673185901,-87.618644375,-87.72565198,-87.699647904,-87.781708438,-87.740543475,-87.672145856,-87.620029182,-87.645290255,-87.645429498,-87.595822806,-87.597310908,-87.694468661,-87.645045119,-87.696686934,-87.692783187,-87.709869286,-87.66441471,-87.701143205,-87.67777233,-87.707973888,-87.649056302,-87.721840162,-87.669395453,-87.673387454,-87.694031165,-87.714339348,-87.660551996,-87.615610728,-87.677409143,-87.62891376,-87.614121283,-87.664408908,-87.662150113,-87.788762755,-87.709790316,-87.624413274,-87.62661592,-87.687837868,-87.686706987,-87.599238402,-87.883611316,-87.566040932,-87.758563238,-87.619793657,-87.585474026,-87.620119685,-87.728620041,-87.729508807,-87.686709304,-87.612071414,-87.671470254,-87.604439812,-87.710189289,-87.766294416,-87.633888347,-87.653106106,-87.659510007,-87.708840106,-87.646645976,-87.555305785,-87.752380363,-87.559774011,-87.604478527,-87.646126931,-87.600312091,-87.688165791,-87.736637301,-87.634743877,-87.734314345,-87.60705513,-87.678270334,-87.758411673,-87.685623422,-87.644610871,-87.734045986,-87.537357913,-87.6417153,-87.637177321,-87.698729129,-87.62438354,-87.757734739,-87.659695364,-87.743924325,-87.693320295,-87.706815901,-87.761009083,-87.69162698,-87.756274592,-87.627876698,-87.668553772,-87.720628306,-87.653867313,-87.607639784,-87.581936662,-87.659517622,-87.72846982,-87.653288878,-87.623748793,-87.803589163,-87.712520544,-87.770938858,-87.648430138,-87.60597125,-87.598990093,-87.667067379,-87.600715839,-87.669375109,-87.688514731,-87.632534851,-87.572387695,-87.775906748,-87.666247015,-87.684326918,-87.653814751,-87.606055807,-87.720517147,-87.622463983,-87.721336447,-87.753721369,-87.671571299,-87.646875654,-87.690620148,-87.802943399,-87.786765617,-87.668922971,-87.74418902,-87.626633154,-87.609041295,-87.70931956,-87.601667381,-87.766203402,-87.662765006,-87.626685031,-87.727699641,-87.605224736,-87.643332481,-87.684693126,-87.608421891,-87.647842311,-87.566469939,-87.753353412,-87.69735485,-87.708828549,-87.669419975,-87.747736869,-87.791843293,-87.757959152,-87.645372621,-87.740543146,-87.649094759,-87.628276721,-87.655208186,-87.660212994,-87.816457884,-87.671861659,-87.562649309,-87.667928476,-87.700447336,-87.76527117,-87.623449223,-87.702782533,-87.626874863,-87.675523031,-87.722819316,-87.680566164,-87.640822281,-87.755785407,-87.546655412,-87.639596815,-87.683001177,-87.659110921,-87.704651072,-87.625489799,-87.617721411,-87.687951908,-87.818405759,-87.632266858,-87.568965551,-87.626563168,-87.661570234,-87.584434739,-87.786301606,-87.72198373,-87.633060702,-87.661994545,-87.717792133,-87.597000707,-87.749348744,-87.71361395,-87.742728815,-87.687716771,-87.663899538,-87.628142362,-87.687688498,-87.629823313,-87.727703751,-87.653905418,-87.646038644,-87.682354846,-87.698545833,-87.624022984,-87.65572097,-87.649621565,-87.717593185,-87.784400132,-87.693297619,-87.564581836,-87.63407212,-87.77108237,-87.67249332,-87.613033345,-87.720187677,-87.615376564,-87.731829394,-87.642764884,-87.686393198,-87.632315523,-87.76510239,-87.663590843,-87.754116063,-87.728836961,-87.754985521,-87.621001903,-87.687370839,-87.562825838,-87.766120589,-87.756416633,-87.546652787,-87.677383212,-87.595678052,-87.613737432,-87.716570711,-87.582632792,-87.6182857,-87.561219256,-87.774104148,-87.626155832,-87.733856462,-87.69445629,-87.626251847,-87.717867177,-87.680490946,-87.68789843,-87.637196769,-87.571169218,-87.607333473,-87.723855981,-87.66382344,-87.599539961,-87.653528766,-87.626200763,-87.617993623,-87.612617509,-87.661759042,-87.741355071,-87.626401638,-87.665683446,-87.642681562,-87.638224621,-87.713236564,-87.716901875,-87.688516553,-87.624720189,-87.709166655,-87.674841238,-87.787551389,-87.610050814,-87.653167899,-87.592464611,-87.716243608,-87.623243638,-87.615787227,-87.703873829,-87.712348514,-87.680641178,-87.72705555,-87.780130326,-87.586856194,-87.713287178,-87.627876698,-87.786411512,-87.6677509,-87.674140581,-87.68967447,-87.716095047,-87.651245176,-87.646168516,-87.720877714,-87.65465117,-87.831554504,-87.763358767,-87.580633496,-87.615968735,-87.624988506,-87.703273154,-87.659134955,-87.545822951,-87.590934926,-87.660882658,-87.655085571,-87.682931367,-87.648031778,-87.665398533,-87.72062759,-87.677713634,-87.906463155,-87.655552193,-87.733669057,-87.651839165,-87.70200143,-87.644888985,-87.641535527,-87.769796812,-87.636687099,-87.674958985,-87.624353027,-87.774281815,-87.606606306,-87.785611939,-87.664959444,-87.548047098,-87.601758575,-87.650201394,-87.638700147,-87.581925417,-87.687220411,-87.6006228,-87.627847625,-87.65074995,-87.651145182,-87.651871976,-87.729847392,-87.714994492,-87.732327537,-87.647696948,-87.659074153,-87.609795215,-87.765865863,-87.680963913,-87.633909584,-87.724644992,-87.740543523,-87.550766157,-87.76464733,-87.758001514,-87.541350479,-87.688862796,-87.606458295,-87.773260431,-87.59325549,-87.686168201,-87.625369395,-87.723247929,-87.706671347,-87.681504488,-87.716522372,-87.633632427,-87.673891132,-87.703320489,-87.613705645,-87.603791918,-87.751879825,-87.619164088,-87.661008594,-87.604815966,-87.666755789,-87.665005894,-87.651997659,-87.684968857,-87.628543186,-87.708037911,-87.556314543,-87.771478233,-87.758277228,-87.59162096,-87.638317188,-87.669575295,-87.619581187,-87.667156068,-87.559436443,-87.618312939,-87.68164629,-87.525761621,-87.816892975,-87.719003201,-87.634605726,-87.662395431,-87.75549422,-87.662706548,-87.7330844,-87.710319284,-87.725774467,-87.700749242,-87.713952627,-87.735587478,-87.615596501,-87.63062626,-87.66031639,-87.663426578,-87.629620433,-87.745964761,-87.721394934,-87.634444098,-87.631637243,-87.59216715,-87.676681906,-87.598423885,-87.627718261,-87.700821129,-87.711241075,-87.594939523,-87.576088271,-87.771228251,-87.670797613,-87.783344986,-87.882329097,-87.66738037,-87.906463155,-87.625926112,-87.689359413,-87.649750731,-87.901514402,-87.71998637,-87.717416647,-87.627231186,-87.737574513,-87.703613727,-87.639118752,-87.638732821,-87.663878589,-87.659944739,-87.677380084,-87.627876698,-87.784544986,-87.717964416,-87.716342361,-87.579361271,-87.665505285,-87.640060441,-87.706080114,-87.554141094,-87.718495677,-87.658933611,-87.664953849,-87.711949125,-87.674465841,-87.62222517,-87.620868629,-87.715453543,-87.738813527,-87.624026045,-87.582529785,-87.659315245,-87.577154713,-87.671812366,-87.557919753,-87.622217398,-87.665251857,-87.756954113,-87.620660001,-87.720539406,-87.803919042,-87.638838917,-87.641751912,-87.624203012,-87.587465382,-87.676037818,-87.635309866,-87.740514226,-87.709177949,-87.666512875,-87.69814056,-87.610765713,-87.631836842,-87.735612008,-87.647623816,-87.653785625,-87.697211719,-87.695691797,-87.659481263,-87.70685795,-87.712426437,-87.611015701,-87.696525643,-87.704705156,-87.703139044,-87.538905259,-87.666030576,-87.639158,-87.711236547,-87.625680278,-87.582570415,-87.65474101,-87.618469791,-87.719189902,-87.650622101,-87.718587633,-87.763099156,-87.728212272,-87.614159613,-87.645370814,-87.731232031,-87.749962106,-87.697906775,-87.697215785,-87.889668151,-87.625728324,-87.638753505,-87.703753695,-87.655843942,-87.709649309,-87.677823259,-87.661585975,-87.758530032,-87.607150695,-87.642158743,-87.638779939,-87.713571949,-87.766825016,-87.654478205,-87.568871404,-87.776552448,-87.711410742,-87.590011073,-87.702089616,-87.628190772,-87.648373487,-87.62741936,-87.632268373,-87.613027006,-87.654999693,-87.669433566,-87.728003359,-87.721340971,-87.721792427,-87.61731467,-87.755545439,-87.707625659,-87.65474101,-87.596847706,-87.709300813,-87.602151846,-87.73924554,-87.721400261,-87.623289726,-87.712370606,-87.671811324,-87.768689142,-87.560215615,-87.670011875,-87.762078528,-87.627279966,-87.630148782,-87.561272312,-87.666035206,-87.613645309,-87.618954852,-87.63088203,-87.68848831,-87.656563565,-87.598286922,-87.655887545,-87.773178768,-87.811085413,-87.755060172,-87.631438536,-87.650104977,-87.736506636,-87.700250591,-87.7711358,-87.743042954,-87.626288377,-87.743466273,-87.608623755,-87.627876698,-87.765616381,-87.692648962,-87.759181342,-87.560906619,-87.665329825,-87.667632935,-87.659893199,-87.636673298,-87.762816263,-87.61567891,-87.717833038,-87.626761321,-87.704394994,-87.692534014,-87.60772081,-87.639235361,-87.673661109,-87.679339735,-87.684667878,-87.592138525,-87.746073287,-87.563739255,-87.639680572,-87.7187477,-87.710017801,-87.672256721,-87.752843748,-87.66743891,-87.693278556,-87.691504292,-87.688225306,-87.64998067,-87.78279835,-87.818014114,-87.711812864,-87.762300735,-87.670983337,-87.639542874,-87.707965002,-87.72175209,-87.639087164,-87.633556985,-87.626464779,-87.627844798,-87.619528837,-87.68743886,-87.755702862,-87.725626437,-87.670990116,-87.700688526,-87.694551457,-87.664972796,-87.61115238,-87.639158,-87.655552193,-87.66362871,-87.634413384,-87.656472924,-87.63733013,-87.737155987,-87.659643516,-87.624589169,-87.648360764,-87.681863676,-87.717365709,-87.619391252,-87.711635175,-87.605758495,-87.732880775,-87.74697052,-87.637050983,-87.616847182,-87.662636959,-87.742742299,-87.619119418,-87.637277969,-87.733014651,-87.661846483,-87.708146694,-87.760401555,-87.631955603,-87.705312873,-87.651670668,-87.835476195,-87.62186422,-87.648430138,-87.615352022,-87.665824992,-87.650507242,-87.576478539,-87.752677325,-87.768810959,-87.733966523,-87.65895741,-87.693989039,-87.73728332,-87.669768304,-87.641832941,-87.698322157,-87.626346371,-87.688225306,-87.66382344,-87.610283271,-87.708252007,-87.687325034,-87.66376932,-87.660277146,-87.615276726,-87.760746308,-87.532860131,-87.748170814,-87.618979261,-87.696002422,-87.620278643,-87.628783943,-87.647999125,-87.614131833,-87.653593819,-87.592089099,-87.639895786,-87.717738536,-87.660962362,-87.763329073,-87.53407932,-87.623841253,-87.643139927,-87.726398163,-87.669130257,-87.653857711,-87.690672777,-87.612567255,-87.640288231,-87.681894952,-87.670867826,-87.6669523,-87.769172469,-87.626513215,-87.639087164,-87.673546773,-87.590355138,-87.637684017,-87.646125216,-87.56208376,-87.631177143,-87.739908582,-87.605987023,-87.647139413,-87.694918349,-87.673915789,-87.798965184,-87.683647278,-87.700883134,-87.720919413,-87.662516286,-87.729650077,-87.672821851,-87.627075877,-87.731561021,-87.607911781,-87.631344503,-87.667995263,-87.715016084,-87.72747554,-87.659532917,-87.782631305,-87.617253004,-87.627841791,-87.6171213,-87.629545308,-87.591988991,-87.670275018,-87.667997673,-87.672705617,-87.669951491,-87.551419766,-87.716221792,-87.640314758,-87.695670362,-87.544323252,-87.766701627,-87.622969336,-87.628247525,-87.67943093,-87.636391922,-87.706812664,-87.633564301,-87.628724512,-87.699432707,-87.664040284,-87.70696709,-87.53597039,-87.59429376,-87.626342565,-87.556752911,-87.641147626,-87.663250604,-87.737037166,-87.632339422,-87.662959118,-87.700206277,-87.668826246,-87.687244301,-87.615915568,-87.773014053,-87.688661831,-87.717099678,-87.712171717,-87.642332226,-87.682442497,-87.663850441,-87.631284869,-87.66805462,-87.614083058,-87.658080081,-87.664342629,-87.665372341,-87.695510436,-87.573741714,-87.702253422,-87.726164111,-87.612273942,-87.602093356,-87.626311769,-87.677316168,-87.664615468,-87.622134893,-87.596960238,-87.625779476,-87.672588321,-87.765192255,-87.760628299,-87.657098109,-87.706612089,-87.773582323,-87.629955173,-87.764959151,-87.754862884,-87.627551654,-87.710586946,-87.717058858,-87.751408873,-87.716659073,-87.695492411,-87.607582382,-87.706002693,-87.764962093,-87.668351797,-87.671992307,-87.74064508,-87.652598473,-87.785547998,-87.563649866,-87.755357043,-87.679307857,-87.576372975,-87.622575413,-87.645841619,-87.770524924,-87.61265777,-87.645458414,-87.56702646,-87.62883844,-87.659670442,-87.732032344,-87.709586216,-87.683730159,-87.716451672,-87.572568574,-87.66916129,-87.650130885,-87.719887776,-87.725844816,-87.645142068,-87.718221999,-87.6504568,-87.711848248,-87.625098514,-87.625816668,-87.673460379,-87.723050227,-87.662979957,-87.610266699,-87.686845794,-87.607251618,-87.648144363,-87.742892045,-87.742728815,-87.72488284,-87.713902115,-87.647342333,-87.684273777,-87.664677728,-87.628019052,-87.667812343,-87.749331443,-87.815519363,-87.76417995,-87.695624737,-87.629084946,-87.630358188,-87.626766976,-87.712963113,-87.628764515,-87.632506739,-87.622632902,-87.777982135,-87.624347038,-87.602741498,-87.626680112,-87.6641465,-87.628600605,-87.755317688,-87.650991267,-87.723774494,-87.702156331,-87.661666752,-87.617141911,-87.720935733,-87.662731541,-87.757066697,-87.698832679,-87.716179607,-87.680722233,-87.708962817,-87.627755557,-87.633288825,-87.561406799,-87.757628691,-87.571767756,-87.640507042,-87.710055825,-87.755436387,-87.617349841,-87.718221895,-87.795383951,-87.595461605,-87.702197144,-87.66456619,-87.639071784,-87.675747261,-87.646264692,-87.626155832,-87.630697965,-87.639536668,-87.629707795,-87.696914283,-87.720833956,-87.671009825,-87.650921125,-87.685592871,-87.723040134,-87.712564876,-87.67220843,-87.549897359,-87.699635065,-87.586275721,-87.689596768,-87.674373349,-87.679482684,-87.6638279,-87.645673011,-87.648578343,-87.737301918,-87.731133956,-87.605921959,-87.7389303,-87.723697515,-87.58630763,-87.743044463,-87.604753307,-87.692775127,-87.61818687,-87.720731758,-87.647211724,-87.657159371,-87.657941902,-87.617611457,-87.567306284,-87.689484383,-87.631711558,-87.584621807,-87.621001693,-87.720173039,-87.702105288,-87.682927245,-87.550307481,-87.725054686,-87.720661686,-87.613274211,-87.658317299,-87.705839075,-87.681766492,-87.623527134,-87.63094346,-87.630001432,-87.734421629,-87.745166304,-87.682916451,-87.795715259,-87.709947881,-87.640753492,-87.71130873,-87.627184589,-87.635676779,-87.678568079,-87.692158778,-87.664420649,-87.664247652,-87.656660513,-87.562681923,-87.668569414,-87.692593506,-87.72628358,-87.715876928,-87.627394173,-87.621830953,-87.651165087,-87.651469055,-87.752147863,-87.587615985,-87.708274205,-87.691532716,-87.640060441,-87.625775047,-87.624091323,-87.719095514,-87.651829389,-87.704705156,-87.720451155,-87.631523712,-87.764967808,-87.647798556,-87.659892494,-87.760541139,-87.619929007,-87.583424284,-87.704401826,-87.68666739,-87.732951268,-87.595573943,-87.624152861,-87.654390481,-87.749264906,-87.662799131,-87.639235361,-87.663069212,-87.654730146,-87.535287089,-87.747804523,-87.651447462,-87.564900463,-87.746213401,-87.684528931,-87.612286096,-87.724364314,-87.728946576,-87.727838934,-87.65458144,-87.715404533,-87.729578651,-87.718168983,-87.64735245,-87.640862796,-87.630542489,-87.652984008,-87.727709367,-87.653640659,-87.644630764,-87.786451582,-87.900983721,-87.66614074,-87.605130963,-87.660962362,-87.668750848,-87.710985858,-87.726345225,-87.556492213,-87.670658269,-87.775564266,-87.715237513,-87.723554343,-87.694801653,-87.698383929,-87.623450463,-87.750515514,-87.693218046,-87.647309981,-87.703426223,-87.655639971,-87.674976498,-87.719225834,-87.742728815,-87.664197479,-87.682838316,-87.727739653,-87.641772074,-87.630135884,-87.64298726,-87.737190925,-87.626070778,-87.716451857,-87.642732745,-87.742304586,-87.766203961,-87.645328374,-87.733373189,-87.693290207,-87.777076907,-87.616190019,-87.655328202,-87.652018057,-87.729125574,-87.704650532,-87.655046007,-87.713737288,-87.697247119,-87.724124545,-87.601839023,-87.744921277,-87.700875825,-87.786301606,-87.646348607,-87.616222574,-87.638191426,-87.73213594,-87.613274426,-87.684557818,-87.640751675,-87.68498211,-87.687295639,-87.747843883,-87.73531093,-87.756240817,-87.682105471,-87.634124212,-87.595816393,-87.655876067,-87.654248517,-87.624380767,-87.696734396,-87.670611218,-87.676525544,-87.782929036,-87.711359348,-87.753208314,-87.689739623,-87.66493133,-87.647904248,-87.613592936,-87.688806088,-87.629412971,-87.66292886,-87.660979795,-87.628035475,-87.740302841,-87.629043466,-87.622731255,-87.72953654,-87.73420392,-87.62300861,-87.758768643,-87.653725696,-87.754846305,-87.71927111,-87.613133735,-87.715619552,-87.633288825,-87.673415893,-87.646510048,-87.725037411,-87.594905464,-87.615257912,-87.748177217,-87.634131873,-87.599249989,-87.627876698,-87.592295942,-87.532869427,-87.654940478,-87.669952775,-87.7805974,-87.723999555,-87.624896894,-87.552348667,-87.599466048,-87.631711749,-87.704705156,-87.664386014,-87.639594427,-87.619653439,-87.661890024,-87.716391445,-87.639223704,-87.686112048,-87.724149074,-87.825566906,-87.705056052,-87.59013488,-87.679454293,-87.706125688,-87.568145845,-87.668606344,-87.762378601,-87.670865933,-87.560004323,-87.716611577,-87.652360831,-87.774079367,-87.652880086,-87.68959485,-87.68230796,-87.657350093,-87.664939363,-87.723876035,-87.629559098,-87.798371595,-87.708840106,-87.692406181,-87.648031248,-87.762577917,-87.547005174,-87.696052303,-87.788974608,-87.674047928,-87.660851418,-87.76295359,-87.652334371,-87.645493951,-87.770117054,-87.673784034,-87.721271021,-87.69812578,-87.668700212,-87.562784226,-87.794323148,-87.740514226,-87.709080639,-87.663145096,-87.568543136,-87.702980719,-87.620211441,-87.605170835,-87.904122758,-87.69090369,-87.668416552,-87.615127644,-87.751396529,-87.718045688,-87.682164298,-87.708840106,-87.643829565,-87.78414755,-87.627760426,-87.634623176,-87.648514778,-87.827318185,-87.56639861,-87.752762773,-87.619828999,-87.680114312,-87.752610064,-87.753319639,-87.791247952,-87.627029031,-87.767800918,-87.714249317,-87.646594329,-87.756967805,-87.740122508,-87.71654668,-87.605257993,-87.673363382,-87.687229042,-87.68057571,-87.625732415,-87.744157718,-87.600275297,-87.631467048,-87.734196884,-87.645841619,-87.751509217,-87.723780721,-87.652587083,-87.655281981,-87.649144698,-87.666450969,-87.68148731,-87.680960705,-87.600220148,-87.622171439,-87.565407903,-87.624153044,-87.771427067,-87.756310411,-87.695199039,-87.647708896,-87.681638768,-87.628998255,-87.765405575,-87.619491262,-87.660013914,-87.617866943,-87.684018845,-87.634723998,-87.746271206,-87.709271389,-87.691833085,-87.813193748,-87.555130324,-87.683838647,-87.646951638,-87.815294678,-87.650377017,-87.723151723,-87.662241448,-87.755612897,-87.731031883,-87.689383549,-87.648061971,-87.788292124,-87.667165305,-87.614428473,-87.605766861,-87.620409214,-87.657716788,-87.772931225,-87.638388421,-87.62430303,-87.745955373,-87.763766162,-87.674629385,-87.729173009,-87.629812223,-87.719668116,-87.666578131,-87.615636574,-87.763183491,-87.805796943,-87.787645305,-87.641996558,-87.763818473,-87.629249781,-87.606302868,-87.688249516,-87.74372946,-87.631310613,-87.686859824,-87.629856549,-87.67984308,-87.64288925,-87.606674143,-87.565150437,-87.64397615,-87.633535974,-87.68698393,-87.62387955,-87.549268291,-87.641455374,-87.692006951,-87.620816057,-87.621306558,-87.613133735,-87.771135945,-87.562241298,-87.601726053,-87.617751689,-87.648685933,-87.760938828,-87.653557261,-87.793398118,-87.598536389,-87.759450134,-87.624131266,-87.671171821,-87.636027812,-87.662687781,-87.62145895,-87.669066936,-87.702551084,-87.69482419,-87.641490211,-87.742983903,-87.745872131,-87.72322311,-87.642977219,-87.732778884,-87.709813489,-87.636007536,-87.66747124,-87.657989027,-87.638662143,-87.7592319,-87.673098599,-87.63596892,-87.702196014,-87.720052981,-87.606384206,-87.618538224,-87.625987769,-87.55303151,-87.657930913,-87.652920824,-87.598286922,-87.676101777,-87.702880861,-87.629391908,-87.655306831,-87.680602833,-87.626868724,-87.720352897,-87.716492966,-87.588542427,-87.758246066,-87.712355992,-87.620686081,-87.768397543,-87.675220626,-87.641823987,-87.724676701,-87.66786198,-87.83039677,-87.758977854,-87.681809894,-87.66282004,-87.754519296,-87.61679251,-87.705963317,-87.709841036,-87.70273805,-87.683229302,-87.626827076,-87.624068617,-87.718541132,-87.567294437,-87.763475522,-87.649720072,-87.70640419,-87.679058085,-87.706080114,-87.693011738,-87.72506426,-87.801413056,-87.582433712,-87.659724304,-87.68078547,-87.671185154,-87.660819291,-87.66456619,-87.77656086,-87.651643394,-87.663159574,-87.643006256,-87.714003103,-87.664964304,-87.620580034,-87.626070778,-87.628181642,-87.624153044,-87.674915729,-87.748353493,-87.649353839,-87.716507616,-87.738044553,-87.627876698,-87.615512733,-87.685925328,-87.750558095,-87.744787819,-87.662891098,-87.742460618,-87.623096746,-87.704301523,-87.672084455,-87.782015072,-87.66576318,-87.643195928,-87.724107724,-87.673215847,-87.645606791,-87.621995369,-87.648634091,-87.690930179,-87.734346818,-87.627475027,-87.710081187,-87.656911033,-87.64705347,-87.670463314,-87.755186179,-87.648569508,-87.649581272,-87.716369558,-87.666875582,-87.535279454,-87.614817819,-87.710876763,-87.64774646,-87.625945086,-87.653807089,-87.648606596,-87.713949033,-87.72089612,-87.832672888,-87.662700381,-87.769702943,-87.715759988,-87.630193562,-87.699516064,-87.601717077,-87.600129909,-87.752239902,-87.602500524,-87.623917855,-87.712735111,-87.665048242,-87.672608202,-87.554631651,-87.618989794,-87.661759042,-87.640133025,-87.727739835,-87.686908538,-87.694476753,-87.674501744,-87.611372966,-87.631761752,-87.711381848,-87.644295268,-87.649530587,-87.627683859,-87.640504432,-87.65474101,-87.716276216,-87.613473395,-87.7042147,-87.662365011,-87.708028901,-87.603360484,-87.722376733,-87.660182452,-87.739791531,-87.717890064,-87.559974389,-87.809514637,-87.650489142,-87.637694912,-87.612745541,-87.638684943,-87.68934163,-87.648460233,-87.684855314,-87.670102601,-87.600302468,-87.663539586,-87.610094305,-87.634505361,-87.737519739,-87.663206679,-87.690504041,-87.642416975,-87.720393466,-87.685149193,-87.629284766,-87.764965952,-87.635213281,-87.708836606,-87.634775164,-87.6262294,-87.729130415,-87.745392384,-87.624068617,-87.673318635,-87.554966924,-87.654795347,-87.62256596,-87.68909507,-87.624485177,-87.725976161,-87.660546614,-87.690542273,-87.786783523,-87.726799209,-87.721400058,-87.697440914,-87.7564558,-87.693480445,-87.744957048,-87.556952322,-87.720181932,-87.699411225,-87.604505041,-87.707460248,-87.71556018,-87.707084983,-87.624380767,-87.628965964,-87.611802624,-87.624125523,-87.537357913,-87.702835814,-87.709125911,-87.735985669,-87.627768243,-87.769976647,-87.756244004,-87.690186314,-87.695744714,-87.681450335,-87.55424256,-87.537357913,-87.525274478,-87.770469368,-87.666389746,-87.662193029,-87.647697356,-87.641790193,-87.706179759,-87.716556523,-87.659805915,-87.648267279,-87.645841619,-87.63186087,-87.62709777,-87.762141971,-87.688695578,-87.763413465,-87.758453699,-87.644530643,-87.655453132,-87.747009792,-87.714208845,-87.624241063,-87.680291032,-87.62324655,-87.6417781,-87.678508612,-87.627798561,-87.666040635,-87.665743111,-87.691093707,-87.751511917,-87.680041335,-87.741528537,-87.573048998,-87.72198373,-87.615597542,-87.704195008,-87.64907866,-87.748398316,-87.675529516,-87.633306426,-87.746594838,-87.736809418,-87.721824298,-87.662706548,-87.744856892,-87.704402207,-87.582290243,-87.667577481,-87.722605232,-87.643580713,-87.605955856,-87.668650096,-87.653933645,-87.705528994,-87.677606366,-87.677084446,-87.767886976,-87.627644063,-87.710761178,-87.600037072,-87.605319081,-87.674817948,-87.551939822,-87.682538054,-87.586154041,-87.620592186,-87.549870413,-87.629238017,-87.646585893,-87.715181664,-87.661879218,-87.62352485,-87.652401035,-87.630001432,-87.608701781,-87.66031619,-87.639273854,-87.670231483,-87.706434311,-87.688510421,-87.740567984,-87.647342333,-87.678232016,-87.605364672,-87.710393579,-87.628659652,-87.736133965,-87.604954085,-87.68658527,-87.701402348,-87.625088408,-87.635406033,-87.797839215,-87.680659691,-87.72072354,-87.627929503,-87.586407769,-87.557853704,-87.737948868,-87.642254723,-87.710788154,-87.627874384,-87.644452689,-87.731311277,-87.670180753,-87.684443267,-87.66856824,-87.624317581,-87.646189301,-87.692960181,-87.692759637,-87.772260899,-87.716405934,-87.713875252,-87.630867327,-87.749337612,-87.692352424,-87.68914718,-87.725439031,-87.556752911,-87.558790387,-87.711526897,-87.695098611,-87.762300735,-87.618800643,-87.63482963,-87.664206366,-87.684398065,-87.626200623,-87.64847244,-87.662069539,-87.745960943,-87.554069084,-87.625958144,-87.701808336,-87.613694407,-87.635960403,-87.71234338,-87.653593036,-87.73243668,-87.704463371,-87.666643834,-87.709271389,-87.693659808,-87.664128146,-87.76027415,-87.704927005,-87.689341576,-87.629559608,-87.709294579,-87.674768971,-87.645841619,-87.574578165,-87.722390196,-87.718495677,-87.750800314,-87.67764257,-87.682535045,-87.615968735,-87.582622321,-87.603761388,-87.575969317,-87.618708951,-87.682290324,-87.686174774,-87.721147786,-87.595783845,-87.728996168,-87.672682198,-87.650551251,-87.697055981,-87.598120558,-87.650271395,-87.63172292,-87.640028031,-87.653149569,-87.647659339,-87.797991845,-87.701453609,-87.731859522,-87.52685268,-87.615659667,-87.671685651,-87.648130468,-87.697310873,-87.747047289,-87.84653278,-87.623205883,-87.631698738,-87.710761053,-87.716132565,-87.746419366,-87.715247092,-87.695171094,-87.634385696,-87.663070796,-87.669482522,-87.774899312,-87.741936479,-87.634487765,-87.659074153,-87.645981878,-87.645749253,-87.656911033,-87.652031163,-87.717928622,-87.615566126,-87.636758638,-87.780585208,-87.70464797,-87.719922769,-87.706523811,-87.727894983,-87.748750057,-87.569943319,-87.730174243,-87.648743918,-87.630001432,-87.639167387,-87.641207507,-87.629070243,-87.665468412,-87.718645883,-87.76973442,-87.649380278,-87.652002823,-87.756710494,-87.624096605,-87.684108159,-87.705039225,-87.776301776,-87.551071504,-87.697122998,-87.671096014,-87.725705945,-87.721477831,-87.645996134,-87.637543608,-87.817756659,-87.623062416,-87.666953123,-87.659871272,-87.736312283,-87.660041293,-87.720115618,-87.655843425,-87.644069316,-87.731379094,-87.629107914,-87.632833321,-87.733765956,-87.697481536,-87.627935448,-87.658316097,-87.662926034,-87.596061859,-87.618697623,-87.666829147,-87.626216085,-87.746049479,-87.630365095,-87.665923635,-87.74147999,-87.722276273,-87.66772811,-87.625817031,-87.674211066,-87.706551951,-87.755289054,-87.624374606,-87.906463155,-87.63243193,-87.762501026,-87.638611836,-87.663043607,-87.555793737,-87.663125434,-87.628442902,-87.694886689,-87.763055783,-87.690165784,-87.661256356,-87.672929223,-87.657199688,-87.711631385,-87.631467048,-87.671869304,-87.723723664,-87.674729007,-87.624279065,-87.735603868,-87.767912706,-87.550224537,-87.68738867,-87.66056171,-87.78488647,-87.627998797,-87.5576101,-87.640107132,-87.622292958,-87.655181405,-87.681355203,-87.615596501,-87.566431393,-87.621592446,-87.627910223,-87.762510114,-87.673840482,-87.67464064,-87.700807641,-87.708784753,-87.80576669,-87.632182661,-87.703546485,-87.60501807,-87.709308364,-87.669572849,-87.760177077,-87.762783322,-87.629080811,-87.692502716,-87.650130303,-87.687187224,-87.665106838,-87.706345355,-87.768156926,-87.680159786,-87.672488319,-87.673960201,-87.687434413,-87.623435005,-87.623201639,-87.629070243,-87.544364336,-87.699144174,-87.748215165,-87.620503762,-87.675110943,-87.751228215,-87.662772235,-87.637921488,-87.677645591,-87.672185658,-87.634218691,-87.736189335,-87.702043471,-87.694408561,-87.710717016,-87.571923812,-87.686565791,-87.576466565,-87.741528537,-87.614436164,-87.771877512,-87.666968639,-87.666107752,-87.747247947,-87.642803315,-87.732921989,-87.683002985,-87.703950767,-87.626545144,-87.649283274,-87.675567181,-87.762075893,-87.765122197,-87.591020265,-87.663019975,-87.712670479,-87.72628358,-87.708840106,-87.746229631,-87.708579418,-87.7272257,-87.826953888,-87.666069116,-87.682063217,-87.627400555,-87.70234588,-87.627801061,-87.699111218,-87.633732093,-87.664239363,-87.655519125,-87.621670187,-87.626069718,-87.629152783,-87.712436768,-87.6588212,-87.67956654,-87.665830959,-87.642207607,-87.6241128,-87.62175807,-87.615478975,-87.742275381,-87.699554676,-87.637630473,-87.690009269,-87.727385537,-87.701596513,-87.613869783,-87.719147053,-87.629682205,-87.715963037,-87.627388469,-87.627760426,-87.650785049,-87.557299366,-87.68543424,-87.656985264,-87.629598125,-87.749325902,-87.729357492,-87.724108549,-87.755746466,-87.641944686,-87.660383552,-87.607248137,-87.642120302,-87.551244573,-87.682723428,-87.639594427,-87.735088592,-87.6781001,-87.631433102,-87.641484982,-87.678085051,-87.664282585,-87.657614643,-87.609770572,-87.665879097,-87.757986747,-87.77082783,-87.682226019,-87.721845231,-87.727738952,-87.671550497,-87.627986655,-87.627994833,-87.536487335,-87.644631566,-87.752974602,-87.717949098,-87.699203742,-87.653248016,-87.733830549,-87.755587101,-87.711154301,-87.56536932,-87.658258018,-87.731255534,-87.603904902,-87.614285206,-87.680958152,-87.707307072,-87.622042783,-87.666188654,-87.690897602,-87.690611679,-87.637672913,-87.715205487,-87.606520125,-87.604634783,-87.670073199,-87.703955849,-87.703400147,-87.696218266,-87.673452044,-87.658511523,-87.723246029,-87.628203192,-87.788905781,-87.749420376,-87.703313645,-87.673157281,-87.703847929,-87.644460392,-87.661297945,-87.629070243,-87.702155577,-87.730901672,-87.802406503,-87.755183225,-87.682899299,-87.615274267,-87.603808532,-87.694115997,-87.567482256,-87.690240767,-87.660855375,-87.639614884,-87.6241535,-87.817345306,-87.701565099,-87.658739723,-87.651238049,-87.597276924,-87.651441881,-87.749742884,-87.641021859,-87.623986519,-87.720854414,-87.607003473,-87.766622386,-87.61337019,-87.66537122,-87.655400607,-87.64310445,-87.71837099,-87.655265373,-87.687681206,-87.632696241,-87.706655951,-87.657831225,-87.62991594,-87.643536131,-87.68623372,-87.661008708,-87.773601551,-87.62846663,-87.749149559,-87.717610828,-87.674760856,-87.626668445,-87.722763609,-87.64679385,-87.725621359,-87.565661157,-87.726164111,-87.721394751,-87.680651235,-87.835846097,-87.624096605,-87.732696174,-87.745875542,-87.681991333,-87.645841619,-87.586651937,-87.716164452,-87.702774611,-87.689600157,-87.609392423,-87.662319113,-87.727589677,-87.739116674,-87.694714592,-87.725964232,-87.650066159,-87.627514417,-87.614802244,-87.620592154,-87.723779583,-87.775128155,-87.671090591,-87.629043466,-87.646102461,-87.626221485,-87.555528069,-87.662784403,-87.690784088,-87.70326286,-87.681829326,-87.65274758,-87.658222343,-87.665109285,-87.720517147,-87.535282471,-87.700424049,-87.707304801,-87.619164088,-87.707935618,-87.616412706,-87.618644375,-87.641668112,-87.557698925,-87.755751426,-87.664258429,-87.728731159,-87.666747343,-87.675651231,-87.586596725,-87.729460332,-87.738131662,-87.653867946,-87.672196318,-87.744001666,-87.706165802,-87.675461861,-87.76044037,-87.634790696,-87.685622077,-87.694988074,-87.689949888,-87.573041151,-87.784166773,-87.732914814,-87.660962362,-87.6541242,-87.631083766,-87.652296405,-87.597854554,-87.718026137,-87.648059717,-87.645114268,-87.559719497,-87.691094082,-87.686249845,-87.735971224,-87.647514742,-87.612612664,-87.668062606,-87.62743954,-87.642214732,-87.680728141,-87.724024462,-87.69773923,-87.627014461,-87.624095634,-87.661939844,-87.628685126,-87.726571455,-87.657189055,-87.694783471,-87.624821493,-87.763398045,-87.702371918,-87.663289376,-87.640455191,-87.648612493,-87.647610487,-87.645564858,-87.631092347,-87.631881548,-87.807989399,-87.628311641,-87.569290282,-87.619521763,-87.618265505,-87.672755986,-87.597284758,-87.722729328,-87.726568067,-87.760266374,-87.566396938,-87.742962116,-87.608109527,-87.706157302,-87.558884526,-87.683293995,-87.563583242,-87.570800471,-87.660610738,-87.766175449,-87.583559886,-87.624521539,-87.7344987,-87.711526897,-87.668001006,-87.736790668,-87.678521409,-87.621995369,-87.622021816,-87.6909035,-87.68529887,-87.746900353,-87.675885898,-87.69262646,-87.574796951,-87.748182182,-87.648578343,-87.646589193,-87.68439341,-87.635125211,-87.73885249,-87.664761827,-87.710303014,-87.709268879,-87.715064623,-87.652653104,-87.614802244,-87.632653865,-87.632650679,-87.606333884,-87.615778685,-87.801528319,-87.63598179,-87.555293556,-87.685942031,-87.624131266,-87.734021354,-87.66294264,-87.659834944,-87.622781524,-87.745359695,-87.715027376,-87.720289881,-87.714954819,-87.655751015,-87.660157096,-87.746849759,-87.647342333,-87.687280601,-87.6087643,-87.733325437,-87.623871195,-87.726174308,-87.625838595,-87.736217541,-87.651027143,-87.690744072,-87.627844798,-87.672376042,-87.646537641,-87.64355523,-87.70155403,-87.678350033,-87.629637416,-87.734200389,-87.768194131,-87.636978269,-87.76551063,-87.765412092,-87.629423511,-87.639329219,-87.624119338,-87.717890064,-87.686921052,-87.757534561,-87.592939416,-87.624469241,-87.715963742,-87.622721071,-87.691065209,-87.785547998,-87.630148953,-87.627965859,-87.755838554,-87.677117021,-87.576235076,-87.775840623,-87.628429171,-87.746792852,-87.663460492,-87.721459679,-87.6418111,-87.562241298,-87.692076105,-87.707061848,-87.673362678,-87.578489384,-87.590060698,-87.626834633,-87.69669373,-87.715891865,-87.70925941,-87.64413477,-87.554118677,-87.668248096,-87.628018708,-87.758138574,-87.686016016,-87.644164402,-87.65624125,-87.650219779,-87.649879477,-87.705915234,-87.628769738,-87.684780097,-87.724378738,-87.722767208,-87.729683468,-87.585638764,-87.638709117,-87.770312955,-87.841535129,-87.621661324,-87.706035653,-87.617674109,-87.624380767,-87.716400142,-87.601524202,-87.720514218,-87.65029121,-87.605991095,-87.627557257,-87.607117373,-87.682455068,-87.745551219,-87.718104808,-87.617204632,-87.634420924,-87.642811306,-87.733031405,-87.66884662,-87.668188734,-87.601209921,-87.667100276,-87.625835888,-87.643393585,-87.629204627,-87.702957225,-87.619713911,-87.684368169,-87.689211574,-87.768532463,-87.684037439,-87.607385165,-87.649193107,-87.7405372,-87.710111215,-87.624050746,-87.639713484,-87.665045312,-87.618138846,-87.758034674,-87.664961971,-87.670449364,-87.55303151,-87.565814542,-87.685716617,-87.562183249,-87.623102145,-87.635406033,-87.688848758,-87.746871608,-87.672981029,-87.70071255,-87.664809681,-87.592992717,-87.747633849,-87.558526165,-87.621199174,-87.656299951,-87.659872145,-87.596653142,-87.67205971,-87.564455062,-87.60232674,-87.658096945,-87.653734966,-87.607796382,-87.753008553,-87.64280084,-87.741528537,-87.712060461,-87.66493133,-87.786886272,-87.769346353,-87.65432987,-87.689560384,-87.547929018,-87.74169031,-87.558237537,-87.659880317,-87.641165363,-87.6978538,-87.548002861,-87.781888006,-87.658422747,-87.691925272,-87.711509711,-87.560034817,-87.692769013,-87.69538094,-87.726528607,-87.783563306,-87.616850675,-87.731699622,-87.605220611,-87.678504523,-87.629289876,-87.62128665,-87.610757125,-87.638419281,-87.670011875,-87.629172776,-87.655542844,-87.615558249,-87.613691968,-87.626753601,-87.621712165,-87.675887911,-87.631967753,-87.594165381,-87.763523806,-87.659343035,-87.712689598,-87.728040288,-87.762019489,-87.786725042,-87.633686103,-87.760896226,-87.71164653,-87.724469699,-87.649510899,-87.622220458,-87.722321403,-87.631344503,-87.678194512,-87.641870461,-87.645510903,-87.719648164,-87.604893749,-87.720348395,-87.629168941,-87.627844798,-87.729377157,-87.651908467,-87.652465,-87.633473196,-87.628106353,-87.606443973,-87.70307782,-87.684445601,-87.59529495,-87.610745722,-87.719272938,-87.727673927,-87.595687106,-87.772205725,-87.62148774,-87.651893287,-87.646398803,-87.655837999,-87.663604147,-87.664471472,-87.786301606,-87.664386014,-87.57882478,-87.613852437,-87.586268228,-87.672973835,-87.667134852,-87.655982593,-87.771888909,-87.70611055,-87.621926395,-87.538911426,-87.622390606,-87.758277228,-87.750215832,-87.674525788,-87.734588305,-87.693288304,-87.723887175,-87.718290449,-87.673148602,-87.645174853,-87.698616805,-87.633498478,-87.69815637,-87.719127282,-87.657752098,-87.65266305,-87.708991285,-87.731186405,-87.706983986,-87.631368731,-87.719092686,-87.61677038,-87.613866658,-87.662434964,-87.682996037,-87.625732415,-87.718117891,-87.717562519,-87.619031541,-87.62743954,-87.626200793,-87.639235361,-87.648370219,-87.585766931,-87.652615517,-87.705185365,-87.757797046,-87.715482552,-87.65471654,-87.662041276,-87.628535507,-87.756934399,-87.586270811,-87.549947051,-87.605224922,-87.589972173,-87.627718261,-87.670700712,-87.631335207,-87.728286152,-87.721729456,-87.628186206,-87.603628907,-87.63315535,-87.643236855,-87.687361652,-87.64383125,-87.650927624,-87.62743954,-87.753761961,-87.767351091,-87.627915459,-87.626683155,-87.602181621,-87.628366977,-87.687262667,-87.687131855,-87.769849341,-87.653167899,-87.733639652,-87.537706535,-87.634088181,-87.696753129,-87.710707839,-87.725589701,-87.573259118,-87.731031883,-87.634391715,-87.721521251,-87.599192948,-87.645325062,-87.599100896,-87.627760426,-87.645085294,-87.627876698,-87.755680918,-87.710266917,-87.608050274,-87.681908593,-87.623818561,-87.652114738,-87.741528537,-87.725409853,-87.700379148,-87.722875638,-87.657231224,-87.765080772,-87.69716052,-87.685012091,-87.663866317,-87.606079926,-87.766673949,-87.668504341,-87.724361483,-87.653601688,-87.649834091,-87.641243905,-87.558186925,-87.644322264,-87.654897501,-87.724475866,-87.646127681,-87.748159766,-87.680934463,-87.662741542,-87.567511611,-87.747006374,-87.650747915,-87.757933618,-87.69691313,-87.552428309,-87.624096605,-87.569854828,-87.680010862,-87.76080844,-87.624374606,-87.634370555,-87.649247989,-87.605885396,-87.653785625,-87.7187477,-87.763849514,-87.675866628,-87.613652178,-87.712239664,-87.634043876,-87.639936767,-87.558073456,-87.688268581,-87.760999979,-87.655374777,-87.682568055,-87.633632427,-87.764755524,-87.761598789,-87.62642495,-87.707131819,-87.723814217,-87.682166139,-87.670693167,-87.663426578,-87.673494541,-87.678635842,-87.711636839,-87.657114703,-87.709378861,-87.661167251,-87.624722724,-87.62413407,-87.636840097,-87.656301827,-87.688888738,-87.612615071,-87.62741936,-87.646068062,-87.624075877,-87.62999581,-87.720762645,-87.763492122,-87.705335883,-87.636780157,-87.628605976,-87.643883693,-87.568866073,-87.765876213,-87.742233776,-87.562813006,-87.660366717,-87.723709844,-87.665877861,-87.594894829,-87.785553657,-87.715869145,-87.661026435,-87.643968122,-87.636673298,-87.715186113,-87.733701764,-87.729460332,-87.798997114,-87.624096605,-87.737204179,-87.630703621,-87.642107024,-87.612233309,-87.654924899,-87.618324686,-87.573941141,-87.720667252,-87.65792772,-87.622100808,-87.702040367,-87.699795456,-87.535025548,-87.617013434,-87.647806657,-87.654952398,-87.627548182,-87.659632043,-87.655842868,-87.619169543,-87.612559912,-87.639157198,-87.649286363,-87.718598203,-87.639289833,-87.665832718,-87.685871795,-87.662150113,-87.626963568,-87.68226978,-87.664557186,-87.617252093,-87.650982663,-87.720669141,-87.65099106,-87.682328423,-87.747121595,-87.675505257,-87.674466286,-87.756129771,-87.823104267,-87.675325368,-87.744521435,-87.603898816,-87.711561528,-87.662379054,-87.643137352,-87.618093625,-87.631430331,-87.638317188,-87.613951544,-87.649625601,-87.70756142,-87.681269321,-87.65350869,-87.627935448,-87.65680666,-87.54998413,-87.659840334,-87.715799077,-87.72365569,-87.55805329,-87.738195508,-87.620398718,-87.721338861,-87.630183362,-87.645397373,-87.787860507,-87.7442609,-87.628203192,-87.705837412,-87.640674736,-87.560011249,-87.639397357,-87.647298713,-87.672639962,-87.649535828,-87.62635954,-87.646533525,-87.568555868,-87.544464533,-87.690198286,-87.604907509,-87.683327303,-87.650217393,-87.701969724,-87.559976053,-87.707393331,-87.718053942,-87.667152442,-87.627876698,-87.807059921,-87.677446528,-87.744957048,-87.658292179,-87.639087164,-87.679530122,-87.74933484,-87.729905251,-87.675832263,-87.615062591,-87.68885204,-87.73663151,-87.789736083,-87.662252356,-87.627667799,-87.746935761,-87.712673039,-87.65989193,-87.704705156,-87.711719891,-87.674618145,-87.669922962,-87.596701626,-87.769741177,-87.658109159,-87.654431916,-87.595963137,-87.65020758,-87.720566184,-87.70611055,-87.630983877,-87.734421988,-87.632998341,-87.644772347,-87.753286332,-87.691874963,-87.657089765,-87.77471178,-87.587465382,-87.639024245,-87.699432707,-87.564069787,-87.564572519,-87.626194508,-87.665590195,-87.635728334,-87.758126757,-87.689673932,-87.647061893,-87.627876698,-87.657083721,-87.667094776,-87.64248778,-87.625514131,-87.821430232,-87.629210442,-87.661202254,-87.559590955,-87.740567984,-87.658564779,-87.677353771,-87.706449773,-87.683651813,-87.646641288,-87.691345077,-87.66754028,-87.675049485,-87.66431861,-87.600944364,-87.560803831,-87.637587202,-87.674031424,-87.644029945,-87.655717031,-87.563250148,-87.791683447,-87.649556306,-87.764962093,-87.716268776,-87.697717952,-87.656913808,-87.622262356,-87.661040637,-87.62622133,-87.750523615,-87.677540732,-87.749863931,-87.612186122,-87.773397736,-87.665892279,-87.684780097,-87.615692855,-87.6269207,-87.663449572,-87.732997005,-87.728781177,-87.727748755,-87.655642711,-87.68729045,-87.620069455,-87.6304532,-87.632166244,-87.650011483,-87.750571379,-87.680907049,-87.629128536,-87.625448401,-87.61652555,-87.624994912,-87.654571396,-87.729241379,-87.712186057,-87.698772564,-87.585144393,-87.770558224,-87.589815387,-87.639329207,-87.575618918,-87.604312703,-87.830445563,-87.597894925,-87.655506015,-87.650369227,-87.645424498,-87.637597409,-87.648928665,-87.726058336,-87.711300919,-87.695248627,-87.60383498,-87.660173584,-87.746419366,-87.596831923,-87.711398834,-87.652590571,-87.687437951,-87.614956494,-87.613395337,-87.765095923,-87.765958681,-87.624022772,-87.74864714,-87.764334214,-87.657016426,-87.584485574,-87.89657613,-87.64138622,-87.731746808,-87.667360199,-87.661618385,-87.615319213,-87.676782453,-87.673949398,-87.744694231,-87.833730307,-87.629427024,-87.710266215,-87.770689316,-87.753543813,-87.710587432,-87.731056572,-87.712743504,-87.765101009,-87.659181382,-87.681941224,-87.629423511,-87.733547157,-87.711828879,-87.55231958,-87.722630209,-87.663463721,-87.711779184,-87.741338682,-87.612076444,-87.720636253,-87.64139533,-87.628744799,-87.634699958,-87.702877826,-87.598101048,-87.628462108,-87.725426629,-87.645608775,-87.774042704,-87.695856272,-87.656740878,-87.696317495,-87.611017643,-87.721616607,-87.637630473,-87.650739578,-87.674618145,-87.64407246,-87.691831394,-87.616720128,-87.711124036,-87.666835448,-87.616145232,-87.616810128,-87.641702904,-87.702250117,-87.691032412,-87.709656269,-87.746068805,-87.730158761,-87.559773924,-87.634088181,-87.709003192,-87.764507548,-87.703678267,-87.76702211,-87.592977208,-87.63981361,-87.647514742,-87.66079977,-87.663036154,-87.742741268,-87.603719372,-87.778949174,-87.769871249,-87.709114538,-87.698030223,-87.596933101,-87.641429294,-87.741338682,-87.654795347,-87.615779716,-87.724812675,-87.663684347,-87.660609583,-87.734314524,-87.712397438,-87.641978681,-87.576095781,-87.714446295,-87.552538628,-87.726612689,-87.623298212,-87.693179922,-87.705743992,-87.709376203,-87.635908966,-87.709271389,-87.63300506,-87.755552821,-87.766478721,-87.55402969,-87.697701357,-87.559114191,-87.688585443,-87.641392844,-87.62273398,-87.690181752,-87.640927827,-87.665923635,-87.61219782,-87.627298109,-87.618431762,-87.702745566,-87.72630134,-87.628302922,-87.614817819,-87.787489148,-87.601258673,-87.627104819,-87.649024588,-87.679138918,-87.78436602,-87.551824707,-87.785893021,-87.627691486,-87.65498756,-87.601845803,-87.659624422,-87.653324829,-87.711504256,-87.680905058,-87.720348395,-87.696898137,-87.663284158,-87.630203077,-87.653572338,-87.636407233,-87.635628328,-87.66097174,-87.729569859,-87.567324423,-87.74438154,-87.755873498,-87.665219378,-87.574456169,-87.668366537,-87.621552652,-87.57646936,-87.685272925,-87.600624722,-87.735275737,-87.624567581,-87.789972279,-87.689324892,-87.693408166,-87.643827585,-87.626195083,-87.626902264,-87.67029247,-87.647702337,-87.890372151,-87.695888254,-87.663373937,-87.602706429,-87.64201078,-87.622767378,-87.565793625,-87.688773307,-87.625060835,-87.703375736,-87.61715748,-87.730240399,-87.625813624,-87.620144007,-87.624028472,-87.56501525,-87.647483237,-87.738427509,-87.717064462,-87.55552768,-87.724534932,-87.692040731,-87.765412092,-87.551092573,-87.705877387,-87.639156749,-87.666248539,-87.689219118,-87.718495677,-87.689702419,-87.602635998,-87.664157893,-87.542562359,-87.725052446,-87.642362224,-87.616142875,-87.626709904,-87.613265283,-87.576478539,-87.602878669,-87.692384042,-87.559977831,-87.726496837,-87.66845103,-87.704073797,-87.63727301,-87.77446409,-87.627964177,-87.617736935,-87.625185222,-87.712236304,-87.566115507,-87.687415476,-87.643787558,-87.6335339,-87.801435344,-87.606720071,-87.613033345,-87.697459889,-87.673319438,-87.710777396,-87.69750819,-87.682230492,-87.617837105,-87.623450463,-87.675423091,-87.620775574,-87.711975161,-87.683547759,-87.693297619,-87.665524392,-87.616612357,-87.644063902,-87.656790803,-87.761854699,-87.654937389,-87.770017081,-87.678436467,-87.661920667,-87.907472601,-87.633596633,-87.69875982,-87.747756768,-87.656158856,-87.732693735,-87.619003708,-87.762852955,-87.692482788,-87.55405897,-87.718887467,-87.676277805,-87.646249516,-87.561159206,-87.555098559,-87.697787203,-87.70569633,-87.743243772,-87.635570127,-87.787329769,-87.708962817,-87.657151332,-87.905227221,-87.666769309,-87.558114008,-87.765751432,-87.618526942,-87.628744799,-87.672371983,-87.676223523,-87.602787534,-87.719855575,-87.621623622,-87.660854681,-87.560041168,-87.627688599,-87.755761723,-87.616775204,-87.749052662,-87.628962644,-87.720330031,-87.632532707,-87.551417667,-87.607253179,-87.628341654,-87.706320799,-87.586272406,-87.614452924,-87.607815516,-87.63434039,-87.603151327,-87.684351201,-87.709793303,-87.624397882,-87.630938943,-87.725212315,-87.66757147,-87.765871728,-87.752850634,-87.706566627,-87.632922694,-87.721224523,-87.663862017,-87.645453608,-87.685275866,-87.623203677,-87.620637942,-87.654989539,-87.65132701,-87.736355302,-87.619472702,-87.628162756,-87.710366798,-87.678066683,-87.653053676,-87.724642233,-87.649484968,-87.661173523,-87.695757242,-87.655542844,-87.641765096,-87.699285044,-87.699507229,-87.660210803,-87.709143958,-87.75876631,-87.605921959,-87.637974049,-87.71482548,-87.664208692,-87.55303151,-87.609208779,-87.655227542,-87.69069751,-87.841156435,-87.624095634,-87.639486362,-87.634765073,-87.748979346,-87.710840721,-87.733678593,-87.753540489,-87.634088181,-87.583794317,-87.601228222,-87.624393511,-87.715834568,-87.621152164,-87.623242301,-87.697247472,-87.617498271,-87.746049479,-87.658863689,-87.697125648,-87.71025865,-87.572034718,-87.562437826,-87.55194424,-87.679939156,-87.58630763,-87.786301606,-87.607991909,-87.66825719,-87.633996453,-87.604815966,-87.776200954,-87.731255534,-87.723154487,-87.615255549,-87.621034563,-87.669415154,-87.741528537,-87.627551654,-87.63255123,-87.644269708,-87.747890824,-87.634641614,-87.727583941,-87.680233444,-87.680871815,-87.708316987,-87.711056159,-87.685007181,-87.626996239,-87.593678161,-87.726608375,-87.564137622,-87.690633793,-87.764017147,-87.715382377,-87.584334999,-87.654851868,-87.637636787,-87.743543377,-87.693250896,-87.634296325,-87.646762046,-87.73530237,-87.662161198,-87.766015861,-87.764962093,-87.608524835,-87.701098236,-87.623971495,-87.673823615,-87.752778215,-87.588453413,-87.627876698,-87.731572463,-87.662381073,-87.748941709,-87.670529189,-87.674604725,-87.70873264,-87.69671909,-87.734447277,-87.61679251,-87.675789078,-87.624107371,-87.699613332,-87.613471234,-87.576292427,-87.547162336,-87.724885304,-87.648473022,-87.695882642,-87.717654433,-87.564997297,-87.65105074,-87.664094162,-87.639443146,-87.641668272,-87.657256717,-87.649058688,-87.668652214,-87.773074879,-87.683334986,-87.654415453,-87.599466048,-87.724680785,-87.6513462,-87.586372357,-87.649158884,-87.549899655,-87.643389143,-87.610094582,-87.669621642,-87.63647979,-87.646579678,-87.624108188,-87.718776002,-87.683866331,-87.74262744,-87.621678995,-87.620396082,-87.623435005,-87.781445657,-87.686249289,-87.549470108,-87.559965528,-87.756129762,-87.553130236,-87.562241298,-87.649255842,-87.671789213,-87.773626634,-87.61122545,-87.707693378,-87.713697168,-87.752636613,-87.583927826,-87.657879472,-87.715440023,-87.627475027,-87.775989115,-87.634022484,-87.661247848,-87.626413225,-87.630542489,-87.630703226,-87.657933254,-87.619925551,-87.770684924,-87.638509526,-87.675834584,-87.566432504,-87.766294416,-87.614058953,-87.561475423,-87.678213278,-87.692903159,-87.671030673,-87.668617665,-87.630737388,-87.617022328,-87.662060731,-87.742911948,-87.646386826,-87.762836885,-87.659587461,-87.688890575,-87.680856265,-87.732076738,-87.719800688,-87.789987521,-87.669864264,-87.609607539,-87.726998422,-87.627214427,-87.725421722,-87.63243193,-87.697237765,-87.6900057,-87.770353479,-87.614477968,-87.713645758,-87.680977084,-87.68957615,-87.655894275,-87.732443591,-87.770438177,-87.765819044,-87.621776719,-87.722517013,-87.699118761,-87.566250124,-87.627204283,-87.648405683,-87.668970217,-87.660093885,-87.647095508,-87.640802922,-87.68556926,-87.718495677,-87.627883967,-87.67496226,-87.65972718,-87.629070243,-87.624020134,-87.660921846,-87.686619536,-87.620687893,-87.601263259,-87.615478975,-87.767176626,-87.759414136,-87.584431935,-87.683916158,-87.695553243,-87.628704402,-87.693228195,-87.647147267,-87.764581664,-87.672438396,-87.634629974,-87.646309371,-87.617748779,-87.574788403,-87.703076831,-87.631423081,-87.557526595,-87.710055891,-87.655711997,-87.643080489,-87.729102834,-87.620533004,-87.712748993,-87.736256136,-87.582111151,-87.636578236,-87.667158829,-87.750824361,-87.628442902,-87.657605601,-87.74147999,-87.607210251,-87.753540414,-87.703753695,-87.649154806,-87.676963167,-87.686877326,-87.655053915,-87.557725817,-87.767917077,-87.586451255,-87.706472744,-87.741201984,-87.631888517,-87.699795456,-87.678214366,-87.605987023,-87.674667806,-87.62669145,-87.703859846,-87.613602059,-87.66772811,-87.762135142,-87.723870621,-87.656095285,-87.70395555,-87.713902115,-87.657916443,-87.593223623,-87.649175782,-87.667875466,-87.7357763,-87.621292035,-87.653446915,-87.600672006,-87.616207711,-87.668632,-87.649245116,-87.642514854,-87.907472601,-87.618275829,-87.633093989,-87.694219974,-87.738113389,-87.644079385,-87.76423271,-87.579359164,-87.667058143,-87.721575427,-87.758151918,-87.631640804,-87.726475653,-87.673492597,-87.697042738,-87.704854042,-87.627760426,-87.675078569,-87.627896757,-87.654829028,-87.655552193,-87.684492682,-87.699662588,-87.701093842,-87.576954114,-87.644126664,-87.579666374,-87.624083115,-87.771132607,-87.644285658,-87.731729746,-87.699756627,-87.630116725,-87.724124545,-87.576197436,-87.751599599,-87.755847438,-87.771308606,-87.70245106,-87.661202781,-87.649347777,-87.661935746,-87.552124624,-87.719985296,-87.883611316,-87.716859965,-87.716630608,-87.58954349,-87.638907793,-87.621658468,-87.624374606,-87.637696349,-87.667497579,-87.624057567,-87.634335728,-87.683180425,-87.62305924,-87.68019124,-87.664289094,-87.599474074,-87.565584886,-87.628299291,-87.697853114,-87.710807431,-87.631095953,-87.669375109,-87.7051834,-87.695459011,-87.642467932,-87.619107027,-87.649576033,-87.706636775,-87.660838271,-87.695072277,-87.659724999,-87.63403459,-87.729464756,-87.658375847,-87.674765956,-87.706756466,-87.635782396,-87.770558224,-87.637226878,-87.726231287,-87.677818506,-87.640645993,-87.810681159,-87.686196601,-87.66537122,-87.646747535,-87.622095986,-87.558740244,-87.765198001,-87.69077998,-87.625500912,-87.729531447,-87.656158033,-87.617254407,-87.667394686,-87.535745374,-87.622937212,-87.690311783,-87.610542071,-87.68205503,-87.751109637,-87.668693783,-87.677909384,-87.704685773,-87.672409456,-87.681872318,-87.653318608,-87.569290282,-87.666649148,-87.670064675,-87.626286245,-87.648916062,-87.645933182,-87.572387695,-87.676934854,-87.64303956,-87.635171022,-87.563898997,-87.585708249,-87.643572515,-87.904976266,-87.662706932,-87.719980158,-87.68430635,-87.682531584,-87.65310391,-87.813083642,-87.604318429,-87.615692028,-87.721693217,-87.664766276,-87.756485199,-87.618490443,-87.668140415,-87.715025654,-87.669182357,-87.524529378,-87.710426635,-87.628423258,-87.640802922,-87.68601384,-87.666247714,-87.689618246,-87.726235107,-87.554211288,-87.624814287,-87.706108126,-87.647527682,-87.672695252,-87.725637862,-87.706183852,-87.617013434,-87.633429194,-87.71500642,-87.633031958,-87.628209119,-87.627910223,-87.798520993,-87.63921847,-87.652492698,-87.661481942,-87.641397787,-87.687781609,-87.660150847,-87.643863468,-87.627800699,-87.597532376,-87.660839154,-87.560848088,-87.703964988,-87.624109917,-87.657936297,-87.633738224,-87.620511698,-87.554825997,-87.632089801,-87.686262002,-87.897977123,-87.65198105,-87.624343757,-87.628667138,-87.612645497,-87.589881021,-87.576292427,-87.674465623,-87.730723493,-87.727736679,-87.561282757,-87.622814293,-87.718967674,-87.575250165,-87.707501835,-87.634195294,-87.744957048,-87.613114795,-87.764789883,-87.669220239,-87.769828157,-87.646767954,-87.716399763,-87.624100509,-87.711231413,-87.74605134,-87.66251876,-87.65791812,-87.628801503,-87.655545441,-87.641140619,-87.734477193,-87.662324553,-87.755780468,-87.705966667,-87.732550205,-87.675046135,-87.755737112,-87.639397357,-87.696686934,-87.717728391,-87.68615202,-87.640448949,-87.643240599,-87.591466565,-87.768294247,-87.642954141,-87.699217682,-87.665062403,-87.652036281,-87.717259197,-87.715387915,-87.722437864,-87.615471068,-87.607933765,-87.659991882,-87.631772431,-87.61390097,-87.673875425,-87.752358777,-87.639235361,-87.628710232,-87.658884142,-87.663426378,-87.627189408,-87.64072939,-87.637079178,-87.653186191,-87.602873862,-87.614587313,-87.625780935,-87.575941112,-87.804669044,-87.676571824,-87.724943845,-87.628442088,-87.62152816,-87.745300725,-87.773554131,-87.624994262,-87.773984044,-87.706742119,-87.530487212,-87.595822806,-87.612830582,-87.65459537,-87.555184584,-87.61262013,-87.767158994,-87.620244029,-87.641131698,-87.904976266,-87.631889929,-87.620644613,-87.669656756,-87.668746294,-87.748285612,-87.715451976,-87.600160953,-87.646429809,-87.726309284,-87.599707985,-87.537705647,-87.597848507,-87.651221802,-87.642473797,-87.720935733,-87.658463112,-87.68562086,-87.604636854,-87.706165802,-87.723788016,-87.666983746,-87.618425193,-87.705180709,-87.729461932,-87.657286441,-87.736829825,-87.654662395,-87.703846021,-87.560047985,-87.664157893,-87.573528503,-87.78208241,-87.755589514,-87.589084499,-87.552756858,-87.726141175,-87.569986391,-87.711598886,-87.675942011,-87.627850543,-87.628611816,-87.624153044,-87.654929158,-87.632099778,-87.705365682,-87.705547532,-87.61677038,-87.632658693,-87.662745103,-87.667997673,-87.673831762,-87.645069082,-87.761740038,-87.657941902,-87.657368059,-87.727344036,-87.716946404,-87.749243525,-87.682265862,-87.656562207,-87.784732267,-87.621873257,-87.679823205,-87.60053064,-87.71217423,-87.750057181,-87.734014241,-87.680067665,-87.719998845,-87.685871795,-87.702084879,-87.601918534,-87.651936608,-87.755663936,-87.624184899,-87.716221792,-87.627721751,-87.706532385,-87.646112811,-87.67112041,-87.699348928,-87.771376344,-87.731889224,-87.636043721,-87.694311031,-87.792836824,-87.764584482,-87.624745356,-87.729073843,-87.667021437,-87.755919637,-87.600400971,-87.576941433,-87.596820484,-87.667444544,-87.695536037,-87.65099106,-87.63532118,-87.658402588,-87.67578614,-87.661655763,-87.773916604,-87.620273669,-87.696130826,-87.536492555,-87.622217763,-87.631027541,-87.69641616,-87.675879153,-87.673072164,-87.686519887,-87.770602086,-87.679576883,-87.713836805,-87.601529817,-87.723826284,-87.582305381,-87.6971543,-87.62412586,-87.573567629,-87.605795029,-87.729383196,-87.731394386,-87.641026268,-87.615568353,-87.648248411,-87.656677258,-87.650770486,-87.632182661,-87.745319093,-87.659288093,-87.71859009,-87.663560189,-87.693769883,-87.616270095,-87.632992969,-87.617357338,-87.900983721,-87.610352872,-87.66571041,-87.690729006,-87.698248674,-87.636302184,-87.747234917,-87.666470999,-87.686796391,-87.650896405,-87.63698201,-87.702074363,-87.61772761,-87.745055539,-87.564846983,-87.67431977,-87.631852772,-87.619718854,-87.736637301,-87.629184056,-87.671893567,-87.609779467,-87.749602166,-87.69305847,-87.653867313,-87.697148426,-87.761734553,-87.726052394,-87.728731866,-87.685580175,-87.706818608,-87.664876291,-87.747043813,-87.690186314,-87.639222391,-87.605795029,-87.610166099,-87.72168167,-87.669063881,-87.771481113,-87.625144103,-87.719450175,-87.660220696,-87.534076405,-87.664309668,-87.709360238,-87.622933681,-87.685362994,-87.70439498,-87.688085848,-87.658300072,-87.745627875,-87.739588686,-87.710219712,-87.799327481,-87.644179061,-87.613677631,-87.631487703,-87.607146645,-87.593806252,-87.644610871,-87.747117979,-87.779202747,-87.68994331,-87.628203192,-87.621485105,-87.585822373,-87.715939347,-87.648399121,-87.673072618,-87.757679589,-87.666864606,-87.623096746,-87.622239838,-87.627841791,-87.689505876,-87.689658632,-87.745208962,-87.723625357,-87.590426906,-87.654343684,-87.766959906,-87.716606409,-87.698299587,-87.636217512,-87.603897346,-87.616651494,-87.665404367,-87.627620993,-87.647348131,-87.731262371,-87.746502125,-87.627748533,-87.724846958,-87.664000241,-87.554639013,-87.669199931,-87.649500126,-87.642992266,-87.713238439,-87.64255203,-87.608680783,-87.646070222,-87.696662196,-87.729341205,-87.624096605,-87.562241298,-87.679456204,-87.695036892,-87.719956067,-87.597271269,-87.907472601,-87.692311228,-87.552447834,-87.635930129,-87.66484237,-87.668652781,-87.795370187,-87.65319272,-87.732982326,-87.658967358,-87.59925438,-87.667157076,-87.624485177,-87.684893829,-87.646879157,-87.705731202,-87.774104148,-87.633221906,-87.624251314,-87.563224189,-87.699070855,-87.727174247,-87.656740878,-87.662312837,-87.720110283,-87.664970804,-87.668727612,-87.657350738,-87.653813917,-87.646373243,-87.626001,-87.679730706,-87.749084663,-87.656637035,-87.669764783,-87.588481602,-87.694825564,-87.668694976,-87.702331055,-87.716233534,-87.614942206,-87.66516854,-87.622170659,-87.557976827,-87.615558249,-87.63780571,-87.675426669,-87.699805223,-87.900983721,-87.679819615,-87.752731361,-87.66381882,-87.631313822,-87.658744017,-87.621410836,-87.806503971,-87.536495886,-87.611589095,-87.64226293,-87.746792978,-87.74940148,-87.63427915,-87.633619572,-87.773726391,-87.657179855,-87.648322361,-87.667094776,-87.723151723,-87.558141118,-87.674525788,-87.718656568,-87.648956538,-87.754054142,-87.585894137,-87.677246881,-87.755121152,-87.600624065,-87.601624251,-87.731186405,-87.643030376,-87.641648739,-87.632924701,-87.663126037,-87.774496334,-87.55752637,-87.656400954,-87.72089792,-87.7238347,-87.627288482,-87.642467755,-87.651391673,-87.636780157,-87.76551063,-87.550382277,-87.66653511,-87.714166918,-87.604419308,-87.604847215,-87.68068649,-87.668718084,-87.627874384,-87.686036339,-87.675220788,-87.643079554,-87.552614689,-87.666472776,-87.668744924,-87.627929503,-87.586240807,-87.643230238,-87.736455228,-87.623153089,-87.665119109,-87.691351096,-87.690740714,-87.724492442,-87.657632936,-87.651606387,-87.671104423,-87.666427743,-87.652406156,-87.659880317,-87.752633786,-87.684886686,-87.655545441,-87.58650411,-87.635184914,-87.618045825,-87.640512384,-87.627133239,-87.625780935,-87.576294705,-87.725894352,-87.682849958,-87.659987308,-87.763395495,-87.674747204,-87.720873475,-87.655545441,-87.805908584,-87.632171333,-87.591903697,-87.654999693,-87.620211441,-87.741302702,-87.598997917,-87.709408954,-87.579752069,-87.651052456,-87.718961922,-87.624346184,-87.627760426,-87.631697459,-87.589126189,-87.617605425,-87.626075066,-87.756416633,-87.638124566,-87.621782852,-87.733794738,-87.71089488,-87.657159371,-87.693108905,-87.633427169,-87.664902703,-87.62826677,-87.666233173,-87.714302622,-87.605723566,-87.677263369,-87.623815165,-87.627942238,-87.664763061,-87.702785476,-87.617497067,-87.625732415,-87.753751496,-87.542926327,-87.611675899,-87.562813204,-87.675868666,-87.547411578,-87.630121035,-87.64282025,-87.710022712,-87.745389592,-87.601839023,-87.670107758,-87.617178654,-87.659239022,-87.70497354,-87.755748665,-87.634391715,-87.769528528,-87.756031988,-87.619266937,-87.608604252,-87.622620036,-87.664267925,-87.692157822,-87.702796344,-87.73478063,-87.688144353,-87.713524915,-87.746273229,-87.725723139,-87.711302902,-87.636706827,-87.627691486,-87.648643011,-87.741302702,-87.616986384,-87.736285675,-87.61679251,-87.605224746,-87.688268431,-87.679612371,-87.769670593,-87.72003017,-87.563201339,-87.645068672,-87.624538423,-87.6821685,-87.664541789,-87.697738876,-87.733902763,-87.726055001,-87.720052981,-87.758255623,-87.578704666,-87.71767987,-87.71383775,-87.693200653,-87.660495403,-87.815110832,-87.650651343,-87.688990671,-87.689916311,-87.587915847,-87.6913338,-87.669798418,-87.788044216,-87.658236915,-87.613081096,-87.716485711,-87.628296046,-87.549183485,-87.754885005,-87.717208988,-87.618954852,-87.607213081,-87.618045825,-87.673171534,-87.672549413,-87.661189087,-87.656337419,-87.621516044,-87.626155832,-87.703832357,-87.644610871,-87.747455134,-87.732793198,-87.706818608,-87.770048091,-87.600219523,-87.728968248,-87.707001003,-87.678222877,-87.622733535,-87.561315725,-87.696766631,-87.677913394,-87.665975365,-87.770310408,-87.763227732,-87.627138636,-87.72696241,-87.624350993,-87.624642127,-87.631460067,-87.745814792,-87.65452964,-87.699325751,-87.719260154,-87.601685027,-87.615373878,-87.712684117,-87.743908256,-87.636792672,-87.736666298,-87.674400294,-87.665507041,-87.707791583,-87.676277805,-87.717614993,-87.65535722,-87.711574237,-87.713521821,-87.728917655,-87.682838316,-87.636827836,-87.741528537,-87.64635679,-87.666783454,-87.716246276,-87.699420906,-87.740514226,-87.702549874,-87.600345002,-87.706660139,-87.54696206,-87.707147749,-87.676031854,-87.636428982,-87.68533691,-87.634602443,-87.537695814,-87.713697194,-87.696166704,-87.646963105,-87.599693953,-87.705041423,-87.642478625,-87.773484772,-87.648973107,-87.670217877,-87.61677038,-87.632868393],\"marker\":{\"color\":\"fuchsia\"},\"mode\":\"markers\",\"name\":\"\",\"showlegend\":false,\"subplot\":\"mapbox\",\"type\":\"scattermapbox\"}],                        {\"template\":{\"data\":{\"histogram2dcontour\":[{\"type\":\"histogram2dcontour\",\"colorbar\":{\"outlinewidth\":0,\"ticks\":\"\"},\"colorscale\":[[0.0,\"#0d0887\"],[0.1111111111111111,\"#46039f\"],[0.2222222222222222,\"#7201a8\"],[0.3333333333333333,\"#9c179e\"],[0.4444444444444444,\"#bd3786\"],[0.5555555555555556,\"#d8576b\"],[0.6666666666666666,\"#ed7953\"],[0.7777777777777778,\"#fb9f3a\"],[0.8888888888888888,\"#fdca26\"],[1.0,\"#f0f921\"]]}],\"choropleth\":[{\"type\":\"choropleth\",\"colorbar\":{\"outlinewidth\":0,\"ticks\":\"\"}}],\"histogram2d\":[{\"type\":\"histogram2d\",\"colorbar\":{\"outlinewidth\":0,\"ticks\":\"\"},\"colorscale\":[[0.0,\"#0d0887\"],[0.1111111111111111,\"#46039f\"],[0.2222222222222222,\"#7201a8\"],[0.3333333333333333,\"#9c179e\"],[0.4444444444444444,\"#bd3786\"],[0.5555555555555556,\"#d8576b\"],[0.6666666666666666,\"#ed7953\"],[0.7777777777777778,\"#fb9f3a\"],[0.8888888888888888,\"#fdca26\"],[1.0,\"#f0f921\"]]}],\"heatmap\":[{\"type\":\"heatmap\",\"colorbar\":{\"outlinewidth\":0,\"ticks\":\"\"},\"colorscale\":[[0.0,\"#0d0887\"],[0.1111111111111111,\"#46039f\"],[0.2222222222222222,\"#7201a8\"],[0.3333333333333333,\"#9c179e\"],[0.4444444444444444,\"#bd3786\"],[0.5555555555555556,\"#d8576b\"],[0.6666666666666666,\"#ed7953\"],[0.7777777777777778,\"#fb9f3a\"],[0.8888888888888888,\"#fdca26\"],[1.0,\"#f0f921\"]]}],\"heatmapgl\":[{\"type\":\"heatmapgl\",\"colorbar\":{\"outlinewidth\":0,\"ticks\":\"\"},\"colorscale\":[[0.0,\"#0d0887\"],[0.1111111111111111,\"#46039f\"],[0.2222222222222222,\"#7201a8\"],[0.3333333333333333,\"#9c179e\"],[0.4444444444444444,\"#bd3786\"],[0.5555555555555556,\"#d8576b\"],[0.6666666666666666,\"#ed7953\"],[0.7777777777777778,\"#fb9f3a\"],[0.8888888888888888,\"#fdca26\"],[1.0,\"#f0f921\"]]}],\"contourcarpet\":[{\"type\":\"contourcarpet\",\"colorbar\":{\"outlinewidth\":0,\"ticks\":\"\"}}],\"contour\":[{\"type\":\"contour\",\"colorbar\":{\"outlinewidth\":0,\"ticks\":\"\"},\"colorscale\":[[0.0,\"#0d0887\"],[0.1111111111111111,\"#46039f\"],[0.2222222222222222,\"#7201a8\"],[0.3333333333333333,\"#9c179e\"],[0.4444444444444444,\"#bd3786\"],[0.5555555555555556,\"#d8576b\"],[0.6666666666666666,\"#ed7953\"],[0.7777777777777778,\"#fb9f3a\"],[0.8888888888888888,\"#fdca26\"],[1.0,\"#f0f921\"]]}],\"surface\":[{\"type\":\"surface\",\"colorbar\":{\"outlinewidth\":0,\"ticks\":\"\"},\"colorscale\":[[0.0,\"#0d0887\"],[0.1111111111111111,\"#46039f\"],[0.2222222222222222,\"#7201a8\"],[0.3333333333333333,\"#9c179e\"],[0.4444444444444444,\"#bd3786\"],[0.5555555555555556,\"#d8576b\"],[0.6666666666666666,\"#ed7953\"],[0.7777777777777778,\"#fb9f3a\"],[0.8888888888888888,\"#fdca26\"],[1.0,\"#f0f921\"]]}],\"mesh3d\":[{\"type\":\"mesh3d\",\"colorbar\":{\"outlinewidth\":0,\"ticks\":\"\"}}],\"scatter\":[{\"fillpattern\":{\"fillmode\":\"overlay\",\"size\":10,\"solidity\":0.2},\"type\":\"scatter\"}],\"parcoords\":[{\"type\":\"parcoords\",\"line\":{\"colorbar\":{\"outlinewidth\":0,\"ticks\":\"\"}}}],\"scatterpolargl\":[{\"type\":\"scatterpolargl\",\"marker\":{\"colorbar\":{\"outlinewidth\":0,\"ticks\":\"\"}}}],\"bar\":[{\"error_x\":{\"color\":\"#2a3f5f\"},\"error_y\":{\"color\":\"#2a3f5f\"},\"marker\":{\"line\":{\"color\":\"#E5ECF6\",\"width\":0.5},\"pattern\":{\"fillmode\":\"overlay\",\"size\":10,\"solidity\":0.2}},\"type\":\"bar\"}],\"scattergeo\":[{\"type\":\"scattergeo\",\"marker\":{\"colorbar\":{\"outlinewidth\":0,\"ticks\":\"\"}}}],\"scatterpolar\":[{\"type\":\"scatterpolar\",\"marker\":{\"colorbar\":{\"outlinewidth\":0,\"ticks\":\"\"}}}],\"histogram\":[{\"marker\":{\"pattern\":{\"fillmode\":\"overlay\",\"size\":10,\"solidity\":0.2}},\"type\":\"histogram\"}],\"scattergl\":[{\"type\":\"scattergl\",\"marker\":{\"colorbar\":{\"outlinewidth\":0,\"ticks\":\"\"}}}],\"scatter3d\":[{\"type\":\"scatter3d\",\"line\":{\"colorbar\":{\"outlinewidth\":0,\"ticks\":\"\"}},\"marker\":{\"colorbar\":{\"outlinewidth\":0,\"ticks\":\"\"}}}],\"scattermapbox\":[{\"type\":\"scattermapbox\",\"marker\":{\"colorbar\":{\"outlinewidth\":0,\"ticks\":\"\"}}}],\"scatterternary\":[{\"type\":\"scatterternary\",\"marker\":{\"colorbar\":{\"outlinewidth\":0,\"ticks\":\"\"}}}],\"scattercarpet\":[{\"type\":\"scattercarpet\",\"marker\":{\"colorbar\":{\"outlinewidth\":0,\"ticks\":\"\"}}}],\"carpet\":[{\"aaxis\":{\"endlinecolor\":\"#2a3f5f\",\"gridcolor\":\"white\",\"linecolor\":\"white\",\"minorgridcolor\":\"white\",\"startlinecolor\":\"#2a3f5f\"},\"baxis\":{\"endlinecolor\":\"#2a3f5f\",\"gridcolor\":\"white\",\"linecolor\":\"white\",\"minorgridcolor\":\"white\",\"startlinecolor\":\"#2a3f5f\"},\"type\":\"carpet\"}],\"table\":[{\"cells\":{\"fill\":{\"color\":\"#EBF0F8\"},\"line\":{\"color\":\"white\"}},\"header\":{\"fill\":{\"color\":\"#C8D4E3\"},\"line\":{\"color\":\"white\"}},\"type\":\"table\"}],\"barpolar\":[{\"marker\":{\"line\":{\"color\":\"#E5ECF6\",\"width\":0.5},\"pattern\":{\"fillmode\":\"overlay\",\"size\":10,\"solidity\":0.2}},\"type\":\"barpolar\"}],\"pie\":[{\"automargin\":true,\"type\":\"pie\"}]},\"layout\":{\"autotypenumbers\":\"strict\",\"colorway\":[\"#636efa\",\"#EF553B\",\"#00cc96\",\"#ab63fa\",\"#FFA15A\",\"#19d3f3\",\"#FF6692\",\"#B6E880\",\"#FF97FF\",\"#FECB52\"],\"font\":{\"color\":\"#2a3f5f\"},\"hovermode\":\"closest\",\"hoverlabel\":{\"align\":\"left\"},\"paper_bgcolor\":\"white\",\"plot_bgcolor\":\"#E5ECF6\",\"polar\":{\"bgcolor\":\"#E5ECF6\",\"angularaxis\":{\"gridcolor\":\"white\",\"linecolor\":\"white\",\"ticks\":\"\"},\"radialaxis\":{\"gridcolor\":\"white\",\"linecolor\":\"white\",\"ticks\":\"\"}},\"ternary\":{\"bgcolor\":\"#E5ECF6\",\"aaxis\":{\"gridcolor\":\"white\",\"linecolor\":\"white\",\"ticks\":\"\"},\"baxis\":{\"gridcolor\":\"white\",\"linecolor\":\"white\",\"ticks\":\"\"},\"caxis\":{\"gridcolor\":\"white\",\"linecolor\":\"white\",\"ticks\":\"\"}},\"coloraxis\":{\"colorbar\":{\"outlinewidth\":0,\"ticks\":\"\"}},\"colorscale\":{\"sequential\":[[0.0,\"#0d0887\"],[0.1111111111111111,\"#46039f\"],[0.2222222222222222,\"#7201a8\"],[0.3333333333333333,\"#9c179e\"],[0.4444444444444444,\"#bd3786\"],[0.5555555555555556,\"#d8576b\"],[0.6666666666666666,\"#ed7953\"],[0.7777777777777778,\"#fb9f3a\"],[0.8888888888888888,\"#fdca26\"],[1.0,\"#f0f921\"]],\"sequentialminus\":[[0.0,\"#0d0887\"],[0.1111111111111111,\"#46039f\"],[0.2222222222222222,\"#7201a8\"],[0.3333333333333333,\"#9c179e\"],[0.4444444444444444,\"#bd3786\"],[0.5555555555555556,\"#d8576b\"],[0.6666666666666666,\"#ed7953\"],[0.7777777777777778,\"#fb9f3a\"],[0.8888888888888888,\"#fdca26\"],[1.0,\"#f0f921\"]],\"diverging\":[[0,\"#8e0152\"],[0.1,\"#c51b7d\"],[0.2,\"#de77ae\"],[0.3,\"#f1b6da\"],[0.4,\"#fde0ef\"],[0.5,\"#f7f7f7\"],[0.6,\"#e6f5d0\"],[0.7,\"#b8e186\"],[0.8,\"#7fbc41\"],[0.9,\"#4d9221\"],[1,\"#276419\"]]},\"xaxis\":{\"gridcolor\":\"white\",\"linecolor\":\"white\",\"ticks\":\"\",\"title\":{\"standoff\":15},\"zerolinecolor\":\"white\",\"automargin\":true,\"zerolinewidth\":2},\"yaxis\":{\"gridcolor\":\"white\",\"linecolor\":\"white\",\"ticks\":\"\",\"title\":{\"standoff\":15},\"zerolinecolor\":\"white\",\"automargin\":true,\"zerolinewidth\":2},\"scene\":{\"xaxis\":{\"backgroundcolor\":\"#E5ECF6\",\"gridcolor\":\"white\",\"linecolor\":\"white\",\"showbackground\":true,\"ticks\":\"\",\"zerolinecolor\":\"white\",\"gridwidth\":2},\"yaxis\":{\"backgroundcolor\":\"#E5ECF6\",\"gridcolor\":\"white\",\"linecolor\":\"white\",\"showbackground\":true,\"ticks\":\"\",\"zerolinecolor\":\"white\",\"gridwidth\":2},\"zaxis\":{\"backgroundcolor\":\"#E5ECF6\",\"gridcolor\":\"white\",\"linecolor\":\"white\",\"showbackground\":true,\"ticks\":\"\",\"zerolinecolor\":\"white\",\"gridwidth\":2}},\"shapedefaults\":{\"line\":{\"color\":\"#2a3f5f\"}},\"annotationdefaults\":{\"arrowcolor\":\"#2a3f5f\",\"arrowhead\":0,\"arrowwidth\":1},\"geo\":{\"bgcolor\":\"white\",\"landcolor\":\"#E5ECF6\",\"subunitcolor\":\"white\",\"showland\":true,\"showlakes\":true,\"lakecolor\":\"white\"},\"title\":{\"x\":0.05},\"mapbox\":{\"style\":\"light\"}}},\"mapbox\":{\"domain\":{\"x\":[0.0,1.0],\"y\":[0.0,1.0]},\"center\":{\"lat\":41.8432156725028,\"lon\":-87.671302256485},\"zoom\":9,\"style\":\"open-street-map\"},\"legend\":{\"tracegroupgap\":0},\"margin\":{\"t\":0,\"r\":0,\"l\":0,\"b\":0},\"height\":650},                        {\"responsive\": true}                    ).then(function(){\n",
              "                            \n",
              "var gd = document.getElementById('8f01d53c-de7a-4e2e-9137-5e8a4107c6a0');\n",
              "var x = new MutationObserver(function (mutations, observer) {{\n",
              "        var display = window.getComputedStyle(gd).display;\n",
              "        if (!display || display === 'none') {{\n",
              "            console.log([gd, 'removed!']);\n",
              "            Plotly.purge(gd);\n",
              "            observer.disconnect();\n",
              "        }}\n",
              "}});\n",
              "\n",
              "// Listen for the removal of the full notebook cells\n",
              "var notebookContainer = gd.closest('#notebook-container');\n",
              "if (notebookContainer) {{\n",
              "    x.observe(notebookContainer, {childList: true});\n",
              "}}\n",
              "\n",
              "// Listen for the clearing of the current output cell\n",
              "var outputEl = gd.closest('.output');\n",
              "if (outputEl) {{\n",
              "    x.observe(outputEl, {childList: true});\n",
              "}}\n",
              "\n",
              "                        })                };                            </script>        </div>\n",
              "</body>\n",
              "</html>"
            ]
          },
          "metadata": {}
        }
      ],
      "source": [
        "fig = px.scatter_mapbox(map_marks[map_marks.Year == 2016].sample(5000), lat=\"Latitude\", lon=\"Longitude\",\n",
        "                        color_discrete_sequence=[\"fuchsia\"], zoom=9, height=650)\n",
        "fig.update_layout(mapbox_style=\"open-street-map\")\n",
        "fig.update_layout(margin={\"r\":0,\"t\":0,\"l\":0,\"b\":0})\n",
        "fig.show()"
      ]
    },
    {
      "cell_type": "markdown",
      "id": "c5648b20",
      "metadata": {
        "id": "c5648b20"
      },
      "source": [
        "Look like there is crime everywhere in Chicago, in the centre, you can see more points but also is a crowded place."
      ]
    },
    {
      "cell_type": "markdown",
      "id": "7063e9ec",
      "metadata": {
        "id": "7063e9ec"
      },
      "source": [
        "What is the arrested rate per crime?"
      ]
    },
    {
      "cell_type": "code",
      "execution_count": 59,
      "id": "e70009a8",
      "metadata": {
        "ExecuteTime": {
          "end_time": "2024-03-22T20:19:54.111063Z",
          "start_time": "2024-03-22T20:19:54.111063Z"
        },
        "colab": {
          "base_uri": "https://localhost:8080/",
          "height": 817
        },
        "id": "e70009a8",
        "outputId": "91cf02f1-e9c1-4f5b-f092-7e92d4dc16a7"
      },
      "outputs": [
        {
          "output_type": "display_data",
          "data": {
            "text/html": [
              "<html>\n",
              "<head><meta charset=\"utf-8\" /></head>\n",
              "<body>\n",
              "    <div>            <script src=\"https://cdnjs.cloudflare.com/ajax/libs/mathjax/2.7.5/MathJax.js?config=TeX-AMS-MML_SVG\"></script><script type=\"text/javascript\">if (window.MathJax && window.MathJax.Hub && window.MathJax.Hub.Config) {window.MathJax.Hub.Config({SVG: {font: \"STIX-Web\"}});}</script>                <script type=\"text/javascript\">window.PlotlyConfig = {MathJaxConfig: 'local'};</script>\n",
              "        <script charset=\"utf-8\" src=\"https://cdn.plot.ly/plotly-2.24.1.min.js\"></script>                <div id=\"5c93f45d-603f-4fce-9f36-4e30ed3f27a1\" class=\"plotly-graph-div\" style=\"height:800px; width:100%;\"></div>            <script type=\"text/javascript\">                                    window.PLOTLYENV=window.PLOTLYENV || {};                                    if (document.getElementById(\"5c93f45d-603f-4fce-9f36-4e30ed3f27a1\")) {                    Plotly.newPlot(                        \"5c93f45d-603f-4fce-9f36-4e30ed3f27a1\",                        [{\"alignmentgroup\":\"True\",\"hovertemplate\":\"Arrest (%)=%{marker.color}\\u003cbr\\u003ePrimary Type=%{y}\\u003cextra\\u003e\\u003c\\u002fextra\\u003e\",\"legendgroup\":\"\",\"marker\":{\"color\":[5.72,6.61,7.249999999999999,7.61,7.91,9.24,9.43,10.7,11.0,12.43,12.5,13.04,13.41,14.82,15.790000000000001,15.93,17.57,19.67,20.82,21.84,26.43,33.33,47.449999999999996,62.8,67.78999999999999,69.32000000000001,73.02,77.16,91.77,96.33,98.5,99.07000000000001,99.27,99.36,99.59,100.0],\"coloraxis\":\"coloraxis\",\"pattern\":{\"shape\":\"\"}},\"name\":\"\",\"offsetgroup\":\"\",\"orientation\":\"h\",\"showlegend\":false,\"text\":[5.72,6.61,7.249999999999999,7.61,7.91,9.24,9.43,10.7,11.0,12.43,12.5,13.04,13.41,14.82,15.790000000000001,15.93,17.57,19.67,20.82,21.84,26.43,33.33,47.449999999999996,62.8,67.78999999999999,69.32000000000001,73.02,77.16,91.77,96.33,98.5,99.07000000000001,99.27,99.36,99.59,100.0],\"textposition\":\"outside\",\"x\":[5.72,6.61,7.249999999999999,7.61,7.91,9.24,9.43,10.7,11.0,12.43,12.5,13.04,13.41,14.82,15.790000000000001,15.93,17.57,19.67,20.82,21.84,26.43,33.33,47.449999999999996,62.8,67.78999999999999,69.32000000000001,73.02,77.16,91.77,96.33,98.5,99.07000000000001,99.27,99.36,99.59,100.0],\"xaxis\":\"x\",\"y\":[\"BURGLARY\",\"CRIMINAL DAMAGE\",\"CRIMINAL SEXUAL ASSAULT\",\"NON-CRIMINAL\",\"MOTOR VEHICLE THEFT\",\"ROBBERY\",\"HUMAN TRAFFICKING\",\"KIDNAPPING\",\"THEFT\",\"ARSON\",\"RITUALISM\",\"STALKING\",\"DECEPTIVE PRACTICE\",\"INTIMIDATION\",\"NON - CRIMINAL\",\"CRIM SEXUAL ASSAULT\",\"OTHER OFFENSE\",\"OFFENSE INVOLVING CHILDREN\",\"ASSAULT\",\"BATTERY\",\"SEX OFFENSE\",\"NON-CRIMINAL (SUBJECT SPECIFIED)\",\"HOMICIDE\",\"PUBLIC PEACE VIOLATION\",\"OTHER NARCOTIC VIOLATION\",\"CRIMINAL TRESPASS\",\"WEAPONS VIOLATION\",\"OBSCENITY\",\"INTERFERENCE WITH PUBLIC OFFICER\",\"CONCEALED CARRY LICENSE VIOLATION\",\"PUBLIC INDECENCY\",\"LIQUOR LAW VIOLATION\",\"GAMBLING\",\"NARCOTICS\",\"PROSTITUTION\",\"DOMESTIC VIOLENCE\"],\"yaxis\":\"y\",\"type\":\"bar\",\"texttemplate\":\"%{text:.4s}\"}],                        {\"template\":{\"data\":{\"histogram2dcontour\":[{\"type\":\"histogram2dcontour\",\"colorbar\":{\"outlinewidth\":0,\"ticks\":\"\"},\"colorscale\":[[0.0,\"#0d0887\"],[0.1111111111111111,\"#46039f\"],[0.2222222222222222,\"#7201a8\"],[0.3333333333333333,\"#9c179e\"],[0.4444444444444444,\"#bd3786\"],[0.5555555555555556,\"#d8576b\"],[0.6666666666666666,\"#ed7953\"],[0.7777777777777778,\"#fb9f3a\"],[0.8888888888888888,\"#fdca26\"],[1.0,\"#f0f921\"]]}],\"choropleth\":[{\"type\":\"choropleth\",\"colorbar\":{\"outlinewidth\":0,\"ticks\":\"\"}}],\"histogram2d\":[{\"type\":\"histogram2d\",\"colorbar\":{\"outlinewidth\":0,\"ticks\":\"\"},\"colorscale\":[[0.0,\"#0d0887\"],[0.1111111111111111,\"#46039f\"],[0.2222222222222222,\"#7201a8\"],[0.3333333333333333,\"#9c179e\"],[0.4444444444444444,\"#bd3786\"],[0.5555555555555556,\"#d8576b\"],[0.6666666666666666,\"#ed7953\"],[0.7777777777777778,\"#fb9f3a\"],[0.8888888888888888,\"#fdca26\"],[1.0,\"#f0f921\"]]}],\"heatmap\":[{\"type\":\"heatmap\",\"colorbar\":{\"outlinewidth\":0,\"ticks\":\"\"},\"colorscale\":[[0.0,\"#0d0887\"],[0.1111111111111111,\"#46039f\"],[0.2222222222222222,\"#7201a8\"],[0.3333333333333333,\"#9c179e\"],[0.4444444444444444,\"#bd3786\"],[0.5555555555555556,\"#d8576b\"],[0.6666666666666666,\"#ed7953\"],[0.7777777777777778,\"#fb9f3a\"],[0.8888888888888888,\"#fdca26\"],[1.0,\"#f0f921\"]]}],\"heatmapgl\":[{\"type\":\"heatmapgl\",\"colorbar\":{\"outlinewidth\":0,\"ticks\":\"\"},\"colorscale\":[[0.0,\"#0d0887\"],[0.1111111111111111,\"#46039f\"],[0.2222222222222222,\"#7201a8\"],[0.3333333333333333,\"#9c179e\"],[0.4444444444444444,\"#bd3786\"],[0.5555555555555556,\"#d8576b\"],[0.6666666666666666,\"#ed7953\"],[0.7777777777777778,\"#fb9f3a\"],[0.8888888888888888,\"#fdca26\"],[1.0,\"#f0f921\"]]}],\"contourcarpet\":[{\"type\":\"contourcarpet\",\"colorbar\":{\"outlinewidth\":0,\"ticks\":\"\"}}],\"contour\":[{\"type\":\"contour\",\"colorbar\":{\"outlinewidth\":0,\"ticks\":\"\"},\"colorscale\":[[0.0,\"#0d0887\"],[0.1111111111111111,\"#46039f\"],[0.2222222222222222,\"#7201a8\"],[0.3333333333333333,\"#9c179e\"],[0.4444444444444444,\"#bd3786\"],[0.5555555555555556,\"#d8576b\"],[0.6666666666666666,\"#ed7953\"],[0.7777777777777778,\"#fb9f3a\"],[0.8888888888888888,\"#fdca26\"],[1.0,\"#f0f921\"]]}],\"surface\":[{\"type\":\"surface\",\"colorbar\":{\"outlinewidth\":0,\"ticks\":\"\"},\"colorscale\":[[0.0,\"#0d0887\"],[0.1111111111111111,\"#46039f\"],[0.2222222222222222,\"#7201a8\"],[0.3333333333333333,\"#9c179e\"],[0.4444444444444444,\"#bd3786\"],[0.5555555555555556,\"#d8576b\"],[0.6666666666666666,\"#ed7953\"],[0.7777777777777778,\"#fb9f3a\"],[0.8888888888888888,\"#fdca26\"],[1.0,\"#f0f921\"]]}],\"mesh3d\":[{\"type\":\"mesh3d\",\"colorbar\":{\"outlinewidth\":0,\"ticks\":\"\"}}],\"scatter\":[{\"fillpattern\":{\"fillmode\":\"overlay\",\"size\":10,\"solidity\":0.2},\"type\":\"scatter\"}],\"parcoords\":[{\"type\":\"parcoords\",\"line\":{\"colorbar\":{\"outlinewidth\":0,\"ticks\":\"\"}}}],\"scatterpolargl\":[{\"type\":\"scatterpolargl\",\"marker\":{\"colorbar\":{\"outlinewidth\":0,\"ticks\":\"\"}}}],\"bar\":[{\"error_x\":{\"color\":\"#2a3f5f\"},\"error_y\":{\"color\":\"#2a3f5f\"},\"marker\":{\"line\":{\"color\":\"#E5ECF6\",\"width\":0.5},\"pattern\":{\"fillmode\":\"overlay\",\"size\":10,\"solidity\":0.2}},\"type\":\"bar\"}],\"scattergeo\":[{\"type\":\"scattergeo\",\"marker\":{\"colorbar\":{\"outlinewidth\":0,\"ticks\":\"\"}}}],\"scatterpolar\":[{\"type\":\"scatterpolar\",\"marker\":{\"colorbar\":{\"outlinewidth\":0,\"ticks\":\"\"}}}],\"histogram\":[{\"marker\":{\"pattern\":{\"fillmode\":\"overlay\",\"size\":10,\"solidity\":0.2}},\"type\":\"histogram\"}],\"scattergl\":[{\"type\":\"scattergl\",\"marker\":{\"colorbar\":{\"outlinewidth\":0,\"ticks\":\"\"}}}],\"scatter3d\":[{\"type\":\"scatter3d\",\"line\":{\"colorbar\":{\"outlinewidth\":0,\"ticks\":\"\"}},\"marker\":{\"colorbar\":{\"outlinewidth\":0,\"ticks\":\"\"}}}],\"scattermapbox\":[{\"type\":\"scattermapbox\",\"marker\":{\"colorbar\":{\"outlinewidth\":0,\"ticks\":\"\"}}}],\"scatterternary\":[{\"type\":\"scatterternary\",\"marker\":{\"colorbar\":{\"outlinewidth\":0,\"ticks\":\"\"}}}],\"scattercarpet\":[{\"type\":\"scattercarpet\",\"marker\":{\"colorbar\":{\"outlinewidth\":0,\"ticks\":\"\"}}}],\"carpet\":[{\"aaxis\":{\"endlinecolor\":\"#2a3f5f\",\"gridcolor\":\"white\",\"linecolor\":\"white\",\"minorgridcolor\":\"white\",\"startlinecolor\":\"#2a3f5f\"},\"baxis\":{\"endlinecolor\":\"#2a3f5f\",\"gridcolor\":\"white\",\"linecolor\":\"white\",\"minorgridcolor\":\"white\",\"startlinecolor\":\"#2a3f5f\"},\"type\":\"carpet\"}],\"table\":[{\"cells\":{\"fill\":{\"color\":\"#EBF0F8\"},\"line\":{\"color\":\"white\"}},\"header\":{\"fill\":{\"color\":\"#C8D4E3\"},\"line\":{\"color\":\"white\"}},\"type\":\"table\"}],\"barpolar\":[{\"marker\":{\"line\":{\"color\":\"#E5ECF6\",\"width\":0.5},\"pattern\":{\"fillmode\":\"overlay\",\"size\":10,\"solidity\":0.2}},\"type\":\"barpolar\"}],\"pie\":[{\"automargin\":true,\"type\":\"pie\"}]},\"layout\":{\"autotypenumbers\":\"strict\",\"colorway\":[\"#636efa\",\"#EF553B\",\"#00cc96\",\"#ab63fa\",\"#FFA15A\",\"#19d3f3\",\"#FF6692\",\"#B6E880\",\"#FF97FF\",\"#FECB52\"],\"font\":{\"color\":\"#2a3f5f\"},\"hovermode\":\"closest\",\"hoverlabel\":{\"align\":\"left\"},\"paper_bgcolor\":\"white\",\"plot_bgcolor\":\"#E5ECF6\",\"polar\":{\"bgcolor\":\"#E5ECF6\",\"angularaxis\":{\"gridcolor\":\"white\",\"linecolor\":\"white\",\"ticks\":\"\"},\"radialaxis\":{\"gridcolor\":\"white\",\"linecolor\":\"white\",\"ticks\":\"\"}},\"ternary\":{\"bgcolor\":\"#E5ECF6\",\"aaxis\":{\"gridcolor\":\"white\",\"linecolor\":\"white\",\"ticks\":\"\"},\"baxis\":{\"gridcolor\":\"white\",\"linecolor\":\"white\",\"ticks\":\"\"},\"caxis\":{\"gridcolor\":\"white\",\"linecolor\":\"white\",\"ticks\":\"\"}},\"coloraxis\":{\"colorbar\":{\"outlinewidth\":0,\"ticks\":\"\"}},\"colorscale\":{\"sequential\":[[0.0,\"#0d0887\"],[0.1111111111111111,\"#46039f\"],[0.2222222222222222,\"#7201a8\"],[0.3333333333333333,\"#9c179e\"],[0.4444444444444444,\"#bd3786\"],[0.5555555555555556,\"#d8576b\"],[0.6666666666666666,\"#ed7953\"],[0.7777777777777778,\"#fb9f3a\"],[0.8888888888888888,\"#fdca26\"],[1.0,\"#f0f921\"]],\"sequentialminus\":[[0.0,\"#0d0887\"],[0.1111111111111111,\"#46039f\"],[0.2222222222222222,\"#7201a8\"],[0.3333333333333333,\"#9c179e\"],[0.4444444444444444,\"#bd3786\"],[0.5555555555555556,\"#d8576b\"],[0.6666666666666666,\"#ed7953\"],[0.7777777777777778,\"#fb9f3a\"],[0.8888888888888888,\"#fdca26\"],[1.0,\"#f0f921\"]],\"diverging\":[[0,\"#8e0152\"],[0.1,\"#c51b7d\"],[0.2,\"#de77ae\"],[0.3,\"#f1b6da\"],[0.4,\"#fde0ef\"],[0.5,\"#f7f7f7\"],[0.6,\"#e6f5d0\"],[0.7,\"#b8e186\"],[0.8,\"#7fbc41\"],[0.9,\"#4d9221\"],[1,\"#276419\"]]},\"xaxis\":{\"gridcolor\":\"white\",\"linecolor\":\"white\",\"ticks\":\"\",\"title\":{\"standoff\":15},\"zerolinecolor\":\"white\",\"automargin\":true,\"zerolinewidth\":2},\"yaxis\":{\"gridcolor\":\"white\",\"linecolor\":\"white\",\"ticks\":\"\",\"title\":{\"standoff\":15},\"zerolinecolor\":\"white\",\"automargin\":true,\"zerolinewidth\":2},\"scene\":{\"xaxis\":{\"backgroundcolor\":\"#E5ECF6\",\"gridcolor\":\"white\",\"linecolor\":\"white\",\"showbackground\":true,\"ticks\":\"\",\"zerolinecolor\":\"white\",\"gridwidth\":2},\"yaxis\":{\"backgroundcolor\":\"#E5ECF6\",\"gridcolor\":\"white\",\"linecolor\":\"white\",\"showbackground\":true,\"ticks\":\"\",\"zerolinecolor\":\"white\",\"gridwidth\":2},\"zaxis\":{\"backgroundcolor\":\"#E5ECF6\",\"gridcolor\":\"white\",\"linecolor\":\"white\",\"showbackground\":true,\"ticks\":\"\",\"zerolinecolor\":\"white\",\"gridwidth\":2}},\"shapedefaults\":{\"line\":{\"color\":\"#2a3f5f\"}},\"annotationdefaults\":{\"arrowcolor\":\"#2a3f5f\",\"arrowhead\":0,\"arrowwidth\":1},\"geo\":{\"bgcolor\":\"white\",\"landcolor\":\"#E5ECF6\",\"subunitcolor\":\"white\",\"showland\":true,\"showlakes\":true,\"lakecolor\":\"white\"},\"title\":{\"x\":0.05},\"mapbox\":{\"style\":\"light\"}}},\"xaxis\":{\"anchor\":\"y\",\"domain\":[0.0,1.0],\"title\":{\"text\":\"Arrest (%)\"}},\"yaxis\":{\"anchor\":\"x\",\"domain\":[0.0,1.0],\"title\":{\"text\":\"Primary Type\"}},\"coloraxis\":{\"colorbar\":{\"title\":{\"text\":\"Arrest (%)\"}},\"colorscale\":[[0.0,\"rgb(196, 230, 195)\"],[0.16666666666666666,\"rgb(150, 210, 164)\"],[0.3333333333333333,\"rgb(109, 188, 144)\"],[0.5,\"rgb(77, 162, 132)\"],[0.6666666666666666,\"rgb(54, 135, 122)\"],[0.8333333333333334,\"rgb(38, 107, 110)\"],[1.0,\"rgb(29, 79, 96)\"]]},\"legend\":{\"tracegroupgap\":0},\"margin\":{\"t\":60},\"barmode\":\"relative\",\"height\":800,\"title\":{\"text\":\"Arrested Rate in % per Type Crime in Chicago.\"}},                        {\"responsive\": true}                    ).then(function(){\n",
              "                            \n",
              "var gd = document.getElementById('5c93f45d-603f-4fce-9f36-4e30ed3f27a1');\n",
              "var x = new MutationObserver(function (mutations, observer) {{\n",
              "        var display = window.getComputedStyle(gd).display;\n",
              "        if (!display || display === 'none') {{\n",
              "            console.log([gd, 'removed!']);\n",
              "            Plotly.purge(gd);\n",
              "            observer.disconnect();\n",
              "        }}\n",
              "}});\n",
              "\n",
              "// Listen for the removal of the full notebook cells\n",
              "var notebookContainer = gd.closest('#notebook-container');\n",
              "if (notebookContainer) {{\n",
              "    x.observe(notebookContainer, {childList: true});\n",
              "}}\n",
              "\n",
              "// Listen for the clearing of the current output cell\n",
              "var outputEl = gd.closest('.output');\n",
              "if (outputEl) {{\n",
              "    x.observe(outputEl, {childList: true});\n",
              "}}\n",
              "\n",
              "                        })                };                            </script>        </div>\n",
              "</body>\n",
              "</html>"
            ]
          },
          "metadata": {}
        }
      ],
      "source": [
        "cases = c_crime_df.groupby('Primary Type')['Arrest'].mean().reset_index()\n",
        "cases['Arrest (%)'] = cases['Arrest'].round(4)*100\n",
        "cases.sort_values('Arrest', inplace=True)\n",
        "fig = px.bar(\n",
        "    cases,\n",
        "    orientation='h',\n",
        "    x=\"Arrest (%)\",\n",
        "    y=\"Primary Type\",\n",
        "    color=\"Arrest (%)\",\n",
        "    text=\"Arrest (%)\",\n",
        "    height=800,\n",
        "    #width=800,\n",
        "        color_continuous_scale=px.colors.sequential.Blugrn\n",
        "\n",
        ")\n",
        "fig.update_traces(texttemplate=\"%{text:.4s}\", textposition=\"outside\")\n",
        "fig.update_layout(title_text=\"Arrested Rate in % per Type Crime in Chicago.\")\n",
        "\n",
        "fig.show()"
      ]
    },
    {
      "cell_type": "markdown",
      "id": "ea7e54a6",
      "metadata": {
        "id": "ea7e54a6"
      },
      "source": [
        "The “VIOLATION” crimes look strongly correlated to the arrested rate once the 'cop' must be present in the location to declare the violation."
      ]
    },
    {
      "cell_type": "code",
      "execution_count": null,
      "id": "c22adeca",
      "metadata": {
        "id": "c22adeca"
      },
      "outputs": [],
      "source": []
    },
    {
      "cell_type": "code",
      "execution_count": null,
      "id": "34d516a0",
      "metadata": {
        "id": "34d516a0"
      },
      "outputs": [],
      "source": []
    },
    {
      "cell_type": "code",
      "execution_count": null,
      "id": "7e5ecd2e",
      "metadata": {
        "id": "7e5ecd2e"
      },
      "outputs": [],
      "source": []
    },
    {
      "cell_type": "code",
      "execution_count": null,
      "id": "e036695b",
      "metadata": {
        "id": "e036695b"
      },
      "outputs": [],
      "source": []
    },
    {
      "cell_type": "code",
      "execution_count": null,
      "id": "9a9ef514",
      "metadata": {
        "ExecuteTime": {
          "end_time": "2024-03-22T20:19:54.111063Z",
          "start_time": "2024-03-22T20:19:54.111063Z"
        },
        "id": "9a9ef514"
      },
      "outputs": [],
      "source": [
        "chicago_crime_df.info()"
      ]
    },
    {
      "cell_type": "code",
      "execution_count": null,
      "id": "fc0ca485",
      "metadata": {
        "ExecuteTime": {
          "end_time": "2024-03-22T20:19:54.126687Z",
          "start_time": "2024-03-22T20:19:54.126687Z"
        },
        "id": "fc0ca485"
      },
      "outputs": [],
      "source": [
        "# Try to find the correlation of the columns\n",
        "\n",
        "# Select only numeric columns\n",
        "numeric_columns = chicago_crime_df.select_dtypes(include=['number'])\n",
        "\n",
        "# Calculate correlation\n",
        "numeric_columns.corr()"
      ]
    },
    {
      "cell_type": "code",
      "execution_count": null,
      "id": "e90f8efc",
      "metadata": {
        "ExecuteTime": {
          "end_time": "2024-03-22T20:19:54.126687Z",
          "start_time": "2024-03-22T20:19:54.126687Z"
        },
        "id": "e90f8efc"
      },
      "outputs": [],
      "source": [
        "#plot a heatmap showing correlation\n",
        "heatmap = sns.heatmap(numeric_columns.corr(), vmin=-1, annot=True)\n",
        "heatmap.set_title('Chicago Crime Correlation', fontdict={'fontsize':14}, pad=10)"
      ]
    },
    {
      "cell_type": "markdown",
      "id": "1eba84dd",
      "metadata": {
        "id": "1eba84dd"
      },
      "source": [
        "**_Observation_**\n",
        "1. The Beat and Ward are positively correlated."
      ]
    },
    {
      "cell_type": "code",
      "execution_count": null,
      "id": "46d38420",
      "metadata": {
        "ExecuteTime": {
          "end_time": "2024-03-22T20:19:54.142312Z",
          "start_time": "2024-03-22T20:19:54.142312Z"
        },
        "id": "46d38420"
      },
      "outputs": [],
      "source": [
        "chicago_crime_df.groupby(['Primary Type', 'Arrest','Domestic']).size().sort_values(ascending=False).reset_index().rename(columns={0:'Crime Count'})"
      ]
    },
    {
      "cell_type": "code",
      "execution_count": null,
      "id": "0e555df3",
      "metadata": {
        "ExecuteTime": {
          "end_time": "2024-03-22T20:19:54.157935Z",
          "start_time": "2024-03-22T20:19:54.157935Z"
        },
        "id": "0e555df3"
      },
      "outputs": [],
      "source": [
        "plt.figure(figsize=(12, 6))\n",
        "sns.countplot(x='Primary Type', hue='Arrest', data=chicago_crime_df[:8])"
      ]
    },
    {
      "cell_type": "markdown",
      "id": "c4503495",
      "metadata": {
        "id": "c4503495"
      },
      "source": [
        "# 5. Feature Engineering\n",
        "\n",
        "Create new columns for Months, Day, and Season"
      ]
    },
    {
      "cell_type": "markdown",
      "id": "4841fc8b",
      "metadata": {
        "id": "4841fc8b"
      },
      "source": [
        "__Creating month column__"
      ]
    },
    {
      "cell_type": "code",
      "execution_count": null,
      "id": "c1a5e50e",
      "metadata": {
        "ExecuteTime": {
          "end_time": "2024-03-19T15:06:15.628376Z",
          "start_time": "2024-03-19T15:06:15.615890Z"
        },
        "id": "c1a5e50e"
      },
      "outputs": [],
      "source": [
        "# Create new columns for Months\n",
        "def extract_and_map_month(date):\n",
        "    # Ensure Date column have been converted to datetime format\n",
        "    month_names = chicago_crime_df['Date'].dt.month_name()\n",
        "# dt is an attribute of the date column object\n",
        "# month_name() is a method\n",
        "    return month_names"
      ]
    },
    {
      "cell_type": "code",
      "execution_count": null,
      "id": "76b03e42",
      "metadata": {
        "ExecuteTime": {
          "end_time": "2024-03-19T15:06:17.210750Z",
          "start_time": "2024-03-19T15:06:15.628376Z"
        },
        "id": "76b03e42"
      },
      "outputs": [],
      "source": [
        "chicago_crime_df['Month'] = extract_and_map_month(chicago_crime_df['Date'])\n",
        "\n",
        "# Group by month and count number of crimes\n",
        "monthly_crime_counts = chicago_crime_df.groupby('Month').size()"
      ]
    },
    {
      "cell_type": "code",
      "execution_count": null,
      "id": "80648fa5",
      "metadata": {
        "ExecuteTime": {
          "end_time": "2024-03-19T15:06:18.985763Z",
          "start_time": "2024-03-19T15:06:17.210750Z"
        },
        "id": "80648fa5"
      },
      "outputs": [],
      "source": [
        "# Monthly plot for crimes\n",
        "plt.figure(figsize=(10, 6))\n",
        "monthly_crime_counts.plot(kind='bar', color='green')\n",
        "plt.title('Monthly Crime Counts in Chicago')\n",
        "plt.xlabel('Month')\n",
        "plt.ylabel('Number of Crimes')\n",
        "plt.xticks(rotation=0)\n",
        "plt.show()"
      ]
    },
    {
      "cell_type": "markdown",
      "id": "f0d7b57d",
      "metadata": {
        "id": "f0d7b57d"
      },
      "source": [
        "__Creating Day Column__"
      ]
    },
    {
      "cell_type": "code",
      "execution_count": null,
      "id": "0d43b62f",
      "metadata": {
        "ExecuteTime": {
          "end_time": "2024-03-19T15:06:18.994091Z",
          "start_time": "2024-03-19T15:06:18.985763Z"
        },
        "id": "0d43b62f"
      },
      "outputs": [],
      "source": [
        "# Create new columns for Day\n",
        "def extract_and_map_month(date):\n",
        "    # ensure the input is in datetime format\n",
        "    day_names = chicago_crime_df['Date'].dt.day_name()\n",
        "# dt is an attribute of the date column object\n",
        "# month_name() is a method\n",
        "    return day_names"
      ]
    },
    {
      "cell_type": "code",
      "execution_count": null,
      "id": "011a5731",
      "metadata": {
        "ExecuteTime": {
          "end_time": "2024-03-19T15:06:21.119626Z",
          "start_time": "2024-03-19T15:06:18.994091Z"
        },
        "id": "011a5731"
      },
      "outputs": [],
      "source": [
        "chicago_crime_df['Day'] = extract_and_map_month(chicago_crime_df['Date'])\n",
        "\n",
        "# Group by day and count number of crimes\n",
        "daily_crime_counts = chicago_crime_df.groupby('Day').size()\n"
      ]
    },
    {
      "cell_type": "code",
      "execution_count": null,
      "id": "e876be4b",
      "metadata": {
        "ExecuteTime": {
          "end_time": "2024-03-19T15:06:22.080753Z",
          "start_time": "2024-03-19T15:06:21.119626Z"
        },
        "id": "e876be4b"
      },
      "outputs": [],
      "source": [
        "# daily plot for crimes\n",
        "plt.figure(figsize=(12, 6))\n",
        "daily_crime_counts.plot(kind='line', color='green', marker='o', markersize=10)\n",
        "plt.title('Daily Crime Counts in Chicago')\n",
        "plt.xlabel('Day of the Month')\n",
        "plt.ylabel('Number of Crimes')\n",
        "plt.grid(True)\n",
        "plt.show()"
      ]
    },
    {
      "cell_type": "markdown",
      "id": "ee31e1e2",
      "metadata": {
        "id": "ee31e1e2"
      },
      "source": [
        "__Creating Seasons column__"
      ]
    },
    {
      "cell_type": "code",
      "execution_count": null,
      "id": "03f3d125",
      "metadata": {
        "ExecuteTime": {
          "end_time": "2024-03-19T15:06:22.100735Z",
          "start_time": "2024-03-19T15:06:22.080753Z"
        },
        "id": "03f3d125"
      },
      "outputs": [],
      "source": [
        "# Function to define various month and their corresponding season\n",
        "def get_season(month):\n",
        "    if month in ['December','January','February']:\n",
        "        return 'Winter'\n",
        "    elif month in ['March','April','May']:\n",
        "        return 'Spring'\n",
        "    elif month in ['June','July','August']:\n",
        "        return 'Summer'\n",
        "    else:\n",
        "        return 'Fall'"
      ]
    },
    {
      "cell_type": "code",
      "execution_count": null,
      "id": "ece128c8",
      "metadata": {
        "ExecuteTime": {
          "end_time": "2024-03-19T15:06:23.682161Z",
          "start_time": "2024-03-19T15:06:22.100735Z"
        },
        "id": "ece128c8"
      },
      "outputs": [],
      "source": [
        "chicago_crime_df['Season'] = chicago_crime_df['Month'].apply(get_season)\n",
        "\n",
        "# Group by season and count number of crimes\n",
        "seasonal_crime_counts = chicago_crime_df.groupby('Season').size()\n"
      ]
    },
    {
      "cell_type": "code",
      "execution_count": null,
      "id": "bf814b17",
      "metadata": {
        "ExecuteTime": {
          "end_time": "2024-03-19T15:06:23.993678Z",
          "start_time": "2024-03-19T15:06:23.682161Z"
        },
        "id": "bf814b17"
      },
      "outputs": [],
      "source": [
        "# seasonal plot for crimes\n",
        "plt.figure(figsize=(10, 6))\n",
        "seasonal_crime_counts.plot(kind='bar', color='green')\n",
        "plt.title('Seasonal Crime Counts in Chicago')\n",
        "plt.xlabel('Season')\n",
        "plt.ylabel('Number of Crimes')\n",
        "plt.xticks(rotation=0)\n",
        "plt.show()"
      ]
    },
    {
      "cell_type": "markdown",
      "id": "3d39b673",
      "metadata": {
        "id": "3d39b673"
      },
      "source": [
        "# 6. Frequency Distribution of Crimes"
      ]
    },
    {
      "cell_type": "markdown",
      "id": "9ec03aab",
      "metadata": {
        "id": "9ec03aab"
      },
      "source": [
        " __Monthly Crime Frequency__"
      ]
    },
    {
      "cell_type": "code",
      "execution_count": null,
      "id": "fedf1696",
      "metadata": {
        "ExecuteTime": {
          "end_time": "2024-03-19T15:06:26.925446Z",
          "start_time": "2024-03-19T15:06:23.993678Z"
        },
        "id": "fedf1696"
      },
      "outputs": [],
      "source": [
        "# created another df where the Date would be the Index\n",
        "crimes_df = chicago_crime_df.set_index(['Date'])"
      ]
    },
    {
      "cell_type": "code",
      "execution_count": null,
      "id": "1f6b753e",
      "metadata": {
        "ExecuteTime": {
          "end_time": "2024-03-19T15:06:31.978679Z",
          "start_time": "2024-03-19T15:06:26.925446Z"
        },
        "id": "1f6b753e"
      },
      "outputs": [],
      "source": [
        "# show a trend analysis of arrest over years, months and days\n",
        "plt.subplot()\n",
        "#plt.figure(figsize=(8, 6))\n",
        "\n",
        "# this gives us data where arrest was made\n",
        "arrests = crimes_df[crimes_df['Arrest'] == True]['Arrest']\n",
        "\n",
        "#yearly arrest\n",
        "arrests.resample('YE').count().plot() #the 'A' is an offset Data that indicates annual, view documentation for further understanding\n",
        "plt.title('Yearly arrests')\n",
        "plt.show()\n",
        "\n",
        "# quarter start arrest\n",
        "arrests.resample('QS').count().plot()\n",
        "plt.title('Quarterly Arrests')\n",
        "plt.show()\n",
        "\n",
        "# monthly arrest\n",
        "arrests.resample('ME').count().plot()\n",
        "plt.title('Monthly Arrests')\n",
        "plt.show()\n",
        "\n"
      ]
    },
    {
      "cell_type": "markdown",
      "id": "41e09c06",
      "metadata": {
        "id": "41e09c06"
      },
      "source": [
        "__Observation__\n",
        "1. There is a downward trend of arrest over the years from 2008 upwards this is evident even in the quarterly arrests.\n",
        "2. 2020 recorded the least monthly arrest."
      ]
    },
    {
      "cell_type": "code",
      "execution_count": null,
      "id": "7ddd32e0",
      "metadata": {
        "ExecuteTime": {
          "end_time": "2024-03-19T15:06:32.280890Z",
          "start_time": "2024-03-19T15:06:31.978679Z"
        },
        "id": "7ddd32e0"
      },
      "outputs": [],
      "source": [
        "crime_count_by_month = chicago_crime_df.groupby('Month')['Arrest'].count()\n",
        "print(crime_count_by_month)"
      ]
    },
    {
      "cell_type": "markdown",
      "id": "6fb1709b",
      "metadata": {
        "id": "6fb1709b"
      },
      "source": [
        "__Seasonal Crime Frequency__"
      ]
    },
    {
      "cell_type": "code",
      "execution_count": null,
      "id": "58826823",
      "metadata": {
        "ExecuteTime": {
          "end_time": "2024-03-19T15:06:32.699816Z",
          "start_time": "2024-03-19T15:06:32.280890Z"
        },
        "scrolled": true,
        "id": "58826823"
      },
      "outputs": [],
      "source": [
        "crime_count_by_season = chicago_crime_df.groupby('Season')['Season'].count()\n",
        "crime_count_by_season"
      ]
    },
    {
      "cell_type": "code",
      "execution_count": null,
      "id": "84fe9088",
      "metadata": {
        "ExecuteTime": {
          "end_time": "2024-03-19T15:06:34.589447Z",
          "start_time": "2024-03-19T15:06:32.699816Z"
        },
        "id": "84fe9088"
      },
      "outputs": [],
      "source": [
        "# Group by season and count number of arrests\n",
        "seasonal_arrests = chicago_crime_df[chicago_crime_df['Arrest'] == True]['Season'].value_counts()\n",
        "\n",
        "# Plot pie chart for seasonal arrests\n",
        "plt.figure(figsize=(8, 6))\n",
        "seasonal_arrests.plot(kind='pie', autopct='%1.1f%%', colors=['skyblue', 'lightgreen', 'lightcoral', 'orange'])\n",
        "plt.title('Seasonal Arrests in Chicago')\n",
        "plt.ylabel('')\n",
        "plt.show()"
      ]
    },
    {
      "cell_type": "markdown",
      "id": "5d58ff96",
      "metadata": {
        "id": "5d58ff96"
      },
      "source": [
        " __Daily Crime Frequency__"
      ]
    },
    {
      "cell_type": "code",
      "execution_count": null,
      "id": "2ea9839a",
      "metadata": {
        "ExecuteTime": {
          "end_time": "2024-03-19T15:06:34.942489Z",
          "start_time": "2024-03-19T15:06:34.589447Z"
        },
        "id": "2ea9839a"
      },
      "outputs": [],
      "source": [
        "crime_count_per_day = chicago_crime_df.groupby('Day')['Day'].count()\n",
        "print(crime_count_per_day)"
      ]
    },
    {
      "cell_type": "code",
      "execution_count": null,
      "id": "900a391c",
      "metadata": {
        "ExecuteTime": {
          "end_time": "2024-03-19T15:06:54.240997Z",
          "start_time": "2024-03-19T15:06:34.942489Z"
        },
        "scrolled": true,
        "id": "900a391c"
      },
      "outputs": [],
      "source": [
        "# This will suppress any warnings related to the change in figure layout.\n",
        "import warnings\n",
        "warnings.filterwarnings(\"ignore\", message=\"The figure layout has changed to tight\")\n",
        "\n",
        "# Frequency of arrests for each day\n",
        "sns.catplot(\n",
        "    data=chicago_crime_df, y=\"Day\", hue=\"Arrest\", kind=\"count\",\n",
        "    palette=\"pastel\", legend=True, edgecolor=\".6\",\n",
        ")"
      ]
    },
    {
      "cell_type": "code",
      "execution_count": null,
      "id": "daaa76b4",
      "metadata": {
        "ExecuteTime": {
          "end_time": "2024-03-19T15:06:54.600405Z",
          "start_time": "2024-03-19T15:06:54.256626Z"
        },
        "id": "daaa76b4"
      },
      "outputs": [],
      "source": [
        "#Location with the most crime\n",
        "\n",
        "chicago_crime_df.groupby('Location Description')['Primary Type'].size().sort_values(ascending=False).head(20)"
      ]
    },
    {
      "cell_type": "markdown",
      "id": "3bd61a94",
      "metadata": {
        "id": "3bd61a94"
      },
      "source": [
        "# 7. Visualize Data Distribution"
      ]
    },
    {
      "cell_type": "code",
      "execution_count": null,
      "id": "32104a09",
      "metadata": {
        "ExecuteTime": {
          "end_time": "2024-03-19T15:06:57.158163Z",
          "start_time": "2024-03-19T15:06:54.600405Z"
        },
        "id": "32104a09"
      },
      "outputs": [],
      "source": [
        "# Visualize the distribution of crime types\n",
        "plt.figure(figsize=(12, 6))\n",
        "sns.countplot(data=chicago_crime_df, x='Primary Type')\n",
        "plt.xticks(rotation=90)\n",
        "plt.title('Distribution of Crime Types')"
      ]
    },
    {
      "cell_type": "code",
      "execution_count": null,
      "id": "fab27bdf",
      "metadata": {
        "id": "fab27bdf"
      },
      "outputs": [],
      "source": []
    },
    {
      "cell_type": "markdown",
      "id": "37f590ac",
      "metadata": {
        "id": "37f590ac"
      },
      "source": [
        "# 8. Investigate Relationships"
      ]
    },
    {
      "cell_type": "code",
      "execution_count": null,
      "id": "34115f72",
      "metadata": {
        "ExecuteTime": {
          "end_time": "2024-03-19T15:06:57.633000Z",
          "start_time": "2024-03-19T15:06:57.158163Z"
        },
        "id": "34115f72"
      },
      "outputs": [],
      "source": [
        "numeric_columns.corr()"
      ]
    },
    {
      "cell_type": "code",
      "execution_count": null,
      "id": "3bc57fa8",
      "metadata": {
        "ExecuteTime": {
          "end_time": "2024-03-19T15:06:58.895493Z",
          "start_time": "2024-03-19T15:06:57.633000Z"
        },
        "id": "3bc57fa8"
      },
      "outputs": [],
      "source": [
        "heatmap = sns.heatmap(numeric_columns.corr(), vmin=-1, annot=True)\n",
        "heatmap.set_title('Chicago Crime Correlation', fontdict={'fontsize':14}, pad=10)\n",
        "\n",
        "# i can infer the relationship between the districts and the ward"
      ]
    },
    {
      "cell_type": "code",
      "execution_count": null,
      "id": "a2d4bc29",
      "metadata": {
        "ExecuteTime": {
          "end_time": "2024-03-19T15:06:59.166077Z",
          "start_time": "2024-03-19T15:06:58.895493Z"
        },
        "id": "a2d4bc29"
      },
      "outputs": [],
      "source": [
        "crimes_df.head()"
      ]
    },
    {
      "cell_type": "code",
      "execution_count": null,
      "id": "47a501d0",
      "metadata": {
        "ExecuteTime": {
          "end_time": "2024-03-19T15:07:03.049523Z",
          "start_time": "2024-03-19T15:06:59.166077Z"
        },
        "id": "47a501d0"
      },
      "outputs": [],
      "source": [
        "# Investigate Relationships\n",
        "# Explore the relationship between Location description and crime type\n",
        "\n",
        "# Create a cross-tabulation of crime location and crime type\n",
        "crime_location_type = pd.crosstab(chicago_crime_df['Location Description'], chicago_crime_df['Primary Type'])\n",
        "\n",
        "# Plot heatmap\n",
        "plt.figure(figsize=(18, 12))\n",
        "sns.heatmap(crime_location_type, cmap='YlGnBu', linewidths=.1)\n",
        "plt.title('Frequency of Crime Types at Different Locations')\n",
        "plt.xlabel('Crime Type')\n",
        "plt.ylabel('Location Description')\n",
        "plt.xticks(rotation=90)\n",
        "plt.yticks(rotation=0)\n",
        "plt.show()"
      ]
    },
    {
      "cell_type": "code",
      "execution_count": null,
      "id": "6d18ccd2",
      "metadata": {
        "id": "6d18ccd2"
      },
      "outputs": [],
      "source": []
    },
    {
      "cell_type": "markdown",
      "id": "21967a8e",
      "metadata": {
        "id": "21967a8e"
      },
      "source": [
        "# 8. Examine Crime Locations"
      ]
    },
    {
      "cell_type": "code",
      "execution_count": null,
      "id": "3567de5d",
      "metadata": {
        "ExecuteTime": {
          "end_time": "2024-03-19T15:07:56.902075Z",
          "start_time": "2024-03-19T15:07:56.544683Z"
        },
        "id": "3567de5d"
      },
      "outputs": [],
      "source": [
        "# Location description where crime happens the most\n",
        "most_common_crime_location = chicago_crime_df['Location Description'].value_counts().idxmax()"
      ]
    },
    {
      "cell_type": "code",
      "execution_count": null,
      "id": "f0aabc3c",
      "metadata": {
        "ExecuteTime": {
          "end_time": "2024-03-19T15:07:58.384848Z",
          "start_time": "2024-03-19T15:07:58.361629Z"
        },
        "id": "f0aabc3c"
      },
      "outputs": [],
      "source": [
        "most_common_crime_location"
      ]
    },
    {
      "cell_type": "markdown",
      "id": "5a5c3518",
      "metadata": {
        "id": "5a5c3518"
      },
      "source": [
        "# 9. Identify Hotspots"
      ]
    },
    {
      "cell_type": "code",
      "execution_count": null,
      "id": "e64b8d72",
      "metadata": {
        "ExecuteTime": {
          "end_time": "2024-03-19T15:08:04.627967Z",
          "start_time": "2024-03-19T15:08:03.251664Z"
        },
        "id": "e64b8d72"
      },
      "outputs": [],
      "source": [
        "# using district to determine areas with higest crime rate(True/False)\n",
        "\n",
        "# Calculate total number of arrests for each district\n",
        "district_arrests = chicago_crime_df.groupby('District')['Arrest'].sum()\n",
        "# print(district_arrests)\n",
        "\n",
        "# Determine the districts with the highest arrest rates\n",
        "highest_arrest_rate_districts = district_arrests.nlargest(5)  # Get the top 5 districts with highest arrest rates\n",
        "\n",
        "# print(highest_arrest_rate_districts)\n",
        "\n",
        "# Create a boolean column indicating whether each district has one of the highest arrest rates\n",
        "chicago_crime_df['Highest_Arrest_Rate'] = chicago_crime_df['District'].isin(highest_arrest_rate_districts.index)\n",
        "\n",
        "# Print the result (True/False) for each district\n",
        "print(chicago_crime_df[['District', 'Highest_Arrest_Rate']].drop_duplicates())\n",
        "\n",
        "\n",
        "# using district to determine areas with higest crime rate(True)\n"
      ]
    },
    {
      "cell_type": "markdown",
      "id": "4dde1d59",
      "metadata": {
        "id": "4dde1d59"
      },
      "source": [
        "# 11. Compare Crime Rates"
      ]
    },
    {
      "cell_type": "code",
      "execution_count": null,
      "id": "c3a8d034",
      "metadata": {
        "ExecuteTime": {
          "end_time": "2024-03-19T15:08:57.418796Z",
          "start_time": "2024-03-19T15:08:56.397931Z"
        },
        "id": "c3a8d034"
      },
      "outputs": [],
      "source": [
        "# mapping crimes based on locations\n",
        "\n",
        "# Filter out rows with missing latitude or longitude values\n",
        "chicago_crime_df = chicago_crime_df.dropna(subset=['Latitude', 'Longitude'])\n",
        "\n",
        "# Create a map centered around the mean latitude and longitude\n",
        "crime_map = folium.Map(location=[chicago_crime_df['Latitude'].mean(), chicago_crime_df['Longitude'].mean()], zoom_start=11)\n",
        "\n",
        "# Add markers for each crime location\n",
        "for index, row in chicago_crime_df.iterrows():\n",
        "    folium.Marker(location=[row['Latitude'], row['Longitude']], popup=row['Primary Type']).add_to(crime_map)\n",
        "\n",
        "# Save the map to an HTML file\n",
        "crime_map.save('crime_map.html')"
      ]
    },
    {
      "cell_type": "markdown",
      "id": "7dc09827",
      "metadata": {
        "id": "7dc09827"
      },
      "source": [
        "# 12. Summarize and Visualize Insights"
      ]
    },
    {
      "cell_type": "code",
      "execution_count": null,
      "id": "06a9bffe",
      "metadata": {
        "id": "06a9bffe"
      },
      "outputs": [],
      "source": []
    }
  ],
  "metadata": {
    "kernelspec": {
      "display_name": "Python 3 (ipykernel)",
      "language": "python",
      "name": "python3"
    },
    "language_info": {
      "codemirror_mode": {
        "name": "ipython",
        "version": 3
      },
      "file_extension": ".py",
      "mimetype": "text/x-python",
      "name": "python",
      "nbconvert_exporter": "python",
      "pygments_lexer": "ipython3",
      "version": "3.11.5"
    },
    "toc": {
      "base_numbering": 1,
      "nav_menu": {},
      "number_sections": true,
      "sideBar": true,
      "skip_h1_title": false,
      "title_cell": "Table of Contents",
      "title_sidebar": "Contents",
      "toc_cell": false,
      "toc_position": {},
      "toc_section_display": true,
      "toc_window_display": false
    },
    "varInspector": {
      "cols": {
        "lenName": 16,
        "lenType": 16,
        "lenVar": 40
      },
      "kernels_config": {
        "python": {
          "delete_cmd_postfix": "",
          "delete_cmd_prefix": "del ",
          "library": "var_list.py",
          "varRefreshCmd": "print(var_dic_list())"
        },
        "r": {
          "delete_cmd_postfix": ") ",
          "delete_cmd_prefix": "rm(",
          "library": "var_list.r",
          "varRefreshCmd": "cat(var_dic_list()) "
        }
      },
      "types_to_exclude": [
        "module",
        "function",
        "builtin_function_or_method",
        "instance",
        "_Feature"
      ],
      "window_display": false
    },
    "colab": {
      "provenance": []
    }
  },
  "nbformat": 4,
  "nbformat_minor": 5
}