{
 "cells": [
  {
   "cell_type": "markdown",
   "id": "547ae1a6",
   "metadata": {},
   "source": [
    "_LEARNING-CIRCLE-24 PROJECT_"
   ]
  },
  {
   "cell_type": "markdown",
   "id": "0dad4ee9",
   "metadata": {},
   "source": [
    "<h2> Learning-Circle-24 </h2> <p>  Contributors </p>\n",
    "\n"
   ]
  },
  {
   "cell_type": "markdown",
   "id": "ebc10ba9",
   "metadata": {},
   "source": [
    "# **Crime in Chicago**\n",
    "The data dictionary can be found in [Chicago Crime Portal](https://data.cityofchicago.org/Public-Safety/Crimes-2001-to-Present/ijzp-q8t2/about_data)\n",
    "\n",
    "In this notebook, we are going to explore more about crime in Chicago and try to answer few questions:\n",
    "\n",
    "How has crime in Chicago changed across years? What year was really the bloodiest year in two decades?\n",
    "Are some types of crimes more likely to happen in specific locations or specific time of the day or specific day of the week than other types of crimes?"
   ]
  },
  {
   "cell_type": "markdown",
   "id": "ad32ee5f",
   "metadata": {},
   "source": [
    "Analyzing the Chicago crime dataset involves examining various aspects of the data to understand patterns, trends, and characteristics of criminal activities in Chicago. We perform analysis using Python, pandas and visualization libraries using the following steps:\n",
    "\n",
    "1. Load the Dataset: Load the Chicago crime dataset into a DataFrame.\n",
    "2. Explore the Dataset: Examine the structure, columns, and basic statistics of the dataset.\n",
    "3. Data Cleaning: We dropped redundant columns and handle missing values.\n",
    "4. Feature Engineering: Create new column for Months, Day, Season\n",
    "5. Frequency distribution of Crimes: show how the frequency of crime is distributed within Months, Days, Seasons.\n",
    "6. Visualize Data Distribution: Visualize the distribution of variables using histograms, box plots, or density plots.\n",
    "6. Investigate Relationships: Look for relationships between variables using scatter plots, correlation matrices, or pair plots\n",
    "7. Investigate Crime Types: Analyze the distribution of different types of crimes.\n",
    "8. Examine Crime Locations: Investigate the distribution of crimes across different locations.\n",
    "9. Identify Hotspots: Identify areas with high crime rates.\n",
    "10. Detect Seasonal Patterns: Look for seasonal patterns or variations in crime rates.\n",
    "11. Compare Crime Rates: Compare crime rates across different categories such as day of the week, time of day, and month.\n",
    "12. Summarize and Visualize Insights: Summarize and Visualize the key insights and findings from the analysis using plots and charts."
   ]
  },
  {
   "cell_type": "code",
   "execution_count": 1,
   "id": "9a24d3c5",
   "metadata": {
    "ExecuteTime": {
     "end_time": "2024-03-16T20:17:47.405334Z",
     "start_time": "2024-03-16T20:17:03.076299Z"
    }
   },
   "outputs": [],
   "source": [
    "import pandas as pd\n",
    "import seaborn as sns\n",
    "import matplotlib.pyplot as plt\n",
    "%matplotlib inline"
   ]
  },
  {
   "cell_type": "code",
   "execution_count": 2,
   "id": "e33a0ba2",
   "metadata": {
    "ExecuteTime": {
     "end_time": "2024-03-16T20:17:47.459856Z",
     "start_time": "2024-03-16T20:17:47.428839Z"
    }
   },
   "outputs": [],
   "source": [
    "# Set display option \n",
    "pd.set_option('display.max.columns', None)"
   ]
  },
  {
   "cell_type": "markdown",
   "id": "282ac4ea",
   "metadata": {
    "ExecuteTime": {
     "end_time": "2024-03-02T06:10:29.749123Z",
     "start_time": "2024-03-02T06:10:29.698866Z"
    }
   },
   "source": [
    "# 1. Loading the dataset"
   ]
  },
  {
   "cell_type": "code",
   "execution_count": 3,
   "id": "baad012f",
   "metadata": {
    "ExecuteTime": {
     "end_time": "2024-03-16T20:18:55.365370Z",
     "start_time": "2024-03-16T20:18:28.495302Z"
    }
   },
   "outputs": [],
   "source": [
    "# Load the dataset\n",
    "chicago_crime_df= pd.read_csv('../Data-Science-Projects/dataset/crime_data_chicago.csv')"
   ]
  },
  {
   "cell_type": "markdown",
   "id": "46015508",
   "metadata": {},
   "source": [
    "# 2. Explore the dataset"
   ]
  },
  {
   "cell_type": "code",
   "execution_count": 4,
   "id": "40a1c122",
   "metadata": {
    "ExecuteTime": {
     "end_time": "2024-03-16T20:20:14.621120Z",
     "start_time": "2024-03-16T20:20:14.604762Z"
    }
   },
   "outputs": [
    {
     "data": {
      "text/plain": [
       "(2278726, 23)"
      ]
     },
     "execution_count": 4,
     "metadata": {},
     "output_type": "execute_result"
    }
   ],
   "source": [
    "#checking the dimensions\n",
    "chicago_crime_df.shape"
   ]
  },
  {
   "cell_type": "code",
   "execution_count": 5,
   "id": "821a0eb5",
   "metadata": {
    "ExecuteTime": {
     "end_time": "2024-03-16T20:20:15.686630Z",
     "start_time": "2024-03-16T20:20:15.661877Z"
    }
   },
   "outputs": [
    {
     "data": {
      "text/plain": [
       "Index(['Unnamed: 0', 'ID', 'Case Number', 'Date', 'Block', 'IUCR',\n",
       "       'Primary Type', 'Description', 'Location Description', 'Arrest',\n",
       "       'Domestic', 'Beat', 'District', 'Ward', 'Community Area', 'FBI Code',\n",
       "       'X Coordinate', 'Y Coordinate', 'Year', 'Updated On', 'Latitude',\n",
       "       'Longitude', 'Location'],\n",
       "      dtype='object')"
      ]
     },
     "execution_count": 5,
     "metadata": {},
     "output_type": "execute_result"
    }
   ],
   "source": [
    "# Display the first five rows of the dataset\n",
    "chicago_crime_df.columns"
   ]
  },
  {
   "cell_type": "code",
   "execution_count": 6,
   "id": "6492c4d3",
   "metadata": {
    "ExecuteTime": {
     "end_time": "2024-03-16T20:20:17.161264Z",
     "start_time": "2024-03-16T20:20:16.789211Z"
    }
   },
   "outputs": [
    {
     "data": {
      "text/html": [
       "<div>\n",
       "<style scoped>\n",
       "    .dataframe tbody tr th:only-of-type {\n",
       "        vertical-align: middle;\n",
       "    }\n",
       "\n",
       "    .dataframe tbody tr th {\n",
       "        vertical-align: top;\n",
       "    }\n",
       "\n",
       "    .dataframe thead th {\n",
       "        text-align: right;\n",
       "    }\n",
       "</style>\n",
       "<table border=\"1\" class=\"dataframe\">\n",
       "  <thead>\n",
       "    <tr style=\"text-align: right;\">\n",
       "      <th></th>\n",
       "      <th>Unnamed: 0</th>\n",
       "      <th>ID</th>\n",
       "      <th>Case Number</th>\n",
       "      <th>Date</th>\n",
       "      <th>Block</th>\n",
       "      <th>IUCR</th>\n",
       "      <th>Primary Type</th>\n",
       "      <th>Description</th>\n",
       "      <th>Location Description</th>\n",
       "      <th>Arrest</th>\n",
       "      <th>Domestic</th>\n",
       "      <th>Beat</th>\n",
       "      <th>District</th>\n",
       "      <th>Ward</th>\n",
       "      <th>Community Area</th>\n",
       "      <th>FBI Code</th>\n",
       "      <th>X Coordinate</th>\n",
       "      <th>Y Coordinate</th>\n",
       "      <th>Year</th>\n",
       "      <th>Updated On</th>\n",
       "      <th>Latitude</th>\n",
       "      <th>Longitude</th>\n",
       "      <th>Location</th>\n",
       "    </tr>\n",
       "  </thead>\n",
       "  <tbody>\n",
       "    <tr>\n",
       "      <th>0</th>\n",
       "      <td>0</td>\n",
       "      <td>6407111</td>\n",
       "      <td>HP485721</td>\n",
       "      <td>07/26/2008 02:30:00 PM</td>\n",
       "      <td>085XX S MUSKEGON AVE</td>\n",
       "      <td>1320</td>\n",
       "      <td>CRIMINAL DAMAGE</td>\n",
       "      <td>TO VEHICLE</td>\n",
       "      <td>STREET</td>\n",
       "      <td>False</td>\n",
       "      <td>False</td>\n",
       "      <td>423</td>\n",
       "      <td>4.0</td>\n",
       "      <td>10.0</td>\n",
       "      <td>46.0</td>\n",
       "      <td>14</td>\n",
       "      <td>1196638.0</td>\n",
       "      <td>1848800.0</td>\n",
       "      <td>2008</td>\n",
       "      <td>02/28/2018 03:56:25 PM</td>\n",
       "      <td>41.739980</td>\n",
       "      <td>-87.555120</td>\n",
       "      <td>(41.739979622, -87.555120042)</td>\n",
       "    </tr>\n",
       "    <tr>\n",
       "      <th>1</th>\n",
       "      <td>1</td>\n",
       "      <td>11398199</td>\n",
       "      <td>JB372830</td>\n",
       "      <td>07/31/2018 10:57:00 AM</td>\n",
       "      <td>092XX S ELLIS AVE</td>\n",
       "      <td>143C</td>\n",
       "      <td>WEAPONS VIOLATION</td>\n",
       "      <td>UNLAWFUL POSS AMMUNITION</td>\n",
       "      <td>POOL ROOM</td>\n",
       "      <td>True</td>\n",
       "      <td>False</td>\n",
       "      <td>413</td>\n",
       "      <td>4.0</td>\n",
       "      <td>8.0</td>\n",
       "      <td>47.0</td>\n",
       "      <td>15</td>\n",
       "      <td>1184499.0</td>\n",
       "      <td>1843935.0</td>\n",
       "      <td>2018</td>\n",
       "      <td>08/07/2018 04:02:59 PM</td>\n",
       "      <td>41.726922</td>\n",
       "      <td>-87.599747</td>\n",
       "      <td>(41.726922145, -87.599746995)</td>\n",
       "    </tr>\n",
       "    <tr>\n",
       "      <th>2</th>\n",
       "      <td>2</td>\n",
       "      <td>5488785</td>\n",
       "      <td>HN308568</td>\n",
       "      <td>04/27/2007 10:30:00 AM</td>\n",
       "      <td>062XX N TRIPP AVE</td>\n",
       "      <td>0610</td>\n",
       "      <td>BURGLARY</td>\n",
       "      <td>FORCIBLE ENTRY</td>\n",
       "      <td>RESIDENCE</td>\n",
       "      <td>True</td>\n",
       "      <td>False</td>\n",
       "      <td>1711</td>\n",
       "      <td>17.0</td>\n",
       "      <td>39.0</td>\n",
       "      <td>12.0</td>\n",
       "      <td>05</td>\n",
       "      <td>1146911.0</td>\n",
       "      <td>1941022.0</td>\n",
       "      <td>2007</td>\n",
       "      <td>02/28/2018 03:56:25 PM</td>\n",
       "      <td>41.994138</td>\n",
       "      <td>-87.734959</td>\n",
       "      <td>(41.994137622, -87.734959049)</td>\n",
       "    </tr>\n",
       "    <tr>\n",
       "      <th>3</th>\n",
       "      <td>3</td>\n",
       "      <td>11389116</td>\n",
       "      <td>JB361368</td>\n",
       "      <td>07/23/2018 08:55:00 AM</td>\n",
       "      <td>0000X N KEELER AVE</td>\n",
       "      <td>0560</td>\n",
       "      <td>ASSAULT</td>\n",
       "      <td>SIMPLE</td>\n",
       "      <td>NURSING HOME/RETIREMENT HOME</td>\n",
       "      <td>False</td>\n",
       "      <td>False</td>\n",
       "      <td>1115</td>\n",
       "      <td>11.0</td>\n",
       "      <td>28.0</td>\n",
       "      <td>26.0</td>\n",
       "      <td>08A</td>\n",
       "      <td>1148388.0</td>\n",
       "      <td>1899882.0</td>\n",
       "      <td>2018</td>\n",
       "      <td>07/30/2018 03:52:24 PM</td>\n",
       "      <td>41.881217</td>\n",
       "      <td>-87.730590</td>\n",
       "      <td>(41.881217483, -87.730589961)</td>\n",
       "    </tr>\n",
       "    <tr>\n",
       "      <th>4</th>\n",
       "      <td>4</td>\n",
       "      <td>12420431</td>\n",
       "      <td>JE297624</td>\n",
       "      <td>07/11/2021 06:40:00 AM</td>\n",
       "      <td>016XX W HARRISON ST</td>\n",
       "      <td>051A</td>\n",
       "      <td>ASSAULT</td>\n",
       "      <td>AGGRAVATED - HANDGUN</td>\n",
       "      <td>PARKING LOT / GARAGE (NON RESIDENTIAL)</td>\n",
       "      <td>False</td>\n",
       "      <td>False</td>\n",
       "      <td>1231</td>\n",
       "      <td>12.0</td>\n",
       "      <td>27.0</td>\n",
       "      <td>28.0</td>\n",
       "      <td>04A</td>\n",
       "      <td>1165430.0</td>\n",
       "      <td>1897441.0</td>\n",
       "      <td>2021</td>\n",
       "      <td>07/18/2021 04:56:02 PM</td>\n",
       "      <td>41.874174</td>\n",
       "      <td>-87.668082</td>\n",
       "      <td>(41.874173691, -87.668082118)</td>\n",
       "    </tr>\n",
       "  </tbody>\n",
       "</table>\n",
       "</div>"
      ],
      "text/plain": [
       "   Unnamed: 0        ID Case Number                    Date  \\\n",
       "0           0   6407111    HP485721  07/26/2008 02:30:00 PM   \n",
       "1           1  11398199    JB372830  07/31/2018 10:57:00 AM   \n",
       "2           2   5488785    HN308568  04/27/2007 10:30:00 AM   \n",
       "3           3  11389116    JB361368  07/23/2018 08:55:00 AM   \n",
       "4           4  12420431    JE297624  07/11/2021 06:40:00 AM   \n",
       "\n",
       "                  Block  IUCR       Primary Type               Description  \\\n",
       "0  085XX S MUSKEGON AVE  1320    CRIMINAL DAMAGE                TO VEHICLE   \n",
       "1     092XX S ELLIS AVE  143C  WEAPONS VIOLATION  UNLAWFUL POSS AMMUNITION   \n",
       "2     062XX N TRIPP AVE  0610           BURGLARY            FORCIBLE ENTRY   \n",
       "3    0000X N KEELER AVE  0560            ASSAULT                    SIMPLE   \n",
       "4   016XX W HARRISON ST  051A            ASSAULT      AGGRAVATED - HANDGUN   \n",
       "\n",
       "                     Location Description  Arrest  Domestic  Beat  District  \\\n",
       "0                                  STREET   False     False   423       4.0   \n",
       "1                               POOL ROOM    True     False   413       4.0   \n",
       "2                               RESIDENCE    True     False  1711      17.0   \n",
       "3            NURSING HOME/RETIREMENT HOME   False     False  1115      11.0   \n",
       "4  PARKING LOT / GARAGE (NON RESIDENTIAL)   False     False  1231      12.0   \n",
       "\n",
       "   Ward  Community Area FBI Code  X Coordinate  Y Coordinate  Year  \\\n",
       "0  10.0            46.0       14     1196638.0     1848800.0  2008   \n",
       "1   8.0            47.0       15     1184499.0     1843935.0  2018   \n",
       "2  39.0            12.0       05     1146911.0     1941022.0  2007   \n",
       "3  28.0            26.0      08A     1148388.0     1899882.0  2018   \n",
       "4  27.0            28.0      04A     1165430.0     1897441.0  2021   \n",
       "\n",
       "               Updated On   Latitude  Longitude                       Location  \n",
       "0  02/28/2018 03:56:25 PM  41.739980 -87.555120  (41.739979622, -87.555120042)  \n",
       "1  08/07/2018 04:02:59 PM  41.726922 -87.599747  (41.726922145, -87.599746995)  \n",
       "2  02/28/2018 03:56:25 PM  41.994138 -87.734959  (41.994137622, -87.734959049)  \n",
       "3  07/30/2018 03:52:24 PM  41.881217 -87.730590  (41.881217483, -87.730589961)  \n",
       "4  07/18/2021 04:56:02 PM  41.874174 -87.668082  (41.874173691, -87.668082118)  "
      ]
     },
     "execution_count": 6,
     "metadata": {},
     "output_type": "execute_result"
    }
   ],
   "source": [
    "chicago_crime_df.head()"
   ]
  },
  {
   "cell_type": "code",
   "execution_count": 7,
   "id": "2b737764",
   "metadata": {
    "ExecuteTime": {
     "end_time": "2024-03-16T20:20:17.619607Z",
     "start_time": "2024-03-16T20:20:17.341121Z"
    }
   },
   "outputs": [
    {
     "name": "stdout",
     "output_type": "stream",
     "text": [
      "<class 'pandas.core.frame.DataFrame'>\n",
      "RangeIndex: 2278726 entries, 0 to 2278725\n",
      "Data columns (total 23 columns):\n",
      " #   Column                Dtype  \n",
      "---  ------                -----  \n",
      " 0   Unnamed: 0            int64  \n",
      " 1   ID                    int64  \n",
      " 2   Case Number           object \n",
      " 3   Date                  object \n",
      " 4   Block                 object \n",
      " 5   IUCR                  object \n",
      " 6   Primary Type          object \n",
      " 7   Description           object \n",
      " 8   Location Description  object \n",
      " 9   Arrest                bool   \n",
      " 10  Domestic              bool   \n",
      " 11  Beat                  int64  \n",
      " 12  District              float64\n",
      " 13  Ward                  float64\n",
      " 14  Community Area        float64\n",
      " 15  FBI Code              object \n",
      " 16  X Coordinate          float64\n",
      " 17  Y Coordinate          float64\n",
      " 18  Year                  int64  \n",
      " 19  Updated On            object \n",
      " 20  Latitude              float64\n",
      " 21  Longitude             float64\n",
      " 22  Location              object \n",
      "dtypes: bool(2), float64(7), int64(4), object(10)\n",
      "memory usage: 369.4+ MB\n"
     ]
    }
   ],
   "source": [
    " # Display column information and data types\n",
    "chicago_crime_df.info()"
   ]
  },
  {
   "cell_type": "code",
   "execution_count": 8,
   "id": "b7d56818",
   "metadata": {
    "ExecuteTime": {
     "end_time": "2024-03-16T20:20:19.846162Z",
     "start_time": "2024-03-16T20:20:18.489216Z"
    }
   },
   "outputs": [
    {
     "data": {
      "text/plain": [
       "Unnamed: 0                   0\n",
       "ID                           0\n",
       "Case Number                  1\n",
       "Date                         0\n",
       "Block                        0\n",
       "IUCR                         0\n",
       "Primary Type                 0\n",
       "Description                  0\n",
       "Location Description      2877\n",
       "Arrest                       0\n",
       "Domestic                     0\n",
       "Beat                         0\n",
       "District                    12\n",
       "Ward                    184695\n",
       "Community Area          184267\n",
       "FBI Code                     0\n",
       "X Coordinate             23985\n",
       "Y Coordinate             23985\n",
       "Year                         0\n",
       "Updated On                   0\n",
       "Latitude                 23985\n",
       "Longitude                23985\n",
       "Location                 23985\n",
       "dtype: int64"
      ]
     },
     "execution_count": 8,
     "metadata": {},
     "output_type": "execute_result"
    }
   ],
   "source": [
    "# checking missing value count\n",
    "chicago_crime_df.isnull().sum()"
   ]
  },
  {
   "cell_type": "code",
   "execution_count": 10,
   "id": "d63b64b0",
   "metadata": {
    "ExecuteTime": {
     "end_time": "2024-03-16T20:20:28.070196Z",
     "start_time": "2024-03-16T20:20:26.790000Z"
    }
   },
   "outputs": [
    {
     "data": {
      "text/html": [
       "<div>\n",
       "<style scoped>\n",
       "    .dataframe tbody tr th:only-of-type {\n",
       "        vertical-align: middle;\n",
       "    }\n",
       "\n",
       "    .dataframe tbody tr th {\n",
       "        vertical-align: top;\n",
       "    }\n",
       "\n",
       "    .dataframe thead th {\n",
       "        text-align: right;\n",
       "    }\n",
       "</style>\n",
       "<table border=\"1\" class=\"dataframe\">\n",
       "  <thead>\n",
       "    <tr style=\"text-align: right;\">\n",
       "      <th></th>\n",
       "      <th>Unnamed: 0</th>\n",
       "      <th>ID</th>\n",
       "      <th>Beat</th>\n",
       "      <th>District</th>\n",
       "      <th>Ward</th>\n",
       "      <th>Community Area</th>\n",
       "      <th>X Coordinate</th>\n",
       "      <th>Y Coordinate</th>\n",
       "      <th>Year</th>\n",
       "      <th>Latitude</th>\n",
       "      <th>Longitude</th>\n",
       "    </tr>\n",
       "  </thead>\n",
       "  <tbody>\n",
       "    <tr>\n",
       "      <th>count</th>\n",
       "      <td>2.278726e+06</td>\n",
       "      <td>2.278726e+06</td>\n",
       "      <td>2.278726e+06</td>\n",
       "      <td>2.278714e+06</td>\n",
       "      <td>2.094031e+06</td>\n",
       "      <td>2.094459e+06</td>\n",
       "      <td>2.254741e+06</td>\n",
       "      <td>2.254741e+06</td>\n",
       "      <td>2.278726e+06</td>\n",
       "      <td>2.254741e+06</td>\n",
       "      <td>2.254741e+06</td>\n",
       "    </tr>\n",
       "    <tr>\n",
       "      <th>mean</th>\n",
       "      <td>1.139362e+06</td>\n",
       "      <td>6.882068e+06</td>\n",
       "      <td>1.186442e+03</td>\n",
       "      <td>1.129072e+01</td>\n",
       "      <td>2.272764e+01</td>\n",
       "      <td>3.752140e+01</td>\n",
       "      <td>1.164569e+06</td>\n",
       "      <td>1.885747e+06</td>\n",
       "      <td>2.009638e+03</td>\n",
       "      <td>4.184209e+01</td>\n",
       "      <td>-8.767161e+01</td>\n",
       "    </tr>\n",
       "    <tr>\n",
       "      <th>std</th>\n",
       "      <td>6.578117e+05</td>\n",
       "      <td>3.419168e+06</td>\n",
       "      <td>7.026836e+02</td>\n",
       "      <td>6.946692e+00</td>\n",
       "      <td>1.383464e+01</td>\n",
       "      <td>2.153282e+01</td>\n",
       "      <td>1.673955e+04</td>\n",
       "      <td>3.209855e+04</td>\n",
       "      <td>6.019724e+00</td>\n",
       "      <td>8.830434e-02</td>\n",
       "      <td>6.073538e-02</td>\n",
       "    </tr>\n",
       "    <tr>\n",
       "      <th>min</th>\n",
       "      <td>0.000000e+00</td>\n",
       "      <td>6.370000e+02</td>\n",
       "      <td>1.110000e+02</td>\n",
       "      <td>1.000000e+00</td>\n",
       "      <td>1.000000e+00</td>\n",
       "      <td>0.000000e+00</td>\n",
       "      <td>0.000000e+00</td>\n",
       "      <td>0.000000e+00</td>\n",
       "      <td>2.001000e+03</td>\n",
       "      <td>3.661945e+01</td>\n",
       "      <td>-9.168657e+01</td>\n",
       "    </tr>\n",
       "    <tr>\n",
       "      <th>25%</th>\n",
       "      <td>5.696812e+05</td>\n",
       "      <td>3.716076e+06</td>\n",
       "      <td>6.210000e+02</td>\n",
       "      <td>6.000000e+00</td>\n",
       "      <td>1.000000e+01</td>\n",
       "      <td>2.300000e+01</td>\n",
       "      <td>1.152948e+06</td>\n",
       "      <td>1.859053e+06</td>\n",
       "      <td>2.004000e+03</td>\n",
       "      <td>4.176866e+01</td>\n",
       "      <td>-8.771379e+01</td>\n",
       "    </tr>\n",
       "    <tr>\n",
       "      <th>50%</th>\n",
       "      <td>1.139362e+06</td>\n",
       "      <td>6.885990e+06</td>\n",
       "      <td>1.034000e+03</td>\n",
       "      <td>1.000000e+01</td>\n",
       "      <td>2.300000e+01</td>\n",
       "      <td>3.200000e+01</td>\n",
       "      <td>1.166060e+06</td>\n",
       "      <td>1.890673e+06</td>\n",
       "      <td>2.009000e+03</td>\n",
       "      <td>4.185578e+01</td>\n",
       "      <td>-8.766597e+01</td>\n",
       "    </tr>\n",
       "    <tr>\n",
       "      <th>75%</th>\n",
       "      <td>1.709044e+06</td>\n",
       "      <td>9.887568e+06</td>\n",
       "      <td>1.731000e+03</td>\n",
       "      <td>1.700000e+01</td>\n",
       "      <td>3.400000e+01</td>\n",
       "      <td>5.700000e+01</td>\n",
       "      <td>1.176365e+06</td>\n",
       "      <td>1.909219e+06</td>\n",
       "      <td>2.014000e+03</td>\n",
       "      <td>4.190668e+01</td>\n",
       "      <td>-8.762823e+01</td>\n",
       "    </tr>\n",
       "    <tr>\n",
       "      <th>max</th>\n",
       "      <td>2.278725e+06</td>\n",
       "      <td>1.278199e+07</td>\n",
       "      <td>2.535000e+03</td>\n",
       "      <td>3.100000e+01</td>\n",
       "      <td>5.000000e+01</td>\n",
       "      <td>7.700000e+01</td>\n",
       "      <td>1.205119e+06</td>\n",
       "      <td>1.951622e+06</td>\n",
       "      <td>2.022000e+03</td>\n",
       "      <td>4.202291e+01</td>\n",
       "      <td>-8.752453e+01</td>\n",
       "    </tr>\n",
       "  </tbody>\n",
       "</table>\n",
       "</div>"
      ],
      "text/plain": [
       "         Unnamed: 0            ID          Beat      District          Ward  \\\n",
       "count  2.278726e+06  2.278726e+06  2.278726e+06  2.278714e+06  2.094031e+06   \n",
       "mean   1.139362e+06  6.882068e+06  1.186442e+03  1.129072e+01  2.272764e+01   \n",
       "std    6.578117e+05  3.419168e+06  7.026836e+02  6.946692e+00  1.383464e+01   \n",
       "min    0.000000e+00  6.370000e+02  1.110000e+02  1.000000e+00  1.000000e+00   \n",
       "25%    5.696812e+05  3.716076e+06  6.210000e+02  6.000000e+00  1.000000e+01   \n",
       "50%    1.139362e+06  6.885990e+06  1.034000e+03  1.000000e+01  2.300000e+01   \n",
       "75%    1.709044e+06  9.887568e+06  1.731000e+03  1.700000e+01  3.400000e+01   \n",
       "max    2.278725e+06  1.278199e+07  2.535000e+03  3.100000e+01  5.000000e+01   \n",
       "\n",
       "       Community Area  X Coordinate  Y Coordinate          Year      Latitude  \\\n",
       "count    2.094459e+06  2.254741e+06  2.254741e+06  2.278726e+06  2.254741e+06   \n",
       "mean     3.752140e+01  1.164569e+06  1.885747e+06  2.009638e+03  4.184209e+01   \n",
       "std      2.153282e+01  1.673955e+04  3.209855e+04  6.019724e+00  8.830434e-02   \n",
       "min      0.000000e+00  0.000000e+00  0.000000e+00  2.001000e+03  3.661945e+01   \n",
       "25%      2.300000e+01  1.152948e+06  1.859053e+06  2.004000e+03  4.176866e+01   \n",
       "50%      3.200000e+01  1.166060e+06  1.890673e+06  2.009000e+03  4.185578e+01   \n",
       "75%      5.700000e+01  1.176365e+06  1.909219e+06  2.014000e+03  4.190668e+01   \n",
       "max      7.700000e+01  1.205119e+06  1.951622e+06  2.022000e+03  4.202291e+01   \n",
       "\n",
       "          Longitude  \n",
       "count  2.254741e+06  \n",
       "mean  -8.767161e+01  \n",
       "std    6.073538e-02  \n",
       "min   -9.168657e+01  \n",
       "25%   -8.771379e+01  \n",
       "50%   -8.766597e+01  \n",
       "75%   -8.762823e+01  \n",
       "max   -8.752453e+01  "
      ]
     },
     "execution_count": 10,
     "metadata": {},
     "output_type": "execute_result"
    }
   ],
   "source": [
    "chicago_crime_df.describe()"
   ]
  },
  {
   "cell_type": "markdown",
   "id": "2bb19f83",
   "metadata": {},
   "source": [
    "# 3. Data Preprocessing"
   ]
  },
  {
   "cell_type": "markdown",
   "id": "18cc107e",
   "metadata": {},
   "source": [
    "## Data Cleaning"
   ]
  },
  {
   "cell_type": "markdown",
   "id": "5793f507",
   "metadata": {},
   "source": [
    "Here are some steps that we would carry out in this exercise\n",
    "\n",
    "1. Convert data types to the appropriate formats\n",
    "2. Remove redundant or unnecessary columns\n",
    "3. Handle missing values\n",
    "\n",
    "__Reasons for dropping the below columns__\n",
    "- 'Unnamed: 0': Its just an index for individual row\n",
    "- 'Case Number': Unique case identifier for the record which is redundant due to the presence of an automatically genrated 'ID'\n",
    "- 'Location': This is where the incident occurred in a format that allows for creation of maps and other geographic operation. It's the combination of both latitude and longitude feature of this dataset thus, not required.\n",
    "- 'Updated On': Holds the date and time the record was last updated.Which is not required for our analysis.\n",
    "- 'X Coordinate': The x coordinate is a shifted location from the actual location for partial redaction but falls on the same block. Since we have a longitude/latitude and the block where the crime happened, we can neglect this feature.\n",
    "- 'Y Coordinate': The y coordinate is a shifted location from the actual location for partial redaction but falls on the same block. Since we have a longitude/latitude and the block where the crime happened, we can neglect this feature.\n",
    "- 'Community Area': This indicates the community area where the incident occurred. Which is not neccessary for our analysis.\n",
    "- 'IUCR': This is the Illinois Unifrom Crime Reporting code. This is directly linked to the Primary Type and Description, it provides information about the primary type and description of crime. Since primary type and description features already exist, it becomes a redundant column\n",
    "- Description: It's simply a subcategory of the primary type(which describes the type of crime committed). this can be omitted\n",
    "- Block: Since we have the latitude and longitude, this column is redundant.\n",
    "- Community Area: This is not needed in our analysis and the presence of a police Beat makes this redundant. \n",
    "- FBI Code: Removed because it is not necessary for our analysis as we are unable to de-code these codes."
   ]
  },
  {
   "cell_type": "markdown",
   "id": "bfeb84fa",
   "metadata": {},
   "source": [
    "__1. convert inappropriate data types to the correct one__"
   ]
  },
  {
   "cell_type": "code",
   "execution_count": 12,
   "id": "266a49c0",
   "metadata": {
    "ExecuteTime": {
     "end_time": "2024-03-16T20:22:12.788625Z",
     "start_time": "2024-03-16T20:22:12.764790Z"
    }
   },
   "outputs": [
    {
     "name": "stdout",
     "output_type": "stream",
     "text": [
      "<class 'pandas.core.frame.DataFrame'>\n",
      "RangeIndex: 2278726 entries, 0 to 2278725\n",
      "Data columns (total 23 columns):\n",
      " #   Column                Dtype  \n",
      "---  ------                -----  \n",
      " 0   Unnamed: 0            int64  \n",
      " 1   ID                    int64  \n",
      " 2   Case Number           object \n",
      " 3   Date                  object \n",
      " 4   Block                 object \n",
      " 5   IUCR                  object \n",
      " 6   Primary Type          object \n",
      " 7   Description           object \n",
      " 8   Location Description  object \n",
      " 9   Arrest                bool   \n",
      " 10  Domestic              bool   \n",
      " 11  Beat                  int64  \n",
      " 12  District              float64\n",
      " 13  Ward                  float64\n",
      " 14  Community Area        float64\n",
      " 15  FBI Code              object \n",
      " 16  X Coordinate          float64\n",
      " 17  Y Coordinate          float64\n",
      " 18  Year                  int64  \n",
      " 19  Updated On            object \n",
      " 20  Latitude              float64\n",
      " 21  Longitude             float64\n",
      " 22  Location              object \n",
      "dtypes: bool(2), float64(7), int64(4), object(10)\n",
      "memory usage: 369.4+ MB\n"
     ]
    }
   ],
   "source": [
    "chicago_crime_df.info()"
   ]
  },
  {
   "cell_type": "code",
   "execution_count": 14,
   "id": "b10541b6",
   "metadata": {
    "ExecuteTime": {
     "end_time": "2024-03-16T20:38:32.834410Z",
     "start_time": "2024-03-16T20:38:10.044710Z"
    }
   },
   "outputs": [],
   "source": [
    "# first we convert the date column to datetime data type.\n",
    "\n",
    "chicago_crime_df['Date'] = pd.to_datetime(chicago_crime_df['Date'],format='%m/%d/%Y %I:%M:%S %p')"
   ]
  },
  {
   "cell_type": "code",
   "execution_count": 15,
   "id": "b09263a1",
   "metadata": {
    "ExecuteTime": {
     "end_time": "2024-03-16T20:38:48.224323Z",
     "start_time": "2024-03-16T20:38:46.603364Z"
    }
   },
   "outputs": [],
   "source": [
    "# Convert the year column to object or string.\n",
    "\n",
    "chicago_crime_df['Year'] = pd.Series(chicago_crime_df['Year'], dtype=\"string\")"
   ]
  },
  {
   "cell_type": "code",
   "execution_count": 16,
   "id": "2fa8429d",
   "metadata": {
    "ExecuteTime": {
     "end_time": "2024-03-16T20:38:51.126273Z",
     "start_time": "2024-03-16T20:38:49.632751Z"
    }
   },
   "outputs": [],
   "source": [
    "# Convert the ID column to an object or string as this is a unique identifier that cannot be quantified\n",
    "\n",
    "chicago_crime_df['ID'] = pd.Series(chicago_crime_df['ID'], dtype=\"string\")\n",
    "\n"
   ]
  },
  {
   "cell_type": "code",
   "execution_count": 17,
   "id": "bfded967",
   "metadata": {
    "ExecuteTime": {
     "end_time": "2024-03-16T20:38:53.298434Z",
     "start_time": "2024-03-16T20:38:51.873278Z"
    }
   },
   "outputs": [],
   "source": [
    "# convert the district column to a string; from the keynote, Chicago police has only 22 district and the data type is plain text\n",
    "\n",
    "chicago_crime_df['District'] = pd.Series(chicago_crime_df['District'], dtype='string')"
   ]
  },
  {
   "cell_type": "code",
   "execution_count": 18,
   "id": "0c1794d6",
   "metadata": {
    "ExecuteTime": {
     "end_time": "2024-03-16T20:38:54.425626Z",
     "start_time": "2024-03-16T20:38:54.326534Z"
    }
   },
   "outputs": [
    {
     "data": {
      "text/plain": [
       "Domestic\n",
       "False    1965311\n",
       "True      313415\n",
       "Name: count, dtype: int64"
      ]
     },
     "execution_count": 18,
     "metadata": {},
     "output_type": "execute_result"
    }
   ],
   "source": [
    "chicago_crime_df['Domestic'].value_counts()"
   ]
  },
  {
   "cell_type": "markdown",
   "id": "3d674611",
   "metadata": {},
   "source": [
    "__2. Use a funtion to Drop redundant columns and/or columns that are not necessary for our analysis (a redundant column is one that gives infomation that another column already explains: eg ID and Case number)__"
   ]
  },
  {
   "cell_type": "code",
   "execution_count": 19,
   "id": "cf7fd108",
   "metadata": {
    "ExecuteTime": {
     "end_time": "2024-03-16T20:38:56.496257Z",
     "start_time": "2024-03-16T20:38:56.483884Z"
    }
   },
   "outputs": [
    {
     "data": {
      "text/plain": [
       "Index(['Unnamed: 0', 'ID', 'Case Number', 'Date', 'Block', 'IUCR',\n",
       "       'Primary Type', 'Description', 'Location Description', 'Arrest',\n",
       "       'Domestic', 'Beat', 'District', 'Ward', 'Community Area', 'FBI Code',\n",
       "       'X Coordinate', 'Y Coordinate', 'Year', 'Updated On', 'Latitude',\n",
       "       'Longitude', 'Location'],\n",
       "      dtype='object')"
      ]
     },
     "execution_count": 19,
     "metadata": {},
     "output_type": "execute_result"
    }
   ],
   "source": [
    "chicago_crime_df.columns"
   ]
  },
  {
   "cell_type": "code",
   "execution_count": 20,
   "id": "1fef58c2",
   "metadata": {
    "ExecuteTime": {
     "end_time": "2024-03-16T20:38:57.839837Z",
     "start_time": "2024-03-16T20:38:57.200370Z"
    }
   },
   "outputs": [],
   "source": [
    "# Dropping redundant columns\n",
    "def drop_redundant_columns(df):\n",
    "    redundant_columns = ['Unnamed: 0','Case Number', 'Location','Updated On', 'FBI Code', 'Block', 'Description', 'X Coordinate','Y Coordinate','Community Area','IUCR']\n",
    "    df.drop(redundant_columns, axis=1, inplace= True)\n",
    "    \n",
    "drop_redundant_columns(chicago_crime_df)"
   ]
  },
  {
   "cell_type": "code",
   "execution_count": 21,
   "id": "d55a5457",
   "metadata": {
    "ExecuteTime": {
     "end_time": "2024-03-16T20:38:58.465657Z",
     "start_time": "2024-03-16T20:38:58.394886Z"
    }
   },
   "outputs": [
    {
     "data": {
      "text/html": [
       "<div>\n",
       "<style scoped>\n",
       "    .dataframe tbody tr th:only-of-type {\n",
       "        vertical-align: middle;\n",
       "    }\n",
       "\n",
       "    .dataframe tbody tr th {\n",
       "        vertical-align: top;\n",
       "    }\n",
       "\n",
       "    .dataframe thead th {\n",
       "        text-align: right;\n",
       "    }\n",
       "</style>\n",
       "<table border=\"1\" class=\"dataframe\">\n",
       "  <thead>\n",
       "    <tr style=\"text-align: right;\">\n",
       "      <th></th>\n",
       "      <th>ID</th>\n",
       "      <th>Date</th>\n",
       "      <th>Primary Type</th>\n",
       "      <th>Location Description</th>\n",
       "      <th>Arrest</th>\n",
       "      <th>Domestic</th>\n",
       "      <th>Beat</th>\n",
       "      <th>District</th>\n",
       "      <th>Ward</th>\n",
       "      <th>Year</th>\n",
       "      <th>Latitude</th>\n",
       "      <th>Longitude</th>\n",
       "    </tr>\n",
       "  </thead>\n",
       "  <tbody>\n",
       "    <tr>\n",
       "      <th>0</th>\n",
       "      <td>6407111</td>\n",
       "      <td>2008-07-26 14:30:00</td>\n",
       "      <td>CRIMINAL DAMAGE</td>\n",
       "      <td>STREET</td>\n",
       "      <td>False</td>\n",
       "      <td>False</td>\n",
       "      <td>423</td>\n",
       "      <td>4.0</td>\n",
       "      <td>10.0</td>\n",
       "      <td>2008</td>\n",
       "      <td>41.739980</td>\n",
       "      <td>-87.555120</td>\n",
       "    </tr>\n",
       "    <tr>\n",
       "      <th>1</th>\n",
       "      <td>11398199</td>\n",
       "      <td>2018-07-31 10:57:00</td>\n",
       "      <td>WEAPONS VIOLATION</td>\n",
       "      <td>POOL ROOM</td>\n",
       "      <td>True</td>\n",
       "      <td>False</td>\n",
       "      <td>413</td>\n",
       "      <td>4.0</td>\n",
       "      <td>8.0</td>\n",
       "      <td>2018</td>\n",
       "      <td>41.726922</td>\n",
       "      <td>-87.599747</td>\n",
       "    </tr>\n",
       "    <tr>\n",
       "      <th>2</th>\n",
       "      <td>5488785</td>\n",
       "      <td>2007-04-27 10:30:00</td>\n",
       "      <td>BURGLARY</td>\n",
       "      <td>RESIDENCE</td>\n",
       "      <td>True</td>\n",
       "      <td>False</td>\n",
       "      <td>1711</td>\n",
       "      <td>17.0</td>\n",
       "      <td>39.0</td>\n",
       "      <td>2007</td>\n",
       "      <td>41.994138</td>\n",
       "      <td>-87.734959</td>\n",
       "    </tr>\n",
       "    <tr>\n",
       "      <th>3</th>\n",
       "      <td>11389116</td>\n",
       "      <td>2018-07-23 08:55:00</td>\n",
       "      <td>ASSAULT</td>\n",
       "      <td>NURSING HOME/RETIREMENT HOME</td>\n",
       "      <td>False</td>\n",
       "      <td>False</td>\n",
       "      <td>1115</td>\n",
       "      <td>11.0</td>\n",
       "      <td>28.0</td>\n",
       "      <td>2018</td>\n",
       "      <td>41.881217</td>\n",
       "      <td>-87.730590</td>\n",
       "    </tr>\n",
       "    <tr>\n",
       "      <th>4</th>\n",
       "      <td>12420431</td>\n",
       "      <td>2021-07-11 06:40:00</td>\n",
       "      <td>ASSAULT</td>\n",
       "      <td>PARKING LOT / GARAGE (NON RESIDENTIAL)</td>\n",
       "      <td>False</td>\n",
       "      <td>False</td>\n",
       "      <td>1231</td>\n",
       "      <td>12.0</td>\n",
       "      <td>27.0</td>\n",
       "      <td>2021</td>\n",
       "      <td>41.874174</td>\n",
       "      <td>-87.668082</td>\n",
       "    </tr>\n",
       "  </tbody>\n",
       "</table>\n",
       "</div>"
      ],
      "text/plain": [
       "         ID                Date       Primary Type  \\\n",
       "0   6407111 2008-07-26 14:30:00    CRIMINAL DAMAGE   \n",
       "1  11398199 2018-07-31 10:57:00  WEAPONS VIOLATION   \n",
       "2   5488785 2007-04-27 10:30:00           BURGLARY   \n",
       "3  11389116 2018-07-23 08:55:00            ASSAULT   \n",
       "4  12420431 2021-07-11 06:40:00            ASSAULT   \n",
       "\n",
       "                     Location Description  Arrest  Domestic  Beat District  \\\n",
       "0                                  STREET   False     False   423      4.0   \n",
       "1                               POOL ROOM    True     False   413      4.0   \n",
       "2                               RESIDENCE    True     False  1711     17.0   \n",
       "3            NURSING HOME/RETIREMENT HOME   False     False  1115     11.0   \n",
       "4  PARKING LOT / GARAGE (NON RESIDENTIAL)   False     False  1231     12.0   \n",
       "\n",
       "   Ward  Year   Latitude  Longitude  \n",
       "0  10.0  2008  41.739980 -87.555120  \n",
       "1   8.0  2018  41.726922 -87.599747  \n",
       "2  39.0  2007  41.994138 -87.734959  \n",
       "3  28.0  2018  41.881217 -87.730590  \n",
       "4  27.0  2021  41.874174 -87.668082  "
      ]
     },
     "execution_count": 21,
     "metadata": {},
     "output_type": "execute_result"
    }
   ],
   "source": [
    "chicago_crime_df.head()"
   ]
  },
  {
   "cell_type": "code",
   "execution_count": 23,
   "id": "150b2940",
   "metadata": {
    "ExecuteTime": {
     "end_time": "2024-03-16T20:39:32.261658Z",
     "start_time": "2024-03-16T20:39:26.659270Z"
    }
   },
   "outputs": [
    {
     "data": {
      "text/html": [
       "<div>\n",
       "<style scoped>\n",
       "    .dataframe tbody tr th:only-of-type {\n",
       "        vertical-align: middle;\n",
       "    }\n",
       "\n",
       "    .dataframe tbody tr th {\n",
       "        vertical-align: top;\n",
       "    }\n",
       "\n",
       "    .dataframe thead th {\n",
       "        text-align: right;\n",
       "    }\n",
       "</style>\n",
       "<table border=\"1\" class=\"dataframe\">\n",
       "  <thead>\n",
       "    <tr style=\"text-align: right;\">\n",
       "      <th></th>\n",
       "      <th>ID</th>\n",
       "      <th>Date</th>\n",
       "      <th>Primary Type</th>\n",
       "      <th>Location Description</th>\n",
       "      <th>Arrest</th>\n",
       "      <th>Domestic</th>\n",
       "      <th>Beat</th>\n",
       "      <th>District</th>\n",
       "      <th>Ward</th>\n",
       "      <th>Year</th>\n",
       "      <th>Latitude</th>\n",
       "      <th>Longitude</th>\n",
       "    </tr>\n",
       "  </thead>\n",
       "  <tbody>\n",
       "    <tr>\n",
       "      <th>count</th>\n",
       "      <td>2278726</td>\n",
       "      <td>2278726</td>\n",
       "      <td>2278726</td>\n",
       "      <td>2275849</td>\n",
       "      <td>2278726</td>\n",
       "      <td>2278726</td>\n",
       "      <td>2.278726e+06</td>\n",
       "      <td>2278714</td>\n",
       "      <td>2.094031e+06</td>\n",
       "      <td>2278726</td>\n",
       "      <td>2.254741e+06</td>\n",
       "      <td>2.254741e+06</td>\n",
       "    </tr>\n",
       "    <tr>\n",
       "      <th>unique</th>\n",
       "      <td>2278726</td>\n",
       "      <td>NaN</td>\n",
       "      <td>35</td>\n",
       "      <td>198</td>\n",
       "      <td>2</td>\n",
       "      <td>2</td>\n",
       "      <td>NaN</td>\n",
       "      <td>23</td>\n",
       "      <td>NaN</td>\n",
       "      <td>22</td>\n",
       "      <td>NaN</td>\n",
       "      <td>NaN</td>\n",
       "    </tr>\n",
       "    <tr>\n",
       "      <th>top</th>\n",
       "      <td>6407111</td>\n",
       "      <td>NaN</td>\n",
       "      <td>THEFT</td>\n",
       "      <td>STREET</td>\n",
       "      <td>False</td>\n",
       "      <td>False</td>\n",
       "      <td>NaN</td>\n",
       "      <td>8.0</td>\n",
       "      <td>NaN</td>\n",
       "      <td>2001</td>\n",
       "      <td>NaN</td>\n",
       "      <td>NaN</td>\n",
       "    </tr>\n",
       "    <tr>\n",
       "      <th>freq</th>\n",
       "      <td>1</td>\n",
       "      <td>NaN</td>\n",
       "      <td>479375</td>\n",
       "      <td>590957</td>\n",
       "      <td>1675252</td>\n",
       "      <td>1965311</td>\n",
       "      <td>NaN</td>\n",
       "      <td>153684</td>\n",
       "      <td>NaN</td>\n",
       "      <td>146293</td>\n",
       "      <td>NaN</td>\n",
       "      <td>NaN</td>\n",
       "    </tr>\n",
       "    <tr>\n",
       "      <th>mean</th>\n",
       "      <td>NaN</td>\n",
       "      <td>2010-02-20 04:46:03.302688512</td>\n",
       "      <td>NaN</td>\n",
       "      <td>NaN</td>\n",
       "      <td>NaN</td>\n",
       "      <td>NaN</td>\n",
       "      <td>1.186442e+03</td>\n",
       "      <td>NaN</td>\n",
       "      <td>2.272764e+01</td>\n",
       "      <td>NaN</td>\n",
       "      <td>4.184209e+01</td>\n",
       "      <td>-8.767161e+01</td>\n",
       "    </tr>\n",
       "    <tr>\n",
       "      <th>min</th>\n",
       "      <td>NaN</td>\n",
       "      <td>2001-01-01 00:00:00</td>\n",
       "      <td>NaN</td>\n",
       "      <td>NaN</td>\n",
       "      <td>NaN</td>\n",
       "      <td>NaN</td>\n",
       "      <td>1.110000e+02</td>\n",
       "      <td>NaN</td>\n",
       "      <td>1.000000e+00</td>\n",
       "      <td>NaN</td>\n",
       "      <td>3.661945e+01</td>\n",
       "      <td>-9.168657e+01</td>\n",
       "    </tr>\n",
       "    <tr>\n",
       "      <th>25%</th>\n",
       "      <td>NaN</td>\n",
       "      <td>2004-12-14 07:07:30</td>\n",
       "      <td>NaN</td>\n",
       "      <td>NaN</td>\n",
       "      <td>NaN</td>\n",
       "      <td>NaN</td>\n",
       "      <td>6.210000e+02</td>\n",
       "      <td>NaN</td>\n",
       "      <td>1.000000e+01</td>\n",
       "      <td>NaN</td>\n",
       "      <td>4.176866e+01</td>\n",
       "      <td>-8.771379e+01</td>\n",
       "    </tr>\n",
       "    <tr>\n",
       "      <th>50%</th>\n",
       "      <td>NaN</td>\n",
       "      <td>2009-04-23 10:00:00</td>\n",
       "      <td>NaN</td>\n",
       "      <td>NaN</td>\n",
       "      <td>NaN</td>\n",
       "      <td>NaN</td>\n",
       "      <td>1.034000e+03</td>\n",
       "      <td>NaN</td>\n",
       "      <td>2.300000e+01</td>\n",
       "      <td>NaN</td>\n",
       "      <td>4.185578e+01</td>\n",
       "      <td>-8.766597e+01</td>\n",
       "    </tr>\n",
       "    <tr>\n",
       "      <th>75%</th>\n",
       "      <td>NaN</td>\n",
       "      <td>2014-12-02 07:00:00</td>\n",
       "      <td>NaN</td>\n",
       "      <td>NaN</td>\n",
       "      <td>NaN</td>\n",
       "      <td>NaN</td>\n",
       "      <td>1.731000e+03</td>\n",
       "      <td>NaN</td>\n",
       "      <td>3.400000e+01</td>\n",
       "      <td>NaN</td>\n",
       "      <td>4.190668e+01</td>\n",
       "      <td>-8.762823e+01</td>\n",
       "    </tr>\n",
       "    <tr>\n",
       "      <th>max</th>\n",
       "      <td>NaN</td>\n",
       "      <td>2022-07-27 23:35:00</td>\n",
       "      <td>NaN</td>\n",
       "      <td>NaN</td>\n",
       "      <td>NaN</td>\n",
       "      <td>NaN</td>\n",
       "      <td>2.535000e+03</td>\n",
       "      <td>NaN</td>\n",
       "      <td>5.000000e+01</td>\n",
       "      <td>NaN</td>\n",
       "      <td>4.202291e+01</td>\n",
       "      <td>-8.752453e+01</td>\n",
       "    </tr>\n",
       "    <tr>\n",
       "      <th>std</th>\n",
       "      <td>NaN</td>\n",
       "      <td>NaN</td>\n",
       "      <td>NaN</td>\n",
       "      <td>NaN</td>\n",
       "      <td>NaN</td>\n",
       "      <td>NaN</td>\n",
       "      <td>7.026836e+02</td>\n",
       "      <td>NaN</td>\n",
       "      <td>1.383464e+01</td>\n",
       "      <td>NaN</td>\n",
       "      <td>8.830434e-02</td>\n",
       "      <td>6.073538e-02</td>\n",
       "    </tr>\n",
       "  </tbody>\n",
       "</table>\n",
       "</div>"
      ],
      "text/plain": [
       "             ID                           Date Primary Type  \\\n",
       "count   2278726                        2278726      2278726   \n",
       "unique  2278726                            NaN           35   \n",
       "top     6407111                            NaN        THEFT   \n",
       "freq          1                            NaN       479375   \n",
       "mean        NaN  2010-02-20 04:46:03.302688512          NaN   \n",
       "min         NaN            2001-01-01 00:00:00          NaN   \n",
       "25%         NaN            2004-12-14 07:07:30          NaN   \n",
       "50%         NaN            2009-04-23 10:00:00          NaN   \n",
       "75%         NaN            2014-12-02 07:00:00          NaN   \n",
       "max         NaN            2022-07-27 23:35:00          NaN   \n",
       "std         NaN                            NaN          NaN   \n",
       "\n",
       "       Location Description   Arrest Domestic          Beat District  \\\n",
       "count               2275849  2278726  2278726  2.278726e+06  2278714   \n",
       "unique                  198        2        2           NaN       23   \n",
       "top                  STREET    False    False           NaN      8.0   \n",
       "freq                 590957  1675252  1965311           NaN   153684   \n",
       "mean                    NaN      NaN      NaN  1.186442e+03      NaN   \n",
       "min                     NaN      NaN      NaN  1.110000e+02      NaN   \n",
       "25%                     NaN      NaN      NaN  6.210000e+02      NaN   \n",
       "50%                     NaN      NaN      NaN  1.034000e+03      NaN   \n",
       "75%                     NaN      NaN      NaN  1.731000e+03      NaN   \n",
       "max                     NaN      NaN      NaN  2.535000e+03      NaN   \n",
       "std                     NaN      NaN      NaN  7.026836e+02      NaN   \n",
       "\n",
       "                Ward     Year      Latitude     Longitude  \n",
       "count   2.094031e+06  2278726  2.254741e+06  2.254741e+06  \n",
       "unique           NaN       22           NaN           NaN  \n",
       "top              NaN     2001           NaN           NaN  \n",
       "freq             NaN   146293           NaN           NaN  \n",
       "mean    2.272764e+01      NaN  4.184209e+01 -8.767161e+01  \n",
       "min     1.000000e+00      NaN  3.661945e+01 -9.168657e+01  \n",
       "25%     1.000000e+01      NaN  4.176866e+01 -8.771379e+01  \n",
       "50%     2.300000e+01      NaN  4.185578e+01 -8.766597e+01  \n",
       "75%     3.400000e+01      NaN  4.190668e+01 -8.762823e+01  \n",
       "max     5.000000e+01      NaN  4.202291e+01 -8.752453e+01  \n",
       "std     1.383464e+01      NaN  8.830434e-02  6.073538e-02  "
      ]
     },
     "execution_count": 23,
     "metadata": {},
     "output_type": "execute_result"
    }
   ],
   "source": [
    "# A summary statistics of each column\n",
    "chicago_crime_df.describe(include='all')"
   ]
  },
  {
   "cell_type": "code",
   "execution_count": 24,
   "id": "6f9daf5e",
   "metadata": {
    "ExecuteTime": {
     "end_time": "2024-03-16T20:39:50.256618Z",
     "start_time": "2024-03-16T20:39:50.228356Z"
    }
   },
   "outputs": [
    {
     "name": "stdout",
     "output_type": "stream",
     "text": [
      "<class 'pandas.core.frame.DataFrame'>\n",
      "RangeIndex: 2278726 entries, 0 to 2278725\n",
      "Data columns (total 12 columns):\n",
      " #   Column                Dtype         \n",
      "---  ------                -----         \n",
      " 0   ID                    string        \n",
      " 1   Date                  datetime64[ns]\n",
      " 2   Primary Type          object        \n",
      " 3   Location Description  object        \n",
      " 4   Arrest                bool          \n",
      " 5   Domestic              bool          \n",
      " 6   Beat                  int64         \n",
      " 7   District              string        \n",
      " 8   Ward                  float64       \n",
      " 9   Year                  string        \n",
      " 10  Latitude              float64       \n",
      " 11  Longitude             float64       \n",
      "dtypes: bool(2), datetime64[ns](1), float64(3), int64(1), object(2), string(3)\n",
      "memory usage: 178.2+ MB\n"
     ]
    }
   ],
   "source": [
    "chicago_crime_df.info()"
   ]
  },
  {
   "cell_type": "markdown",
   "id": "05ebe46f",
   "metadata": {},
   "source": [
    "__3. Handling missing values__"
   ]
  },
  {
   "cell_type": "code",
   "execution_count": 25,
   "id": "00593837",
   "metadata": {
    "ExecuteTime": {
     "end_time": "2024-03-16T20:39:52.883247Z",
     "start_time": "2024-03-16T20:39:52.213303Z"
    }
   },
   "outputs": [
    {
     "data": {
      "text/plain": [
       "ID                           0\n",
       "Date                         0\n",
       "Primary Type                 0\n",
       "Location Description      2877\n",
       "Arrest                       0\n",
       "Domestic                     0\n",
       "Beat                         0\n",
       "District                    12\n",
       "Ward                    184695\n",
       "Year                         0\n",
       "Latitude                 23985\n",
       "Longitude                23985\n",
       "dtype: int64"
      ]
     },
     "execution_count": 25,
     "metadata": {},
     "output_type": "execute_result"
    }
   ],
   "source": [
    "# checking missing value count\n",
    "chicago_crime_df.isnull().sum()"
   ]
  },
  {
   "cell_type": "code",
   "execution_count": 26,
   "id": "a291bd23",
   "metadata": {
    "ExecuteTime": {
     "end_time": "2024-03-16T20:39:53.702311Z",
     "start_time": "2024-03-16T20:39:53.681345Z"
    }
   },
   "outputs": [],
   "source": [
    "# # Missing Values\n",
    "\n",
    "# Function to calculate missing values by column\n",
    "def missing_values_table(df):\n",
    "        # Total missing values\n",
    "        mis_val = df.isnull().sum()\n",
    "        \n",
    "        # Percentage of missing values\n",
    "        mis_val_percent = 100 * df.isnull().sum() / len(df)\n",
    "        \n",
    "        # Make a table with the results\n",
    "        mis_val_table = pd.concat([mis_val, mis_val_percent], axis=1)\n",
    "        \n",
    "        # Rename the columns\n",
    "        mis_val_table_ren_columns = mis_val_table.rename(\n",
    "        columns = {0 : 'Missing Values', 1 : '% of Total Values'})\n",
    "        \n",
    "        # Sort the table by percentage of missing descending\n",
    "        mis_val_table_ren_columns = mis_val_table_ren_columns[\n",
    "            mis_val_table_ren_columns.iloc[:,1] != 0].sort_values(\n",
    "        '% of Total Values', ascending=False).round(1)\n",
    "        \n",
    "        # Print some summary information\n",
    "        print (\"Your selected dataframe has \" + str(df.shape[1]) + \" columns.\\n\"      \n",
    "            \"There are \" + str(mis_val_table_ren_columns.shape[0]) +\n",
    "              \" columns that have missing values.\")\n",
    "        \n",
    "        # Return the dataframe with missing information\n",
    "        return mis_val_table_ren_columns"
   ]
  },
  {
   "cell_type": "code",
   "execution_count": 27,
   "id": "b5f9dc16",
   "metadata": {
    "ExecuteTime": {
     "end_time": "2024-03-16T20:39:55.244841Z",
     "start_time": "2024-03-16T20:39:53.930915Z"
    }
   },
   "outputs": [
    {
     "name": "stdout",
     "output_type": "stream",
     "text": [
      "Your selected dataframe has 12 columns.\n",
      "There are 5 columns that have missing values.\n"
     ]
    },
    {
     "data": {
      "text/html": [
       "<div>\n",
       "<style scoped>\n",
       "    .dataframe tbody tr th:only-of-type {\n",
       "        vertical-align: middle;\n",
       "    }\n",
       "\n",
       "    .dataframe tbody tr th {\n",
       "        vertical-align: top;\n",
       "    }\n",
       "\n",
       "    .dataframe thead th {\n",
       "        text-align: right;\n",
       "    }\n",
       "</style>\n",
       "<table border=\"1\" class=\"dataframe\">\n",
       "  <thead>\n",
       "    <tr style=\"text-align: right;\">\n",
       "      <th></th>\n",
       "      <th>Missing Values</th>\n",
       "      <th>% of Total Values</th>\n",
       "    </tr>\n",
       "  </thead>\n",
       "  <tbody>\n",
       "    <tr>\n",
       "      <th>Ward</th>\n",
       "      <td>184695</td>\n",
       "      <td>8.1</td>\n",
       "    </tr>\n",
       "    <tr>\n",
       "      <th>Latitude</th>\n",
       "      <td>23985</td>\n",
       "      <td>1.1</td>\n",
       "    </tr>\n",
       "    <tr>\n",
       "      <th>Longitude</th>\n",
       "      <td>23985</td>\n",
       "      <td>1.1</td>\n",
       "    </tr>\n",
       "    <tr>\n",
       "      <th>Location Description</th>\n",
       "      <td>2877</td>\n",
       "      <td>0.1</td>\n",
       "    </tr>\n",
       "    <tr>\n",
       "      <th>District</th>\n",
       "      <td>12</td>\n",
       "      <td>0.0</td>\n",
       "    </tr>\n",
       "  </tbody>\n",
       "</table>\n",
       "</div>"
      ],
      "text/plain": [
       "                      Missing Values  % of Total Values\n",
       "Ward                          184695                8.1\n",
       "Latitude                       23985                1.1\n",
       "Longitude                      23985                1.1\n",
       "Location Description            2877                0.1\n",
       "District                          12                0.0"
      ]
     },
     "execution_count": 27,
     "metadata": {},
     "output_type": "execute_result"
    }
   ],
   "source": [
    "missing_values_table(chicago_crime_df)"
   ]
  },
  {
   "cell_type": "markdown",
   "id": "302c88b3",
   "metadata": {},
   "source": [
    "- __Handling Missing values for the District Column__\n",
    "\n",
    "We have just 12 missing value for the district column which is 0.0% of the entire dataset. We can decide to drop the row where location discription is missing or fill this row with the most crime location."
   ]
  },
  {
   "cell_type": "code",
   "execution_count": 28,
   "id": "7817faaf",
   "metadata": {
    "ExecuteTime": {
     "end_time": "2024-03-16T20:39:59.293324Z",
     "start_time": "2024-03-16T20:39:56.954935Z"
    }
   },
   "outputs": [],
   "source": [
    "# dropping the missing district column null value\n",
    "chicago_crime_df.dropna(subset=['District'],inplace=True) # i chose to drop this because the percentage NA is insignificant"
   ]
  },
  {
   "cell_type": "code",
   "execution_count": 29,
   "id": "645500d3",
   "metadata": {
    "ExecuteTime": {
     "end_time": "2024-03-16T20:39:59.745555Z",
     "start_time": "2024-03-16T20:39:59.425676Z"
    },
    "scrolled": true
   },
   "outputs": [
    {
     "data": {
      "text/plain": [
       "<StringArray>\n",
       "[ '4.0', '17.0', '11.0', '12.0',  '2.0', '15.0', '25.0', '14.0',  '8.0',\n",
       "  '6.0', '19.0',  '1.0',  '7.0', '20.0', '18.0',  '3.0',  '9.0', '22.0',\n",
       "  '5.0', '16.0', '10.0', '24.0', '31.0']\n",
       "Length: 23, dtype: string"
      ]
     },
     "execution_count": 29,
     "metadata": {},
     "output_type": "execute_result"
    }
   ],
   "source": [
    "chicago_crime_df.District.unique()"
   ]
  },
  {
   "cell_type": "code",
   "execution_count": 30,
   "id": "5d73551f",
   "metadata": {
    "ExecuteTime": {
     "end_time": "2024-03-16T20:40:01.322691Z",
     "start_time": "2024-03-16T20:40:00.307268Z"
    }
   },
   "outputs": [
    {
     "data": {
      "text/plain": [
       "ID                           0\n",
       "Date                         0\n",
       "Primary Type                 0\n",
       "Location Description      2877\n",
       "Arrest                       0\n",
       "Domestic                     0\n",
       "Beat                         0\n",
       "District                     0\n",
       "Ward                    184695\n",
       "Year                         0\n",
       "Latitude                 23985\n",
       "Longitude                23985\n",
       "dtype: int64"
      ]
     },
     "execution_count": 30,
     "metadata": {},
     "output_type": "execute_result"
    }
   ],
   "source": [
    "chicago_crime_df.isna().sum()"
   ]
  },
  {
   "cell_type": "markdown",
   "id": "b4067f5b",
   "metadata": {},
   "source": [
    "- __Handling Missing values for the ward Column__"
   ]
  },
  {
   "cell_type": "code",
   "execution_count": 31,
   "id": "f6fef0f0",
   "metadata": {
    "ExecuteTime": {
     "end_time": "2024-03-16T20:40:03.916823Z",
     "start_time": "2024-03-16T20:40:03.028901Z"
    }
   },
   "outputs": [
    {
     "data": {
      "text/plain": [
       "array([10.,  8., 39., 28., 27., nan, 29., 37., 26., 35., 14.,  1., 17.,\n",
       "        3., 44., 36.,  4.,  2.,  6.,  7., 40., 42., 20., 13., 11., 34.,\n",
       "       47., 33.,  9., 21., 45., 25., 24., 15., 16., 19., 43., 30., 23.,\n",
       "       32., 31., 22., 50., 49.,  5., 46., 12., 41., 38., 18., 48.])"
      ]
     },
     "execution_count": 31,
     "metadata": {},
     "output_type": "execute_result"
    }
   ],
   "source": [
    "chicago_crime_df.Ward.unique()"
   ]
  },
  {
   "cell_type": "code",
   "execution_count": 32,
   "id": "793ffaa1",
   "metadata": {
    "ExecuteTime": {
     "end_time": "2024-03-16T20:40:04.311095Z",
     "start_time": "2024-03-16T20:40:04.093615Z"
    }
   },
   "outputs": [
    {
     "data": {
      "text/plain": [
       "Ward\n",
       "28.0    96420\n",
       "42.0    86333\n",
       "24.0    82190\n",
       "27.0    78349\n",
       "2.0     75359\n",
       "17.0    69649\n",
       "6.0     68751\n",
       "20.0    68496\n",
       "3.0     64138\n",
       "21.0    63369\n",
       "16.0    60300\n",
       "34.0    59038\n",
       "8.0     57588\n",
       "7.0     57245\n",
       "37.0    57061\n",
       "15.0    55134\n",
       "9.0     53649\n",
       "5.0     50105\n",
       "29.0    48944\n",
       "4.0     40958\n",
       "1.0     40334\n",
       "26.0    35671\n",
       "10.0    35620\n",
       "18.0    34830\n",
       "32.0    34789\n",
       "25.0    30145\n",
       "49.0    29718\n",
       "44.0    29124\n",
       "31.0    28752\n",
       "30.0    28652\n",
       "11.0    28602\n",
       "14.0    28045\n",
       "46.0    27826\n",
       "35.0    27228\n",
       "23.0    26978\n",
       "43.0    25899\n",
       "13.0    25882\n",
       "12.0    25474\n",
       "22.0    24455\n",
       "41.0    22248\n",
       "36.0    22009\n",
       "38.0    21998\n",
       "40.0    21864\n",
       "47.0    21654\n",
       "50.0    21618\n",
       "45.0    21375\n",
       "48.0    20888\n",
       "33.0    20828\n",
       "39.0    19650\n",
       "19.0    18787\n",
       "Name: count, dtype: int64"
      ]
     },
     "execution_count": 32,
     "metadata": {},
     "output_type": "execute_result"
    }
   ],
   "source": [
    "chicago_crime_df['Ward'].value_counts()"
   ]
  },
  {
   "cell_type": "code",
   "execution_count": 33,
   "id": "46ac6c48",
   "metadata": {
    "ExecuteTime": {
     "end_time": "2024-03-16T20:40:06.174336Z",
     "start_time": "2024-03-16T20:40:05.056075Z"
    }
   },
   "outputs": [],
   "source": [
    "# Using the mode to fill up the most common Ward, then replace it with the current Ward column\n",
    "most_fq_ward = chicago_crime_df.Ward.mode()[0] # indexing the mode to get the value as it returns a series\n",
    "chicago_crime_df.Ward = chicago_crime_df.Ward.fillna(most_fq_ward)"
   ]
  },
  {
   "cell_type": "code",
   "execution_count": 34,
   "id": "250ffe9f",
   "metadata": {
    "ExecuteTime": {
     "end_time": "2024-03-16T20:40:06.895662Z",
     "start_time": "2024-03-16T20:40:06.236566Z"
    }
   },
   "outputs": [
    {
     "data": {
      "text/plain": [
       "ID                          0\n",
       "Date                        0\n",
       "Primary Type                0\n",
       "Location Description     2877\n",
       "Arrest                      0\n",
       "Domestic                    0\n",
       "Beat                        0\n",
       "District                    0\n",
       "Ward                        0\n",
       "Year                        0\n",
       "Latitude                23985\n",
       "Longitude               23985\n",
       "dtype: int64"
      ]
     },
     "execution_count": 34,
     "metadata": {},
     "output_type": "execute_result"
    }
   ],
   "source": [
    "chicago_crime_df.isna().sum()"
   ]
  },
  {
   "cell_type": "markdown",
   "id": "1e1084da",
   "metadata": {},
   "source": [
    "- __Handling Missing values for the latitude and Longitude Column__ (Using Assosciation and forward fill) <br>\n",
    "    \n",
    "The assumption here is that the latitude and longitude readings are points that show exact location, are closer to each other within a district. If they are, we can group our data by districts and fill up missing Latitide and longitude values by using median or mode."
   ]
  },
  {
   "cell_type": "code",
   "execution_count": 35,
   "id": "5e9541f2",
   "metadata": {
    "ExecuteTime": {
     "end_time": "2024-03-16T20:40:10.270188Z",
     "start_time": "2024-03-16T20:40:06.987516Z"
    }
   },
   "outputs": [
    {
     "data": {
      "text/plain": [
       "District  Longitude   Latitude \n",
       "1.0       -87.776059  41.933944    1\n",
       "          -87.645624  41.881909    4\n",
       "          -87.645320  41.885582    2\n",
       "          -87.645301  41.878079    1\n",
       "          -87.645121  41.885586    1\n",
       "                                  ..\n",
       "9.0       -87.629908  41.841907    2\n",
       "          -87.629885  41.851065    1\n",
       "          -87.629854  41.831072    1\n",
       "          -87.614200  41.831200    1\n",
       "          -87.613504  41.823880    1\n",
       "Length: 548193, dtype: int64"
      ]
     },
     "execution_count": 35,
     "metadata": {},
     "output_type": "execute_result"
    }
   ],
   "source": [
    "chicago_crime_df.groupby(['District', 'Longitude', 'Latitude']).size()"
   ]
  },
  {
   "cell_type": "markdown",
   "id": "11138dc3",
   "metadata": {},
   "source": [
    "There appears to be closeness in Latitude points when data is grouped based on districts, we can group based on district and fill up by taking the median."
   ]
  },
  {
   "cell_type": "code",
   "execution_count": 36,
   "id": "af6a82c7",
   "metadata": {
    "ExecuteTime": {
     "end_time": "2024-03-16T20:40:39.952328Z",
     "start_time": "2024-03-16T20:40:36.465632Z"
    }
   },
   "outputs": [],
   "source": [
    "chicago_crime_df['Latitude'] = chicago_crime_df.groupby('District')['Latitude'].transform(lambda x: x.fillna(x.median()))\n",
    "chicago_crime_df['Longitude'] = chicago_crime_df.groupby('District')['Longitude'].transform(lambda x: x.fillna(x.median()))"
   ]
  },
  {
   "cell_type": "code",
   "execution_count": 47,
   "id": "90f0c0e7",
   "metadata": {
    "ExecuteTime": {
     "end_time": "2024-03-16T20:45:28.288584Z",
     "start_time": "2024-03-16T20:45:27.603477Z"
    }
   },
   "outputs": [
    {
     "data": {
      "text/plain": [
       "ID                      0\n",
       "Date                    0\n",
       "Primary Type            0\n",
       "Location Description    0\n",
       "Arrest                  0\n",
       "Domestic                0\n",
       "Beat                    0\n",
       "District                0\n",
       "Ward                    0\n",
       "Year                    0\n",
       "Latitude                0\n",
       "Longitude               0\n",
       "dtype: int64"
      ]
     },
     "execution_count": 47,
     "metadata": {},
     "output_type": "execute_result"
    }
   ],
   "source": [
    "chicago_crime_df.isna().sum()"
   ]
  },
  {
   "cell_type": "markdown",
   "id": "2e594257",
   "metadata": {},
   "source": [
    "- __Handling Missing values for the Location Description__"
   ]
  },
  {
   "cell_type": "markdown",
   "id": "b1f25282",
   "metadata": {
    "ExecuteTime": {
     "end_time": "2024-03-10T09:48:29.963487Z",
     "start_time": "2024-03-10T09:48:28.719078Z"
    }
   },
   "source": [
    "We have just 2877 missing value for the location description which is 0.1% of the entire dataset. We can decide to drop the row where location decription is missing or fill this row with the most crime location."
   ]
  },
  {
   "cell_type": "code",
   "execution_count": 43,
   "id": "24f97b68",
   "metadata": {
    "ExecuteTime": {
     "end_time": "2024-03-16T20:44:21.898181Z",
     "start_time": "2024-03-16T20:44:21.114411Z"
    }
   },
   "outputs": [],
   "source": [
    "# dropping the missing location description index row\n",
    "chicago_crime_df.dropna(subset=['Location Description'],inplace=True) "
   ]
  },
  {
   "cell_type": "code",
   "execution_count": 44,
   "id": "55fd2665",
   "metadata": {
    "ExecuteTime": {
     "end_time": "2024-03-16T20:44:23.068644Z",
     "start_time": "2024-03-16T20:44:22.500064Z"
    }
   },
   "outputs": [
    {
     "data": {
      "text/plain": [
       "ID                      0\n",
       "Date                    0\n",
       "Primary Type            0\n",
       "Location Description    0\n",
       "Arrest                  0\n",
       "Domestic                0\n",
       "Beat                    0\n",
       "District                0\n",
       "Ward                    0\n",
       "Year                    0\n",
       "Latitude                0\n",
       "Longitude               0\n",
       "dtype: int64"
      ]
     },
     "execution_count": 44,
     "metadata": {},
     "output_type": "execute_result"
    }
   ],
   "source": [
    "chicago_crime_df.isna().sum()"
   ]
  },
  {
   "cell_type": "markdown",
   "id": "cb3d6c5b",
   "metadata": {},
   "source": [
    "# EDA: Data Exploration"
   ]
  },
  {
   "cell_type": "code",
   "execution_count": null,
   "id": "3ba3509b",
   "metadata": {},
   "outputs": [],
   "source": [
    "# Try to find the correlation of the columns "
   ]
  },
  {
   "cell_type": "code",
   "execution_count": 45,
   "id": "d80f8c5c",
   "metadata": {
    "ExecuteTime": {
     "end_time": "2024-03-16T20:44:40.097289Z",
     "start_time": "2024-03-16T20:44:28.107254Z"
    }
   },
   "outputs": [
    {
     "ename": "ValueError",
     "evalue": "could not convert string to float: 'CRIMINAL DAMAGE'",
     "output_type": "error",
     "traceback": [
      "\u001b[1;31m---------------------------------------------------------------------------\u001b[0m",
      "\u001b[1;31mValueError\u001b[0m                                Traceback (most recent call last)",
      "Cell \u001b[1;32mIn[45], line 1\u001b[0m\n\u001b[1;32m----> 1\u001b[0m chicago_crime_df\u001b[38;5;241m.\u001b[39mcorr()\n",
      "File \u001b[1;32m~\\anaconda3\\Lib\\site-packages\\pandas\\core\\frame.py:10054\u001b[0m, in \u001b[0;36mDataFrame.corr\u001b[1;34m(self, method, min_periods, numeric_only)\u001b[0m\n\u001b[0;32m  10052\u001b[0m cols \u001b[38;5;241m=\u001b[39m data\u001b[38;5;241m.\u001b[39mcolumns\n\u001b[0;32m  10053\u001b[0m idx \u001b[38;5;241m=\u001b[39m cols\u001b[38;5;241m.\u001b[39mcopy()\n\u001b[1;32m> 10054\u001b[0m mat \u001b[38;5;241m=\u001b[39m data\u001b[38;5;241m.\u001b[39mto_numpy(dtype\u001b[38;5;241m=\u001b[39m\u001b[38;5;28mfloat\u001b[39m, na_value\u001b[38;5;241m=\u001b[39mnp\u001b[38;5;241m.\u001b[39mnan, copy\u001b[38;5;241m=\u001b[39m\u001b[38;5;28;01mFalse\u001b[39;00m)\n\u001b[0;32m  10056\u001b[0m \u001b[38;5;28;01mif\u001b[39;00m method \u001b[38;5;241m==\u001b[39m \u001b[38;5;124m\"\u001b[39m\u001b[38;5;124mpearson\u001b[39m\u001b[38;5;124m\"\u001b[39m:\n\u001b[0;32m  10057\u001b[0m     correl \u001b[38;5;241m=\u001b[39m libalgos\u001b[38;5;241m.\u001b[39mnancorr(mat, minp\u001b[38;5;241m=\u001b[39mmin_periods)\n",
      "File \u001b[1;32m~\\anaconda3\\Lib\\site-packages\\pandas\\core\\frame.py:1838\u001b[0m, in \u001b[0;36mDataFrame.to_numpy\u001b[1;34m(self, dtype, copy, na_value)\u001b[0m\n\u001b[0;32m   1836\u001b[0m \u001b[38;5;28;01mif\u001b[39;00m dtype \u001b[38;5;129;01mis\u001b[39;00m \u001b[38;5;129;01mnot\u001b[39;00m \u001b[38;5;28;01mNone\u001b[39;00m:\n\u001b[0;32m   1837\u001b[0m     dtype \u001b[38;5;241m=\u001b[39m np\u001b[38;5;241m.\u001b[39mdtype(dtype)\n\u001b[1;32m-> 1838\u001b[0m result \u001b[38;5;241m=\u001b[39m \u001b[38;5;28mself\u001b[39m\u001b[38;5;241m.\u001b[39m_mgr\u001b[38;5;241m.\u001b[39mas_array(dtype\u001b[38;5;241m=\u001b[39mdtype, copy\u001b[38;5;241m=\u001b[39mcopy, na_value\u001b[38;5;241m=\u001b[39mna_value)\n\u001b[0;32m   1839\u001b[0m \u001b[38;5;28;01mif\u001b[39;00m result\u001b[38;5;241m.\u001b[39mdtype \u001b[38;5;129;01mis\u001b[39;00m \u001b[38;5;129;01mnot\u001b[39;00m dtype:\n\u001b[0;32m   1840\u001b[0m     result \u001b[38;5;241m=\u001b[39m np\u001b[38;5;241m.\u001b[39marray(result, dtype\u001b[38;5;241m=\u001b[39mdtype, copy\u001b[38;5;241m=\u001b[39m\u001b[38;5;28;01mFalse\u001b[39;00m)\n",
      "File \u001b[1;32m~\\anaconda3\\Lib\\site-packages\\pandas\\core\\internals\\managers.py:1732\u001b[0m, in \u001b[0;36mBlockManager.as_array\u001b[1;34m(self, dtype, copy, na_value)\u001b[0m\n\u001b[0;32m   1730\u001b[0m         arr\u001b[38;5;241m.\u001b[39mflags\u001b[38;5;241m.\u001b[39mwriteable \u001b[38;5;241m=\u001b[39m \u001b[38;5;28;01mFalse\u001b[39;00m\n\u001b[0;32m   1731\u001b[0m \u001b[38;5;28;01melse\u001b[39;00m:\n\u001b[1;32m-> 1732\u001b[0m     arr \u001b[38;5;241m=\u001b[39m \u001b[38;5;28mself\u001b[39m\u001b[38;5;241m.\u001b[39m_interleave(dtype\u001b[38;5;241m=\u001b[39mdtype, na_value\u001b[38;5;241m=\u001b[39mna_value)\n\u001b[0;32m   1733\u001b[0m     \u001b[38;5;66;03m# The underlying data was copied within _interleave, so no need\u001b[39;00m\n\u001b[0;32m   1734\u001b[0m     \u001b[38;5;66;03m# to further copy if copy=True or setting na_value\u001b[39;00m\n\u001b[0;32m   1736\u001b[0m \u001b[38;5;28;01mif\u001b[39;00m na_value \u001b[38;5;129;01mis\u001b[39;00m \u001b[38;5;129;01mnot\u001b[39;00m lib\u001b[38;5;241m.\u001b[39mno_default:\n",
      "File \u001b[1;32m~\\anaconda3\\Lib\\site-packages\\pandas\\core\\internals\\managers.py:1794\u001b[0m, in \u001b[0;36mBlockManager._interleave\u001b[1;34m(self, dtype, na_value)\u001b[0m\n\u001b[0;32m   1792\u001b[0m     \u001b[38;5;28;01melse\u001b[39;00m:\n\u001b[0;32m   1793\u001b[0m         arr \u001b[38;5;241m=\u001b[39m blk\u001b[38;5;241m.\u001b[39mget_values(dtype)\n\u001b[1;32m-> 1794\u001b[0m     result[rl\u001b[38;5;241m.\u001b[39mindexer] \u001b[38;5;241m=\u001b[39m arr\n\u001b[0;32m   1795\u001b[0m     itemmask[rl\u001b[38;5;241m.\u001b[39mindexer] \u001b[38;5;241m=\u001b[39m \u001b[38;5;241m1\u001b[39m\n\u001b[0;32m   1797\u001b[0m \u001b[38;5;28;01mif\u001b[39;00m \u001b[38;5;129;01mnot\u001b[39;00m itemmask\u001b[38;5;241m.\u001b[39mall():\n",
      "\u001b[1;31mValueError\u001b[0m: could not convert string to float: 'CRIMINAL DAMAGE'"
     ]
    }
   ],
   "source": [
    "chicago_crime_df.corr()"
   ]
  },
  {
   "cell_type": "code",
   "execution_count": 46,
   "id": "e90f8efc",
   "metadata": {
    "ExecuteTime": {
     "end_time": "2024-03-16T20:45:07.108981Z",
     "start_time": "2024-03-16T20:45:06.045141Z"
    }
   },
   "outputs": [
    {
     "ename": "ValueError",
     "evalue": "could not convert string to float: 'CRIMINAL DAMAGE'",
     "output_type": "error",
     "traceback": [
      "\u001b[1;31m---------------------------------------------------------------------------\u001b[0m",
      "\u001b[1;31mValueError\u001b[0m                                Traceback (most recent call last)",
      "Cell \u001b[1;32mIn[46], line 1\u001b[0m\n\u001b[1;32m----> 1\u001b[0m heatmap \u001b[38;5;241m=\u001b[39m sns\u001b[38;5;241m.\u001b[39mheatmap(chicago_crime_df\u001b[38;5;241m.\u001b[39mcorr(), vmin\u001b[38;5;241m=\u001b[39m\u001b[38;5;241m-\u001b[39m\u001b[38;5;241m1\u001b[39m, annot\u001b[38;5;241m=\u001b[39m\u001b[38;5;28;01mTrue\u001b[39;00m)\n\u001b[0;32m      2\u001b[0m heatmap\u001b[38;5;241m.\u001b[39mset_title(\u001b[38;5;124m'\u001b[39m\u001b[38;5;124mChicago Crime Correlation\u001b[39m\u001b[38;5;124m'\u001b[39m, fontdict\u001b[38;5;241m=\u001b[39m{\u001b[38;5;124m'\u001b[39m\u001b[38;5;124mfontsize\u001b[39m\u001b[38;5;124m'\u001b[39m:\u001b[38;5;241m14\u001b[39m}, pad\u001b[38;5;241m=\u001b[39m\u001b[38;5;241m10\u001b[39m)\n",
      "File \u001b[1;32m~\\anaconda3\\Lib\\site-packages\\pandas\\core\\frame.py:10054\u001b[0m, in \u001b[0;36mDataFrame.corr\u001b[1;34m(self, method, min_periods, numeric_only)\u001b[0m\n\u001b[0;32m  10052\u001b[0m cols \u001b[38;5;241m=\u001b[39m data\u001b[38;5;241m.\u001b[39mcolumns\n\u001b[0;32m  10053\u001b[0m idx \u001b[38;5;241m=\u001b[39m cols\u001b[38;5;241m.\u001b[39mcopy()\n\u001b[1;32m> 10054\u001b[0m mat \u001b[38;5;241m=\u001b[39m data\u001b[38;5;241m.\u001b[39mto_numpy(dtype\u001b[38;5;241m=\u001b[39m\u001b[38;5;28mfloat\u001b[39m, na_value\u001b[38;5;241m=\u001b[39mnp\u001b[38;5;241m.\u001b[39mnan, copy\u001b[38;5;241m=\u001b[39m\u001b[38;5;28;01mFalse\u001b[39;00m)\n\u001b[0;32m  10056\u001b[0m \u001b[38;5;28;01mif\u001b[39;00m method \u001b[38;5;241m==\u001b[39m \u001b[38;5;124m\"\u001b[39m\u001b[38;5;124mpearson\u001b[39m\u001b[38;5;124m\"\u001b[39m:\n\u001b[0;32m  10057\u001b[0m     correl \u001b[38;5;241m=\u001b[39m libalgos\u001b[38;5;241m.\u001b[39mnancorr(mat, minp\u001b[38;5;241m=\u001b[39mmin_periods)\n",
      "File \u001b[1;32m~\\anaconda3\\Lib\\site-packages\\pandas\\core\\frame.py:1838\u001b[0m, in \u001b[0;36mDataFrame.to_numpy\u001b[1;34m(self, dtype, copy, na_value)\u001b[0m\n\u001b[0;32m   1836\u001b[0m \u001b[38;5;28;01mif\u001b[39;00m dtype \u001b[38;5;129;01mis\u001b[39;00m \u001b[38;5;129;01mnot\u001b[39;00m \u001b[38;5;28;01mNone\u001b[39;00m:\n\u001b[0;32m   1837\u001b[0m     dtype \u001b[38;5;241m=\u001b[39m np\u001b[38;5;241m.\u001b[39mdtype(dtype)\n\u001b[1;32m-> 1838\u001b[0m result \u001b[38;5;241m=\u001b[39m \u001b[38;5;28mself\u001b[39m\u001b[38;5;241m.\u001b[39m_mgr\u001b[38;5;241m.\u001b[39mas_array(dtype\u001b[38;5;241m=\u001b[39mdtype, copy\u001b[38;5;241m=\u001b[39mcopy, na_value\u001b[38;5;241m=\u001b[39mna_value)\n\u001b[0;32m   1839\u001b[0m \u001b[38;5;28;01mif\u001b[39;00m result\u001b[38;5;241m.\u001b[39mdtype \u001b[38;5;129;01mis\u001b[39;00m \u001b[38;5;129;01mnot\u001b[39;00m dtype:\n\u001b[0;32m   1840\u001b[0m     result \u001b[38;5;241m=\u001b[39m np\u001b[38;5;241m.\u001b[39marray(result, dtype\u001b[38;5;241m=\u001b[39mdtype, copy\u001b[38;5;241m=\u001b[39m\u001b[38;5;28;01mFalse\u001b[39;00m)\n",
      "File \u001b[1;32m~\\anaconda3\\Lib\\site-packages\\pandas\\core\\internals\\managers.py:1732\u001b[0m, in \u001b[0;36mBlockManager.as_array\u001b[1;34m(self, dtype, copy, na_value)\u001b[0m\n\u001b[0;32m   1730\u001b[0m         arr\u001b[38;5;241m.\u001b[39mflags\u001b[38;5;241m.\u001b[39mwriteable \u001b[38;5;241m=\u001b[39m \u001b[38;5;28;01mFalse\u001b[39;00m\n\u001b[0;32m   1731\u001b[0m \u001b[38;5;28;01melse\u001b[39;00m:\n\u001b[1;32m-> 1732\u001b[0m     arr \u001b[38;5;241m=\u001b[39m \u001b[38;5;28mself\u001b[39m\u001b[38;5;241m.\u001b[39m_interleave(dtype\u001b[38;5;241m=\u001b[39mdtype, na_value\u001b[38;5;241m=\u001b[39mna_value)\n\u001b[0;32m   1733\u001b[0m     \u001b[38;5;66;03m# The underlying data was copied within _interleave, so no need\u001b[39;00m\n\u001b[0;32m   1734\u001b[0m     \u001b[38;5;66;03m# to further copy if copy=True or setting na_value\u001b[39;00m\n\u001b[0;32m   1736\u001b[0m \u001b[38;5;28;01mif\u001b[39;00m na_value \u001b[38;5;129;01mis\u001b[39;00m \u001b[38;5;129;01mnot\u001b[39;00m lib\u001b[38;5;241m.\u001b[39mno_default:\n",
      "File \u001b[1;32m~\\anaconda3\\Lib\\site-packages\\pandas\\core\\internals\\managers.py:1794\u001b[0m, in \u001b[0;36mBlockManager._interleave\u001b[1;34m(self, dtype, na_value)\u001b[0m\n\u001b[0;32m   1792\u001b[0m     \u001b[38;5;28;01melse\u001b[39;00m:\n\u001b[0;32m   1793\u001b[0m         arr \u001b[38;5;241m=\u001b[39m blk\u001b[38;5;241m.\u001b[39mget_values(dtype)\n\u001b[1;32m-> 1794\u001b[0m     result[rl\u001b[38;5;241m.\u001b[39mindexer] \u001b[38;5;241m=\u001b[39m arr\n\u001b[0;32m   1795\u001b[0m     itemmask[rl\u001b[38;5;241m.\u001b[39mindexer] \u001b[38;5;241m=\u001b[39m \u001b[38;5;241m1\u001b[39m\n\u001b[0;32m   1797\u001b[0m \u001b[38;5;28;01mif\u001b[39;00m \u001b[38;5;129;01mnot\u001b[39;00m itemmask\u001b[38;5;241m.\u001b[39mall():\n",
      "\u001b[1;31mValueError\u001b[0m: could not convert string to float: 'CRIMINAL DAMAGE'"
     ]
    }
   ],
   "source": [
    "heatmap = sns.heatmap(chicago_crime_df.corr(), vmin=-1, annot=True)\n",
    "heatmap.set_title('Chicago Crime Correlation', fontdict={'fontsize':14}, pad=10)"
   ]
  },
  {
   "cell_type": "markdown",
   "id": "1eba84dd",
   "metadata": {},
   "source": [
    "**_Observation_**\n",
    "1. There is a negative correlation between Arrest, Domestic crime(i.e if the arrest was local or not) and the beats or ward\n",
    "2. The Beat and Ward are positively correlated."
   ]
  },
  {
   "cell_type": "code",
   "execution_count": 48,
   "id": "46d38420",
   "metadata": {
    "ExecuteTime": {
     "end_time": "2024-03-16T20:46:10.860728Z",
     "start_time": "2024-03-16T20:46:10.231113Z"
    }
   },
   "outputs": [
    {
     "data": {
      "text/html": [
       "<div>\n",
       "<style scoped>\n",
       "    .dataframe tbody tr th:only-of-type {\n",
       "        vertical-align: middle;\n",
       "    }\n",
       "\n",
       "    .dataframe tbody tr th {\n",
       "        vertical-align: top;\n",
       "    }\n",
       "\n",
       "    .dataframe thead th {\n",
       "        text-align: right;\n",
       "    }\n",
       "</style>\n",
       "<table border=\"1\" class=\"dataframe\">\n",
       "  <thead>\n",
       "    <tr style=\"text-align: right;\">\n",
       "      <th></th>\n",
       "      <th>Primary Type</th>\n",
       "      <th>Arrest</th>\n",
       "      <th>Domestic</th>\n",
       "      <th>Crime Count</th>\n",
       "    </tr>\n",
       "  </thead>\n",
       "  <tbody>\n",
       "    <tr>\n",
       "      <th>0</th>\n",
       "      <td>THEFT</td>\n",
       "      <td>False</td>\n",
       "      <td>False</td>\n",
       "      <td>412869</td>\n",
       "    </tr>\n",
       "    <tr>\n",
       "      <th>1</th>\n",
       "      <td>CRIMINAL DAMAGE</td>\n",
       "      <td>False</td>\n",
       "      <td>False</td>\n",
       "      <td>223322</td>\n",
       "    </tr>\n",
       "    <tr>\n",
       "      <th>2</th>\n",
       "      <td>NARCOTICS</td>\n",
       "      <td>True</td>\n",
       "      <td>False</td>\n",
       "      <td>221449</td>\n",
       "    </tr>\n",
       "    <tr>\n",
       "      <th>3</th>\n",
       "      <td>BATTERY</td>\n",
       "      <td>False</td>\n",
       "      <td>False</td>\n",
       "      <td>183724</td>\n",
       "    </tr>\n",
       "    <tr>\n",
       "      <th>4</th>\n",
       "      <td>BATTERY</td>\n",
       "      <td>False</td>\n",
       "      <td>True</td>\n",
       "      <td>142300</td>\n",
       "    </tr>\n",
       "    <tr>\n",
       "      <th>...</th>\n",
       "      <td>...</td>\n",
       "      <td>...</td>\n",
       "      <td>...</td>\n",
       "      <td>...</td>\n",
       "    </tr>\n",
       "    <tr>\n",
       "      <th>116</th>\n",
       "      <td>NARCOTICS</td>\n",
       "      <td>False</td>\n",
       "      <td>True</td>\n",
       "      <td>3</td>\n",
       "    </tr>\n",
       "    <tr>\n",
       "      <th>117</th>\n",
       "      <td>NON-CRIMINAL (SUBJECT SPECIFIED)</td>\n",
       "      <td>False</td>\n",
       "      <td>True</td>\n",
       "      <td>2</td>\n",
       "    </tr>\n",
       "    <tr>\n",
       "      <th>118</th>\n",
       "      <td>NON - CRIMINAL</td>\n",
       "      <td>True</td>\n",
       "      <td>False</td>\n",
       "      <td>2</td>\n",
       "    </tr>\n",
       "    <tr>\n",
       "      <th>119</th>\n",
       "      <td>PUBLIC INDECENCY</td>\n",
       "      <td>True</td>\n",
       "      <td>True</td>\n",
       "      <td>1</td>\n",
       "    </tr>\n",
       "    <tr>\n",
       "      <th>120</th>\n",
       "      <td>RITUALISM</td>\n",
       "      <td>True</td>\n",
       "      <td>True</td>\n",
       "      <td>1</td>\n",
       "    </tr>\n",
       "  </tbody>\n",
       "</table>\n",
       "<p>121 rows × 4 columns</p>\n",
       "</div>"
      ],
      "text/plain": [
       "                         Primary Type  Arrest  Domestic  Crime Count\n",
       "0                               THEFT   False     False       412869\n",
       "1                     CRIMINAL DAMAGE   False     False       223322\n",
       "2                           NARCOTICS    True     False       221449\n",
       "3                             BATTERY   False     False       183724\n",
       "4                             BATTERY   False      True       142300\n",
       "..                                ...     ...       ...          ...\n",
       "116                         NARCOTICS   False      True            3\n",
       "117  NON-CRIMINAL (SUBJECT SPECIFIED)   False      True            2\n",
       "118                    NON - CRIMINAL    True     False            2\n",
       "119                  PUBLIC INDECENCY    True      True            1\n",
       "120                         RITUALISM    True      True            1\n",
       "\n",
       "[121 rows x 4 columns]"
      ]
     },
     "execution_count": 48,
     "metadata": {},
     "output_type": "execute_result"
    }
   ],
   "source": [
    "chicago_crime_df.groupby(['Primary Type', 'Arrest','Domestic']).size().sort_values(ascending=False).reset_index().rename(columns={0:'Crime Count'})"
   ]
  },
  {
   "cell_type": "code",
   "execution_count": 49,
   "id": "0e555df3",
   "metadata": {
    "ExecuteTime": {
     "end_time": "2024-03-16T20:46:16.959664Z",
     "start_time": "2024-03-16T20:46:11.686225Z"
    }
   },
   "outputs": [
    {
     "data": {
      "text/plain": [
       "<Axes: xlabel='Primary Type', ylabel='count'>"
      ]
     },
     "execution_count": 49,
     "metadata": {},
     "output_type": "execute_result"
    },
    {
     "data": {
      "image/png": "[encoded data removed]",
      "text/plain": [
       "<Figure size 1200x600 with 1 Axes>"
      ]
     },
     "metadata": {},
     "output_type": "display_data"
    }
   ],
   "source": [
    "plt.figure(figsize=(12, 6))\n",
    "sns.countplot(x='Primary Type', hue='Arrest', data=chicago_crime_df[:8])"
   ]
  },
  {
   "cell_type": "markdown",
   "id": "c4503495",
   "metadata": {},
   "source": [
    "# 4. Feature Engineering\n",
    "\n",
    "Create new columns for Months, Day, and Season"
   ]
  },
  {
   "cell_type": "markdown",
   "id": "4841fc8b",
   "metadata": {},
   "source": [
    "__Creating month column__"
   ]
  },
  {
   "cell_type": "code",
   "execution_count": 50,
   "id": "c1a5e50e",
   "metadata": {
    "ExecuteTime": {
     "end_time": "2024-03-16T20:46:17.015789Z",
     "start_time": "2024-03-16T20:46:17.001309Z"
    }
   },
   "outputs": [],
   "source": [
    "# Create new columns for Months\n",
    "def extract_and_map_month(date):\n",
    "    # Ensure Date column have been converted to datetime format\n",
    "    month_names = chicago_crime_df['Date'].dt.month_name()\n",
    "# dt is an attribute of the date column object\n",
    "# month_name() is a method\n",
    "    return month_names"
   ]
  },
  {
   "cell_type": "code",
   "execution_count": 51,
   "id": "76b03e42",
   "metadata": {
    "ExecuteTime": {
     "end_time": "2024-03-16T20:46:21.259747Z",
     "start_time": "2024-03-16T20:46:20.187196Z"
    }
   },
   "outputs": [],
   "source": [
    "chicago_crime_df['Month'] = extract_and_map_month(chicago_crime_df['Date'])"
   ]
  },
  {
   "cell_type": "markdown",
   "id": "f0d7b57d",
   "metadata": {},
   "source": [
    "__Creating Day Column__"
   ]
  },
  {
   "cell_type": "code",
   "execution_count": 52,
   "id": "0d43b62f",
   "metadata": {
    "ExecuteTime": {
     "end_time": "2024-03-16T20:46:22.013073Z",
     "start_time": "2024-03-16T20:46:21.995664Z"
    }
   },
   "outputs": [],
   "source": [
    "# Create new columns for Day\n",
    "def extract_and_map_month(date):\n",
    "    # ensure the input is in datetime format\n",
    "    day_names = chicago_crime_df['Date'].dt.day_name()\n",
    "# dt is an attribute of the date column object\n",
    "# month_name() is a method\n",
    "    return day_names"
   ]
  },
  {
   "cell_type": "code",
   "execution_count": 53,
   "id": "011a5731",
   "metadata": {
    "ExecuteTime": {
     "end_time": "2024-03-16T20:46:23.902298Z",
     "start_time": "2024-03-16T20:46:22.801033Z"
    }
   },
   "outputs": [],
   "source": [
    "chicago_crime_df['Day'] = extract_and_map_month(chicago_crime_df['Date'])"
   ]
  },
  {
   "cell_type": "markdown",
   "id": "ee31e1e2",
   "metadata": {},
   "source": [
    "__Creating Seasons column__"
   ]
  },
  {
   "cell_type": "code",
   "execution_count": 54,
   "id": "03f3d125",
   "metadata": {
    "ExecuteTime": {
     "end_time": "2024-03-16T20:46:24.913249Z",
     "start_time": "2024-03-16T20:46:24.904517Z"
    }
   },
   "outputs": [],
   "source": [
    "# Function to define various month and their corresponding season\n",
    "def get_season(month):\n",
    "    if month in ['December','January','February']:\n",
    "        return 'Winter'\n",
    "    elif month in ['March','April','May']:\n",
    "        return 'Spring'\n",
    "    elif month in ['June','July','August']:\n",
    "        return 'Summer'\n",
    "    else:\n",
    "        return 'Fall'"
   ]
  },
  {
   "cell_type": "code",
   "execution_count": 55,
   "id": "ece128c8",
   "metadata": {
    "ExecuteTime": {
     "end_time": "2024-03-16T20:46:26.654073Z",
     "start_time": "2024-03-16T20:46:25.546981Z"
    }
   },
   "outputs": [],
   "source": [
    "chicago_crime_df['Season'] = chicago_crime_df['Month'].apply(get_season)"
   ]
  },
  {
   "cell_type": "code",
   "execution_count": 56,
   "id": "82a74881",
   "metadata": {
    "ExecuteTime": {
     "end_time": "2024-03-16T20:46:27.205491Z",
     "start_time": "2024-03-16T20:46:27.159584Z"
    },
    "scrolled": true
   },
   "outputs": [
    {
     "data": {
      "text/html": [
       "<div>\n",
       "<style scoped>\n",
       "    .dataframe tbody tr th:only-of-type {\n",
       "        vertical-align: middle;\n",
       "    }\n",
       "\n",
       "    .dataframe tbody tr th {\n",
       "        vertical-align: top;\n",
       "    }\n",
       "\n",
       "    .dataframe thead th {\n",
       "        text-align: right;\n",
       "    }\n",
       "</style>\n",
       "<table border=\"1\" class=\"dataframe\">\n",
       "  <thead>\n",
       "    <tr style=\"text-align: right;\">\n",
       "      <th></th>\n",
       "      <th>ID</th>\n",
       "      <th>Date</th>\n",
       "      <th>Primary Type</th>\n",
       "      <th>Location Description</th>\n",
       "      <th>Arrest</th>\n",
       "      <th>Domestic</th>\n",
       "      <th>Beat</th>\n",
       "      <th>District</th>\n",
       "      <th>Ward</th>\n",
       "      <th>Year</th>\n",
       "      <th>Latitude</th>\n",
       "      <th>Longitude</th>\n",
       "      <th>Month</th>\n",
       "      <th>Day</th>\n",
       "      <th>Season</th>\n",
       "    </tr>\n",
       "  </thead>\n",
       "  <tbody>\n",
       "    <tr>\n",
       "      <th>0</th>\n",
       "      <td>6407111</td>\n",
       "      <td>2008-07-26 14:30:00</td>\n",
       "      <td>CRIMINAL DAMAGE</td>\n",
       "      <td>STREET</td>\n",
       "      <td>False</td>\n",
       "      <td>False</td>\n",
       "      <td>423</td>\n",
       "      <td>4.0</td>\n",
       "      <td>10.0</td>\n",
       "      <td>2008</td>\n",
       "      <td>41.739980</td>\n",
       "      <td>-87.555120</td>\n",
       "      <td>July</td>\n",
       "      <td>Saturday</td>\n",
       "      <td>Summer</td>\n",
       "    </tr>\n",
       "    <tr>\n",
       "      <th>1</th>\n",
       "      <td>11398199</td>\n",
       "      <td>2018-07-31 10:57:00</td>\n",
       "      <td>WEAPONS VIOLATION</td>\n",
       "      <td>POOL ROOM</td>\n",
       "      <td>True</td>\n",
       "      <td>False</td>\n",
       "      <td>413</td>\n",
       "      <td>4.0</td>\n",
       "      <td>8.0</td>\n",
       "      <td>2018</td>\n",
       "      <td>41.726922</td>\n",
       "      <td>-87.599747</td>\n",
       "      <td>July</td>\n",
       "      <td>Tuesday</td>\n",
       "      <td>Summer</td>\n",
       "    </tr>\n",
       "    <tr>\n",
       "      <th>2</th>\n",
       "      <td>5488785</td>\n",
       "      <td>2007-04-27 10:30:00</td>\n",
       "      <td>BURGLARY</td>\n",
       "      <td>RESIDENCE</td>\n",
       "      <td>True</td>\n",
       "      <td>False</td>\n",
       "      <td>1711</td>\n",
       "      <td>17.0</td>\n",
       "      <td>39.0</td>\n",
       "      <td>2007</td>\n",
       "      <td>41.994138</td>\n",
       "      <td>-87.734959</td>\n",
       "      <td>April</td>\n",
       "      <td>Friday</td>\n",
       "      <td>Spring</td>\n",
       "    </tr>\n",
       "    <tr>\n",
       "      <th>3</th>\n",
       "      <td>11389116</td>\n",
       "      <td>2018-07-23 08:55:00</td>\n",
       "      <td>ASSAULT</td>\n",
       "      <td>NURSING HOME/RETIREMENT HOME</td>\n",
       "      <td>False</td>\n",
       "      <td>False</td>\n",
       "      <td>1115</td>\n",
       "      <td>11.0</td>\n",
       "      <td>28.0</td>\n",
       "      <td>2018</td>\n",
       "      <td>41.881217</td>\n",
       "      <td>-87.730590</td>\n",
       "      <td>July</td>\n",
       "      <td>Monday</td>\n",
       "      <td>Summer</td>\n",
       "    </tr>\n",
       "    <tr>\n",
       "      <th>4</th>\n",
       "      <td>12420431</td>\n",
       "      <td>2021-07-11 06:40:00</td>\n",
       "      <td>ASSAULT</td>\n",
       "      <td>PARKING LOT / GARAGE (NON RESIDENTIAL)</td>\n",
       "      <td>False</td>\n",
       "      <td>False</td>\n",
       "      <td>1231</td>\n",
       "      <td>12.0</td>\n",
       "      <td>27.0</td>\n",
       "      <td>2021</td>\n",
       "      <td>41.874174</td>\n",
       "      <td>-87.668082</td>\n",
       "      <td>July</td>\n",
       "      <td>Sunday</td>\n",
       "      <td>Summer</td>\n",
       "    </tr>\n",
       "  </tbody>\n",
       "</table>\n",
       "</div>"
      ],
      "text/plain": [
       "         ID                Date       Primary Type  \\\n",
       "0   6407111 2008-07-26 14:30:00    CRIMINAL DAMAGE   \n",
       "1  11398199 2018-07-31 10:57:00  WEAPONS VIOLATION   \n",
       "2   5488785 2007-04-27 10:30:00           BURGLARY   \n",
       "3  11389116 2018-07-23 08:55:00            ASSAULT   \n",
       "4  12420431 2021-07-11 06:40:00            ASSAULT   \n",
       "\n",
       "                     Location Description  Arrest  Domestic  Beat District  \\\n",
       "0                                  STREET   False     False   423      4.0   \n",
       "1                               POOL ROOM    True     False   413      4.0   \n",
       "2                               RESIDENCE    True     False  1711     17.0   \n",
       "3            NURSING HOME/RETIREMENT HOME   False     False  1115     11.0   \n",
       "4  PARKING LOT / GARAGE (NON RESIDENTIAL)   False     False  1231     12.0   \n",
       "\n",
       "   Ward  Year   Latitude  Longitude  Month       Day  Season  \n",
       "0  10.0  2008  41.739980 -87.555120   July  Saturday  Summer  \n",
       "1   8.0  2018  41.726922 -87.599747   July   Tuesday  Summer  \n",
       "2  39.0  2007  41.994138 -87.734959  April    Friday  Spring  \n",
       "3  28.0  2018  41.881217 -87.730590   July    Monday  Summer  \n",
       "4  27.0  2021  41.874174 -87.668082   July    Sunday  Summer  "
      ]
     },
     "execution_count": 56,
     "metadata": {},
     "output_type": "execute_result"
    }
   ],
   "source": [
    "chicago_crime_df.head()"
   ]
  },
  {
   "cell_type": "markdown",
   "id": "3d39b673",
   "metadata": {},
   "source": [
    "# 5. Frequency Distribution of Crimes"
   ]
  },
  {
   "cell_type": "markdown",
   "id": "9ec03aab",
   "metadata": {},
   "source": [
    " __Monthly Crime Frequency__"
   ]
  },
  {
   "cell_type": "code",
   "execution_count": 57,
   "id": "1f6b753e",
   "metadata": {
    "ExecuteTime": {
     "end_time": "2024-03-16T20:46:32.839691Z",
     "start_time": "2024-03-16T20:46:29.116952Z"
    }
   },
   "outputs": [
    {
     "ename": "TypeError",
     "evalue": "Only valid with DatetimeIndex, TimedeltaIndex or PeriodIndex, but got an instance of 'Index'",
     "output_type": "error",
     "traceback": [
      "\u001b[1;31m---------------------------------------------------------------------------\u001b[0m",
      "\u001b[1;31mTypeError\u001b[0m                                 Traceback (most recent call last)",
      "Cell \u001b[1;32mIn[57], line 8\u001b[0m\n\u001b[0;32m      5\u001b[0m arrests \u001b[38;5;241m=\u001b[39m chicago_crime_df[chicago_crime_df[\u001b[38;5;124m'\u001b[39m\u001b[38;5;124mArrest\u001b[39m\u001b[38;5;124m'\u001b[39m] \u001b[38;5;241m==\u001b[39m \u001b[38;5;28;01mTrue\u001b[39;00m][\u001b[38;5;124m'\u001b[39m\u001b[38;5;124mArrest\u001b[39m\u001b[38;5;124m'\u001b[39m]\n\u001b[0;32m      7\u001b[0m \u001b[38;5;66;03m#yearly arrest \u001b[39;00m\n\u001b[1;32m----> 8\u001b[0m arrests\u001b[38;5;241m.\u001b[39mresample(\u001b[38;5;124m'\u001b[39m\u001b[38;5;124mA\u001b[39m\u001b[38;5;124m'\u001b[39m)\u001b[38;5;241m.\u001b[39msum()\u001b[38;5;241m.\u001b[39mplot()\n\u001b[0;32m      9\u001b[0m plt\u001b[38;5;241m.\u001b[39mtitle(\u001b[38;5;124m'\u001b[39m\u001b[38;5;124mYearly arrests\u001b[39m\u001b[38;5;124m'\u001b[39m)\n\u001b[0;32m     10\u001b[0m plt\u001b[38;5;241m.\u001b[39mshow()\n",
      "File \u001b[1;32m~\\anaconda3\\Lib\\site-packages\\pandas\\core\\series.py:5719\u001b[0m, in \u001b[0;36mSeries.resample\u001b[1;34m(self, rule, axis, closed, label, convention, kind, on, level, origin, offset, group_keys)\u001b[0m\n\u001b[0;32m   5704\u001b[0m \u001b[38;5;129m@doc\u001b[39m(NDFrame\u001b[38;5;241m.\u001b[39mresample, \u001b[38;5;241m*\u001b[39m\u001b[38;5;241m*\u001b[39m_shared_doc_kwargs)  \u001b[38;5;66;03m# type: ignore[has-type]\u001b[39;00m\n\u001b[0;32m   5705\u001b[0m \u001b[38;5;28;01mdef\u001b[39;00m \u001b[38;5;21mresample\u001b[39m(\n\u001b[0;32m   5706\u001b[0m     \u001b[38;5;28mself\u001b[39m,\n\u001b[1;32m   (...)\u001b[0m\n\u001b[0;32m   5717\u001b[0m     group_keys: \u001b[38;5;28mbool\u001b[39m \u001b[38;5;241m=\u001b[39m \u001b[38;5;28;01mFalse\u001b[39;00m,\n\u001b[0;32m   5718\u001b[0m ) \u001b[38;5;241m-\u001b[39m\u001b[38;5;241m>\u001b[39m Resampler:\n\u001b[1;32m-> 5719\u001b[0m     \u001b[38;5;28;01mreturn\u001b[39;00m \u001b[38;5;28msuper\u001b[39m()\u001b[38;5;241m.\u001b[39mresample(\n\u001b[0;32m   5720\u001b[0m         rule\u001b[38;5;241m=\u001b[39mrule,\n\u001b[0;32m   5721\u001b[0m         axis\u001b[38;5;241m=\u001b[39maxis,\n\u001b[0;32m   5722\u001b[0m         closed\u001b[38;5;241m=\u001b[39mclosed,\n\u001b[0;32m   5723\u001b[0m         label\u001b[38;5;241m=\u001b[39mlabel,\n\u001b[0;32m   5724\u001b[0m         convention\u001b[38;5;241m=\u001b[39mconvention,\n\u001b[0;32m   5725\u001b[0m         kind\u001b[38;5;241m=\u001b[39mkind,\n\u001b[0;32m   5726\u001b[0m         on\u001b[38;5;241m=\u001b[39mon,\n\u001b[0;32m   5727\u001b[0m         level\u001b[38;5;241m=\u001b[39mlevel,\n\u001b[0;32m   5728\u001b[0m         origin\u001b[38;5;241m=\u001b[39morigin,\n\u001b[0;32m   5729\u001b[0m         offset\u001b[38;5;241m=\u001b[39moffset,\n\u001b[0;32m   5730\u001b[0m         group_keys\u001b[38;5;241m=\u001b[39mgroup_keys,\n\u001b[0;32m   5731\u001b[0m     )\n",
      "File \u001b[1;32m~\\anaconda3\\Lib\\site-packages\\pandas\\core\\generic.py:8888\u001b[0m, in \u001b[0;36mNDFrame.resample\u001b[1;34m(self, rule, axis, closed, label, convention, kind, on, level, origin, offset, group_keys)\u001b[0m\n\u001b[0;32m   8885\u001b[0m \u001b[38;5;28;01mfrom\u001b[39;00m \u001b[38;5;21;01mpandas\u001b[39;00m\u001b[38;5;21;01m.\u001b[39;00m\u001b[38;5;21;01mcore\u001b[39;00m\u001b[38;5;21;01m.\u001b[39;00m\u001b[38;5;21;01mresample\u001b[39;00m \u001b[38;5;28;01mimport\u001b[39;00m get_resampler\n\u001b[0;32m   8887\u001b[0m axis \u001b[38;5;241m=\u001b[39m \u001b[38;5;28mself\u001b[39m\u001b[38;5;241m.\u001b[39m_get_axis_number(axis)\n\u001b[1;32m-> 8888\u001b[0m \u001b[38;5;28;01mreturn\u001b[39;00m get_resampler(\n\u001b[0;32m   8889\u001b[0m     cast(\u001b[38;5;124m\"\u001b[39m\u001b[38;5;124mSeries | DataFrame\u001b[39m\u001b[38;5;124m\"\u001b[39m, \u001b[38;5;28mself\u001b[39m),\n\u001b[0;32m   8890\u001b[0m     freq\u001b[38;5;241m=\u001b[39mrule,\n\u001b[0;32m   8891\u001b[0m     label\u001b[38;5;241m=\u001b[39mlabel,\n\u001b[0;32m   8892\u001b[0m     closed\u001b[38;5;241m=\u001b[39mclosed,\n\u001b[0;32m   8893\u001b[0m     axis\u001b[38;5;241m=\u001b[39maxis,\n\u001b[0;32m   8894\u001b[0m     kind\u001b[38;5;241m=\u001b[39mkind,\n\u001b[0;32m   8895\u001b[0m     convention\u001b[38;5;241m=\u001b[39mconvention,\n\u001b[0;32m   8896\u001b[0m     key\u001b[38;5;241m=\u001b[39mon,\n\u001b[0;32m   8897\u001b[0m     level\u001b[38;5;241m=\u001b[39mlevel,\n\u001b[0;32m   8898\u001b[0m     origin\u001b[38;5;241m=\u001b[39morigin,\n\u001b[0;32m   8899\u001b[0m     offset\u001b[38;5;241m=\u001b[39moffset,\n\u001b[0;32m   8900\u001b[0m     group_keys\u001b[38;5;241m=\u001b[39mgroup_keys,\n\u001b[0;32m   8901\u001b[0m )\n",
      "File \u001b[1;32m~\\anaconda3\\Lib\\site-packages\\pandas\\core\\resample.py:1523\u001b[0m, in \u001b[0;36mget_resampler\u001b[1;34m(obj, kind, **kwds)\u001b[0m\n\u001b[0;32m   1519\u001b[0m \u001b[38;5;250m\u001b[39m\u001b[38;5;124;03m\"\"\"\u001b[39;00m\n\u001b[0;32m   1520\u001b[0m \u001b[38;5;124;03mCreate a TimeGrouper and return our resampler.\u001b[39;00m\n\u001b[0;32m   1521\u001b[0m \u001b[38;5;124;03m\"\"\"\u001b[39;00m\n\u001b[0;32m   1522\u001b[0m tg \u001b[38;5;241m=\u001b[39m TimeGrouper(\u001b[38;5;241m*\u001b[39m\u001b[38;5;241m*\u001b[39mkwds)\n\u001b[1;32m-> 1523\u001b[0m \u001b[38;5;28;01mreturn\u001b[39;00m tg\u001b[38;5;241m.\u001b[39m_get_resampler(obj, kind\u001b[38;5;241m=\u001b[39mkind)\n",
      "File \u001b[1;32m~\\anaconda3\\Lib\\site-packages\\pandas\\core\\resample.py:1713\u001b[0m, in \u001b[0;36mTimeGrouper._get_resampler\u001b[1;34m(self, obj, kind)\u001b[0m\n\u001b[0;32m   1704\u001b[0m \u001b[38;5;28;01melif\u001b[39;00m \u001b[38;5;28misinstance\u001b[39m(ax, TimedeltaIndex):\n\u001b[0;32m   1705\u001b[0m     \u001b[38;5;28;01mreturn\u001b[39;00m TimedeltaIndexResampler(\n\u001b[0;32m   1706\u001b[0m         obj,\n\u001b[0;32m   1707\u001b[0m         timegrouper\u001b[38;5;241m=\u001b[39m\u001b[38;5;28mself\u001b[39m,\n\u001b[1;32m   (...)\u001b[0m\n\u001b[0;32m   1710\u001b[0m         gpr_index\u001b[38;5;241m=\u001b[39max,\n\u001b[0;32m   1711\u001b[0m     )\n\u001b[1;32m-> 1713\u001b[0m \u001b[38;5;28;01mraise\u001b[39;00m \u001b[38;5;167;01mTypeError\u001b[39;00m(\n\u001b[0;32m   1714\u001b[0m     \u001b[38;5;124m\"\u001b[39m\u001b[38;5;124mOnly valid with DatetimeIndex, \u001b[39m\u001b[38;5;124m\"\u001b[39m\n\u001b[0;32m   1715\u001b[0m     \u001b[38;5;124m\"\u001b[39m\u001b[38;5;124mTimedeltaIndex or PeriodIndex, \u001b[39m\u001b[38;5;124m\"\u001b[39m\n\u001b[0;32m   1716\u001b[0m     \u001b[38;5;124mf\u001b[39m\u001b[38;5;124m\"\u001b[39m\u001b[38;5;124mbut got an instance of \u001b[39m\u001b[38;5;124m'\u001b[39m\u001b[38;5;132;01m{\u001b[39;00m\u001b[38;5;28mtype\u001b[39m(ax)\u001b[38;5;241m.\u001b[39m\u001b[38;5;18m__name__\u001b[39m\u001b[38;5;132;01m}\u001b[39;00m\u001b[38;5;124m'\u001b[39m\u001b[38;5;124m\"\u001b[39m\n\u001b[0;32m   1717\u001b[0m )\n",
      "\u001b[1;31mTypeError\u001b[0m: Only valid with DatetimeIndex, TimedeltaIndex or PeriodIndex, but got an instance of 'Index'"
     ]
    },
    {
     "data": {
      "image/png": "[encoded data removed]",
      "text/plain": [
       "<Figure size 640x480 with 1 Axes>"
      ]
     },
     "metadata": {},
     "output_type": "display_data"
    }
   ],
   "source": [
    "# show a trend analysis of arrest over years, months and days\n",
    "\n",
    "plt.subplot()\n",
    "\n",
    "arrests = chicago_crime_df[chicago_crime_df['Arrest'] == True]['Arrest']\n",
    "\n",
    "#yearly arrest \n",
    "arrests.resample('A').sum().plot()\n",
    "plt.title('Yearly arrests')\n",
    "plt.show()\n",
    "\n"
   ]
  },
  {
   "cell_type": "code",
   "execution_count": null,
   "id": "a472d223",
   "metadata": {},
   "outputs": [],
   "source": []
  },
  {
   "cell_type": "code",
   "execution_count": null,
   "id": "ae66fbef",
   "metadata": {},
   "outputs": [],
   "source": []
  },
  {
   "cell_type": "code",
   "execution_count": 58,
   "id": "7ddd32e0",
   "metadata": {
    "ExecuteTime": {
     "end_time": "2024-03-16T20:46:34.238086Z",
     "start_time": "2024-03-16T20:46:33.955420Z"
    }
   },
   "outputs": [
    {
     "name": "stdout",
     "output_type": "stream",
     "text": [
      "Month\n",
      "April        187239\n",
      "August       206089\n",
      "December     167906\n",
      "February     158350\n",
      "January      179894\n",
      "July         213452\n",
      "June         204809\n",
      "March        188532\n",
      "May          204425\n",
      "November     176376\n",
      "October      195487\n",
      "September    193278\n",
      "Name: Arrest, dtype: int64\n"
     ]
    }
   ],
   "source": [
    "crime_count_by_month = chicago_crime_df.groupby('Month')['Arrest'].count()\n",
    "print(crime_count_by_month)"
   ]
  },
  {
   "cell_type": "markdown",
   "id": "6fb1709b",
   "metadata": {},
   "source": [
    "__Seasonal Crime Frequency__"
   ]
  },
  {
   "cell_type": "code",
   "execution_count": 59,
   "id": "58826823",
   "metadata": {
    "ExecuteTime": {
     "end_time": "2024-03-16T20:46:36.285349Z",
     "start_time": "2024-03-16T20:46:35.896184Z"
    }
   },
   "outputs": [
    {
     "data": {
      "text/plain": [
       "Season\n",
       "Fall      565141\n",
       "Spring    580196\n",
       "Summer    624350\n",
       "Winter    506150\n",
       "Name: Season, dtype: int64"
      ]
     },
     "execution_count": 59,
     "metadata": {},
     "output_type": "execute_result"
    }
   ],
   "source": [
    "crime_count_by_season = chicago_crime_df.groupby('Season')['Season'].count()\n",
    "crime_count_by_season"
   ]
  },
  {
   "cell_type": "markdown",
   "id": "5d58ff96",
   "metadata": {},
   "source": [
    " __Daily Crime Frequency__"
   ]
  },
  {
   "cell_type": "code",
   "execution_count": 60,
   "id": "2ea9839a",
   "metadata": {
    "ExecuteTime": {
     "end_time": "2024-03-16T20:46:37.393018Z",
     "start_time": "2024-03-16T20:46:37.013846Z"
    }
   },
   "outputs": [
    {
     "name": "stdout",
     "output_type": "stream",
     "text": [
      "Day\n",
      "Friday       342109\n",
      "Monday       321298\n",
      "Saturday     326139\n",
      "Sunday       309264\n",
      "Thursday     323885\n",
      "Tuesday      325467\n",
      "Wednesday    327675\n",
      "Name: Day, dtype: int64\n"
     ]
    }
   ],
   "source": [
    "crime_count_per_day = chicago_crime_df.groupby('Day')['Day'].count()\n",
    "print(crime_count_per_day)"
   ]
  },
  {
   "cell_type": "code",
   "execution_count": 61,
   "id": "900a391c",
   "metadata": {
    "ExecuteTime": {
     "end_time": "2024-03-16T20:46:58.032335Z",
     "start_time": "2024-03-16T20:46:37.883702Z"
    }
   },
   "outputs": [
    {
     "name": "stderr",
     "output_type": "stream",
     "text": [
      "C:\\Users\\I\\anaconda3\\Lib\\site-packages\\seaborn\\axisgrid.py:118: UserWarning: The figure layout has changed to tight\n",
      "  self._figure.tight_layout(*args, **kwargs)\n"
     ]
    },
    {
     "data": {
      "text/plain": [
       "<seaborn.axisgrid.FacetGrid at 0x1f281b09650>"
      ]
     },
     "execution_count": 61,
     "metadata": {},
     "output_type": "execute_result"
    },
    {
     "data": {
      "image/png": "[encoded data removed]",
      "text/plain": [
       "<Figure size 584.875x500 with 1 Axes>"
      ]
     },
     "metadata": {},
     "output_type": "display_data"
    }
   ],
   "source": [
    "# Frequency of arrests for each day\n",
    "\n",
    "sns.catplot(\n",
    "    data=chicago_crime_df, y=\"Day\", hue=\"Arrest\", kind=\"count\",\n",
    "    palette=\"pastel\", legend=True, edgecolor=\".6\",\n",
    ")"
   ]
  },
  {
   "cell_type": "code",
   "execution_count": 62,
   "id": "daaa76b4",
   "metadata": {
    "ExecuteTime": {
     "end_time": "2024-03-16T20:46:58.750575Z",
     "start_time": "2024-03-16T20:46:58.110557Z"
    }
   },
   "outputs": [
    {
     "data": {
      "text/plain": [
       "Location Description\n",
       "STREET                            590954\n",
       "RESIDENCE                         384471\n",
       "APARTMENT                         253115\n",
       "SIDEWALK                          216275\n",
       "OTHER                              81243\n",
       "PARKING LOT/GARAGE(NON.RESID.)     61109\n",
       "ALLEY                              50652\n",
       "SCHOOL, PUBLIC, BUILDING           43678\n",
       "SMALL RETAIL STORE                 42803\n",
       "RESIDENCE-GARAGE                   40478\n",
       "RESIDENCE PORCH/HALLWAY            37178\n",
       "RESTAURANT                         37078\n",
       "VEHICLE NON-COMMERCIAL             36380\n",
       "GROCERY FOOD STORE                 29030\n",
       "DEPARTMENT STORE                   28605\n",
       "GAS STATION                        25220\n",
       "RESIDENTIAL YARD (FRONT/BACK)      22562\n",
       "COMMERCIAL / BUSINESS OFFICE       17251\n",
       "PARK PROPERTY                      17229\n",
       "CHA PARKING LOT/GROUNDS            16899\n",
       "Name: Primary Type, dtype: int64"
      ]
     },
     "execution_count": 62,
     "metadata": {},
     "output_type": "execute_result"
    }
   ],
   "source": [
    "#Location with the most crime\n",
    "\n",
    "chicago_crime_df.groupby('Location Description')['Primary Type'].size().sort_values(ascending=False).head(20)"
   ]
  },
  {
   "cell_type": "markdown",
   "id": "3bd61a94",
   "metadata": {},
   "source": [
    "# 6. Visualize Data Distribution"
   ]
  },
  {
   "cell_type": "code",
   "execution_count": 63,
   "id": "566b36e6",
   "metadata": {
    "ExecuteTime": {
     "end_time": "2024-03-16T20:46:59.013661Z",
     "start_time": "2024-03-16T20:46:58.836548Z"
    }
   },
   "outputs": [],
   "source": [
    "import matplotlib.pyplot as plt\n",
    "import seaborn as sns\n",
    "%matplotlib inline"
   ]
  },
  {
   "cell_type": "code",
   "execution_count": 64,
   "id": "32104a09",
   "metadata": {
    "ExecuteTime": {
     "end_time": "2024-03-16T20:47:03.129800Z",
     "start_time": "2024-03-16T20:46:59.097253Z"
    }
   },
   "outputs": [
    {
     "data": {
      "text/plain": [
       "Text(0.5, 1.0, 'Distribution of Crime Types')"
      ]
     },
     "execution_count": 64,
     "metadata": {},
     "output_type": "execute_result"
    },
    {
     "data": {
      "image/png": "[encoded data removed]",
      "text/plain": [
       "<Figure size 1200x600 with 1 Axes>"
      ]
     },
     "metadata": {},
     "output_type": "display_data"
    }
   ],
   "source": [
    "# Visualize the distribution of crime types\n",
    "plt.figure(figsize=(12, 6))\n",
    "sns.countplot(data=chicago_crime_df, x='Primary Type')\n",
    "plt.xticks(rotation=90)\n",
    "plt.title('Distribution of Crime Types')"
   ]
  },
  {
   "cell_type": "code",
   "execution_count": null,
   "id": "fab27bdf",
   "metadata": {},
   "outputs": [],
   "source": []
  },
  {
   "cell_type": "markdown",
   "id": "37f590ac",
   "metadata": {},
   "source": [
    "# 6. Investigate Relationships"
   ]
  },
  {
   "cell_type": "code",
   "execution_count": 65,
   "id": "34115f72",
   "metadata": {
    "ExecuteTime": {
     "end_time": "2024-03-16T20:47:04.365994Z",
     "start_time": "2024-03-16T20:47:03.214493Z"
    }
   },
   "outputs": [
    {
     "ename": "ValueError",
     "evalue": "could not convert string to float: 'CRIMINAL DAMAGE'",
     "output_type": "error",
     "traceback": [
      "\u001b[1;31m---------------------------------------------------------------------------\u001b[0m",
      "\u001b[1;31mValueError\u001b[0m                                Traceback (most recent call last)",
      "Cell \u001b[1;32mIn[65], line 1\u001b[0m\n\u001b[1;32m----> 1\u001b[0m chicago_crime_df\u001b[38;5;241m.\u001b[39mcorr()\n",
      "File \u001b[1;32m~\\anaconda3\\Lib\\site-packages\\pandas\\core\\frame.py:10054\u001b[0m, in \u001b[0;36mDataFrame.corr\u001b[1;34m(self, method, min_periods, numeric_only)\u001b[0m\n\u001b[0;32m  10052\u001b[0m cols \u001b[38;5;241m=\u001b[39m data\u001b[38;5;241m.\u001b[39mcolumns\n\u001b[0;32m  10053\u001b[0m idx \u001b[38;5;241m=\u001b[39m cols\u001b[38;5;241m.\u001b[39mcopy()\n\u001b[1;32m> 10054\u001b[0m mat \u001b[38;5;241m=\u001b[39m data\u001b[38;5;241m.\u001b[39mto_numpy(dtype\u001b[38;5;241m=\u001b[39m\u001b[38;5;28mfloat\u001b[39m, na_value\u001b[38;5;241m=\u001b[39mnp\u001b[38;5;241m.\u001b[39mnan, copy\u001b[38;5;241m=\u001b[39m\u001b[38;5;28;01mFalse\u001b[39;00m)\n\u001b[0;32m  10056\u001b[0m \u001b[38;5;28;01mif\u001b[39;00m method \u001b[38;5;241m==\u001b[39m \u001b[38;5;124m\"\u001b[39m\u001b[38;5;124mpearson\u001b[39m\u001b[38;5;124m\"\u001b[39m:\n\u001b[0;32m  10057\u001b[0m     correl \u001b[38;5;241m=\u001b[39m libalgos\u001b[38;5;241m.\u001b[39mnancorr(mat, minp\u001b[38;5;241m=\u001b[39mmin_periods)\n",
      "File \u001b[1;32m~\\anaconda3\\Lib\\site-packages\\pandas\\core\\frame.py:1838\u001b[0m, in \u001b[0;36mDataFrame.to_numpy\u001b[1;34m(self, dtype, copy, na_value)\u001b[0m\n\u001b[0;32m   1836\u001b[0m \u001b[38;5;28;01mif\u001b[39;00m dtype \u001b[38;5;129;01mis\u001b[39;00m \u001b[38;5;129;01mnot\u001b[39;00m \u001b[38;5;28;01mNone\u001b[39;00m:\n\u001b[0;32m   1837\u001b[0m     dtype \u001b[38;5;241m=\u001b[39m np\u001b[38;5;241m.\u001b[39mdtype(dtype)\n\u001b[1;32m-> 1838\u001b[0m result \u001b[38;5;241m=\u001b[39m \u001b[38;5;28mself\u001b[39m\u001b[38;5;241m.\u001b[39m_mgr\u001b[38;5;241m.\u001b[39mas_array(dtype\u001b[38;5;241m=\u001b[39mdtype, copy\u001b[38;5;241m=\u001b[39mcopy, na_value\u001b[38;5;241m=\u001b[39mna_value)\n\u001b[0;32m   1839\u001b[0m \u001b[38;5;28;01mif\u001b[39;00m result\u001b[38;5;241m.\u001b[39mdtype \u001b[38;5;129;01mis\u001b[39;00m \u001b[38;5;129;01mnot\u001b[39;00m dtype:\n\u001b[0;32m   1840\u001b[0m     result \u001b[38;5;241m=\u001b[39m np\u001b[38;5;241m.\u001b[39marray(result, dtype\u001b[38;5;241m=\u001b[39mdtype, copy\u001b[38;5;241m=\u001b[39m\u001b[38;5;28;01mFalse\u001b[39;00m)\n",
      "File \u001b[1;32m~\\anaconda3\\Lib\\site-packages\\pandas\\core\\internals\\managers.py:1732\u001b[0m, in \u001b[0;36mBlockManager.as_array\u001b[1;34m(self, dtype, copy, na_value)\u001b[0m\n\u001b[0;32m   1730\u001b[0m         arr\u001b[38;5;241m.\u001b[39mflags\u001b[38;5;241m.\u001b[39mwriteable \u001b[38;5;241m=\u001b[39m \u001b[38;5;28;01mFalse\u001b[39;00m\n\u001b[0;32m   1731\u001b[0m \u001b[38;5;28;01melse\u001b[39;00m:\n\u001b[1;32m-> 1732\u001b[0m     arr \u001b[38;5;241m=\u001b[39m \u001b[38;5;28mself\u001b[39m\u001b[38;5;241m.\u001b[39m_interleave(dtype\u001b[38;5;241m=\u001b[39mdtype, na_value\u001b[38;5;241m=\u001b[39mna_value)\n\u001b[0;32m   1733\u001b[0m     \u001b[38;5;66;03m# The underlying data was copied within _interleave, so no need\u001b[39;00m\n\u001b[0;32m   1734\u001b[0m     \u001b[38;5;66;03m# to further copy if copy=True or setting na_value\u001b[39;00m\n\u001b[0;32m   1736\u001b[0m \u001b[38;5;28;01mif\u001b[39;00m na_value \u001b[38;5;129;01mis\u001b[39;00m \u001b[38;5;129;01mnot\u001b[39;00m lib\u001b[38;5;241m.\u001b[39mno_default:\n",
      "File \u001b[1;32m~\\anaconda3\\Lib\\site-packages\\pandas\\core\\internals\\managers.py:1794\u001b[0m, in \u001b[0;36mBlockManager._interleave\u001b[1;34m(self, dtype, na_value)\u001b[0m\n\u001b[0;32m   1792\u001b[0m     \u001b[38;5;28;01melse\u001b[39;00m:\n\u001b[0;32m   1793\u001b[0m         arr \u001b[38;5;241m=\u001b[39m blk\u001b[38;5;241m.\u001b[39mget_values(dtype)\n\u001b[1;32m-> 1794\u001b[0m     result[rl\u001b[38;5;241m.\u001b[39mindexer] \u001b[38;5;241m=\u001b[39m arr\n\u001b[0;32m   1795\u001b[0m     itemmask[rl\u001b[38;5;241m.\u001b[39mindexer] \u001b[38;5;241m=\u001b[39m \u001b[38;5;241m1\u001b[39m\n\u001b[0;32m   1797\u001b[0m \u001b[38;5;28;01mif\u001b[39;00m \u001b[38;5;129;01mnot\u001b[39;00m itemmask\u001b[38;5;241m.\u001b[39mall():\n",
      "\u001b[1;31mValueError\u001b[0m: could not convert string to float: 'CRIMINAL DAMAGE'"
     ]
    }
   ],
   "source": [
    "chicago_crime_df.corr()"
   ]
  },
  {
   "cell_type": "code",
   "execution_count": null,
   "id": "3bc57fa8",
   "metadata": {
    "ExecuteTime": {
     "end_time": "2024-03-16T20:47:04.365994Z",
     "start_time": "2024-03-16T20:47:04.365994Z"
    }
   },
   "outputs": [],
   "source": [
    "heatmap = sns.heatmap(chicago_crime_df.corr(), vmin=-1, annot=True)\n",
    "heatmap.set_title('Chicago Crime Correlation', fontdict={'fontsize':14}, pad=10)\n",
    "\n",
    "# i can infer the relationship between the districts and the ward"
   ]
  },
  {
   "cell_type": "code",
   "execution_count": null,
   "id": "6a8f2a26",
   "metadata": {
    "ExecuteTime": {
     "end_time": "2024-03-16T20:47:04.381624Z",
     "start_time": "2024-03-16T20:47:04.381624Z"
    }
   },
   "outputs": [],
   "source": [
    "# Investigate Relationships\n",
    "# Explore the relationship between crime location and crime type\n",
    "plt.figure(figsize=(12, 6))\n",
    "sns.scatterplot(data=chicago_crime_df, x='Longitude', y='Latitude', hue='Primary Type', alpha=0.5)\n",
    "plt.title('Crime Location by Type')\n",
    "plt.xlabel('Longitude')\n",
    "plt.ylabel('Latitude')"
   ]
  },
  {
   "cell_type": "markdown",
   "id": "5d889458",
   "metadata": {},
   "source": [
    "# 7. Investigate Crime Types"
   ]
  },
  {
   "cell_type": "code",
   "execution_count": null,
   "id": "cb9bad1b",
   "metadata": {},
   "outputs": [],
   "source": []
  },
  {
   "cell_type": "markdown",
   "id": "21967a8e",
   "metadata": {},
   "source": [
    "# 8. Examine Crime Locations"
   ]
  },
  {
   "cell_type": "code",
   "execution_count": null,
   "id": "3567de5d",
   "metadata": {},
   "outputs": [],
   "source": []
  },
  {
   "cell_type": "markdown",
   "id": "5a5c3518",
   "metadata": {},
   "source": [
    "# 9. Identify Hotspots"
   ]
  },
  {
   "cell_type": "code",
   "execution_count": null,
   "id": "e64b8d72",
   "metadata": {},
   "outputs": [],
   "source": []
  },
  {
   "cell_type": "markdown",
   "id": "681b6774",
   "metadata": {},
   "source": [
    "# 10. Detect Seasonal Patterns"
   ]
  },
  {
   "cell_type": "code",
   "execution_count": null,
   "id": "51b15339",
   "metadata": {},
   "outputs": [],
   "source": []
  },
  {
   "cell_type": "markdown",
   "id": "4dde1d59",
   "metadata": {},
   "source": [
    "# 11. Compare Crime Rates"
   ]
  },
  {
   "cell_type": "code",
   "execution_count": null,
   "id": "c3a8d034",
   "metadata": {},
   "outputs": [],
   "source": []
  },
  {
   "cell_type": "markdown",
   "id": "7dc09827",
   "metadata": {},
   "source": [
    "# 12. Summarize and Visualize Insights"
   ]
  },
  {
   "cell_type": "code",
   "execution_count": null,
   "id": "06a9bffe",
   "metadata": {},
   "outputs": [],
   "source": []
  }
 ],
 "metadata": {
  "kernelspec": {
   "display_name": "Python 3 (ipykernel)",
   "language": "python",
   "name": "python3"
  },
  "language_info": {
   "codemirror_mode": {
    "name": "ipython",
    "version": 3
   },
   "file_extension": ".py",
   "mimetype": "text/x-python",
   "name": "python",
   "nbconvert_exporter": "python",
   "pygments_lexer": "ipython3",
   "version": "3.11.5"
  },
  "toc": {
   "base_numbering": 1,
   "nav_menu": {},
   "number_sections": true,
   "sideBar": true,
   "skip_h1_title": false,
   "title_cell": "Table of Contents",
   "title_sidebar": "Contents",
   "toc_cell": false,
   "toc_position": {},
   "toc_section_display": true,
   "toc_window_display": false
  },
  "varInspector": {
   "cols": {
    "lenName": 16,
    "lenType": 16,
    "lenVar": 40
   },
   "kernels_config": {
    "python": {
     "delete_cmd_postfix": "",
     "delete_cmd_prefix": "del ",
     "library": "var_list.py",
     "varRefreshCmd": "print(var_dic_list())"
    },
    "r": {
     "delete_cmd_postfix": ") ",
     "delete_cmd_prefix": "rm(",
     "library": "var_list.r",
     "varRefreshCmd": "cat(var_dic_list()) "
    }
   },
   "types_to_exclude": [
    "module",
    "function",
    "builtin_function_or_method",
    "instance",
    "_Feature"
   ],
   "window_display": false
  }
 },
 "nbformat": 4,
 "nbformat_minor": 5
}
